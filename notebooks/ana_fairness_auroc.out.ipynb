{
 "cells": [
  {
   "cell_type": "markdown",
   "metadata": {},
   "source": [
    "# Algorithmic Fairness\n",
    "\n",
    "Gaylen Fronk & Kendra Wyant  \n",
    "January 15, 2025\n",
    "\n",
    "### Set Up Environment"
   ],
   "id": "ae8d8be7-b69c-41b6-89e2-96ffc7031b9b"
  },
  {
   "cell_type": "code",
   "execution_count": null,
   "metadata": {},
   "outputs": [],
   "source": [
    "study <- \"match\"\n",
    "version <- \"v6\"\n",
    "cv <- \"nested\"\n",
    "y_col_name <- \"pp_hybrid_wk4_outcome\"\n"
   ],
   "id": "b19001cc-1802-4aa7-9f01-bad2511d92cd"
  },
  {
   "cell_type": "markdown",
   "metadata": {},
   "source": [
    "Packages for script"
   ],
   "id": "4694ec96-162e-4dc2-aefb-d34df16965e9"
  },
  {
   "cell_type": "code",
   "execution_count": null,
   "metadata": {},
   "outputs": [
    {
     "output_type": "stream",
     "name": "stderr",
     "text": [
      "── Attaching core tidyverse packages ──────────────────────── tidyverse 2.0.0 ──\n",
      "✔ dplyr     1.1.4     ✔ readr     2.1.5\n",
      "✔ forcats   1.0.0     ✔ stringr   1.5.1\n",
      "✔ ggplot2   3.5.1     ✔ tibble    3.2.1\n",
      "✔ lubridate 1.9.3     ✔ tidyr     1.3.1\n",
      "✔ purrr     1.0.2     \n",
      "── Conflicts ────────────────────────────────────────── tidyverse_conflicts() ──\n",
      "✖ dplyr::filter() masks stats::filter()\n",
      "✖ dplyr::lag()    masks stats::lag()\n",
      "ℹ Use the conflicted package (<http://conflicted.r-lib.org/>) to force all conflicts to become errors"
     ]
    },
    {
     "output_type": "stream",
     "name": "stderr",
     "text": [
      "── Attaching packages ────────────────────────────────────── tidymodels 1.2.0 ──\n",
      "✔ broom        1.0.7     ✔ rsample      1.2.1\n",
      "✔ dials        1.3.0     ✔ tune         1.2.1\n",
      "✔ infer        1.0.7     ✔ workflows    1.1.4\n",
      "✔ modeldata    1.4.0     ✔ workflowsets 1.1.0\n",
      "✔ parsnip      1.2.1     ✔ yardstick    1.3.1\n",
      "✔ recipes      1.1.0     \n",
      "── Conflicts ───────────────────────────────────────── tidymodels_conflicts() ──\n",
      "✖ scales::discard() masks purrr::discard()\n",
      "✖ dplyr::filter()   masks stats::filter()\n",
      "✖ recipes::fixed()  masks stringr::fixed()\n",
      "✖ dplyr::lag()      masks stats::lag()\n",
      "✖ yardstick::spec() masks readr::spec()\n",
      "✖ recipes::step()   masks stats::step()\n",
      "• Search for functions across packages at https://www.tidymodels.org/find/"
     ]
    }
   ],
   "source": [
    "library(tidyposterior)\n",
    "library(tidyverse)\n"
   ],
   "id": "d23273c9-ea81-43ba-8e92-0f6f1870589c"
  },
  {
   "cell_type": "markdown",
   "metadata": {},
   "source": [
    "Absolute paths"
   ],
   "id": "69e961a1-eb49-4915-a549-16caf17afa27"
  },
  {
   "cell_type": "code",
   "execution_count": null,
   "metadata": {},
   "outputs": [
    {
     "output_type": "stream",
     "name": "stderr",
     "text": [
      "ℹ SHA-1 hash of file is \"a58e57da996d1b70bb9a5b58241325d6fd78890f\""
     ]
    }
   ],
   "source": [
    "devtools::source_url(\"https://github.com/jjcurtin/lab_support/blob/main/format_path.R?raw=true\")\n"
   ],
   "id": "a3e04877-336a-464f-ba8a-c05a74639814"
  },
  {
   "cell_type": "markdown",
   "metadata": {},
   "source": [
    "Chunk Defaults"
   ],
   "id": "35fd5bf5-6e8c-443f-b7bc-0017539dcbb8"
  },
  {
   "cell_type": "code",
   "execution_count": null,
   "metadata": {},
   "outputs": [],
   "source": [
    "knitr::opts_chunk$set(attr.output='style=\"max-height: 500px;\"')\n",
    "\n",
    "options(tibble.width = Inf)\n",
    "options(tibble.print_max = Inf)\n"
   ],
   "id": "4022111e-854a-4020-961b-554669273a39"
  },
  {
   "cell_type": "markdown",
   "metadata": {},
   "source": [
    "Source"
   ],
   "id": "8acce2c2-e2e3-4cf6-85b5-8ae8d6087f4d"
  },
  {
   "cell_type": "code",
   "execution_count": null,
   "metadata": {},
   "outputs": [
    {
     "output_type": "stream",
     "name": "stderr",
     "text": [
      "ℹ SHA-1 hash of file is \"c045eee2655a18dc85e715b78182f176327358a7\""
     ]
    }
   ],
   "source": [
    "# EDA\n",
    "devtools::source_url(\"https://github.com/jjcurtin/lab_support/blob/main/fun_eda.R?raw=true\")\n"
   ],
   "id": "746ea5d2-d465-48e1-800f-25220c3fc5fb"
  },
  {
   "cell_type": "markdown",
   "metadata": {},
   "source": [
    "### Read in preds and metrics for best model"
   ],
   "id": "fe624966-3a02-491a-bd25-aefcc1d62ec2"
  },
  {
   "cell_type": "code",
   "execution_count": null,
   "metadata": {},
   "outputs": [
    {
     "output_type": "stream",
     "name": "stdout",
     "text": [
      "Rows: 30\n",
      "Columns: 8\n",
      "$ Female               <dbl> 0.5783251, 0.7061404, 0.6829268, 0.5608696, 0.760…\n",
      "$ Male                 <dbl> 0.6911765, 0.7551669, 0.7989510, 0.7280702, 0.704…\n",
      "$ `Not White`          <dbl> 0.7777778, 0.6969697, 0.7098214, 0.7163636, 0.795…\n",
      "$ `White/Non-Hispanic` <dbl> 0.5805322, 0.6601562, 0.6696833, 0.6434109, 0.617…\n",
      "$ `Above Poverty Line` <dbl> 0.5508658, 0.7037500, 0.7365591, 0.6637081, 0.673…\n",
      "$ `Below Poverty Line` <dbl> 0.7250000, 0.6756757, 0.7138047, 0.7600000, 0.791…\n",
      "$ repeat_num           <chr> \"repeat1\", \"repeat1\", \"repeat1\", \"repeat1\", \"repe…\n",
      "$ fold_num             <chr> \"fold1\", \"fold2\", \"fold3\", \"fold4\", \"fold5\", \"fol…"
     ]
    }
   ],
   "source": [
    "auroc_dem <- read_csv(file.path(path_models,\n",
    "                          str_c(\"pp_hybrid_wk4_outcome/\", \"auroc_dem_\", \n",
    "                                version, \"_\", cv, \".csv\")),\n",
    "                      show_col_types = FALSE) |> \n",
    "  arrange(outer_split_num) |> \n",
    "  mutate(repeat_num = rep(str_c(\"repeat\", 1:3), each = 10),\n",
    "         fold_num = rep(str_c(\"fold\", 1:10), 3)) |>   # assumes 3x10 fold\n",
    "  select(-outer_split_num) |> \n",
    "  glimpse()\n"
   ],
   "id": "f32f6862-0315-44ce-9ea1-f328ab760211"
  },
  {
   "cell_type": "markdown",
   "metadata": {},
   "source": [
    "### Get Median Posterior Probabilities and contrast analyses\n",
    "\n",
    "function"
   ],
   "id": "f5b04b10-a432-4930-9f3e-7166e3abeee3"
  },
  {
   "cell_type": "code",
   "execution_count": null,
   "metadata": {},
   "outputs": [],
   "source": [
    "calc_pp <- function (data, dem_var) {\n",
    "  \n",
    "  if (dem_var == \"sex\") {\n",
    "    data <- data |> \n",
    "      select(id = repeat_num, id2 = fold_num, Female, Male)\n",
    "  } else if (dem_var == \"income\") {\n",
    "    data <- data |> \n",
    "      select(id = repeat_num, id2 = fold_num, `Below Poverty Line`, `Above Poverty Line`)\n",
    "  } else if (dem_var == \"race_ethnicity\") {\n",
    "    data <- data |> \n",
    "      select(id = repeat_num, id2 = fold_num, `Not White`, `White/Non-Hispanic`)\n",
    "  } else {\n",
    "    stop(dem_var, \" not in data\")\n",
    "  }\n",
    "  \n",
    "  set.seed(101)\n",
    "  pp <- data |> \n",
    "    perf_mod(formula = statistic ~ model + (1 | id2/id),\n",
    "             transform = tidyposterior::logit_trans,  \n",
    "             iter = 2000, chains = 4,  \n",
    "             adapt_delta = .99,\n",
    "             family = gaussian) \n",
    "\n",
    "  pp_tidy <- pp |> \n",
    "    tidy(seed = 123)\n",
    "\n",
    "  q = c(.025, .5, .975)\n",
    "  ci <- pp_tidy |> \n",
    "    group_by(model) |> \n",
    "    summarize(pp_median = quantile(posterior, probs = q[2]),\n",
    "              pp_lower = quantile(posterior, probs = q[1]), \n",
    "              pp_upper = quantile(posterior, probs = q[3]))  |> \n",
    "    arrange(model)\n",
    "  \n",
    "  \n",
    "  contrast_lists <- \n",
    "    if (dem_var == \"sex\") {\n",
    "    c(list(\"Male\"), list(\"Female\"))\n",
    "  } else if (dem_var == \"income\") {\n",
    "    c(list(\"Above Poverty Line\"), list(\"Below Poverty Line\"))\n",
    "  } else if (dem_var == \"race_ethnicity\") {\n",
    "    c(list(\"White/Non-Hispanic\"), list(\"Not White\"))\n",
    "  } else {\n",
    "    stop(dem_var, \" not in data\")\n",
    "  }\n",
    "      \n",
    "  ci_contrast <- pp |>\n",
    "    contrast_models(contrast_lists[1],  contrast_lists[2]) |> \n",
    "  summary(size = 0) \n",
    "  \n",
    "  ci_median_contrast <- pp |> \n",
    "    contrast_models(contrast_lists[1],  contrast_lists[2]) |>  \n",
    "    group_by(contrast) |> \n",
    "    summarize(median = quantile(difference, .5)) |> \n",
    "    mutate(contrast = str_remove(contrast, \"\\\\.\"))\n",
    "\n",
    "\n",
    "ci_contrast <- ci_contrast |> \n",
    "    left_join(ci_median_contrast, by = c(\"contrast\")) |> \n",
    "    select(contrast, probability, median, lower, upper) \n",
    "  \n",
    "  list(ci = ci, ci_contrast = ci_contrast)\n",
    "}\n"
   ],
   "id": "26e27825-f042-4cd2-8584-d55ef7871c96"
  },
  {
   "cell_type": "markdown",
   "metadata": {},
   "source": [
    "Sex"
   ],
   "id": "80efa045-2030-4a30-bc51-59723701806f"
  },
  {
   "cell_type": "code",
   "execution_count": null,
   "metadata": {},
   "outputs": [
    {
     "output_type": "stream",
     "name": "stdout",
     "text": [
      "\n",
      "SAMPLING FOR MODEL 'continuous' NOW (CHAIN 1).\n",
      "Chain 1: \n",
      "Chain 1: Gradient evaluation took 0.000103 seconds\n",
      "Chain 1: 1000 transitions using 10 leapfrog steps per transition would take 1.03 seconds.\n",
      "Chain 1: Adjust your expectations accordingly!\n",
      "Chain 1: \n",
      "Chain 1: \n",
      "Chain 1: Iteration:    1 / 2000 [  0%]  (Warmup)\n",
      "Chain 1: Iteration:  200 / 2000 [ 10%]  (Warmup)\n",
      "Chain 1: Iteration:  400 / 2000 [ 20%]  (Warmup)\n",
      "Chain 1: Iteration:  600 / 2000 [ 30%]  (Warmup)\n",
      "Chain 1: Iteration:  800 / 2000 [ 40%]  (Warmup)\n",
      "Chain 1: Iteration: 1000 / 2000 [ 50%]  (Warmup)\n",
      "Chain 1: Iteration: 1001 / 2000 [ 50%]  (Sampling)\n",
      "Chain 1: Iteration: 1200 / 2000 [ 60%]  (Sampling)\n",
      "Chain 1: Iteration: 1400 / 2000 [ 70%]  (Sampling)\n",
      "Chain 1: Iteration: 1600 / 2000 [ 80%]  (Sampling)\n",
      "Chain 1: Iteration: 1800 / 2000 [ 90%]  (Sampling)\n",
      "Chain 1: Iteration: 2000 / 2000 [100%]  (Sampling)\n",
      "Chain 1: \n",
      "Chain 1:  Elapsed Time: 0.903 seconds (Warm-up)\n",
      "Chain 1:                0.319 seconds (Sampling)\n",
      "Chain 1:                1.222 seconds (Total)\n",
      "Chain 1: \n",
      "\n",
      "SAMPLING FOR MODEL 'continuous' NOW (CHAIN 2).\n",
      "Chain 2: \n",
      "Chain 2: Gradient evaluation took 1.9e-05 seconds\n",
      "Chain 2: 1000 transitions using 10 leapfrog steps per transition would take 0.19 seconds.\n",
      "Chain 2: Adjust your expectations accordingly!\n",
      "Chain 2: \n",
      "Chain 2: \n",
      "Chain 2: Iteration:    1 / 2000 [  0%]  (Warmup)\n",
      "Chain 2: Iteration:  200 / 2000 [ 10%]  (Warmup)\n",
      "Chain 2: Iteration:  400 / 2000 [ 20%]  (Warmup)\n",
      "Chain 2: Iteration:  600 / 2000 [ 30%]  (Warmup)\n",
      "Chain 2: Iteration:  800 / 2000 [ 40%]  (Warmup)\n",
      "Chain 2: Iteration: 1000 / 2000 [ 50%]  (Warmup)\n",
      "Chain 2: Iteration: 1001 / 2000 [ 50%]  (Sampling)\n",
      "Chain 2: Iteration: 1200 / 2000 [ 60%]  (Sampling)\n",
      "Chain 2: Iteration: 1400 / 2000 [ 70%]  (Sampling)\n",
      "Chain 2: Iteration: 1600 / 2000 [ 80%]  (Sampling)\n",
      "Chain 2: Iteration: 1800 / 2000 [ 90%]  (Sampling)\n",
      "Chain 2: Iteration: 2000 / 2000 [100%]  (Sampling)\n",
      "Chain 2: \n",
      "Chain 2:  Elapsed Time: 0.515 seconds (Warm-up)\n",
      "Chain 2:                0.328 seconds (Sampling)\n",
      "Chain 2:                0.843 seconds (Total)\n",
      "Chain 2: \n",
      "\n",
      "SAMPLING FOR MODEL 'continuous' NOW (CHAIN 3).\n",
      "Chain 3: \n",
      "Chain 3: Gradient evaluation took 1.8e-05 seconds\n",
      "Chain 3: 1000 transitions using 10 leapfrog steps per transition would take 0.18 seconds.\n",
      "Chain 3: Adjust your expectations accordingly!\n",
      "Chain 3: \n",
      "Chain 3: \n",
      "Chain 3: Iteration:    1 / 2000 [  0%]  (Warmup)\n",
      "Chain 3: Iteration:  200 / 2000 [ 10%]  (Warmup)\n",
      "Chain 3: Iteration:  400 / 2000 [ 20%]  (Warmup)\n",
      "Chain 3: Iteration:  600 / 2000 [ 30%]  (Warmup)\n",
      "Chain 3: Iteration:  800 / 2000 [ 40%]  (Warmup)\n",
      "Chain 3: Iteration: 1000 / 2000 [ 50%]  (Warmup)\n",
      "Chain 3: Iteration: 1001 / 2000 [ 50%]  (Sampling)\n",
      "Chain 3: Iteration: 1200 / 2000 [ 60%]  (Sampling)\n",
      "Chain 3: Iteration: 1400 / 2000 [ 70%]  (Sampling)\n",
      "Chain 3: Iteration: 1600 / 2000 [ 80%]  (Sampling)\n",
      "Chain 3: Iteration: 1800 / 2000 [ 90%]  (Sampling)\n",
      "Chain 3: Iteration: 2000 / 2000 [100%]  (Sampling)\n",
      "Chain 3: \n",
      "Chain 3:  Elapsed Time: 0.54 seconds (Warm-up)\n",
      "Chain 3:                0.454 seconds (Sampling)\n",
      "Chain 3:                0.994 seconds (Total)\n",
      "Chain 3: \n",
      "\n",
      "SAMPLING FOR MODEL 'continuous' NOW (CHAIN 4).\n",
      "Chain 4: \n",
      "Chain 4: Gradient evaluation took 2.1e-05 seconds\n",
      "Chain 4: 1000 transitions using 10 leapfrog steps per transition would take 0.21 seconds.\n",
      "Chain 4: Adjust your expectations accordingly!\n",
      "Chain 4: \n",
      "Chain 4: \n",
      "Chain 4: Iteration:    1 / 2000 [  0%]  (Warmup)\n",
      "Chain 4: Iteration:  200 / 2000 [ 10%]  (Warmup)\n",
      "Chain 4: Iteration:  400 / 2000 [ 20%]  (Warmup)\n",
      "Chain 4: Iteration:  600 / 2000 [ 30%]  (Warmup)\n",
      "Chain 4: Iteration:  800 / 2000 [ 40%]  (Warmup)\n",
      "Chain 4: Iteration: 1000 / 2000 [ 50%]  (Warmup)\n",
      "Chain 4: Iteration: 1001 / 2000 [ 50%]  (Sampling)\n",
      "Chain 4: Iteration: 1200 / 2000 [ 60%]  (Sampling)\n",
      "Chain 4: Iteration: 1400 / 2000 [ 70%]  (Sampling)\n",
      "Chain 4: Iteration: 1600 / 2000 [ 80%]  (Sampling)\n",
      "Chain 4: Iteration: 1800 / 2000 [ 90%]  (Sampling)\n",
      "Chain 4: Iteration: 2000 / 2000 [100%]  (Sampling)\n",
      "Chain 4: \n",
      "Chain 4:  Elapsed Time: 0.516 seconds (Warm-up)\n",
      "Chain 4:                0.518 seconds (Sampling)\n",
      "Chain 4:                1.034 seconds (Total)\n",
      "Chain 4: "
     ]
    },
    {
     "output_type": "stream",
     "name": "stdout",
     "text": [
      "# A tibble: 2 × 4\n",
      "  model  pp_median pp_lower pp_upper\n",
      "  <chr>      <dbl>    <dbl>    <dbl>\n",
      "1 Female     0.670    0.639    0.698\n",
      "2 Male       0.726    0.699    0.751"
     ]
    },
    {
     "output_type": "stream",
     "name": "stdout",
     "text": [
      "# A tibble: 1 × 5\n",
      "  contrast       probability median  lower  upper\n",
      "  <chr>                <dbl>  <dbl>  <dbl>  <dbl>\n",
      "1 Male vs Female       0.998 0.0559 0.0261 0.0866"
     ]
    }
   ],
   "source": [
    "sex <- calc_pp(data = auroc_dem, \"sex\")\n"
   ],
   "id": "6804ecbc-e5a7-4aa5-b4fd-10be63eefaf3"
  },
  {
   "cell_type": "markdown",
   "metadata": {},
   "source": [
    "Income"
   ],
   "id": "5c485b0b-9927-41c3-8214-2bbd3d54d881"
  },
  {
   "cell_type": "code",
   "execution_count": null,
   "metadata": {},
   "outputs": [
    {
     "output_type": "stream",
     "name": "stdout",
     "text": [
      "\n",
      "SAMPLING FOR MODEL 'continuous' NOW (CHAIN 1).\n",
      "Chain 1: \n",
      "Chain 1: Gradient evaluation took 2.3e-05 seconds\n",
      "Chain 1: 1000 transitions using 10 leapfrog steps per transition would take 0.23 seconds.\n",
      "Chain 1: Adjust your expectations accordingly!\n",
      "Chain 1: \n",
      "Chain 1: \n",
      "Chain 1: Iteration:    1 / 2000 [  0%]  (Warmup)\n",
      "Chain 1: Iteration:  200 / 2000 [ 10%]  (Warmup)\n",
      "Chain 1: Iteration:  400 / 2000 [ 20%]  (Warmup)\n",
      "Chain 1: Iteration:  600 / 2000 [ 30%]  (Warmup)\n",
      "Chain 1: Iteration:  800 / 2000 [ 40%]  (Warmup)\n",
      "Chain 1: Iteration: 1000 / 2000 [ 50%]  (Warmup)\n",
      "Chain 1: Iteration: 1001 / 2000 [ 50%]  (Sampling)\n",
      "Chain 1: Iteration: 1200 / 2000 [ 60%]  (Sampling)\n",
      "Chain 1: Iteration: 1400 / 2000 [ 70%]  (Sampling)\n",
      "Chain 1: Iteration: 1600 / 2000 [ 80%]  (Sampling)\n",
      "Chain 1: Iteration: 1800 / 2000 [ 90%]  (Sampling)\n",
      "Chain 1: Iteration: 2000 / 2000 [100%]  (Sampling)\n",
      "Chain 1: \n",
      "Chain 1:  Elapsed Time: 0.92 seconds (Warm-up)\n",
      "Chain 1:                0.28 seconds (Sampling)\n",
      "Chain 1:                1.2 seconds (Total)\n",
      "Chain 1: \n",
      "\n",
      "SAMPLING FOR MODEL 'continuous' NOW (CHAIN 2).\n",
      "Chain 2: \n",
      "Chain 2: Gradient evaluation took 2e-05 seconds\n",
      "Chain 2: 1000 transitions using 10 leapfrog steps per transition would take 0.2 seconds.\n",
      "Chain 2: Adjust your expectations accordingly!\n",
      "Chain 2: \n",
      "Chain 2: \n",
      "Chain 2: Iteration:    1 / 2000 [  0%]  (Warmup)\n",
      "Chain 2: Iteration:  200 / 2000 [ 10%]  (Warmup)\n",
      "Chain 2: Iteration:  400 / 2000 [ 20%]  (Warmup)\n",
      "Chain 2: Iteration:  600 / 2000 [ 30%]  (Warmup)\n",
      "Chain 2: Iteration:  800 / 2000 [ 40%]  (Warmup)\n",
      "Chain 2: Iteration: 1000 / 2000 [ 50%]  (Warmup)\n",
      "Chain 2: Iteration: 1001 / 2000 [ 50%]  (Sampling)\n",
      "Chain 2: Iteration: 1200 / 2000 [ 60%]  (Sampling)\n",
      "Chain 2: Iteration: 1400 / 2000 [ 70%]  (Sampling)\n",
      "Chain 2: Iteration: 1600 / 2000 [ 80%]  (Sampling)\n",
      "Chain 2: Iteration: 1800 / 2000 [ 90%]  (Sampling)\n",
      "Chain 2: Iteration: 2000 / 2000 [100%]  (Sampling)\n",
      "Chain 2: \n",
      "Chain 2:  Elapsed Time: 0.507 seconds (Warm-up)\n",
      "Chain 2:                0.42 seconds (Sampling)\n",
      "Chain 2:                0.927 seconds (Total)\n",
      "Chain 2: \n",
      "\n",
      "SAMPLING FOR MODEL 'continuous' NOW (CHAIN 3).\n",
      "Chain 3: \n",
      "Chain 3: Gradient evaluation took 1.7e-05 seconds\n",
      "Chain 3: 1000 transitions using 10 leapfrog steps per transition would take 0.17 seconds.\n",
      "Chain 3: Adjust your expectations accordingly!\n",
      "Chain 3: \n",
      "Chain 3: \n",
      "Chain 3: Iteration:    1 / 2000 [  0%]  (Warmup)\n",
      "Chain 3: Iteration:  200 / 2000 [ 10%]  (Warmup)\n",
      "Chain 3: Iteration:  400 / 2000 [ 20%]  (Warmup)\n",
      "Chain 3: Iteration:  600 / 2000 [ 30%]  (Warmup)\n",
      "Chain 3: Iteration:  800 / 2000 [ 40%]  (Warmup)\n",
      "Chain 3: Iteration: 1000 / 2000 [ 50%]  (Warmup)\n",
      "Chain 3: Iteration: 1001 / 2000 [ 50%]  (Sampling)\n",
      "Chain 3: Iteration: 1200 / 2000 [ 60%]  (Sampling)\n",
      "Chain 3: Iteration: 1400 / 2000 [ 70%]  (Sampling)\n",
      "Chain 3: Iteration: 1600 / 2000 [ 80%]  (Sampling)\n",
      "Chain 3: Iteration: 1800 / 2000 [ 90%]  (Sampling)\n",
      "Chain 3: Iteration: 2000 / 2000 [100%]  (Sampling)\n",
      "Chain 3: \n",
      "Chain 3:  Elapsed Time: 0.483 seconds (Warm-up)\n",
      "Chain 3:                0.286 seconds (Sampling)\n",
      "Chain 3:                0.769 seconds (Total)\n",
      "Chain 3: \n",
      "\n",
      "SAMPLING FOR MODEL 'continuous' NOW (CHAIN 4).\n",
      "Chain 4: \n",
      "Chain 4: Gradient evaluation took 2.4e-05 seconds\n",
      "Chain 4: 1000 transitions using 10 leapfrog steps per transition would take 0.24 seconds.\n",
      "Chain 4: Adjust your expectations accordingly!\n",
      "Chain 4: \n",
      "Chain 4: \n",
      "Chain 4: Iteration:    1 / 2000 [  0%]  (Warmup)\n",
      "Chain 4: Iteration:  200 / 2000 [ 10%]  (Warmup)\n",
      "Chain 4: Iteration:  400 / 2000 [ 20%]  (Warmup)\n",
      "Chain 4: Iteration:  600 / 2000 [ 30%]  (Warmup)\n",
      "Chain 4: Iteration:  800 / 2000 [ 40%]  (Warmup)\n",
      "Chain 4: Iteration: 1000 / 2000 [ 50%]  (Warmup)\n",
      "Chain 4: Iteration: 1001 / 2000 [ 50%]  (Sampling)\n",
      "Chain 4: Iteration: 1200 / 2000 [ 60%]  (Sampling)\n",
      "Chain 4: Iteration: 1400 / 2000 [ 70%]  (Sampling)\n",
      "Chain 4: Iteration: 1600 / 2000 [ 80%]  (Sampling)\n",
      "Chain 4: Iteration: 1800 / 2000 [ 90%]  (Sampling)\n",
      "Chain 4: Iteration: 2000 / 2000 [100%]  (Sampling)\n",
      "Chain 4: \n",
      "Chain 4:  Elapsed Time: 0.48 seconds (Warm-up)\n",
      "Chain 4:                0.286 seconds (Sampling)\n",
      "Chain 4:                0.766 seconds (Total)\n",
      "Chain 4: "
     ]
    },
    {
     "output_type": "stream",
     "name": "stdout",
     "text": [
      "# A tibble: 2 × 4\n",
      "  model              pp_median pp_lower pp_upper\n",
      "  <chr>                  <dbl>    <dbl>    <dbl>\n",
      "1 Above Poverty Line     0.658    0.628    0.685\n",
      "2 Below Poverty Line     0.690    0.661    0.717"
     ]
    },
    {
     "output_type": "stream",
     "name": "stdout",
     "text": [
      "# A tibble: 1 × 5\n",
      "  contrast                                 probability  median   lower    upper\n",
      "  <chr>                                          <dbl>   <dbl>   <dbl>    <dbl>\n",
      "1 Above Poverty Line vs Below Poverty Line      0.0335 -0.0331 -0.0618 -0.00397"
     ]
    }
   ],
   "source": [
    "income <- calc_pp(data = auroc_dem, \"income\")\n"
   ],
   "id": "70d11796-cb63-4519-9327-69d9db9d2cec"
  },
  {
   "cell_type": "markdown",
   "metadata": {},
   "source": [
    "Race/Ethnicity"
   ],
   "id": "0bfc7db1-ba94-4937-b4ab-06c45670ded8"
  },
  {
   "cell_type": "code",
   "execution_count": null,
   "metadata": {},
   "outputs": [
    {
     "output_type": "stream",
     "name": "stdout",
     "text": [
      "\n",
      "SAMPLING FOR MODEL 'continuous' NOW (CHAIN 1).\n",
      "Chain 1: \n",
      "Chain 1: Gradient evaluation took 2.4e-05 seconds\n",
      "Chain 1: 1000 transitions using 10 leapfrog steps per transition would take 0.24 seconds.\n",
      "Chain 1: Adjust your expectations accordingly!\n",
      "Chain 1: \n",
      "Chain 1: \n",
      "Chain 1: Iteration:    1 / 2000 [  0%]  (Warmup)\n",
      "Chain 1: Iteration:  200 / 2000 [ 10%]  (Warmup)\n",
      "Chain 1: Iteration:  400 / 2000 [ 20%]  (Warmup)\n",
      "Chain 1: Iteration:  600 / 2000 [ 30%]  (Warmup)\n",
      "Chain 1: Iteration:  800 / 2000 [ 40%]  (Warmup)\n",
      "Chain 1: Iteration: 1000 / 2000 [ 50%]  (Warmup)\n",
      "Chain 1: Iteration: 1001 / 2000 [ 50%]  (Sampling)\n",
      "Chain 1: Iteration: 1200 / 2000 [ 60%]  (Sampling)\n",
      "Chain 1: Iteration: 1400 / 2000 [ 70%]  (Sampling)\n",
      "Chain 1: Iteration: 1600 / 2000 [ 80%]  (Sampling)\n",
      "Chain 1: Iteration: 1800 / 2000 [ 90%]  (Sampling)\n",
      "Chain 1: Iteration: 2000 / 2000 [100%]  (Sampling)\n",
      "Chain 1: \n",
      "Chain 1:  Elapsed Time: 0.466 seconds (Warm-up)\n",
      "Chain 1:                0.289 seconds (Sampling)\n",
      "Chain 1:                0.755 seconds (Total)\n",
      "Chain 1: \n",
      "\n",
      "SAMPLING FOR MODEL 'continuous' NOW (CHAIN 2).\n",
      "Chain 2: \n",
      "Chain 2: Gradient evaluation took 1.8e-05 seconds\n",
      "Chain 2: 1000 transitions using 10 leapfrog steps per transition would take 0.18 seconds.\n",
      "Chain 2: Adjust your expectations accordingly!\n",
      "Chain 2: \n",
      "Chain 2: \n",
      "Chain 2: Iteration:    1 / 2000 [  0%]  (Warmup)\n",
      "Chain 2: Iteration:  200 / 2000 [ 10%]  (Warmup)\n",
      "Chain 2: Iteration:  400 / 2000 [ 20%]  (Warmup)\n",
      "Chain 2: Iteration:  600 / 2000 [ 30%]  (Warmup)\n",
      "Chain 2: Iteration:  800 / 2000 [ 40%]  (Warmup)\n",
      "Chain 2: Iteration: 1000 / 2000 [ 50%]  (Warmup)\n",
      "Chain 2: Iteration: 1001 / 2000 [ 50%]  (Sampling)\n",
      "Chain 2: Iteration: 1200 / 2000 [ 60%]  (Sampling)\n",
      "Chain 2: Iteration: 1400 / 2000 [ 70%]  (Sampling)\n",
      "Chain 2: Iteration: 1600 / 2000 [ 80%]  (Sampling)\n",
      "Chain 2: Iteration: 1800 / 2000 [ 90%]  (Sampling)\n",
      "Chain 2: Iteration: 2000 / 2000 [100%]  (Sampling)\n",
      "Chain 2: \n",
      "Chain 2:  Elapsed Time: 0.53 seconds (Warm-up)\n",
      "Chain 2:                0.283 seconds (Sampling)\n",
      "Chain 2:                0.813 seconds (Total)\n",
      "Chain 2: \n",
      "\n",
      "SAMPLING FOR MODEL 'continuous' NOW (CHAIN 3).\n",
      "Chain 3: \n",
      "Chain 3: Gradient evaluation took 1.9e-05 seconds\n",
      "Chain 3: 1000 transitions using 10 leapfrog steps per transition would take 0.19 seconds.\n",
      "Chain 3: Adjust your expectations accordingly!\n",
      "Chain 3: \n",
      "Chain 3: \n",
      "Chain 3: Iteration:    1 / 2000 [  0%]  (Warmup)\n",
      "Chain 3: Iteration:  200 / 2000 [ 10%]  (Warmup)\n",
      "Chain 3: Iteration:  400 / 2000 [ 20%]  (Warmup)\n",
      "Chain 3: Iteration:  600 / 2000 [ 30%]  (Warmup)\n",
      "Chain 3: Iteration:  800 / 2000 [ 40%]  (Warmup)\n",
      "Chain 3: Iteration: 1000 / 2000 [ 50%]  (Warmup)\n",
      "Chain 3: Iteration: 1001 / 2000 [ 50%]  (Sampling)\n",
      "Chain 3: Iteration: 1200 / 2000 [ 60%]  (Sampling)\n",
      "Chain 3: Iteration: 1400 / 2000 [ 70%]  (Sampling)\n",
      "Chain 3: Iteration: 1600 / 2000 [ 80%]  (Sampling)\n",
      "Chain 3: Iteration: 1800 / 2000 [ 90%]  (Sampling)\n",
      "Chain 3: Iteration: 2000 / 2000 [100%]  (Sampling)\n",
      "Chain 3: \n",
      "Chain 3:  Elapsed Time: 0.549 seconds (Warm-up)\n",
      "Chain 3:                0.286 seconds (Sampling)\n",
      "Chain 3:                0.835 seconds (Total)\n",
      "Chain 3: \n",
      "\n",
      "SAMPLING FOR MODEL 'continuous' NOW (CHAIN 4).\n",
      "Chain 4: \n",
      "Chain 4: Gradient evaluation took 2.4e-05 seconds\n",
      "Chain 4: 1000 transitions using 10 leapfrog steps per transition would take 0.24 seconds.\n",
      "Chain 4: Adjust your expectations accordingly!\n",
      "Chain 4: \n",
      "Chain 4: \n",
      "Chain 4: Iteration:    1 / 2000 [  0%]  (Warmup)\n",
      "Chain 4: Iteration:  200 / 2000 [ 10%]  (Warmup)\n",
      "Chain 4: Iteration:  400 / 2000 [ 20%]  (Warmup)\n",
      "Chain 4: Iteration:  600 / 2000 [ 30%]  (Warmup)\n",
      "Chain 4: Iteration:  800 / 2000 [ 40%]  (Warmup)\n",
      "Chain 4: Iteration: 1000 / 2000 [ 50%]  (Warmup)\n",
      "Chain 4: Iteration: 1001 / 2000 [ 50%]  (Sampling)\n",
      "Chain 4: Iteration: 1200 / 2000 [ 60%]  (Sampling)\n",
      "Chain 4: Iteration: 1400 / 2000 [ 70%]  (Sampling)\n",
      "Chain 4: Iteration: 1600 / 2000 [ 80%]  (Sampling)\n",
      "Chain 4: Iteration: 1800 / 2000 [ 90%]  (Sampling)\n",
      "Chain 4: Iteration: 2000 / 2000 [100%]  (Sampling)\n",
      "Chain 4: \n",
      "Chain 4:  Elapsed Time: 0.597 seconds (Warm-up)\n",
      "Chain 4:                0.557 seconds (Sampling)\n",
      "Chain 4:                1.154 seconds (Total)\n",
      "Chain 4: "
     ]
    },
    {
     "output_type": "stream",
     "name": "stdout",
     "text": [
      "# A tibble: 2 × 4\n",
      "  model              pp_median pp_lower pp_upper\n",
      "  <chr>                  <dbl>    <dbl>    <dbl>\n",
      "1 Not White              0.687    0.653    0.719\n",
      "2 White/Non-Hispanic     0.639    0.602    0.674"
     ]
    },
    {
     "output_type": "stream",
     "name": "stdout",
     "text": [
      "# A tibble: 1 × 5\n",
      "  contrast                        probability  median   lower   upper\n",
      "  <chr>                                 <dbl>   <dbl>   <dbl>   <dbl>\n",
      "1 White/Non-Hispanic vs Not White      0.0105 -0.0481 -0.0839 -0.0127"
     ]
    }
   ],
   "source": [
    "race_eth <- calc_pp(data = auroc_dem, \"race_ethnicity\")\n"
   ],
   "id": "d84e168c-7131-4bd0-90ed-2dcd02d49d2c"
  },
  {
   "cell_type": "markdown",
   "metadata": {},
   "source": [
    "Bind all pp/contrast tibbles and save"
   ],
   "id": "0b997e0f-7548-4968-9bc7-6762aa142821"
  },
  {
   "cell_type": "code",
   "execution_count": null,
   "metadata": {},
   "outputs": [],
   "source": [
    "pp_sex |> \n",
    "  bind_rows(pp_income) |> \n",
    "  bind_rows(pp_race_eth) |> \n",
    "  write_csv(file.path(path_models, \"pp_dem_all.csv\"))\n",
    "\n",
    "contrast_sex |> \n",
    "  bind_rows(contrast_income) |> \n",
    "  bind_rows(contrast_race_eth) |> \n",
    "  write_csv(file.path(path_models, \"pp_dem_contrast_all.csv\"))\n"
   ],
   "id": "fdfa5c0a-4808-4e65-9881-dd1d1e377727"
  }
 ],
 "nbformat": 4,
 "nbformat_minor": 5,
 "metadata": {}
}

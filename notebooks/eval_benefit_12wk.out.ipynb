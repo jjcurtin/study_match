{
 "cells": [
  {
   "cell_type": "markdown",
   "metadata": {},
   "source": [
    "# Evaluation of Clinical Benefit: Week 12 Model\n",
    "\n",
    "Gaylen Fronk  \n",
    "June 4, 2024"
   ],
   "id": "bf570c2c-7714-454c-a1f8-0837d4efc43a"
  },
  {
   "cell_type": "code",
   "execution_count": null,
   "metadata": {},
   "outputs": [],
   "source": [
    "study <- \"match\"\n",
    "version <- \"v6\"\n",
    "y_col_name <- \"pp_hybrid_wk12_outcome\"\n"
   ],
   "id": "b97cb0da-b45b-4e58-ad54-8499989945c8"
  },
  {
   "cell_type": "code",
   "execution_count": null,
   "metadata": {},
   "outputs": [
    {
     "output_type": "stream",
     "name": "stderr",
     "text": [
      "── Attaching core tidyverse packages ──────────────────────── tidyverse 2.0.0 ──\n",
      "✔ dplyr     1.1.4     ✔ readr     2.1.5\n",
      "✔ forcats   1.0.0     ✔ stringr   1.5.1\n",
      "✔ ggplot2   3.5.1     ✔ tibble    3.2.1\n",
      "✔ lubridate 1.9.3     ✔ tidyr     1.3.1\n",
      "✔ purrr     1.0.2     \n",
      "── Conflicts ────────────────────────────────────────── tidyverse_conflicts() ──\n",
      "✖ dplyr::filter() masks stats::filter()\n",
      "✖ dplyr::lag()    masks stats::lag()\n",
      "ℹ Use the conflicted package (<http://conflicted.r-lib.org/>) to force all conflicts to become errors"
     ]
    },
    {
     "output_type": "stream",
     "name": "stderr",
     "text": [
      "Loading required package: lme4\n",
      "Loading required package: Matrix\n",
      "\n",
      "Attaching package: 'Matrix'\n",
      "\n",
      "The following objects are masked from 'package:tidyr':\n",
      "\n",
      "    expand, pack, unpack"
     ]
    },
    {
     "output_type": "stream",
     "name": "stderr",
     "text": [
      "ℹ SHA-1 hash of file is \"c045eee2655a18dc85e715b78182f176327358a7\""
     ]
    },
    {
     "output_type": "stream",
     "name": "stderr",
     "text": [
      "ℹ SHA-1 hash of file is \"75cc6f7b855da59c240908bd936834b4da01285b\""
     ]
    }
   ],
   "source": [
    "\n",
    "# packages for script\n",
    "library(tidyverse)\n"
   ],
   "id": "c0515c34-2bf4-48f9-91b9-d76a4dc95a2a"
  },
  {
   "cell_type": "code",
   "execution_count": null,
   "metadata": {},
   "outputs": [],
   "source": [
    "\n",
    "# handle conflicts\n",
    "options(conflicts.policy = \"depends.ok\")\n"
   ],
   "id": "7e70a211-ea36-42d0-af17-b1a1585bbcd8"
  },
  {
   "cell_type": "code",
   "execution_count": null,
   "metadata": {},
   "outputs": [],
   "source": [
    "# absolute paths\n",
    "switch (Sys.info()[['sysname']],\n",
    "        # PC paths\n",
    "        Windows = {\n",
    "          path_models <- str_c(\"P:/studydata/match/models/\", y_col_name)},\n",
    "        \n",
    "        # IOS paths\n",
    "        Darwin = {\n",
    "          path_models <- str_c(\"/Volumes/private/studydata/match/models/\", y_col_name)},\n",
    "        \n",
    "        # Linux paths\n",
    "        Linux = {\n",
    "          path_models <- str_c(\"~/mnt/private/studydata/match/models/\", y_col_name)}\n",
    ")\n"
   ],
   "id": "b3cd7763-ca54-4fff-b548-97485c049f34"
  },
  {
   "cell_type": "code",
   "execution_count": null,
   "metadata": {},
   "outputs": [],
   "source": [
    "# chunk defaults\n",
    "\n",
    "options(tibble.width = Inf)\n",
    "options(tibble.print_max = Inf)\n"
   ],
   "id": "6341226f-7268-4703-82a6-a5d6409bf40a"
  },
  {
   "cell_type": "markdown",
   "metadata": {},
   "source": [
    "Read in aim 2 dataset"
   ],
   "id": "89b01d5f-3763-4549-a566-58867dccddcd"
  },
  {
   "cell_type": "code",
   "execution_count": null,
   "metadata": {},
   "outputs": [
    {
     "output_type": "stream",
     "name": "stdout",
     "text": [
      "Rows: 3,258\n",
      "Columns: 16\n",
      "$ subid            <dbl> 20010, 20010, 20010, 20015, 20015, 20015, 20030, 2003…\n",
      "$ tx_rct           <chr> \"patch\", \"patch\", \"patch\", \"combo_nrt\", \"combo_nrt\", …\n",
      "$ tx_best          <chr> \"combo_nrt\", \"combo_nrt\", \"combo_nrt\", \"varenicline\",…\n",
      "$ tx_match         <lgl> FALSE, FALSE, FALSE, FALSE, FALSE, FALSE, FALSE, FALS…\n",
      "$ tx_worst         <chr> \"varenicline\", \"varenicline\", \"varenicline\", \"patch\",…\n",
      "$ tx_second        <chr> \"patch\", \"patch\", \"patch\", \"combo_nrt\", \"combo_nrt\", …\n",
      "$ tx_rank          <chr> \"second\", \"second\", \"second\", \"second\", \"second\", \"se…\n",
      "$ prob_best        <dbl> 0.1860530, 0.1860530, 0.1860530, 0.5184533, 0.5184533…\n",
      "$ prob_patch       <dbl> 0.1610573, 0.1610573, 0.1610573, 0.3272543, 0.3272543…\n",
      "$ prob_combo_nrt   <dbl> 0.1860530, 0.1860530, 0.1860530, 0.3877443, 0.3877443…\n",
      "$ prob_varenicline <dbl> 0.1601103, 0.1601103, 0.1601103, 0.5184533, 0.5184533…\n",
      "$ week             <dbl> 4, 12, 26, 4, 12, 26, 4, 12, 26, 4, 12, 26, 4, 12, 26…\n",
      "$ outcome_rct_num  <dbl> 0, 0, 0, 0, 0, 0, 0, 0, 0, 0, 1, 1, 0, 0, 0, 0, 0, 0,…\n",
      "$ c_tx_match       <dbl> -0.5, -0.5, -0.5, -0.5, -0.5, -0.5, -0.5, -0.5, -0.5,…\n",
      "$ week_log_2       <dbl> 2.000000, 3.584963, 4.700440, 2.000000, 3.584963, 4.7…\n",
      "$ c4_week_log_2    <dbl> 0.000000, 1.584963, 2.700440, 0.000000, 1.584963, 2.7…"
     ]
    }
   ],
   "source": [
    "d <- read_csv(file.path(path_models, \n",
    "                        str_c(\"aim_2_\", version, \"_\", y_col_name, \".csv\")),\n",
    "              show_col_types = FALSE) |> \n",
    "  mutate(outcome_rct_wk4_num = if_else(outcome_rct_wk4 == \"abstinent\", 1, 0),\n",
    "         outcome_rct_wk12_num = if_else(outcome_rct_wk12 == \"abstinent\", 1, 0),\n",
    "         outcome_rct_wk26_num = if_else(outcome_rct_wk26 == \"abstinent\", 1, 0),\n",
    "         tx_worst = case_when(\n",
    "           prob_patch < prob_combo_nrt & prob_patch < prob_varenicline ~ \"patch\",\n",
    "           prob_combo_nrt < prob_patch & prob_combo_nrt < prob_varenicline ~ \"combo_nrt\",\n",
    "           prob_varenicline < prob_patch & prob_varenicline < prob_combo_nrt ~ \"varenicline\",\n",
    "           TRUE ~ NA_character_),\n",
    "         tx_second = case_when(\n",
    "           tx_worst == \"patch\" & tx_best == \"varenicline\" ~ \"combo_nrt\",\n",
    "           tx_worst == \"patch\" & tx_best == \"combo_nrt\" ~ \"varenicline\",\n",
    "           tx_worst == \"varenicline\" & tx_best == \"patch\" ~ \"combo_nrt\",\n",
    "           tx_worst == \"varenicline\" & tx_best == \"combo_nrt\" ~ \"patch\",\n",
    "           tx_worst == \"combo_nrt\" & tx_best == \"varenicline\" ~ \"patch\",\n",
    "           tx_worst == \"combo_nrt\" & tx_best == \"patch\" ~ \"varenicline\",\n",
    "           TRUE ~ NA_character_)) |> \n",
    "  mutate(tx_rank = case_when(\n",
    "    tx_rct == tx_best ~ \"first\",\n",
    "    tx_rct == tx_second ~ \"second\",\n",
    "    tx_rct == tx_worst ~ \"third\",\n",
    "    TRUE ~ NA_character_)) |> \n",
    "  select(subid, starts_with(\"tx_\"), starts_with(\"prob_\"),\n",
    "         outcome_rct_wk4_num, outcome_rct_wk12_num, outcome_rct_wk26_num) |> \n",
    "  pivot_longer(\n",
    "    cols = c(outcome_rct_wk4_num, outcome_rct_wk12_num, outcome_rct_wk26_num),\n",
    "    names_to = \"week\",\n",
    "    names_pattern = \"(?<=outcome_rct_wk)(.+)(?=_num)\",\n",
    "    values_to = \"outcome_rct_num\"\n",
    "  ) |> \n",
    "  mutate(c_tx_match = if_else(tx_match == TRUE, 0.5, -0.5), # center\n",
    "         week = as.numeric(week)) |> \n",
    "  # log transformation\n",
    "  mutate(week_log_2 = log(week, base = 2)) |> \n",
    "  # week 4-centered log transformation\n",
    "  mutate(c4_week_log_2 = week_log_2 - log(4, base = 2))\n",
    "\n",
    "glimpse(d)\n"
   ],
   "id": "f0d85074-bdd3-4edd-b3f5-cbc8e96cb94b"
  },
  {
   "cell_type": "markdown",
   "metadata": {},
   "source": [
    "## Analyses\n",
    "\n",
    "### Primary model\n",
    "\n",
    "*NOTE*: differs from preregistration (base 2 instead of base e)\n",
    "\n",
    "4-week-centered, log-transformed week (base 2)"
   ],
   "id": "2c4ac47e-f046-40ca-bfc5-5d6df4414b0f"
  },
  {
   "cell_type": "code",
   "execution_count": null,
   "metadata": {},
   "outputs": [
    {
     "output_type": "stream",
     "name": "stderr",
     "text": [
      "Model already exists for version v6. Reading in existing model"
     ]
    }
   ],
   "source": [
    "if(file.exists(file.path(path_models, \n",
    "                         str_c(\"model_clin_benefit_\", version, \".rds\")))){\n",
    "  message(str_c(\"Model already exists for version \", \n",
    "                version, \". Reading in existing model\"))\n",
    "  \n",
    "  model_bayes <- read_rds(file.path(path_models, \n",
    "                                    str_c(\"model_clin_benefit_\", version, \".rds\")))\n",
    "  \n",
    "} else {\n",
    "  message(\"Fitting new model & saving out\")\n",
    "  model_bayes <- blme::bglmer(outcome_rct_num ~ c_tx_match * c4_week_log_2 + \n",
    "                                (1 + c4_week_log_2 | subid),\n",
    "                              data = d,\n",
    "                              family = binomial(link = \"logit\"),\n",
    "                              control = glmerControl(optCtrl = list(maxfun = 3e6)))\n",
    "  \n",
    "  model_bayes |> \n",
    "    write_rds(file.path(path_models, \n",
    "                        str_c(\"model_clin_benefit_\", version, \".rds\")))\n",
    "}\n"
   ],
   "id": "fd46bd92-6585-4cfa-a120-64a6cb2eacfa"
  },
  {
   "cell_type": "markdown",
   "metadata": {},
   "source": [
    "Evaluate model"
   ],
   "id": "c1ba7a02-c04d-4b95-bf61-fc3b29f4c0b9"
  },
  {
   "cell_type": "code",
   "execution_count": null,
   "metadata": {},
   "outputs": [
    {
     "output_type": "stream",
     "name": "stdout",
     "text": [
      "Cov prior  : subid ~ wishart(df = 4.5, scale = Inf, posterior.scale = cov, common.scale = TRUE)\n",
      "Prior dev  : -0.8838\n",
      "\n",
      "Generalized linear mixed model fit by maximum likelihood (Laplace\n",
      "  Approximation) [bglmerMod]\n",
      " Family: binomial  ( logit )\n",
      "Formula: outcome_rct_num ~ c_tx_match * c4_week_log_2 + (1 + c4_week_log_2 |  \n",
      "    subid)\n",
      "   Data: d\n",
      "Control: glmerControl(optCtrl = list(maxfun = 3e+06))\n",
      "\n",
      "     AIC      BIC   logLik deviance df.resid \n",
      "  3091.6   3134.2  -1538.8   3077.6     3251 \n",
      "\n",
      "Scaled residuals: \n",
      "     Min       1Q   Median       3Q      Max \n",
      "-1.22292 -0.40741 -0.06594  0.14320  1.39257 \n",
      "\n",
      "Random effects:\n",
      " Groups Name          Variance Std.Dev. Corr\n",
      " subid  (Intercept)   3.364    1.834        \n",
      "        c4_week_log_2 6.241    2.498    0.96\n",
      "Number of obs: 3258, groups:  subid, 1086\n",
      "\n",
      "Fixed effects:\n",
      "                         Estimate Std. Error z value Pr(>|z|)    \n",
      "(Intercept)               -1.1546     0.1431  -8.068 7.12e-16 ***\n",
      "c_tx_match                -0.2256     0.2083  -1.083    0.279    \n",
      "c4_week_log_2             -1.5626     0.1567  -9.973  < 2e-16 ***\n",
      "c_tx_match:c4_week_log_2  -0.0859     0.1955  -0.440    0.660    \n",
      "---\n",
      "Signif. codes:  0 '***' 0.001 '**' 0.01 '*' 0.05 '.' 0.1 ' ' 1\n",
      "\n",
      "Correlation of Fixed Effects:\n",
      "            (Intr) c_tx_m c4___2\n",
      "c_tx_match   0.240              \n",
      "c4_wek_lg_2 -0.137 -0.009       \n",
      "c_tx_:4___2  0.000  0.172  0.220"
     ]
    }
   ],
   "source": [
    "summary(model_bayes)\n"
   ],
   "id": "08c62494-aec3-48ab-9491-8b4d00ef94c1"
  },
  {
   "cell_type": "markdown",
   "metadata": {},
   "source": [
    "### Follow-up analyses: Simple Effects\n",
    "\n",
    "From preregistration: If the interaction between `tx_match` and `week` is significant (*p* \\< 0.05), we will conduct follow-up analyses to test the simple effect of `tx_match` at each time point.\n",
    "\n",
    "Interaction between `tx_match` and `week` was not significant (*p* = 0.83); however, we have opted to conduct simple effects analyses to more fully characterize our findings in probability terms and given known issues with conducting and interpreting interactions in logistic regression models.\n",
    "\n",
    "Simple effect at 4 weeks"
   ],
   "id": "c215081c-dbe4-4688-8cd8-7ede4f316602"
  },
  {
   "cell_type": "code",
   "execution_count": null,
   "metadata": {},
   "outputs": [
    {
     "output_type": "stream",
     "name": "stdout",
     "text": [
      "\n",
      "Call:\n",
      "glm(formula = outcome_rct_num ~ c_tx_match, family = binomial(link = \"logit\"), \n",
      "    data = d_4)\n",
      "\n",
      "Coefficients:\n",
      "            Estimate Std. Error z value Pr(>|z|)    \n",
      "(Intercept) -0.67214    0.06646  -10.11   <2e-16 ***\n",
      "c_tx_match  -0.12366    0.13292   -0.93    0.352    \n",
      "---\n",
      "Signif. codes:  0 '***' 0.001 '**' 0.01 '*' 0.05 '.' 0.1 ' ' 1\n",
      "\n",
      "(Dispersion parameter for binomial family taken to be 1)\n",
      "\n",
      "    Null deviance: 1394.7  on 1085  degrees of freedom\n",
      "Residual deviance: 1393.8  on 1084  degrees of freedom\n",
      "AIC: 1397.8\n",
      "\n",
      "Number of Fisher Scoring iterations: 4"
     ]
    }
   ],
   "source": [
    "d_4 <- d |> \n",
    "  filter(week == 4)\n",
    "\n",
    "model_4wk <- glm(outcome_rct_num ~ c_tx_match, \n",
    "                 data = d_4,\n",
    "                 family = binomial(link = \"logit\"))\n",
    "\n",
    "summary(model_4wk)\n"
   ],
   "id": "eb9a282c-8c6d-4b0d-ac3e-c34a4719a984"
  },
  {
   "cell_type": "markdown",
   "metadata": {},
   "source": [
    "Simple effect at 12 weeks"
   ],
   "id": "b402127c-1abe-48c9-aa72-53fb01e6ef8a"
  },
  {
   "cell_type": "code",
   "execution_count": null,
   "metadata": {},
   "outputs": [
    {
     "output_type": "stream",
     "name": "stdout",
     "text": [
      "\n",
      "Call:\n",
      "glm(formula = outcome_rct_num ~ c_tx_match, family = binomial(link = \"logit\"), \n",
      "    data = d_12)\n",
      "\n",
      "Coefficients:\n",
      "            Estimate Std. Error z value Pr(>|z|)    \n",
      "(Intercept) -0.91301    0.06963 -13.112   <2e-16 ***\n",
      "c_tx_match  -0.13563    0.13926  -0.974     0.33    \n",
      "---\n",
      "Signif. codes:  0 '***' 0.001 '**' 0.01 '*' 0.05 '.' 0.1 ' ' 1\n",
      "\n",
      "(Dispersion parameter for binomial family taken to be 1)\n",
      "\n",
      "    Null deviance: 1308  on 1085  degrees of freedom\n",
      "Residual deviance: 1307  on 1084  degrees of freedom\n",
      "AIC: 1311\n",
      "\n",
      "Number of Fisher Scoring iterations: 4"
     ]
    }
   ],
   "source": [
    "d_12 <- d |> \n",
    "  filter(week == 12)\n",
    "\n",
    "model_12wk <- glm(outcome_rct_num ~ c_tx_match, \n",
    "                  data = d_12,\n",
    "                  family = binomial(link = \"logit\"))\n",
    "\n",
    "summary(model_12wk)\n"
   ],
   "id": "f89efa04-9f66-4035-9e0f-ca2dcab71325"
  },
  {
   "cell_type": "markdown",
   "metadata": {},
   "source": [
    "Simple effect at 26 weeks"
   ],
   "id": "14fc8d26-8011-4df4-984f-ecaa1d1f585a"
  },
  {
   "cell_type": "code",
   "execution_count": null,
   "metadata": {},
   "outputs": [
    {
     "output_type": "stream",
     "name": "stdout",
     "text": [
      "\n",
      "Call:\n",
      "glm(formula = outcome_rct_num ~ c_tx_match, family = binomial(link = \"logit\"), \n",
      "    data = d_26)\n",
      "\n",
      "Coefficients:\n",
      "            Estimate Std. Error z value Pr(>|z|)    \n",
      "(Intercept) -1.12534    0.07306   -15.4   <2e-16 ***\n",
      "c_tx_match  -0.07304    0.14612    -0.5    0.617    \n",
      "---\n",
      "Signif. codes:  0 '***' 0.001 '**' 0.01 '*' 0.05 '.' 0.1 ' ' 1\n",
      "\n",
      "(Dispersion parameter for binomial family taken to be 1)\n",
      "\n",
      "    Null deviance: 1213.6  on 1085  degrees of freedom\n",
      "Residual deviance: 1213.4  on 1084  degrees of freedom\n",
      "AIC: 1217.4\n",
      "\n",
      "Number of Fisher Scoring iterations: 4"
     ]
    }
   ],
   "source": [
    "d_26 <- d |> \n",
    "  filter(week == 26)\n",
    "\n",
    "model_26wk <- glm(outcome_rct_num ~ c_tx_match, \n",
    "                  data = d_26,\n",
    "                  family = binomial(link = \"logit\"))\n",
    "\n",
    "summary(model_26wk)\n"
   ],
   "id": "3a57b34b-0313-4ac5-a8d4-db6c0b86a64c"
  },
  {
   "cell_type": "markdown",
   "metadata": {},
   "source": [
    "## Figure\n",
    "\n",
    "Primary figure"
   ],
   "id": "2a3aa197-28d3-46e0-ac84-916b4637fc78"
  },
  {
   "cell_type": "code",
   "execution_count": null,
   "metadata": {},
   "outputs": [
    {
     "output_type": "stream",
     "name": "stderr",
     "text": [
      "`summarise()` has grouped output by 'week_cat'. You can override using the\n",
      "`.groups` argument."
     ]
    },
    {
     "output_type": "display_data",
     "metadata": {},
     "data": {
      "image/png": "[encoded data removed]"
     }
    }
   ],
   "source": [
    "fig_clin_ben_wk12 <- d |> \n",
    "  mutate(week_cat = factor(week,\n",
    "                           levels = c(4, 12, 26),\n",
    "                           labels = c(\"Week 4\", \"Week 12\", \"Week 26\")),\n",
    "         tx_match = factor(tx_match, \n",
    "                           levels = c(TRUE, FALSE),\n",
    "                           labels = c(\"Matched to Best\", \"Unmatched\"))) |> \n",
    "  group_by(week_cat, tx_match) |> \n",
    "  summarize(mean_outcome = mean(outcome_rct_num)) |> \n",
    "  ggplot(aes(x = week_cat, y = mean_outcome, fill = tx_match)) +\n",
    "  geom_col(position = \"dodge\") +\n",
    "  labs(\n",
    "    x = \"Week On-Study\",\n",
    "    y = \"Mean Abstinence Rate\",\n",
    "    fill = \"Treatment Matching\"\n",
    "  )\n"
   ],
   "id": "cell-fig-clin-ben-wk12"
  },
  {
   "cell_type": "markdown",
   "metadata": {},
   "source": [
    "Make predicted dataset"
   ],
   "id": "a9a94c79-de78-43dd-95e1-c0e4cb2ed5e4"
  },
  {
   "cell_type": "code",
   "execution_count": null,
   "metadata": {},
   "outputs": [
    {
     "output_type": "stream",
     "name": "stderr",
     "text": [
      "`summarise()` has grouped output by 'week_cat'. You can override using the\n",
      "`.groups` argument."
     ]
    }
   ],
   "source": [
    "d_fig_alt <- d |> \n",
    "  select(subid, c_tx_match, c4_week_log_2) |> \n",
    "  mutate(pred_logodds = predict(model_bayes, d)) |> \n",
    "  mutate(pred_probs = predict(model_bayes, d, type = \"response\")) |> \n",
    "  mutate(week_cat = factor(c4_week_log_2,\n",
    "                           levels = c(0, (log(12, base = 2) - 2), \n",
    "                                      (log(26, base = 2) - 2)),\n",
    "                           labels = c(\"Week 4\", \"Week 12\", \"Week 26\")),\n",
    "         tx_match = factor(c_tx_match, \n",
    "                           levels = c(0.5, -0.5),\n",
    "                           labels = c(\"Matched to Best\", \"Unmatched\"))) |> \n",
    "  group_by(week_cat, tx_match) |> \n",
    "  summarize(mean_pred_logodds = mean(pred_logodds),\n",
    "            mean_pred_probs = mean(pred_probs))\n"
   ],
   "id": "dff7eb3e-830f-4c5c-a648-36d527055273"
  },
  {
   "cell_type": "markdown",
   "metadata": {},
   "source": [
    "Log odds figure"
   ],
   "id": "7829c2d0-a49a-428c-bf91-a8ec75510964"
  },
  {
   "cell_type": "code",
   "execution_count": null,
   "metadata": {},
   "outputs": [
    {
     "output_type": "display_data",
     "metadata": {},
     "data": {
      "image/png": "[encoded data removed]"
     }
    }
   ],
   "source": [
    "d_fig_alt |> \n",
    "  ggplot(aes(x = week_cat, y = mean_pred_logodds, fill = tx_match)) +\n",
    "  geom_col(position = \"dodge\") +\n",
    "  labs(\n",
    "    x = \"Week On-Study\",\n",
    "    y = \"Log Odds\",\n",
    "    fill = \"Treatment Matching\"\n",
    "  )\n"
   ],
   "id": "897b4c45-b442-4ca8-bdce-6f37216e2c12"
  },
  {
   "cell_type": "markdown",
   "metadata": {},
   "source": [
    "Predicted probabilities figure"
   ],
   "id": "6b3d3ad8-49b9-4e3d-b399-9f6cd1c42f98"
  },
  {
   "cell_type": "code",
   "execution_count": null,
   "metadata": {},
   "outputs": [
    {
     "output_type": "display_data",
     "metadata": {},
     "data": {
      "image/png": "[encoded data removed]"
     }
    }
   ],
   "source": [
    "d_fig_alt |> \n",
    "  ggplot(aes(x = week_cat, y = mean_pred_probs, fill = tx_match)) +\n",
    "  geom_col(position = \"dodge\") +\n",
    "  labs(\n",
    "    x = \"Week On-Study\",\n",
    "    y = \"Predicted Probabilities\",\n",
    "    fill = \"Treatment Matching\"\n",
    "  )\n"
   ],
   "id": "3f5d62ae-064b-46bb-9819-9e71e82f7fb3"
  }
 ],
 "nbformat": 4,
 "nbformat_minor": 5,
 "metadata": {}
}

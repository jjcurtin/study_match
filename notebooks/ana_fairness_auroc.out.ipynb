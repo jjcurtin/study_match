{
 "cells": [
  {
   "cell_type": "markdown",
   "metadata": {},
   "source": [
    "# Algorithmic Fairness\n",
    "\n",
    "Gaylen Fronk & Kendra Wyant  \n",
    "January 14, 2025\n",
    "\n",
    "### Set Up Environment"
   ],
   "id": "43352025-782c-4cdf-a76b-d03da7d6c223"
  },
  {
   "cell_type": "code",
   "execution_count": null,
   "metadata": {},
   "outputs": [],
   "source": [
    "study <- \"match\"\n",
    "version <- \"v6\"\n",
    "cv <- \"nested\"\n",
    "y_col_name <- \"pp_hybrid_wk4_outcome\"\n"
   ],
   "id": "13d91cdc-3e26-41bb-96fe-18cfc9853e2a"
  },
  {
   "cell_type": "markdown",
   "metadata": {},
   "source": [
    "Packages for script"
   ],
   "id": "6a08bc57-52f4-4307-a4ff-3499f123ba1e"
  },
  {
   "cell_type": "code",
   "execution_count": null,
   "metadata": {},
   "outputs": [
    {
     "output_type": "stream",
     "name": "stderr",
     "text": [
      "── Attaching core tidyverse packages ──────────────────────── tidyverse 2.0.0 ──\n",
      "✔ dplyr     1.1.4     ✔ readr     2.1.5\n",
      "✔ forcats   1.0.0     ✔ stringr   1.5.1\n",
      "✔ ggplot2   3.5.0     ✔ tibble    3.2.1\n",
      "✔ lubridate 1.9.3     ✔ tidyr     1.3.1\n",
      "✔ purrr     1.0.2     \n",
      "── Conflicts ────────────────────────────────────────── tidyverse_conflicts() ──\n",
      "✖ dplyr::filter() masks stats::filter()\n",
      "✖ dplyr::lag()    masks stats::lag()\n",
      "ℹ Use the conflicted package (<http://conflicted.r-lib.org/>) to force all conflicts to become errors"
     ]
    },
    {
     "output_type": "stream",
     "name": "stderr",
     "text": [
      "── Attaching packages ────────────────────────────────────── tidymodels 1.1.1 ──\n",
      "✔ broom        1.0.5      ✔ rsample      1.2.0 \n",
      "✔ dials        1.2.1      ✔ tune         1.1.2 \n",
      "✔ infer        1.0.6      ✔ workflows    1.1.4 \n",
      "✔ modeldata    1.3.0      ✔ workflowsets 1.0.1 \n",
      "✔ parsnip      1.2.0      ✔ yardstick    1.3.0 \n",
      "✔ recipes      1.0.10     \n",
      "── Conflicts ───────────────────────────────────────── tidymodels_conflicts() ──\n",
      "✖ scales::discard() masks purrr::discard()\n",
      "✖ dplyr::filter()   masks stats::filter()\n",
      "✖ recipes::fixed()  masks stringr::fixed()\n",
      "✖ dplyr::lag()      masks stats::lag()\n",
      "✖ yardstick::spec() masks readr::spec()\n",
      "✖ recipes::step()   masks stats::step()\n",
      "• Use tidymodels_prefer() to resolve common conflicts."
     ]
    }
   ],
   "source": [
    "library(tidyposterior)\n",
    "library(tidyverse)\n"
   ],
   "id": "5293e339-b0a1-470b-ab09-c89c927b919b"
  },
  {
   "cell_type": "markdown",
   "metadata": {},
   "source": [
    "Absolute paths"
   ],
   "id": "72a6f8b8-7704-4b96-bd1d-fa190c302636"
  },
  {
   "cell_type": "code",
   "execution_count": null,
   "metadata": {},
   "outputs": [
    {
     "output_type": "stream",
     "name": "stderr",
     "text": [
      "ℹ SHA-1 hash of file is \"a58e57da996d1b70bb9a5b58241325d6fd78890f\""
     ]
    }
   ],
   "source": [
    "devtools::source_url(\"https://github.com/jjcurtin/lab_support/blob/main/format_path.R?raw=true\")\n"
   ],
   "id": "ac2b939a-cd38-41d7-9639-4f2c7e00208d"
  },
  {
   "cell_type": "markdown",
   "metadata": {},
   "source": [
    "Chunk Defaults"
   ],
   "id": "6d69b75f-36c9-4d6c-af30-26c0e1222c8e"
  },
  {
   "cell_type": "code",
   "execution_count": null,
   "metadata": {},
   "outputs": [],
   "source": [
    "knitr::opts_chunk$set(attr.output='style=\"max-height: 500px;\"')\n",
    "\n",
    "options(tibble.width = Inf)\n",
    "options(tibble.print_max = Inf)\n"
   ],
   "id": "2ef37fc6-a1cf-4037-a02d-2bf36beb48f1"
  },
  {
   "cell_type": "markdown",
   "metadata": {},
   "source": [
    "Source"
   ],
   "id": "1264d7d7-e7fc-4f6f-9893-8800dd5f483b"
  },
  {
   "cell_type": "code",
   "execution_count": null,
   "metadata": {},
   "outputs": [
    {
     "output_type": "stream",
     "name": "stderr",
     "text": [
      "ℹ SHA-1 hash of file is \"c045eee2655a18dc85e715b78182f176327358a7\""
     ]
    }
   ],
   "source": [
    "# EDA\n",
    "devtools::source_url(\"https://github.com/jjcurtin/lab_support/blob/main/fun_eda.R?raw=true\")\n"
   ],
   "id": "45fb053a-9ac4-4c9a-85ed-6f2c6b910d5f"
  },
  {
   "cell_type": "markdown",
   "metadata": {},
   "source": [
    "### Read in preds and metrics for best model"
   ],
   "id": "d7ee388f-d8e8-42c7-9371-b187892dab24"
  },
  {
   "cell_type": "code",
   "execution_count": null,
   "metadata": {},
   "outputs": [
    {
     "output_type": "stream",
     "name": "stdout",
     "text": [
      "Rows: 30\n",
      "Columns: 8\n",
      "$ Female               <dbl> 0.5783251, 0.7061404, 0.6829268, 0.5608696, 0.760…\n",
      "$ Male                 <dbl> 0.6911765, 0.7551669, 0.7989510, 0.7280702, 0.704…\n",
      "$ `Not White`          <dbl> 0.7777778, 0.6969697, 0.7098214, 0.7163636, 0.795…\n",
      "$ `White/Non-Hispanic` <dbl> 0.5805322, 0.6601562, 0.6696833, 0.6434109, 0.617…\n",
      "$ `Above Poverty Line` <dbl> 0.5508658, 0.7037500, 0.7365591, 0.6637081, 0.673…\n",
      "$ `Below Poverty Line` <dbl> 0.7250000, 0.6756757, 0.7138047, 0.7600000, 0.791…\n",
      "$ repeat_num           <chr> \"repeat1\", \"repeat1\", \"repeat1\", \"repeat1\", \"repe…\n",
      "$ fold_num             <chr> \"fold1\", \"fold2\", \"fold3\", \"fold4\", \"fold5\", \"fol…"
     ]
    }
   ],
   "source": [
    "auroc_dem <- read_csv(file.path(path_models,\n",
    "                          str_c(\"pp_hybrid_wk4_outcome/\", \"auroc_dem_\", \n",
    "                                version, \"_\", cv, \".csv\")),\n",
    "                      show_col_types = FALSE) |> \n",
    "  arrange(outer_split_num) |> \n",
    "  mutate(repeat_num = rep(str_c(\"repeat\", 1:3), each = 10),\n",
    "         fold_num = rep(str_c(\"fold\", 1:10), 3)) |>   # assumes 3x10 fold\n",
    "  select(-outer_split_num) |> \n",
    "  glimpse()\n"
   ],
   "id": "8f699acc-292a-432f-85fc-4e83e9d63a1f"
  },
  {
   "cell_type": "markdown",
   "metadata": {},
   "source": [
    "### Get Median Posterior Probabilities and contrast analyses\n",
    "\n",
    "function"
   ],
   "id": "bafc22c3-2692-41ef-9226-4f6039a3ffee"
  },
  {
   "cell_type": "code",
   "execution_count": null,
   "metadata": {},
   "outputs": [],
   "source": [
    "calc_pp <- function (data, dem_var) {\n",
    "  \n",
    "  if (dem_var == \"sex\") {\n",
    "    data <- data |> \n",
    "      select(id = repeat_num, id2 = fold_num, Female, Male)\n",
    "  } else if (dem_var == \"income\") {\n",
    "    data <- data |> \n",
    "      select(id = repeat_num, id2 = fold_num, `Below Poverty Line`, `Above Poverty Line`)\n",
    "  } else if (dem_var == \"race_ethnicity\") {\n",
    "    data <- data |> \n",
    "      select(id = repeat_num, id2 = fold_num, `Not White`, `White/Non-Hispanic`)\n",
    "  } else {\n",
    "    stop(dem_var, \" not in data\")\n",
    "  }\n",
    "  \n",
    "  set.seed(101)\n",
    "  pp <- data |> \n",
    "    perf_mod(formula = statistic ~ model + (1 | id2/id),\n",
    "             transform = tidyposterior::logit_trans,  \n",
    "             iter = 2000, chains = 4,  \n",
    "             adapt_delta = .99,\n",
    "             family = gaussian) \n",
    "\n",
    "  pp_tidy <- pp |> \n",
    "    tidy(seed = 123)\n",
    "\n",
    "  q = c(.025, .5, .975)\n",
    "  ci <- pp_tidy |> \n",
    "    group_by(model) |> \n",
    "    summarize(pp_median = quantile(posterior, probs = q[2]),\n",
    "              pp_lower = quantile(posterior, probs = q[1]), \n",
    "              pp_upper = quantile(posterior, probs = q[3]))  |> \n",
    "    arrange(model)\n",
    "  \n",
    "  \n",
    "  contrast_lists <- \n",
    "    if (dem_var == \"sex\") {\n",
    "    c(list(\"Male\"), list(\"Female\"))\n",
    "  } else if (dem_var == \"income\") {\n",
    "    c(list(\"Above Poverty Line\"), list(\"Below Poverty Line\"))\n",
    "  } else if (dem_var == \"race_ethnicity\") {\n",
    "    c(list(\"White/Non-Hispanic\"), list(\"Not White\"))\n",
    "  } else {\n",
    "    stop(dem_var, \" not in data\")\n",
    "  }\n",
    "      \n",
    "  ci_contrast <- pp |>\n",
    "    contrast_models(contrast_lists[1],  contrast_lists[2]) |> \n",
    "  summary(size = 0) \n",
    "  \n",
    "  ci_median_contrast <- pp |> \n",
    "    contrast_models(contrast_lists[1],  contrast_lists[2]) |>  \n",
    "    group_by(contrast) |> \n",
    "    summarize(median = quantile(difference, .5)) |> \n",
    "    mutate(contrast = str_remove(contrast, \"\\\\.\"))\n",
    "\n",
    "\n",
    "ci_contrast <- ci_contrast |> \n",
    "    left_join(ci_median_contrast, by = c(\"contrast\")) |> \n",
    "    select(contrast, probability, median, lower, upper) \n",
    "  \n",
    "  list(ci = ci, ci_contrast = ci_contrast)\n",
    "}\n"
   ],
   "id": "d1d96e3e-3b13-496d-b524-d5fbfa476410"
  },
  {
   "cell_type": "markdown",
   "metadata": {},
   "source": [
    "Sex"
   ],
   "id": "a24e5138-f83b-4091-a3c8-b151b277db7e"
  },
  {
   "cell_type": "code",
   "execution_count": null,
   "metadata": {},
   "outputs": [
    {
     "output_type": "stream",
     "name": "stdout",
     "text": [
      "\n",
      "SAMPLING FOR MODEL 'continuous' NOW (CHAIN 1).\n",
      "Chain 1: \n",
      "Chain 1: Gradient evaluation took 0.000121 seconds\n",
      "Chain 1: 1000 transitions using 10 leapfrog steps per transition would take 1.21 seconds.\n",
      "Chain 1: Adjust your expectations accordingly!\n",
      "Chain 1: \n",
      "Chain 1: \n",
      "Chain 1: Iteration:    1 / 2000 [  0%]  (Warmup)\n",
      "Chain 1: Iteration:  200 / 2000 [ 10%]  (Warmup)\n",
      "Chain 1: Iteration:  400 / 2000 [ 20%]  (Warmup)\n",
      "Chain 1: Iteration:  600 / 2000 [ 30%]  (Warmup)\n",
      "Chain 1: Iteration:  800 / 2000 [ 40%]  (Warmup)\n",
      "Chain 1: Iteration: 1000 / 2000 [ 50%]  (Warmup)\n",
      "Chain 1: Iteration: 1001 / 2000 [ 50%]  (Sampling)\n",
      "Chain 1: Iteration: 1200 / 2000 [ 60%]  (Sampling)\n",
      "Chain 1: Iteration: 1400 / 2000 [ 70%]  (Sampling)\n",
      "Chain 1: Iteration: 1600 / 2000 [ 80%]  (Sampling)\n",
      "Chain 1: Iteration: 1800 / 2000 [ 90%]  (Sampling)\n",
      "Chain 1: Iteration: 2000 / 2000 [100%]  (Sampling)\n",
      "Chain 1: \n",
      "Chain 1:  Elapsed Time: 1.786 seconds (Warm-up)\n",
      "Chain 1:                0.631 seconds (Sampling)\n",
      "Chain 1:                2.417 seconds (Total)\n",
      "Chain 1: \n",
      "\n",
      "SAMPLING FOR MODEL 'continuous' NOW (CHAIN 2).\n",
      "Chain 2: \n",
      "Chain 2: Gradient evaluation took 3.2e-05 seconds\n",
      "Chain 2: 1000 transitions using 10 leapfrog steps per transition would take 0.32 seconds.\n",
      "Chain 2: Adjust your expectations accordingly!\n",
      "Chain 2: \n",
      "Chain 2: \n",
      "Chain 2: Iteration:    1 / 2000 [  0%]  (Warmup)\n",
      "Chain 2: Iteration:  200 / 2000 [ 10%]  (Warmup)\n",
      "Chain 2: Iteration:  400 / 2000 [ 20%]  (Warmup)\n",
      "Chain 2: Iteration:  600 / 2000 [ 30%]  (Warmup)\n",
      "Chain 2: Iteration:  800 / 2000 [ 40%]  (Warmup)\n",
      "Chain 2: Iteration: 1000 / 2000 [ 50%]  (Warmup)\n",
      "Chain 2: Iteration: 1001 / 2000 [ 50%]  (Sampling)\n",
      "Chain 2: Iteration: 1200 / 2000 [ 60%]  (Sampling)\n",
      "Chain 2: Iteration: 1400 / 2000 [ 70%]  (Sampling)\n",
      "Chain 2: Iteration: 1600 / 2000 [ 80%]  (Sampling)\n",
      "Chain 2: Iteration: 1800 / 2000 [ 90%]  (Sampling)\n",
      "Chain 2: Iteration: 2000 / 2000 [100%]  (Sampling)\n",
      "Chain 2: \n",
      "Chain 2:  Elapsed Time: 1.006 seconds (Warm-up)\n",
      "Chain 2:                0.641 seconds (Sampling)\n",
      "Chain 2:                1.647 seconds (Total)\n",
      "Chain 2: \n",
      "\n",
      "SAMPLING FOR MODEL 'continuous' NOW (CHAIN 3).\n",
      "Chain 3: \n",
      "Chain 3: Gradient evaluation took 3e-05 seconds\n",
      "Chain 3: 1000 transitions using 10 leapfrog steps per transition would take 0.3 seconds.\n",
      "Chain 3: Adjust your expectations accordingly!\n",
      "Chain 3: \n",
      "Chain 3: \n",
      "Chain 3: Iteration:    1 / 2000 [  0%]  (Warmup)\n",
      "Chain 3: Iteration:  200 / 2000 [ 10%]  (Warmup)\n",
      "Chain 3: Iteration:  400 / 2000 [ 20%]  (Warmup)\n",
      "Chain 3: Iteration:  600 / 2000 [ 30%]  (Warmup)\n",
      "Chain 3: Iteration:  800 / 2000 [ 40%]  (Warmup)\n",
      "Chain 3: Iteration: 1000 / 2000 [ 50%]  (Warmup)\n",
      "Chain 3: Iteration: 1001 / 2000 [ 50%]  (Sampling)\n",
      "Chain 3: Iteration: 1200 / 2000 [ 60%]  (Sampling)\n",
      "Chain 3: Iteration: 1400 / 2000 [ 70%]  (Sampling)\n",
      "Chain 3: Iteration: 1600 / 2000 [ 80%]  (Sampling)\n",
      "Chain 3: Iteration: 1800 / 2000 [ 90%]  (Sampling)\n",
      "Chain 3: Iteration: 2000 / 2000 [100%]  (Sampling)\n",
      "Chain 3: \n",
      "Chain 3:  Elapsed Time: 1.066 seconds (Warm-up)\n",
      "Chain 3:                0.887 seconds (Sampling)\n",
      "Chain 3:                1.953 seconds (Total)\n",
      "Chain 3: \n",
      "\n",
      "SAMPLING FOR MODEL 'continuous' NOW (CHAIN 4).\n",
      "Chain 4: \n",
      "Chain 4: Gradient evaluation took 3.1e-05 seconds\n",
      "Chain 4: 1000 transitions using 10 leapfrog steps per transition would take 0.31 seconds.\n",
      "Chain 4: Adjust your expectations accordingly!\n",
      "Chain 4: \n",
      "Chain 4: \n",
      "Chain 4: Iteration:    1 / 2000 [  0%]  (Warmup)\n",
      "Chain 4: Iteration:  200 / 2000 [ 10%]  (Warmup)\n",
      "Chain 4: Iteration:  400 / 2000 [ 20%]  (Warmup)\n",
      "Chain 4: Iteration:  600 / 2000 [ 30%]  (Warmup)\n",
      "Chain 4: Iteration:  800 / 2000 [ 40%]  (Warmup)\n",
      "Chain 4: Iteration: 1000 / 2000 [ 50%]  (Warmup)\n",
      "Chain 4: Iteration: 1001 / 2000 [ 50%]  (Sampling)\n",
      "Chain 4: Iteration: 1200 / 2000 [ 60%]  (Sampling)\n",
      "Chain 4: Iteration: 1400 / 2000 [ 70%]  (Sampling)\n",
      "Chain 4: Iteration: 1600 / 2000 [ 80%]  (Sampling)\n",
      "Chain 4: Iteration: 1800 / 2000 [ 90%]  (Sampling)\n",
      "Chain 4: Iteration: 2000 / 2000 [100%]  (Sampling)\n",
      "Chain 4: \n",
      "Chain 4:  Elapsed Time: 1.013 seconds (Warm-up)\n",
      "Chain 4:                0.998 seconds (Sampling)\n",
      "Chain 4:                2.011 seconds (Total)\n",
      "Chain 4: "
     ]
    },
    {
     "output_type": "stream",
     "name": "stdout",
     "text": [
      "# A tibble: 2 × 4\n",
      "  model  pp_median pp_lower pp_upper\n",
      "  <chr>      <dbl>    <dbl>    <dbl>\n",
      "1 Female     0.670    0.639    0.698\n",
      "2 Male       0.726    0.699    0.751"
     ]
    },
    {
     "output_type": "stream",
     "name": "stdout",
     "text": [
      "# A tibble: 1 × 5\n",
      "  contrast       probability median  lower  upper\n",
      "  <chr>                <dbl>  <dbl>  <dbl>  <dbl>\n",
      "1 Male vs Female       0.998 0.0559 0.0261 0.0866"
     ]
    }
   ],
   "source": [
    "sex <- calc_pp(data = auroc_dem, \"sex\")\n"
   ],
   "id": "6e20f01e-2181-4240-8499-4bcefadb5ecf"
  },
  {
   "cell_type": "markdown",
   "metadata": {},
   "source": [
    "Income"
   ],
   "id": "ec50758d-4538-4b56-a820-c3793fda4bdd"
  },
  {
   "cell_type": "code",
   "execution_count": null,
   "metadata": {},
   "outputs": [
    {
     "output_type": "stream",
     "name": "stdout",
     "text": [
      "\n",
      "SAMPLING FOR MODEL 'continuous' NOW (CHAIN 1).\n",
      "Chain 1: \n",
      "Chain 1: Gradient evaluation took 3e-05 seconds\n",
      "Chain 1: 1000 transitions using 10 leapfrog steps per transition would take 0.3 seconds.\n",
      "Chain 1: Adjust your expectations accordingly!\n",
      "Chain 1: \n",
      "Chain 1: \n",
      "Chain 1: Iteration:    1 / 2000 [  0%]  (Warmup)\n",
      "Chain 1: Iteration:  200 / 2000 [ 10%]  (Warmup)\n",
      "Chain 1: Iteration:  400 / 2000 [ 20%]  (Warmup)\n",
      "Chain 1: Iteration:  600 / 2000 [ 30%]  (Warmup)\n",
      "Chain 1: Iteration:  800 / 2000 [ 40%]  (Warmup)\n",
      "Chain 1: Iteration: 1000 / 2000 [ 50%]  (Warmup)\n",
      "Chain 1: Iteration: 1001 / 2000 [ 50%]  (Sampling)\n",
      "Chain 1: Iteration: 1200 / 2000 [ 60%]  (Sampling)\n",
      "Chain 1: Iteration: 1400 / 2000 [ 70%]  (Sampling)\n",
      "Chain 1: Iteration: 1600 / 2000 [ 80%]  (Sampling)\n",
      "Chain 1: Iteration: 1800 / 2000 [ 90%]  (Sampling)\n",
      "Chain 1: Iteration: 2000 / 2000 [100%]  (Sampling)\n",
      "Chain 1: \n",
      "Chain 1:  Elapsed Time: 1.931 seconds (Warm-up)\n",
      "Chain 1:                0.8 seconds (Sampling)\n",
      "Chain 1:                2.731 seconds (Total)\n",
      "Chain 1: \n",
      "\n",
      "SAMPLING FOR MODEL 'continuous' NOW (CHAIN 2).\n",
      "Chain 2: \n",
      "Chain 2: Gradient evaluation took 3.3e-05 seconds\n",
      "Chain 2: 1000 transitions using 10 leapfrog steps per transition would take 0.33 seconds.\n",
      "Chain 2: Adjust your expectations accordingly!\n",
      "Chain 2: \n",
      "Chain 2: \n",
      "Chain 2: Iteration:    1 / 2000 [  0%]  (Warmup)\n",
      "Chain 2: Iteration:  200 / 2000 [ 10%]  (Warmup)\n",
      "Chain 2: Iteration:  400 / 2000 [ 20%]  (Warmup)\n",
      "Chain 2: Iteration:  600 / 2000 [ 30%]  (Warmup)\n",
      "Chain 2: Iteration:  800 / 2000 [ 40%]  (Warmup)\n",
      "Chain 2: Iteration: 1000 / 2000 [ 50%]  (Warmup)\n",
      "Chain 2: Iteration: 1001 / 2000 [ 50%]  (Sampling)\n",
      "Chain 2: Iteration: 1200 / 2000 [ 60%]  (Sampling)\n",
      "Chain 2: Iteration: 1400 / 2000 [ 70%]  (Sampling)\n",
      "Chain 2: Iteration: 1600 / 2000 [ 80%]  (Sampling)\n",
      "Chain 2: Iteration: 1800 / 2000 [ 90%]  (Sampling)\n",
      "Chain 2: Iteration: 2000 / 2000 [100%]  (Sampling)\n",
      "Chain 2: \n",
      "Chain 2:  Elapsed Time: 1.331 seconds (Warm-up)\n",
      "Chain 2:                0.821 seconds (Sampling)\n",
      "Chain 2:                2.152 seconds (Total)\n",
      "Chain 2: \n",
      "\n",
      "SAMPLING FOR MODEL 'continuous' NOW (CHAIN 3).\n",
      "Chain 3: \n",
      "Chain 3: Gradient evaluation took 3e-05 seconds\n",
      "Chain 3: 1000 transitions using 10 leapfrog steps per transition would take 0.3 seconds.\n",
      "Chain 3: Adjust your expectations accordingly!\n",
      "Chain 3: \n",
      "Chain 3: \n",
      "Chain 3: Iteration:    1 / 2000 [  0%]  (Warmup)\n",
      "Chain 3: Iteration:  200 / 2000 [ 10%]  (Warmup)\n",
      "Chain 3: Iteration:  400 / 2000 [ 20%]  (Warmup)\n",
      "Chain 3: Iteration:  600 / 2000 [ 30%]  (Warmup)\n",
      "Chain 3: Iteration:  800 / 2000 [ 40%]  (Warmup)\n",
      "Chain 3: Iteration: 1000 / 2000 [ 50%]  (Warmup)\n",
      "Chain 3: Iteration: 1001 / 2000 [ 50%]  (Sampling)\n",
      "Chain 3: Iteration: 1200 / 2000 [ 60%]  (Sampling)\n",
      "Chain 3: Iteration: 1400 / 2000 [ 70%]  (Sampling)\n",
      "Chain 3: Iteration: 1600 / 2000 [ 80%]  (Sampling)\n",
      "Chain 3: Iteration: 1800 / 2000 [ 90%]  (Sampling)\n",
      "Chain 3: Iteration: 2000 / 2000 [100%]  (Sampling)\n",
      "Chain 3: \n",
      "Chain 3:  Elapsed Time: 0.954 seconds (Warm-up)\n",
      "Chain 3:                0.565 seconds (Sampling)\n",
      "Chain 3:                1.519 seconds (Total)\n",
      "Chain 3: \n",
      "\n",
      "SAMPLING FOR MODEL 'continuous' NOW (CHAIN 4).\n",
      "Chain 4: \n",
      "Chain 4: Gradient evaluation took 3.1e-05 seconds\n",
      "Chain 4: 1000 transitions using 10 leapfrog steps per transition would take 0.31 seconds.\n",
      "Chain 4: Adjust your expectations accordingly!\n",
      "Chain 4: \n",
      "Chain 4: \n",
      "Chain 4: Iteration:    1 / 2000 [  0%]  (Warmup)\n",
      "Chain 4: Iteration:  200 / 2000 [ 10%]  (Warmup)\n",
      "Chain 4: Iteration:  400 / 2000 [ 20%]  (Warmup)\n",
      "Chain 4: Iteration:  600 / 2000 [ 30%]  (Warmup)\n",
      "Chain 4: Iteration:  800 / 2000 [ 40%]  (Warmup)\n",
      "Chain 4: Iteration: 1000 / 2000 [ 50%]  (Warmup)\n",
      "Chain 4: Iteration: 1001 / 2000 [ 50%]  (Sampling)\n",
      "Chain 4: Iteration: 1200 / 2000 [ 60%]  (Sampling)\n",
      "Chain 4: Iteration: 1400 / 2000 [ 70%]  (Sampling)\n",
      "Chain 4: Iteration: 1600 / 2000 [ 80%]  (Sampling)\n",
      "Chain 4: Iteration: 1800 / 2000 [ 90%]  (Sampling)\n",
      "Chain 4: Iteration: 2000 / 2000 [100%]  (Sampling)\n",
      "Chain 4: \n",
      "Chain 4:  Elapsed Time: 0.945 seconds (Warm-up)\n",
      "Chain 4:                0.563 seconds (Sampling)\n",
      "Chain 4:                1.508 seconds (Total)\n",
      "Chain 4: "
     ]
    },
    {
     "output_type": "stream",
     "name": "stdout",
     "text": [
      "# A tibble: 2 × 4\n",
      "  model              pp_median pp_lower pp_upper\n",
      "  <chr>                  <dbl>    <dbl>    <dbl>\n",
      "1 Above Poverty Line     0.658    0.628    0.685\n",
      "2 Below Poverty Line     0.690    0.661    0.717"
     ]
    },
    {
     "output_type": "stream",
     "name": "stdout",
     "text": [
      "# A tibble: 1 × 5\n",
      "  contrast                                 probability  median   lower    upper\n",
      "  <chr>                                          <dbl>   <dbl>   <dbl>    <dbl>\n",
      "1 Above Poverty Line vs Below Poverty Line      0.0335 -0.0331 -0.0618 -0.00397"
     ]
    }
   ],
   "source": [
    "income <- calc_pp(data = auroc_dem, \"income\")\n"
   ],
   "id": "6f17336d-ff71-46c2-a666-e06b87416442"
  },
  {
   "cell_type": "markdown",
   "metadata": {},
   "source": [
    "Race/Ethnicity"
   ],
   "id": "bf89ee8d-6241-42b6-9c3b-7fd5c9c9e522"
  },
  {
   "cell_type": "code",
   "execution_count": null,
   "metadata": {},
   "outputs": [
    {
     "output_type": "stream",
     "name": "stdout",
     "text": [
      "\n",
      "SAMPLING FOR MODEL 'continuous' NOW (CHAIN 1).\n",
      "Chain 1: \n",
      "Chain 1: Gradient evaluation took 3.3e-05 seconds\n",
      "Chain 1: 1000 transitions using 10 leapfrog steps per transition would take 0.33 seconds.\n",
      "Chain 1: Adjust your expectations accordingly!\n",
      "Chain 1: \n",
      "Chain 1: \n",
      "Chain 1: Iteration:    1 / 2000 [  0%]  (Warmup)\n",
      "Chain 1: Iteration:  200 / 2000 [ 10%]  (Warmup)\n",
      "Chain 1: Iteration:  400 / 2000 [ 20%]  (Warmup)\n",
      "Chain 1: Iteration:  600 / 2000 [ 30%]  (Warmup)\n",
      "Chain 1: Iteration:  800 / 2000 [ 40%]  (Warmup)\n",
      "Chain 1: Iteration: 1000 / 2000 [ 50%]  (Warmup)\n",
      "Chain 1: Iteration: 1001 / 2000 [ 50%]  (Sampling)\n",
      "Chain 1: Iteration: 1200 / 2000 [ 60%]  (Sampling)\n",
      "Chain 1: Iteration: 1400 / 2000 [ 70%]  (Sampling)\n",
      "Chain 1: Iteration: 1600 / 2000 [ 80%]  (Sampling)\n",
      "Chain 1: Iteration: 1800 / 2000 [ 90%]  (Sampling)\n",
      "Chain 1: Iteration: 2000 / 2000 [100%]  (Sampling)\n",
      "Chain 1: \n",
      "Chain 1:  Elapsed Time: 0.917 seconds (Warm-up)\n",
      "Chain 1:                0.569 seconds (Sampling)\n",
      "Chain 1:                1.486 seconds (Total)\n",
      "Chain 1: \n",
      "\n",
      "SAMPLING FOR MODEL 'continuous' NOW (CHAIN 2).\n",
      "Chain 2: \n",
      "Chain 2: Gradient evaluation took 3.1e-05 seconds\n",
      "Chain 2: 1000 transitions using 10 leapfrog steps per transition would take 0.31 seconds.\n",
      "Chain 2: Adjust your expectations accordingly!\n",
      "Chain 2: \n",
      "Chain 2: \n",
      "Chain 2: Iteration:    1 / 2000 [  0%]  (Warmup)\n",
      "Chain 2: Iteration:  200 / 2000 [ 10%]  (Warmup)\n",
      "Chain 2: Iteration:  400 / 2000 [ 20%]  (Warmup)\n",
      "Chain 2: Iteration:  600 / 2000 [ 30%]  (Warmup)\n",
      "Chain 2: Iteration:  800 / 2000 [ 40%]  (Warmup)\n",
      "Chain 2: Iteration: 1000 / 2000 [ 50%]  (Warmup)\n",
      "Chain 2: Iteration: 1001 / 2000 [ 50%]  (Sampling)\n",
      "Chain 2: Iteration: 1200 / 2000 [ 60%]  (Sampling)\n",
      "Chain 2: Iteration: 1400 / 2000 [ 70%]  (Sampling)\n",
      "Chain 2: Iteration: 1600 / 2000 [ 80%]  (Sampling)\n",
      "Chain 2: Iteration: 1800 / 2000 [ 90%]  (Sampling)\n",
      "Chain 2: Iteration: 2000 / 2000 [100%]  (Sampling)\n",
      "Chain 2: \n",
      "Chain 2:  Elapsed Time: 1.055 seconds (Warm-up)\n",
      "Chain 2:                0.56 seconds (Sampling)\n",
      "Chain 2:                1.615 seconds (Total)\n",
      "Chain 2: \n",
      "\n",
      "SAMPLING FOR MODEL 'continuous' NOW (CHAIN 3).\n",
      "Chain 3: \n",
      "Chain 3: Gradient evaluation took 3e-05 seconds\n",
      "Chain 3: 1000 transitions using 10 leapfrog steps per transition would take 0.3 seconds.\n",
      "Chain 3: Adjust your expectations accordingly!\n",
      "Chain 3: \n",
      "Chain 3: \n",
      "Chain 3: Iteration:    1 / 2000 [  0%]  (Warmup)\n",
      "Chain 3: Iteration:  200 / 2000 [ 10%]  (Warmup)\n",
      "Chain 3: Iteration:  400 / 2000 [ 20%]  (Warmup)\n",
      "Chain 3: Iteration:  600 / 2000 [ 30%]  (Warmup)\n",
      "Chain 3: Iteration:  800 / 2000 [ 40%]  (Warmup)\n",
      "Chain 3: Iteration: 1000 / 2000 [ 50%]  (Warmup)\n",
      "Chain 3: Iteration: 1001 / 2000 [ 50%]  (Sampling)\n",
      "Chain 3: Iteration: 1200 / 2000 [ 60%]  (Sampling)\n",
      "Chain 3: Iteration: 1400 / 2000 [ 70%]  (Sampling)\n",
      "Chain 3: Iteration: 1600 / 2000 [ 80%]  (Sampling)\n",
      "Chain 3: Iteration: 1800 / 2000 [ 90%]  (Sampling)\n",
      "Chain 3: Iteration: 2000 / 2000 [100%]  (Sampling)\n",
      "Chain 3: \n",
      "Chain 3:  Elapsed Time: 1.081 seconds (Warm-up)\n",
      "Chain 3:                0.562 seconds (Sampling)\n",
      "Chain 3:                1.643 seconds (Total)\n",
      "Chain 3: \n",
      "\n",
      "SAMPLING FOR MODEL 'continuous' NOW (CHAIN 4).\n",
      "Chain 4: \n",
      "Chain 4: Gradient evaluation took 3e-05 seconds\n",
      "Chain 4: 1000 transitions using 10 leapfrog steps per transition would take 0.3 seconds.\n",
      "Chain 4: Adjust your expectations accordingly!\n",
      "Chain 4: \n",
      "Chain 4: \n",
      "Chain 4: Iteration:    1 / 2000 [  0%]  (Warmup)\n",
      "Chain 4: Iteration:  200 / 2000 [ 10%]  (Warmup)\n",
      "Chain 4: Iteration:  400 / 2000 [ 20%]  (Warmup)\n",
      "Chain 4: Iteration:  600 / 2000 [ 30%]  (Warmup)\n",
      "Chain 4: Iteration:  800 / 2000 [ 40%]  (Warmup)\n",
      "Chain 4: Iteration: 1000 / 2000 [ 50%]  (Warmup)\n",
      "Chain 4: Iteration: 1001 / 2000 [ 50%]  (Sampling)\n",
      "Chain 4: Iteration: 1200 / 2000 [ 60%]  (Sampling)\n",
      "Chain 4: Iteration: 1400 / 2000 [ 70%]  (Sampling)\n",
      "Chain 4: Iteration: 1600 / 2000 [ 80%]  (Sampling)\n",
      "Chain 4: Iteration: 1800 / 2000 [ 90%]  (Sampling)\n",
      "Chain 4: Iteration: 2000 / 2000 [100%]  (Sampling)\n",
      "Chain 4: \n",
      "Chain 4:  Elapsed Time: 1.194 seconds (Warm-up)\n",
      "Chain 4:                1.096 seconds (Sampling)\n",
      "Chain 4:                2.29 seconds (Total)\n",
      "Chain 4: "
     ]
    },
    {
     "output_type": "stream",
     "name": "stdout",
     "text": [
      "# A tibble: 2 × 4\n",
      "  model              pp_median pp_lower pp_upper\n",
      "  <chr>                  <dbl>    <dbl>    <dbl>\n",
      "1 Not White              0.687    0.653    0.719\n",
      "2 White/Non-Hispanic     0.639    0.602    0.674"
     ]
    },
    {
     "output_type": "stream",
     "name": "stdout",
     "text": [
      "# A tibble: 1 × 5\n",
      "  contrast                        probability  median   lower   upper\n",
      "  <chr>                                 <dbl>   <dbl>   <dbl>   <dbl>\n",
      "1 White/Non-Hispanic vs Not White      0.0105 -0.0481 -0.0839 -0.0127"
     ]
    }
   ],
   "source": [
    "race_eth <- calc_pp(data = auroc_dem, \"race_ethnicity\")\n"
   ],
   "id": "d2340147-55f4-42f2-a6ef-39f575130b11"
  },
  {
   "cell_type": "markdown",
   "metadata": {},
   "source": [
    "Bind all pp/contrast tibbles and save"
   ],
   "id": "7c5f2ee2-2f52-4c55-8814-a871d4e365e0"
  },
  {
   "cell_type": "code",
   "execution_count": null,
   "metadata": {},
   "outputs": [],
   "source": [
    "pp_sex |> \n",
    "  bind_rows(pp_income) |> \n",
    "  bind_rows(pp_race_eth) |> \n",
    "  write_csv(file.path(path_models, \"pp_dem_all.csv\"))\n",
    "\n",
    "contrast_sex |> \n",
    "  bind_rows(contrast_income) |> \n",
    "  bind_rows(contrast_race_eth) |> \n",
    "  write_csv(file.path(path_models, \"pp_dem_contrast_all.csv\"))\n"
   ],
   "id": "4e83256b-3184-4dc6-a606-9090520ed618"
  }
 ],
 "nbformat": 4,
 "nbformat_minor": 5,
 "metadata": {}
}

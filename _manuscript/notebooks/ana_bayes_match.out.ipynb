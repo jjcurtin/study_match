{
 "cells": [
  {
   "cell_type": "markdown",
   "metadata": {},
   "source": [
    "# Posterior probabilities across models for Insight study (version v5)\n",
    "\n",
    "John Curtin  \n",
    "March 29, 2024\n",
    "\n",
    "### Code Status\n",
    "\n",
    "In use with iterative improvement.\n",
    "\n",
    "Updating for use with MATCH\n",
    "\n",
    "### Notes\n",
    "\n",
    "Can review online docs for\n",
    "\n",
    "-   [how to use rstanarm](https://cran.r-project.org/web/packages/rstanarm/vignettes/rstanarm.html)\n",
    "-   [priors](https://cran.r-project.org/web/packages/rstanarm/vignettes/priors.html)\n",
    "-   [warnings](https://mc-stan.org/misc/warnings.html)\n",
    "-   [tutorial on rstanarm and shinystan](https://www.tqmp.org/RegularArticles/vol14-2/p099/p099.pdf)\n",
    "-   [R Bloggers on perf_mod](https://www.r-bloggers.com/2019/12/tidyposteriors-bayesian-approach-to-model-comparison/)\n",
    "\n",
    "### Set Up Environment"
   ],
   "id": "87127c04-151c-4fbd-9524-b779d2e4e1c0"
  },
  {
   "cell_type": "code",
   "execution_count": null,
   "metadata": {},
   "outputs": [],
   "source": [
    "study <- params$study\n",
    "version <- params$version\n",
    "cv <- params$cv\n"
   ],
   "id": "2866eade-2eed-4c21-809e-9086ea21925a"
  },
  {
   "cell_type": "markdown",
   "metadata": {},
   "source": [
    "Packages for script"
   ],
   "id": "473e6d6a-5242-4ba8-8d8f-25dec18ec739"
  },
  {
   "cell_type": "code",
   "execution_count": null,
   "metadata": {},
   "outputs": [
    {
     "output_type": "stream",
     "name": "stderr",
     "text": [
      "── Attaching core tidyverse packages ──────────────────────── tidyverse 2.0.0 ──\n",
      "✔ dplyr     1.1.4     ✔ readr     2.1.5\n",
      "✔ forcats   1.0.0     ✔ stringr   1.5.1\n",
      "✔ ggplot2   3.4.4     ✔ tibble    3.2.1\n",
      "✔ lubridate 1.9.3     ✔ tidyr     1.3.1\n",
      "✔ purrr     1.0.2     \n",
      "── Conflicts ────────────────────────────────────────── tidyverse_conflicts() ──\n",
      "✖ dplyr::filter() masks stats::filter()\n",
      "✖ dplyr::lag()    masks stats::lag()\n",
      "ℹ Use the conflicted package (<http://conflicted.r-lib.org/>) to force all conflicts to become errors"
     ]
    },
    {
     "output_type": "stream",
     "name": "stderr",
     "text": [
      "── Attaching packages ────────────────────────────────────── tidymodels 1.1.1 ──\n",
      "✔ broom        1.0.5     ✔ rsample      1.2.0\n",
      "✔ dials        1.2.0     ✔ tune         1.1.2\n",
      "✔ infer        1.0.6     ✔ workflows    1.1.3\n",
      "✔ modeldata    1.3.0     ✔ workflowsets 1.0.1\n",
      "✔ parsnip      1.1.1     ✔ yardstick    1.3.0\n",
      "✔ recipes      1.0.9     \n",
      "── Conflicts ───────────────────────────────────────── tidymodels_conflicts() ──\n",
      "✖ scales::discard() masks purrr::discard()\n",
      "✖ dplyr::filter()   masks stats::filter()\n",
      "✖ recipes::fixed()  masks stringr::fixed()\n",
      "✖ dplyr::lag()      masks stats::lag()\n",
      "✖ yardstick::spec() masks readr::spec()\n",
      "✖ recipes::step()   masks stats::step()\n",
      "• Dig deeper into tidy modeling with R at https://www.tmwr.org"
     ]
    }
   ],
   "source": [
    "library(tidyposterior)\n",
    "library(tidyverse)\n"
   ],
   "id": "8c1898a8-25fc-4a3a-a415-847dc8ad12f8"
  },
  {
   "cell_type": "markdown",
   "metadata": {},
   "source": [
    "Absolute paths"
   ],
   "id": "7a7290c2-ddf0-4f15-823f-e75f14f33f9e"
  },
  {
   "cell_type": "code",
   "execution_count": null,
   "metadata": {},
   "outputs": [],
   "source": [
    "switch (Sys.info()[['sysname']],\n",
    "        # PC paths\n",
    "        Windows = {\n",
    "          path_models <- \"P:/studydata/match/models/\"},\n",
    "        \n",
    "        # IOS paths\n",
    "        Darwin = {\n",
    "          path_models <- \"/Volumes/private/studydata/match/models/\"},\n",
    "        \n",
    "        # Linux paths\n",
    "        Linux = {\n",
    "          path_models <- \"~/mnt/private/studydata/match/models/\"}\n",
    ")\n"
   ],
   "id": "764346f9-b089-465d-9b38-b2d75fbca31d"
  },
  {
   "cell_type": "markdown",
   "metadata": {},
   "source": [
    "Chunk Defaults"
   ],
   "id": "c85f146a-70f8-4411-948b-d8205ceef544"
  },
  {
   "cell_type": "code",
   "execution_count": null,
   "metadata": {},
   "outputs": [],
   "source": [
    "knitr::opts_chunk$set(attr.output='style=\"max-height: 500px;\"')\n",
    "\n",
    "options(tibble.width = Inf)\n",
    "options(tibble.print_max = Inf)\n"
   ],
   "id": "b4c8116a-89f8-4809-85a4-61e64839fcef"
  },
  {
   "cell_type": "markdown",
   "metadata": {},
   "source": [
    "Source training controls"
   ],
   "id": "6305cc10-58ba-4d2e-92f2-47549c091d70"
  },
  {
   "cell_type": "code",
   "execution_count": null,
   "metadata": {},
   "outputs": [
    {
     "output_type": "stream",
     "name": "stderr",
     "text": [
      "ℹ SHA-1 hash of file is \"c045eee2655a18dc85e715b78182f176327358a7\""
     ]
    }
   ],
   "source": [
    "# EDA\n",
    "devtools::source_url(\"https://github.com/jjcurtin/lab_support/blob/main/fun_eda.R?raw=true\")\n"
   ],
   "id": "cbfb5079-30ce-4513-bd24-8128eca33690"
  },
  {
   "cell_type": "markdown",
   "metadata": {},
   "source": [
    "### Read in preds and metrics for best model"
   ],
   "id": "d4efc16b-92e3-4d23-99b3-41503c2dbd6c"
  },
  {
   "cell_type": "code",
   "execution_count": null,
   "metadata": {},
   "outputs": [
    {
     "output_type": "stream",
     "name": "stdout",
     "text": [
      "Rows: 30\n",
      "Columns: 3\n",
      "$ repeat_num <chr> \"repeat1\", \"repeat1\", \"repeat1\", \"repeat1\", \"repeat1\", \"rep…\n",
      "$ fold_num   <chr> \"fold1\", \"fold2\", \"fold3\", \"fold4\", \"fold5\", \"fold6\", \"fold…\n",
      "$ roc_auc    <dbl> 0.5890269, 0.7058600, 0.6805259, 0.6269727, 0.7406656, 0.75…"
     ]
    },
    {
     "output_type": "stream",
     "name": "stdout",
     "text": [
      "Rows: 30\n",
      "Columns: 3\n",
      "$ repeat_num <chr> \"repeat1\", \"repeat1\", \"repeat1\", \"repeat1\", \"repeat1\", \"rep…\n",
      "$ fold_num   <chr> \"fold1\", \"fold2\", \"fold3\", \"fold4\", \"fold5\", \"fold6\", \"fold…\n",
      "$ roc_auc    <dbl> 0.6405063, 0.6494382, 0.6066667, 0.5852641, 0.6827004, 0.63…"
     ]
    },
    {
     "output_type": "stream",
     "name": "stdout",
     "text": [
      "Rows: 30\n",
      "Columns: 4\n",
      "$ repeat_num <chr> \"repeat1\", \"repeat1\", \"repeat1\", \"repeat1\", \"repeat1\", \"rep…\n",
      "$ fold_num   <chr> \"fold1\", \"fold2\", \"fold3\", \"fold4\", \"fold5\", \"fold6\", \"fold…\n",
      "$ week_4     <dbl> 0.5890269, 0.7058600, 0.6805259, 0.6269727, 0.7406656, 0.75…\n",
      "$ week_26    <dbl> 0.6405063, 0.6494382, 0.6066667, 0.5852641, 0.6827004, 0.63…"
     ]
    }
   ],
   "source": [
    "auc_wk4 <- read_rds(file.path(path_models, \"pp_hybrid_wk4_outcome\",\n",
    "                              str_c(\"outer_metrics_\", \n",
    "                                    version, \"_\", cv, \".rds\"))) |> \n",
    "  arrange(outer_split_num) |> \n",
    "  mutate(repeat_num = rep(str_c(\"repeat\", 1:3), each = 10),\n",
    "         fold_num = rep(str_c(\"fold\", 1:10), 3)) |>   # assumes 3x10 fold\n",
    "  select(repeat_num, fold_num, roc_auc) |> \n",
    "  glimpse()\n"
   ],
   "id": "330214c7-1d45-41e2-b22a-3c43e2c2ccd4"
  },
  {
   "cell_type": "code",
   "execution_count": null,
   "metadata": {},
   "outputs": [
    {
     "output_type": "display_data",
     "metadata": {},
     "data": {
      "image/png": "[encoded data removed]"
     }
    },
    {
     "output_type": "display_data",
     "metadata": {},
     "data": {
      "image/png": "[encoded data removed]"
     }
    }
   ],
   "source": [
    "auc_wk4 %>% \n",
    "  ggplot() + \n",
    "  geom_histogram(aes(x = roc_auc), bins = 10)\n"
   ],
   "id": "554faa41-8ce5-4839-9ac6-4f8a7d788944"
  },
  {
   "cell_type": "markdown",
   "metadata": {},
   "source": [
    "### All models"
   ],
   "id": "8db6716f-3231-43b3-82b9-c841bd14da65"
  },
  {
   "cell_type": "code",
   "execution_count": null,
   "metadata": {},
   "outputs": [
    {
     "output_type": "stream",
     "name": "stdout",
     "text": [
      "\n",
      "SAMPLING FOR MODEL 'continuous' NOW (CHAIN 1).\n",
      "Chain 1: \n",
      "Chain 1: Gradient evaluation took 7.1e-05 seconds\n",
      "Chain 1: 1000 transitions using 10 leapfrog steps per transition would take 0.71 seconds.\n",
      "Chain 1: Adjust your expectations accordingly!\n",
      "Chain 1: \n",
      "Chain 1: \n",
      "Chain 1: Iteration:    1 / 2000 [  0%]  (Warmup)\n",
      "Chain 1: Iteration:  200 / 2000 [ 10%]  (Warmup)\n",
      "Chain 1: Iteration:  400 / 2000 [ 20%]  (Warmup)\n",
      "Chain 1: Iteration:  600 / 2000 [ 30%]  (Warmup)\n",
      "Chain 1: Iteration:  800 / 2000 [ 40%]  (Warmup)\n",
      "Chain 1: Iteration: 1000 / 2000 [ 50%]  (Warmup)\n",
      "Chain 1: Iteration: 1001 / 2000 [ 50%]  (Sampling)\n",
      "Chain 1: Iteration: 1200 / 2000 [ 60%]  (Sampling)\n",
      "Chain 1: Iteration: 1400 / 2000 [ 70%]  (Sampling)\n",
      "Chain 1: Iteration: 1600 / 2000 [ 80%]  (Sampling)\n",
      "Chain 1: Iteration: 1800 / 2000 [ 90%]  (Sampling)\n",
      "Chain 1: Iteration: 2000 / 2000 [100%]  (Sampling)\n",
      "Chain 1: \n",
      "Chain 1:  Elapsed Time: 1.1 seconds (Warm-up)\n",
      "Chain 1:                0.784 seconds (Sampling)\n",
      "Chain 1:                1.884 seconds (Total)\n",
      "Chain 1: \n",
      "\n",
      "SAMPLING FOR MODEL 'continuous' NOW (CHAIN 2).\n",
      "Chain 2: \n",
      "Chain 2: Gradient evaluation took 2.6e-05 seconds\n",
      "Chain 2: 1000 transitions using 10 leapfrog steps per transition would take 0.26 seconds.\n",
      "Chain 2: Adjust your expectations accordingly!\n",
      "Chain 2: \n",
      "Chain 2: \n",
      "Chain 2: Iteration:    1 / 2000 [  0%]  (Warmup)\n",
      "Chain 2: Iteration:  200 / 2000 [ 10%]  (Warmup)\n",
      "Chain 2: Iteration:  400 / 2000 [ 20%]  (Warmup)\n",
      "Chain 2: Iteration:  600 / 2000 [ 30%]  (Warmup)\n",
      "Chain 2: Iteration:  800 / 2000 [ 40%]  (Warmup)\n",
      "Chain 2: Iteration: 1000 / 2000 [ 50%]  (Warmup)\n",
      "Chain 2: Iteration: 1001 / 2000 [ 50%]  (Sampling)\n",
      "Chain 2: Iteration: 1200 / 2000 [ 60%]  (Sampling)\n",
      "Chain 2: Iteration: 1400 / 2000 [ 70%]  (Sampling)\n",
      "Chain 2: Iteration: 1600 / 2000 [ 80%]  (Sampling)\n",
      "Chain 2: Iteration: 1800 / 2000 [ 90%]  (Sampling)\n",
      "Chain 2: Iteration: 2000 / 2000 [100%]  (Sampling)\n",
      "Chain 2: \n",
      "Chain 2:  Elapsed Time: 1.014 seconds (Warm-up)\n",
      "Chain 2:                0.549 seconds (Sampling)\n",
      "Chain 2:                1.563 seconds (Total)\n",
      "Chain 2: \n",
      "\n",
      "SAMPLING FOR MODEL 'continuous' NOW (CHAIN 3).\n",
      "Chain 3: \n",
      "Chain 3: Gradient evaluation took 2.6e-05 seconds\n",
      "Chain 3: 1000 transitions using 10 leapfrog steps per transition would take 0.26 seconds.\n",
      "Chain 3: Adjust your expectations accordingly!\n",
      "Chain 3: \n",
      "Chain 3: \n",
      "Chain 3: Iteration:    1 / 2000 [  0%]  (Warmup)\n",
      "Chain 3: Iteration:  200 / 2000 [ 10%]  (Warmup)\n",
      "Chain 3: Iteration:  400 / 2000 [ 20%]  (Warmup)\n",
      "Chain 3: Iteration:  600 / 2000 [ 30%]  (Warmup)\n",
      "Chain 3: Iteration:  800 / 2000 [ 40%]  (Warmup)\n",
      "Chain 3: Iteration: 1000 / 2000 [ 50%]  (Warmup)\n",
      "Chain 3: Iteration: 1001 / 2000 [ 50%]  (Sampling)\n",
      "Chain 3: Iteration: 1200 / 2000 [ 60%]  (Sampling)\n",
      "Chain 3: Iteration: 1400 / 2000 [ 70%]  (Sampling)\n",
      "Chain 3: Iteration: 1600 / 2000 [ 80%]  (Sampling)\n",
      "Chain 3: Iteration: 1800 / 2000 [ 90%]  (Sampling)\n",
      "Chain 3: Iteration: 2000 / 2000 [100%]  (Sampling)\n",
      "Chain 3: \n",
      "Chain 3:  Elapsed Time: 1.095 seconds (Warm-up)\n",
      "Chain 3:                0.755 seconds (Sampling)\n",
      "Chain 3:                1.85 seconds (Total)\n",
      "Chain 3: \n",
      "\n",
      "SAMPLING FOR MODEL 'continuous' NOW (CHAIN 4).\n",
      "Chain 4: \n",
      "Chain 4: Gradient evaluation took 2.5e-05 seconds\n",
      "Chain 4: 1000 transitions using 10 leapfrog steps per transition would take 0.25 seconds.\n",
      "Chain 4: Adjust your expectations accordingly!\n",
      "Chain 4: \n",
      "Chain 4: \n",
      "Chain 4: Iteration:    1 / 2000 [  0%]  (Warmup)\n",
      "Chain 4: Iteration:  200 / 2000 [ 10%]  (Warmup)\n",
      "Chain 4: Iteration:  400 / 2000 [ 20%]  (Warmup)\n",
      "Chain 4: Iteration:  600 / 2000 [ 30%]  (Warmup)\n",
      "Chain 4: Iteration:  800 / 2000 [ 40%]  (Warmup)\n",
      "Chain 4: Iteration: 1000 / 2000 [ 50%]  (Warmup)\n",
      "Chain 4: Iteration: 1001 / 2000 [ 50%]  (Sampling)\n",
      "Chain 4: Iteration: 1200 / 2000 [ 60%]  (Sampling)\n",
      "Chain 4: Iteration: 1400 / 2000 [ 70%]  (Sampling)\n",
      "Chain 4: Iteration: 1600 / 2000 [ 80%]  (Sampling)\n",
      "Chain 4: Iteration: 1800 / 2000 [ 90%]  (Sampling)\n",
      "Chain 4: Iteration: 2000 / 2000 [100%]  (Sampling)\n",
      "Chain 4: \n",
      "Chain 4:  Elapsed Time: 0.893 seconds (Warm-up)\n",
      "Chain 4:                0.755 seconds (Sampling)\n",
      "Chain 4:                1.648 seconds (Total)\n",
      "Chain 4: "
     ]
    }
   ],
   "source": [
    "# from ?perf_mod()\n",
    "# Repeated CV (id = repeat, id2 = fold within repeat)\n",
    "\n",
    "set.seed(101)\n",
    "pp <- auc |> \n",
    "  rename(id = repeat_num,\n",
    "         id2 = fold_num) |> \n",
    "  perf_mod(formula = statistic ~ model + (1 | id2/id), \n",
    "           # prior_intercept = rstanarm::student_t(autoscale = TRUE),\n",
    "           # prior = rstanarm::student_t(autoscale = TRUE),\n",
    "           transform = tidyposterior::logit_trans,  # for skewed & bounded AUC\n",
    "           iter = 2000, chains = 4,  \n",
    "           adapt_delta = .99,\n",
    "           # cores = 4, seed = 12345,\n",
    "           family = gaussian, \n",
    "  )  \n"
   ],
   "id": "23e4a9f2-7806-464b-a547-6e9478254ad6"
  },
  {
   "cell_type": "code",
   "execution_count": null,
   "metadata": {},
   "outputs": [
    {
     "output_type": "stream",
     "name": "stdout",
     "text": [
      "Priors for model 'pp$stan' \n",
      "------\n",
      "Intercept (after predictors centered)\n",
      "  Specified prior:\n",
      "    ~ normal(location = 0.67, scale = 2.5)\n",
      "  Adjusted prior:\n",
      "    ~ normal(location = 0.67, scale = 0.62)\n",
      "\n",
      "Coefficients\n",
      "  Specified prior:\n",
      "    ~ normal(location = 0, scale = 2.5)\n",
      "  Adjusted prior:\n",
      "    ~ normal(location = 0, scale = 1.2)\n",
      "\n",
      "Auxiliary (sigma)\n",
      "  Specified prior:\n",
      "    ~ exponential(rate = 1)\n",
      "  Adjusted prior:\n",
      "    ~ exponential(rate = 4)\n",
      "\n",
      "Covariance\n",
      " ~ decov(reg. = 1, conc. = 1, shape = 1, scale = 1)\n",
      "------\n",
      "See help('prior_summary.stanreg') for more details"
     ]
    }
   ],
   "source": [
    "rstanarm::prior_summary(pp$stan)\n"
   ],
   "id": "99b3fdfa-0486-49eb-b4a4-e613b92489a4"
  },
  {
   "cell_type": "code",
   "execution_count": null,
   "metadata": {},
   "outputs": [
    {
     "output_type": "stream",
     "name": "stdout",
     "text": [
      "\n",
      "Model Info:\n",
      " function:     stan_glmer\n",
      " family:       gaussian [identity]\n",
      " formula:      statistic ~ model + (1 | id2/id)\n",
      " algorithm:    sampling\n",
      " sample:       4000 (posterior sample size)\n",
      " priors:       see help('prior_summary')\n",
      " observations: 60\n",
      " groups:       id:id2 (30), id2 (10)\n",
      "\n",
      "Estimates:\n",
      "                                        mean   sd   10%   50%   90%\n",
      "(Intercept)                            0.6    0.0  0.5   0.6   0.6 \n",
      "modelweek_4                            0.2    0.0  0.1   0.2   0.2 \n",
      "b[(Intercept) id:id2:repeat1:fold1]   -0.2    0.1 -0.3  -0.1   0.0 \n",
      "b[(Intercept) id:id2:repeat1:fold10]  -0.2    0.1 -0.3  -0.2   0.0 \n",
      "b[(Intercept) id:id2:repeat1:fold2]    0.1    0.1 -0.1   0.1   0.2 \n",
      "b[(Intercept) id:id2:repeat1:fold3]   -0.1    0.1 -0.2  -0.1   0.1 \n",
      "b[(Intercept) id:id2:repeat1:fold4]   -0.2    0.1 -0.3  -0.2   0.0 \n",
      "b[(Intercept) id:id2:repeat1:fold5]    0.2    0.1  0.0   0.2   0.3 \n",
      "b[(Intercept) id:id2:repeat1:fold6]    0.1    0.1  0.0   0.1   0.2 \n",
      "b[(Intercept) id:id2:repeat1:fold7]    0.1    0.1  0.0   0.1   0.3 \n",
      "b[(Intercept) id:id2:repeat1:fold8]    0.1    0.1  0.0   0.1   0.2 \n",
      "b[(Intercept) id:id2:repeat1:fold9]   -0.1    0.1 -0.2  -0.1   0.0 \n",
      "b[(Intercept) id:id2:repeat2:fold1]    0.1    0.1  0.0   0.1   0.2 \n",
      "b[(Intercept) id:id2:repeat2:fold10]   0.2    0.1  0.1   0.2   0.3 \n",
      "b[(Intercept) id:id2:repeat2:fold2]   -0.1    0.1 -0.2  -0.1   0.0 \n",
      "b[(Intercept) id:id2:repeat2:fold3]   -0.3    0.1 -0.5  -0.3  -0.2 \n",
      "b[(Intercept) id:id2:repeat2:fold4]    0.1    0.1 -0.1   0.1   0.2 \n",
      "b[(Intercept) id:id2:repeat2:fold5]    0.1    0.1  0.0   0.1   0.2 \n",
      "b[(Intercept) id:id2:repeat2:fold6]    0.2    0.1  0.1   0.2   0.4 \n",
      "b[(Intercept) id:id2:repeat2:fold7]    0.0    0.1 -0.2   0.0   0.1 \n",
      "b[(Intercept) id:id2:repeat2:fold8]   -0.1    0.1 -0.2  -0.1   0.1 \n",
      "b[(Intercept) id:id2:repeat2:fold9]    0.0    0.1 -0.1   0.0   0.1 \n",
      "b[(Intercept) id:id2:repeat3:fold1]    0.0    0.1 -0.1   0.0   0.1 \n",
      "b[(Intercept) id:id2:repeat3:fold10]   0.0    0.1 -0.1   0.0   0.1 \n",
      "b[(Intercept) id:id2:repeat3:fold2]   -0.2    0.1 -0.3  -0.2  -0.1 \n",
      "b[(Intercept) id:id2:repeat3:fold3]    0.3    0.1  0.2   0.3   0.4 \n",
      "b[(Intercept) id:id2:repeat3:fold4]    0.0    0.1 -0.1   0.0   0.1 \n",
      "b[(Intercept) id:id2:repeat3:fold5]   -0.1    0.1 -0.2  -0.1   0.1 \n",
      "b[(Intercept) id:id2:repeat3:fold6]    0.1    0.1  0.0   0.1   0.2 \n",
      "b[(Intercept) id:id2:repeat3:fold7]   -0.1    0.1 -0.2  -0.1   0.0 \n",
      "b[(Intercept) id:id2:repeat3:fold8]   -0.3    0.1 -0.4  -0.3  -0.2 \n",
      "b[(Intercept) id:id2:repeat3:fold9]    0.2    0.1  0.0   0.2   0.3 \n",
      "b[(Intercept) id2:fold1]               0.0    0.0 -0.1   0.0   0.0 \n",
      "b[(Intercept) id2:fold10]              0.0    0.0  0.0   0.0   0.1 \n",
      "b[(Intercept) id2:fold2]               0.0    0.1 -0.1   0.0   0.0 \n",
      "b[(Intercept) id2:fold3]               0.0    0.0 -0.1   0.0   0.0 \n",
      "b[(Intercept) id2:fold4]               0.0    0.1 -0.1   0.0   0.0 \n",
      "b[(Intercept) id2:fold5]               0.0    0.1  0.0   0.0   0.1 \n",
      "b[(Intercept) id2:fold6]               0.0    0.1  0.0   0.0   0.1 \n",
      "b[(Intercept) id2:fold7]               0.0    0.0 -0.1   0.0   0.1 \n",
      "b[(Intercept) id2:fold8]               0.0    0.1 -0.1   0.0   0.0 \n",
      "b[(Intercept) id2:fold9]               0.0    0.0  0.0   0.0   0.1 \n",
      "sigma                                  0.1    0.0  0.1   0.1   0.2 \n",
      "Sigma[id:id2:(Intercept),(Intercept)]  0.0    0.0  0.0   0.0   0.1 \n",
      "Sigma[id2:(Intercept),(Intercept)]     0.0    0.0  0.0   0.0   0.0 \n",
      "\n",
      "Fit Diagnostics:\n",
      "           mean   sd   10%   50%   90%\n",
      "mean_PPD 0.7    0.0  0.6   0.7   0.7  \n",
      "\n",
      "The mean_ppd is the sample average posterior predictive distribution of the outcome variable (for details see help('summary.stanreg')).\n",
      "\n",
      "MCMC diagnostics\n",
      "                                      mcse Rhat n_eff\n",
      "(Intercept)                           0.0  1.0  1744 \n",
      "modelweek_4                           0.0  1.0  5472 \n",
      "b[(Intercept) id:id2:repeat1:fold1]   0.0  1.0  2816 \n",
      "b[(Intercept) id:id2:repeat1:fold10]  0.0  1.0  3332 \n",
      "b[(Intercept) id:id2:repeat1:fold2]   0.0  1.0  3796 \n",
      "b[(Intercept) id:id2:repeat1:fold3]   0.0  1.0  3909 \n",
      "b[(Intercept) id:id2:repeat1:fold4]   0.0  1.0  3096 \n",
      "b[(Intercept) id:id2:repeat1:fold5]   0.0  1.0  3222 \n",
      "b[(Intercept) id:id2:repeat1:fold6]   0.0  1.0  2599 \n",
      "b[(Intercept) id:id2:repeat1:fold7]   0.0  1.0  3658 \n",
      "b[(Intercept) id:id2:repeat1:fold8]   0.0  1.0  3637 \n",
      "b[(Intercept) id:id2:repeat1:fold9]   0.0  1.0  3671 \n",
      "b[(Intercept) id:id2:repeat2:fold1]   0.0  1.0  3743 \n",
      "b[(Intercept) id:id2:repeat2:fold10]  0.0  1.0  3621 \n",
      "b[(Intercept) id:id2:repeat2:fold2]   0.0  1.0  3453 \n",
      "b[(Intercept) id:id2:repeat2:fold3]   0.0  1.0  2155 \n",
      "b[(Intercept) id:id2:repeat2:fold4]   0.0  1.0  3570 \n",
      "b[(Intercept) id:id2:repeat2:fold5]   0.0  1.0  3692 \n",
      "b[(Intercept) id:id2:repeat2:fold6]   0.0  1.0  2450 \n",
      "b[(Intercept) id:id2:repeat2:fold7]   0.0  1.0  4239 \n",
      "b[(Intercept) id:id2:repeat2:fold8]   0.0  1.0  3794 \n",
      "b[(Intercept) id:id2:repeat2:fold9]   0.0  1.0  3885 \n",
      "b[(Intercept) id:id2:repeat3:fold1]   0.0  1.0  3940 \n",
      "b[(Intercept) id:id2:repeat3:fold10]  0.0  1.0  4226 \n",
      "b[(Intercept) id:id2:repeat3:fold2]   0.0  1.0  2898 \n",
      "b[(Intercept) id:id2:repeat3:fold3]   0.0  1.0  2486 \n",
      "b[(Intercept) id:id2:repeat3:fold4]   0.0  1.0  3709 \n",
      "b[(Intercept) id:id2:repeat3:fold5]   0.0  1.0  3703 \n",
      "b[(Intercept) id:id2:repeat3:fold6]   0.0  1.0  2651 \n",
      "b[(Intercept) id:id2:repeat3:fold7]   0.0  1.0  3702 \n",
      "b[(Intercept) id:id2:repeat3:fold8]   0.0  1.0  2424 \n",
      "b[(Intercept) id:id2:repeat3:fold9]   0.0  1.0  3719 \n",
      "b[(Intercept) id2:fold1]              0.0  1.0  2816 \n",
      "b[(Intercept) id2:fold10]             0.0  1.0  3493 \n",
      "b[(Intercept) id2:fold2]              0.0  1.0  2477 \n",
      "b[(Intercept) id2:fold3]              0.0  1.0  3099 \n",
      "b[(Intercept) id2:fold4]              0.0  1.0  3149 \n",
      "b[(Intercept) id2:fold5]              0.0  1.0  2393 \n",
      "b[(Intercept) id2:fold6]              0.0  1.0  1462 \n",
      "b[(Intercept) id2:fold7]              0.0  1.0  3453 \n",
      "b[(Intercept) id2:fold8]              0.0  1.0  2350 \n",
      "b[(Intercept) id2:fold9]              0.0  1.0  3316 \n",
      "sigma                                 0.0  1.0  1282 \n",
      "Sigma[id:id2:(Intercept),(Intercept)] 0.0  1.0  1372 \n",
      "Sigma[id2:(Intercept),(Intercept)]    0.0  1.0  1348 \n",
      "mean_PPD                              0.0  1.0  4304 \n",
      "log-posterior                         0.3  1.0   739 \n",
      "\n",
      "For each parameter, mcse is Monte Carlo standard error, n_eff is a crude measure of effective sample size, and Rhat is the potential scale reduction factor on split chains (at convergence Rhat=1)."
     ]
    }
   ],
   "source": [
    "summary(pp$stan)\n"
   ],
   "id": "625a5115-9cfe-4b12-b9a4-4e4da173a00a"
  },
  {
   "cell_type": "code",
   "execution_count": null,
   "metadata": {},
   "outputs": [],
   "source": [
    "# shinystan::launch_shinystan(pp$stan)\n"
   ],
   "id": "8c09cf93-944f-4441-96a2-9859d851aea8"
  },
  {
   "cell_type": "code",
   "execution_count": null,
   "metadata": {},
   "outputs": [],
   "source": [
    "pp %>%  write_rds(file.path(path_models, \n",
    "                            str_c(\"posteriors_\", version, \"_nested.rds\")))\n"
   ],
   "id": "c13cc524-0f00-4a55-935a-f087202512dc"
  },
  {
   "cell_type": "markdown",
   "metadata": {},
   "source": [
    "### Model posterier CIs"
   ],
   "id": "4a7abef6-954b-4570-8626-c06d3d4f7caf"
  },
  {
   "cell_type": "code",
   "execution_count": null,
   "metadata": {},
   "outputs": [
    {
     "output_type": "stream",
     "name": "stdout",
     "text": [
      "# A tibble: 2 × 5\n",
      "  model   median lower upper     y\n",
      "  <fct>    <dbl> <dbl> <dbl> <dbl>\n",
      "1 Week 26  0.640 0.619 0.661  1000\n",
      "2 Week 4   0.684 0.665 0.703  1000"
     ]
    }
   ],
   "source": [
    "pp_tidy <- pp %>% \n",
    "  tidy(seed = 123)\n",
    "\n",
    "q = c(.025, .5, .975)\n",
    "pp_tidy |> \n",
    "  group_by(model) |> \n",
    "  summarize(median = quantile(posterior, probs = q[2]),\n",
    "            lower = quantile(posterior, probs = q[1]), \n",
    "            upper = quantile(posterior, probs = q[3])) |> \n",
    "  mutate(model = factor(model, levels = c(\"week_26\", \"week_4\"),\n",
    "                        labels = c(\"Week 26\", \"Week 4\")),\n",
    "         y = 1000) |> \n",
    "  arrange(model)\n"
   ],
   "id": "51335524-4c3f-499e-8c6d-81132d35f799"
  },
  {
   "cell_type": "markdown",
   "metadata": {},
   "source": [
    "### Model contrasts"
   ],
   "id": "0c83bd4e-393a-429c-8a68-00a0d33cd693"
  },
  {
   "cell_type": "code",
   "execution_count": null,
   "metadata": {},
   "outputs": [
    {
     "output_type": "stream",
     "name": "stdout",
     "text": [
      "# A tibble: 1 × 9\n",
      "  contrast          probability   mean  lower  upper  size pract_neg pract_equiv\n",
      "  <chr>                   <dbl>  <dbl>  <dbl>  <dbl> <dbl>     <dbl>       <dbl>\n",
      "1 week_4 vs week_26           1 0.0439 0.0275 0.0601  0.01         0     0.00075\n",
      "  pract_pos\n",
      "      <dbl>\n",
      "1     0.999"
     ]
    },
    {
     "output_type": "display_data",
     "metadata": {},
     "data": {
      "image/png": "[encoded data removed]"
     }
    }
   ],
   "source": [
    "pp_contrasts <- contrast_models(pp, \n",
    "                                list(\"week_4\"), \n",
    "                                list(\"week_26\"))\n",
    "summary(pp_contrasts, size = .01, prob = 0.95)\n"
   ],
   "id": "0c75ece2-bf15-4c63-9248-7ec78bc26898"
  },
  {
   "cell_type": "markdown",
   "metadata": {},
   "source": [
    "Here are contrasts against 0 rather than using ROPE"
   ],
   "id": "70b81501-7f42-4419-9577-73d1d38bc863"
  },
  {
   "cell_type": "code",
   "execution_count": null,
   "metadata": {},
   "outputs": [
    {
     "output_type": "stream",
     "name": "stdout",
     "text": [
      "[1] 1"
     ]
    }
   ],
   "source": [
    "pp_contrasts |> \n",
    "  mutate(wk4_gt_wk26 = if_else(difference > 0, 1, 0)) |>\n",
    "  pull(wk4_gt_wk26) |> \n",
    "  mean()\n"
   ],
   "id": "71979c49-3376-40c1-8342-d509bc049e3f"
  },
  {
   "cell_type": "markdown",
   "metadata": {},
   "source": [
    "### Plots\n",
    "\n",
    "Model posteriors"
   ],
   "id": "730b13e0-fbc6-4340-8b49-dd65f2ecb263"
  },
  {
   "cell_type": "code",
   "execution_count": null,
   "metadata": {},
   "outputs": [
    {
     "output_type": "display_data",
     "metadata": {},
     "data": {
      "image/png": "[encoded data removed]"
     }
    }
   ],
   "source": [
    "ci <- pp_tidy |> \n",
    "  summary() |> \n",
    "  mutate(model = factor(model, levels = c(\"week_4\", \"week_26\")),\n",
    "         y = 1000) \n",
    "\n",
    "pp_tidy |> \n",
    "  mutate(model = factor(model, levels = c(\"week_4\", \"week_26\"))) |> \n",
    "  ggplot() + \n",
    "  geom_histogram(aes(x = posterior, fill = model), color = \"black\", alpha = .4, \n",
    "                 bins = 30) +\n",
    "  geom_segment(mapping = aes(y = y + 100, yend = y - 100, x = mean, xend = mean,\n",
    "                             color = model),\n",
    "               data = ci) +\n",
    "  geom_segment(mapping = aes(y = y, yend = y, x = lower, xend = upper, color = model),\n",
    "               data = ci) +\n",
    "  facet_wrap(~model, ncol = 1) +\n",
    "  scale_y_continuous(\"Posterior Probability\", breaks = c(0, 500, 1000)) +\n",
    "  # ylab(\"Posterior Probability Density\") +\n",
    "  xlab(\"Area Under ROC Curve\")\n"
   ],
   "id": "2ecfcd5f-e613-4601-930b-11863cf8d908"
  },
  {
   "cell_type": "markdown",
   "metadata": {},
   "source": [
    "model contrast posteriors"
   ],
   "id": "ea5369e1-8f87-4787-8f56-a69c54e70ae2"
  },
  {
   "cell_type": "code",
   "execution_count": null,
   "metadata": {},
   "outputs": [
    {
     "output_type": "display_data",
     "metadata": {},
     "data": {
      "image/png": "[encoded data removed]"
     }
    }
   ],
   "source": [
    "ci_con <- pp |>\n",
    "  contrast_models(list(\"week_4\"), \n",
    "                  list(\"week_26\")) |> \n",
    "  summary(size = .01) |> \n",
    "  mutate(contrast = factor(contrast, \n",
    "                           levels = c(\"week_4 vs week_26\"),\n",
    "                           labels = c(\"week 4 vs. week 26\")),\n",
    "         y = 700)\n",
    "\n",
    "pp |> \n",
    "  tidy(seed = 123) |>   \n",
    "  group_by(model) |> \n",
    "  mutate(sample = row_number()) |> \n",
    "  ungroup() |> \n",
    "  pivot_wider(names_from = model, values_from = posterior) |> \n",
    "  mutate(posterior = week_4 - week_26) |> \n",
    "  ggplot() +\n",
    "  geom_histogram(aes(x = posterior), \n",
    "                 color = \"black\", alpha = .4, bins = 30) +\n",
    "  geom_vline(xintercept = -.01, color = \"yellow\", linetype = \"dashed\", linewidth = 1) +\n",
    "  geom_vline(xintercept = .01, color = \"yellow\", linetype = \"dashed\", linewidth = 1) +\n",
    "  geom_segment(mapping = aes(y = y+50, yend = y-50, x = mean, xend = mean), \n",
    "               data = ci_con) +\n",
    "  geom_segment(mapping = aes(y = y, yend = y, x = lower, xend = upper), \n",
    "               data = ci_con) +\n",
    "  ylab(\"Posterior Probability\") +\n",
    "  xlab(\"Model Contrast for auROC (Week 4 vs. Week 26)\")\n"
   ],
   "id": "02a201f9-4a6d-4130-9b0c-fc5b2fe14158"
  }
 ],
 "nbformat": 4,
 "nbformat_minor": 5,
 "metadata": {}
}

{
 "cells": [
  {
   "cell_type": "markdown",
   "metadata": {},
   "source": [
    "# Fits and characterizes final model for 26-week outcome\n",
    "\n",
    "Gaylen Fronk  \n",
    "May 27, 2024\n",
    "\n",
    "### Set Up Environment"
   ],
   "id": "ff549662-8d93-4cc2-a5af-cdf44373a4be"
  },
  {
   "cell_type": "code",
   "execution_count": null,
   "metadata": {},
   "outputs": [],
   "source": [
    "study <- params$study\n",
    "version <- params$version\n",
    "cv <- params$cv\n",
    "y_col_name <- params$y_col_name\n"
   ],
   "id": "3e049fa5-a089-4bc9-8dcf-625d08c2c939"
  },
  {
   "cell_type": "markdown",
   "metadata": {},
   "source": [
    "Packages for script"
   ],
   "id": "5b9a09d1-703b-412e-9a60-6d670b036e8f"
  },
  {
   "cell_type": "code",
   "execution_count": null,
   "metadata": {},
   "outputs": [
    {
     "output_type": "stream",
     "name": "stderr",
     "text": [
      "── Attaching packages ────────────────────────────────────── tidymodels 1.2.0 ──"
     ]
    },
    {
     "output_type": "stream",
     "name": "stderr",
     "text": [
      "✔ broom        1.0.5      ✔ recipes      1.0.10\n",
      "✔ dials        1.2.1      ✔ rsample      1.2.1 \n",
      "✔ dplyr        1.1.4      ✔ tibble       3.2.1 \n",
      "✔ ggplot2      3.5.1      ✔ tidyr        1.3.1 \n",
      "✔ infer        1.0.7      ✔ tune         1.2.1 \n",
      "✔ modeldata    1.3.0      ✔ workflows    1.1.4 \n",
      "✔ parsnip      1.2.1      ✔ workflowsets 1.1.0 \n",
      "✔ purrr        1.0.2      ✔ yardstick    1.3.1 "
     ]
    },
    {
     "output_type": "stream",
     "name": "stderr",
     "text": [
      "── Conflicts ───────────────────────────────────────── tidymodels_conflicts() ──\n",
      "✖ purrr::discard() masks scales::discard()\n",
      "✖ dplyr::filter()  masks stats::filter()\n",
      "✖ dplyr::lag()     masks stats::lag()\n",
      "✖ recipes::step()  masks stats::step()\n",
      "• Dig deeper into tidy modeling with R at https://www.tmwr.org"
     ]
    },
    {
     "output_type": "stream",
     "name": "stderr",
     "text": [
      "── Attaching core tidyverse packages ──────────────────────── tidyverse 2.0.0 ──\n",
      "✔ forcats   1.0.0     ✔ readr     2.1.5\n",
      "✔ lubridate 1.9.3     ✔ stringr   1.5.1"
     ]
    },
    {
     "output_type": "stream",
     "name": "stderr",
     "text": [
      "── Conflicts ────────────────────────────────────────── tidyverse_conflicts() ──\n",
      "✖ readr::col_factor() masks scales::col_factor()\n",
      "✖ purrr::discard()    masks scales::discard()\n",
      "✖ dplyr::filter()     masks stats::filter()\n",
      "✖ stringr::fixed()    masks recipes::fixed()\n",
      "✖ dplyr::lag()        masks stats::lag()\n",
      "✖ readr::spec()       masks yardstick::spec()\n",
      "ℹ Use the conflicted package (<http://conflicted.r-lib.org/>) to force all conflicts to become errors"
     ]
    },
    {
     "output_type": "stream",
     "name": "stderr",
     "text": [
      "\n",
      "Attaching package: 'Matrix'\n",
      "\n",
      "The following objects are masked from 'package:tidyr':\n",
      "\n",
      "    expand, pack, unpack"
     ]
    },
    {
     "output_type": "stream",
     "name": "stderr",
     "text": [
      "\n",
      "Attaching package: 'probably'\n",
      "\n",
      "The following objects are masked from 'package:base':\n",
      "\n",
      "    as.factor, as.ordered"
     ]
    },
    {
     "output_type": "stream",
     "name": "stderr",
     "text": [
      "here() starts at C:/Users/gfronk/Documents/GitHub/study_match"
     ]
    },
    {
     "output_type": "stream",
     "name": "stderr",
     "text": [
      "ℹ SHA-1 hash of file is \"c045eee2655a18dc85e715b78182f176327358a7\""
     ]
    },
    {
     "output_type": "stream",
     "name": "stderr",
     "text": [
      "ℹ SHA-1 hash of file is \"b58b9e0adc05e89609ee8bc6f20c39375b262fe6\""
     ]
    }
   ],
   "source": [
    "\n",
    "library(tidymodels)\n"
   ],
   "id": "2386980a-e469-4a71-854c-aab5e0da1626"
  },
  {
   "cell_type": "markdown",
   "metadata": {},
   "source": [
    "Handle conflicts"
   ],
   "id": "d3d3325e-288b-4b6a-81aa-ebd231b4f6cd"
  },
  {
   "cell_type": "code",
   "execution_count": null,
   "metadata": {},
   "outputs": [],
   "source": [
    "\n",
    "options(conflicts.policy = \"depends.ok\")\n"
   ],
   "id": "f001ffcf-20c7-43aa-a70f-217b9c19d5d1"
  },
  {
   "cell_type": "markdown",
   "metadata": {},
   "source": [
    "Absolute paths"
   ],
   "id": "bfa1d105-1531-4afe-a349-99a8c1370d68"
  },
  {
   "cell_type": "code",
   "execution_count": null,
   "metadata": {},
   "outputs": [],
   "source": [
    "switch (Sys.info()[['sysname']],\n",
    "        # PC paths\n",
    "        Windows = {\n",
    "          path_input <- stringr::str_c(\"P:/studydata/match/chtc/\", \n",
    "                                       y_col_name)\n",
    "          path_models <- stringr::str_c(\"P:/studydata/match/models/\", \n",
    "                                        y_col_name)},\n",
    "        \n",
    "        # IOS paths\n",
    "        Darwin = {\n",
    "          path_input <- stringr::str_c(\"/Volumes/private/studydata/match/chtc/\", \n",
    "                                       y_col_name)\n",
    "          path_models <- stringr::str_c(\"/Volumes/private/studydata/match/models/\", \n",
    "                                        y_col_name)},\n",
    "        \n",
    "        # Linux paths\n",
    "        Linux = {\n",
    "          path_input <- stringr::str_c(\"~/mnt/private/studydata/match/chtc/\", \n",
    "                                       y_col_name)\n",
    "          path_models <- stringr::str_c(\"~/mnt/private/studydata/match/models/\", \n",
    "                                        y_col_name)}\n",
    ")\n"
   ],
   "id": "7e1db16c-0d59-4690-ab20-eefbc8881171"
  },
  {
   "cell_type": "markdown",
   "metadata": {},
   "source": [
    "Chunk Defaults"
   ],
   "id": "16a31daa-bc00-45ae-ac48-30e0125cc618"
  },
  {
   "cell_type": "code",
   "execution_count": null,
   "metadata": {},
   "outputs": [],
   "source": [
    "\n",
    "knitr::opts_chunk$set(attr.output='style=\"max-height: 500px;\"')\n",
    "\n",
    "options(tibble.width = Inf)\n",
    "options(tibble.print_max = Inf)\n"
   ],
   "id": "f492561d-d2dd-4567-bc7e-8cc4e498e95a"
  },
  {
   "cell_type": "markdown",
   "metadata": {},
   "source": [
    "### Read in best configuration\n",
    "\n",
    "Selected in 1_metrics_inner (k-fold CV)"
   ],
   "id": "16e6e528-f581-4b40-9730-a738b740867c"
  },
  {
   "cell_type": "code",
   "execution_count": null,
   "metadata": {},
   "outputs": [
    {
     "output_type": "stream",
     "name": "stdout",
     "text": [
      "Rows: 1\n",
      "Columns: 14\n",
      "$ n_jobs       <dbl> 10\n",
      "$ algorithm    <chr> \"glmnet\"\n",
      "$ feature_set  <chr> \"scale_ordinal\"\n",
      "$ hp1          <dbl> 0.3\n",
      "$ hp2          <dbl> 0.05645159\n",
      "$ hp3          <lgl> NA\n",
      "$ resample     <chr> \"none\"\n",
      "$ accuracy     <dbl> 0.766055\n",
      "$ bal_accuracy <dbl> 0.5\n",
      "$ roc_auc      <dbl> 0.6727607\n",
      "$ sens         <dbl> 0\n",
      "$ spec         <dbl> 1\n",
      "$ ppv          <lgl> NA\n",
      "$ npv          <dbl> 0.7685185"
     ]
    }
   ],
   "source": [
    "best_config <- read_csv(file.path(path_models, \n",
    "                                  str_c(\"best_config_none_\", version, \".csv\")),\n",
    "                        show_col_types = FALSE)\n",
    "\n",
    "glimpse(best_config)\n"
   ],
   "id": "0f5a1d73-dc47-4531-b8b6-ffc2d2ca9130"
  },
  {
   "cell_type": "markdown",
   "metadata": {},
   "source": [
    "### Fit best model in full dataset\n",
    "\n",
    "**NOTE**: This model will only be used for 1) examining parameter estimates, and 2) ultimate dissemination."
   ],
   "id": "25eac5ef-7207-4fff-8bf2-c124af2c01eb"
  },
  {
   "cell_type": "code",
   "execution_count": null,
   "metadata": {},
   "outputs": [],
   "source": [
    "batch_names <- list.dirs(path_input, full.names = FALSE, recursive = FALSE) \n",
    "\n",
    "batch_name <- batch_names[str_detect(batch_names, \"train\") & \n",
    "                            str_detect(batch_names, cv) &\n",
    "                            str_detect(batch_names, version) &\n",
    "                            str_detect(batch_names, best_config$algorithm)] \n",
    "\n",
    "path_batch <- file.path(path_input, batch_name)\n",
    "source(file.path(path_batch, \"input\", \"training_controls.R\"))\n",
    "\n",
    "d <- read_csv(file.path(path_batch, \"input\", \"data_trn.csv\"), \n",
    "              show_col_types = FALSE) \n",
    "\n",
    "d_outcomes <- d |> \n",
    "  select(subid, ends_with(\"outcome\") & contains(\"hybrid\"))\n",
    "\n",
    "d <- format_data(d) \n",
    "\n",
    "rec <- build_recipe(d = d, config = best_config)\n",
    "\n",
    "rec_prepped <- rec |> \n",
    "  prep(training = d, strings_as_factors = FALSE)\n",
    "\n",
    "feat_all <- rec_prepped |> \n",
    "  bake(new_data = NULL)\n",
    "\n",
    "model_best <- fit_best_model(best_model = best_config, \n",
    "                             feat = feat_all, \n",
    "                             ml_mode = \"classification\")\n"
   ],
   "id": "1d0796f8-3e33-4703-83cf-b8baa68898f8"
  },
  {
   "cell_type": "markdown",
   "metadata": {},
   "source": [
    "### Model coefficients\n",
    "\n",
    "**NOTE**: Coefficients are naturally inverted (i.e., positive class \\[abstinence\\] treated as first \\[vs. second\\] class). Here, we multiply coefficients by -1 to align the direction of coefficients with the rest of our analyses. Once flipped (i.e., as they appear below)…\n",
    "\n",
    "A *positive coefficient* indicates that increases in the feature *increase* the likelihood of abstinence. For example, increases in motivation to quit (“motive_quit_order”) *increase* the likelihood of abstinence.\n",
    "\n",
    "A *negative coefficient* indicates that increases in the feature *decrease* the likelihood of smoking. For example, increases in carbon monoxide (“co”) *decrease* the likelihood of abstinence."
   ],
   "id": "3e7df72c-d418-4c96-803e-a3f2ddad8ef5"
  },
  {
   "cell_type": "code",
   "execution_count": null,
   "metadata": {},
   "outputs": [
    {
     "output_type": "stream",
     "name": "stderr",
     "text": [
      "Loaded glmnet 4.1-8"
     ]
    }
   ],
   "source": [
    "model_tidy <- tidy(model_best)\n"
   ],
   "id": "b326d8cd-0664-48ce-8b21-8123e525a74d"
  },
  {
   "cell_type": "code",
   "execution_count": null,
   "metadata": {},
   "outputs": [
    {
     "output_type": "display_data",
     "metadata": {},
     "data": {
      "text/html": [
       "</div>\n"
      ],
      "text/markdown": [
       "                                                                      term   estimate\n",
       "  ------------------------------------------------------------------------ ----------\n",
       "                                                               (Intercept)    -1.1708\n",
       "                                                                        co    -0.2263\n",
       "                                                     wisdm37_en_goad_scale    -0.1130\n",
       "                                                            race_ehr_white     0.1125\n",
       "                                                         motive_quit_order     0.0788\n",
       "                                                         smoke_menthol_yes    -0.0784\n",
       "                                                           shp_total_scale     0.0760\n",
       "                       treatment_varenicline_x_marital_status_ehr_divorced    -0.0741\n",
       "                                                        wsws_neg_aff_scale    -0.0662\n",
       "                                                        longest_quit_order     0.0624\n",
       "       treatment_combo_nrt_x_spouse_smoke_dont_live_with_spouse_or_partner     0.0592\n",
       "                                                          tot_quit_attempt     0.0576\n",
       "                                                          dsm5_score_scale    -0.0538\n",
       "                                                   wisdm37_tolerance_scale    -0.0499\n",
       "                                                               age_1st_cig    -0.0476\n",
       "    treatment_combo_nrt_x_live_with_smoker_live_alone_or_only_with_partner     0.0457\n",
       "                                                                   age_ehr     0.0408\n",
       "                                                          wsws_crave_scale    -0.0386\n",
       "                                                         wisdm37_cue_scale    -0.0272\n",
       "                                 treatment_varenicline_x_tried_nic_gum_yes     0.0267\n",
       "                                                                hdsm_tired    -0.0193\n",
       "                                           race_ehr_black_african_american    -0.0173\n",
       "                                treatment_combo_nrt_x_asi3_cognitive_scale     0.0172\n",
       "                                                        wisdm37_auto_scale    -0.0172\n",
       "                                                          tried_nic_gum_no    -0.0171\n",
       "                                                         tried_nic_gum_yes     0.0169\n",
       "                                                         asi3_social_scale     0.0114\n",
       "                                                          spouse_smoke_yes    -0.0111\n",
       "                                                 time_around_smokers_order    -0.0111\n",
       "                                        treatment_patch_x_spouse_smoke_yes    -0.0082\n",
       "                            treatment_varenicline_x_close_smoke_friend_yes    -0.0078\n",
       "                                         time_around_smokers_weekend_order    -0.0055\n",
       "                                               marital_status_ehr_divorced    -0.0045\n",
       "                             treatment_varenicline_x_close_smoke_friend_no     0.0041\n",
       "                                                   close_smoke_partner_yes    -0.0020\n",
       "                                                    close_smoke_partner_no     0.0015\n",
       "                                  treatment_varenicline_x_used_e_cig_tried    -0.0009\n",
       "                           treatment_varenicline_x_close_smoke_partner_yes    -0.0001\n"
      ]
     }
    }
   ],
   "source": [
    "retained_vars <- model_tidy |> \n",
    "  mutate(estimate = estimate * -1) |> \n",
    "  filter(abs(estimate) > 0) |> \n",
    "  select(-penalty) |> \n",
    "  arrange(desc(abs(estimate)))\n",
    "\n",
    "print_kbl(retained_vars, digits = 4)\n"
   ],
   "id": "abcb7c56-5e66-42ac-92ff-29bfd4ae49af"
  },
  {
   "cell_type": "markdown",
   "metadata": {},
   "source": [
    "7.74% of features were retained by the glmnet solution (38 features of a total considered 491 features)."
   ],
   "id": "08db0358-699a-48d2-a46a-98a7d20ca202"
  },
  {
   "cell_type": "code",
   "execution_count": null,
   "metadata": {},
   "outputs": [
    {
     "output_type": "display_data",
     "metadata": {},
     "data": {
      "text/html": [
       "</div>\n"
      ],
      "text/markdown": [
       "                                                                      term   estimate\n",
       "  ------------------------------------------------------------------------ ----------\n",
       "                       treatment_varenicline_x_marital_status_ehr_divorced    -0.0741\n",
       "       treatment_combo_nrt_x_spouse_smoke_dont_live_with_spouse_or_partner     0.0592\n",
       "    treatment_combo_nrt_x_live_with_smoker_live_alone_or_only_with_partner     0.0457\n",
       "                                 treatment_varenicline_x_tried_nic_gum_yes     0.0267\n",
       "                                treatment_combo_nrt_x_asi3_cognitive_scale     0.0172\n",
       "                                        treatment_patch_x_spouse_smoke_yes    -0.0082\n",
       "                            treatment_varenicline_x_close_smoke_friend_yes    -0.0078\n",
       "                             treatment_varenicline_x_close_smoke_friend_no     0.0041\n",
       "                                  treatment_varenicline_x_used_e_cig_tried    -0.0009\n",
       "                           treatment_varenicline_x_close_smoke_partner_yes    -0.0001\n"
      ]
     }
    }
   ],
   "source": [
    "retained_vars_tx <- retained_vars |> \n",
    "  filter(str_detect(term, \"treatment_\")) |> \n",
    "  arrange(desc(abs(estimate))) \n",
    "\n",
    "print_kbl(retained_vars_tx, digits = 4)\n"
   ],
   "id": "308a6495-98f7-4a10-bcc2-a2674b338fde"
  },
  {
   "cell_type": "markdown",
   "metadata": {},
   "source": [
    "26.32% of the retained features were treatment interaction features (10 treatment features of 38 retained features). Of the 354 available treatment interaction features, 3% were retained.\n",
    "\n",
    "### Calculate and calibrate probabilities\n",
    "\n",
    "Make triplicate dataset"
   ],
   "id": "561a4ac7-bcdf-4679-90f2-d12db95d54fe"
  },
  {
   "cell_type": "code",
   "execution_count": null,
   "metadata": {},
   "outputs": [],
   "source": [
    "d_patch <- d |> \n",
    "  mutate(treatment = \"patch\") \n",
    "\n",
    "d_combo <- d |> \n",
    "  mutate(treatment = \"combo_nrt\")\n",
    "\n",
    "d_varen <- d |> \n",
    "  mutate(treatment = \"varenicline\")\n",
    "\n",
    "d_trip <- bind_rows(d_patch, d_combo) |> \n",
    "  bind_rows(d_varen) |> \n",
    "  mutate(treatment = factor(treatment, \n",
    "                            levels = c(\n",
    "                              \"patch\",\n",
    "                              \"varenicline\",\n",
    "                              \"combo_nrt\")))\n"
   ],
   "id": "c0ec1cb2-e521-47de-96aa-fd2e9aa5e3b5"
  },
  {
   "cell_type": "markdown",
   "metadata": {},
   "source": [
    "Make function to: 1) hold out each sub once, 2) fit model with remaining 1085 subs, 3) get 3 raw predictions for held-out sub, 4) get calibrated predictions for held-out sub"
   ],
   "id": "20954246-032f-44e8-8204-3e33e475a740"
  },
  {
   "cell_type": "code",
   "execution_count": null,
   "metadata": {},
   "outputs": [],
   "source": [
    "get_triple_probs <- function(i_sub, best_config, d, d_trip){\n",
    "  \n",
    "  # hold out single subject\n",
    "  d_out <- d_trip |> \n",
    "    filter(subid == i_sub)\n",
    "  \n",
    "  d_in <- d |> \n",
    "    filter(subid != i_sub)\n",
    "  \n",
    "  # prep recipe \n",
    "  rec <- build_recipe(d = d_in, config = best_config)\n",
    "  rec_prepped <- rec |> \n",
    "    prep(training = d_in, strings_as_factors = FALSE)\n",
    "  \n",
    "  # bake feat_in and feat_out\n",
    "  feat_in <- rec_prepped |> \n",
    "    bake(new_data = NULL)\n",
    "  \n",
    "  feat_out <- rec_prepped |> \n",
    "    bake(new_data = d_out)\n",
    "  \n",
    "  # fit model\n",
    "  model_best <- fit_best_model(best_config, feat = feat_in,\n",
    "                               \"classification\")\n",
    "  \n",
    "  # raw (uncalibrated) predictions\n",
    "  preds_prob <- predict(model_best, feat_out,\n",
    "                        type = \"prob\")\n",
    "  \n",
    "  # fit calibration model\n",
    "  set.seed(2468)\n",
    "  cal_split <- d_in |> \n",
    "    initial_split(prop = 3/4, strata = y)\n",
    "  d_cal_in <- training(cal_split) \n",
    "  d_cal_out <- testing(cal_split)\n",
    "  \n",
    "  rec_cal_prepped <- rec |> \n",
    "    prep(training = d_cal_in, strings_as_factors = FALSE)\n",
    "  \n",
    "  feat_cal_in <- rec_cal_prepped |> \n",
    "    bake(new_data = NULL) \n",
    "  \n",
    "  feat_cal_out <- rec_cal_prepped |> \n",
    "    bake(new_data = d_cal_out) \n",
    "  \n",
    "  model_cal <- fit_best_model(best_config, feat = feat_cal_in, \"classification\")\n",
    "  \n",
    "  # beta calibration\n",
    "  beta <- predict(model_cal, feat_cal_out,\n",
    "                  type = \"prob\") |>\n",
    "    mutate(truth = feat_cal_out$y) |>\n",
    "    cal_estimate_beta(truth = truth,\n",
    "                      estimate = dplyr::starts_with(\".pred_\"),\n",
    "                      smooth = TRUE)\n",
    "  preds_prob_beta <- preds_prob |>\n",
    "    cal_apply(beta)\n",
    "  \n",
    "  # iso calibration\n",
    "  iso <- predict(model_cal, feat_cal_out,\n",
    "                 type = \"prob\") |>\n",
    "    mutate(truth = feat_cal_out$y) |>\n",
    "    cal_estimate_isotonic(truth = truth,\n",
    "                          estimate = dplyr::starts_with(\".pred_\"))\n",
    "  preds_prob_iso <- preds_prob |>\n",
    "    cal_apply(iso)\n",
    "  \n",
    "  # logistic calibration\n",
    "  logi <- predict(model_cal, feat_cal_out,\n",
    "                  type = \"prob\") |>\n",
    "    mutate(truth = feat_cal_out$y) |>\n",
    "    cal_estimate_logistic(truth = truth,\n",
    "                          estimate = dplyr::starts_with(\".pred_\"),\n",
    "                          smooth = TRUE)\n",
    "  preds_prob_logi <- preds_prob |>\n",
    "    cal_apply(logi)\n",
    "  \n",
    "  # combine raw and calibrated probs\n",
    "  probs <- tibble(subid = d_out$subid,\n",
    "                  tx = d_out$treatment,\n",
    "                  prob_raw = preds_prob[[str_c(\".pred_\", y_level_pos)]],\n",
    "                  prob_beta = preds_prob_beta[[str_c(\".pred_\", y_level_pos)]],\n",
    "                  prob_iso = preds_prob_iso[[str_c(\".pred_\", y_level_pos)]],\n",
    "                  prob_logi = preds_prob_logi[[str_c(\".pred_\", y_level_pos)]]) \n",
    "}\n"
   ],
   "id": "cced02cc-bbbd-4191-ab1f-c84111d879e0"
  },
  {
   "cell_type": "markdown",
   "metadata": {},
   "source": [
    "Map over participants so that each is held-out once"
   ],
   "id": "7fa5db9c-56dc-41cf-b2bb-bd664420d25e"
  },
  {
   "cell_type": "code",
   "execution_count": null,
   "metadata": {},
   "outputs": [],
   "source": [
    "if(file.exists(file.path(path_models, \n",
    "                         str_c(\"trip_probs_none_\", version, \".csv\")))) {\n",
    "  all_probs <- read_csv(file.path(path_models, \n",
    "                                  str_c(\"trip_probs_none_\", version, \".csv\")),\n",
    "                        show_col_types = FALSE)\n",
    "} else {\n",
    "  all_probs <- d$subid |> \n",
    "  map(\\(i_sub) get_triple_probs(i_sub, best_config, d, d_trip)) |> \n",
    "  list_rbind()\n",
    "  \n",
    "  all_probs |> \n",
    "    write_csv(file.path(path_models, \n",
    "                        str_c(\"trip_probs_none_\", version, \".csv\")))\n",
    "}\n"
   ],
   "id": "7044cd2a-7e74-4840-b1ba-a49de37262fc"
  },
  {
   "cell_type": "markdown",
   "metadata": {},
   "source": [
    "### Make AIM 2 Dataset\n",
    "\n",
    "Pivot probabilities into wide format & select only raw probability (based on calibration validity check below)"
   ],
   "id": "bb20a517-bd32-4eb4-abc4-7a017aa500b2"
  },
  {
   "cell_type": "code",
   "execution_count": null,
   "metadata": {},
   "outputs": [
    {
     "output_type": "stream",
     "name": "stdout",
     "text": [
      "Rows: 1,086\n",
      "Columns: 4\n",
      "$ subid            <dbl> 20010, 20015, 20030, 20049, 20051, 20072, 20077, 2008…\n",
      "$ prob_patch       <dbl> 0.1514963, 0.2501455, 0.1857522, 0.2281568, 0.2423632…\n",
      "$ prob_combo_nrt   <dbl> 0.1910656, 0.2543865, 0.2146872, 0.2319471, 0.2423632…\n",
      "$ prob_varenicline <dbl> 0.1168724, 0.2462586, 0.1483799, 0.2380323, 0.2437960…"
     ]
    }
   ],
   "source": [
    "raw_probs_wide <- all_probs |> \n",
    "  select(subid, tx, prob_raw) |> \n",
    "  pivot_wider(names_prefix = \"prob_\",\n",
    "              names_from = tx,\n",
    "              values_from = prob_raw)\n",
    "\n",
    "glimpse(raw_probs_wide)\n"
   ],
   "id": "40a72d3a-dc32-4876-9ac5-6e221d582617"
  },
  {
   "cell_type": "markdown",
   "metadata": {},
   "source": [
    "Join with d & create new variables"
   ],
   "id": "aa45c3ac-98b8-401f-b0af-ff54b4c53f83"
  },
  {
   "cell_type": "code",
   "execution_count": null,
   "metadata": {},
   "outputs": [
    {
     "output_type": "stream",
     "name": "stdout",
     "text": [
      "Rows: 1,086\n",
      "Columns: 11\n",
      "$ subid            <dbl> 20010, 20015, 20030, 20049, 20051, 20072, 20077, 2008…\n",
      "$ tx_rct           <fct> patch, combo_nrt, patch, varenicline, patch, combo_nr…\n",
      "$ tx_best          <fct> combo_nrt, combo_nrt, combo_nrt, varenicline, varenic…\n",
      "$ tx_match         <lgl> FALSE, TRUE, FALSE, TRUE, FALSE, FALSE, FALSE, FALSE,…\n",
      "$ prob_best        <dbl> 0.1910656, 0.2543865, 0.2146872, 0.2380323, 0.2437960…\n",
      "$ outcome_rct_wk26 <fct> smoking, smoking, smoking, abstinent, smoking, smokin…\n",
      "$ outcome_rct_wk4  <chr> \"smoking\", \"smoking\", \"smoking\", \"smoking\", \"smoking\"…\n",
      "$ outcome_rct_wk12 <chr> \"smoking\", \"smoking\", \"smoking\", \"abstinent\", \"smokin…\n",
      "$ prob_patch       <dbl> 0.1514963, 0.2501455, 0.1857522, 0.2281568, 0.2423632…\n",
      "$ prob_combo_nrt   <dbl> 0.1910656, 0.2543865, 0.2146872, 0.2319471, 0.2423632…\n",
      "$ prob_varenicline <dbl> 0.1168724, 0.2462586, 0.1483799, 0.2380323, 0.2437960…"
     ]
    }
   ],
   "source": [
    "set.seed(52592)\n",
    "d_aim_2 <- d |> \n",
    "  select(subid, tx_rct = treatment, outcome_rct_wk26 = y) |> \n",
    "  left_join(raw_probs_wide, by = \"subid\") |> \n",
    "  mutate(tx_best = case_when(\n",
    "    prob_patch > prob_combo_nrt & prob_patch > prob_varenicline ~ \"patch\",\n",
    "    prob_combo_nrt > prob_patch & prob_combo_nrt > prob_varenicline ~ \"combo_nrt\",\n",
    "    prob_varenicline > prob_patch & prob_varenicline > prob_combo_nrt ~ \"varenicline\",\n",
    "    TRUE ~ NA_character_\n",
    "  )) |> \n",
    "  mutate(tx_best = if_else(is.na(tx_best), case_when(\n",
    "    prob_patch == prob_combo_nrt ~ \"combo_nrt\",\n",
    "    prob_patch == prob_varenicline ~ \"varenicline\",\n",
    "    prob_combo_nrt == prob_varenicline ~ sample(c(\"combo_nrt\",\n",
    "                                                  \"varenicline\"), 1),\n",
    "    TRUE ~ NA_character_\n",
    "  ), tx_best)) |> \n",
    "  mutate(prob_best = case_when(\n",
    "    tx_best == \"patch\" ~ prob_patch,\n",
    "    tx_best == \"combo_nrt\" ~ prob_combo_nrt,\n",
    "    tx_best == \"varenicline\" ~ prob_varenicline,\n",
    "    TRUE ~ NA_real_\n",
    "  )) |> \n",
    "  mutate(tx_best = factor(tx_best, \n",
    "                          levels = c(\n",
    "                            \"patch\",\n",
    "                            \"varenicline\",\n",
    "                            \"combo_nrt\"))) |> \n",
    "  mutate(tx_match = if_else(tx_best == tx_rct, TRUE, FALSE)) |> \n",
    "  left_join(d_outcomes, by = \"subid\") |> \n",
    "  select(-pp_hybrid_wk26_outcome, -pp_hybrid_wk1_outcome, -pp_hybrid_yr3_outcome, -pp_hybrid_wk52_outcome) |> # already in there from d\n",
    "  rename(outcome_rct_wk12 = pp_hybrid_wk12_outcome,\n",
    "         outcome_rct_wk4 = pp_hybrid_wk4_outcome) |> \n",
    "  relocate(subid, tx_rct, tx_best, tx_match,\n",
    "           prob_best, starts_with(\"outcome\"), starts_with(\"prob\"))\n",
    "\n",
    "glimpse(d_aim_2)\n"
   ],
   "id": "35e92fda-a111-478d-b7df-c31233baa203"
  },
  {
   "cell_type": "markdown",
   "metadata": {},
   "source": [
    "Quick EDA checks"
   ],
   "id": "69d4cae7-f379-45c1-8a27-3c75e46665f1"
  },
  {
   "cell_type": "code",
   "execution_count": null,
   "metadata": {},
   "outputs": [
    {
     "output_type": "stream",
     "name": "stdout",
     "text": [
      "# A tibble: 6 × 11\n",
      "  subid tx_rct      tx_best     tx_match prob_best outcome_rct_wk26\n",
      "  <dbl> <fct>       <fct>       <lgl>        <dbl> <fct>           \n",
      "1 20010 patch       combo_nrt   FALSE        0.191 smoking         \n",
      "2 20015 combo_nrt   combo_nrt   TRUE         0.254 smoking         \n",
      "3 20030 patch       combo_nrt   FALSE        0.215 smoking         \n",
      "4 20049 varenicline varenicline TRUE         0.238 abstinent       \n",
      "5 20051 patch       varenicline FALSE        0.244 smoking         \n",
      "6 20072 combo_nrt   varenicline FALSE        0.268 smoking         \n",
      "  outcome_rct_wk4 outcome_rct_wk12 prob_patch prob_combo_nrt prob_varenicline\n",
      "  <chr>           <chr>                 <dbl>          <dbl>            <dbl>\n",
      "1 smoking         smoking               0.151          0.191            0.117\n",
      "2 smoking         smoking               0.250          0.254            0.246\n",
      "3 smoking         smoking               0.186          0.215            0.148\n",
      "4 smoking         abstinent             0.228          0.232            0.238\n",
      "5 smoking         smoking               0.242          0.242            0.244\n",
      "6 smoking         smoking               0.259          0.267            0.268"
     ]
    },
    {
     "output_type": "stream",
     "name": "stdout",
     "text": [
      "# A tibble: 2 × 3\n",
      "  tx_best         n  prop\n",
      "  <fct>       <int> <dbl>\n",
      "1 varenicline   285 0.262\n",
      "2 combo_nrt     801 0.738"
     ]
    },
    {
     "output_type": "stream",
     "name": "stdout",
     "text": [
      "# A tibble: 2 × 3\n",
      "  tx_match     n  prop\n",
      "  <lgl>    <int> <dbl>\n",
      "1 FALSE      648 0.597\n",
      "2 TRUE       438 0.403"
     ]
    },
    {
     "output_type": "stream",
     "name": "stdout",
     "text": [
      "# A tibble: 5 × 4\n",
      "# Groups:   tx_rct [3]\n",
      "  tx_rct      tx_match     n  prop\n",
      "  <fct>       <lgl>    <int> <dbl>\n",
      "1 patch       FALSE      241 1    \n",
      "2 varenicline FALSE      307 0.724\n",
      "3 varenicline TRUE       117 0.276\n",
      "4 combo_nrt   FALSE      100 0.238\n",
      "5 combo_nrt   TRUE       321 0.762"
     ]
    }
   ],
   "source": [
    "# confirm logic worked as expected\n",
    "head(d_aim_2)\n"
   ],
   "id": "5dfcbdbe-a6e3-4abc-8629-f420767e7f64"
  },
  {
   "cell_type": "markdown",
   "metadata": {},
   "source": [
    "Write out"
   ],
   "id": "c458b148-ed0d-482c-88f5-e236602bcb81"
  },
  {
   "cell_type": "code",
   "execution_count": null,
   "metadata": {},
   "outputs": [],
   "source": [
    "d_aim_2 |> \n",
    "  write_csv(file.path(path_models, str_c(\"aim_2_\", version, \"_\", \n",
    "                                   y_col_name, \".csv\")))\n",
    "\n",
    "# d_aim_2 |> \n",
    "#   write_csv(here(\"/objects\", str_c(\"aim_2_\", version, \"_\", \n",
    "#                                    y_col_name, \".csv\")))\n"
   ],
   "id": "d818d362-f582-4a60-9c5e-340339b03549"
  },
  {
   "cell_type": "markdown",
   "metadata": {},
   "source": [
    "### Validity check: Model Calibration\n",
    "\n",
    "Make wide format for all calibrated probabilities"
   ],
   "id": "7ae3cef1-793b-4ea4-aa38-eafaf1521434"
  },
  {
   "cell_type": "code",
   "execution_count": null,
   "metadata": {},
   "outputs": [],
   "source": [
    "all_probs_wide <- all_probs |> \n",
    "  rename_with(~ str_replace(.x, \"prob_\", \"\"), .cols = starts_with(\"prob_\")) |> \n",
    "  pivot_wider(\n",
    "    names_from = tx,\n",
    "    values_from = c(raw, beta, iso, logi),\n",
    "    names_glue = \"{.value}_{tx}\"\n",
    "  )\n"
   ],
   "id": "a7ca899b-11aa-4157-90aa-041d64071935"
  },
  {
   "cell_type": "markdown",
   "metadata": {},
   "source": [
    "Set up validity check data"
   ],
   "id": "4be4ce03-5f10-4825-9370-eddbbeaa96fd"
  },
  {
   "cell_type": "code",
   "execution_count": null,
   "metadata": {},
   "outputs": [],
   "source": [
    "d_valid <- d_aim_2 |> \n",
    "  select(subid, tx_rct, outcome_rct_wk26) |> \n",
    "  left_join(all_probs_wide, by = \"subid\") |> \n",
    "  mutate(beta = case_when(\n",
    "    tx_rct == \"patch\" ~ beta_patch,\n",
    "    tx_rct == \"combo_nrt\" ~ beta_combo_nrt,\n",
    "    tx_rct == \"varenicline\" ~ beta_varenicline,\n",
    "    TRUE ~ NA_real_\n",
    "  ),\n",
    "  raw = case_when(\n",
    "    tx_rct == \"patch\" ~ raw_patch,\n",
    "    tx_rct == \"combo_nrt\" ~ raw_combo_nrt,\n",
    "    tx_rct == \"varenicline\" ~ raw_varenicline,\n",
    "    TRUE ~ NA_real_\n",
    "  ),\n",
    "  isotonic = case_when(\n",
    "    tx_rct == \"patch\" ~ iso_patch,\n",
    "    tx_rct == \"combo_nrt\" ~ iso_combo_nrt,\n",
    "    tx_rct == \"varenicline\" ~ iso_varenicline,\n",
    "    TRUE ~ NA_real_\n",
    "  ),\n",
    "  logistic = case_when(\n",
    "    tx_rct == \"patch\" ~ logi_patch,\n",
    "    tx_rct == \"combo_nrt\" ~ logi_combo_nrt,\n",
    "    tx_rct == \"varenicline\" ~ logi_varenicline,\n",
    "    TRUE ~ NA_real_\n",
    "  )) |> \n",
    "  select(subid, outcome_rct_wk26, beta, raw, isotonic, logistic) \n"
   ],
   "id": "8f195aaa-08b9-4164-bdc1-b179e7cce95a"
  },
  {
   "cell_type": "markdown",
   "metadata": {},
   "source": [
    "#### Comparison of means\n",
    "\n",
    "Compare mean abstinence from RCT to predicted probabilities for RCT tx across calibrations"
   ],
   "id": "3d037b1b-c9a2-4db7-8fa3-f258ac8cb9d5"
  },
  {
   "cell_type": "code",
   "execution_count": null,
   "metadata": {},
   "outputs": [
    {
     "output_type": "stream",
     "name": "stdout",
     "text": [
      "# A tibble: 1 × 5\n",
      "  mean_rct mean_beta mean_iso mean_logi mean_raw\n",
      "     <dbl>     <dbl>    <dbl>     <dbl>    <dbl>\n",
      "1    0.247     0.255    0.169     0.255    0.246"
     ]
    }
   ],
   "source": [
    "d_valid |> \n",
    "  mutate(outcome_rct = if_else(outcome_rct_wk26 == \"abstinent\", 1, 0)) |> \n",
    "  summarize(mean_rct = mean(outcome_rct),\n",
    "            mean_beta = mean(beta),\n",
    "            mean_iso = mean(isotonic),\n",
    "            mean_logi = mean(logistic),\n",
    "            mean_raw = mean(raw))\n"
   ],
   "id": "b29e03d1-6a8e-4c11-a8b9-b4a436494d25"
  },
  {
   "cell_type": "markdown",
   "metadata": {},
   "source": [
    "Raw probabilities appear to match the outcome best.\n",
    "\n",
    "#### Plots\n",
    "\n",
    "Pivot data longer for required format"
   ],
   "id": "f0a076f7-5d99-4e53-9cb1-2b3b91940943"
  },
  {
   "cell_type": "code",
   "execution_count": null,
   "metadata": {},
   "outputs": [],
   "source": [
    "d_plot <- d_valid |> \n",
    "  pivot_longer(\n",
    "    cols = c(beta, raw, isotonic, logistic),\n",
    "    names_to = \"method\",\n",
    "    values_to = \".pred_abstinent\"\n",
    "  )\n"
   ],
   "id": "1fece1a7-e849-4607-9ada-104b38872175"
  },
  {
   "cell_type": "markdown",
   "metadata": {},
   "source": [
    "Make plots by calibration method"
   ],
   "id": "757174f5-532e-4df4-8b69-e37dccdd6a32"
  },
  {
   "cell_type": "code",
   "execution_count": null,
   "metadata": {},
   "outputs": [
    {
     "output_type": "display_data",
     "metadata": {},
     "data": {
      "image/png": "[encoded data removed]"
     }
    },
    {
     "output_type": "display_data",
     "metadata": {},
     "data": {
      "image/png": "[encoded data removed]"
     }
    }
   ],
   "source": [
    "d_plot |> \n",
    "  cal_plot_breaks(truth = outcome_rct_wk26, \n",
    "                  estimate = .pred_abstinent,\n",
    "                  .by = method)\n"
   ],
   "id": "e101f783-c72c-4d1b-9634-d9f4a9698e63"
  },
  {
   "cell_type": "markdown",
   "metadata": {},
   "source": [
    "Logistic and raw probabilities follow the diagonal line for the longest. Both jump off the line around the midpoint, with logistic probabilities jumping up, and raw probabilities jumping in both directions.\n",
    "\n",
    "#### Brier score\n",
    "\n",
    "Beta calibration"
   ],
   "id": "c10538f3-7bf1-4b64-ab06-67d6375c2e39"
  },
  {
   "cell_type": "code",
   "execution_count": null,
   "metadata": {},
   "outputs": [
    {
     "output_type": "stream",
     "name": "stdout",
     "text": [
      "[1] 0.1792077"
     ]
    }
   ],
   "source": [
    "brier_class_vec(truth = d_valid$outcome_rct_wk26,\n",
    "                estimate = d_valid$beta)\n"
   ],
   "id": "a2ca0cd6-60e6-4b90-b279-96c0c64ebfd8"
  },
  {
   "cell_type": "markdown",
   "metadata": {},
   "source": [
    "Logistic calibration"
   ],
   "id": "487d8a1a-7c8f-44fc-bfaf-65ca320888f9"
  },
  {
   "cell_type": "code",
   "execution_count": null,
   "metadata": {},
   "outputs": [
    {
     "output_type": "stream",
     "name": "stdout",
     "text": [
      "[1] 0.1791732"
     ]
    }
   ],
   "source": [
    "brier_class_vec(truth = d_valid$outcome_rct_wk26,\n",
    "                estimate = d_valid$logistic)\n"
   ],
   "id": "0456ffcd-ac6c-4446-9a2a-79d9d1046727"
  },
  {
   "cell_type": "markdown",
   "metadata": {},
   "source": [
    "Isotonic calibration"
   ],
   "id": "fb113b2c-d9b8-4eb1-94a2-252bdd618359"
  },
  {
   "cell_type": "code",
   "execution_count": null,
   "metadata": {},
   "outputs": [
    {
     "output_type": "stream",
     "name": "stdout",
     "text": [
      "[1] 0.1861293"
     ]
    }
   ],
   "source": [
    "brier_class_vec(truth = d_valid$outcome_rct_wk26,\n",
    "                estimate = d_valid$isotonic)\n"
   ],
   "id": "b0aded36-88f7-48a0-b0ac-7ed7d0df6b27"
  },
  {
   "cell_type": "markdown",
   "metadata": {},
   "source": [
    "Raw calibration"
   ],
   "id": "92eb2f2d-b325-4442-b454-3b86a51d9123"
  },
  {
   "cell_type": "code",
   "execution_count": null,
   "metadata": {},
   "outputs": [
    {
     "output_type": "stream",
     "name": "stdout",
     "text": [
      "[1] 0.1759518"
     ]
    }
   ],
   "source": [
    "brier_class_vec(truth = d_valid$outcome_rct_wk26,\n",
    "                estimate = d_valid$raw)\n"
   ],
   "id": "29b1bac2-c2eb-42f8-bb1c-d38bfc8999f9"
  }
 ],
 "nbformat": 4,
 "nbformat_minor": 5,
 "metadata": {}
}

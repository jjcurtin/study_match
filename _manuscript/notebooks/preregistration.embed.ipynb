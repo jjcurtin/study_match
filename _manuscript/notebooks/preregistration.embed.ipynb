{
 "cells": [
  {
   "cell_type": "markdown",
   "metadata": {},
   "source": [
    "# Preregistration: Evaluation of Clinical Benefit\n",
    "\n",
    "Gaylen Fronk  \n",
    "March 29, 2024"
   ],
   "id": "425fd12d-07d0-4901-a25e-e27e7171ea6e"
  },
  {
   "cell_type": "code",
   "execution_count": null,
   "metadata": {},
   "outputs": [],
   "source": [
    "#| echo: false\n",
    "study <- params$study\n",
    "version <- params$version\n",
    "algorithms <- params$algorithms\n",
    "y_col_name <- params$y_col_name"
   ],
   "id": "8e81d7a2-f69e-41c9-abe0-032a3aea50ca"
  },
  {
   "cell_type": "code",
   "execution_count": null,
   "metadata": {},
   "outputs": [
    {
     "output_type": "stream",
     "name": "stderr",
     "text": [
      "Loading required package: Matrix"
     ]
    },
    {
     "output_type": "stream",
     "name": "stderr",
     "text": [
      "── Attaching packages ────────────────────────────────────── tidymodels 1.1.1 ──"
     ]
    },
    {
     "output_type": "stream",
     "name": "stderr",
     "text": [
      "✔ broom        1.0.5     ✔ recipes      1.0.9\n",
      "✔ dials        1.2.0     ✔ rsample      1.2.0\n",
      "✔ dplyr        1.1.4     ✔ tibble       3.2.1\n",
      "✔ ggplot2      3.4.4     ✔ tidyr        1.3.1\n",
      "✔ infer        1.0.6     ✔ tune         1.1.2\n",
      "✔ modeldata    1.3.0     ✔ workflows    1.1.3\n",
      "✔ parsnip      1.1.1     ✔ workflowsets 1.0.1\n",
      "✔ purrr        1.0.2     ✔ yardstick    1.3.0"
     ]
    },
    {
     "output_type": "stream",
     "name": "stderr",
     "text": [
      "── Conflicts ───────────────────────────────────────── tidymodels_conflicts() ──\n",
      "✖ purrr::discard()  masks scales::discard()\n",
      "✖ tidyr::expand()   masks Matrix::expand()\n",
      "✖ dplyr::filter()   masks stats::filter()\n",
      "✖ dplyr::lag()      masks stats::lag()\n",
      "✖ tidyr::pack()     masks Matrix::pack()\n",
      "✖ recipes::step()   masks stats::step()\n",
      "✖ tidyr::unpack()   masks Matrix::unpack()\n",
      "✖ recipes::update() masks Matrix::update(), stats::update()\n",
      "• Dig deeper into tidy modeling with R at https://www.tmwr.org"
     ]
    },
    {
     "output_type": "stream",
     "name": "stderr",
     "text": [
      "── Attaching core tidyverse packages ──────────────────────── tidyverse 2.0.0 ──\n",
      "✔ forcats   1.0.0     ✔ readr     2.1.5\n",
      "✔ lubridate 1.9.3     ✔ stringr   1.5.1"
     ]
    },
    {
     "output_type": "stream",
     "name": "stderr",
     "text": [
      "── Conflicts ────────────────────────────────────────── tidyverse_conflicts() ──\n",
      "✖ readr::col_factor() masks scales::col_factor()\n",
      "✖ purrr::discard()    masks scales::discard()\n",
      "✖ tidyr::expand()     masks Matrix::expand()\n",
      "✖ dplyr::filter()     masks stats::filter()\n",
      "✖ stringr::fixed()    masks recipes::fixed()\n",
      "✖ dplyr::lag()        masks stats::lag()\n",
      "✖ tidyr::pack()       masks Matrix::pack()\n",
      "✖ readr::spec()       masks yardstick::spec()\n",
      "✖ tidyr::unpack()     masks Matrix::unpack()\n",
      "ℹ Use the conflicted package (<http://conflicted.r-lib.org/>) to force all conflicts to become errors"
     ]
    },
    {
     "output_type": "stream",
     "name": "stderr",
     "text": [
      "Warning: package 'blme' was built under R version 4.3.3"
     ]
    },
    {
     "output_type": "stream",
     "name": "stderr",
     "text": [
      "Warning: package 'brms' was built under R version 4.3.3"
     ]
    },
    {
     "output_type": "stream",
     "name": "stderr",
     "text": [
      "Loading required package: Rcpp\n",
      "\n",
      "Attaching package: 'Rcpp'\n",
      "\n",
      "The following object is masked from 'package:rsample':\n",
      "\n",
      "    populate\n",
      "\n",
      "Loading 'brms' package (version 2.20.4). Useful instructions\n",
      "can be found by typing help('brms'). A more detailed introduction\n",
      "to the package is available through vignette('brms_overview').\n",
      "\n",
      "Attaching package: 'brms'\n",
      "\n",
      "The following object is masked from 'package:dials':\n",
      "\n",
      "    mixture\n",
      "\n",
      "The following object is masked from 'package:lme4':\n",
      "\n",
      "    ngrps\n",
      "\n",
      "The following object is masked from 'package:stats':\n",
      "\n",
      "    ar"
     ]
    },
    {
     "output_type": "stream",
     "name": "stderr",
     "text": [
      "ℹ SHA-1 hash of file is \"c045eee2655a18dc85e715b78182f176327358a7\""
     ]
    },
    {
     "output_type": "stream",
     "name": "stderr",
     "text": [
      "ℹ SHA-1 hash of file is \"bb7bddab14e337e74cb65ad3b94d58a2492d34cd\""
     ]
    }
   ],
   "source": [
    "#| message: false\n",
    "#| warning: false\n",
    "#| echo: false\n",
    "\n",
    "# packages for script\n",
    "library(lme4)"
   ],
   "id": "24740f03-cd80-4442-9795-7c4874289cea"
  },
  {
   "cell_type": "code",
   "execution_count": null,
   "metadata": {},
   "outputs": [],
   "source": [
    "#| message: false\n",
    "#| warning: false\n",
    "#| echo: false\n",
    "\n",
    "# handle conflicts\n",
    "options(conflicts.policy = \"depends.ok\")"
   ],
   "id": "d0e38ead-b8ec-4166-8956-824bd8a3f949"
  },
  {
   "cell_type": "code",
   "execution_count": null,
   "metadata": {},
   "outputs": [],
   "source": [
    "#| echo: false\n",
    "\n",
    "# absolute paths\n",
    "switch (Sys.info()[['sysname']],\n",
    "        # PC paths\n",
    "        Windows = {\n",
    "          path_models <- stringr::str_c(\"P:/studydata/match/models/\", \n",
    "                                        y_col_name)},\n",
    "        \n",
    "        # IOS paths\n",
    "        Darwin = {\n",
    "          path_models <- stringr::str_c(\"/Volumes/private/studydata/match/models/\", \n",
    "                                        y_col_name)},\n",
    "        \n",
    "        # Linux paths\n",
    "        Linux = {\n",
    "          path_models <- stringr::str_c(\"~/mnt/private/studydata/match/models/\", \n",
    "                                        y_col_name)}\n",
    ")"
   ],
   "id": "13368e6b-63c6-4feb-9692-248287bad00a"
  },
  {
   "cell_type": "code",
   "execution_count": null,
   "metadata": {},
   "outputs": [],
   "source": [
    "#| echo: false\n",
    "\n",
    "# chunk defaults\n",
    "knitr::opts_chunk$set(attr.output='style=\"max-height: 500px;\"')\n",
    "\n",
    "options(tibble.width = Inf)\n",
    "options(tibble.print_max = Inf)"
   ],
   "id": "08a742e0-f397-4101-802d-4fecbe702b6c"
  },
  {
   "cell_type": "code",
   "execution_count": null,
   "metadata": {},
   "outputs": [],
   "source": [
    "#| echo: false\n",
    "\n",
    "# read in d\n",
    "d <- read_csv(file.path(path_models, str_c(\"aim_2_\", version, \".csv\")),\n",
    "              show_col_types = FALSE) |> \n",
    "  mutate(outcome_rct_wk4_num = if_else(outcome_rct_wk4 == \"abstinent\", 1, 0),\n",
    "         outcome_rct_wk12_num = if_else(outcome_rct_wk12 == \"abstinent\", 1, 0),\n",
    "         outcome_rct_wk26_num = if_else(outcome_rct_wk26 == \"abstinent\", 1, 0),\n",
    "         tx_worst = case_when(\n",
    "           prob_patch < prob_combo_nrt & prob_patch < prob_varenicline ~ \"patch\",\n",
    "           prob_combo_nrt < prob_patch & prob_combo_nrt < prob_varenicline ~ \"combo_nrt\",\n",
    "           prob_varenicline < prob_patch & prob_varenicline < prob_combo_nrt ~ \"varenicline\",\n",
    "           TRUE ~ NA_character_),\n",
    "         tx_second = case_when(\n",
    "           tx_worst == \"patch\" & tx_best == \"varenicline\" ~ \"combo_nrt\",\n",
    "           tx_worst == \"patch\" & tx_best == \"combo_nrt\" ~ \"varenicline\",\n",
    "           tx_worst == \"varenicline\" & tx_best == \"patch\" ~ \"combo_nrt\",\n",
    "           tx_worst == \"varenicline\" & tx_best == \"combo_nrt\" ~ \"patch\",\n",
    "           tx_worst == \"combo_nrt\" & tx_best == \"varenicline\" ~ \"patch\",\n",
    "           tx_worst == \"combo_nrt\" & tx_best == \"patch\" ~ \"varenicline\",\n",
    "           TRUE ~ NA_character_)) |> \n",
    "  mutate(tx_rank = case_when(\n",
    "    tx_rct == tx_best ~ \"first\",\n",
    "    tx_rct == tx_second ~ \"second\",\n",
    "    tx_rct == tx_worst ~ \"third\",\n",
    "    TRUE ~ NA_character_)) |> \n",
    "  select(subid, starts_with(\"tx_\"), starts_with(\"prob_\"),\n",
    "         outcome_rct_wk4_num, outcome_rct_wk12_num, outcome_rct_wk26_num) \n",
    "\n",
    "# read in best_config\n",
    "best_configuration <- read_csv(file.path(path_models, str_c(\"best_config_\", version, \".csv\")),\n",
    "                               show_col_types = FALSE) |> \n",
    "  select(algorithm, feature_set, alpha = hp1, lambda = hp2, resample)"
   ],
   "id": "10117ed5-6dd5-4c16-9a43-c7ab345c14c9"
  },
  {
   "cell_type": "code",
   "execution_count": null,
   "metadata": {},
   "outputs": [],
   "source": [
    "#| echo: false\n",
    "#| eval: false\n",
    "\n",
    "# make figure for john's presentation\n",
    "d_fig <- d |> \n",
    "  select(subid, tx_rank, \n",
    "         outcome_rct_wk4_num, outcome_rct_wk12_num, outcome_rct_wk26_num) |> \n",
    "  pivot_longer(\n",
    "    cols = c(outcome_rct_wk4_num, outcome_rct_wk12_num, outcome_rct_wk26_num),\n",
    "    names_to = \"week\",\n",
    "    names_pattern = \"(?<=outcome_rct_)(.+)(?=_num)\",\n",
    "    values_to = \"outcome_rct_num\"\n",
    "  ) |> \n",
    "  mutate(tx_rank = factor(tx_rank, \n",
    "                          levels = c(\"first\", \"second\", \"third\")),\n",
    "         week = factor(week,\n",
    "                       levels = c(\"wk4\", \"wk12\", \"wk26\")),\n",
    "         subid = factor(subid)) |> \n",
    "  summarize(outcome_mean = mean(outcome_rct_num), .by = c(tx_rank, week)) \n",
    "\n",
    "# bar chart\n",
    "d_fig |> \n",
    "  ggplot(aes(x = week, y = outcome_mean, fill = tx_rank)) +\n",
    "  geom_col(position = \"dodge\") \n",
    "\n",
    "# line graph\n",
    "d_fig |> \n",
    "  ggplot(aes(x = week, y = outcome_mean, color = tx_rank)) +\n",
    "  geom_line(aes(group = tx_rank)) +\n",
    "  geom_point() +\n",
    "  scale_y_continuous(limits = c(0, 0.5))"
   ],
   "id": "96ad1098-9ff8-4166-8869-b6d34356a06d"
  },
  {
   "cell_type": "code",
   "execution_count": null,
   "metadata": {},
   "outputs": [],
   "source": [
    "#| echo: false\n",
    "\n",
    "# functions for viewing & understanding allFit() results\n",
    "# originally created in fun_stressor_use.R, modified slightly to work here\n",
    "tidy_opts <- function(m, terms = c(\"tx_rankbest_v_other\", \n",
    "                                   \"tx_ranksecond_v_third\",\n",
    "                                   \"tx_rankbest_v_other:weekwk4_v_later\", \n",
    "                                   \"tx_rankbest_v_other:weekwk12_v_wk26\")) {\n",
    "\n",
    "  s <- summary(m)\n",
    "  \n",
    "  # Remove optimizers that fail to be fit at all (this is not models that don't converge)\n",
    "  m <- m[which(s$which.OK)]\n",
    "  \n",
    "  effects <- m %>% \n",
    "    map_dfr(broom.mixed::tidy) %>% \n",
    "    filter(term %in% terms) %>% \n",
    "    arrange(term) %>% \n",
    "    mutate(optimizer = rep(names(m), length(terms))) %>% \n",
    "    select(-group) %>% \n",
    "    relocate(optimizer) %>% \n",
    "    arrange(term, optimizer)\n",
    "  \n",
    "  all <- tibble(optimizer = names(s$msgs), term = \"model\", msg = s$msgs, llik = s$llik) %>% \n",
    "    bind_rows(effects)\n",
    "  return(all)\n",
    "}\n",
    "\n",
    "extract_opts_msgs <- function(tidy_msg, opt_name){\n",
    "\n",
    "  if (opt_name != \"\") {\n",
    "    if (is.null(tidy_msg)) {\n",
    "      the_msg <- \"\"\n",
    "    } else {\n",
    "      the_msg <- unlist(tidy_msg)\n",
    "    }\n",
    "    msgs <- tibble(opt_name = opt_name, \n",
    "                   msg = the_msg)\n",
    "  } else{\n",
    "    msgs <- tibble(opt_name = character(), msg = character())\n",
    "  }\n",
    "\n",
    "\n",
    "  return(msgs)\n",
    "}"
   ],
   "id": "e660f6a2-24b0-45d6-8971-e771acb007ec"
  },
  {
   "cell_type": "markdown",
   "metadata": {},
   "source": [
    "## Study Overview\n",
    "\n",
    "### Specific Aims\n",
    "\n",
    "This project represents a tangible application of the precision mental health paradigm using modern machine learning approaches. This project aims to produce a decision-making tool to select among cigarette smoking cessation treatments for individuals looking to quit smoking.\n",
    "\n",
    "Cigarette smoking remains a critical and costly public health crisis. Existing treatments are only modestly effective at best. Additionally, treatments are similarly effective at the population level, meaning that even population-level effectiveness cannot guide treatment selection for individuals quitting smoking. Thus, deciding among first-line (i.e., FDA-approved) smoking cessation medications is a specific, objective decision that many individuals who smoke (or their providers) must make. Successful application of the precision mental health paradigm to cigarette smoking cessation would have immediate clinical benefit.\n",
    "\n",
    "Specifically, this project pursues the following aims:\n",
    "\n",
    "**AIM 1: Build a machine learning model to guide treatment selection for cigarette smoking cessation.** We will build a machine learning model to predict treatment success (i.e., 4-week point-prevalence abstinence from smoking) for people who smoke who received one of three cigarette smoking cessation treatments. This model will use clinical features (predictors) from a richly characterized sample of people who smoke from a previously completed randomized controlled trial. The model will produce probabilities of treatment success for each treatment such that it can guide selection of the best treatment for any specific individual.\n",
    "\n",
    "**AIM 2: Evaluate the clinical benefit of using a treatment selection machine learning model.** Using the best model identified in **AIM 1**, we will identify the treatment for each person that gives them the highest likelihood of abstinence at 4 weeks by comparing predicted probabilities of abstinence for each participant for each treatment. We will then evaluate the clinical benefit of this model-based treatment selection approach.\n",
    "\n",
    "### Study Progress\n",
    "\n",
    "This project relies on existing data from a completed comparative effectiveness trial by [Baker et al., 2016](https://www.ncbi.nlm.nih.gov/pmc/articles/PMC4824537/). Briefly, 1086 individuals who smoke cigarettes were randomized to receive varenicline, combination nicotine replacement therapy (NRT), or nicotine patch to assist with a quit attempt. Individuals were richly characterized at baseline (pre-treatment) with respect to demographic characteristics, mental health, social/environmental variables, physical health, and smoking history. Participants were assessed periodically for biologically confirmed, 7-day point-prevalence abstinence. When abstinence was biologically confirmed (i.e., via exhaled carbon monoxide), individuals were labeled as abstinent; otherwise, individuals were labeled as smoking.\n",
    "\n",
    "**AIM 1** analyses have been completed: Models using all available data have been fit and selected with nested cross-validation (1 repeat of 10-fold cross-validation in the inner loops, 3 repeats of 10-fold cross-validation in the outer loop). These 30-held out folds (“test sets”) were used to evaluate model performance. A single, best model was selected with 1 repeat of 10-fold cross-validation in the full dataset. The best model configuration includes the following:"
   ],
   "id": "dd53e98d-cca7-4cd4-8b6b-5a504a4f5378"
  },
  {
   "cell_type": "code",
   "execution_count": null,
   "metadata": {},
   "outputs": [
    {
     "output_type": "stream",
     "name": "stdout",
     "text": [
      "Rows: 1\n",
      "Columns: 5\n",
      "$ algorithm   <chr> \"glmnet\"\n",
      "$ feature_set <chr> \"item_ordinal\"\n",
      "$ alpha       <dbl> 0.1\n",
      "$ lambda      <dbl> 0.1326421\n",
      "$ resample    <chr> \"up_1\""
     ]
    }
   ],
   "source": [
    "glimpse(best_configuration)"
   ],
   "id": "7d78e0c1-9478-4339-bb0d-a07f1415b384"
  },
  {
   "cell_type": "markdown",
   "metadata": {},
   "source": [
    "-   Selected algorithm was glmnet (xgboost and random forest also considered)\n",
    "\n",
    "-   Selected feature set was “item_ordinal” indicating that individual items (rather than scale scores) were used, and ordinal scoring was used for ordered data (rather than dummy coding)\n",
    "\n",
    "-   Selected resampling approach was “up_1” corresponding to upsampling (vs. downsampling or SMOTE) with a ratio of 1:1 (majority:minority class)\n",
    "\n",
    "-   Values of the hyperparameters alpha and lambda were selected from sensible ranges for each value\n",
    "\n",
    "**AIM 2** analyses using this full model are underway. Specifically:\n",
    "\n",
    "We have used the full model to generate three predictions (probabilities, `prob_*`) for each participant by substituting each treatment into the model inputs. Thus, there is one prediction per person per treatment."
   ],
   "id": "6e70c2ed-fbdd-469a-b3e1-d35f7481ad65"
  },
  {
   "cell_type": "code",
   "execution_count": null,
   "metadata": {},
   "outputs": [
    {
     "output_type": "display_data",
     "metadata": {},
     "data": {
      "text/html": [
       "</div>\n"
      ],
      "text/markdown": [
       "    subid   prob_patch   prob_combo_nrt   prob_varenicline\n",
       "  ------- ------------ ---------------- ------------------\n",
       "    40244        0.430            0.531              0.570\n",
       "    51235        0.189            0.198              0.159\n",
       "    50478        0.436            0.319              0.403\n",
       "    40482        0.247            0.222              0.257\n",
       "    30048        0.583            0.542              0.561\n",
       "    30294        0.339            0.315              0.340\n",
       "    31221        0.192            0.153              0.217\n",
       "    50676        0.148            0.169              0.140\n",
       "    50666        0.159            0.185              0.189\n",
       "    50224        0.193            0.165              0.207\n"
      ]
     }
    }
   ],
   "source": [
    "set.seed(82294)\n",
    "d |> \n",
    "  select(subid, prob_patch, prob_combo_nrt, prob_varenicline) |> \n",
    "  slice_sample(n = 10) |> \n",
    "  print_kbl(digits = 3)"
   ],
   "id": "9bbbcbaa-331b-4f91-afeb-aba130a6d408"
  },
  {
   "cell_type": "markdown",
   "metadata": {},
   "source": [
    "The treatment that yields the highest model-predicted probability of abstinence is identified as that participant’s “best” treatment (`tx_best`)."
   ],
   "id": "113cd182-cb2b-403c-ab2f-cc3372ec4a60"
  },
  {
   "cell_type": "code",
   "execution_count": null,
   "metadata": {},
   "outputs": [
    {
     "output_type": "display_data",
     "metadata": {},
     "data": {
      "text/html": [
       "</div>\n"
      ],
      "text/markdown": [
       "    subid       tx_best   prob_patch   prob_combo_nrt   prob_varenicline\n",
       "  ------- ------------- ------------ ---------------- ------------------\n",
       "    50422     combo_nrt        0.344            0.352              0.246\n",
       "    30984     combo_nrt        0.195            0.227              0.197\n",
       "    50295         patch        0.455            0.431              0.437\n",
       "    20769   varenicline        0.450            0.516              0.569\n",
       "    51261         patch        0.357            0.340              0.305\n",
       "    30149     combo_nrt        0.443            0.465              0.341\n",
       "    40645   varenicline        0.358            0.325              0.441\n",
       "    20015   varenicline        0.418            0.464              0.485\n",
       "    40126     combo_nrt        0.284            0.403              0.381\n",
       "    51165   varenicline        0.103            0.074              0.137\n"
      ]
     }
    }
   ],
   "source": [
    "d |> \n",
    "  select(subid, tx_best, prob_patch, prob_combo_nrt, prob_varenicline) |> \n",
    "  slice_sample(n = 10) |> \n",
    "  print_kbl(digits = 3)"
   ],
   "id": "4290b40c-b2b6-45f1-ba36-b33ece6057bb"
  },
  {
   "cell_type": "markdown",
   "metadata": {},
   "source": [
    "The best treatments spanned all three medication options: varenicline, combination nicotine replacement therapy (“combo_nrt”), and nicotine patch (“patch”)."
   ],
   "id": "43b85b54-bc55-4bec-b7c8-7560f7a25b9f"
  },
  {
   "cell_type": "code",
   "execution_count": null,
   "metadata": {},
   "outputs": [
    {
     "output_type": "stream",
     "name": "stdout",
     "text": [
      "# A tibble: 3 × 3\n",
      "  tx_best         n  prop\n",
      "  <chr>       <int> <dbl>\n",
      "1 combo_nrt     339 0.312\n",
      "2 patch         193 0.178\n",
      "3 varenicline   554 0.510"
     ]
    }
   ],
   "source": [
    "d |> \n",
    "  tab(tx_best)"
   ],
   "id": "1b918ac9-0372-4d7a-b2ad-1225554f5086"
  },
  {
   "cell_type": "markdown",
   "metadata": {},
   "source": [
    "Some participants’ best treatment (`tx_best`) matched what they were randomly assigned in the original trial (`tx_rct`). Other participants may have received what the model identified as their second-best or worst treatment. Thus, participants’ original treatment can be “ranked” as being their first-best, second-best, or third-best (worst) model-selected treatment."
   ],
   "id": "65862e3e-0049-482e-9524-66d4b03162b7"
  },
  {
   "cell_type": "code",
   "execution_count": null,
   "metadata": {},
   "outputs": [
    {
     "output_type": "display_data",
     "metadata": {},
     "data": {
      "text/html": [
       "</div>\n"
      ],
      "text/markdown": [
       "    subid   tx_rank        tx_rct       tx_best     tx_second      tx_worst\n",
       "  ------- --------- ------------- ------------- ------------- -------------\n",
       "    30705     third     combo_nrt         patch   varenicline     combo_nrt\n",
       "    30179     first         patch         patch     combo_nrt   varenicline\n",
       "    51390     first   varenicline   varenicline         patch     combo_nrt\n",
       "    51817     third         patch   varenicline     combo_nrt         patch\n",
       "    50140    second         patch     combo_nrt         patch   varenicline\n",
       "    20359    second         patch     combo_nrt         patch   varenicline\n",
       "    51680    second         patch   varenicline         patch     combo_nrt\n",
       "    51148     third     combo_nrt         patch   varenicline     combo_nrt\n",
       "    30099    second         patch     combo_nrt         patch   varenicline\n",
       "    50844     third     combo_nrt         patch   varenicline     combo_nrt\n"
      ]
     }
    }
   ],
   "source": [
    "d |> \n",
    "  select(subid, tx_rank, tx_rct, tx_best, tx_second, tx_worst) |> \n",
    "  slice_sample(n = 10) |> \n",
    "  print_kbl()"
   ],
   "id": "7803b8a3-4522-4bbe-a918-624e6d5efd10"
  },
  {
   "cell_type": "markdown",
   "metadata": {},
   "source": [
    "Treatment “ranks” were distributed somewhat evenly across first-, second-, and third-best treatments."
   ],
   "id": "16e5259e-b21d-45f8-a5c6-7c6d092ab9d1"
  },
  {
   "cell_type": "code",
   "execution_count": null,
   "metadata": {},
   "outputs": [
    {
     "output_type": "stream",
     "name": "stdout",
     "text": [
      "# A tibble: 3 × 3\n",
      "  tx_rank     n  prop\n",
      "  <chr>   <int> <dbl>\n",
      "1 first     409 0.377\n",
      "2 second    322 0.297\n",
      "3 third     355 0.327"
     ]
    }
   ],
   "source": [
    "d |> \n",
    "  tab(tx_rank)"
   ],
   "id": "c539efc2-b3cb-4dd9-850b-0b398b7c8cd3"
  },
  {
   "cell_type": "markdown",
   "metadata": {},
   "source": [
    "### Purpose of Preregistration\n",
    "\n",
    "The purpose of this document is to **preregister the analyses for evaluating the clinical benefit of this treatment selection model**.\n",
    "\n",
    "Our primary analysis will compare the observed outcomes (i.e., abstinence vs. smoking, from the original trial) for people who received their first-, second-, or third-best treatments. We will examine these outcomes over the following time points:\n",
    "\n",
    "-   4 weeks: This was the time point that served as the outcome for the prediction model. This selection was made so that, in real-world implementation, treatment could be adjusted earlier for individuals for whom treatment is not working.\n",
    "\n",
    "-   12 weeks: This is end-of-treatment and represents a mid-point between the early (4-week) outcome and the later outcome.\n",
    "\n",
    "-   26 weeks (6 months): This is the gold standard assessment period for smoking cessation treatments and was the primary outcome for the original trial ([Baker et al., 2016](https://www.ncbi.nlm.nih.gov/pmc/articles/PMC4824537/)). This duration is often used as a proxy for long-term success.\n",
    "\n",
    "Thus, our model will have the following components:\n",
    "\n",
    "1.  Dependent variable: abstinence (vs. smoking; `outcome_rct_num`). Binary outcome with abstinence coded as 1 and smoking coded as 0.\n",
    "\n",
    "2.  Independent variable: treatment rank (`tx_rank`). Between-subjects categorical variable with three levels (first, second, third). This variable will be coded with orthogonal Helmert contrasts such that we compare individuals who received their first-best treatment to all others, and individuals who received their second-best treatment to individuals who received their third-best treatment.\n",
    "\n",
    "3.  Independent variable: time (`week`). Within-subjects categorical variable with three levels (week 4, week 12, week 26). This variable will be coded with orthogonal Helmert contrasts to avoid making an assumption about the linearity of this effect. We will compare the earliest 4-week outcome to the two later outcomes, and the 12-week outcome to the 26-week (6 month) outcome.\n",
    "\n",
    "4.  Interaction between treatment rank and time\n",
    "\n",
    "5.  Random slope for time (3 repeated observations of time for each subject)\n",
    "\n",
    "6.  Random intercept\n",
    "\n",
    "We plan to follow a mixed-effects modeling approach using the `lme4` package. Specifically, we will fit a generalized linear model using `glmer()` with the components listed above.\n",
    "\n",
    "Our **focal effect** is the main effect of the treatment rank Helmert contrast comparing individuals who received their best treatment to all others (i.e., across all times). We predict that individuals who received their best treatment will have improved outcomes compared to individuals who did not.\n",
    "\n",
    "Our **secondary effects** include:\n",
    "\n",
    "-   The main effect of the treatment rank Helmert contrast comparing individuals who received their second-best treatment to individuals who received their worst treatment (i.e., across all times). We predict that individuals who received their second-best treatment will have improved outcomes compared to individuals who did not.\n",
    "\n",
    "-   The interactions between the best vs. other treatment rank contrast and both time contrasts (week 4 vs. later, week 12 vs. week 26). We do not have directional hypotheses about these interactions.\n",
    "\n",
    "    -   If either of these interactions are significant (*p* \\< 0.05), we will conduct **follow-up tests** of the simple effect of the best vs. other treatment contrast at all 3 time points (week 4, week 12, and week 26).\n",
    "\n",
    "Although the above estimates comprise our focal effects, we plan to report the estimates, test statistics, *p*-values, and confidence intervals for all fixed effects from this model.\n",
    "\n",
    "## Shuffle Data\n",
    "\n",
    "To ensure that all proposed analyses are feasible and to specify analyses as precisely as possible, the remainder of this document conducts analyses using our data with shuffled outcome variables. Following preregistration, our analyses will follow this script exactly using our real data.\n",
    "\n",
    "To create this shuffled dataset, we:\n",
    "\n",
    "-   sample without replacement for 3 outcomes (outcome distribution remains the same at each time point; link with model-based treatment assignment is severed)\n",
    "\n",
    "-   pivot into long format with week as a within-subjects factor\n",
    "\n",
    "-   remove unnecessary variables"
   ],
   "id": "47b7a577-a7f1-4fce-9fe9-b6f66b8028dc"
  },
  {
   "cell_type": "code",
   "execution_count": null,
   "metadata": {},
   "outputs": [
    {
     "output_type": "stream",
     "name": "stdout",
     "text": [
      "Rows: 3,258\n",
      "Columns: 4\n",
      "$ subid           <fct> 20010, 20010, 20010, 20015, 20015, 20015, 20030, 20030…\n",
      "$ tx_rank         <fct> second, second, second, second, second, second, third,…\n",
      "$ week            <fct> wk4, wk12, wk26, wk4, wk12, wk26, wk4, wk12, wk26, wk4…\n",
      "$ outcome_rct_num <dbl> 0, 0, 0, 0, 1, 0, 0, 0, 0, 0, 0, 0, 0, 0, 0, 0, 1, 0, …"
     ]
    }
   ],
   "source": [
    "set.seed(72905)\n",
    "d_shuf <- d |> \n",
    "  select(subid, tx_rank, \n",
    "         outcome_rct_wk4_num, outcome_rct_wk12_num, outcome_rct_wk26_num) |> \n",
    "  mutate(outcome_rct_wk4_num = sample(d$outcome_rct_wk4_num, \n",
    "                                      nrow(d), replace = FALSE),\n",
    "         outcome_rct_wk12_num = sample(d$outcome_rct_wk12_num, \n",
    "                                       nrow(d), replace = FALSE),\n",
    "         outcome_rct_wk26_num = sample(d$outcome_rct_wk26_num, \n",
    "                                       nrow(d), replace = FALSE)) |> \n",
    "  pivot_longer(\n",
    "    cols = c(outcome_rct_wk4_num, outcome_rct_wk12_num, outcome_rct_wk26_num),\n",
    "    names_to = \"week\",\n",
    "    names_pattern = \"(?<=outcome_rct_)(.+)(?=_num)\",\n",
    "    values_to = \"outcome_rct_num\"\n",
    "  ) |> \n",
    "  mutate(tx_rank = factor(tx_rank, \n",
    "                          levels = c(\"third\", \"second\", \"first\")),\n",
    "         week = factor(week,\n",
    "                       levels = c(\"wk26\", \"wk12\", \"wk4\")),\n",
    "         subid = factor(subid)) \n",
    "\n",
    "glimpse(d_shuf)"
   ],
   "id": "5a25f903-5752-4567-9ad1-02113fc85a07"
  },
  {
   "cell_type": "markdown",
   "metadata": {},
   "source": [
    "Confirm that data look random"
   ],
   "id": "3d1011e6-b8d7-4ee4-9f9e-6116da6290cb"
  },
  {
   "cell_type": "code",
   "execution_count": null,
   "metadata": {},
   "outputs": [
    {
     "output_type": "stream",
     "name": "stdout",
     "text": [
      "# A tibble: 3 × 2\n",
      "  tx_rank mean_outcome\n",
      "  <fct>          <dbl>\n",
      "1 first          0.289\n",
      "2 second         0.292\n",
      "3 third          0.298"
     ]
    }
   ],
   "source": [
    "d_shuf |> \n",
    "  group_by(tx_rank) |> \n",
    "  summarize(mean_outcome = mean(outcome_rct_num)) |> \n",
    "  arrange(desc(tx_rank))"
   ],
   "id": "3fe3e49a-963f-44ca-9f00-ce4c8981cdad"
  },
  {
   "cell_type": "markdown",
   "metadata": {},
   "source": [
    "Set contrasts for week and treatment rank"
   ],
   "id": "a72c7d21-eaf0-4acf-bb0c-6570af11747d"
  },
  {
   "cell_type": "code",
   "execution_count": null,
   "metadata": {},
   "outputs": [
    {
     "output_type": "stream",
     "name": "stdout",
     "text": [
      "     wk12_v_wk26 wk4_v_later\n",
      "wk26        -0.5  -0.3333333\n",
      "wk12         0.5  -0.3333333\n",
      "wk4          0.0   0.6666667"
     ]
    },
    {
     "output_type": "stream",
     "name": "stdout",
     "text": [
      "       second_v_third best_v_other\n",
      "third            -0.5   -0.3333333\n",
      "second            0.5   -0.3333333\n",
      "first             0.0    0.6666667"
     ]
    }
   ],
   "source": [
    "# contrast coding on week\n",
    "c_week <- contr.helmert(c(\"wk26\", \"wk12\", \"wk4\"))\n",
    "c_week[, 1] <- c_week[, 1] / (max(c_week[, 1]) - min(c_week[, 1]))\n",
    "c_week[, 2] <- c_week[, 2] / (max(c_week[, 2]) - min(c_week[, 2]))\n",
    "colnames(c_week) <- c(\"wk12_v_wk26\", \"wk4_v_later\")\n",
    "contrasts(d_shuf$week) <- c_week\n",
    "contrasts(d_shuf$week)"
   ],
   "id": "2031eacd-6a34-493a-9455-1f7b342d9059"
  },
  {
   "cell_type": "markdown",
   "metadata": {},
   "source": [
    "## Analysis Steps\n",
    "\n",
    "### Primary Model"
   ],
   "id": "ff06007f-04ae-4194-ac3d-0c35bad275e5"
  },
  {
   "cell_type": "code",
   "execution_count": null,
   "metadata": {},
   "outputs": [
    {
     "output_type": "stream",
     "name": "stderr",
     "text": [
      "boundary (singular) fit: see help('isSingular')"
     ]
    },
    {
     "output_type": "stream",
     "name": "stdout",
     "text": [
      "Generalized linear mixed model fit by maximum likelihood (Laplace\n",
      "  Approximation) [glmerMod]\n",
      " Family: binomial  ( logit )\n",
      "Formula: outcome_rct_num ~ tx_rank * week + (1 + week | subid)\n",
      "   Data: d_shuf\n",
      "Control: glmerControl(optimizer = \"bobyqa\", optCtrl = list(maxfun = 3e+06))\n",
      "\n",
      "     AIC      BIC   logLik deviance df.resid \n",
      "  3936.7   4028.1  -1953.4   3906.7     3243 \n",
      "\n",
      "Scaled residuals: \n",
      "    Min      1Q  Median      3Q     Max \n",
      "-0.7524 -0.6477 -0.5594  1.3170  1.9633 \n",
      "\n",
      "Random effects:\n",
      " Groups Name            Variance Std.Dev. Corr       \n",
      " subid  (Intercept)     0.01418  0.1191              \n",
      "        weekwk12_v_wk26 0.62714  0.7919   -1.00      \n",
      "        weekwk4_v_later 0.19735  0.4442    1.00 -1.00\n",
      "Number of obs: 3258, groups:  subid, 1086\n",
      "\n",
      "Fixed effects:\n",
      "                                      Estimate Std. Error z value Pr(>|z|)    \n",
      "(Intercept)                           -0.92412    0.04446 -20.787  < 2e-16 ***\n",
      "tx_ranksecond_v_third                 -0.03657    0.10053  -0.364 0.716024    \n",
      "tx_rankbest_v_other                   -0.02519    0.08207  -0.307 0.758873    \n",
      "weekwk12_v_wk26                        0.23731    0.12565   1.889 0.058928 .  \n",
      "weekwk4_v_later                        0.35814    0.09350   3.830 0.000128 ***\n",
      "tx_ranksecond_v_third:weekwk12_v_wk26  0.20403    0.25753   0.792 0.428201    \n",
      "tx_rankbest_v_other:weekwk12_v_wk26   -0.43168    0.21062  -2.050 0.040402 *  \n",
      "tx_ranksecond_v_third:weekwk4_v_later  0.09957    0.21046   0.473 0.636144    \n",
      "tx_rankbest_v_other:weekwk4_v_later    0.09871    0.17130   0.576 0.564465    \n",
      "---\n",
      "Signif. codes:  0 '***' 0.001 '**' 0.01 '*' 0.05 '.' 0.1 ' ' 1\n",
      "\n",
      "Correlation of Fixed Effects:\n",
      "                 (Intr) tx_rnks__ tx_rnkb__ w12__2 wkw4__ tx_rnks__:12__26\n",
      "tx_rnkscn__       0.049                                                   \n",
      "tx_rnkbst__      -0.077 -0.039                                            \n",
      "wkwk12_v_26      -0.080 -0.028     0.062                                  \n",
      "wkwk4_v_ltr      -0.121 -0.016    -0.004     0.047                        \n",
      "tx_rnks__:12__26 -0.026 -0.088     0.016     0.055  0.018                 \n",
      "tx_rnkb__:12__26  0.054  0.015    -0.038    -0.061 -0.036 -0.042          \n",
      "tx_rnks__:4__    -0.014 -0.046     0.009     0.018  0.041  0.009          \n",
      "tx_rnkb__:4__    -0.004  0.009    -0.054    -0.041 -0.084 -0.010          \n",
      "                 tx_rnkb__:12__26 tx_rnks__:4__\n",
      "tx_rnkscn__                                    \n",
      "tx_rnkbst__                                    \n",
      "wkwk12_v_26                                    \n",
      "wkwk4_v_ltr                                    \n",
      "tx_rnks__:12__26                               \n",
      "tx_rnkb__:12__26                               \n",
      "tx_rnks__:4__    -0.009                        \n",
      "tx_rnkb__:4__    -0.026           -0.033       \n",
      "optimizer (bobyqa) convergence code: 0 (OK)\n",
      "boundary (singular) fit: see help('isSingular')"
     ]
    }
   ],
   "source": [
    "model_1 <- lme4::glmer(outcome_rct_num ~ tx_rank * week + (1 + week | subid),\n",
    "                       data = d_shuf,\n",
    "                       family = binomial(link = \"logit\"),\n",
    "                       control = glmerControl(optimizer = \"bobyqa\",\n",
    "                                              optCtrl = list(maxfun = 3e6)))"
   ],
   "id": "a649cb28-944e-4d90-a77e-07eac37f301d"
  },
  {
   "cell_type": "markdown",
   "metadata": {},
   "source": [
    "### Alternative Models for Robustness Checks\n",
    "\n",
    "The model fit above has a singular fit. There are a number of recommended approaches to address singular fits (see `?isSingular`) if the model fit with our real data also has a singular fit.\n",
    "\n",
    "For consistency, the following proposed alternative approaches mirror the steps we followed in a previously published project from our laboratory that also required complex mixed-effects modeling ([Schultz et al., 2022](https://psycnet.apa.org/record/2022-10249-001)). These steps are available in our open-access, annotated analysis scripts (e.g., [this script](https://osf.io/k8gfc)).\n",
    "\n",
    "1.  Use a partially Bayesian method that uses regularizing priors to force the estimated random effects variance-covariance matrices away from singularity ([Chung et al., 2013](https://link.springer.com/article/10.1007/s11336-013-9328-2), `blme` package). We would use the `\"nlminbwrap\"` optimizer because `\"bobyqa\"` produced a singular fit."
   ],
   "id": "ddd30a7e-d94f-420a-a3ea-28b44e5c80f0"
  },
  {
   "cell_type": "code",
   "execution_count": null,
   "metadata": {},
   "outputs": [],
   "source": [
    "#| eval: false\n",
    "model_2 <- blme::bglmer(outcome_rct_num ~ tx_rank * week + (1 + week | subid),\n",
    "                        data = d_shuf,\n",
    "                        family = binomial(link = \"logit\"),\n",
    "                        control = glmerControl(optimizer = \"nlminbwrap\",\n",
    "                                               optCtrl = list(maxfun = 3e6)))"
   ],
   "id": "dc123afb-5d14-460e-8459-e996a2a2c4cc"
  },
  {
   "cell_type": "markdown",
   "metadata": {},
   "source": [
    "1.  Use a simpler random effects structure to address problems with singular fits. Following this strategy, we would fit a model with only the random intercept."
   ],
   "id": "9b1ef7b4-8487-46b5-a3a5-e69534780f18"
  },
  {
   "cell_type": "code",
   "execution_count": null,
   "metadata": {},
   "outputs": [],
   "source": [
    "#| eval: false\n",
    "model_3 <- lme4::glmer(outcome_rct_num ~ tx_rank * week + (1 | subid),\n",
    "                       data = d_shuf,\n",
    "                       family = binomial(link = \"logit\"),\n",
    "                       control = glmerControl(optimizer = \"bobyqa\",\n",
    "                                              optCtrl = list(maxfun = 3e6)))"
   ],
   "id": "1a5416b8-7e2b-4c45-8bef-584f6628fdad"
  },
  {
   "cell_type": "markdown",
   "metadata": {},
   "source": [
    "1.  Re-fit the glmer model with the full random effects structure across all available optimizers and review for consistency of log-likelihood ratios, fixed effects, and test statistics of focal effect across optimizers."
   ],
   "id": "27fb3478-a549-4926-b753-45b79b06d99b"
  },
  {
   "cell_type": "code",
   "execution_count": null,
   "metadata": {},
   "outputs": [],
   "source": [
    "#| eval: false\n",
    "opts <- tibble(optimizer = c(\"bobyqa\", \"Nelder_Mead\", \"nlminbwrap\", \n",
    "                             \"nmkbw\", \"optimx\", \"nloptwrap\", \"nloptwrap\"),\n",
    "               method = c(\"\", \"\", \"\", \"\", \"L-BFGS-B\", \n",
    "                          \"NLOPT_LN_NELDERMEAD\", \"NLOPT_LN_BOBYQA\")) %>% \n",
    "  as.data.frame()\n",
    "\n",
    "model_all <- allFit(model_1, verbose = FALSE, meth.tab = opts)"
   ],
   "id": "9eb00650-912d-4006-939f-f9ebcfd07906"
  },
  {
   "cell_type": "code",
   "execution_count": null,
   "metadata": {},
   "outputs": [],
   "source": [
    "#| include: false\n",
    "#| eval: false\n",
    "\n",
    "# Review warning/error messages across remaining optimizers\n",
    "effects <- tidy_opts(model_all, terms = \"tx_rankbest_v_other\")\n",
    "opt_names <- names(effects$msg)\n",
    "effects$msg |> \n",
    "  map2_dfr(opt_names, extract_opts_msgs)\n",
    "\n",
    "# confirm that log-likelihood ratios are equivalent across optimizers\n",
    "effects |> \n",
    "  filter(term == \"model\") |> \n",
    "  select(optimizer, llik)\n",
    "\n",
    "# Confirm fixed effects & test stats are equivalent across optimizers for our focal effect (best treatment vs. other)\n",
    "effects |> \n",
    "  filter(term == \"tx_rankbest_v_other\") |> \n",
    "  select(-msg, -llik)"
   ],
   "id": "54ed2c85-a804-4b5f-8f64-532721717a2c"
  },
  {
   "cell_type": "markdown",
   "metadata": {},
   "source": [
    "### Follow-up analyses: Simple Effects\n",
    "\n",
    "If either interaction for our secondary outcomes (best vs. other treatment rank contrast X both time contrasts) is significant (*p* \\< 0.05), we will conduct follow-up analyses to test the simple effect of the best vs. other treatment rank contrast at each time point.\n",
    "\n",
    "Simple effect at 4 weeks"
   ],
   "id": "9e109abe-1eca-4537-a31c-25327ed74c1a"
  },
  {
   "cell_type": "code",
   "execution_count": null,
   "metadata": {},
   "outputs": [
    {
     "output_type": "stream",
     "name": "stdout",
     "text": [
      "\n",
      "Call:\n",
      "glm(formula = outcome_rct_num ~ tx_rank, family = binomial(link = \"logit\"), \n",
      "    data = d_4_shuf)\n",
      "\n",
      "Coefficients:\n",
      "                      Estimate Std. Error z value Pr(>|z|)    \n",
      "(Intercept)           -0.65741    0.06432 -10.221   <2e-16 ***\n",
      "tx_ranksecond_v_third  0.02860    0.16263   0.176    0.860    \n",
      "tx_rankbest_v_other    0.03899    0.13191   0.296    0.768    \n",
      "---\n",
      "Signif. codes:  0 '***' 0.001 '**' 0.01 '*' 0.05 '.' 0.1 ' ' 1\n",
      "\n",
      "(Dispersion parameter for binomial family taken to be 1)\n",
      "\n",
      "    Null deviance: 1394.7  on 1085  degrees of freedom\n",
      "Residual deviance: 1394.5  on 1083  degrees of freedom\n",
      "AIC: 1400.5\n",
      "\n",
      "Number of Fisher Scoring iterations: 4"
     ]
    }
   ],
   "source": [
    "d_4_shuf <- d_shuf |> \n",
    "  filter(week == \"wk4\")\n",
    "\n",
    "model_4wk <- glm(outcome_rct_num ~ tx_rank, \n",
    "                 data = d_4_shuf,\n",
    "                 family = binomial(link = \"logit\"))\n",
    "\n",
    "summary(model_4wk)"
   ],
   "id": "58273691-6ab8-4e9e-bb7e-2d62d579c751"
  },
  {
   "cell_type": "markdown",
   "metadata": {},
   "source": [
    "Simple effect at 12 weeks"
   ],
   "id": "0edccf21-5593-4b09-9074-a54206fd199d"
  },
  {
   "cell_type": "code",
   "execution_count": null,
   "metadata": {},
   "outputs": [
    {
     "output_type": "stream",
     "name": "stdout",
     "text": [
      "\n",
      "Call:\n",
      "glm(formula = outcome_rct_num ~ tx_rank, family = binomial(link = \"logit\"), \n",
      "    data = d_12_shuf)\n",
      "\n",
      "Coefficients:\n",
      "                      Estimate Std. Error z value Pr(>|z|)    \n",
      "(Intercept)           -0.88670    0.06706 -13.222   <2e-16 ***\n",
      "tx_ranksecond_v_third  0.03094    0.16633   0.186   0.8524    \n",
      "tx_rankbest_v_other   -0.26455    0.14046  -1.883   0.0596 .  \n",
      "---\n",
      "Signif. codes:  0 '***' 0.001 '**' 0.01 '*' 0.05 '.' 0.1 ' ' 1\n",
      "\n",
      "(Dispersion parameter for binomial family taken to be 1)\n",
      "\n",
      "    Null deviance: 1308.0  on 1085  degrees of freedom\n",
      "Residual deviance: 1304.4  on 1083  degrees of freedom\n",
      "AIC: 1310.4\n",
      "\n",
      "Number of Fisher Scoring iterations: 4"
     ]
    }
   ],
   "source": [
    "d_12_shuf <- d_shuf |> \n",
    "  filter(week == \"wk12\")\n",
    "\n",
    "model_12wk <- glm(outcome_rct_num ~ tx_rank, \n",
    "                  data = d_12_shuf,\n",
    "                  family = binomial(link = \"logit\"))\n",
    "\n",
    "summary(model_12wk)"
   ],
   "id": "c6c147f2-ff97-488f-af56-104f1bf3e6ba"
  },
  {
   "cell_type": "markdown",
   "metadata": {},
   "source": [
    "Simple effect at 26 weeks"
   ],
   "id": "52783bf6-051b-4557-b972-a714972c2f90"
  },
  {
   "cell_type": "code",
   "execution_count": null,
   "metadata": {},
   "outputs": [
    {
     "output_type": "stream",
     "name": "stdout",
     "text": [
      "\n",
      "Call:\n",
      "glm(formula = outcome_rct_num ~ tx_rank, family = binomial(link = \"logit\"), \n",
      "    data = d_26_shuf)\n",
      "\n",
      "Coefficients:\n",
      "                      Estimate Std. Error z value Pr(>|z|)    \n",
      "(Intercept)           -1.12754    0.07122 -15.833   <2e-16 ***\n",
      "tx_ranksecond_v_third -0.16791    0.18183  -0.923    0.356    \n",
      "tx_rankbest_v_other    0.15384    0.14439   1.065    0.287    \n",
      "---\n",
      "Signif. codes:  0 '***' 0.001 '**' 0.01 '*' 0.05 '.' 0.1 ' ' 1\n",
      "\n",
      "(Dispersion parameter for binomial family taken to be 1)\n",
      "\n",
      "    Null deviance: 1213.6  on 1085  degrees of freedom\n",
      "Residual deviance: 1211.7  on 1083  degrees of freedom\n",
      "AIC: 1217.7\n",
      "\n",
      "Number of Fisher Scoring iterations: 4"
     ]
    }
   ],
   "source": [
    "d_26_shuf <- d_shuf |> \n",
    "  filter(week == \"wk26\")\n",
    "\n",
    "model_26wk <- glm(outcome_rct_num ~ tx_rank, \n",
    "                  data = d_26_shuf,\n",
    "                  family = binomial(link = \"logit\"))\n",
    "\n",
    "summary(model_26wk)"
   ],
   "id": "1345817d-9ee5-4f25-84b5-0861a6366702"
  }
 ],
 "nbformat": 4,
 "nbformat_minor": 5,
 "metadata": {}
}

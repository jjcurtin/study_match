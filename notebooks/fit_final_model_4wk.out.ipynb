{
 "cells": [
  {
   "cell_type": "markdown",
   "metadata": {},
   "source": [
    "# Fits and characterizes final model for 4-week outcome\n",
    "\n",
    "Gaylen Fronk  \n",
    "May 27, 2024\n",
    "\n",
    "### Set Up Environment"
   ],
   "id": "dea4ee10-27d8-4dbf-b2c4-2d7cc794d635"
  },
  {
   "cell_type": "code",
   "execution_count": null,
   "metadata": {},
   "outputs": [],
   "source": [
    "study <- params$study\n",
    "version <- params$version\n",
    "cv <- params$cv\n",
    "y_col_name <- params$y_col_name\n"
   ],
   "id": "a7ee5348-1d7a-42ad-8689-6c5feaabbe48"
  },
  {
   "cell_type": "markdown",
   "metadata": {},
   "source": [
    "Packages for script"
   ],
   "id": "dcbd4336-bbed-45e7-b0dc-c9336d6368dd"
  },
  {
   "cell_type": "code",
   "execution_count": null,
   "metadata": {},
   "outputs": [
    {
     "output_type": "stream",
     "name": "stderr",
     "text": [
      "── Attaching packages ────────────────────────────────────── tidymodels 1.2.0 ──"
     ]
    },
    {
     "output_type": "stream",
     "name": "stderr",
     "text": [
      "✔ broom        1.0.5      ✔ recipes      1.0.10\n",
      "✔ dials        1.2.1      ✔ rsample      1.2.1 \n",
      "✔ dplyr        1.1.4      ✔ tibble       3.2.1 \n",
      "✔ ggplot2      3.5.1      ✔ tidyr        1.3.1 \n",
      "✔ infer        1.0.7      ✔ tune         1.2.1 \n",
      "✔ modeldata    1.3.0      ✔ workflows    1.1.4 \n",
      "✔ parsnip      1.2.1      ✔ workflowsets 1.1.0 \n",
      "✔ purrr        1.0.2      ✔ yardstick    1.3.1 "
     ]
    },
    {
     "output_type": "stream",
     "name": "stderr",
     "text": [
      "── Conflicts ───────────────────────────────────────── tidymodels_conflicts() ──\n",
      "✖ purrr::discard() masks scales::discard()\n",
      "✖ dplyr::filter()  masks stats::filter()\n",
      "✖ dplyr::lag()     masks stats::lag()\n",
      "✖ recipes::step()  masks stats::step()\n",
      "• Use suppressPackageStartupMessages() to eliminate package startup messages"
     ]
    },
    {
     "output_type": "stream",
     "name": "stderr",
     "text": [
      "── Attaching core tidyverse packages ──────────────────────── tidyverse 2.0.0 ──\n",
      "✔ forcats   1.0.0     ✔ readr     2.1.5\n",
      "✔ lubridate 1.9.3     ✔ stringr   1.5.1"
     ]
    },
    {
     "output_type": "stream",
     "name": "stderr",
     "text": [
      "── Conflicts ────────────────────────────────────────── tidyverse_conflicts() ──\n",
      "✖ readr::col_factor() masks scales::col_factor()\n",
      "✖ purrr::discard()    masks scales::discard()\n",
      "✖ dplyr::filter()     masks stats::filter()\n",
      "✖ stringr::fixed()    masks recipes::fixed()\n",
      "✖ dplyr::lag()        masks stats::lag()\n",
      "✖ readr::spec()       masks yardstick::spec()\n",
      "ℹ Use the conflicted package (<http://conflicted.r-lib.org/>) to force all conflicts to become errors"
     ]
    },
    {
     "output_type": "stream",
     "name": "stderr",
     "text": [
      "\n",
      "Attaching package: 'Matrix'\n",
      "\n",
      "The following objects are masked from 'package:tidyr':\n",
      "\n",
      "    expand, pack, unpack"
     ]
    },
    {
     "output_type": "stream",
     "name": "stderr",
     "text": [
      "\n",
      "Attaching package: 'probably'\n",
      "\n",
      "The following objects are masked from 'package:base':\n",
      "\n",
      "    as.factor, as.ordered"
     ]
    },
    {
     "output_type": "stream",
     "name": "stderr",
     "text": [
      "here() starts at C:/Users/gfronk/Documents/GitHub/study_match"
     ]
    },
    {
     "output_type": "stream",
     "name": "stderr",
     "text": [
      "ℹ SHA-1 hash of file is \"c045eee2655a18dc85e715b78182f176327358a7\""
     ]
    },
    {
     "output_type": "stream",
     "name": "stderr",
     "text": [
      "ℹ SHA-1 hash of file is \"b58b9e0adc05e89609ee8bc6f20c39375b262fe6\""
     ]
    }
   ],
   "source": [
    "\n",
    "library(tidymodels)\n"
   ],
   "id": "0a51714b-a7d3-4e5d-a508-68216ce54708"
  },
  {
   "cell_type": "markdown",
   "metadata": {},
   "source": [
    "Handle conflicts"
   ],
   "id": "d4cbfa49-5bfc-4691-934a-710d1fb801c2"
  },
  {
   "cell_type": "code",
   "execution_count": null,
   "metadata": {},
   "outputs": [],
   "source": [
    "\n",
    "options(conflicts.policy = \"depends.ok\")\n"
   ],
   "id": "8b392c82-4cb0-4b87-9f2a-0e27f688739d"
  },
  {
   "cell_type": "markdown",
   "metadata": {},
   "source": [
    "Absolute paths"
   ],
   "id": "655bd64f-fbc0-48aa-9a3d-b34ad5a67e64"
  },
  {
   "cell_type": "code",
   "execution_count": null,
   "metadata": {},
   "outputs": [],
   "source": [
    "switch (Sys.info()[['sysname']],\n",
    "        # PC paths\n",
    "        Windows = {\n",
    "          path_input <- stringr::str_c(\"P:/studydata/match/chtc/\", \n",
    "                                       y_col_name)\n",
    "          path_models <- stringr::str_c(\"P:/studydata/match/models/\", \n",
    "                                        y_col_name)},\n",
    "        \n",
    "        # IOS paths\n",
    "        Darwin = {\n",
    "          path_input <- stringr::str_c(\"/Volumes/private/studydata/match/chtc/\", \n",
    "                                       y_col_name)\n",
    "          path_models <- stringr::str_c(\"/Volumes/private/studydata/match/models/\", \n",
    "                                        y_col_name)},\n",
    "        \n",
    "        # Linux paths\n",
    "        Linux = {\n",
    "          path_input <- stringr::str_c(\"~/mnt/private/studydata/match/chtc/\", \n",
    "                                       y_col_name)\n",
    "          path_models <- stringr::str_c(\"~/mnt/private/studydata/match/models/\", \n",
    "                                        y_col_name)}\n",
    ")\n"
   ],
   "id": "6202c14d-7597-46cf-ab9f-2d230c4f123b"
  },
  {
   "cell_type": "markdown",
   "metadata": {},
   "source": [
    "Chunk Defaults"
   ],
   "id": "bd92a325-6e50-4af3-805c-a58ba5e836a9"
  },
  {
   "cell_type": "code",
   "execution_count": null,
   "metadata": {},
   "outputs": [],
   "source": [
    "\n",
    "knitr::opts_chunk$set(attr.output='style=\"max-height: 500px;\"')\n",
    "\n",
    "options(tibble.width = Inf)\n",
    "options(tibble.print_max = Inf)\n"
   ],
   "id": "bcf414ae-4191-4d36-9db8-2db8ce6e0da1"
  },
  {
   "cell_type": "markdown",
   "metadata": {},
   "source": [
    "### Read in best configuration\n",
    "\n",
    "Selected in 1_metrics_inner (k-fold CV)"
   ],
   "id": "cba8ba56-f5a4-432c-9046-872bbb262e49"
  },
  {
   "cell_type": "code",
   "execution_count": null,
   "metadata": {},
   "outputs": [
    {
     "output_type": "stream",
     "name": "stdout",
     "text": [
      "Rows: 1\n",
      "Columns: 14\n",
      "$ n_jobs       <dbl> 10\n",
      "$ algorithm    <chr> \"glmnet\"\n",
      "$ feature_set  <chr> \"item_ordinal\"\n",
      "$ hp1          <dbl> 0.8\n",
      "$ hp2          <dbl> 0.02656553\n",
      "$ hp3          <lgl> NA\n",
      "$ resample     <chr> \"none\"\n",
      "$ accuracy     <dbl> 0.7110092\n",
      "$ bal_accuracy <dbl> 0.5974326\n",
      "$ roc_auc      <dbl> 0.7268278\n",
      "$ sens         <dbl> 0.2625762\n",
      "$ spec         <dbl> 0.9182367\n",
      "$ ppv          <dbl> 0.5753676\n",
      "$ npv          <dbl> 0.7049689"
     ]
    }
   ],
   "source": [
    "best_config <- read_csv(file.path(path_models, \n",
    "                                  str_c(\"best_config_none_\", version, \".csv\")),\n",
    "                        show_col_types = FALSE)\n",
    "\n",
    "glimpse(best_config)\n"
   ],
   "id": "d4c696a6-300f-49dc-af7d-0f62b0ee17e0"
  },
  {
   "cell_type": "markdown",
   "metadata": {},
   "source": [
    "### Fit best model in full dataset\n",
    "\n",
    "**NOTE**: This model will only be used for 1) examining parameter estimates, and 2) ultimate dissemination."
   ],
   "id": "ca8aeead-2394-4b40-8671-d38a8fe24bd7"
  },
  {
   "cell_type": "code",
   "execution_count": null,
   "metadata": {},
   "outputs": [],
   "source": [
    "batch_names <- list.dirs(path_input, full.names = FALSE, recursive = FALSE) \n",
    "\n",
    "batch_name <- batch_names[str_detect(batch_names, \"train\") & \n",
    "                            str_detect(batch_names, cv) &\n",
    "                            str_detect(batch_names, version) &\n",
    "                            str_detect(batch_names, best_config$algorithm)] \n",
    "\n",
    "path_batch <- file.path(path_input, batch_name)\n",
    "source(file.path(path_batch, \"input\", \"training_controls.R\"))\n",
    "\n",
    "d <- read_csv(file.path(path_batch, \"input\", \"data_trn.csv\"), \n",
    "              show_col_types = FALSE) \n",
    "\n",
    "d_outcomes <- d |> \n",
    "  select(subid, ends_with(\"outcome\") & contains(\"hybrid\"))\n",
    "\n",
    "d <- format_data(d) \n",
    "\n",
    "rec <- build_recipe(d = d, config = best_config)\n",
    "\n",
    "rec_prepped_full <- rec |> \n",
    "  prep(training = d, strings_as_factors = FALSE)\n",
    "\n",
    "feat_all <- rec_prepped_full |> \n",
    "  bake(new_data = NULL)\n",
    "\n",
    "model_best_full <- fit_best_model(best_model = best_config, \n",
    "                                  feat = feat_all, \n",
    "                                  ml_mode = \"classification\")\n"
   ],
   "id": "8b4a7f1a-92f9-4b35-aa2f-8bb3dea56052"
  },
  {
   "cell_type": "markdown",
   "metadata": {},
   "source": [
    "### Model coefficients\n",
    "\n",
    "**NOTE**: Coefficients are naturally inverted (i.e., positive class \\[abstinence\\] treated as first \\[vs. second\\] class). Here, we multiply coefficients by -1 to align the direction of coefficients with the rest of our analyses. Once flipped (i.e., as they appear below)…\n",
    "\n",
    "A *positive coefficient* indicates that increases in the feature *increase* the likelihood of abstinence. For example, increases in motivation to quit (“motive_quit_order”) *increase* the likelihood of abstinence.\n",
    "\n",
    "A *negative coefficient* indicates that increases in the feature *decrease* the likelihood of smoking. For example, increases in carbon monoxide (“co”) *decrease* the likelihood of abstinence."
   ],
   "id": "779dc2dc-4350-4bbe-9ac4-2e3c92f8d723"
  },
  {
   "cell_type": "code",
   "execution_count": null,
   "metadata": {},
   "outputs": [
    {
     "output_type": "stream",
     "name": "stderr",
     "text": [
      "Loaded glmnet 4.1-8"
     ]
    }
   ],
   "source": [
    "model_tidy <- tidy(model_best_full)\n"
   ],
   "id": "c8a76c95-fd75-44bf-8dbf-880184b526c3"
  },
  {
   "cell_type": "code",
   "execution_count": null,
   "metadata": {},
   "outputs": [
    {
     "output_type": "display_data",
     "metadata": {},
     "data": {
      "text/html": [
       "</div>\n"
      ],
      "text/markdown": [
       "                                                                        term   estimate\n",
       "  -------------------------------------------------------------------------- ----------\n",
       "                                                                 (Intercept)    -0.7333\n",
       "                                                              race_ehr_white     0.2600\n",
       "                                                                          co    -0.2380\n",
       "                                                       wisdm37_30_item_order    -0.1701\n",
       "                                                           motive_quit_order     0.1335\n",
       "                                                wsws_want_cig_24h_item_order    -0.1108\n",
       "      treatment_combo_nrt_x_live_with_smoker_live_alone_or_only_with_partner     0.1066\n",
       "                                                        wisdm37_2_item_order     0.1031\n",
       "                                                          asi3_15_item_order     0.0908\n",
       "                                 treatment_combo_nrt_x_wisdm37_22_item_order    -0.0788\n",
       "                                           time_around_smokers_weekend_order    -0.0765\n",
       "                                                          longest_quit_order     0.0755\n",
       "                                                     life_satisfaction_order     0.0730\n",
       "                                                            shp_2_item_order     0.0698\n",
       "                       treatment_combo_nrt_x_race_ehr_black_african_american    -0.0686\n",
       "    treatment_varenicline_x_live_with_smoker_live_alone_or_only_with_partner    -0.0668\n",
       "                                                                income_order     0.0667\n",
       "                                                           dts_13_item_order     0.0607\n",
       "                                      treatment_combo_nrt_x_smoke_menthol_no     0.0443\n",
       "                                                 wsws_unhappy_24h_item_order    -0.0414\n",
       "                                                          wsws_18_item_order    -0.0387\n",
       "                                                           smoke_menthol_yes    -0.0360\n",
       "                                                        wisdm37_5_item_order    -0.0348\n",
       "                                   treatment_patch_x_used_cigars_never_tried    -0.0273\n",
       "                                     treatment_patch_x_close_smoke_friend_no    -0.0263\n",
       "                                                       wisdm37_13_item_order    -0.0253\n",
       "                                                          sip2r_2_item_order    -0.0230\n",
       "                                                            tot_quit_attempt     0.0228\n",
       "                                                           mfi_15_item_order     0.0223\n",
       "                                                  marital_status_ehr_married     0.0200\n",
       "                             treatment_varenicline_x_used_cigars_never_tried     0.0199\n",
       "                                                          sip2r_3_item_order    -0.0151\n",
       "                                                                  hdsm_tense    -0.0143\n",
       "                                                             dsm5_8_item_yes    -0.0117\n",
       "                                      treatment_combo_nrt_x_dsm5_10_item_yes    -0.0111\n",
       "                                     treatment_varenicline_x_spouse_smoke_no     0.0105\n",
       "                                                            dsm5_12_item_yes    -0.0103\n",
       "                                                     important_to_quit_order     0.0078\n",
       "                            treatment_combo_nrt_x_marital_status_ehr_married     0.0067\n",
       "                                                            shp_9_item_order     0.0055\n",
       "                                                              dsm5_8_item_no     0.0052\n",
       "                                                             dsm5_12_item_no     0.0036\n",
       "                                                            mfi_9_item_order    -0.0008\n",
       "                                                       wisdm37_27_item_order    -0.0006\n",
       "                                                wsws_stressed_24h_item_order    -0.0006\n",
       "                                treatment_varenicline_x_psych_depression_yes     0.0001\n",
       "                           treatment_combo_nrt_x_marital_status_ehr_divorced     0.0000\n",
       "                                 treatment_patch_x_close_smoke_co_worker_yes     0.0000\n"
      ]
     }
    }
   ],
   "source": [
    "retained_vars <- model_tidy |> \n",
    "  mutate(estimate = estimate * -1) |> \n",
    "  filter(abs(estimate) > 0) |> \n",
    "  select(-penalty) |> \n",
    "  arrange(desc(abs(estimate)))\n",
    "\n",
    "print_kbl(retained_vars, digits = 4)\n"
   ],
   "id": "tbl-retained-vars-4wk"
  },
  {
   "cell_type": "markdown",
   "metadata": {},
   "source": [
    "4.09% of features were retained by the glmnet solution (48 features of a total considered 1173 features)."
   ],
   "id": "16d07411-7e0a-4ea5-9caa-c7ddc04f31d1"
  },
  {
   "cell_type": "code",
   "execution_count": null,
   "metadata": {},
   "outputs": [
    {
     "output_type": "display_data",
     "metadata": {},
     "data": {
      "text/html": [
       "</div>\n"
      ],
      "text/markdown": [
       "                                                                        term   estimate\n",
       "  -------------------------------------------------------------------------- ----------\n",
       "      treatment_combo_nrt_x_live_with_smoker_live_alone_or_only_with_partner     0.1066\n",
       "                                 treatment_combo_nrt_x_wisdm37_22_item_order    -0.0788\n",
       "                       treatment_combo_nrt_x_race_ehr_black_african_american    -0.0686\n",
       "    treatment_varenicline_x_live_with_smoker_live_alone_or_only_with_partner    -0.0668\n",
       "                                      treatment_combo_nrt_x_smoke_menthol_no     0.0443\n",
       "                                   treatment_patch_x_used_cigars_never_tried    -0.0273\n",
       "                                     treatment_patch_x_close_smoke_friend_no    -0.0263\n",
       "                             treatment_varenicline_x_used_cigars_never_tried     0.0199\n",
       "                                      treatment_combo_nrt_x_dsm5_10_item_yes    -0.0111\n",
       "                                     treatment_varenicline_x_spouse_smoke_no     0.0105\n",
       "                            treatment_combo_nrt_x_marital_status_ehr_married     0.0067\n",
       "                                treatment_varenicline_x_psych_depression_yes     0.0001\n",
       "                           treatment_combo_nrt_x_marital_status_ehr_divorced     0.0000\n",
       "                                 treatment_patch_x_close_smoke_co_worker_yes     0.0000\n"
      ]
     }
    }
   ],
   "source": [
    "retained_vars_tx <- retained_vars |> \n",
    "  filter(str_detect(term, \"treatment_\")) |> \n",
    "  arrange(desc(abs(estimate))) \n",
    "\n",
    "print_kbl(retained_vars_tx, digits = 4)\n"
   ],
   "id": "tbl-retained-tx-4wk"
  },
  {
   "cell_type": "markdown",
   "metadata": {},
   "source": [
    "29.17% of the retained features were treatment interaction features (14 treatment features of 48 retained features). Of the 877 available treatment interaction features, 2% were retained.\n",
    "\n",
    "### Calculate and calibrate probabilities\n",
    "\n",
    "Make triplicate dataset"
   ],
   "id": "b20c1044-3f39-4943-8c6e-d8a7d78cc2db"
  },
  {
   "cell_type": "code",
   "execution_count": null,
   "metadata": {},
   "outputs": [],
   "source": [
    "d_patch <- d |> \n",
    "  mutate(treatment = \"patch\") \n",
    "\n",
    "d_combo <- d |> \n",
    "  mutate(treatment = \"combo_nrt\")\n",
    "\n",
    "d_varen <- d |> \n",
    "  mutate(treatment = \"varenicline\")\n",
    "\n",
    "d_trip <- bind_rows(d_patch, d_combo) |> \n",
    "  bind_rows(d_varen) |> \n",
    "  mutate(treatment = factor(treatment, \n",
    "                            levels = c(\n",
    "                              \"patch\",\n",
    "                              \"varenicline\",\n",
    "                              \"combo_nrt\")))\n"
   ],
   "id": "5162da89-a6cf-4736-a706-27f8b1cdbad9"
  },
  {
   "cell_type": "markdown",
   "metadata": {},
   "source": [
    "Make function to: 1) hold out each sub once, 2) fit model with remaining 1085 subs, 3) get 3 raw predictions for held-out sub, 4) get calibrated predictions for held-out sub"
   ],
   "id": "15c62d22-839e-4eef-8716-4b6d8fba18e8"
  },
  {
   "cell_type": "code",
   "execution_count": null,
   "metadata": {},
   "outputs": [],
   "source": [
    "get_triple_probs <- function(i_sub, best_config, d, d_trip){\n",
    "  \n",
    "  # hold out single subject\n",
    "  d_out <- d_trip |> \n",
    "    filter(subid == i_sub)\n",
    "  \n",
    "  d_in <- d |> \n",
    "    filter(subid != i_sub)\n",
    "  \n",
    "  # prep recipe \n",
    "  rec <- build_recipe(d = d_in, config = best_config)\n",
    "  rec_prepped <- rec |> \n",
    "    prep(training = d_in, strings_as_factors = FALSE)\n",
    "  \n",
    "  # bake feat_in and feat_out\n",
    "  feat_in <- rec_prepped |> \n",
    "    bake(new_data = NULL)\n",
    "  \n",
    "  feat_out <- rec_prepped |> \n",
    "    bake(new_data = d_out)\n",
    "  \n",
    "  # fit model\n",
    "  model_best <- fit_best_model(best_config, feat = feat_in,\n",
    "                               \"classification\")\n",
    "  \n",
    "  # raw (uncalibrated) predictions\n",
    "  preds_prob <- predict(model_best, feat_out,\n",
    "                        type = \"prob\")\n",
    "  \n",
    "  # fit calibration model\n",
    "  set.seed(2468)\n",
    "  cal_split <- d_in |> \n",
    "    initial_split(prop = 3/4, strata = y)\n",
    "  d_cal_in <- training(cal_split) \n",
    "  d_cal_out <- testing(cal_split)\n",
    "  \n",
    "  rec_cal_prepped <- rec |> \n",
    "    prep(training = d_cal_in, strings_as_factors = FALSE)\n",
    "  \n",
    "  feat_cal_in <- rec_cal_prepped |> \n",
    "    bake(new_data = NULL) \n",
    "  \n",
    "  feat_cal_out <- rec_cal_prepped |> \n",
    "    bake(new_data = d_cal_out) \n",
    "  \n",
    "  model_cal <- fit_best_model(best_config, feat = feat_cal_in, \"classification\")\n",
    "  \n",
    "  # beta calibration\n",
    "  beta <- predict(model_cal, feat_cal_out,\n",
    "                  type = \"prob\") |>\n",
    "    mutate(truth = feat_cal_out$y) |>\n",
    "    cal_estimate_beta(truth = truth,\n",
    "                      estimate = dplyr::starts_with(\".pred_\"),\n",
    "                      smooth = TRUE)\n",
    "  preds_prob_beta <- preds_prob |>\n",
    "    cal_apply(beta)\n",
    "  \n",
    "  # iso calibration\n",
    "  iso <- predict(model_cal, feat_cal_out,\n",
    "                 type = \"prob\") |>\n",
    "    mutate(truth = feat_cal_out$y) |>\n",
    "    cal_estimate_isotonic(truth = truth,\n",
    "                          estimate = dplyr::starts_with(\".pred_\"))\n",
    "  preds_prob_iso <- preds_prob |>\n",
    "    cal_apply(iso)\n",
    "  \n",
    "  # logistic calibration\n",
    "  logi <- predict(model_cal, feat_cal_out,\n",
    "                  type = \"prob\") |>\n",
    "    mutate(truth = feat_cal_out$y) |>\n",
    "    cal_estimate_logistic(truth = truth,\n",
    "                          estimate = dplyr::starts_with(\".pred_\"),\n",
    "                          smooth = TRUE)\n",
    "  preds_prob_logi <- preds_prob |>\n",
    "    cal_apply(logi)\n",
    "  \n",
    "  # combine raw and calibrated probs\n",
    "  probs <- tibble(subid = d_out$subid,\n",
    "                  tx = d_out$treatment,\n",
    "                  prob_raw = preds_prob[[str_c(\".pred_\", y_level_pos)]],\n",
    "                  prob_beta = preds_prob_beta[[str_c(\".pred_\", y_level_pos)]],\n",
    "                  prob_iso = preds_prob_iso[[str_c(\".pred_\", y_level_pos)]],\n",
    "                  prob_logi = preds_prob_logi[[str_c(\".pred_\", y_level_pos)]]) \n",
    "}\n"
   ],
   "id": "2650ca64-004f-4c78-b675-08543b1825c8"
  },
  {
   "cell_type": "markdown",
   "metadata": {},
   "source": [
    "Map over participants so that each is held-out once"
   ],
   "id": "13af9606-eecb-4824-82ec-2c734c1b4f25"
  },
  {
   "cell_type": "code",
   "execution_count": null,
   "metadata": {},
   "outputs": [],
   "source": [
    "if(file.exists(file.path(path_models, \n",
    "                         str_c(\"trip_probs_none_\", version, \".csv\")))) {\n",
    "  all_probs <- read_csv(file.path(path_models, \n",
    "                                  str_c(\"trip_probs_none_\", version, \".csv\")),\n",
    "                        show_col_types = FALSE)\n",
    "} else {\n",
    "  all_probs <- d$subid |> \n",
    "    map(\\(i_sub) get_triple_probs(i_sub, best_config, d, d_trip)) |> \n",
    "    list_rbind()\n",
    "  \n",
    "  all_probs |> \n",
    "    write_csv(file.path(path_models, \n",
    "                        str_c(\"trip_probs_none_\", version, \".csv\")))\n",
    "}\n"
   ],
   "id": "3690463c-604b-4edd-b0eb-f06744a74452"
  },
  {
   "cell_type": "markdown",
   "metadata": {},
   "source": [
    "### Make AIM 2 Dataset\n",
    "\n",
    "Pivot probabilities into wide format & select only raw probability (based on calibration validity check below)"
   ],
   "id": "94e629f1-3a53-45eb-a020-4b050bd16799"
  },
  {
   "cell_type": "code",
   "execution_count": null,
   "metadata": {},
   "outputs": [
    {
     "output_type": "stream",
     "name": "stdout",
     "text": [
      "Rows: 1,086\n",
      "Columns: 4\n",
      "$ subid            <dbl> 20010, 20015, 20030, 20049, 20051, 20072, 20077, 2008…\n",
      "$ prob_patch       <dbl> 0.2093074, 0.4650573, 0.2365512, 0.4136924, 0.3364847…\n",
      "$ prob_combo_nrt   <dbl> 0.1969431, 0.4954341, 0.3381514, 0.3884661, 0.3973405…\n",
      "$ prob_varenicline <dbl> 0.2344881, 0.5109733, 0.2365676, 0.4440759, 0.3941199…"
     ]
    }
   ],
   "source": [
    "raw_probs_wide <- all_probs |> \n",
    "  select(subid, tx, prob_raw) |> \n",
    "  pivot_wider(names_prefix = \"prob_\",\n",
    "              names_from = tx,\n",
    "              values_from = prob_raw)\n",
    "\n",
    "glimpse(raw_probs_wide)\n"
   ],
   "id": "3b0289bc-8ab4-4cc7-b221-2330bcc0e6e1"
  },
  {
   "cell_type": "markdown",
   "metadata": {},
   "source": [
    "Join with d & create new variables"
   ],
   "id": "b16f191f-fdc0-4790-af00-6580a3624102"
  },
  {
   "cell_type": "code",
   "execution_count": null,
   "metadata": {},
   "outputs": [
    {
     "output_type": "stream",
     "name": "stdout",
     "text": [
      "Rows: 1,086\n",
      "Columns: 11\n",
      "$ subid            <dbl> 20010, 20015, 20030, 20049, 20051, 20072, 20077, 2008…\n",
      "$ tx_rct           <fct> patch, combo_nrt, patch, varenicline, patch, combo_nr…\n",
      "$ tx_best          <fct> varenicline, varenicline, combo_nrt, varenicline, com…\n",
      "$ tx_match         <lgl> FALSE, FALSE, FALSE, TRUE, FALSE, TRUE, FALSE, FALSE,…\n",
      "$ prob_best        <dbl> 0.2344881, 0.5109733, 0.3381514, 0.4440759, 0.3973405…\n",
      "$ outcome_rct_wk4  <fct> smoking, smoking, smoking, smoking, smoking, smoking,…\n",
      "$ outcome_rct_wk12 <chr> \"smoking\", \"smoking\", \"smoking\", \"abstinent\", \"smokin…\n",
      "$ outcome_rct_wk26 <chr> \"smoking\", \"smoking\", \"smoking\", \"abstinent\", \"smokin…\n",
      "$ prob_patch       <dbl> 0.2093074, 0.4650573, 0.2365512, 0.4136924, 0.3364847…\n",
      "$ prob_combo_nrt   <dbl> 0.1969431, 0.4954341, 0.3381514, 0.3884661, 0.3973405…\n",
      "$ prob_varenicline <dbl> 0.2344881, 0.5109733, 0.2365676, 0.4440759, 0.3941199…"
     ]
    }
   ],
   "source": [
    "set.seed(52592)\n",
    "d_aim_2 <- d |> \n",
    "  select(subid, tx_rct = treatment, outcome_rct_wk4 = y) |> \n",
    "  left_join(raw_probs_wide, by = \"subid\") |> \n",
    "    mutate(tx_best = case_when(\n",
    "    prob_patch > prob_combo_nrt & prob_patch > prob_varenicline ~ \"patch\",\n",
    "    prob_combo_nrt > prob_patch & prob_combo_nrt > prob_varenicline ~ \"combo_nrt\",\n",
    "    prob_varenicline > prob_patch & prob_varenicline > prob_combo_nrt ~ \"varenicline\",\n",
    "    TRUE ~ NA_character_\n",
    "  )) |> \n",
    "  # handle ties (prefer CNRT and varenicline per clinical guidelines)\n",
    "  # sample among those if tied\n",
    "  mutate(tx_best = if_else(is.na(tx_best), case_when(\n",
    "    prob_patch == prob_combo_nrt ~ \"combo_nrt\",\n",
    "    prob_patch == prob_varenicline ~ \"varenicline\",\n",
    "    prob_combo_nrt == prob_varenicline ~ sample(c(\"combo_nrt\",\n",
    "                                                  \"varenicline\"), 1),\n",
    "    TRUE ~ NA_character_\n",
    "  ), tx_best)) |>  \n",
    "  mutate(prob_best = case_when(\n",
    "    tx_best == \"patch\" ~ prob_patch,\n",
    "    tx_best == \"combo_nrt\" ~ prob_combo_nrt,\n",
    "    tx_best == \"varenicline\" ~ prob_varenicline,\n",
    "    TRUE ~ NA_real_\n",
    "  )) |> \n",
    "  mutate(tx_best = factor(tx_best, \n",
    "                          levels = c(\n",
    "                            \"patch\",\n",
    "                            \"varenicline\",\n",
    "                            \"combo_nrt\"))) |> \n",
    "  mutate(tx_match = if_else(tx_best == tx_rct, TRUE, FALSE)) |> \n",
    "  left_join(d_outcomes, by = \"subid\") |> \n",
    "  select(-pp_hybrid_wk4_outcome, -pp_hybrid_wk1_outcome, \n",
    "         -pp_hybrid_yr3_outcome, -pp_hybrid_wk52_outcome) |> \n",
    "  rename(outcome_rct_wk12 = pp_hybrid_wk12_outcome,\n",
    "         outcome_rct_wk26 = pp_hybrid_wk26_outcome) |> \n",
    "  relocate(subid, tx_rct, tx_best, tx_match,\n",
    "           prob_best, starts_with(\"outcome\"), starts_with(\"prob\"))\n",
    "\n",
    "glimpse(d_aim_2)\n"
   ],
   "id": "468d96db-cf0b-4827-af02-9d6735d3ac38"
  },
  {
   "cell_type": "markdown",
   "metadata": {},
   "source": [
    "Quick EDA checks"
   ],
   "id": "29467efe-c621-4286-884b-452e39031426"
  },
  {
   "cell_type": "code",
   "execution_count": null,
   "metadata": {},
   "outputs": [
    {
     "output_type": "stream",
     "name": "stdout",
     "text": [
      "# A tibble: 6 × 11\n",
      "  subid tx_rct      tx_best     tx_match prob_best outcome_rct_wk4\n",
      "  <dbl> <fct>       <fct>       <lgl>        <dbl> <fct>          \n",
      "1 20010 patch       varenicline FALSE        0.234 smoking        \n",
      "2 20015 combo_nrt   varenicline FALSE        0.511 smoking        \n",
      "3 20030 patch       combo_nrt   FALSE        0.338 smoking        \n",
      "4 20049 varenicline varenicline TRUE         0.444 smoking        \n",
      "5 20051 patch       combo_nrt   FALSE        0.397 smoking        \n",
      "6 20072 combo_nrt   combo_nrt   TRUE         0.344 smoking        \n",
      "  outcome_rct_wk12 outcome_rct_wk26 prob_patch prob_combo_nrt prob_varenicline\n",
      "  <chr>            <chr>                 <dbl>          <dbl>            <dbl>\n",
      "1 smoking          smoking               0.209          0.197            0.234\n",
      "2 smoking          smoking               0.465          0.495            0.511\n",
      "3 smoking          smoking               0.237          0.338            0.237\n",
      "4 abstinent        abstinent             0.414          0.388            0.444\n",
      "5 smoking          smoking               0.336          0.397            0.394\n",
      "6 smoking          smoking               0.319          0.344            0.325"
     ]
    },
    {
     "output_type": "stream",
     "name": "stdout",
     "text": [
      "# A tibble: 3 × 3\n",
      "  tx_best         n   prop\n",
      "  <fct>       <int>  <dbl>\n",
      "1 patch          18 0.0166\n",
      "2 varenicline   693 0.638 \n",
      "3 combo_nrt     375 0.345 "
     ]
    },
    {
     "output_type": "stream",
     "name": "stdout",
     "text": [
      "# A tibble: 2 × 3\n",
      "  tx_match     n  prop\n",
      "  <lgl>    <int> <dbl>\n",
      "1 FALSE      634 0.584\n",
      "2 TRUE       452 0.416"
     ]
    },
    {
     "output_type": "stream",
     "name": "stdout",
     "text": [
      "# A tibble: 6 × 4\n",
      "# Groups:   tx_rct [3]\n",
      "  tx_rct      tx_match     n   prop\n",
      "  <fct>       <lgl>    <int>  <dbl>\n",
      "1 patch       FALSE      235 0.975 \n",
      "2 patch       TRUE         6 0.0249\n",
      "3 varenicline FALSE      136 0.321 \n",
      "4 varenicline TRUE       288 0.679 \n",
      "5 combo_nrt   FALSE      263 0.625 \n",
      "6 combo_nrt   TRUE       158 0.375 "
     ]
    }
   ],
   "source": [
    "# confirm logic worked as expected\n",
    "head(d_aim_2)\n"
   ],
   "id": "d6765aaa-f83f-4718-baf1-e783b9a069b2"
  },
  {
   "cell_type": "markdown",
   "metadata": {},
   "source": [
    "Write out"
   ],
   "id": "3ac5336a-b4e9-4afe-af7b-496b84846d86"
  },
  {
   "cell_type": "code",
   "execution_count": null,
   "metadata": {},
   "outputs": [],
   "source": [
    "d_aim_2 |> \n",
    "  write_csv(file.path(path_models, str_c(\"aim_2_\", version, \"_none_\", \n",
    "                                         y_col_name, \".csv\")))\n"
   ],
   "id": "95158edf-a989-4285-870b-e648f6dcbe6e"
  },
  {
   "cell_type": "markdown",
   "metadata": {},
   "source": [
    "### Validity check: Model Calibration\n",
    "\n",
    "Make wide format for all calibrated probabilities"
   ],
   "id": "2e675d0d-eef4-4754-a4eb-446b276d1f25"
  },
  {
   "cell_type": "code",
   "execution_count": null,
   "metadata": {},
   "outputs": [],
   "source": [
    "all_probs_wide <- all_probs |> \n",
    "  rename_with(~ str_replace(.x, \"prob_\", \"\"), .cols = starts_with(\"prob_\")) |> \n",
    "  pivot_wider(\n",
    "    names_from = tx,\n",
    "    values_from = c(raw, beta, iso, logi),\n",
    "    names_glue = \"{.value}_{tx}\"\n",
    "  )\n"
   ],
   "id": "6f6f69e8-3ee6-4163-939b-88bbb5e150c7"
  },
  {
   "cell_type": "markdown",
   "metadata": {},
   "source": [
    "Set up validity check data"
   ],
   "id": "c6c9c10f-b7d1-4c8f-86fd-65fa54c257f4"
  },
  {
   "cell_type": "code",
   "execution_count": null,
   "metadata": {},
   "outputs": [],
   "source": [
    "d_valid <- d_aim_2 |> \n",
    "  select(subid, tx_rct, outcome_rct_wk4) |> \n",
    "  left_join(all_probs_wide, by = \"subid\") |> \n",
    "  mutate(beta = case_when(\n",
    "    tx_rct == \"patch\" ~ beta_patch,\n",
    "    tx_rct == \"combo_nrt\" ~ beta_combo_nrt,\n",
    "    tx_rct == \"varenicline\" ~ beta_varenicline,\n",
    "    TRUE ~ NA_real_\n",
    "  ),\n",
    "  raw = case_when(\n",
    "    tx_rct == \"patch\" ~ raw_patch,\n",
    "    tx_rct == \"combo_nrt\" ~ raw_combo_nrt,\n",
    "    tx_rct == \"varenicline\" ~ raw_varenicline,\n",
    "    TRUE ~ NA_real_\n",
    "  ),\n",
    "  isotonic = case_when(\n",
    "    tx_rct == \"patch\" ~ iso_patch,\n",
    "    tx_rct == \"combo_nrt\" ~ iso_combo_nrt,\n",
    "    tx_rct == \"varenicline\" ~ iso_varenicline,\n",
    "    TRUE ~ NA_real_\n",
    "  ),\n",
    "  logistic = case_when(\n",
    "    tx_rct == \"patch\" ~ logi_patch,\n",
    "    tx_rct == \"combo_nrt\" ~ logi_combo_nrt,\n",
    "    tx_rct == \"varenicline\" ~ logi_varenicline,\n",
    "    TRUE ~ NA_real_\n",
    "  )) |> \n",
    "  select(subid, outcome_rct_wk4, beta, raw, isotonic, logistic) \n"
   ],
   "id": "9f16aa0d-81d9-41bc-a252-3a58cb8ce5d2"
  },
  {
   "cell_type": "markdown",
   "metadata": {},
   "source": [
    "#### Comparison of means\n",
    "\n",
    "Compare mean abstinence from RCT to predicted probabilities for RCT tx across calibrations"
   ],
   "id": "fb6dd187-3eab-46cd-b194-9669fa15c7ff"
  },
  {
   "cell_type": "code",
   "execution_count": null,
   "metadata": {},
   "outputs": [
    {
     "output_type": "stream",
     "name": "stdout",
     "text": [
      "# A tibble: 1 × 5\n",
      "  mean_rct mean_beta mean_iso mean_logi mean_raw\n",
      "     <dbl>     <dbl>    <dbl>     <dbl>    <dbl>\n",
      "1    0.342     0.352    0.263     0.356    0.342"
     ]
    }
   ],
   "source": [
    "d_valid |> \n",
    "  mutate(outcome_rct = if_else(outcome_rct_wk4 == \"abstinent\", 1, 0)) |> \n",
    "  summarize(mean_rct = mean(outcome_rct),\n",
    "            mean_beta = mean(beta),\n",
    "            mean_iso = mean(isotonic),\n",
    "            mean_logi = mean(logistic),\n",
    "            mean_raw = mean(raw))\n"
   ],
   "id": "e4c213d6-08e0-4e77-b6cd-473ea883e407"
  },
  {
   "cell_type": "markdown",
   "metadata": {},
   "source": [
    "Raw probabilities match best, though beta and logistic calibration are close.\n",
    "\n",
    "#### Plots\n",
    "\n",
    "Pivot data longer for required format"
   ],
   "id": "2d1d9e0c-a57a-423d-9203-1622f93164d2"
  },
  {
   "cell_type": "code",
   "execution_count": null,
   "metadata": {},
   "outputs": [],
   "source": [
    "d_plot <- d_valid |> \n",
    "  pivot_longer(\n",
    "    cols = c(beta, raw, isotonic, logistic),\n",
    "    names_to = \"method\",\n",
    "    values_to = \".pred_abstinent\"\n",
    "  )\n"
   ],
   "id": "97d4ffa4-0c53-4c34-89be-edd05bc2ec21"
  },
  {
   "cell_type": "markdown",
   "metadata": {},
   "source": [
    "Make plots by calibration method"
   ],
   "id": "8fd2e15c-016c-4f64-b6b6-39b8e13df47e"
  },
  {
   "cell_type": "code",
   "execution_count": null,
   "metadata": {},
   "outputs": [
    {
     "output_type": "display_data",
     "metadata": {},
     "data": {
      "image/png": "[encoded data removed]"
     }
    },
    {
     "output_type": "display_data",
     "metadata": {},
     "data": {
      "image/png": "[encoded data removed]"
     }
    }
   ],
   "source": [
    "d_plot |> \n",
    "  cal_plot_breaks(truth = outcome_rct_wk4, \n",
    "                  estimate = .pred_abstinent,\n",
    "                  .by = method)\n"
   ],
   "id": "2c13f3ac-0bac-4440-bd13-bd7a918c44e7"
  },
  {
   "cell_type": "markdown",
   "metadata": {},
   "source": [
    "Raw and beta look best. Raw follows the diagonal more closely for longer.\n",
    "\n",
    "#### Brier score\n",
    "\n",
    "Beta calibration"
   ],
   "id": "dd494051-18a7-4dbc-a9b8-b707ffeaa350"
  },
  {
   "cell_type": "code",
   "execution_count": null,
   "metadata": {},
   "outputs": [
    {
     "output_type": "stream",
     "name": "stdout",
     "text": [
      "[1] 0.2025098"
     ]
    }
   ],
   "source": [
    "brier_class_vec(truth = d_valid$outcome_rct_wk4,\n",
    "                estimate = d_valid$beta)\n"
   ],
   "id": "3d6f74bb-731a-4a9f-834d-631d8ff11f3a"
  },
  {
   "cell_type": "markdown",
   "metadata": {},
   "source": [
    "Logistic calibration"
   ],
   "id": "ec29b38d-6b91-489a-995d-303a0c1f16fa"
  },
  {
   "cell_type": "code",
   "execution_count": null,
   "metadata": {},
   "outputs": [
    {
     "output_type": "stream",
     "name": "stdout",
     "text": [
      "[1] 0.2069449"
     ]
    }
   ],
   "source": [
    "brier_class_vec(truth = d_valid$outcome_rct_wk4,\n",
    "                estimate = d_valid$logistic)\n"
   ],
   "id": "a25d937a-2e5c-473f-b741-e62d8ef72520"
  },
  {
   "cell_type": "markdown",
   "metadata": {},
   "source": [
    "Isotonic calibration"
   ],
   "id": "5cb336b5-bc3e-4fd6-a5e9-b3099c1b01e0"
  },
  {
   "cell_type": "code",
   "execution_count": null,
   "metadata": {},
   "outputs": [
    {
     "output_type": "stream",
     "name": "stdout",
     "text": [
      "[1] 0.2199579"
     ]
    }
   ],
   "source": [
    "brier_class_vec(truth = d_valid$outcome_rct_wk4,\n",
    "                estimate = d_valid$isotonic)\n"
   ],
   "id": "deb75a72-3ac6-464c-805c-0ce6aa838580"
  },
  {
   "cell_type": "markdown",
   "metadata": {},
   "source": [
    "Raw calibration"
   ],
   "id": "9b8b2897-5e9a-4b7c-8669-5245fb556fcf"
  },
  {
   "cell_type": "code",
   "execution_count": null,
   "metadata": {},
   "outputs": [
    {
     "output_type": "stream",
     "name": "stdout",
     "text": [
      "[1] 0.1987691"
     ]
    }
   ],
   "source": [
    "brier_class_vec(truth = d_valid$outcome_rct_wk4,\n",
    "                estimate = d_valid$raw)\n"
   ],
   "id": "d7edbe96-1f4e-454a-8ee4-6090d5fa31e3"
  },
  {
   "cell_type": "markdown",
   "metadata": {},
   "source": [
    "Raw calibration has the lowest Brier score (though all are relatively similar). In keeping with the other methods above, beta and logistic are next-best followed by isotonic last."
   ],
   "id": "60a6614e-0e8d-4ca6-9017-4c8b824cad10"
  }
 ],
 "nbformat": 4,
 "nbformat_minor": 5,
 "metadata": {}
}

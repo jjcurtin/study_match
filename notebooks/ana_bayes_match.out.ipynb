{
 "cells": [
  {
   "cell_type": "markdown",
   "metadata": {},
   "source": [
    "# Posterior probabilities across models for MATCH study (version v5)\n",
    "\n",
    "John Curtin  \n",
    "May 13, 2024\n",
    "\n",
    "### Code Status\n",
    "\n",
    "In use with iterative improvement.\n",
    "\n",
    "Updating for use with MATCH\n",
    "\n",
    "### Notes\n",
    "\n",
    "Can review online docs for\n",
    "\n",
    "-   [how to use rstanarm](https://cran.r-project.org/web/packages/rstanarm/vignettes/rstanarm.html)\n",
    "-   [priors](https://cran.r-project.org/web/packages/rstanarm/vignettes/priors.html)\n",
    "-   [warnings](https://mc-stan.org/misc/warnings.html)\n",
    "-   [tutorial on rstanarm and shinystan](https://www.tqmp.org/RegularArticles/vol14-2/p099/p099.pdf)\n",
    "-   [R Bloggers on perf_mod](https://www.r-bloggers.com/2019/12/tidyposteriors-bayesian-approach-to-model-comparison/)\n",
    "\n",
    "### Set Up Environment"
   ],
   "id": "0d57662e-d18c-4927-9be9-884e2899443b"
  },
  {
   "cell_type": "code",
   "execution_count": null,
   "metadata": {},
   "outputs": [],
   "source": [
    "study <- params$study\n",
    "version <- params$version\n",
    "cv <- params$cv\n"
   ],
   "id": "1b3cdfd8-0aa7-4e2d-ac0a-0ea2188274d5"
  },
  {
   "cell_type": "markdown",
   "metadata": {},
   "source": [
    "Packages for script"
   ],
   "id": "45ccd073-a9b8-4d9e-ad72-488a19488df2"
  },
  {
   "cell_type": "code",
   "execution_count": null,
   "metadata": {},
   "outputs": [
    {
     "output_type": "stream",
     "name": "stderr",
     "text": [
      "── Attaching core tidyverse packages ──────────────────────── tidyverse 2.0.0 ──\n",
      "✔ dplyr     1.1.4     ✔ readr     2.1.5\n",
      "✔ forcats   1.0.0     ✔ stringr   1.5.1\n",
      "✔ ggplot2   3.5.0     ✔ tibble    3.2.1\n",
      "✔ lubridate 1.9.3     ✔ tidyr     1.3.1\n",
      "✔ purrr     1.0.2     \n",
      "── Conflicts ────────────────────────────────────────── tidyverse_conflicts() ──\n",
      "✖ dplyr::filter() masks stats::filter()\n",
      "✖ dplyr::lag()    masks stats::lag()\n",
      "ℹ Use the conflicted package (<http://conflicted.r-lib.org/>) to force all conflicts to become errors"
     ]
    },
    {
     "output_type": "stream",
     "name": "stderr",
     "text": [
      "── Attaching packages ────────────────────────────────────── tidymodels 1.1.1 ──\n",
      "✔ broom        1.0.5      ✔ rsample      1.2.0 \n",
      "✔ dials        1.2.1      ✔ tune         1.1.2 \n",
      "✔ infer        1.0.6      ✔ workflows    1.1.4 \n",
      "✔ modeldata    1.3.0      ✔ workflowsets 1.0.1 \n",
      "✔ parsnip      1.2.0      ✔ yardstick    1.3.0 \n",
      "✔ recipes      1.0.10     \n",
      "── Conflicts ───────────────────────────────────────── tidymodels_conflicts() ──\n",
      "✖ scales::discard() masks purrr::discard()\n",
      "✖ dplyr::filter()   masks stats::filter()\n",
      "✖ recipes::fixed()  masks stringr::fixed()\n",
      "✖ dplyr::lag()      masks stats::lag()\n",
      "✖ yardstick::spec() masks readr::spec()\n",
      "✖ recipes::step()   masks stats::step()\n",
      "• Search for functions across packages at https://www.tidymodels.org/find/"
     ]
    }
   ],
   "source": [
    "library(tidyposterior)\n",
    "library(tidyverse)\n"
   ],
   "id": "5528417a-2a43-45c1-aa82-c3213f878060"
  },
  {
   "cell_type": "markdown",
   "metadata": {},
   "source": [
    "Absolute paths"
   ],
   "id": "35d904d5-2084-46b4-8c34-054ab25e14b7"
  },
  {
   "cell_type": "code",
   "execution_count": null,
   "metadata": {},
   "outputs": [],
   "source": [
    "switch (Sys.info()[['sysname']],\n",
    "        # PC paths\n",
    "        Windows = {\n",
    "          path_models <- \"P:/studydata/match/models/\"},\n",
    "        \n",
    "        # IOS paths\n",
    "        Darwin = {\n",
    "          path_models <- \"/Volumes/private/studydata/match/models/\"},\n",
    "        \n",
    "        # Linux paths\n",
    "        Linux = {\n",
    "          path_models <- \"~/mnt/private/studydata/match/models/\"}\n",
    ")\n"
   ],
   "id": "d2f4b2c6-ecbf-4d2a-a3d2-ff53381490a5"
  },
  {
   "cell_type": "markdown",
   "metadata": {},
   "source": [
    "Chunk Defaults"
   ],
   "id": "305f017f-fe2d-4186-9af8-26bc547f97e8"
  },
  {
   "cell_type": "code",
   "execution_count": null,
   "metadata": {},
   "outputs": [],
   "source": [
    "knitr::opts_chunk$set(attr.output='style=\"max-height: 500px;\"')\n",
    "\n",
    "options(tibble.width = Inf)\n",
    "options(tibble.print_max = Inf)\n"
   ],
   "id": "01df274b-ebdb-4522-aaf6-f2f4531c2caf"
  },
  {
   "cell_type": "markdown",
   "metadata": {},
   "source": [
    "Source training controls"
   ],
   "id": "4ee035c8-7406-417b-a0f7-d579ea882710"
  },
  {
   "cell_type": "code",
   "execution_count": null,
   "metadata": {},
   "outputs": [
    {
     "output_type": "stream",
     "name": "stderr",
     "text": [
      "ℹ SHA-1 hash of file is \"c045eee2655a18dc85e715b78182f176327358a7\""
     ]
    }
   ],
   "source": [
    "# EDA\n",
    "devtools::source_url(\"https://github.com/jjcurtin/lab_support/blob/main/fun_eda.R?raw=true\")\n"
   ],
   "id": "32fa4d80-82e1-46fd-aed7-c239e5cdf407"
  },
  {
   "cell_type": "markdown",
   "metadata": {},
   "source": [
    "### Read in preds and metrics for best model"
   ],
   "id": "bec6cd9b-441b-4ef8-ad52-64ffc480b299"
  },
  {
   "cell_type": "code",
   "execution_count": null,
   "metadata": {},
   "outputs": [
    {
     "output_type": "stream",
     "name": "stdout",
     "text": [
      "Rows: 30\n",
      "Columns: 3\n",
      "$ repeat_num <chr> \"repeat1\", \"repeat1\", \"repeat1\", \"repeat1\", \"repeat1\", \"rep…\n",
      "$ fold_num   <chr> \"fold1\", \"fold2\", \"fold3\", \"fold4\", \"fold5\", \"fold6\", \"fold…\n",
      "$ roc_auc    <dbl> 0.5890269, 0.7846271, 0.7469794, 0.6510043, 0.7406656, 0.68…"
     ]
    },
    {
     "output_type": "stream",
     "name": "stdout",
     "text": [
      "Rows: 30\n",
      "Columns: 3\n",
      "$ repeat_num <chr> \"repeat1\", \"repeat1\", \"repeat1\", \"repeat1\", \"repeat1\", \"rep…\n",
      "$ fold_num   <chr> \"fold1\", \"fold2\", \"fold3\", \"fold4\", \"fold5\", \"fold6\", \"fold…\n",
      "$ roc_auc    <dbl> 0.6405063, 0.6494382, 0.6266667, 0.5597776, 0.6827004, 0.63…"
     ]
    },
    {
     "output_type": "stream",
     "name": "stdout",
     "text": [
      "Rows: 30\n",
      "Columns: 4\n",
      "$ repeat_num <chr> \"repeat1\", \"repeat1\", \"repeat1\", \"repeat1\", \"repeat1\", \"rep…\n",
      "$ fold_num   <chr> \"fold1\", \"fold2\", \"fold3\", \"fold4\", \"fold5\", \"fold6\", \"fold…\n",
      "$ week_4     <dbl> 0.5890269, 0.7846271, 0.7469794, 0.6510043, 0.7406656, 0.68…\n",
      "$ week_26    <dbl> 0.6405063, 0.6494382, 0.6266667, 0.5597776, 0.6827004, 0.63…"
     ]
    }
   ],
   "source": [
    "auc_wk4 <- read_rds(file.path(path_models, \"pp_hybrid_wk4_outcome\",\n",
    "                              str_c(\"outer_metrics_\", \n",
    "                                    version, \"_\", cv, \".rds\"))) |> \n",
    "  arrange(outer_split_num) |> \n",
    "  mutate(repeat_num = rep(str_c(\"repeat\", 1:3), each = 10),\n",
    "         fold_num = rep(str_c(\"fold\", 1:10), 3)) |>   # assumes 3x10 fold\n",
    "  select(repeat_num, fold_num, roc_auc) |> \n",
    "  glimpse()\n"
   ],
   "id": "285329c4-cfee-467a-9501-aa97eb32217f"
  },
  {
   "cell_type": "code",
   "execution_count": null,
   "metadata": {},
   "outputs": [
    {
     "output_type": "display_data",
     "metadata": {},
     "data": {
      "image/png": "[encoded data removed]"
     }
    },
    {
     "output_type": "display_data",
     "metadata": {},
     "data": {
      "image/png": "[encoded data removed]"
     }
    }
   ],
   "source": [
    "auc_wk4 %>% \n",
    "  ggplot() + \n",
    "  geom_histogram(aes(x = roc_auc), bins = 10)\n"
   ],
   "id": "158bd99e-e1ef-42f3-939c-d80851c0a7dc"
  },
  {
   "cell_type": "markdown",
   "metadata": {},
   "source": [
    "### All models"
   ],
   "id": "a4c7657a-f75a-4f10-aaf0-3116f6d8c3e0"
  },
  {
   "cell_type": "code",
   "execution_count": null,
   "metadata": {},
   "outputs": [
    {
     "output_type": "stream",
     "name": "stdout",
     "text": [
      "\n",
      "SAMPLING FOR MODEL 'continuous' NOW (CHAIN 1).\n",
      "Chain 1: \n",
      "Chain 1: Gradient evaluation took 6.8e-05 seconds\n",
      "Chain 1: 1000 transitions using 10 leapfrog steps per transition would take 0.68 seconds.\n",
      "Chain 1: Adjust your expectations accordingly!\n",
      "Chain 1: \n",
      "Chain 1: \n",
      "Chain 1: Iteration:    1 / 2000 [  0%]  (Warmup)\n",
      "Chain 1: Iteration:  200 / 2000 [ 10%]  (Warmup)\n",
      "Chain 1: Iteration:  400 / 2000 [ 20%]  (Warmup)\n",
      "Chain 1: Iteration:  600 / 2000 [ 30%]  (Warmup)\n",
      "Chain 1: Iteration:  800 / 2000 [ 40%]  (Warmup)\n",
      "Chain 1: Iteration: 1000 / 2000 [ 50%]  (Warmup)\n",
      "Chain 1: Iteration: 1001 / 2000 [ 50%]  (Sampling)\n",
      "Chain 1: Iteration: 1200 / 2000 [ 60%]  (Sampling)\n",
      "Chain 1: Iteration: 1400 / 2000 [ 70%]  (Sampling)\n",
      "Chain 1: Iteration: 1600 / 2000 [ 80%]  (Sampling)\n",
      "Chain 1: Iteration: 1800 / 2000 [ 90%]  (Sampling)\n",
      "Chain 1: Iteration: 2000 / 2000 [100%]  (Sampling)\n",
      "Chain 1: \n",
      "Chain 1:  Elapsed Time: 0.942 seconds (Warm-up)\n",
      "Chain 1:                0.56 seconds (Sampling)\n",
      "Chain 1:                1.502 seconds (Total)\n",
      "Chain 1: \n",
      "\n",
      "SAMPLING FOR MODEL 'continuous' NOW (CHAIN 2).\n",
      "Chain 2: \n",
      "Chain 2: Gradient evaluation took 2.3e-05 seconds\n",
      "Chain 2: 1000 transitions using 10 leapfrog steps per transition would take 0.23 seconds.\n",
      "Chain 2: Adjust your expectations accordingly!\n",
      "Chain 2: \n",
      "Chain 2: \n",
      "Chain 2: Iteration:    1 / 2000 [  0%]  (Warmup)\n",
      "Chain 2: Iteration:  200 / 2000 [ 10%]  (Warmup)\n",
      "Chain 2: Iteration:  400 / 2000 [ 20%]  (Warmup)\n",
      "Chain 2: Iteration:  600 / 2000 [ 30%]  (Warmup)\n",
      "Chain 2: Iteration:  800 / 2000 [ 40%]  (Warmup)\n",
      "Chain 2: Iteration: 1000 / 2000 [ 50%]  (Warmup)\n",
      "Chain 2: Iteration: 1001 / 2000 [ 50%]  (Sampling)\n",
      "Chain 2: Iteration: 1200 / 2000 [ 60%]  (Sampling)\n",
      "Chain 2: Iteration: 1400 / 2000 [ 70%]  (Sampling)\n",
      "Chain 2: Iteration: 1600 / 2000 [ 80%]  (Sampling)\n",
      "Chain 2: Iteration: 1800 / 2000 [ 90%]  (Sampling)\n",
      "Chain 2: Iteration: 2000 / 2000 [100%]  (Sampling)\n",
      "Chain 2: \n",
      "Chain 2:  Elapsed Time: 0.639 seconds (Warm-up)\n",
      "Chain 2:                0.509 seconds (Sampling)\n",
      "Chain 2:                1.148 seconds (Total)\n",
      "Chain 2: \n",
      "\n",
      "SAMPLING FOR MODEL 'continuous' NOW (CHAIN 3).\n",
      "Chain 3: \n",
      "Chain 3: Gradient evaluation took 1.8e-05 seconds\n",
      "Chain 3: 1000 transitions using 10 leapfrog steps per transition would take 0.18 seconds.\n",
      "Chain 3: Adjust your expectations accordingly!\n",
      "Chain 3: \n",
      "Chain 3: \n",
      "Chain 3: Iteration:    1 / 2000 [  0%]  (Warmup)\n",
      "Chain 3: Iteration:  200 / 2000 [ 10%]  (Warmup)\n",
      "Chain 3: Iteration:  400 / 2000 [ 20%]  (Warmup)\n",
      "Chain 3: Iteration:  600 / 2000 [ 30%]  (Warmup)\n",
      "Chain 3: Iteration:  800 / 2000 [ 40%]  (Warmup)\n",
      "Chain 3: Iteration: 1000 / 2000 [ 50%]  (Warmup)\n",
      "Chain 3: Iteration: 1001 / 2000 [ 50%]  (Sampling)\n",
      "Chain 3: Iteration: 1200 / 2000 [ 60%]  (Sampling)\n",
      "Chain 3: Iteration: 1400 / 2000 [ 70%]  (Sampling)\n",
      "Chain 3: Iteration: 1600 / 2000 [ 80%]  (Sampling)\n",
      "Chain 3: Iteration: 1800 / 2000 [ 90%]  (Sampling)\n",
      "Chain 3: Iteration: 2000 / 2000 [100%]  (Sampling)\n",
      "Chain 3: \n",
      "Chain 3:  Elapsed Time: 0.758 seconds (Warm-up)\n",
      "Chain 3:                0.277 seconds (Sampling)\n",
      "Chain 3:                1.035 seconds (Total)\n",
      "Chain 3: \n",
      "\n",
      "SAMPLING FOR MODEL 'continuous' NOW (CHAIN 4).\n",
      "Chain 4: \n",
      "Chain 4: Gradient evaluation took 1.6e-05 seconds\n",
      "Chain 4: 1000 transitions using 10 leapfrog steps per transition would take 0.16 seconds.\n",
      "Chain 4: Adjust your expectations accordingly!\n",
      "Chain 4: \n",
      "Chain 4: \n",
      "Chain 4: Iteration:    1 / 2000 [  0%]  (Warmup)\n",
      "Chain 4: Iteration:  200 / 2000 [ 10%]  (Warmup)\n",
      "Chain 4: Iteration:  400 / 2000 [ 20%]  (Warmup)\n",
      "Chain 4: Iteration:  600 / 2000 [ 30%]  (Warmup)\n",
      "Chain 4: Iteration:  800 / 2000 [ 40%]  (Warmup)\n",
      "Chain 4: Iteration: 1000 / 2000 [ 50%]  (Warmup)\n",
      "Chain 4: Iteration: 1001 / 2000 [ 50%]  (Sampling)\n",
      "Chain 4: Iteration: 1200 / 2000 [ 60%]  (Sampling)\n",
      "Chain 4: Iteration: 1400 / 2000 [ 70%]  (Sampling)\n",
      "Chain 4: Iteration: 1600 / 2000 [ 80%]  (Sampling)\n",
      "Chain 4: Iteration: 1800 / 2000 [ 90%]  (Sampling)\n",
      "Chain 4: Iteration: 2000 / 2000 [100%]  (Sampling)\n",
      "Chain 4: \n",
      "Chain 4:  Elapsed Time: 0.615 seconds (Warm-up)\n",
      "Chain 4:                0.288 seconds (Sampling)\n",
      "Chain 4:                0.903 seconds (Total)\n",
      "Chain 4: "
     ]
    }
   ],
   "source": [
    "# from ?perf_mod()\n",
    "# Repeated CV (id = repeat, id2 = fold within repeat)\n",
    "\n",
    "set.seed(101)\n",
    "pp <- auc |> \n",
    "  rename(id = repeat_num,\n",
    "         id2 = fold_num) |> \n",
    "  perf_mod(formula = statistic ~ model + (1 | id2/id), \n",
    "           # prior_intercept = rstanarm::student_t(autoscale = TRUE),\n",
    "           # prior = rstanarm::student_t(autoscale = TRUE),\n",
    "           transform = tidyposterior::logit_trans,  # for skewed & bounded AUC\n",
    "           iter = 2000, chains = 4,  \n",
    "           adapt_delta = .99,\n",
    "           # cores = 4, seed = 12345,\n",
    "           family = gaussian, \n",
    "  )  \n"
   ],
   "id": "b4ae90ea-e699-4005-92b0-b6ee92a93ee4"
  },
  {
   "cell_type": "code",
   "execution_count": null,
   "metadata": {},
   "outputs": [
    {
     "output_type": "stream",
     "name": "stdout",
     "text": [
      "Priors for model 'pp$stan' \n",
      "------\n",
      "Intercept (after predictors centered)\n",
      "  Specified prior:\n",
      "    ~ normal(location = 0.68, scale = 2.5)\n",
      "  Adjusted prior:\n",
      "    ~ normal(location = 0.68, scale = 0.66)\n",
      "\n",
      "Coefficients\n",
      "  Specified prior:\n",
      "    ~ normal(location = 0, scale = 2.5)\n",
      "  Adjusted prior:\n",
      "    ~ normal(location = 0, scale = 1.3)\n",
      "\n",
      "Auxiliary (sigma)\n",
      "  Specified prior:\n",
      "    ~ exponential(rate = 1)\n",
      "  Adjusted prior:\n",
      "    ~ exponential(rate = 3.8)\n",
      "\n",
      "Covariance\n",
      " ~ decov(reg. = 1, conc. = 1, shape = 1, scale = 1)\n",
      "------\n",
      "See help('prior_summary.stanreg') for more details"
     ]
    }
   ],
   "source": [
    "rstanarm::prior_summary(pp$stan)\n"
   ],
   "id": "cfddc6f9-329f-4d68-ac36-5fe335adbfdc"
  },
  {
   "cell_type": "code",
   "execution_count": null,
   "metadata": {},
   "outputs": [
    {
     "output_type": "stream",
     "name": "stdout",
     "text": [
      "\n",
      "Model Info:\n",
      " function:     stan_glmer\n",
      " family:       gaussian [identity]\n",
      " formula:      statistic ~ model + (1 | id2/id)\n",
      " algorithm:    sampling\n",
      " sample:       4000 (posterior sample size)\n",
      " priors:       see help('prior_summary')\n",
      " observations: 60\n",
      " groups:       id:id2 (30), id2 (10)\n",
      "\n",
      "Estimates:\n",
      "                                        mean   sd   10%   50%   90%\n",
      "(Intercept)                            0.6    0.0  0.5   0.6   0.6 \n",
      "modelweek_4                            0.2    0.0  0.2   0.2   0.3 \n",
      "b[(Intercept) id:id2:repeat1:fold1]   -0.1    0.1 -0.3  -0.2   0.0 \n",
      "b[(Intercept) id:id2:repeat1:fold10]  -0.2    0.1 -0.3  -0.2   0.0 \n",
      "b[(Intercept) id:id2:repeat1:fold2]    0.2    0.1  0.1   0.2   0.3 \n",
      "b[(Intercept) id:id2:repeat1:fold3]    0.1    0.1 -0.1   0.1   0.2 \n",
      "b[(Intercept) id:id2:repeat1:fold4]   -0.2    0.1 -0.3  -0.2   0.0 \n",
      "b[(Intercept) id:id2:repeat1:fold5]    0.2    0.1  0.0   0.2   0.3 \n",
      "b[(Intercept) id:id2:repeat1:fold6]    0.0    0.1 -0.1   0.0   0.1 \n",
      "b[(Intercept) id:id2:repeat1:fold7]    0.1    0.1  0.0   0.1   0.3 \n",
      "b[(Intercept) id:id2:repeat1:fold8]    0.1    0.1  0.0   0.1   0.2 \n",
      "b[(Intercept) id:id2:repeat1:fold9]   -0.1    0.1 -0.2  -0.1   0.0 \n",
      "b[(Intercept) id:id2:repeat2:fold1]    0.1    0.1  0.0   0.1   0.2 \n",
      "b[(Intercept) id:id2:repeat2:fold10]   0.2    0.1  0.0   0.2   0.3 \n",
      "b[(Intercept) id:id2:repeat2:fold2]   -0.1    0.1 -0.2  -0.1   0.0 \n",
      "b[(Intercept) id:id2:repeat2:fold3]   -0.3    0.1 -0.5  -0.3  -0.2 \n",
      "b[(Intercept) id:id2:repeat2:fold4]    0.1    0.1 -0.1   0.1   0.2 \n",
      "b[(Intercept) id:id2:repeat2:fold5]    0.0    0.1 -0.2   0.0   0.1 \n",
      "b[(Intercept) id:id2:repeat2:fold6]    0.2    0.1  0.0   0.2   0.3 \n",
      "b[(Intercept) id:id2:repeat2:fold7]    0.0    0.1 -0.2   0.0   0.1 \n",
      "b[(Intercept) id:id2:repeat2:fold8]    0.0    0.1 -0.1   0.0   0.1 \n",
      "b[(Intercept) id:id2:repeat2:fold9]    0.0    0.1 -0.1   0.0   0.1 \n",
      "b[(Intercept) id:id2:repeat3:fold1]    0.0    0.1 -0.1   0.0   0.2 \n",
      "b[(Intercept) id:id2:repeat3:fold10]   0.0    0.1 -0.2   0.0   0.1 \n",
      "b[(Intercept) id:id2:repeat3:fold2]   -0.2    0.1 -0.3  -0.2  -0.1 \n",
      "b[(Intercept) id:id2:repeat3:fold3]    0.4    0.1  0.3   0.4   0.6 \n",
      "b[(Intercept) id:id2:repeat3:fold4]    0.0    0.1 -0.1   0.0   0.1 \n",
      "b[(Intercept) id:id2:repeat3:fold5]   -0.1    0.1 -0.2  -0.1   0.1 \n",
      "b[(Intercept) id:id2:repeat3:fold6]    0.0    0.1 -0.1   0.0   0.2 \n",
      "b[(Intercept) id:id2:repeat3:fold7]   -0.1    0.1 -0.2  -0.1   0.0 \n",
      "b[(Intercept) id:id2:repeat3:fold8]   -0.3    0.1 -0.4  -0.3  -0.1 \n",
      "b[(Intercept) id:id2:repeat3:fold9]    0.2    0.1  0.0   0.2   0.3 \n",
      "b[(Intercept) id2:fold1]               0.0    0.0  0.0   0.0   0.0 \n",
      "b[(Intercept) id2:fold10]              0.0    0.0  0.0   0.0   0.0 \n",
      "b[(Intercept) id2:fold2]               0.0    0.0  0.0   0.0   0.0 \n",
      "b[(Intercept) id2:fold3]               0.0    0.0  0.0   0.0   0.1 \n",
      "b[(Intercept) id2:fold4]               0.0    0.0 -0.1   0.0   0.0 \n",
      "b[(Intercept) id2:fold5]               0.0    0.0  0.0   0.0   0.1 \n",
      "b[(Intercept) id2:fold6]               0.0    0.0  0.0   0.0   0.1 \n",
      "b[(Intercept) id2:fold7]               0.0    0.0  0.0   0.0   0.0 \n",
      "b[(Intercept) id2:fold8]               0.0    0.0 -0.1   0.0   0.0 \n",
      "b[(Intercept) id2:fold9]               0.0    0.0  0.0   0.0   0.0 \n",
      "sigma                                  0.2    0.0  0.1   0.2   0.2 \n",
      "Sigma[id:id2:(Intercept),(Intercept)]  0.0    0.0  0.0   0.0   0.1 \n",
      "Sigma[id2:(Intercept),(Intercept)]     0.0    0.0  0.0   0.0   0.0 \n",
      "\n",
      "Fit Diagnostics:\n",
      "           mean   sd   10%   50%   90%\n",
      "mean_PPD 0.7    0.0  0.6   0.7   0.7  \n",
      "\n",
      "The mean_ppd is the sample average posterior predictive distribution of the outcome variable (for details see help('summary.stanreg')).\n",
      "\n",
      "MCMC diagnostics\n",
      "                                      mcse Rhat n_eff\n",
      "(Intercept)                           0.0  1.0  1897 \n",
      "modelweek_4                           0.0  1.0  5384 \n",
      "b[(Intercept) id:id2:repeat1:fold1]   0.0  1.0  3856 \n",
      "b[(Intercept) id:id2:repeat1:fold10]  0.0  1.0  3674 \n",
      "b[(Intercept) id:id2:repeat1:fold2]   0.0  1.0  3078 \n",
      "b[(Intercept) id:id2:repeat1:fold3]   0.0  1.0  4112 \n",
      "b[(Intercept) id:id2:repeat1:fold4]   0.0  1.0  3303 \n",
      "b[(Intercept) id:id2:repeat1:fold5]   0.0  1.0  3665 \n",
      "b[(Intercept) id:id2:repeat1:fold6]   0.0  1.0  4387 \n",
      "b[(Intercept) id:id2:repeat1:fold7]   0.0  1.0  4075 \n",
      "b[(Intercept) id:id2:repeat1:fold8]   0.0  1.0  4177 \n",
      "b[(Intercept) id:id2:repeat1:fold9]   0.0  1.0  4813 \n",
      "b[(Intercept) id:id2:repeat2:fold1]   0.0  1.0  4231 \n",
      "b[(Intercept) id:id2:repeat2:fold10]  0.0  1.0  3546 \n",
      "b[(Intercept) id:id2:repeat2:fold2]   0.0  1.0  4442 \n",
      "b[(Intercept) id:id2:repeat2:fold3]   0.0  1.0  2637 \n",
      "b[(Intercept) id:id2:repeat2:fold4]   0.0  1.0  4073 \n",
      "b[(Intercept) id:id2:repeat2:fold5]   0.0  1.0  4527 \n",
      "b[(Intercept) id:id2:repeat2:fold6]   0.0  1.0  3456 \n",
      "b[(Intercept) id:id2:repeat2:fold7]   0.0  1.0  4788 \n",
      "b[(Intercept) id:id2:repeat2:fold8]   0.0  1.0  4667 \n",
      "b[(Intercept) id:id2:repeat2:fold9]   0.0  1.0  4156 \n",
      "b[(Intercept) id:id2:repeat3:fold1]   0.0  1.0  4280 \n",
      "b[(Intercept) id:id2:repeat3:fold10]  0.0  1.0  4177 \n",
      "b[(Intercept) id:id2:repeat3:fold2]   0.0  1.0  3692 \n",
      "b[(Intercept) id:id2:repeat3:fold3]   0.0  1.0  2162 \n",
      "b[(Intercept) id:id2:repeat3:fold4]   0.0  1.0  4043 \n",
      "b[(Intercept) id:id2:repeat3:fold5]   0.0  1.0  4488 \n",
      "b[(Intercept) id:id2:repeat3:fold6]   0.0  1.0  4260 \n",
      "b[(Intercept) id:id2:repeat3:fold7]   0.0  1.0  4525 \n",
      "b[(Intercept) id:id2:repeat3:fold8]   0.0  1.0  2978 \n",
      "b[(Intercept) id:id2:repeat3:fold9]   0.0  1.0  3867 \n",
      "b[(Intercept) id2:fold1]              0.0  1.0  3852 \n",
      "b[(Intercept) id2:fold10]             0.0  1.0  3234 \n",
      "b[(Intercept) id2:fold2]              0.0  1.0  4069 \n",
      "b[(Intercept) id2:fold3]              0.0  1.0  3186 \n",
      "b[(Intercept) id2:fold4]              0.0  1.0  3037 \n",
      "b[(Intercept) id2:fold5]              0.0  1.0  3626 \n",
      "b[(Intercept) id2:fold6]              0.0  1.0  2973 \n",
      "b[(Intercept) id2:fold7]              0.0  1.0  3143 \n",
      "b[(Intercept) id2:fold8]              0.0  1.0  2645 \n",
      "b[(Intercept) id2:fold9]              0.0  1.0  3662 \n",
      "sigma                                 0.0  1.0  1270 \n",
      "Sigma[id:id2:(Intercept),(Intercept)] 0.0  1.0  1513 \n",
      "Sigma[id2:(Intercept),(Intercept)]    0.0  1.0  1422 \n",
      "mean_PPD                              0.0  1.0  4665 \n",
      "log-posterior                         0.3  1.0   759 \n",
      "\n",
      "For each parameter, mcse is Monte Carlo standard error, n_eff is a crude measure of effective sample size, and Rhat is the potential scale reduction factor on split chains (at convergence Rhat=1)."
     ]
    }
   ],
   "source": [
    "summary(pp$stan)\n"
   ],
   "id": "74b82fcf-453c-4e5c-a7da-725fbb0ccd0d"
  },
  {
   "cell_type": "code",
   "execution_count": null,
   "metadata": {},
   "outputs": [],
   "source": [
    "# shinystan::launch_shinystan(pp$stan)\n"
   ],
   "id": "6fe83aa1-45bf-446e-a263-0e264bc77e21"
  },
  {
   "cell_type": "code",
   "execution_count": null,
   "metadata": {},
   "outputs": [],
   "source": [
    "pp %>%  write_rds(file.path(path_models, \n",
    "                            str_c(\"posteriors_\", version, \"_nested.rds\")))\n"
   ],
   "id": "2887537f-bd4e-435b-8612-05da67f76c2d"
  },
  {
   "cell_type": "markdown",
   "metadata": {},
   "source": [
    "### Model posterier CIs"
   ],
   "id": "e3d700a0-a2b0-4201-9247-de2078077752"
  },
  {
   "cell_type": "code",
   "execution_count": null,
   "metadata": {},
   "outputs": [
    {
     "output_type": "stream",
     "name": "stdout",
     "text": [
      "# A tibble: 2 × 5\n",
      "  model   median lower upper     y\n",
      "  <fct>    <dbl> <dbl> <dbl> <dbl>\n",
      "1 Week 26  0.640 0.618 0.661  1000\n",
      "2 Week 4   0.687 0.667 0.708  1000"
     ]
    }
   ],
   "source": [
    "pp_tidy <- pp %>% \n",
    "  tidy(seed = 123)\n",
    "\n",
    "q = c(.025, .5, .975)\n",
    "pp_tidy |> \n",
    "  group_by(model) |> \n",
    "  summarize(median = quantile(posterior, probs = q[2]),\n",
    "            lower = quantile(posterior, probs = q[1]), \n",
    "            upper = quantile(posterior, probs = q[3])) |> \n",
    "  mutate(model = factor(model, levels = c(\"week_26\", \"week_4\"),\n",
    "                        labels = c(\"Week 26\", \"Week 4\")),\n",
    "         y = 1000) |> \n",
    "  arrange(model)\n"
   ],
   "id": "03e195fd-04dc-4a57-90e4-5d403dbca30c"
  },
  {
   "cell_type": "markdown",
   "metadata": {},
   "source": [
    "### Model contrasts"
   ],
   "id": "a34de9ed-88f3-4ce9-8017-069420a391d0"
  },
  {
   "cell_type": "code",
   "execution_count": null,
   "metadata": {},
   "outputs": [
    {
     "output_type": "stream",
     "name": "stdout",
     "text": [
      "# A tibble: 1 × 9\n",
      "  contrast          probability   mean  lower  upper  size pract_neg pract_equiv\n",
      "  <chr>                   <dbl>  <dbl>  <dbl>  <dbl> <dbl>     <dbl>       <dbl>\n",
      "1 week_4 vs week_26           1 0.0474 0.0299 0.0653  0.01         0     0.00025\n",
      "  pract_pos\n",
      "      <dbl>\n",
      "1      1.00"
     ]
    },
    {
     "output_type": "display_data",
     "metadata": {},
     "data": {
      "image/png": "[encoded data removed]"
     }
    }
   ],
   "source": [
    "pp_contrasts <- contrast_models(pp, \n",
    "                                list(\"week_4\"), \n",
    "                                list(\"week_26\"))\n",
    "summary(pp_contrasts, size = .01, prob = 0.95)\n"
   ],
   "id": "ef3b30a6-ff39-4ebc-8d3d-d83335607ad8"
  },
  {
   "cell_type": "markdown",
   "metadata": {},
   "source": [
    "Here are contrasts against 0 rather than using ROPE"
   ],
   "id": "d8b6dec9-58e1-4752-956a-554bf197cc5a"
  },
  {
   "cell_type": "code",
   "execution_count": null,
   "metadata": {},
   "outputs": [
    {
     "output_type": "stream",
     "name": "stdout",
     "text": [
      "[1] 1"
     ]
    }
   ],
   "source": [
    "pp_contrasts |> \n",
    "  mutate(wk4_gt_wk26 = if_else(difference > 0, 1, 0)) |>\n",
    "  pull(wk4_gt_wk26) |> \n",
    "  mean()\n"
   ],
   "id": "c8c2e93f-3f0a-489c-9a7f-9ee1c79ebaea"
  },
  {
   "cell_type": "markdown",
   "metadata": {},
   "source": [
    "### Plots\n",
    "\n",
    "Model posteriors"
   ],
   "id": "b9335082-9941-490b-afeb-c8b7cca407cb"
  },
  {
   "cell_type": "code",
   "execution_count": null,
   "metadata": {},
   "outputs": [],
   "source": [
    "ci <- pp_tidy |> \n",
    "  summary() |> \n",
    "  mutate(model = factor(model, levels = c(\"week_4\", \"week_26\")),\n",
    "         y = 1000) \n",
    "\n",
    "ci_week4 <- ci |> \n",
    "  filter(model == \"week_4\")\n"
   ],
   "id": "0ea4e96b-8caf-4bcb-9215-2bfdf269ed52"
  },
  {
   "cell_type": "code",
   "execution_count": null,
   "metadata": {},
   "outputs": [
    {
     "output_type": "display_data",
     "metadata": {},
     "data": {
      "image/png": "[encoded data removed]"
     }
    }
   ],
   "source": [
    "fig_posteriors <- pp_tidy |> \n",
    "  mutate(model = factor(model, levels = c(\"week_4\", \"week_26\"))) |> \n",
    "  ggplot() + \n",
    "  geom_histogram(aes(x = posterior, fill = model), color = \"black\", alpha = .4, \n",
    "                 bins = 30) +\n",
    "  geom_segment(mapping = aes(y = y + 100, yend = y - 100, x = mean, xend = mean,\n",
    "                             color = model),\n",
    "               data = ci) +\n",
    "  geom_segment(mapping = aes(y = y, yend = y, \n",
    "                             x = lower, xend = upper, color = model),\n",
    "               data = ci) +\n",
    "  facet_wrap(~model, ncol = 1) +\n",
    "  scale_y_continuous(\"Posterior Probability\", breaks = c(0, 500, 1000)) +\n",
    "  # ylab(\"Posterior Probability Density\") +\n",
    "  xlab(\"Area Under ROC Curve\")\n",
    "\n",
    "fig_posteriors\n"
   ],
   "id": "cell-fig-posteriors"
  },
  {
   "cell_type": "code",
   "execution_count": null,
   "metadata": {},
   "outputs": [
    {
     "output_type": "display_data",
     "metadata": {},
     "data": {
      "image/png": "[encoded data removed]"
     }
    }
   ],
   "source": [
    "\n",
    "pp_tidy |> \n",
    "  mutate(model = factor(model, levels = c(\"week_4\", \"week_26\"))) |> \n",
    "  filter(model == \"week_4\") |> \n",
    "  ggplot() + \n",
    "  geom_histogram(aes(x = posterior, fill = model), color = \"black\", alpha = .4, \n",
    "                 bins = 30) +\n",
    "  geom_segment(mapping = aes(y = y + 100, yend = y - 100, x = mean, xend = mean,\n",
    "                             color = model),\n",
    "               data = ci_week4) +\n",
    "  geom_segment(mapping = aes(y = y, yend = y, \n",
    "                             x = lower, xend = upper, color = model),\n",
    "               data = ci_week4) +\n",
    "  scale_y_continuous(\"Posterior Probability\", breaks = c(0, 500, 1000)) +\n",
    "  # ylab(\"Posterior Probability Density\") +\n",
    "  xlab(\"Area Under ROC Curve\") +\n",
    "  theme(legend.position = \"none\")\n"
   ],
   "id": "cell-fig-week4"
  },
  {
   "cell_type": "markdown",
   "metadata": {},
   "source": [
    "model contrast posteriors"
   ],
   "id": "573d0443-627b-4f88-ba8e-314d1f8d5dca"
  },
  {
   "cell_type": "code",
   "execution_count": null,
   "metadata": {},
   "outputs": [],
   "source": [
    "ci_con <- pp |>\n",
    "  contrast_models(list(\"week_4\"), \n",
    "                  list(\"week_26\")) |> \n",
    "  summary(size = .01) |> \n",
    "  mutate(contrast = factor(contrast, \n",
    "                           levels = c(\"week_4 vs week_26\"),\n",
    "                           labels = c(\"week 4 vs. week 26\")),\n",
    "         y = 700)\n"
   ],
   "id": "41c77477-ab90-43a3-b264-28aa7fe94165"
  },
  {
   "cell_type": "code",
   "execution_count": null,
   "metadata": {},
   "outputs": [
    {
     "output_type": "display_data",
     "metadata": {},
     "data": {
      "image/png": "[encoded data removed]"
     }
    }
   ],
   "source": [
    "\n",
    "fig_contrasts <- pp |> \n",
    "  tidy(seed = 123) |>   \n",
    "  group_by(model) |> \n",
    "  mutate(sample = row_number()) |> \n",
    "  ungroup() |> \n",
    "  pivot_wider(names_from = model, values_from = posterior) |> \n",
    "  mutate(posterior = week_4 - week_26) |> \n",
    "  ggplot() +\n",
    "  geom_histogram(aes(x = posterior), \n",
    "                 color = \"black\", alpha = .4, bins = 30) +\n",
    "  geom_vline(xintercept = 0, color = \"yellow\", \n",
    "             linetype = \"dashed\", linewidth = 1) +\n",
    "  # geom_vline(xintercept = .01, color = \"yellow\", \n",
    "  #            linetype = \"dashed\", linewidth = 1) +\n",
    "  geom_segment(mapping = aes(y = y+50, yend = y-50, \n",
    "                             x = mean, xend = mean), \n",
    "               data = ci_con) +\n",
    "  geom_segment(mapping = aes(y = y, yend = y, \n",
    "                             x = lower, xend = upper), \n",
    "               data = ci_con) +\n",
    "  ylab(\"Posterior Probability\") +\n",
    "  xlab(\"Model Contrast for auROC (Week 4 vs. Week 26)\")\n",
    "\n",
    "fig_contrasts\n"
   ],
   "id": "cell-fig-contrasts"
  }
 ],
 "nbformat": 4,
 "nbformat_minor": 5,
 "metadata": {}
}

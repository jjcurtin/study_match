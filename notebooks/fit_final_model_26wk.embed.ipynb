{
 "cells": [
  {
   "cell_type": "markdown",
   "metadata": {},
   "source": [
    "# Fits and characterizes final model for 26-week outcome\n",
    "\n",
    "Gaylen Fronk  \n",
    "June 5, 2024\n",
    "\n",
    "### Set Up Environment"
   ],
   "id": "64b200ac-9773-45e1-8b3b-4739ebccf6c3"
  },
  {
   "cell_type": "code",
   "execution_count": null,
   "metadata": {},
   "outputs": [],
   "source": [
    "study <- \"match\"\n",
    "version <- \"v6\"\n",
    "cv <- \"kfold\"\n",
    "y_col_name <- \"pp_hybrid_wk26_outcome\""
   ],
   "id": "de0e12a5-721e-4a2c-962e-9ee3bef2625e"
  },
  {
   "cell_type": "markdown",
   "metadata": {},
   "source": [
    "Packages for script"
   ],
   "id": "5e4b4a4e-8453-48b9-b79b-6b8326b13a04"
  },
  {
   "cell_type": "code",
   "execution_count": null,
   "metadata": {},
   "outputs": [
    {
     "output_type": "stream",
     "name": "stderr",
     "text": [
      "── Attaching packages ────────────────────────────────────── tidymodels 1.2.0 ──"
     ]
    },
    {
     "output_type": "stream",
     "name": "stderr",
     "text": [
      "✔ broom        1.0.5      ✔ recipes      1.0.10\n",
      "✔ dials        1.2.1      ✔ rsample      1.2.1 \n",
      "✔ dplyr        1.1.4      ✔ tibble       3.2.1 \n",
      "✔ ggplot2      3.5.1      ✔ tidyr        1.3.1 \n",
      "✔ infer        1.0.7      ✔ tune         1.2.1 \n",
      "✔ modeldata    1.3.0      ✔ workflows    1.1.4 \n",
      "✔ parsnip      1.2.1      ✔ workflowsets 1.1.0 \n",
      "✔ purrr        1.0.2      ✔ yardstick    1.3.1 "
     ]
    },
    {
     "output_type": "stream",
     "name": "stderr",
     "text": [
      "── Conflicts ───────────────────────────────────────── tidymodels_conflicts() ──\n",
      "✖ purrr::discard() masks scales::discard()\n",
      "✖ dplyr::filter()  masks stats::filter()\n",
      "✖ dplyr::lag()     masks stats::lag()\n",
      "✖ recipes::step()  masks stats::step()\n",
      "• Use suppressPackageStartupMessages() to eliminate package startup messages"
     ]
    },
    {
     "output_type": "stream",
     "name": "stderr",
     "text": [
      "── Attaching core tidyverse packages ──────────────────────── tidyverse 2.0.0 ──\n",
      "✔ forcats   1.0.0     ✔ readr     2.1.5\n",
      "✔ lubridate 1.9.3     ✔ stringr   1.5.1"
     ]
    },
    {
     "output_type": "stream",
     "name": "stderr",
     "text": [
      "── Conflicts ────────────────────────────────────────── tidyverse_conflicts() ──\n",
      "✖ readr::col_factor() masks scales::col_factor()\n",
      "✖ purrr::discard()    masks scales::discard()\n",
      "✖ dplyr::filter()     masks stats::filter()\n",
      "✖ stringr::fixed()    masks recipes::fixed()\n",
      "✖ dplyr::lag()        masks stats::lag()\n",
      "✖ readr::spec()       masks yardstick::spec()\n",
      "ℹ Use the conflicted package (<http://conflicted.r-lib.org/>) to force all conflicts to become errors"
     ]
    },
    {
     "output_type": "stream",
     "name": "stderr",
     "text": [
      "\n",
      "Attaching package: 'Matrix'\n",
      "\n",
      "The following objects are masked from 'package:tidyr':\n",
      "\n",
      "    expand, pack, unpack"
     ]
    },
    {
     "output_type": "stream",
     "name": "stderr",
     "text": [
      "\n",
      "Attaching package: 'probably'\n",
      "\n",
      "The following objects are masked from 'package:base':\n",
      "\n",
      "    as.factor, as.ordered"
     ]
    },
    {
     "output_type": "stream",
     "name": "stderr",
     "text": [
      "here() starts at C:/Users/gfronk/Documents/GitHub/study_match"
     ]
    },
    {
     "output_type": "stream",
     "name": "stderr",
     "text": [
      "ℹ SHA-1 hash of file is \"c045eee2655a18dc85e715b78182f176327358a7\""
     ]
    },
    {
     "output_type": "stream",
     "name": "stderr",
     "text": [
      "ℹ SHA-1 hash of file is \"75cc6f7b855da59c240908bd936834b4da01285b\""
     ]
    }
   ],
   "source": [
    "#| message: false\n",
    "#| warning: false\n",
    "\n",
    "library(tidymodels)"
   ],
   "id": "6e2b6cf9-b8e7-4f67-9cfc-4de8cd0f3995"
  },
  {
   "cell_type": "markdown",
   "metadata": {},
   "source": [
    "Handle conflicts"
   ],
   "id": "c0be8b26-991c-455e-9226-499c0e691330"
  },
  {
   "cell_type": "code",
   "execution_count": null,
   "metadata": {},
   "outputs": [],
   "source": [
    "#| message: false\n",
    "#| warning: false\n",
    "\n",
    "options(conflicts.policy = \"depends.ok\")"
   ],
   "id": "f8f9db11-2664-4856-aaf4-792196269147"
  },
  {
   "cell_type": "markdown",
   "metadata": {},
   "source": [
    "Absolute paths"
   ],
   "id": "48ce3384-01a2-4600-b205-50459ad983dc"
  },
  {
   "cell_type": "code",
   "execution_count": null,
   "metadata": {},
   "outputs": [],
   "source": [
    "switch (Sys.info()[['sysname']],\n",
    "        # PC paths\n",
    "        Windows = {\n",
    "          path_input <- stringr::str_c(\"P:/studydata/match/chtc/\", \n",
    "                                       y_col_name)\n",
    "          path_models <- stringr::str_c(\"P:/studydata/match/models/\", \n",
    "                                        y_col_name)},\n",
    "        \n",
    "        # IOS paths\n",
    "        Darwin = {\n",
    "          path_input <- stringr::str_c(\"/Volumes/private/studydata/match/chtc/\", \n",
    "                                       y_col_name)\n",
    "          path_models <- stringr::str_c(\"/Volumes/private/studydata/match/models/\", \n",
    "                                        y_col_name)},\n",
    "        \n",
    "        # Linux paths\n",
    "        Linux = {\n",
    "          path_input <- stringr::str_c(\"~/mnt/private/studydata/match/chtc/\", \n",
    "                                       y_col_name)\n",
    "          path_models <- stringr::str_c(\"~/mnt/private/studydata/match/models/\", \n",
    "                                        y_col_name)}\n",
    ")"
   ],
   "id": "31c3f21d-1f66-4a28-ba8d-acc5089875b6"
  },
  {
   "cell_type": "markdown",
   "metadata": {},
   "source": [
    "Chunk Defaults"
   ],
   "id": "81bfc3fa-a80c-40ed-ac12-bb1d93d050ff"
  },
  {
   "cell_type": "code",
   "execution_count": null,
   "metadata": {},
   "outputs": [],
   "source": [
    "#| include: false\n",
    "\n",
    "knitr::opts_chunk$set(attr.output='style=\"max-height: 500px;\"')\n",
    "\n",
    "options(tibble.width = Inf)\n",
    "options(tibble.print_max = Inf)"
   ],
   "id": "d7def27d-6fdd-47ab-aecb-0c188e24a0b3"
  },
  {
   "cell_type": "markdown",
   "metadata": {},
   "source": [
    "### Read in best configuration\n",
    "\n",
    "Selected in 1_metrics_inner (k-fold CV)"
   ],
   "id": "53f94e1f-523c-4a35-9ef0-0a17aeec0bd1"
  },
  {
   "cell_type": "code",
   "execution_count": null,
   "metadata": {},
   "outputs": [
    {
     "output_type": "stream",
     "name": "stdout",
     "text": [
      "Rows: 1\n",
      "Columns: 9\n",
      "$ n_jobs      <dbl> 10\n",
      "$ algorithm   <chr> \"glmnet_manual\"\n",
      "$ feature_set <chr> \"scale_ordinal\"\n",
      "$ hp1         <dbl> 0.05\n",
      "$ hp2         <dbl> 0.198277\n",
      "$ hp3         <lgl> NA\n",
      "$ resample    <chr> \"none\"\n",
      "$ roc_auc     <dbl> 0.6423262\n",
      "$ n_tx        <dbl> 52.5"
     ]
    }
   ],
   "source": [
    "best_config <- read_csv(file.path(path_models, \n",
    "                                  str_c(\"best_config_\", version, \".csv\")),\n",
    "                        show_col_types = FALSE)\n",
    "\n",
    "glimpse(best_config)"
   ],
   "id": "f24f7346-eb98-4ef9-b54c-60590f4676f8"
  },
  {
   "cell_type": "markdown",
   "metadata": {},
   "source": [
    "### Fit best model in full dataset\n",
    "\n",
    "**NOTE**: This model will only be used for 1) examining parameter estimates, and 2) ultimate dissemination."
   ],
   "id": "0ecc3024-766f-4934-aa53-cf478c2d542c"
  },
  {
   "cell_type": "code",
   "execution_count": null,
   "metadata": {},
   "outputs": [],
   "source": [
    "batch_names <- list.dirs(path_input, full.names = FALSE, recursive = FALSE) \n",
    "\n",
    "batch_name <- batch_names[str_detect(batch_names, \"train\") & \n",
    "                            str_detect(batch_names, cv) &\n",
    "                            str_detect(batch_names, version) &\n",
    "                            str_detect(batch_names, best_config$algorithm)] \n",
    "\n",
    "path_batch <- file.path(path_input, batch_name)\n",
    "source(file.path(path_batch, \"input\", \"training_controls.R\"))\n",
    "\n",
    "d <- read_csv(file.path(path_batch, \"input\", \"data_trn.csv\"), \n",
    "              show_col_types = FALSE) \n",
    "\n",
    "d_outcomes <- d |> \n",
    "  select(subid, ends_with(\"outcome\") & contains(\"hybrid\"))\n",
    "\n",
    "d <- format_data(d) \n",
    "\n",
    "rec <- build_recipe(d = d, config = best_config)\n",
    "\n",
    "rec_prepped_full <- rec |> \n",
    "  prep(training = d, strings_as_factors = FALSE)\n",
    "\n",
    "feat_all <- rec_prepped_full |> \n",
    "  bake(new_data = NULL)\n",
    "\n",
    "model_best_full <- fit_best_model(best_model = best_config, \n",
    "                                  feat = feat_all, \n",
    "                                  ml_mode = \"classification\")"
   ],
   "id": "8f58250e-4177-4b96-891b-9d51006ed205"
  },
  {
   "cell_type": "markdown",
   "metadata": {},
   "source": [
    "### Model coefficients\n",
    "\n",
    "**NOTE**: Coefficients are naturally inverted (i.e., positive class \\[abstinence\\] treated as first \\[vs. second\\] class). Here, we multiply coefficients by -1 to align the direction of coefficients with the rest of our analyses. Once flipped (i.e., as they appear below)…\n",
    "\n",
    "A *positive coefficient* indicates that increases in the feature *increase* the likelihood of abstinence. For example, increases in motivation to quit (“motive_quit_order”) *increase* the likelihood of abstinence.\n",
    "\n",
    "A *negative coefficient* indicates that increases in the feature *decrease* the likelihood of smoking. For example, increases in carbon monoxide (“co”) *decrease* the likelihood of abstinence."
   ],
   "id": "8fdddf15-6aa3-4afc-9fe9-e0cea05cf4e1"
  },
  {
   "cell_type": "code",
   "execution_count": null,
   "metadata": {},
   "outputs": [
    {
     "output_type": "stream",
     "name": "stderr",
     "text": [
      "Loaded glmnet 4.1-8"
     ]
    }
   ],
   "source": [
    "model_tidy <- tidy(model_best_full)"
   ],
   "id": "1e079879-b9ff-42d3-a544-aefe1b0ecbda"
  },
  {
   "cell_type": "code",
   "execution_count": null,
   "metadata": {},
   "outputs": [
    {
     "output_type": "display_data",
     "metadata": {},
     "data": {
      "text/markdown": [
       "  -------------------------------------------------------------------------------------\n",
       "  term                                                                         estimate\n",
       "  -------------------------------------------------------------------------- ----------\n",
       "  (Intercept)                                                                   -1.1683\n",
       "\n",
       "  co                                                                            -0.1460\n",
       "\n",
       "  wisdm37_en_goad_scale                                                         -0.0662\n",
       "\n",
       "  motive_quit_order                                                              0.0648\n",
       "\n",
       "  shp_total_scale                                                                0.0647\n",
       "\n",
       "  race_ehr_white                                                                 0.0631\n",
       "\n",
       "  longest_quit_order                                                             0.0576\n",
       "\n",
       "  tot_quit_attempt                                                               0.0542\n",
       "\n",
       "  treatment_combo_nrt_x_spouse_smoke_dont_live_with_spouse_or_partner            0.0529\n",
       "\n",
       "  treatment_varenicline_x_marital_status_ehr_divorced                           -0.0528\n",
       "\n",
       "  wsws_neg_aff_scale                                                            -0.0522\n",
       "\n",
       "  wisdm37_tolerance_scale                                                       -0.0489\n",
       "\n",
       "  smoke_menthol_yes                                                             -0.0478\n",
       "\n",
       "  age_1st_cig                                                                   -0.0471\n",
       "\n",
       "  dsm5_score_scale                                                              -0.0458\n",
       "\n",
       "  treatment_combo_nrt_x_live_with_smoker_live_alone_or_only_with_partner         0.0424\n",
       "\n",
       "  wsws_crave_scale                                                              -0.0419\n",
       "\n",
       "  race_ehr_black_african_american                                               -0.0375\n",
       "\n",
       "  age_ehr                                                                        0.0342\n",
       "\n",
       "  hdsm_tired                                                                    -0.0332\n",
       "\n",
       "  wisdm37_cue_scale                                                             -0.0322\n",
       "\n",
       "  wisdm37_auto_scale                                                            -0.0317\n",
       "\n",
       "  panas_neg_scale                                                               -0.0271\n",
       "\n",
       "  marital_status_ehr_divorced                                                   -0.0271\n",
       "\n",
       "  wsws_hunger_scale                                                              0.0268\n",
       "\n",
       "  treatment_varenicline_x_tried_nic_gum_yes                                      0.0263\n",
       "\n",
       "  time_around_smokers_order                                                     -0.0251\n",
       "\n",
       "  smoke_menthol_no                                                               0.0251\n",
       "\n",
       "  tried_nic_gum_yes                                                              0.0243\n",
       "\n",
       "  tried_nic_gum_no                                                              -0.0243\n",
       "\n",
       "  treatment_combo_nrt_x_asi3_cognitive_scale                                     0.0238\n",
       "\n",
       "  treatment_varenicline_x_income_order                                           0.0228\n",
       "\n",
       "  treatment_varenicline_x_tried_nic_gum_no                                      -0.0223\n",
       "\n",
       "  treatment_patch_x_race_ehr_black_african_american                             -0.0216\n",
       "\n",
       "  treatment_combo_nrt_x_live_with_smoker_no                                     -0.0216\n",
       "\n",
       "  treatment_varenicline_x_close_smoke_friend_yes                                -0.0213\n",
       "\n",
       "  quit_success_30d_order                                                         0.0210\n",
       "\n",
       "  time_around_smokers_weekend_order                                             -0.0209\n",
       "\n",
       "  treatment_combo_nrt_x_smoke_menthol_yes                                       -0.0208\n",
       "\n",
       "  mfi_phys_fat_scale                                                             0.0201\n",
       "\n",
       "  treatment_patch_x_spouse_smoke_yes                                            -0.0194\n",
       "\n",
       "  treatment_varenicline_x_used_e_cig_tried                                      -0.0186\n",
       "\n",
       "  wsws_restless_scale                                                           -0.0184\n",
       "\n",
       "  spouse_smoke_yes                                                              -0.0184\n",
       "\n",
       "  treatment_combo_nrt_x_tried_nic_patch_no                                       0.0180\n",
       "\n",
       "  asi3_social_scale                                                              0.0179\n",
       "\n",
       "  treatment_varenicline_x_close_smoke_friend_no                                  0.0178\n",
       "\n",
       "  treatment_varenicline_x_marital_status_ehr_married                             0.0173\n",
       "\n",
       "  treatment_patch_x_tried_nic_patch_yes                                         -0.0173\n",
       "\n",
       "  wsws_conc_scale                                                                0.0168\n",
       "\n",
       "  treatment_patch_x_close_smoke_co_worker_yes                                    0.0157\n",
       "\n",
       "  treatment_varenicline_x_close_smoke_partner_yes                               -0.0147\n",
       "\n",
       "  years_smoke                                                                    0.0139\n",
       "\n",
       "  treatment_combo_nrt_x_used_cigars_never_tried                                  0.0133\n",
       "\n",
       "  treatment_patch_x_used_cigars_never_tried                                     -0.0133\n",
       "\n",
       "  treatment_varenicline_x_live_with_smoker_live_alone_or_only_with_partner      -0.0130\n",
       "\n",
       "  dsm5_total_scale                                                              -0.0129\n",
       "\n",
       "  used_e_cig_never_tried                                                         0.0124\n",
       "\n",
       "  cigs_per_day                                                                  -0.0122\n",
       "\n",
       "  treatment_varenicline_x_used_pipe_tried                                        0.0118\n",
       "\n",
       "  close_smoke_partner_no                                                         0.0118\n",
       "\n",
       "  close_smoke_partner_yes                                                       -0.0118\n",
       "\n",
       "  marital_status_ehr_married                                                     0.0117\n",
       "\n",
       "  asi3_physical_scale                                                            0.0113\n",
       "\n",
       "  treatment_combo_nrt_x_race_ehr_white                                           0.0110\n",
       "\n",
       "  asi3_total_scale                                                               0.0105\n",
       "\n",
       "  psych_anxiety_no                                                              -0.0102\n",
       "\n",
       "  psych_anxiety_yes                                                              0.0102\n",
       "\n",
       "  wsws_total_scale                                                              -0.0098\n",
       "\n",
       "  income_order                                                                   0.0094\n",
       "\n",
       "  wisdm37_total_scale                                                           -0.0092\n",
       "\n",
       "  treatment_combo_nrt_x_used_chew_or_snuff_tried                                -0.0075\n",
       "\n",
       "  treatment_varenicline_x_used_cigars_never_tried                               -0.0067\n",
       "\n",
       "  treatment_varenicline_x_used_e_cig_never_tried                                 0.0064\n",
       "\n",
       "  treatment_patch_x_tried_nic_patch_no                                           0.0062\n",
       "\n",
       "  treatment_patch_x_longest_quit_order                                           0.0054\n",
       "\n",
       "  treatment_combo_nrt_x_smoke_menthol_no                                         0.0053\n",
       "\n",
       "  treatment_varenicline_x_spouse_smoke_dont_live_with_spouse_or_partner         -0.0053\n",
       "\n",
       "  mfi_red_mot_scale                                                              0.0051\n",
       "\n",
       "  phq9_total_scale                                                              -0.0049\n",
       "\n",
       "  treatment_combo_nrt_x_asi3_social_scale                                        0.0049\n",
       "\n",
       "  close_smoke_co_worker_yes                                                      0.0049\n",
       "\n",
       "  close_smoke_co_worker_no                                                      -0.0048\n",
       "\n",
       "  hdsm_pain                                                                     -0.0048\n",
       "\n",
       "  diabetic_ehr_not_diabetic                                                     -0.0042\n",
       "\n",
       "  diabetic_ehr_diabetic                                                          0.0042\n",
       "\n",
       "  treatment_varenicline_x_wisdm37_cue_scale                                     -0.0039\n",
       "\n",
       "  treatment_patch_x_marital_status_ehr_never_married                             0.0037\n",
       "\n",
       "  treatment_combo_nrt_x_psych_anxiety_no                                        -0.0036\n",
       "\n",
       "  treatment_patch_x_tot_quit_attempt                                             0.0036\n",
       "\n",
       "  treatment_combo_nrt_x_used_e_cig_never_tried                                   0.0032\n",
       "\n",
       "  treatment_patch_x_employment_employed_part_time                               -0.0026\n",
       "\n",
       "  treatment_combo_nrt_x_work_ban_no_smoking_allowed                              0.0021\n",
       "\n",
       "  treatment_combo_nrt_x_race_ehr_black_african_american                         -0.0020\n",
       "\n",
       "  berlin_6_order                                                                 0.0018\n",
       "\n",
       "  work_ban_smoking_allowed_some_places                                          -0.0017\n",
       "\n",
       "  treatment_combo_nrt_x_tried_nic_patch_yes                                     -0.0014\n",
       "\n",
       "  alc_qty_order                                                                  0.0012\n",
       "\n",
       "  treatment_combo_nrt_x_last_rct_quit_order                                      0.0009\n",
       "\n",
       "  treatment_patch_x_close_smoke_friend_no                                       -0.0007\n",
       "\n",
       "  treatment_patch_x_work_ban_do_not_work_outside_home                            0.0006\n",
       "\n",
       "  dts_absorption_scale                                                          -0.0005\n",
       "\n",
       "  tried_nic_patch_yes                                                           -0.0004\n",
       "\n",
       "  tried_nic_patch_no                                                             0.0004\n",
       "\n",
       "  treatment_varenicline_x_tried_nic_patch_no                                    -0.0004\n",
       "\n",
       "  used_cigars_tried                                                              0.0003\n",
       "\n",
       "  life_satisfaction_order                                                        0.0001\n",
       "  -------------------------------------------------------------------------------------\n"
      ]
     }
    }
   ],
   "source": [
    "#| label: tbl-retained-vars-wk26\n",
    "#| tbl-cap: \"(Supplemental) Retained features in 26-week final model\"\n",
    "\n",
    "retained_vars <- model_tidy |> \n",
    "  mutate(estimate = estimate * -1) |> \n",
    "  filter(abs(estimate) > 0) |> \n",
    "  select(-penalty) |> \n",
    "  arrange(desc(abs(estimate)))\n",
    "\n",
    "knitr::kable(retained_vars, digits = 4)"
   ],
   "id": "929a882b-b633-406c-8198-0b2709567633"
  },
  {
   "cell_type": "markdown",
   "metadata": {},
   "source": [
    "21.79% of features were retained by the glmnet solution (107 features of a total considered 491 features)."
   ],
   "id": "0885d976-1723-48fe-9f58-b919593252f3"
  },
  {
   "cell_type": "code",
   "execution_count": null,
   "metadata": {},
   "outputs": [
    {
     "output_type": "display_data",
     "metadata": {},
     "data": {
      "text/markdown": [
       "  -------------------------------------------------------------------------------------\n",
       "  term                                                                         estimate\n",
       "  -------------------------------------------------------------------------- ----------\n",
       "  treatment_combo_nrt_x_spouse_smoke_dont_live_with_spouse_or_partner            0.0529\n",
       "\n",
       "  treatment_varenicline_x_marital_status_ehr_divorced                           -0.0528\n",
       "\n",
       "  treatment_combo_nrt_x_live_with_smoker_live_alone_or_only_with_partner         0.0424\n",
       "\n",
       "  treatment_varenicline_x_tried_nic_gum_yes                                      0.0263\n",
       "\n",
       "  treatment_combo_nrt_x_asi3_cognitive_scale                                     0.0238\n",
       "\n",
       "  treatment_varenicline_x_income_order                                           0.0228\n",
       "\n",
       "  treatment_varenicline_x_tried_nic_gum_no                                      -0.0223\n",
       "\n",
       "  treatment_patch_x_race_ehr_black_african_american                             -0.0216\n",
       "\n",
       "  treatment_combo_nrt_x_live_with_smoker_no                                     -0.0216\n",
       "\n",
       "  treatment_varenicline_x_close_smoke_friend_yes                                -0.0213\n",
       "\n",
       "  treatment_combo_nrt_x_smoke_menthol_yes                                       -0.0208\n",
       "\n",
       "  treatment_patch_x_spouse_smoke_yes                                            -0.0194\n",
       "\n",
       "  treatment_varenicline_x_used_e_cig_tried                                      -0.0186\n",
       "\n",
       "  treatment_combo_nrt_x_tried_nic_patch_no                                       0.0180\n",
       "\n",
       "  treatment_varenicline_x_close_smoke_friend_no                                  0.0178\n",
       "\n",
       "  treatment_varenicline_x_marital_status_ehr_married                             0.0173\n",
       "\n",
       "  treatment_patch_x_tried_nic_patch_yes                                         -0.0173\n",
       "\n",
       "  treatment_patch_x_close_smoke_co_worker_yes                                    0.0157\n",
       "\n",
       "  treatment_varenicline_x_close_smoke_partner_yes                               -0.0147\n",
       "\n",
       "  treatment_combo_nrt_x_used_cigars_never_tried                                  0.0133\n",
       "\n",
       "  treatment_patch_x_used_cigars_never_tried                                     -0.0133\n",
       "\n",
       "  treatment_varenicline_x_live_with_smoker_live_alone_or_only_with_partner      -0.0130\n",
       "\n",
       "  treatment_varenicline_x_used_pipe_tried                                        0.0118\n",
       "\n",
       "  treatment_combo_nrt_x_race_ehr_white                                           0.0110\n",
       "\n",
       "  treatment_combo_nrt_x_used_chew_or_snuff_tried                                -0.0075\n",
       "\n",
       "  treatment_varenicline_x_used_cigars_never_tried                               -0.0067\n",
       "\n",
       "  treatment_varenicline_x_used_e_cig_never_tried                                 0.0064\n",
       "\n",
       "  treatment_patch_x_tried_nic_patch_no                                           0.0062\n",
       "\n",
       "  treatment_patch_x_longest_quit_order                                           0.0054\n",
       "\n",
       "  treatment_combo_nrt_x_smoke_menthol_no                                         0.0053\n",
       "\n",
       "  treatment_varenicline_x_spouse_smoke_dont_live_with_spouse_or_partner         -0.0053\n",
       "\n",
       "  treatment_combo_nrt_x_asi3_social_scale                                        0.0049\n",
       "\n",
       "  treatment_varenicline_x_wisdm37_cue_scale                                     -0.0039\n",
       "\n",
       "  treatment_patch_x_marital_status_ehr_never_married                             0.0037\n",
       "\n",
       "  treatment_combo_nrt_x_psych_anxiety_no                                        -0.0036\n",
       "\n",
       "  treatment_patch_x_tot_quit_attempt                                             0.0036\n",
       "\n",
       "  treatment_combo_nrt_x_used_e_cig_never_tried                                   0.0032\n",
       "\n",
       "  treatment_patch_x_employment_employed_part_time                               -0.0026\n",
       "\n",
       "  treatment_combo_nrt_x_work_ban_no_smoking_allowed                              0.0021\n",
       "\n",
       "  treatment_combo_nrt_x_race_ehr_black_african_american                         -0.0020\n",
       "\n",
       "  treatment_combo_nrt_x_tried_nic_patch_yes                                     -0.0014\n",
       "\n",
       "  treatment_combo_nrt_x_last_rct_quit_order                                      0.0009\n",
       "\n",
       "  treatment_patch_x_close_smoke_friend_no                                       -0.0007\n",
       "\n",
       "  treatment_patch_x_work_ban_do_not_work_outside_home                            0.0006\n",
       "\n",
       "  treatment_varenicline_x_tried_nic_patch_no                                    -0.0004\n",
       "  -------------------------------------------------------------------------------------\n"
      ]
     }
    }
   ],
   "source": [
    "#| label: tbl-retained-tx-wk26\n",
    "\n",
    "retained_vars_tx <- retained_vars |> \n",
    "  filter(str_detect(term, \"treatment_\")) |> \n",
    "  arrange(desc(abs(estimate))) \n",
    "\n",
    "knitr::kable(retained_vars_tx, digits = 4)"
   ],
   "id": "tbl-retained-tx-wk26"
  },
  {
   "cell_type": "markdown",
   "metadata": {},
   "source": [
    "42.06% of the retained features were treatment interaction features (45 treatment features of 107 retained features). Of the 354 available treatment interaction features, 13% were retained.\n",
    "\n",
    "### Calculate and calibrate probabilities\n",
    "\n",
    "Make triplicate dataset"
   ],
   "id": "89d2d1f0-e2a2-490c-b0be-37b1260c2a98"
  },
  {
   "cell_type": "code",
   "execution_count": null,
   "metadata": {},
   "outputs": [],
   "source": [
    "d_patch <- d |> \n",
    "  mutate(treatment = \"patch\") \n",
    "\n",
    "d_combo <- d |> \n",
    "  mutate(treatment = \"combo_nrt\")\n",
    "\n",
    "d_varen <- d |> \n",
    "  mutate(treatment = \"varenicline\")\n",
    "\n",
    "d_trip <- bind_rows(d_patch, d_combo) |> \n",
    "  bind_rows(d_varen) |> \n",
    "  mutate(treatment = factor(treatment, \n",
    "                            levels = c(\n",
    "                              \"patch\",\n",
    "                              \"varenicline\",\n",
    "                              \"combo_nrt\")))"
   ],
   "id": "99f1f511-d34d-46d3-85ad-e9fd6965f064"
  },
  {
   "cell_type": "markdown",
   "metadata": {},
   "source": [
    "Make function to: 1) hold out each sub once, 2) fit model with remaining 1085 subs, 3) get 3 raw predictions for held-out sub, 4) get calibrated predictions for held-out sub"
   ],
   "id": "b8d52c7f-752a-430a-872e-036e2d106e00"
  },
  {
   "cell_type": "code",
   "execution_count": null,
   "metadata": {},
   "outputs": [],
   "source": [
    "get_triple_probs <- function(i_sub, best_config, d, d_trip){\n",
    "  \n",
    "  # hold out single subject\n",
    "  d_out <- d_trip |> \n",
    "    filter(subid == i_sub)\n",
    "  \n",
    "  d_in <- d |> \n",
    "    filter(subid != i_sub)\n",
    "  \n",
    "  # prep recipe \n",
    "  rec <- build_recipe(d = d_in, config = best_config)\n",
    "  rec_prepped <- rec |> \n",
    "    prep(training = d_in, strings_as_factors = FALSE)\n",
    "  \n",
    "  # bake feat_in and feat_out\n",
    "  feat_in <- rec_prepped |> \n",
    "    bake(new_data = NULL)\n",
    "  \n",
    "  feat_out <- rec_prepped |> \n",
    "    bake(new_data = d_out)\n",
    "  \n",
    "  # fit model\n",
    "  model_best <- fit_best_model(best_config, feat = feat_in,\n",
    "                               \"classification\")\n",
    "  \n",
    "  # raw (uncalibrated) predictions\n",
    "  preds_prob <- predict(model_best, feat_out,\n",
    "                        type = \"prob\")\n",
    "  \n",
    "  # fit calibration model\n",
    "  set.seed(2468)\n",
    "  cal_split <- d_in |> \n",
    "    initial_split(prop = 3/4, strata = y)\n",
    "  d_cal_in <- training(cal_split) \n",
    "  d_cal_out <- testing(cal_split)\n",
    "  \n",
    "  rec_cal_prepped <- rec |> \n",
    "    prep(training = d_cal_in, strings_as_factors = FALSE)\n",
    "  \n",
    "  feat_cal_in <- rec_cal_prepped |> \n",
    "    bake(new_data = NULL) \n",
    "  \n",
    "  feat_cal_out <- rec_cal_prepped |> \n",
    "    bake(new_data = d_cal_out) \n",
    "  \n",
    "  model_cal <- fit_best_model(best_config, feat = feat_cal_in, \"classification\")\n",
    "  \n",
    "  # beta calibration\n",
    "  beta <- predict(model_cal, feat_cal_out,\n",
    "                  type = \"prob\") |>\n",
    "    mutate(truth = feat_cal_out$y) |>\n",
    "    cal_estimate_beta(truth = truth,\n",
    "                      estimate = dplyr::starts_with(\".pred_\"),\n",
    "                      smooth = TRUE)\n",
    "  preds_prob_beta <- preds_prob |>\n",
    "    cal_apply(beta)\n",
    "  \n",
    "  # iso calibration\n",
    "  iso <- predict(model_cal, feat_cal_out,\n",
    "                 type = \"prob\") |>\n",
    "    mutate(truth = feat_cal_out$y) |>\n",
    "    cal_estimate_isotonic(truth = truth,\n",
    "                          estimate = dplyr::starts_with(\".pred_\"))\n",
    "  preds_prob_iso <- preds_prob |>\n",
    "    cal_apply(iso)\n",
    "  \n",
    "  # logistic calibration\n",
    "  logi <- predict(model_cal, feat_cal_out,\n",
    "                  type = \"prob\") |>\n",
    "    mutate(truth = feat_cal_out$y) |>\n",
    "    cal_estimate_logistic(truth = truth,\n",
    "                          estimate = dplyr::starts_with(\".pred_\"),\n",
    "                          smooth = TRUE)\n",
    "  preds_prob_logi <- preds_prob |>\n",
    "    cal_apply(logi)\n",
    "  \n",
    "  # combine raw and calibrated probs\n",
    "  probs <- tibble(subid = d_out$subid,\n",
    "                  tx = d_out$treatment,\n",
    "                  prob_raw = preds_prob[[str_c(\".pred_\", y_level_pos)]],\n",
    "                  prob_beta = preds_prob_beta[[str_c(\".pred_\", y_level_pos)]],\n",
    "                  prob_iso = preds_prob_iso[[str_c(\".pred_\", y_level_pos)]],\n",
    "                  prob_logi = preds_prob_logi[[str_c(\".pred_\", y_level_pos)]]) \n",
    "}"
   ],
   "id": "81a1ff4b-9e81-4dfa-a426-694ac8df6c0c"
  },
  {
   "cell_type": "markdown",
   "metadata": {},
   "source": [
    "Map over participants so that each is held-out once"
   ],
   "id": "6de477c8-ac53-4415-ac86-075cfdc8fc3f"
  },
  {
   "cell_type": "code",
   "execution_count": null,
   "metadata": {},
   "outputs": [],
   "source": [
    "if(file.exists(file.path(path_models, \n",
    "                         str_c(\"trip_probs_\", version, \".csv\")))) {\n",
    "  all_probs <- read_csv(file.path(path_models, \n",
    "                                  str_c(\"trip_probs_\", version, \".csv\")),\n",
    "                        show_col_types = FALSE)\n",
    "} else {\n",
    "  all_probs <- d$subid |> \n",
    "    map(\\(i_sub) get_triple_probs(i_sub, best_config, d, d_trip)) |> \n",
    "    list_rbind()\n",
    "  \n",
    "  all_probs |> \n",
    "    write_csv(file.path(path_models, \n",
    "                        str_c(\"trip_probs_\", version, \".csv\")))\n",
    "}"
   ],
   "id": "61179d91-393b-459a-8e93-3890d6f16799"
  },
  {
   "cell_type": "markdown",
   "metadata": {},
   "source": [
    "### Make AIM 2 Dataset\n",
    "\n",
    "Pivot probabilities into wide format & select only raw probability (based on calibration validity check below)"
   ],
   "id": "7e615bba-86af-4207-92ea-14c1fa0ba4cc"
  },
  {
   "cell_type": "code",
   "execution_count": null,
   "metadata": {},
   "outputs": [
    {
     "output_type": "stream",
     "name": "stdout",
     "text": [
      "Rows: 1,086\n",
      "Columns: 4\n",
      "$ subid            <dbl> 20010, 20015, 20030, 20049, 20051, 20072, 20077, 2008…\n",
      "$ prob_patch       <dbl> 0.1445079, 0.2329569, 0.1925487, 0.2558933, 0.2404972…\n",
      "$ prob_combo_nrt   <dbl> 0.1874374, 0.2612399, 0.2328017, 0.2565972, 0.2576872…\n",
      "$ prob_varenicline <dbl> 0.1100380, 0.2481624, 0.1514820, 0.3057146, 0.2614553…"
     ]
    }
   ],
   "source": [
    "raw_probs_wide <- all_probs |> \n",
    "  select(subid, tx, prob_raw) |> \n",
    "  pivot_wider(names_prefix = \"prob_\",\n",
    "              names_from = tx,\n",
    "              values_from = prob_raw)\n",
    "\n",
    "glimpse(raw_probs_wide)"
   ],
   "id": "3fe14302-cd62-4191-a4b7-5af985443ce1"
  },
  {
   "cell_type": "markdown",
   "metadata": {},
   "source": [
    "Join with d & create new variables"
   ],
   "id": "7a4738b4-a369-4883-99fc-ee61aa32ce95"
  },
  {
   "cell_type": "code",
   "execution_count": null,
   "metadata": {},
   "outputs": [
    {
     "output_type": "stream",
     "name": "stdout",
     "text": [
      "Rows: 1,086\n",
      "Columns: 11\n",
      "$ subid            <dbl> 20010, 20015, 20030, 20049, 20051, 20072, 20077, 2008…\n",
      "$ tx_rct           <fct> patch, combo_nrt, patch, varenicline, patch, combo_nr…\n",
      "$ tx_best          <fct> combo_nrt, combo_nrt, combo_nrt, varenicline, varenic…\n",
      "$ tx_match         <lgl> FALSE, TRUE, FALSE, TRUE, FALSE, TRUE, FALSE, FALSE, …\n",
      "$ prob_best        <dbl> 0.1874374, 0.2612399, 0.2328017, 0.3057146, 0.2614553…\n",
      "$ outcome_rct_wk26 <fct> smoking, smoking, smoking, abstinent, smoking, smokin…\n",
      "$ outcome_rct_wk4  <chr> \"smoking\", \"smoking\", \"smoking\", \"smoking\", \"smoking\"…\n",
      "$ outcome_rct_wk12 <chr> \"smoking\", \"smoking\", \"smoking\", \"abstinent\", \"smokin…\n",
      "$ prob_patch       <dbl> 0.1445079, 0.2329569, 0.1925487, 0.2558933, 0.2404972…\n",
      "$ prob_combo_nrt   <dbl> 0.1874374, 0.2612399, 0.2328017, 0.2565972, 0.2576872…\n",
      "$ prob_varenicline <dbl> 0.1100380, 0.2481624, 0.1514820, 0.3057146, 0.2614553…"
     ]
    }
   ],
   "source": [
    "set.seed(52592)\n",
    "d_aim_2 <- d |> \n",
    "  select(subid, tx_rct = treatment, outcome_rct_wk26 = y) |> \n",
    "  left_join(raw_probs_wide, by = \"subid\") |> \n",
    "    mutate(tx_best = case_when(\n",
    "    prob_patch > prob_combo_nrt & prob_patch > prob_varenicline ~ \"patch\",\n",
    "    prob_combo_nrt > prob_patch & prob_combo_nrt > prob_varenicline ~ \"combo_nrt\",\n",
    "    prob_varenicline > prob_patch & prob_varenicline > prob_combo_nrt ~ \"varenicline\",\n",
    "    TRUE ~ NA_character_\n",
    "  )) |> \n",
    "  # handle ties (prefer CNRT and varenicline per clinical guidelines)\n",
    "  # sample among those if tied\n",
    "  mutate(tx_best = if_else(is.na(tx_best), case_when(\n",
    "    prob_patch == prob_combo_nrt ~ \"combo_nrt\",\n",
    "    prob_patch == prob_varenicline ~ \"varenicline\",\n",
    "    prob_combo_nrt == prob_varenicline ~ sample(c(\"combo_nrt\",\n",
    "                                                  \"varenicline\"), 1),\n",
    "    TRUE ~ NA_character_\n",
    "  ), tx_best)) |>  \n",
    "  mutate(prob_best = case_when(\n",
    "    tx_best == \"patch\" ~ prob_patch,\n",
    "    tx_best == \"combo_nrt\" ~ prob_combo_nrt,\n",
    "    tx_best == \"varenicline\" ~ prob_varenicline,\n",
    "    TRUE ~ NA_real_\n",
    "  )) |> \n",
    "  mutate(tx_best = factor(tx_best, \n",
    "                          levels = c(\n",
    "                            \"patch\",\n",
    "                            \"varenicline\",\n",
    "                            \"combo_nrt\"))) |> \n",
    "  mutate(tx_match = if_else(tx_best == tx_rct, TRUE, FALSE)) |> \n",
    "  left_join(d_outcomes, by = \"subid\") |> \n",
    "  select(-pp_hybrid_wk26_outcome, -pp_hybrid_wk1_outcome, \n",
    "         -pp_hybrid_yr3_outcome, -pp_hybrid_wk52_outcome) |> \n",
    "  rename(outcome_rct_wk12 = pp_hybrid_wk12_outcome,\n",
    "         outcome_rct_wk4 = pp_hybrid_wk4_outcome) |> \n",
    "  relocate(subid, tx_rct, tx_best, tx_match,\n",
    "           prob_best, starts_with(\"outcome\"), starts_with(\"prob\"))\n",
    "\n",
    "glimpse(d_aim_2)"
   ],
   "id": "117d887e-4853-437c-9cf8-1fed545813a0"
  },
  {
   "cell_type": "markdown",
   "metadata": {},
   "source": [
    "Quick EDA checks"
   ],
   "id": "053fc86b-0c50-4589-bd2a-f991b94e66da"
  },
  {
   "cell_type": "code",
   "execution_count": null,
   "metadata": {},
   "outputs": [
    {
     "output_type": "stream",
     "name": "stdout",
     "text": [
      "# A tibble: 6 × 11\n",
      "  subid tx_rct      tx_best     tx_match prob_best outcome_rct_wk26\n",
      "  <dbl> <fct>       <fct>       <lgl>        <dbl> <fct>           \n",
      "1 20010 patch       combo_nrt   FALSE        0.187 smoking         \n",
      "2 20015 combo_nrt   combo_nrt   TRUE         0.261 smoking         \n",
      "3 20030 patch       combo_nrt   FALSE        0.233 smoking         \n",
      "4 20049 varenicline varenicline TRUE         0.306 abstinent       \n",
      "5 20051 patch       varenicline FALSE        0.261 smoking         \n",
      "6 20072 combo_nrt   combo_nrt   TRUE         0.317 smoking         \n",
      "  outcome_rct_wk4 outcome_rct_wk12 prob_patch prob_combo_nrt prob_varenicline\n",
      "  <chr>           <chr>                 <dbl>          <dbl>            <dbl>\n",
      "1 smoking         smoking               0.145          0.187            0.110\n",
      "2 smoking         smoking               0.233          0.261            0.248\n",
      "3 smoking         smoking               0.193          0.233            0.151\n",
      "4 smoking         abstinent             0.256          0.257            0.306\n",
      "5 smoking         smoking               0.240          0.258            0.261\n",
      "6 smoking         smoking               0.303          0.317            0.307"
     ]
    },
    {
     "output_type": "stream",
     "name": "stdout",
     "text": [
      "# A tibble: 3 × 3\n",
      "  tx_best         n   prop\n",
      "  <fct>       <int>  <dbl>\n",
      "1 patch          80 0.0737\n",
      "2 varenicline   295 0.272 \n",
      "3 combo_nrt     711 0.655 "
     ]
    },
    {
     "output_type": "stream",
     "name": "stdout",
     "text": [
      "# A tibble: 2 × 3\n",
      "  tx_match     n  prop\n",
      "  <lgl>    <int> <dbl>\n",
      "1 FALSE      648 0.597\n",
      "2 TRUE       438 0.403"
     ]
    },
    {
     "output_type": "stream",
     "name": "stdout",
     "text": [
      "# A tibble: 6 × 4\n",
      "# Groups:   tx_rct [3]\n",
      "  tx_rct      tx_match     n   prop\n",
      "  <fct>       <lgl>    <int>  <dbl>\n",
      "1 patch       FALSE      219 0.909 \n",
      "2 patch       TRUE        22 0.0913\n",
      "3 varenicline FALSE      298 0.703 \n",
      "4 varenicline TRUE       126 0.297 \n",
      "5 combo_nrt   FALSE      131 0.311 \n",
      "6 combo_nrt   TRUE       290 0.689 "
     ]
    }
   ],
   "source": [
    "# confirm logic worked as expected\n",
    "head(d_aim_2)"
   ],
   "id": "19aa94e7-8be1-4abe-a881-29008c71248a"
  },
  {
   "cell_type": "markdown",
   "metadata": {},
   "source": [
    "Write out"
   ],
   "id": "200e99cd-4f44-4299-80d5-8fce68f9e38f"
  },
  {
   "cell_type": "code",
   "execution_count": null,
   "metadata": {},
   "outputs": [],
   "source": [
    "d_aim_2 |> \n",
    "  write_csv(file.path(path_models, str_c(\"aim_2_\", version, \"_\", \n",
    "                                         y_col_name, \".csv\")))"
   ],
   "id": "88396e5b-77a3-4a4e-b0e8-fb9a1e9854d9"
  },
  {
   "cell_type": "markdown",
   "metadata": {},
   "source": [
    "### Validity check: Model Calibration\n",
    "\n",
    "Make wide format for all calibrated probabilities"
   ],
   "id": "e7513f06-c84f-4537-b788-4c5a2d4ff6cc"
  },
  {
   "cell_type": "code",
   "execution_count": null,
   "metadata": {},
   "outputs": [],
   "source": [
    "all_probs_wide <- all_probs |> \n",
    "  rename_with(~ str_replace(.x, \"prob_\", \"\"), .cols = starts_with(\"prob_\")) |> \n",
    "  pivot_wider(\n",
    "    names_from = tx,\n",
    "    values_from = c(raw, beta, iso, logi),\n",
    "    names_glue = \"{.value}_{tx}\"\n",
    "  )"
   ],
   "id": "ae20444c-bc01-4519-b89e-da87506f3fb7"
  },
  {
   "cell_type": "markdown",
   "metadata": {},
   "source": [
    "Set up validity check data"
   ],
   "id": "a0ff5e76-e99b-4ee3-972a-cc6d6b80a677"
  },
  {
   "cell_type": "code",
   "execution_count": null,
   "metadata": {},
   "outputs": [],
   "source": [
    "d_valid <- d_aim_2 |> \n",
    "  select(subid, tx_rct, outcome_rct_wk26) |> \n",
    "  left_join(all_probs_wide, by = \"subid\") |> \n",
    "  mutate(beta = case_when(\n",
    "    tx_rct == \"patch\" ~ beta_patch,\n",
    "    tx_rct == \"combo_nrt\" ~ beta_combo_nrt,\n",
    "    tx_rct == \"varenicline\" ~ beta_varenicline,\n",
    "    TRUE ~ NA_real_\n",
    "  ),\n",
    "  raw = case_when(\n",
    "    tx_rct == \"patch\" ~ raw_patch,\n",
    "    tx_rct == \"combo_nrt\" ~ raw_combo_nrt,\n",
    "    tx_rct == \"varenicline\" ~ raw_varenicline,\n",
    "    TRUE ~ NA_real_\n",
    "  ),\n",
    "  isotonic = case_when(\n",
    "    tx_rct == \"patch\" ~ iso_patch,\n",
    "    tx_rct == \"combo_nrt\" ~ iso_combo_nrt,\n",
    "    tx_rct == \"varenicline\" ~ iso_varenicline,\n",
    "    TRUE ~ NA_real_\n",
    "  ),\n",
    "  logistic = case_when(\n",
    "    tx_rct == \"patch\" ~ logi_patch,\n",
    "    tx_rct == \"combo_nrt\" ~ logi_combo_nrt,\n",
    "    tx_rct == \"varenicline\" ~ logi_varenicline,\n",
    "    TRUE ~ NA_real_\n",
    "  )) |> \n",
    "  select(subid, outcome_rct_wk26, beta, raw, isotonic, logistic) "
   ],
   "id": "750bf2a3-c85c-40a4-8fcb-e81ec5047ede"
  },
  {
   "cell_type": "markdown",
   "metadata": {},
   "source": [
    "#### Comparison of means\n",
    "\n",
    "Compare mean abstinence from RCT to predicted probabilities for RCT tx across calibrations"
   ],
   "id": "ede468ad-ddd4-4557-97ec-849e381f160d"
  },
  {
   "cell_type": "code",
   "execution_count": null,
   "metadata": {},
   "outputs": [
    {
     "output_type": "stream",
     "name": "stdout",
     "text": [
      "# A tibble: 1 × 5\n",
      "  mean_rct mean_beta mean_iso mean_logi mean_raw\n",
      "     <dbl>     <dbl>    <dbl>     <dbl>    <dbl>\n",
      "1    0.247     0.253    0.187     0.253    0.246"
     ]
    }
   ],
   "source": [
    "d_valid |> \n",
    "  mutate(outcome_rct = if_else(outcome_rct_wk26 == \"abstinent\", 1, 0)) |> \n",
    "  summarize(mean_rct = mean(outcome_rct),\n",
    "            mean_beta = mean(beta),\n",
    "            mean_iso = mean(isotonic),\n",
    "            mean_logi = mean(logistic),\n",
    "            mean_raw = mean(raw))"
   ],
   "id": "2e202879-a6c3-4ca4-996d-11ec48803110"
  },
  {
   "cell_type": "markdown",
   "metadata": {},
   "source": [
    "Raw probabilities match best, though beta and logistic calibration are close.\n",
    "\n",
    "#### Plots\n",
    "\n",
    "Pivot data longer for required format"
   ],
   "id": "b160bf30-21e3-478f-b63f-9d38c2672cb0"
  },
  {
   "cell_type": "code",
   "execution_count": null,
   "metadata": {},
   "outputs": [],
   "source": [
    "d_plot <- d_valid |> \n",
    "  pivot_longer(\n",
    "    cols = c(beta, raw, isotonic, logistic),\n",
    "    names_to = \"method\",\n",
    "    values_to = \".pred_abstinent\"\n",
    "  )"
   ],
   "id": "2b26c753-5571-4cf2-8cbb-ec20eb997df3"
  },
  {
   "cell_type": "markdown",
   "metadata": {},
   "source": [
    "Make plots by calibration method"
   ],
   "id": "117b4450-07bf-430b-b22a-21c746d05d77"
  },
  {
   "cell_type": "code",
   "execution_count": null,
   "metadata": {},
   "outputs": [
    {
     "output_type": "display_data",
     "metadata": {},
     "data": {
      "image/png": "[encoded data removed]"
     }
    },
    {
     "output_type": "display_data",
     "metadata": {},
     "data": {
      "image/png": "[encoded data removed]"
     }
    }
   ],
   "source": [
    "d_plot |> \n",
    "  cal_plot_breaks(truth = outcome_rct_wk26, \n",
    "                  estimate = .pred_abstinent,\n",
    "                  .by = method)"
   ],
   "id": "fa693eee-9e19-4626-91c5-e668947a27ab"
  },
  {
   "cell_type": "markdown",
   "metadata": {},
   "source": [
    "Raw and beta look best. Raw follows the diagonal more closely for longer.\n",
    "\n",
    "#### Brier score\n",
    "\n",
    "Beta calibration"
   ],
   "id": "252ffa0c-f9f5-4266-89c9-51d5d1389e08"
  },
  {
   "cell_type": "code",
   "execution_count": null,
   "metadata": {},
   "outputs": [
    {
     "output_type": "stream",
     "name": "stdout",
     "text": [
      "[1] 0.1789448"
     ]
    }
   ],
   "source": [
    "brier_class_vec(truth = d_valid$outcome_rct_wk26,\n",
    "                estimate = d_valid$beta)"
   ],
   "id": "acd6a5fd-772c-45c1-b917-782bbf1fe286"
  },
  {
   "cell_type": "markdown",
   "metadata": {},
   "source": [
    "Logistic calibration"
   ],
   "id": "4e9ed1d7-24a2-4217-bbcf-1bea746ddc44"
  },
  {
   "cell_type": "code",
   "execution_count": null,
   "metadata": {},
   "outputs": [
    {
     "output_type": "stream",
     "name": "stdout",
     "text": [
      "[1] 0.179301"
     ]
    }
   ],
   "source": [
    "brier_class_vec(truth = d_valid$outcome_rct_wk26,\n",
    "                estimate = d_valid$logistic)"
   ],
   "id": "7d7c7a1e-3c37-44b5-b817-f0eef00c7b70"
  },
  {
   "cell_type": "markdown",
   "metadata": {},
   "source": [
    "Isotonic calibration"
   ],
   "id": "2764088c-00f7-49d9-b537-51182cd7bb3f"
  },
  {
   "cell_type": "code",
   "execution_count": null,
   "metadata": {},
   "outputs": [
    {
     "output_type": "stream",
     "name": "stdout",
     "text": [
      "[1] 0.1908157"
     ]
    }
   ],
   "source": [
    "brier_class_vec(truth = d_valid$outcome_rct_wk26,\n",
    "                estimate = d_valid$isotonic)"
   ],
   "id": "f8388f16-be78-46ef-95a0-27b3a22037b6"
  },
  {
   "cell_type": "markdown",
   "metadata": {},
   "source": [
    "Raw calibration"
   ],
   "id": "6c0f78c4-2271-4c03-bbf3-5910b0989dc1"
  },
  {
   "cell_type": "code",
   "execution_count": null,
   "metadata": {},
   "outputs": [
    {
     "output_type": "stream",
     "name": "stdout",
     "text": [
      "[1] 0.1766808"
     ]
    }
   ],
   "source": [
    "brier_class_vec(truth = d_valid$outcome_rct_wk26,\n",
    "                estimate = d_valid$raw)"
   ],
   "id": "248fb890-a0dd-408c-a2f0-a05d895f21b9"
  },
  {
   "cell_type": "markdown",
   "metadata": {},
   "source": [
    "Raw calibration has the lowest Brier score (though all are relatively similar). In keeping with the other methods above, beta and logistic are next-best followed by isotonic last."
   ],
   "id": "77aa6ab7-38bb-49ce-a994-c5c4a3165ee3"
  }
 ],
 "nbformat": 4,
 "nbformat_minor": 5,
 "metadata": {}
}

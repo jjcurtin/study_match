{
 "cells": [
  {
   "cell_type": "markdown",
   "metadata": {},
   "source": [
    "# Fits and characterizes final model for version v5 for outcome\n",
    "\n",
    "pp_hybrid_wk26_outcome\n",
    "\n",
    "Gaylen Fronk  \n",
    "April 24, 2024\n",
    "\n",
    "## Set Up Environment"
   ],
   "id": "c0050e16-ecdf-4ad7-b426-776392e7c8b5"
  },
  {
   "cell_type": "code",
   "execution_count": null,
   "metadata": {},
   "outputs": [],
   "source": [
    "study <- params$study\n",
    "version <- params$version\n",
    "cv <- params$cv\n",
    "algorithms <- params$algorithms\n",
    "y_col_name <- params$y_col_name\n"
   ],
   "id": "c8ecd3ba-94cd-4e25-92d0-20ac7ce42b6d"
  },
  {
   "cell_type": "markdown",
   "metadata": {},
   "source": [
    "Packages for script"
   ],
   "id": "cedd0e0e-03cc-4d64-a467-dcdeae114c33"
  },
  {
   "cell_type": "code",
   "execution_count": null,
   "metadata": {},
   "outputs": [
    {
     "output_type": "stream",
     "name": "stderr",
     "text": [
      "── Attaching packages ────────────────────────────────────── tidymodels 1.1.1 ──"
     ]
    },
    {
     "output_type": "stream",
     "name": "stderr",
     "text": [
      "✔ broom        1.0.5     ✔ recipes      1.0.9\n",
      "✔ dials        1.2.0     ✔ rsample      1.2.0\n",
      "✔ dplyr        1.1.4     ✔ tibble       3.2.1\n",
      "✔ ggplot2      3.4.4     ✔ tidyr        1.3.1\n",
      "✔ infer        1.0.6     ✔ tune         1.1.2\n",
      "✔ modeldata    1.3.0     ✔ workflows    1.1.3\n",
      "✔ parsnip      1.1.1     ✔ workflowsets 1.0.1\n",
      "✔ purrr        1.0.2     ✔ yardstick    1.3.0"
     ]
    },
    {
     "output_type": "stream",
     "name": "stderr",
     "text": [
      "── Conflicts ───────────────────────────────────────── tidymodels_conflicts() ──\n",
      "✖ purrr::discard() masks scales::discard()\n",
      "✖ dplyr::filter()  masks stats::filter()\n",
      "✖ dplyr::lag()     masks stats::lag()\n",
      "✖ recipes::step()  masks stats::step()\n",
      "• Learn how to get started at https://www.tidymodels.org/start/"
     ]
    },
    {
     "output_type": "stream",
     "name": "stderr",
     "text": [
      "── Attaching core tidyverse packages ──────────────────────── tidyverse 2.0.0 ──\n",
      "✔ forcats   1.0.0     ✔ readr     2.1.5\n",
      "✔ lubridate 1.9.3     ✔ stringr   1.5.1"
     ]
    },
    {
     "output_type": "stream",
     "name": "stderr",
     "text": [
      "── Conflicts ────────────────────────────────────────── tidyverse_conflicts() ──\n",
      "✖ readr::col_factor() masks scales::col_factor()\n",
      "✖ purrr::discard()    masks scales::discard()\n",
      "✖ dplyr::filter()     masks stats::filter()\n",
      "✖ stringr::fixed()    masks recipes::fixed()\n",
      "✖ dplyr::lag()        masks stats::lag()\n",
      "✖ readr::spec()       masks yardstick::spec()\n",
      "ℹ Use the conflicted package (<http://conflicted.r-lib.org/>) to force all conflicts to become errors"
     ]
    },
    {
     "output_type": "stream",
     "name": "stderr",
     "text": [
      "\n",
      "Attaching package: 'Matrix'\n",
      "\n",
      "The following objects are masked from 'package:tidyr':\n",
      "\n",
      "    expand, pack, unpack"
     ]
    },
    {
     "output_type": "stream",
     "name": "stderr",
     "text": [
      "\n",
      "Attaching package: 'probably'\n",
      "\n",
      "The following objects are masked from 'package:base':\n",
      "\n",
      "    as.factor, as.ordered"
     ]
    },
    {
     "output_type": "stream",
     "name": "stderr",
     "text": [
      "Warning: package 'here' was built under R version 4.3.3"
     ]
    },
    {
     "output_type": "stream",
     "name": "stderr",
     "text": [
      "here() starts at C:/Users/gfronk/Documents/GitHub/study_match"
     ]
    },
    {
     "output_type": "stream",
     "name": "stderr",
     "text": [
      "ℹ SHA-1 hash of file is \"c045eee2655a18dc85e715b78182f176327358a7\""
     ]
    },
    {
     "output_type": "stream",
     "name": "stderr",
     "text": [
      "ℹ SHA-1 hash of file is \"bb7bddab14e337e74cb65ad3b94d58a2492d34cd\""
     ]
    }
   ],
   "source": [
    "\n",
    "library(tidymodels)\n"
   ],
   "id": "8eb238e6-2801-4453-9d34-575d44246749"
  },
  {
   "cell_type": "markdown",
   "metadata": {},
   "source": [
    "Handle conflicts"
   ],
   "id": "df575b94-cd44-4ef5-9d14-d1e930846d5f"
  },
  {
   "cell_type": "code",
   "execution_count": null,
   "metadata": {},
   "outputs": [],
   "source": [
    "\n",
    "options(conflicts.policy = \"depends.ok\")\n"
   ],
   "id": "3f80e27a-349c-40df-9495-7db0e4c2f533"
  },
  {
   "cell_type": "markdown",
   "metadata": {},
   "source": [
    "Absolute paths"
   ],
   "id": "ff346e26-4c71-4820-8392-6f06ba19cb69"
  },
  {
   "cell_type": "code",
   "execution_count": null,
   "metadata": {},
   "outputs": [],
   "source": [
    "switch (Sys.info()[['sysname']],\n",
    "        # PC paths\n",
    "        Windows = {\n",
    "          path_input <- stringr::str_c(\"P:/studydata/match/chtc/\", \n",
    "                                       y_col_name)\n",
    "          path_models <- stringr::str_c(\"P:/studydata/match/models/\", \n",
    "                                        y_col_name)},\n",
    "        \n",
    "        # IOS paths\n",
    "        Darwin = {\n",
    "          path_input <- stringr::str_c(\"/Volumes/private/studydata/match/chtc/\", \n",
    "                                       y_col_name)\n",
    "          path_models <- stringr::str_c(\"/Volumes/private/studydata/match/models/\", \n",
    "                                        y_col_name)},\n",
    "        \n",
    "        # Linux paths\n",
    "        Linux = {\n",
    "          path_input <- stringr::str_c(\"~/mnt/private/studydata/match/chtc/\", \n",
    "                                       y_col_name)\n",
    "          path_models <- stringr::str_c(\"~/mnt/private/studydata/match/models/\", \n",
    "                                        y_col_name)}\n",
    ")\n"
   ],
   "id": "89a0da14-8b56-45f2-bb73-d1c9748f8f6c"
  },
  {
   "cell_type": "markdown",
   "metadata": {},
   "source": [
    "Chunk Defaults"
   ],
   "id": "9127a0a1-cc05-443a-9120-934760901d5e"
  },
  {
   "cell_type": "code",
   "execution_count": null,
   "metadata": {},
   "outputs": [],
   "source": [
    "\n",
    "knitr::opts_chunk$set(attr.output='style=\"max-height: 500px;\"')\n",
    "\n",
    "options(tibble.width = Inf)\n",
    "options(tibble.print_max = Inf)\n"
   ],
   "id": "7164d1dd-d04e-4de6-aa5a-013f2065ad09"
  },
  {
   "cell_type": "markdown",
   "metadata": {},
   "source": [
    "## Read in best configuration\n",
    "\n",
    "Selected in 1_metrics_inner (k-fold CV)"
   ],
   "id": "9cc93b43-0777-4821-acaf-c4dcb08bee54"
  },
  {
   "cell_type": "code",
   "execution_count": null,
   "metadata": {},
   "outputs": [
    {
     "output_type": "stream",
     "name": "stdout",
     "text": [
      "Rows: 1\n",
      "Columns: 14\n",
      "$ n_jobs       <dbl> 10\n",
      "$ algorithm    <chr> \"xgboost\"\n",
      "$ feature_set  <chr> \"item_knn_5\"\n",
      "$ hp1          <dbl> 0.01\n",
      "$ hp2          <dbl> 3\n",
      "$ hp3          <dbl> 50\n",
      "$ resample     <chr> \"up_1\"\n",
      "$ accuracy     <dbl> 0.6697248\n",
      "$ bal_accuracy <dbl> 0.6315083\n",
      "$ roc_auc      <dbl> 0.6799157\n",
      "$ sens         <dbl> 0.5166667\n",
      "$ spec         <dbl> 0.7361362\n",
      "$ ppv          <dbl> 0.3514706\n",
      "$ npv          <dbl> 0.81173"
     ]
    }
   ],
   "source": [
    "best_config <- read_csv(file.path(path_models, \n",
    "                                  str_c(\"best_config_\", version, \".csv\")),\n",
    "                        show_col_types = FALSE)\n",
    "\n",
    "glimpse(best_config)\n"
   ],
   "id": "d5037b26-5295-4f30-81e9-9375c4cc7315"
  },
  {
   "cell_type": "markdown",
   "metadata": {},
   "source": [
    "## Fit best model in full dataset"
   ],
   "id": "991b8400-b8e2-4ad5-8155-29aa937b9e37"
  },
  {
   "cell_type": "code",
   "execution_count": null,
   "metadata": {},
   "outputs": [],
   "source": [
    "batch_names <- list.dirs(path_input, full.names = FALSE, recursive = FALSE) \n",
    "\n",
    "batch_name <- batch_names[str_detect(batch_names, \"train\") & \n",
    "                            str_detect(batch_names, cv) &\n",
    "                            str_detect(batch_names, version) &\n",
    "                            str_detect(batch_names, best_config$algorithm)] \n",
    "\n",
    "path_batch <- file.path(path_input, batch_name)\n",
    "source(file.path(path_batch, \"input\", \"training_controls.R\"))\n",
    "\n",
    "d <- read_csv(file.path(path_batch, \"input\", \"data_trn.csv\"), \n",
    "              show_col_types = FALSE) \n",
    "\n",
    "d_outcomes <- d |> \n",
    "  select(subid, ends_with(\"outcome\") & contains(\"hybrid\"))\n",
    "\n",
    "d <- format_data(d) \n",
    "\n",
    "rec <- build_recipe(d = d, config = best_config)\n",
    "\n",
    "rec_prepped <- rec |> \n",
    "  prep(training = d, strings_as_factors = FALSE)\n",
    "\n",
    "feat_all <- rec_prepped |> \n",
    "  bake(new_data = d)\n",
    "\n",
    "model_best <- fit_best_model(best_model = best_config, \n",
    "                             feat = feat_all, \n",
    "                             ml_mode = \"classification\")\n"
   ],
   "id": "7015db61-c083-4d03-80d5-142183fe7ff5"
  },
  {
   "cell_type": "markdown",
   "metadata": {},
   "source": [
    "### SHAP for Feature Importance (using 1x 10-fold held-out folds)"
   ],
   "id": "a59f3e16-9acd-4040-9f0b-a9b6d28dcb7e"
  },
  {
   "cell_type": "code",
   "execution_count": null,
   "metadata": {},
   "outputs": [
    {
     "output_type": "stream",
     "name": "stderr",
     "text": [
      "Warning in gower_work(x = x, y = y, pair_x = pair_x, pair_y = pair_y, n = n, :\n",
      "skipping variable with zero or non-finite range.\n",
      "\n",
      "Warning in gower_work(x = x, y = y, pair_x = pair_x, pair_y = pair_y, n = n, :\n",
      "skipping variable with zero or non-finite range.\n",
      "\n",
      "Warning in gower_work(x = x, y = y, pair_x = pair_x, pair_y = pair_y, n = n, :\n",
      "skipping variable with zero or non-finite range.\n",
      "\n",
      "Warning in gower_work(x = x, y = y, pair_x = pair_x, pair_y = pair_y, n = n, :\n",
      "skipping variable with zero or non-finite range.\n",
      "\n",
      "Warning in gower_work(x = x, y = y, pair_x = pair_x, pair_y = pair_y, n = n, :\n",
      "skipping variable with zero or non-finite range.\n",
      "\n",
      "Warning in gower_work(x = x, y = y, pair_x = pair_x, pair_y = pair_y, n = n, :\n",
      "skipping variable with zero or non-finite range.\n",
      "\n",
      "Warning in gower_work(x = x, y = y, pair_x = pair_x, pair_y = pair_y, n = n, :\n",
      "skipping variable with zero or non-finite range.\n",
      "\n",
      "Warning in gower_work(x = x, y = y, pair_x = pair_x, pair_y = pair_y, n = n, :\n",
      "skipping variable with zero or non-finite range.\n",
      "\n",
      "Warning in gower_work(x = x, y = y, pair_x = pair_x, pair_y = pair_y, n = n, :\n",
      "skipping variable with zero or non-finite range.\n",
      "\n",
      "Warning in gower_work(x = x, y = y, pair_x = pair_x, pair_y = pair_y, n = n, :\n",
      "skipping variable with zero or non-finite range.\n",
      "\n",
      "Warning in gower_work(x = x, y = y, pair_x = pair_x, pair_y = pair_y, n = n, :\n",
      "skipping variable with zero or non-finite range.\n",
      "\n",
      "Warning in gower_work(x = x, y = y, pair_x = pair_x, pair_y = pair_y, n = n, :\n",
      "skipping variable with zero or non-finite range.\n",
      "\n",
      "Warning in gower_work(x = x, y = y, pair_x = pair_x, pair_y = pair_y, n = n, :\n",
      "skipping variable with zero or non-finite range.\n",
      "\n",
      "Warning in gower_work(x = x, y = y, pair_x = pair_x, pair_y = pair_y, n = n, :\n",
      "skipping variable with zero or non-finite range.\n",
      "\n",
      "Warning in gower_work(x = x, y = y, pair_x = pair_x, pair_y = pair_y, n = n, :\n",
      "skipping variable with zero or non-finite range.\n",
      "\n",
      "Warning in gower_work(x = x, y = y, pair_x = pair_x, pair_y = pair_y, n = n, :\n",
      "skipping variable with zero or non-finite range.\n",
      "\n",
      "Warning in gower_work(x = x, y = y, pair_x = pair_x, pair_y = pair_y, n = n, :\n",
      "skipping variable with zero or non-finite range.\n",
      "\n",
      "Warning in gower_work(x = x, y = y, pair_x = pair_x, pair_y = pair_y, n = n, :\n",
      "skipping variable with zero or non-finite range.\n",
      "\n",
      "Warning in gower_work(x = x, y = y, pair_x = pair_x, pair_y = pair_y, n = n, :\n",
      "skipping variable with zero or non-finite range.\n",
      "\n",
      "Warning in gower_work(x = x, y = y, pair_x = pair_x, pair_y = pair_y, n = n, :\n",
      "skipping variable with zero or non-finite range.\n",
      "\n",
      "Warning in gower_work(x = x, y = y, pair_x = pair_x, pair_y = pair_y, n = n, :\n",
      "skipping variable with zero or non-finite range.\n",
      "\n",
      "Warning in gower_work(x = x, y = y, pair_x = pair_x, pair_y = pair_y, n = n, :\n",
      "skipping variable with zero or non-finite range.\n",
      "\n",
      "Warning in gower_work(x = x, y = y, pair_x = pair_x, pair_y = pair_y, n = n, :\n",
      "skipping variable with zero or non-finite range.\n",
      "\n",
      "Warning in gower_work(x = x, y = y, pair_x = pair_x, pair_y = pair_y, n = n, :\n",
      "skipping variable with zero or non-finite range.\n",
      "\n",
      "Warning in gower_work(x = x, y = y, pair_x = pair_x, pair_y = pair_y, n = n, :\n",
      "skipping variable with zero or non-finite range.\n",
      "\n",
      "Warning in gower_work(x = x, y = y, pair_x = pair_x, pair_y = pair_y, n = n, :\n",
      "skipping variable with zero or non-finite range.\n",
      "\n",
      "Warning in gower_work(x = x, y = y, pair_x = pair_x, pair_y = pair_y, n = n, :\n",
      "skipping variable with zero or non-finite range.\n",
      "\n",
      "Warning in gower_work(x = x, y = y, pair_x = pair_x, pair_y = pair_y, n = n, :\n",
      "skipping variable with zero or non-finite range.\n",
      "\n",
      "Warning in gower_work(x = x, y = y, pair_x = pair_x, pair_y = pair_y, n = n, :\n",
      "skipping variable with zero or non-finite range.\n",
      "\n",
      "Warning in gower_work(x = x, y = y, pair_x = pair_x, pair_y = pair_y, n = n, :\n",
      "skipping variable with zero or non-finite range.\n",
      "\n",
      "Warning in gower_work(x = x, y = y, pair_x = pair_x, pair_y = pair_y, n = n, :\n",
      "skipping variable with zero or non-finite range.\n",
      "\n",
      "Warning in gower_work(x = x, y = y, pair_x = pair_x, pair_y = pair_y, n = n, :\n",
      "skipping variable with zero or non-finite range.\n",
      "\n",
      "Warning in gower_work(x = x, y = y, pair_x = pair_x, pair_y = pair_y, n = n, :\n",
      "skipping variable with zero or non-finite range.\n",
      "\n",
      "Warning in gower_work(x = x, y = y, pair_x = pair_x, pair_y = pair_y, n = n, :\n",
      "skipping variable with zero or non-finite range.\n",
      "\n",
      "Warning in gower_work(x = x, y = y, pair_x = pair_x, pair_y = pair_y, n = n, :\n",
      "skipping variable with zero or non-finite range.\n",
      "\n",
      "Warning in gower_work(x = x, y = y, pair_x = pair_x, pair_y = pair_y, n = n, :\n",
      "skipping variable with zero or non-finite range.\n",
      "\n",
      "Warning in gower_work(x = x, y = y, pair_x = pair_x, pair_y = pair_y, n = n, :\n",
      "skipping variable with zero or non-finite range."
     ]
    },
    {
     "output_type": "stream",
     "name": "stderr",
     "text": [
      "`summarise()` has grouped output by 'id_obs'. You can override using the\n",
      "`.groups` argument."
     ]
    },
    {
     "output_type": "display_data",
     "metadata": {},
     "data": {
      "image/png": "[encoded data removed]"
     }
    },
    {
     "output_type": "stream",
     "name": "stdout",
     "text": [
      "[1] 0.0022278257 0.0041012774 0.0003676106"
     ]
    },
    {
     "output_type": "stream",
     "name": "stdout",
     "text": [
      "Rows: 3\n",
      "Columns: 3\n",
      "$ variable   <fct> treatment_patch, treatment_combo_nrt, treatment_varenicline\n",
      "$ mean_value <dbl> 0.0041012774, 0.0022278257, 0.0003676106\n",
      "$ shap_rank  <int> 131, 189, 285"
     ]
    }
   ],
   "source": [
    "splits <- d %>% \n",
    "  make_splits(cv_resample_type, cv_resample, cv_outer_resample, \n",
    "              cv_inner_resample, cv_group, seed_splits)\n",
    "\n",
    "all_shaps <- NULL\n",
    "\n",
    "split_nums <- 1:nrow(splits)\n",
    "\n",
    "for (split_num in split_nums) {\n",
    "  \n",
    "  d_in <- training(splits$splits[[split_num]]) \n",
    "  d_out <- testing(splits$splits[[split_num]])\n",
    "  \n",
    "  rec <- build_recipe(d = d_in, config = best_config)\n",
    "  rec_prepped <- rec |> \n",
    "    prep(training = d_in, strings_as_factors = FALSE)\n",
    "  \n",
    "  feat_in <- rec_prepped |> \n",
    "    bake(new_data = NULL)\n",
    "  \n",
    "  model_best <- fit_best_model(best_config, feat = feat_in,\n",
    "                               \"classification\")\n",
    "  \n",
    "  feat_out <- rec_prepped |> \n",
    "    bake(new_data = d_out)\n",
    "  \n",
    "  # SHAP in held out fold\n",
    "  shaps_out <- SHAPforxgboost::shap.prep(\n",
    "    xgb_model = extract_fit_engine(model_best),\n",
    "    X_train = feat_out |> \n",
    "      select(-y) |>  \n",
    "      as.matrix()) |> \n",
    "    mutate(id_obs = rep(d_out$subid, times = ncol(feat_out) - 1),\n",
    "           split_num = split_num) |>  \n",
    "    relocate(id_obs, split_num)\n",
    "  \n",
    "  all_shaps <- all_shaps %>% \n",
    "    bind_rows(shaps_out)\n",
    "}\n"
   ],
   "id": "81768131-2033-462e-bece-285ea451d5e3"
  },
  {
   "cell_type": "markdown",
   "metadata": {},
   "source": [
    "## Calculate and calibrate probabilities\n",
    "\n",
    "Make triplicate dataset"
   ],
   "id": "556f3f81-20a3-4574-9c48-75745919cec5"
  },
  {
   "cell_type": "code",
   "execution_count": null,
   "metadata": {},
   "outputs": [],
   "source": [
    "d_patch <- d |> \n",
    "  mutate(treatment = \"patch\") \n",
    "\n",
    "d_combo <- d |> \n",
    "  mutate(treatment = \"combo_nrt\")\n",
    "\n",
    "d_varen <- d |> \n",
    "  mutate(treatment = \"varenicline\")\n",
    "\n",
    "d_trip <- bind_rows(d_patch, d_combo) |> \n",
    "  bind_rows(d_varen) |> \n",
    "  mutate(treatment = factor(treatment, \n",
    "                            levels = c(\n",
    "                              \"patch\",\n",
    "                              \"varenicline\",\n",
    "                              \"combo_nrt\")))\n"
   ],
   "id": "c5df20b5-992f-4ee2-81db-df3c23e4a733"
  },
  {
   "cell_type": "markdown",
   "metadata": {},
   "source": [
    "Build triplicate feature set"
   ],
   "id": "c31079b8-25c5-4f41-9a72-ac479bfbc130"
  },
  {
   "cell_type": "code",
   "execution_count": null,
   "metadata": {},
   "outputs": [],
   "source": [
    "feat_trip <- rec_prepped |> \n",
    "  bake(new_data = d_trip) \n"
   ],
   "id": "74294e1a-32b7-4ab4-81c1-39f800f7be78"
  },
  {
   "cell_type": "markdown",
   "metadata": {},
   "source": [
    "Get raw and calibrated probabilities"
   ],
   "id": "8a835c41-4994-4735-827b-43f73cec0039"
  },
  {
   "cell_type": "code",
   "execution_count": null,
   "metadata": {},
   "outputs": [],
   "source": [
    "# raw (uncalibrated) predictions for triplicated dataset\n",
    "preds_prob <- predict(model_best, feat_trip,\n",
    "                      type = \"prob\")\n",
    "\n",
    "# fit calibration model\n",
    "set.seed(2468)\n",
    "cal_split <- d |> \n",
    "  initial_split(prop = 3/4, strata = y)\n",
    "d_cal_in <- training(cal_split) \n",
    "d_cal_out <- testing(cal_split)\n",
    "\n",
    "rec_cal_prepped <- rec |> \n",
    "  prep(training = d_cal_in, strings_as_factors = FALSE)\n",
    "\n",
    "feat_cal_in <- rec_cal_prepped |> \n",
    "  bake(new_data = NULL) \n",
    "\n",
    "feat_cal_out <- rec_cal_prepped |> \n",
    "  bake(new_data = d_cal_out) \n",
    "\n",
    "model_cal <- fit_best_model(best_config, feat = feat_cal_in, \"classification\")\n",
    "\n",
    "# # beta calibration\n",
    "# beta <- predict(model_cal, feat_cal_out,\n",
    "#                 type = \"prob\") |>\n",
    "#   mutate(truth = feat_cal_out$y) |>\n",
    "#   cal_estimate_beta(truth = truth,\n",
    "#                     estimate = dplyr::starts_with(\".pred_\"),\n",
    "#                     smooth = TRUE)\n",
    "# preds_prob_beta <- preds_prob |>\n",
    "#   cal_apply(beta)\n",
    "# \n",
    "# # iso calibration\n",
    "# iso <- predict(model_cal, feat_cal_out,\n",
    "#                type = \"prob\") |>\n",
    "#   mutate(truth = feat_cal_out$y) |>\n",
    "#   cal_estimate_isotonic(truth = truth,\n",
    "#                         estimate = dplyr::starts_with(\".pred_\"))\n",
    "# preds_prob_iso <- preds_prob |>\n",
    "#   cal_apply(iso)\n",
    "# \n",
    "# # logistic calibration\n",
    "# logi <- predict(model_cal, feat_cal_out,\n",
    "#                 type = \"prob\") |>\n",
    "#   mutate(truth = feat_cal_out$y) |>\n",
    "#   cal_estimate_logistic(truth = truth,\n",
    "#                         estimate = dplyr::starts_with(\".pred_\"),\n",
    "#                         smooth = TRUE)\n",
    "# preds_prob_logi <- preds_prob |>\n",
    "#   cal_apply(logi)\n",
    "\n",
    "# combine raw and calibrated probs\n",
    "probs <- tibble(subid = d_trip$subid,\n",
    "                tx = d_trip$treatment,\n",
    "                prob_raw = preds_prob[[str_c(\".pred_\", y_level_pos)]])\n",
    "#prob_beta = preds_prob_beta[[str_c(\".pred_\", y_level_pos)]],\n",
    "#prob_iso = preds_prob_iso[[str_c(\".pred_\", y_level_pos)]],\n",
    "#prob_logi = preds_prob_logi[[str_c(\".pred_\", y_level_pos)]]) \n",
    "\n",
    "glimpse(probs)\n"
   ],
   "id": "f23be7fc-dedb-46b2-8650-5b62ef28ac1f"
  },
  {
   "cell_type": "markdown",
   "metadata": {},
   "source": [
    "### Make AIM 2 Dataset\n",
    "\n",
    "Pivot probabilities into wide format & select only raw probability (based on calibration validity check below)"
   ],
   "id": "71c70760-f768-47c9-9501-5ef6c2f2beea"
  },
  {
   "cell_type": "code",
   "execution_count": null,
   "metadata": {},
   "outputs": [],
   "source": [
    "raw_probs_wide <- probs |> \n",
    "  select(subid, tx, prob_raw) |> \n",
    "  pivot_wider(names_prefix = \"prob_\",\n",
    "              names_from = tx,\n",
    "              values_from = prob_raw)\n",
    "\n",
    "glimpse(raw_probs_wide)\n"
   ],
   "id": "d9134054-dbee-4344-b167-93e3fba1fe7e"
  },
  {
   "cell_type": "markdown",
   "metadata": {},
   "source": [
    "Join with d & create new variables"
   ],
   "id": "c76f9e35-e1a3-4e4b-a891-d7c54767dbd8"
  },
  {
   "cell_type": "code",
   "execution_count": null,
   "metadata": {},
   "outputs": [],
   "source": [
    "d_aim_2 <- d |> \n",
    "  select(subid, tx_rct = treatment, outcome_rct_wk4 = y) |> \n",
    "  left_join(raw_probs_wide, by = \"subid\") |> \n",
    "  mutate(tx_best = case_when(\n",
    "    prob_patch > prob_combo_nrt & prob_patch > prob_varenicline ~ \"patch\",\n",
    "    prob_combo_nrt > prob_patch & prob_combo_nrt > prob_varenicline ~ \"combo_nrt\",\n",
    "    prob_varenicline > prob_patch & prob_varenicline > prob_combo_nrt ~ \"varenicline\",\n",
    "    TRUE ~ NA_character_\n",
    "  )) |> \n",
    "  mutate(prob_best = case_when(\n",
    "    tx_best == \"patch\" ~ prob_patch,\n",
    "    tx_best == \"combo_nrt\" ~ prob_combo_nrt,\n",
    "    tx_best == \"varenicline\" ~ prob_varenicline,\n",
    "    TRUE ~ NA_real_\n",
    "  )) |> \n",
    "  mutate(tx_best = factor(tx_best, \n",
    "                          levels = c(\n",
    "                            \"patch\",\n",
    "                            \"varenicline\",\n",
    "                            \"combo_nrt\"))) |> \n",
    "  mutate(tx_match = if_else(tx_best == tx_rct, TRUE, FALSE)) |> \n",
    "  left_join(d_outcomes, by = \"subid\") |> \n",
    "  select(-pp_hybrid_wk4_outcome, -pp_hybrid_wk1_outcome, -pp_hybrid_yr3_outcome) |> # already in there from d\n",
    "  rename(outcome_rct_wk12 = pp_hybrid_wk12_outcome,\n",
    "         outcome_rct_wk26 = pp_hybrid_wk26_outcome,\n",
    "         outcome_rct_wk52 = pp_hybrid_wk52_outcome) |> \n",
    "  relocate(subid, tx_rct, tx_best, tx_match,\n",
    "           prob_best, starts_with(\"outcome\"), starts_with(\"prob\"))\n",
    "\n",
    "glimpse(d_aim_2)\n"
   ],
   "id": "01c55517-a839-4043-9d72-652011b62a4e"
  },
  {
   "cell_type": "markdown",
   "metadata": {},
   "source": [
    "Quick EDA checks"
   ],
   "id": "7e4f2236-7e26-41ba-a21d-f5b4290f51ea"
  },
  {
   "cell_type": "code",
   "execution_count": null,
   "metadata": {},
   "outputs": [],
   "source": [
    "# confirm logic worked as expected\n",
    "head(d_aim_2)\n",
    "\n",
    "# check on variability of best tx\n",
    "janitor::tabyl(d_aim_2$tx_best)\n",
    "\n",
    "# check on variability of tx matching\n",
    "janitor::tabyl(d_aim_2$tx_match)\n",
    "\n",
    "# variability of matching within assignned (RCT) tx\n",
    "d_aim_2 |> \n",
    "  group_by(tx_rct) |> \n",
    "  tab(tx_match)\n"
   ],
   "id": "91b1d81f-9ee0-4415-a75f-98f9d6b8c8b2"
  },
  {
   "cell_type": "markdown",
   "metadata": {},
   "source": [
    "Write out"
   ],
   "id": "9f89d7da-470a-434c-a01b-a10f65fd0c34"
  },
  {
   "cell_type": "code",
   "execution_count": null,
   "metadata": {},
   "outputs": [],
   "source": [
    "d_aim_2 |> \n",
    "  write_csv(file.path(path_models, str_c(\"aim_2_\", version, \"_\", \n",
    "                                         y_col_name, \".csv\")))\n",
    "\n",
    "d_aim_2 |> \n",
    "  write_csv(here(\"/objects\", str_c(\"aim_2_\", version, \"_\", \n",
    "                                   y_col_name, \".csv\")))\n"
   ],
   "id": "7718a0ef-c4f8-4c29-8d2f-d847e2c117f6"
  },
  {
   "cell_type": "markdown",
   "metadata": {},
   "source": [
    "### Validity check: Model Calibration\n",
    "\n",
    "Make wide format for all calibrated probabilities"
   ],
   "id": "03dc3bef-0400-448d-92bb-d644c3cf358d"
  },
  {
   "cell_type": "code",
   "execution_count": null,
   "metadata": {},
   "outputs": [],
   "source": [
    "all_probs_wide <- probs |> \n",
    "  rename_with(~ str_replace(.x, \"prob_\", \"\"), .cols = starts_with(\"prob_\")) |> \n",
    "  pivot_wider(\n",
    "    names_from = tx,\n",
    "    values_from = c(raw, beta, iso, logi),\n",
    "    names_glue = \"{.value}_{tx}\"\n",
    "  )\n"
   ],
   "id": "07f81138-a3f1-42db-b129-4123c1f6381e"
  },
  {
   "cell_type": "markdown",
   "metadata": {},
   "source": [
    "Set up validity check data"
   ],
   "id": "0175c317-3ec4-401b-87c9-18dc2b486658"
  },
  {
   "cell_type": "code",
   "execution_count": null,
   "metadata": {},
   "outputs": [],
   "source": [
    "d_valid <- d_aim_2 |> \n",
    "  select(subid, tx_rct, outcome_rct_wk4) |> \n",
    "  left_join(all_probs_wide, by = \"subid\") |> \n",
    "  mutate(beta = case_when(\n",
    "    tx_rct == \"patch\" ~ beta_patch,\n",
    "    tx_rct == \"combo_nrt\" ~ beta_combo_nrt,\n",
    "    tx_rct == \"varenicline\" ~ beta_varenicline,\n",
    "    TRUE ~ NA_real_\n",
    "  ),\n",
    "  raw = case_when(\n",
    "    tx_rct == \"patch\" ~ raw_patch,\n",
    "    tx_rct == \"combo_nrt\" ~ raw_combo_nrt,\n",
    "    tx_rct == \"varenicline\" ~ raw_varenicline,\n",
    "    TRUE ~ NA_real_\n",
    "  ),\n",
    "  isotonic = case_when(\n",
    "    tx_rct == \"patch\" ~ iso_patch,\n",
    "    tx_rct == \"combo_nrt\" ~ iso_combo_nrt,\n",
    "    tx_rct == \"varenicline\" ~ iso_varenicline,\n",
    "    TRUE ~ NA_real_\n",
    "  ),\n",
    "  logistic = case_when(\n",
    "    tx_rct == \"patch\" ~ logi_patch,\n",
    "    tx_rct == \"combo_nrt\" ~ logi_combo_nrt,\n",
    "    tx_rct == \"varenicline\" ~ logi_varenicline,\n",
    "    TRUE ~ NA_real_\n",
    "  )) |> \n",
    "  select(subid, outcome_rct_wk4, beta, raw, isotonic, logistic) \n"
   ],
   "id": "1215484d-c986-4572-b4b3-47ed4f9851cb"
  },
  {
   "cell_type": "markdown",
   "metadata": {},
   "source": [
    "Compare mean abstinence from RCT to predicted probabilities for RCT tx across calibrations"
   ],
   "id": "4c5a9169-8610-4c4b-a45a-00d9a7a84561"
  },
  {
   "cell_type": "code",
   "execution_count": null,
   "metadata": {},
   "outputs": [],
   "source": [
    "d_valid |> \n",
    "  mutate(outcome_rct = if_else(outcome_rct_wk4 == \"abstinent\", 1, 0)) |> \n",
    "  summarize(mean_rct = mean(outcome_rct_wk4),\n",
    "            mean_beta = mean(beta),\n",
    "            mean_iso = mean(isotonic),\n",
    "            mean_logi = mean(logistic),\n",
    "            mean_raw = mean(raw))\n"
   ],
   "id": "6221ce47-baf5-4897-8f46-12e17b486440"
  },
  {
   "cell_type": "markdown",
   "metadata": {},
   "source": [
    "Raw probabilities appear to match the outcome best.\n",
    "\n",
    "#### Plots\n",
    "\n",
    "Pivot data longer for required format"
   ],
   "id": "7834341e-4bf6-4f88-9946-686142b7f0f6"
  },
  {
   "cell_type": "code",
   "execution_count": null,
   "metadata": {},
   "outputs": [],
   "source": [
    "d_plot <- d_valid |> \n",
    "  pivot_longer(\n",
    "    cols = c(beta, raw, isotonic, logistic),\n",
    "    names_to = \"method\",\n",
    "    values_to = \".pred_abstinent\"\n",
    "  )\n"
   ],
   "id": "20c0711f-672e-426a-9cf5-f5331ed876f4"
  },
  {
   "cell_type": "markdown",
   "metadata": {},
   "source": [
    "Make plots by calibration method"
   ],
   "id": "b41c62ac-3e6f-4edd-8e26-28f296ea82f4"
  },
  {
   "cell_type": "code",
   "execution_count": null,
   "metadata": {},
   "outputs": [],
   "source": [
    "d_plot |> \n",
    "  cal_plot_breaks(truth = outcome_rct_wk4, \n",
    "                  estimate = .pred_abstinent,\n",
    "                  .by = method)\n",
    "\n",
    "d_plot |> \n",
    "  cal_plot_windowed(truth = outcome_rct_wk4, \n",
    "                    estimate = .pred_abstinent,\n",
    "                    .by = method)\n"
   ],
   "id": "b53764ec-76b0-4549-96b1-dde3f0c97487"
  },
  {
   "cell_type": "markdown",
   "metadata": {},
   "source": [
    "Raw probabilities appear the most well-calibrated: best aligned with diagonal line, spans the fullest range of bins/windows. Will use raw probabilities for AIM 2 analyses (selected above)."
   ],
   "id": "47e21cc7-99bb-429c-aa3c-9e7b0e11521a"
  }
 ],
 "nbformat": 4,
 "nbformat_minor": 5,
 "metadata": {}
}

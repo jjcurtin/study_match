{
 "cells": [
  {
   "cell_type": "markdown",
   "metadata": {},
   "source": [
    "# Evaluation of Clinical Benefit: Week 4 Model\n",
    "\n",
    "Gaylen Fronk  \n",
    "July 11, 2024"
   ],
   "id": "93a6d035-dd8a-4331-bca6-8b36fb316d25"
  },
  {
   "cell_type": "code",
   "execution_count": null,
   "metadata": {},
   "outputs": [],
   "source": [
    "study <- \"match\"\n",
    "version <- \"v6\"\n",
    "y_col_name <- \"pp_hybrid_wk4_outcome\"\n"
   ],
   "id": "9bbc194f-7ea4-4cbe-8c08-0a435361bfb5"
  },
  {
   "cell_type": "code",
   "execution_count": null,
   "metadata": {},
   "outputs": [
    {
     "output_type": "stream",
     "name": "stderr",
     "text": [
      "── Attaching core tidyverse packages ──────────────────────── tidyverse 2.0.0 ──\n",
      "✔ dplyr     1.1.4     ✔ readr     2.1.5\n",
      "✔ forcats   1.0.0     ✔ stringr   1.5.1\n",
      "✔ ggplot2   3.5.1     ✔ tibble    3.2.1\n",
      "✔ lubridate 1.9.3     ✔ tidyr     1.3.1\n",
      "✔ purrr     1.0.2     \n",
      "── Conflicts ────────────────────────────────────────── tidyverse_conflicts() ──\n",
      "✖ dplyr::filter() masks stats::filter()\n",
      "✖ dplyr::lag()    masks stats::lag()\n",
      "ℹ Use the conflicted package (<http://conflicted.r-lib.org/>) to force all conflicts to become errors"
     ]
    },
    {
     "output_type": "stream",
     "name": "stderr",
     "text": [
      "Loading required package: lme4\n",
      "Loading required package: Matrix\n",
      "\n",
      "Attaching package: 'Matrix'\n",
      "\n",
      "The following objects are masked from 'package:tidyr':\n",
      "\n",
      "    expand, pack, unpack"
     ]
    },
    {
     "output_type": "stream",
     "name": "stderr",
     "text": [
      "ℹ SHA-1 hash of file is \"c045eee2655a18dc85e715b78182f176327358a7\""
     ]
    },
    {
     "output_type": "stream",
     "name": "stderr",
     "text": [
      "ℹ SHA-1 hash of file is \"75cc6f7b855da59c240908bd936834b4da01285b\""
     ]
    }
   ],
   "source": [
    "\n",
    "# packages for script\n",
    "library(tidyverse)\n"
   ],
   "id": "7300fa77-5775-472b-b160-ac271e693309"
  },
  {
   "cell_type": "code",
   "execution_count": null,
   "metadata": {},
   "outputs": [],
   "source": [
    "\n",
    "# handle conflicts\n",
    "options(conflicts.policy = \"depends.ok\")\n"
   ],
   "id": "33d6dd76-12c3-4001-86b1-645099928c73"
  },
  {
   "cell_type": "code",
   "execution_count": null,
   "metadata": {},
   "outputs": [],
   "source": [
    "# absolute paths\n",
    "switch (Sys.info()[['sysname']],\n",
    "        # PC paths\n",
    "        Windows = {\n",
    "          path_models <- str_c(\"P:/studydata/match/models/\", y_col_name)\n",
    "          path_data <- \"P:/studydata/match/processed_data\"},\n",
    "        \n",
    "        # IOS paths\n",
    "        Darwin = {\n",
    "          path_models <- str_c(\"/Volumes/private/studydata/match/models/\",\n",
    "                               y_col_name)\n",
    "          path_data <- \"/Volumes/private/studydata/match/processed_data\"},\n",
    "        \n",
    "        # Linux paths\n",
    "        Linux = {\n",
    "          path_models <- str_c(\"~/mnt/private/studydata/match/models/\",\n",
    "                               y_col_name)\n",
    "          path_data <- \"~/mnt/private/studydata/match/processed_data\"}\n",
    ")\n"
   ],
   "id": "5d118a6b-4ab1-497e-b2f5-f5ff1de10af3"
  },
  {
   "cell_type": "code",
   "execution_count": null,
   "metadata": {},
   "outputs": [],
   "source": [
    "# chunk defaults\n",
    "\n",
    "options(tibble.width = Inf)\n",
    "options(tibble.print_max = Inf)\n"
   ],
   "id": "85045822-4c76-4480-80e1-395e170d7d2a"
  },
  {
   "cell_type": "markdown",
   "metadata": {},
   "source": [
    "Read in aim 2 dataset"
   ],
   "id": "6806bd36-955d-4b46-8bea-3528cb9947f9"
  },
  {
   "cell_type": "code",
   "execution_count": null,
   "metadata": {},
   "outputs": [
    {
     "output_type": "stream",
     "name": "stdout",
     "text": [
      "Rows: 3,258\n",
      "Columns: 14\n",
      "$ subid            <dbl> 20010, 20010, 20010, 20015, 20015, 20015, 20030, 2003…\n",
      "$ tx_rct           <chr> \"patch\", \"patch\", \"patch\", \"combo_nrt\", \"combo_nrt\", …\n",
      "$ tx_best          <chr> \"varenicline\", \"varenicline\", \"varenicline\", \"varenic…\n",
      "$ tx_match         <lgl> FALSE, FALSE, FALSE, FALSE, FALSE, FALSE, FALSE, FALS…\n",
      "$ tx_worst         <chr> \"combo_nrt\", \"combo_nrt\", \"combo_nrt\", \"patch\", \"patc…\n",
      "$ tx_second        <chr> \"patch\", \"patch\", \"patch\", \"combo_nrt\", \"combo_nrt\", …\n",
      "$ tx_rank          <chr> \"second\", \"second\", \"second\", \"second\", \"second\", \"se…\n",
      "$ prob_best        <dbl> 0.2799119, 0.2799119, 0.2799119, 0.5102584, 0.5102584…\n",
      "$ prob_patch       <dbl> 0.2080906, 0.2080906, 0.2080906, 0.4220443, 0.4220443…\n",
      "$ prob_combo_nrt   <dbl> 0.1754414, 0.1754414, 0.1754414, 0.4957828, 0.4957828…\n",
      "$ prob_varenicline <dbl> 0.2799119, 0.2799119, 0.2799119, 0.5102584, 0.5102584…\n",
      "$ week             <dbl> 4, 12, 26, 4, 12, 26, 4, 12, 26, 4, 12, 26, 4, 12, 26…\n",
      "$ outcome_rct_num  <dbl> 0, 0, 0, 0, 0, 0, 0, 0, 0, 0, 1, 1, 0, 0, 0, 0, 0, 0,…\n",
      "$ c_tx_match       <dbl> -0.5, -0.5, -0.5, -0.5, -0.5, -0.5, -0.5, -0.5, -0.5,…"
     ]
    }
   ],
   "source": [
    "d <- read_csv(file.path(path_models, \n",
    "                        str_c(\"aim_2_\", version, \"_\", y_col_name, \".csv\")),\n",
    "              show_col_types = FALSE) |> \n",
    "  mutate(outcome_rct_wk4_num = if_else(outcome_rct_wk4 == \"abstinent\", 1, 0),\n",
    "         outcome_rct_wk12_num = if_else(outcome_rct_wk12 == \"abstinent\", 1, 0),\n",
    "         outcome_rct_wk26_num = if_else(outcome_rct_wk26 == \"abstinent\", 1, 0),\n",
    "         tx_worst = case_when(\n",
    "           prob_patch < prob_combo_nrt & prob_patch < prob_varenicline ~ \"patch\",\n",
    "           prob_combo_nrt < prob_patch & prob_combo_nrt < prob_varenicline ~ \"combo_nrt\",\n",
    "           prob_varenicline < prob_patch & prob_varenicline < prob_combo_nrt ~ \"varenicline\",\n",
    "           TRUE ~ NA_character_),\n",
    "         tx_second = case_when(\n",
    "           tx_worst == \"patch\" & tx_best == \"varenicline\" ~ \"combo_nrt\",\n",
    "           tx_worst == \"patch\" & tx_best == \"combo_nrt\" ~ \"varenicline\",\n",
    "           tx_worst == \"varenicline\" & tx_best == \"patch\" ~ \"combo_nrt\",\n",
    "           tx_worst == \"varenicline\" & tx_best == \"combo_nrt\" ~ \"patch\",\n",
    "           tx_worst == \"combo_nrt\" & tx_best == \"varenicline\" ~ \"patch\",\n",
    "           tx_worst == \"combo_nrt\" & tx_best == \"patch\" ~ \"varenicline\",\n",
    "           TRUE ~ NA_character_)) |> \n",
    "  mutate(tx_rank = case_when(\n",
    "    tx_rct == tx_best ~ \"first\",\n",
    "    tx_rct == tx_second ~ \"second\",\n",
    "    tx_rct == tx_worst ~ \"third\",\n",
    "    TRUE ~ NA_character_)) |> \n",
    "  select(subid, starts_with(\"tx_\"), starts_with(\"prob_\"),\n",
    "         outcome_rct_wk4_num, outcome_rct_wk12_num, outcome_rct_wk26_num) |> \n",
    "  pivot_longer(\n",
    "    cols = c(outcome_rct_wk4_num, outcome_rct_wk12_num, outcome_rct_wk26_num),\n",
    "    names_to = \"week\",\n",
    "    names_pattern = \"(?<=outcome_rct_wk)(.+)(?=_num)\",\n",
    "    values_to = \"outcome_rct_num\"\n",
    "  ) |> \n",
    "  mutate(c_tx_match = if_else(tx_match == TRUE, 0.5, -0.5), # center\n",
    "         week = as.numeric(week))\n",
    "\n",
    "glimpse(d)\n"
   ],
   "id": "78c3e19d-103d-4834-bc77-e07dd99eb148"
  },
  {
   "cell_type": "markdown",
   "metadata": {},
   "source": [
    "Read in start-medication data and join"
   ],
   "id": "044786cf-361f-4625-9c59-b863455838d8"
  },
  {
   "cell_type": "code",
   "execution_count": null,
   "metadata": {},
   "outputs": [
    {
     "output_type": "stream",
     "name": "stdout",
     "text": [
      "Rows: 1,086\n",
      "Columns: 3\n",
      "$ subid         <dbl> 20010, 20015, 20030, 20049, 20051, 20072, 20077, 20086, …\n",
      "$ treatment     <chr> \"patch\", \"combo_nrt\", \"patch\", \"varenicline\", \"patch\", \"…\n",
      "$ used_any_meds <chr> \"started_meds\", \"started_meds\", \"no_meds\", \"started_meds…"
     ]
    },
    {
     "output_type": "stream",
     "name": "stdout",
     "text": [
      "Rows: 3,258\n",
      "Columns: 15\n",
      "$ subid            <dbl> 20010, 20010, 20010, 20015, 20015, 20015, 20030, 2003…\n",
      "$ tx_rct           <chr> \"patch\", \"patch\", \"patch\", \"combo_nrt\", \"combo_nrt\", …\n",
      "$ tx_best          <chr> \"varenicline\", \"varenicline\", \"varenicline\", \"varenic…\n",
      "$ tx_match         <lgl> FALSE, FALSE, FALSE, FALSE, FALSE, FALSE, FALSE, FALS…\n",
      "$ tx_worst         <chr> \"combo_nrt\", \"combo_nrt\", \"combo_nrt\", \"patch\", \"patc…\n",
      "$ tx_second        <chr> \"patch\", \"patch\", \"patch\", \"combo_nrt\", \"combo_nrt\", …\n",
      "$ tx_rank          <chr> \"second\", \"second\", \"second\", \"second\", \"second\", \"se…\n",
      "$ prob_best        <dbl> 0.2799119, 0.2799119, 0.2799119, 0.5102584, 0.5102584…\n",
      "$ prob_patch       <dbl> 0.2080906, 0.2080906, 0.2080906, 0.4220443, 0.4220443…\n",
      "$ prob_combo_nrt   <dbl> 0.1754414, 0.1754414, 0.1754414, 0.4957828, 0.4957828…\n",
      "$ prob_varenicline <dbl> 0.2799119, 0.2799119, 0.2799119, 0.5102584, 0.5102584…\n",
      "$ week             <dbl> 4, 12, 26, 4, 12, 26, 4, 12, 26, 4, 12, 26, 4, 12, 26…\n",
      "$ outcome_rct_num  <dbl> 0, 0, 0, 0, 0, 0, 0, 0, 0, 0, 1, 1, 0, 0, 0, 0, 0, 0,…\n",
      "$ c_tx_match       <dbl> -0.5, -0.5, -0.5, -0.5, -0.5, -0.5, -0.5, -0.5, -0.5,…\n",
      "$ used_any_meds    <chr> \"started_meds\", \"started_meds\", \"started_meds\", \"star…"
     ]
    }
   ],
   "source": [
    "d_med <- read_csv(file.path(path_data, \"match_used_meds_cln.csv\"),\n",
    "                  show_col_types = FALSE)\n",
    "\n",
    "glimpse(d_med)\n"
   ],
   "id": "1b70041f-b0fc-4aea-aba1-5561cee55ab5"
  },
  {
   "cell_type": "markdown",
   "metadata": {},
   "source": [
    "## Analyses"
   ],
   "id": "95b900cd-d433-49b8-9cf2-8395f69503b6"
  },
  {
   "cell_type": "code",
   "execution_count": null,
   "metadata": {},
   "outputs": [],
   "source": [
    "d_wk4 <- d |> \n",
    "  filter(week == 4)\n",
    "\n",
    "d_wk12 <- d |> \n",
    "  filter(week == 12)\n",
    "\n",
    "d_wk26 <- d |> \n",
    "  filter(week == 26)\n"
   ],
   "id": "76b49876-242a-4ee6-88a1-e565248da8e9"
  },
  {
   "cell_type": "markdown",
   "metadata": {},
   "source": [
    "### Primary\n",
    "\n",
    "4 weeks"
   ],
   "id": "517c0b14-1662-4b65-bbf6-c572030ea2c5"
  },
  {
   "cell_type": "code",
   "execution_count": null,
   "metadata": {},
   "outputs": [
    {
     "output_type": "stream",
     "name": "stdout",
     "text": [
      "\n",
      "Call:\n",
      "glm(formula = outcome_rct_num ~ c_tx_match, family = binomial(link = \"logit\"), \n",
      "    data = d_wk4)\n",
      "\n",
      "Coefficients:\n",
      "            Estimate Std. Error z value Pr(>|z|)    \n",
      "(Intercept) -0.61446    0.06601  -9.308   <2e-16 ***\n",
      "c_tx_match   0.32376    0.13202   2.452   0.0142 *  \n",
      "---\n",
      "Signif. codes:  0 '***' 0.001 '**' 0.01 '*' 0.05 '.' 0.1 ' ' 1\n",
      "\n",
      "(Dispersion parameter for binomial family taken to be 1)\n",
      "\n",
      "    Null deviance: 1394.7  on 1085  degrees of freedom\n",
      "Residual deviance: 1388.7  on 1084  degrees of freedom\n",
      "AIC: 1392.7\n",
      "\n",
      "Number of Fisher Scoring iterations: 4"
     ]
    }
   ],
   "source": [
    "model_4wk <- glm(outcome_rct_num ~ c_tx_match, \n",
    "                 data = d_wk4,\n",
    "                 family = binomial(link = \"logit\"))\n",
    "\n",
    "summary(model_4wk)\n"
   ],
   "id": "a14ecdd7-7767-402c-adfd-6b773a437f1f"
  },
  {
   "cell_type": "markdown",
   "metadata": {},
   "source": [
    "12 weeks"
   ],
   "id": "568bbbe1-b03f-4da2-b781-ed67493ca586"
  },
  {
   "cell_type": "code",
   "execution_count": null,
   "metadata": {},
   "outputs": [
    {
     "output_type": "stream",
     "name": "stdout",
     "text": [
      "\n",
      "Call:\n",
      "glm(formula = outcome_rct_num ~ c_tx_match, family = binomial(link = \"logit\"), \n",
      "    data = d_wk12)\n",
      "\n",
      "Coefficients:\n",
      "            Estimate Std. Error z value Pr(>|z|)    \n",
      "(Intercept) -0.87330    0.06908 -12.642   <2e-16 ***\n",
      "c_tx_match   0.16522    0.13816   1.196    0.232    \n",
      "---\n",
      "Signif. codes:  0 '***' 0.001 '**' 0.01 '*' 0.05 '.' 0.1 ' ' 1\n",
      "\n",
      "(Dispersion parameter for binomial family taken to be 1)\n",
      "\n",
      "    Null deviance: 1308.0  on 1085  degrees of freedom\n",
      "Residual deviance: 1306.6  on 1084  degrees of freedom\n",
      "AIC: 1310.6\n",
      "\n",
      "Number of Fisher Scoring iterations: 4"
     ]
    }
   ],
   "source": [
    "model_12wk <- glm(outcome_rct_num ~ c_tx_match, \n",
    "                  data = d_wk12,\n",
    "                  family = binomial(link = \"logit\"))\n",
    "\n",
    "summary(model_12wk)\n"
   ],
   "id": "d472cd41-9c79-472e-ba3d-7bf4315bbbb0"
  },
  {
   "cell_type": "markdown",
   "metadata": {},
   "source": [
    "26 weeks"
   ],
   "id": "5d9c24f3-76b4-4be4-b46a-be08c459354c"
  },
  {
   "cell_type": "code",
   "execution_count": null,
   "metadata": {},
   "outputs": [
    {
     "output_type": "stream",
     "name": "stdout",
     "text": [
      "\n",
      "Call:\n",
      "glm(formula = outcome_rct_num ~ c_tx_match, family = binomial(link = \"logit\"), \n",
      "    data = d_wk26)\n",
      "\n",
      "Coefficients:\n",
      "            Estimate Std. Error z value Pr(>|z|)    \n",
      "(Intercept) -1.11736    0.07337 -15.229   <2e-16 ***\n",
      "c_tx_match  -0.01054    0.14674  -0.072    0.943    \n",
      "---\n",
      "Signif. codes:  0 '***' 0.001 '**' 0.01 '*' 0.05 '.' 0.1 ' ' 1\n",
      "\n",
      "(Dispersion parameter for binomial family taken to be 1)\n",
      "\n",
      "    Null deviance: 1213.6  on 1085  degrees of freedom\n",
      "Residual deviance: 1213.6  on 1084  degrees of freedom\n",
      "AIC: 1217.6\n",
      "\n",
      "Number of Fisher Scoring iterations: 4"
     ]
    }
   ],
   "source": [
    "model_26wk <- glm(outcome_rct_num ~ c_tx_match, \n",
    "                  data = d_wk26,\n",
    "                  family = binomial(link = \"logit\"))\n",
    "\n",
    "summary(model_26wk)\n"
   ],
   "id": "5417dee6-deee-406e-b5b4-6727514bcc17"
  },
  {
   "cell_type": "markdown",
   "metadata": {},
   "source": [
    "### Supplemental analyses: Started medication subset"
   ],
   "id": "67280126-226e-4d7a-ab40-7c962d919d08"
  },
  {
   "cell_type": "code",
   "execution_count": null,
   "metadata": {},
   "outputs": [
    {
     "output_type": "stream",
     "name": "stdout",
     "text": [
      "[1] 2964   15"
     ]
    }
   ],
   "source": [
    "d_meds_only <- d |> \n",
    "  filter(used_any_meds == \"started_meds\")\n",
    "\n",
    "dim(d_meds_only)\n"
   ],
   "id": "0b0ec2d2-1bdb-40f4-b06c-caaaceecc40e"
  },
  {
   "cell_type": "markdown",
   "metadata": {},
   "source": [
    "4 weeks"
   ],
   "id": "28cedea4-760e-4f1f-bd40-28cd910448e1"
  },
  {
   "cell_type": "code",
   "execution_count": null,
   "metadata": {},
   "outputs": [
    {
     "output_type": "stream",
     "name": "stdout",
     "text": [
      "\n",
      "Call:\n",
      "glm(formula = outcome_rct_num ~ c_tx_match, family = binomial(link = \"logit\"), \n",
      "    data = d_meds_wk4)\n",
      "\n",
      "Coefficients:\n",
      "            Estimate Std. Error z value Pr(>|z|)    \n",
      "(Intercept) -0.48304    0.06788  -7.116 1.11e-12 ***\n",
      "c_tx_match   0.30643    0.13576   2.257    0.024 *  \n",
      "---\n",
      "Signif. codes:  0 '***' 0.001 '**' 0.01 '*' 0.05 '.' 0.1 ' ' 1\n",
      "\n",
      "(Dispersion parameter for binomial family taken to be 1)\n",
      "\n",
      "    Null deviance: 1304.7  on 987  degrees of freedom\n",
      "Residual deviance: 1299.6  on 986  degrees of freedom\n",
      "AIC: 1303.6\n",
      "\n",
      "Number of Fisher Scoring iterations: 4"
     ]
    }
   ],
   "source": [
    "model_4wk_meds <- glm(outcome_rct_num ~ c_tx_match, \n",
    "                      data = d_meds_wk4,\n",
    "                      family = binomial(link = \"logit\"))\n",
    "\n",
    "summary(model_4wk_meds)\n"
   ],
   "id": "3cdc2669-05f5-425a-81ea-542909ab3508"
  },
  {
   "cell_type": "markdown",
   "metadata": {},
   "source": [
    "Still significant, slightly smaller estimate\n",
    "\n",
    "12 weeks"
   ],
   "id": "eb3e07bb-080d-48c0-a420-fa4995832cf7"
  },
  {
   "cell_type": "code",
   "execution_count": null,
   "metadata": {},
   "outputs": [
    {
     "output_type": "stream",
     "name": "stdout",
     "text": [
      "\n",
      "Call:\n",
      "glm(formula = outcome_rct_num ~ c_tx_match, family = binomial(link = \"logit\"), \n",
      "    data = d_meds_wk12)\n",
      "\n",
      "Coefficients:\n",
      "            Estimate Std. Error z value Pr(>|z|)    \n",
      "(Intercept) -0.75888    0.07068 -10.737   <2e-16 ***\n",
      "c_tx_match   0.14806    0.14136   1.047    0.295    \n",
      "---\n",
      "Signif. codes:  0 '***' 0.001 '**' 0.01 '*' 0.05 '.' 0.1 ' ' 1\n",
      "\n",
      "(Dispersion parameter for binomial family taken to be 1)\n",
      "\n",
      "    Null deviance: 1230.8  on 987  degrees of freedom\n",
      "Residual deviance: 1229.7  on 986  degrees of freedom\n",
      "AIC: 1233.7\n",
      "\n",
      "Number of Fisher Scoring iterations: 4"
     ]
    }
   ],
   "source": [
    "model_12wk_meds <- glm(outcome_rct_num ~ c_tx_match, \n",
    "                       data = d_meds_wk12,\n",
    "                       family = binomial(link = \"logit\"))\n",
    "\n",
    "summary(model_12wk_meds)\n"
   ],
   "id": "473942b8-242a-4862-994e-dfeda7a9b6b3"
  },
  {
   "cell_type": "markdown",
   "metadata": {},
   "source": [
    "Still non-significant\n",
    "\n",
    "26 weeks"
   ],
   "id": "03d419a5-bac9-4b8c-a8b5-d56816981428"
  },
  {
   "cell_type": "code",
   "execution_count": null,
   "metadata": {},
   "outputs": [
    {
     "output_type": "stream",
     "name": "stdout",
     "text": [
      "\n",
      "Call:\n",
      "glm(formula = outcome_rct_num ~ c_tx_match, family = binomial(link = \"logit\"), \n",
      "    data = d_meds_wk26)\n",
      "\n",
      "Coefficients:\n",
      "            Estimate Std. Error z value Pr(>|z|)    \n",
      "(Intercept) -1.00618    0.07465 -13.478   <2e-16 ***\n",
      "c_tx_match  -0.01841    0.14930  -0.123    0.902    \n",
      "---\n",
      "Signif. codes:  0 '***' 0.001 '**' 0.01 '*' 0.05 '.' 0.1 ' ' 1\n",
      "\n",
      "(Dispersion parameter for binomial family taken to be 1)\n",
      "\n",
      "    Null deviance: 1149  on 987  degrees of freedom\n",
      "Residual deviance: 1149  on 986  degrees of freedom\n",
      "AIC: 1153\n",
      "\n",
      "Number of Fisher Scoring iterations: 4"
     ]
    }
   ],
   "source": [
    "model_26wk_meds <- glm(outcome_rct_num ~ c_tx_match, \n",
    "                       data = d_meds_wk26,\n",
    "                       family = binomial(link = \"logit\"))\n",
    "\n",
    "summary(model_26wk_meds)\n"
   ],
   "id": "b07fd3d1-56b7-481e-9806-ca8915d17bbe"
  },
  {
   "cell_type": "markdown",
   "metadata": {},
   "source": [
    "Still non-significant\n",
    "\n",
    "### Supplemental analyses: Treatment rank"
   ],
   "id": "a3f7a71f-524a-4f96-9688-7f9add092b73"
  },
  {
   "cell_type": "code",
   "execution_count": null,
   "metadata": {},
   "outputs": [],
   "source": [
    "d <- d |> \n",
    "  mutate(tx_rank_1v23 = case_match(tx_rank,\n",
    "                                   \"first\" ~ 2/3,\n",
    "                                   c(\"second\", \"third\") ~ -1/3),\n",
    "         tx_rank_2v3 = case_match(tx_rank, \n",
    "                                  \"first\" ~ 0,\n",
    "                                  \"third\" ~ -.5,\n",
    "                                  \"second\" ~ .5))\n",
    "\n",
    "d_wk4 <- d |> \n",
    "  filter(week == 4)\n",
    "\n",
    "d_wk12 <- d |> \n",
    "  filter(week == 12)\n",
    "\n",
    "d_wk26 <- d |> \n",
    "  filter(week == 26)\n"
   ],
   "id": "7fe3a7b2-3895-4e5b-980e-6b2b5c34ab3f"
  },
  {
   "cell_type": "markdown",
   "metadata": {},
   "source": [
    "4 weeks"
   ],
   "id": "66e536fe-77ca-409b-81d9-60898239d720"
  },
  {
   "cell_type": "code",
   "execution_count": null,
   "metadata": {},
   "outputs": [
    {
     "output_type": "stream",
     "name": "stdout",
     "text": [
      "\n",
      "Call:\n",
      "glm(formula = outcome_rct_num ~ tx_rank_1v23 + tx_rank_2v3, family = binomial(link = \"logit\"), \n",
      "    data = d_wk4)\n",
      "\n",
      "Coefficients:\n",
      "             Estimate Std. Error z value Pr(>|z|)    \n",
      "(Intercept)  -0.66820    0.06450 -10.360   <2e-16 ***\n",
      "tx_rank_1v23  0.32342    0.13203   2.450   0.0143 *  \n",
      "tx_rank_2v3   0.03144    0.16334   0.192   0.8474    \n",
      "---\n",
      "Signif. codes:  0 '***' 0.001 '**' 0.01 '*' 0.05 '.' 0.1 ' ' 1\n",
      "\n",
      "(Dispersion parameter for binomial family taken to be 1)\n",
      "\n",
      "    Null deviance: 1394.7  on 1085  degrees of freedom\n",
      "Residual deviance: 1388.6  on 1083  degrees of freedom\n",
      "AIC: 1394.6\n",
      "\n",
      "Number of Fisher Scoring iterations: 4"
     ]
    }
   ],
   "source": [
    "model_4wk_rank <- glm(outcome_rct_num ~ tx_rank_1v23 + tx_rank_2v3, \n",
    "                 data = d_wk4,\n",
    "                 family = binomial(link = \"logit\"))\n",
    "\n",
    "summary(model_4wk_rank)\n"
   ],
   "id": "2216b522-b4b4-4d07-a08f-3b6f152f5a8e"
  },
  {
   "cell_type": "markdown",
   "metadata": {},
   "source": [
    "12 weeks"
   ],
   "id": "4745428d-8ebd-4c9b-980e-ed08a16e2403"
  },
  {
   "cell_type": "code",
   "execution_count": null,
   "metadata": {},
   "outputs": [
    {
     "output_type": "stream",
     "name": "stdout",
     "text": [
      "\n",
      "Call:\n",
      "glm(formula = outcome_rct_num ~ tx_rank_1v23 + tx_rank_2v3, family = binomial(link = \"logit\"), \n",
      "    data = d_wk12)\n",
      "\n",
      "Coefficients:\n",
      "             Estimate Std. Error z value Pr(>|z|)    \n",
      "(Intercept)  -0.90187    0.06723 -13.415   <2e-16 ***\n",
      "tx_rank_1v23  0.16678    0.13822   1.207    0.228    \n",
      "tx_rank_2v3  -0.09021    0.16959  -0.532    0.595    \n",
      "---\n",
      "Signif. codes:  0 '***' 0.001 '**' 0.01 '*' 0.05 '.' 0.1 ' ' 1\n",
      "\n",
      "(Dispersion parameter for binomial family taken to be 1)\n",
      "\n",
      "    Null deviance: 1308.0  on 1085  degrees of freedom\n",
      "Residual deviance: 1306.3  on 1083  degrees of freedom\n",
      "AIC: 1312.3\n",
      "\n",
      "Number of Fisher Scoring iterations: 4"
     ]
    }
   ],
   "source": [
    "model_12wk_rank <- glm(outcome_rct_num ~ tx_rank_1v23 + tx_rank_2v3, \n",
    "                  data = d_wk12,\n",
    "                  family = binomial(link = \"logit\"))\n",
    "\n",
    "summary(model_12wk_rank)\n"
   ],
   "id": "3ec0ed9b-1142-4df4-b9fa-3c9ffc668b01"
  },
  {
   "cell_type": "markdown",
   "metadata": {},
   "source": [
    "26 weeks"
   ],
   "id": "c8300183-98cf-42a1-aab4-861ef1db7311"
  },
  {
   "cell_type": "code",
   "execution_count": null,
   "metadata": {},
   "outputs": [
    {
     "output_type": "stream",
     "name": "stdout",
     "text": [
      "\n",
      "Call:\n",
      "glm(formula = outcome_rct_num ~ tx_rank_1v23 + tx_rank_2v3, family = binomial(link = \"logit\"), \n",
      "    data = d_wk12)\n",
      "\n",
      "Coefficients:\n",
      "             Estimate Std. Error z value Pr(>|z|)    \n",
      "(Intercept)  -0.90187    0.06723 -13.415   <2e-16 ***\n",
      "tx_rank_1v23  0.16678    0.13822   1.207    0.228    \n",
      "tx_rank_2v3  -0.09021    0.16959  -0.532    0.595    \n",
      "---\n",
      "Signif. codes:  0 '***' 0.001 '**' 0.01 '*' 0.05 '.' 0.1 ' ' 1\n",
      "\n",
      "(Dispersion parameter for binomial family taken to be 1)\n",
      "\n",
      "    Null deviance: 1308.0  on 1085  degrees of freedom\n",
      "Residual deviance: 1306.3  on 1083  degrees of freedom\n",
      "AIC: 1312.3\n",
      "\n",
      "Number of Fisher Scoring iterations: 4"
     ]
    }
   ],
   "source": [
    "model_26wk_rank <- glm(outcome_rct_num ~ tx_rank_1v23 + tx_rank_2v3, \n",
    "                  data = d_wk12,\n",
    "                  family = binomial(link = \"logit\"))\n",
    "\n",
    "summary(model_26wk_rank)\n"
   ],
   "id": "f058c05d-ba25-4c0e-9261-72c50c91570b"
  },
  {
   "cell_type": "markdown",
   "metadata": {},
   "source": [
    "## Figures\n",
    "\n",
    "Primary figure"
   ],
   "id": "6cb1185a-ba96-4d45-9bb7-e4cf502ea202"
  },
  {
   "cell_type": "code",
   "execution_count": null,
   "metadata": {},
   "outputs": [
    {
     "output_type": "stream",
     "name": "stderr",
     "text": [
      "`summarise()` has grouped output by 'week_cat'. You can override using the\n",
      "`.groups` argument."
     ]
    },
    {
     "output_type": "display_data",
     "metadata": {},
     "data": {
      "image/png": "[encoded data removed]"
     }
    }
   ],
   "source": [
    "\n",
    "fig_clin_ben_wk4 <- d |> \n",
    "  mutate(week_cat = factor(week,\n",
    "                           levels = c(4, 12, 26),\n",
    "                           labels = c(\"Week 4\", \"Week 12\", \"Week 26\")),\n",
    "         tx_match = factor(tx_match, \n",
    "                           levels = c(TRUE, FALSE),\n",
    "                           labels = c(\"Best Treatment\", \"Other Treatment\"))) |> \n",
    "  group_by(week_cat, tx_match) |> \n",
    "  summarize(mean_outcome = mean(outcome_rct_num),\n",
    "            sd_outcome = sd(outcome_rct_num),\n",
    "            n_group = n()) |> \n",
    "  mutate(se_outcome = (sd_outcome / sqrt(n_group))) |> \n",
    "  ggplot(aes(x = week_cat, y = mean_outcome, fill = tx_match)) +\n",
    "  geom_col(position = \"dodge\") +\n",
    "  geom_errorbar(aes(ymin = mean_outcome - se_outcome, \n",
    "                    ymax = mean_outcome + se_outcome,\n",
    "                    x = week_cat),\n",
    "                position = position_dodge(width = 0.9),\n",
    "                width = 0.5) +\n",
    "  scale_y_continuous(limits = c(0, 0.45)) +\n",
    "  labs(\n",
    "    x = \"Week On-Study\",\n",
    "    y = \"Mean Abstinence Rate\",\n",
    "    fill = \"Treatment Matching\"\n",
    "  )\n"
   ],
   "id": "cell-fig-clin-ben-wk4"
  },
  {
   "cell_type": "markdown",
   "metadata": {},
   "source": [
    "Primary figure (replicated for supplement)"
   ],
   "id": "876f0868-6ea9-488a-9396-022ee6318c20"
  },
  {
   "cell_type": "code",
   "execution_count": null,
   "metadata": {},
   "outputs": [
    {
     "output_type": "stream",
     "name": "stderr",
     "text": [
      "`summarise()` has grouped output by 'week_cat'. You can override using the\n",
      "`.groups` argument."
     ]
    },
    {
     "output_type": "display_data",
     "metadata": {},
     "data": {
      "image/png": "[encoded data removed]"
     }
    }
   ],
   "source": [
    "\n",
    "fig_clin_ben_wk4_supp <- d |> \n",
    "  mutate(week_cat = factor(week,\n",
    "                           levels = c(4, 12, 26),\n",
    "                           labels = c(\"Week 4\", \"Week 12\", \"Week 26\")),\n",
    "         tx_match = factor(tx_match, \n",
    "                           levels = c(TRUE, FALSE),\n",
    "                           labels = c(\"Best Treatment\", \"Other Treatment\"))) |> \n",
    "  group_by(week_cat, tx_match) |> \n",
    "  summarize(mean_outcome = mean(outcome_rct_num),\n",
    "            sd_outcome = sd(outcome_rct_num),\n",
    "            n_group = n()) |> \n",
    "  mutate(se_outcome = (sd_outcome / sqrt(n_group))) |> \n",
    "  ggplot(aes(x = week_cat, y = mean_outcome, fill = tx_match)) +\n",
    "  geom_col(position = \"dodge\") +\n",
    "  geom_errorbar(aes(ymin = mean_outcome - se_outcome, \n",
    "                    ymax = mean_outcome + se_outcome,\n",
    "                    x = week_cat),\n",
    "                position = position_dodge(width = 0.9),\n",
    "                width = 0.5) +\n",
    "  scale_y_continuous(limits = c(0, 0.45)) +\n",
    "  labs(\n",
    "    x = \"Week On-Study\",\n",
    "    y = \"Mean Abstinence Rate\",\n",
    "    fill = \"Treatment Matching\"\n",
    "  )\n"
   ],
   "id": "cell-fig-clin-ben-wk4-supp"
  },
  {
   "cell_type": "markdown",
   "metadata": {},
   "source": [
    "Supplemental figure: Started medication subset"
   ],
   "id": "dd0a5e06-1206-44e6-ba59-41a3825e6ee0"
  },
  {
   "cell_type": "code",
   "execution_count": null,
   "metadata": {},
   "outputs": [
    {
     "output_type": "stream",
     "name": "stderr",
     "text": [
      "`summarise()` has grouped output by 'week_cat'. You can override using the\n",
      "`.groups` argument."
     ]
    },
    {
     "output_type": "display_data",
     "metadata": {},
     "data": {
      "image/png": "[encoded data removed]"
     }
    }
   ],
   "source": [
    "\n",
    "fig_med_subset_wk4_supp <- d_meds_only |> \n",
    "  mutate(week_cat = factor(week,\n",
    "                           levels = c(4, 12, 26),\n",
    "                           labels = c(\"Week 4\", \"Week 12\", \"Week 26\")),\n",
    "         tx_match = factor(tx_match, \n",
    "                           levels = c(TRUE, FALSE),\n",
    "                           labels = c(\"Best Treatment\", \"Other Treatment\"))) |> \n",
    "  group_by(week_cat, tx_match) |> \n",
    "  summarize(mean_outcome = mean(outcome_rct_num),\n",
    "            sd_outcome = sd(outcome_rct_num),\n",
    "            n_group = n()) |> \n",
    "  mutate(se_outcome = (sd_outcome / sqrt(n_group))) |> \n",
    "  ggplot(aes(x = week_cat, y = mean_outcome, fill = tx_match)) +\n",
    "  geom_col(position = \"dodge\") +\n",
    "  geom_errorbar(aes(ymin = mean_outcome - se_outcome, \n",
    "                    ymax = mean_outcome + se_outcome,\n",
    "                    x = week_cat),\n",
    "                position = position_dodge(width = 0.9),\n",
    "                width = 0.5) +\n",
    "  scale_y_continuous(limits = c(0, 0.45)) +\n",
    "  labs(\n",
    "    x = \"Week On-Study\",\n",
    "    y = \"Mean Abstinence Rate\",\n",
    "    fill = \"Treatment Matching\"\n",
    "  )\n"
   ],
   "id": "cell-fig-med-subset-wk4-supp"
  },
  {
   "cell_type": "markdown",
   "metadata": {},
   "source": [
    "Supplemental figure: Treatment rank"
   ],
   "id": "21bea4bd-02d6-452c-880f-c41457f76dd3"
  },
  {
   "cell_type": "code",
   "execution_count": null,
   "metadata": {},
   "outputs": [
    {
     "output_type": "stream",
     "name": "stderr",
     "text": [
      "`summarise()` has grouped output by 'week_cat'. You can override using the\n",
      "`.groups` argument."
     ]
    },
    {
     "output_type": "display_data",
     "metadata": {},
     "data": {
      "image/png": "[encoded data removed]"
     }
    }
   ],
   "source": [
    "\n",
    "fig_rank_wk4_supp <- d |> \n",
    "  mutate(week_cat = factor(week,\n",
    "                           levels = c(4, 12, 26),\n",
    "                           labels = c(\"Week 4\", \"Week 12\", \"Week 26\")),\n",
    "         tx_rank = factor(tx_rank, \n",
    "                           levels = c(\"first\", \"second\", \"third\"),\n",
    "                           labels = c(\"Best Treatment\", \"Second-best Treatment\",\n",
    "                                      \"Worst Treatment\"))) |> \n",
    "  group_by(week_cat, tx_rank) |> \n",
    "  summarize(mean_outcome = mean(outcome_rct_num),\n",
    "            sd_outcome = sd(outcome_rct_num),\n",
    "            n_group = n()) |> \n",
    "  mutate(se_outcome = (sd_outcome / sqrt(n_group))) |> \n",
    "  ggplot(aes(x = week_cat, y = mean_outcome, fill = tx_rank)) +\n",
    "  geom_col(position = \"dodge\") +\n",
    "  geom_errorbar(aes(ymin = mean_outcome - se_outcome, \n",
    "                    ymax = mean_outcome + se_outcome,\n",
    "                    x = week_cat),\n",
    "                position = position_dodge(width = 0.9),\n",
    "                width = 0.5) +\n",
    "  scale_y_continuous(limits = c(0, 0.45)) +\n",
    "  labs(\n",
    "    x = \"Week On-Study\",\n",
    "    y = \"Mean Abstinence Rate\",\n",
    "    fill = \"Treatment Rank\"\n",
    "  )\n"
   ],
   "id": "cell-fig-rank-wk4-supp"
  }
 ],
 "nbformat": 4,
 "nbformat_minor": 5,
 "metadata": {}
}

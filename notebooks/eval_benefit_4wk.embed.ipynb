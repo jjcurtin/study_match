{
 "cells": [
  {
   "cell_type": "markdown",
   "metadata": {},
   "source": [
    "# Preregistration: Evaluation of Clinical Benefit\n",
    "\n",
    "Gaylen Fronk  \n",
    "May 13, 2024"
   ],
   "id": "b4a4a128-e187-4789-bb91-54e710bcb14f"
  },
  {
   "cell_type": "code",
   "execution_count": null,
   "metadata": {},
   "outputs": [],
   "source": [
    "study <- params$study\n",
    "version <- params$version\n",
    "y_col_name <- params$y_col_name"
   ],
   "id": "77f46c1f-547d-4f72-825f-29ed20cc80e1"
  },
  {
   "cell_type": "code",
   "execution_count": null,
   "metadata": {},
   "outputs": [
    {
     "output_type": "stream",
     "name": "stderr",
     "text": [
      "── Attaching core tidyverse packages ──────────────────────── tidyverse 2.0.0 ──\n",
      "✔ dplyr     1.1.4     ✔ readr     2.1.5\n",
      "✔ forcats   1.0.0     ✔ stringr   1.5.1\n",
      "✔ ggplot2   3.5.1     ✔ tibble    3.2.1\n",
      "✔ lubridate 1.9.3     ✔ tidyr     1.3.1\n",
      "✔ purrr     1.0.2     \n",
      "── Conflicts ────────────────────────────────────────── tidyverse_conflicts() ──\n",
      "✖ dplyr::filter() masks stats::filter()\n",
      "✖ dplyr::lag()    masks stats::lag()\n",
      "ℹ Use the conflicted package (<http://conflicted.r-lib.org/>) to force all conflicts to become errors"
     ]
    },
    {
     "output_type": "stream",
     "name": "stderr",
     "text": [
      "Loading required package: lme4\n",
      "Loading required package: Matrix\n",
      "\n",
      "Attaching package: 'Matrix'\n",
      "\n",
      "The following objects are masked from 'package:tidyr':\n",
      "\n",
      "    expand, pack, unpack"
     ]
    },
    {
     "output_type": "stream",
     "name": "stderr",
     "text": [
      "ℹ SHA-1 hash of file is \"c045eee2655a18dc85e715b78182f176327358a7\""
     ]
    },
    {
     "output_type": "stream",
     "name": "stderr",
     "text": [
      "ℹ SHA-1 hash of file is \"b58b9e0adc05e89609ee8bc6f20c39375b262fe6\""
     ]
    }
   ],
   "source": [
    "#| message: false\n",
    "#| warning: false\n",
    "\n",
    "# packages for script\n",
    "library(tidyverse)"
   ],
   "id": "037aa253-4aeb-42e0-9b5f-b1c685030405"
  },
  {
   "cell_type": "code",
   "execution_count": null,
   "metadata": {},
   "outputs": [],
   "source": [
    "#| message: false\n",
    "#| warning: false\n",
    "\n",
    "# handle conflicts\n",
    "options(conflicts.policy = \"depends.ok\")"
   ],
   "id": "a91d148f-5501-4831-a0aa-d74aa2b6eb1d"
  },
  {
   "cell_type": "code",
   "execution_count": null,
   "metadata": {},
   "outputs": [],
   "source": [
    "# absolute paths\n",
    "switch (Sys.info()[['sysname']],\n",
    "        # PC paths\n",
    "        Windows = {\n",
    "          path_models <- str_c(\"P:/studydata/match/models/\", y_col_name)},\n",
    "        \n",
    "        # IOS paths\n",
    "        Darwin = {\n",
    "          path_models <- str_c(\"/Volumes/private/studydata/match/models/\", y_col_name)},\n",
    "        \n",
    "        # Linux paths\n",
    "        Linux = {\n",
    "          path_models <- str_c(\"~/mnt/private/studydata/match/models/\", y_col_name)}\n",
    ")"
   ],
   "id": "7a929f81-a6d4-49d7-a2d2-611680a1dfba"
  },
  {
   "cell_type": "code",
   "execution_count": null,
   "metadata": {},
   "outputs": [],
   "source": [
    "# chunk defaults\n",
    "\n",
    "options(tibble.width = Inf)\n",
    "options(tibble.print_max = Inf)"
   ],
   "id": "d00853e5-878f-4e2e-ba74-8910435dc98c"
  },
  {
   "cell_type": "markdown",
   "metadata": {},
   "source": [
    "Read in aim 2 dataset"
   ],
   "id": "822a1e56-b8e3-4cfc-a93b-a78a7827af94"
  },
  {
   "cell_type": "code",
   "execution_count": null,
   "metadata": {},
   "outputs": [
    {
     "output_type": "stream",
     "name": "stdout",
     "text": [
      "Rows: 3,258\n",
      "Columns: 16\n",
      "$ subid            <dbl> 20010, 20010, 20010, 20015, 20015, 20015, 20030, 2003…\n",
      "$ tx_rct           <chr> \"patch\", \"patch\", \"patch\", \"combo_nrt\", \"combo_nrt\", …\n",
      "$ tx_best          <chr> \"varenicline\", \"varenicline\", \"varenicline\", \"varenic…\n",
      "$ tx_match         <lgl> FALSE, FALSE, FALSE, FALSE, FALSE, FALSE, FALSE, FALS…\n",
      "$ tx_worst         <chr> \"combo_nrt\", \"combo_nrt\", \"combo_nrt\", \"patch\", \"patc…\n",
      "$ tx_second        <chr> \"patch\", \"patch\", \"patch\", \"combo_nrt\", \"combo_nrt\", …\n",
      "$ tx_rank          <chr> \"second\", \"second\", \"second\", \"second\", \"second\", \"se…\n",
      "$ prob_best        <dbl> 0.2646638, 0.2646638, 0.2646638, 0.4846121, 0.4846121…\n",
      "$ prob_patch       <dbl> 0.2007715, 0.2007715, 0.2007715, 0.4175508, 0.4175508…\n",
      "$ prob_combo_nrt   <dbl> 0.1845281, 0.1845281, 0.1845281, 0.4643572, 0.4643572…\n",
      "$ prob_varenicline <dbl> 0.2646638, 0.2646638, 0.2646638, 0.4846121, 0.4846121…\n",
      "$ week             <dbl> 4, 12, 26, 4, 12, 26, 4, 12, 26, 4, 12, 26, 4, 12, 26…\n",
      "$ outcome_rct_num  <dbl> 0, 0, 0, 0, 0, 0, 0, 0, 0, 0, 1, 1, 0, 0, 0, 0, 0, 0,…\n",
      "$ c_tx_match       <dbl> -0.5, -0.5, -0.5, -0.5, -0.5, -0.5, -0.5, -0.5, -0.5,…\n",
      "$ week_log_2       <dbl> 2.000000, 3.584963, 4.700440, 2.000000, 3.584963, 4.7…\n",
      "$ c4_week_log_2    <dbl> 0.000000, 1.584963, 2.700440, 0.000000, 1.584963, 2.7…"
     ]
    }
   ],
   "source": [
    "d <- read_csv(file.path(path_models, \n",
    "                        str_c(\"aim_2_\", version, \"_\", y_col_name, \".csv\")),\n",
    "              show_col_types = FALSE) |> \n",
    "  mutate(outcome_rct_wk4_num = if_else(outcome_rct_wk4 == \"abstinent\", 1, 0),\n",
    "         outcome_rct_wk12_num = if_else(outcome_rct_wk12 == \"abstinent\", 1, 0),\n",
    "         outcome_rct_wk26_num = if_else(outcome_rct_wk26 == \"abstinent\", 1, 0),\n",
    "         tx_worst = case_when(\n",
    "           prob_patch < prob_combo_nrt & prob_patch < prob_varenicline ~ \"patch\",\n",
    "           prob_combo_nrt < prob_patch & prob_combo_nrt < prob_varenicline ~ \"combo_nrt\",\n",
    "           prob_varenicline < prob_patch & prob_varenicline < prob_combo_nrt ~ \"varenicline\",\n",
    "           TRUE ~ NA_character_),\n",
    "         tx_second = case_when(\n",
    "           tx_worst == \"patch\" & tx_best == \"varenicline\" ~ \"combo_nrt\",\n",
    "           tx_worst == \"patch\" & tx_best == \"combo_nrt\" ~ \"varenicline\",\n",
    "           tx_worst == \"varenicline\" & tx_best == \"patch\" ~ \"combo_nrt\",\n",
    "           tx_worst == \"varenicline\" & tx_best == \"combo_nrt\" ~ \"patch\",\n",
    "           tx_worst == \"combo_nrt\" & tx_best == \"varenicline\" ~ \"patch\",\n",
    "           tx_worst == \"combo_nrt\" & tx_best == \"patch\" ~ \"varenicline\",\n",
    "           TRUE ~ NA_character_)) |> \n",
    "  mutate(tx_rank = case_when(\n",
    "    tx_rct == tx_best ~ \"first\",\n",
    "    tx_rct == tx_second ~ \"second\",\n",
    "    tx_rct == tx_worst ~ \"third\",\n",
    "    TRUE ~ NA_character_)) |> \n",
    "  select(subid, starts_with(\"tx_\"), starts_with(\"prob_\"),\n",
    "         outcome_rct_wk4_num, outcome_rct_wk12_num, outcome_rct_wk26_num) |> \n",
    "  pivot_longer(\n",
    "    cols = c(outcome_rct_wk4_num, outcome_rct_wk12_num, outcome_rct_wk26_num),\n",
    "    names_to = \"week\",\n",
    "    names_pattern = \"(?<=outcome_rct_wk)(.+)(?=_num)\",\n",
    "    values_to = \"outcome_rct_num\"\n",
    "  ) |> \n",
    "  mutate(c_tx_match = if_else(tx_match == TRUE, 0.5, -0.5), # center\n",
    "         week = as.numeric(week)) |> \n",
    "  # log transformation\n",
    "  mutate(week_log_2 = log(week, base = 2)) |> \n",
    "  # week 4-centered log transformation\n",
    "  mutate(c4_week_log_2 = week_log_2 - log(4, base = 2))\n",
    "\n",
    "glimpse(d)"
   ],
   "id": "a6690e1b-8fad-4ebf-9292-521492ac3833"
  },
  {
   "cell_type": "markdown",
   "metadata": {},
   "source": [
    "## Analyses\n",
    "\n",
    "### Primary model\n",
    "\n",
    "*NOTE*: differs from preregistration (base 2 instead of base e)\n",
    "\n",
    "4-week-centered, log-transformed week (base 2)"
   ],
   "id": "99e1229b-a6b8-4dbc-8f8a-09d74d55bd66"
  },
  {
   "cell_type": "code",
   "execution_count": null,
   "metadata": {},
   "outputs": [
    {
     "output_type": "stream",
     "name": "stderr",
     "text": [
      "Model already exists for version v5. Reading in existing model"
     ]
    }
   ],
   "source": [
    "if(file.exists(file.path(path_models, \n",
    "                         str_c(\"model_clin_benefit_\", version, \".rds\")))){\n",
    "  message(str_c(\"Model already exists for version \", \n",
    "                version, \". Reading in existing model\"))\n",
    "  \n",
    "  model_bayes <- read_rds(file.path(path_models, \n",
    "                                    str_c(\"model_clin_benefit_\", version, \".rds\")))\n",
    "  \n",
    "} else {\n",
    "  message(\"Fitting new model & saving out\")\n",
    "  model_bayes <- blme::bglmer(outcome_rct_num ~ c_tx_match * c4_week_log_2 + \n",
    "                                (1 + c4_week_log_2 | subid),\n",
    "                              data = d,\n",
    "                              family = binomial(link = \"logit\"),\n",
    "                              control = glmerControl(optCtrl = list(maxfun = 3e6)))\n",
    "  \n",
    "  model_bayes |> \n",
    "    write_rds(file.path(path_models, \n",
    "                        str_c(\"model_clin_benefit_\", version, \".rds\")))\n",
    "}"
   ],
   "id": "b0b0059a-ba8c-43c0-a79b-1f197617b2ba"
  },
  {
   "cell_type": "markdown",
   "metadata": {},
   "source": [
    "Evaluate model"
   ],
   "id": "5aff4fc9-2ec8-4570-8f26-828c4da42f8d"
  },
  {
   "cell_type": "code",
   "execution_count": null,
   "metadata": {},
   "outputs": [
    {
     "output_type": "stream",
     "name": "stdout",
     "text": [
      "Cov prior  : subid ~ wishart(df = 4.5, scale = Inf, posterior.scale = cov, common.scale = TRUE)\n",
      "Prior dev  : -1.5157\n",
      "\n",
      "Generalized linear mixed model fit by maximum likelihood (Laplace\n",
      "  Approximation) [bglmerMod]\n",
      " Family: binomial  ( logit )\n",
      "Formula: outcome_rct_num ~ c_tx_match * c4_week_log_2 + (1 + c4_week_log_2 |  \n",
      "    subid)\n",
      "   Data: d\n",
      "Control: glmerControl(optCtrl = list(maxfun = 3e+06))\n",
      "\n",
      "     AIC      BIC   logLik deviance df.resid \n",
      "  3045.9   3088.6  -1516.0   3031.9     3251 \n",
      "\n",
      "Scaled residuals: \n",
      "     Min       1Q   Median       3Q      Max \n",
      "-1.60825 -0.32784 -0.06676  0.17412  1.59916 \n",
      "\n",
      "Random effects:\n",
      " Groups Name          Variance Std.Dev. Corr\n",
      " subid  (Intercept)   3.977    1.994        \n",
      "        c4_week_log_2 5.848    2.418    0.94\n",
      "Number of obs: 3258, groups:  subid, 1086\n",
      "\n",
      "Fixed effects:\n",
      "                         Estimate Std. Error z value Pr(>|z|)    \n",
      "(Intercept)              -1.05563    0.16229  -6.505 7.79e-11 ***\n",
      "c_tx_match                1.46351    0.25949   5.640 1.70e-08 ***\n",
      "c4_week_log_2            -1.52052    0.15285  -9.948  < 2e-16 ***\n",
      "c_tx_match:c4_week_log_2 -0.04555    0.21204  -0.215     0.83    \n",
      "---\n",
      "Signif. codes:  0 '***' 0.001 '**' 0.01 '*' 0.05 '.' 0.1 ' ' 1\n",
      "\n",
      "Correlation of Fixed Effects:\n",
      "            (Intr) c_tx_m c4___2\n",
      "c_tx_match  -0.301              \n",
      "c4_wek_lg_2 -0.142  0.216       \n",
      "c_tx_:4___2  0.247  0.000 -0.009"
     ]
    }
   ],
   "source": [
    "summary(model_bayes)"
   ],
   "id": "b19f0f6a-528d-4b4a-92d9-1c15fa0da75d"
  },
  {
   "cell_type": "markdown",
   "metadata": {},
   "source": [
    "### Follow-up analyses: Simple Effects\n",
    "\n",
    "From preregistration: If the interaction between `tx_match` and `week` is significant (*p* \\< 0.05), we will conduct follow-up analyses to test the simple effect of `tx_match` at each time point.\n",
    "\n",
    "Interaction between `tx_match` and `week` was not significant (*p* = 0.83), so no follow-up analyses of simple effects are needed.\n",
    "\n",
    "## Figure"
   ],
   "id": "95425d37-f549-4032-a830-97a56ffbd9d5"
  },
  {
   "cell_type": "code",
   "execution_count": null,
   "metadata": {},
   "outputs": [
    {
     "output_type": "stream",
     "name": "stderr",
     "text": [
      "`summarise()` has grouped output by 'week_cat'. You can override using the\n",
      "`.groups` argument."
     ]
    },
    {
     "output_type": "display_data",
     "metadata": {},
     "data": {
      "image/png": "[encoded data removed]"
     }
    }
   ],
   "source": [
    "#| label: fig-clin-ben-wk4\n",
    "d |> \n",
    "  mutate(week_cat = factor(week,\n",
    "                           levels = c(4, 12, 26),\n",
    "                           labels = c(\"Week 4\", \"Week 12\", \"Week 26\")),\n",
    "         tx_match = factor(tx_match, \n",
    "                           levels = c(TRUE, FALSE),\n",
    "                           labels = c(\"Matched to Best\", \"Unmatched\"))) |> \n",
    "  group_by(week_cat, tx_match) |> \n",
    "  summarize(mean_outcome = mean(outcome_rct_num)) |> \n",
    "  ggplot(aes(x = week_cat, y = mean_outcome, fill = tx_match)) +\n",
    "  geom_col(position = \"dodge\") +\n",
    "  labs(\n",
    "    x = \"Week On-Study\",\n",
    "    y = \"Mean Abstinence Rate\",\n",
    "    fill = \"Treatment Matching\"\n",
    "  )"
   ],
   "id": "cell-fig-clin-ben-wk4"
  }
 ],
 "nbformat": 4,
 "nbformat_minor": 5,
 "metadata": {}
}

{
 "cells": [
  {
   "cell_type": "markdown",
   "metadata": {},
   "source": [
    "# Preregistration: Evaluation of Clinical Benefit\n",
    "\n",
    "Gaylen Fronk  \n",
    "April 23, 2024"
   ],
   "id": "10ecd287-a070-4b90-babb-5648b6c92966"
  },
  {
   "cell_type": "code",
   "execution_count": null,
   "metadata": {},
   "outputs": [],
   "source": [
    "#| echo: false\n",
    "study <- params$study\n",
    "version <- params$version\n",
    "algorithms <- params$algorithms"
   ],
   "id": "2cc2db2c-b743-4e70-bb2a-59a5c3467132"
  },
  {
   "cell_type": "code",
   "execution_count": null,
   "metadata": {},
   "outputs": [
    {
     "output_type": "stream",
     "name": "stderr",
     "text": [
      "Loading required package: Matrix"
     ]
    },
    {
     "output_type": "stream",
     "name": "stderr",
     "text": [
      "── Attaching packages ────────────────────────────────────── tidymodels 1.1.1 ──"
     ]
    },
    {
     "output_type": "stream",
     "name": "stderr",
     "text": [
      "✔ broom        1.0.5     ✔ recipes      1.0.9\n",
      "✔ dials        1.2.0     ✔ rsample      1.2.0\n",
      "✔ dplyr        1.1.4     ✔ tibble       3.2.1\n",
      "✔ ggplot2      3.4.4     ✔ tidyr        1.3.1\n",
      "✔ infer        1.0.6     ✔ tune         1.1.2\n",
      "✔ modeldata    1.3.0     ✔ workflows    1.1.3\n",
      "✔ parsnip      1.1.1     ✔ workflowsets 1.0.1\n",
      "✔ purrr        1.0.2     ✔ yardstick    1.3.0"
     ]
    },
    {
     "output_type": "stream",
     "name": "stderr",
     "text": [
      "── Conflicts ───────────────────────────────────────── tidymodels_conflicts() ──\n",
      "✖ purrr::discard()  masks scales::discard()\n",
      "✖ tidyr::expand()   masks Matrix::expand()\n",
      "✖ dplyr::filter()   masks stats::filter()\n",
      "✖ dplyr::lag()      masks stats::lag()\n",
      "✖ tidyr::pack()     masks Matrix::pack()\n",
      "✖ recipes::step()   masks stats::step()\n",
      "✖ tidyr::unpack()   masks Matrix::unpack()\n",
      "✖ recipes::update() masks Matrix::update(), stats::update()\n",
      "• Learn how to get started at https://www.tidymodels.org/start/"
     ]
    },
    {
     "output_type": "stream",
     "name": "stderr",
     "text": [
      "── Attaching core tidyverse packages ──────────────────────── tidyverse 2.0.0 ──\n",
      "✔ forcats   1.0.0     ✔ readr     2.1.5\n",
      "✔ lubridate 1.9.3     ✔ stringr   1.5.1"
     ]
    },
    {
     "output_type": "stream",
     "name": "stderr",
     "text": [
      "── Conflicts ────────────────────────────────────────── tidyverse_conflicts() ──\n",
      "✖ readr::col_factor() masks scales::col_factor()\n",
      "✖ purrr::discard()    masks scales::discard()\n",
      "✖ tidyr::expand()     masks Matrix::expand()\n",
      "✖ dplyr::filter()     masks stats::filter()\n",
      "✖ stringr::fixed()    masks recipes::fixed()\n",
      "✖ dplyr::lag()        masks stats::lag()\n",
      "✖ tidyr::pack()       masks Matrix::pack()\n",
      "✖ readr::spec()       masks yardstick::spec()\n",
      "✖ tidyr::unpack()     masks Matrix::unpack()\n",
      "ℹ Use the conflicted package (<http://conflicted.r-lib.org/>) to force all conflicts to become errors"
     ]
    },
    {
     "output_type": "stream",
     "name": "stderr",
     "text": [
      "Warning: package 'blme' was built under R version 4.3.3"
     ]
    },
    {
     "output_type": "stream",
     "name": "stderr",
     "text": [
      "ℹ SHA-1 hash of file is \"c045eee2655a18dc85e715b78182f176327358a7\""
     ]
    },
    {
     "output_type": "stream",
     "name": "stderr",
     "text": [
      "ℹ SHA-1 hash of file is \"bb7bddab14e337e74cb65ad3b94d58a2492d34cd\""
     ]
    }
   ],
   "source": [
    "#| message: false\n",
    "#| warning: false\n",
    "#| echo: false\n",
    "\n",
    "# packages for script\n",
    "library(lme4)"
   ],
   "id": "d971085c-3a9b-41ce-852c-ae33e0dbec80"
  },
  {
   "cell_type": "code",
   "execution_count": null,
   "metadata": {},
   "outputs": [],
   "source": [
    "#| message: false\n",
    "#| warning: false\n",
    "#| echo: false\n",
    "\n",
    "# handle conflicts\n",
    "options(conflicts.policy = \"depends.ok\")"
   ],
   "id": "23740eb1-281a-436c-8ee1-dd13874dc468"
  },
  {
   "cell_type": "code",
   "execution_count": null,
   "metadata": {},
   "outputs": [],
   "source": [
    "#| echo: false\n",
    "\n",
    "# absolute paths\n",
    "switch (Sys.info()[['sysname']],\n",
    "        # PC paths\n",
    "        Windows = {\n",
    "          path_models <- \"P:/studydata/match/models\"},\n",
    "        \n",
    "        # IOS paths\n",
    "        Darwin = {\n",
    "          path_models <- \"/Volumes/private/studydata/match/models\"},\n",
    "        \n",
    "        # Linux paths\n",
    "        Linux = {\n",
    "          path_models <- \"~/mnt/private/studydata/match/models\"}\n",
    ")"
   ],
   "id": "0de2ae9e-5416-4221-83ab-69a1324cac75"
  },
  {
   "cell_type": "code",
   "execution_count": null,
   "metadata": {},
   "outputs": [],
   "source": [
    "#| echo: false\n",
    "\n",
    "# chunk defaults\n",
    "knitr::opts_chunk$set(attr.output='style=\"max-height: 500px;\"')\n",
    "\n",
    "options(tibble.width = Inf)\n",
    "options(tibble.print_max = Inf)"
   ],
   "id": "66d3f6e9-9ee5-495c-9831-a401af8956f5"
  },
  {
   "cell_type": "code",
   "execution_count": null,
   "metadata": {},
   "outputs": [],
   "source": [
    "#| echo: false\n",
    "\n",
    "# read in d for week 4 model\n",
    "d_wk4 <- read_csv(file.path(path_models, \"pp_hybrid_wk4_outcome\", \n",
    "                            str_c(\"aim_2_\", version, \"_pp_hybrid_wk4_outcome.csv\")),\n",
    "                  show_col_types = FALSE) |> \n",
    "  mutate(outcome_rct_wk4_num = if_else(outcome_rct_wk4 == \"abstinent\", 1, 0),\n",
    "         outcome_rct_wk12_num = if_else(outcome_rct_wk12 == \"abstinent\", 1, 0),\n",
    "         outcome_rct_wk26_num = if_else(outcome_rct_wk26 == \"abstinent\", 1, 0),\n",
    "         tx_worst = case_when(\n",
    "           prob_patch < prob_combo_nrt & prob_patch < prob_varenicline ~ \"patch\",\n",
    "           prob_combo_nrt < prob_patch & prob_combo_nrt < prob_varenicline ~ \"combo_nrt\",\n",
    "           prob_varenicline < prob_patch & prob_varenicline < prob_combo_nrt ~ \"varenicline\",\n",
    "           TRUE ~ NA_character_),\n",
    "         tx_second = case_when(\n",
    "           tx_worst == \"patch\" & tx_best == \"varenicline\" ~ \"combo_nrt\",\n",
    "           tx_worst == \"patch\" & tx_best == \"combo_nrt\" ~ \"varenicline\",\n",
    "           tx_worst == \"varenicline\" & tx_best == \"patch\" ~ \"combo_nrt\",\n",
    "           tx_worst == \"varenicline\" & tx_best == \"combo_nrt\" ~ \"patch\",\n",
    "           tx_worst == \"combo_nrt\" & tx_best == \"varenicline\" ~ \"patch\",\n",
    "           tx_worst == \"combo_nrt\" & tx_best == \"patch\" ~ \"varenicline\",\n",
    "           TRUE ~ NA_character_)) |> \n",
    "  mutate(tx_rank = case_when(\n",
    "    tx_rct == tx_best ~ \"first\",\n",
    "    tx_rct == tx_second ~ \"second\",\n",
    "    tx_rct == tx_worst ~ \"third\",\n",
    "    TRUE ~ NA_character_)) |> \n",
    "  select(subid, starts_with(\"tx_\"), starts_with(\"prob_\"),\n",
    "         outcome_rct_wk4_num, outcome_rct_wk12_num, outcome_rct_wk26_num) \n",
    "\n",
    "# read in best_config for week 4 model\n",
    "best_configuration_wk4 <- read_csv(file.path(path_models, \"pp_hybrid_wk4_outcome\",\n",
    "                                             str_c(\"best_config_\", version, \".csv\")),\n",
    "                                   show_col_types = FALSE) |> \n",
    "  select(algorithm, feature_set, alpha = hp1, lambda = hp2, resample)\n",
    "\n",
    "# read in d for week 26 model\n",
    "# d_wk26 <- read_csv(file.path(path_models, \"pp_hybrid_wk26_outcome\", \n",
    "#                         str_c(\"aim_2_\", version, \"_pp_hybrid_wk26_outcome.csv\")),\n",
    "#               show_col_types = FALSE) |> \n",
    "#   mutate(outcome_rct_wk4_num = if_else(outcome_rct_wk4 == \"abstinent\", 1, 0),\n",
    "#          outcome_rct_wk12_num = if_else(outcome_rct_wk12 == \"abstinent\", 1, 0),\n",
    "#          outcome_rct_wk26_num = if_else(outcome_rct_wk26 == \"abstinent\", 1, 0),\n",
    "#          tx_worst = case_when(\n",
    "#            prob_patch < prob_combo_nrt & prob_patch < prob_varenicline ~ \"patch\",\n",
    "#            prob_combo_nrt < prob_patch & prob_combo_nrt < prob_varenicline ~ \"combo_nrt\",\n",
    "#            prob_varenicline < prob_patch & prob_varenicline < prob_combo_nrt ~ \"varenicline\",\n",
    "#            TRUE ~ NA_character_),\n",
    "#          tx_second = case_when(\n",
    "#            tx_worst == \"patch\" & tx_best == \"varenicline\" ~ \"combo_nrt\",\n",
    "#            tx_worst == \"patch\" & tx_best == \"combo_nrt\" ~ \"varenicline\",\n",
    "#            tx_worst == \"varenicline\" & tx_best == \"patch\" ~ \"combo_nrt\",\n",
    "#            tx_worst == \"varenicline\" & tx_best == \"combo_nrt\" ~ \"patch\",\n",
    "#            tx_worst == \"combo_nrt\" & tx_best == \"varenicline\" ~ \"patch\",\n",
    "#            tx_worst == \"combo_nrt\" & tx_best == \"patch\" ~ \"varenicline\",\n",
    "#            TRUE ~ NA_character_)) |> \n",
    "#   mutate(tx_rank = case_when(\n",
    "#     tx_rct == tx_best ~ \"first\",\n",
    "#     tx_rct == tx_second ~ \"second\",\n",
    "#     tx_rct == tx_worst ~ \"third\",\n",
    "#     TRUE ~ NA_character_)) |> \n",
    "#   select(subid, starts_with(\"tx_\"), starts_with(\"prob_\"),\n",
    "#          outcome_rct_wk4_num, outcome_rct_wk12_num, outcome_rct_wk26_num) \n",
    "\n",
    "# read in best_config for week 26 model\n",
    "# best_configuration_wk26 <- read_csv(file.path(path_models, \"pp_hybrid_wk26_outcome\",\n",
    "#                                               str_c(\"best_config_\", version, \".csv\")),\n",
    "#                                     show_col_types = FALSE) |> \n",
    "#   select(algorithm, feature_set, learning_rate = hp1, tree_depth = hp2, \n",
    "#          mtry = hp3, resample)"
   ],
   "id": "259324e3-08ce-4672-baef-e9a8695bd35b"
  },
  {
   "cell_type": "markdown",
   "metadata": {},
   "source": [
    "## Study Overview\n",
    "\n",
    "### Specific Aims\n",
    "\n",
    "This project represents a tangible application of the precision mental health paradigm using modern machine learning approaches. This project aims to produce a decision-making tool to select among cigarette smoking cessation treatments for individuals looking to quit smoking.\n",
    "\n",
    "Cigarette smoking remains a critical and costly public health crisis. Existing treatments are only modestly effective at best. Additionally, treatments are similarly effective at the population level, meaning that even population-level effectiveness cannot guide treatment selection for individuals quitting smoking. Thus, deciding among first-line (i.e., FDA-approved) smoking cessation medications is a specific, objective decision that many individuals who smoke (or their providers) must make. Successful application of the precision mental health paradigm to cigarette smoking cessation would have immediate clinical benefit.\n",
    "\n",
    "Specifically, this project pursues the following aims:\n",
    "\n",
    "**AIM 1: Build a machine learning model to guide treatment selection for cigarette smoking cessation.** We will build a machine learning model to predict treatment success (i.e.,7-day point-prevalence abstinence from smoking 4 weeks post-quit) for people who smoke who received one of three cigarette smoking cessation treatments. This model will use clinical features (predictors) from a richly characterized sample of people who smoke from a previously completed randomized controlled trial. The model will produce probabilities of treatment success for each treatment such that it can guide selection of the best treatment for any specific individual.\n",
    "\n",
    "**AIM 2: Evaluate the clinical benefit of using a treatment selection machine learning model.** Using the best model identified in **AIM 1**, we will identify the treatment for each person that gives them the highest likelihood of abstinence by comparing predicted probabilities of abstinence for each participant for each treatment. We will then evaluate the clinical benefit of this model-based treatment selection approach.\n",
    "\n",
    "### Data\n",
    "\n",
    "This project relies on existing data from a completed comparative effectiveness trial by [Baker et al., 2016](https://www.ncbi.nlm.nih.gov/pmc/articles/PMC4824537/). Briefly, 1086 individuals who smoke cigarettes were randomized to receive varenicline, combination nicotine replacement therapy (NRT), or nicotine patch to assist with a quit attempt. Individuals were richly characterized at baseline (pre-treatment) with respect to demographic characteristics, mental health, social/environmental variables, physical health, and smoking history. Participants were assessed periodically for biologically confirmed, 7-day point-prevalence abstinence. When abstinence was biologically confirmed (i.e., via exhaled carbon monoxide), individuals were labeled as abstinent; otherwise, individuals were labeled as smoking. Thus, we used predictors from the rich baseline characterization to predict our **primary outcome** of 7-day point-prevalance abstinence at 4 weeks post-quit.\n",
    "\n",
    "## Analysis Progress at Time of Preregistration\n",
    "\n",
    "### Completed: Model Building, Selection, & Evaluation\n",
    "\n",
    "**AIM 1** analyses have been completed: Models using all available data have been fit and selected with nested cross-validation (1 repeat of 10-fold cross-validation in the inner loops, 3 repeats of 10-fold cross-validation in the outer loop). These 30-held out folds (“test sets”) were used to evaluate model performance.\n",
    "\n",
    "### Completed: Model Performance\n",
    "\n",
    "Models were evaluated using our primary performance metric, area under the ROC curve (auROC), an index of how well our models discriminate between positive (abstinent) and negative (smoking) cases.\n",
    "\n",
    "We evaluated model performance in-depth by conducting *Bayesian hierarchical generalized linear models* to estimate the posterior probability distributions and 95% Bayesian credible intervals (CIs) for auROC for our best models from the 30 held-out test sets from nested cross-validation. Below, you can see the posterior probabilities for auROC in held-out folds.\n",
    "\n",
    "``` python\n",
    "pp_tidy |> \n",
    "  mutate(model = factor(model, levels = c(\"week_4\", \"week_26\"))) |> \n",
    "  filter(model == \"week_4\") |> \n",
    "  ggplot() + \n",
    "  geom_histogram(aes(x = posterior, fill = model), color = \"black\", alpha = .4, \n",
    "                 bins = 30) +\n",
    "  geom_segment(mapping = aes(y = y + 100, yend = y - 100, x = mean, xend = mean,\n",
    "                             color = model),\n",
    "               data = ci_week4) +\n",
    "  geom_segment(mapping = aes(y = y, yend = y, x = lower, xend = upper, color = model),\n",
    "               data = ci_week4) +\n",
    "  scale_y_continuous(\"Posterior Probability\", breaks = c(0, 500, 1000)) +\n",
    "  # ylab(\"Posterior Probability Density\") +\n",
    "  xlab(\"Area Under ROC Curve\") +\n",
    "  theme(legend.position = \"none\")\n",
    "```\n",
    "\n",
    "![](attachment:preregistration_files/figure-ipynb/ana_bayes_match-fig-week4-output-1.png)\n",
    "\n",
    "The horizontal line indicates the 95% CIs. The vertical line represents the median posterior probability for auROC. This represents our best estimate for the magnitude of the auROC parameter. The CI does not contain 0.5 (i.e., chance performance), suggesting the model is capturing signal in the data.\n",
    "\n",
    "### Completed: Fit Final Model\n",
    "\n",
    "A single, best model was selected with 1 repeat of 10-fold cross-validation in the full dataset.\n",
    "\n",
    "The best model configuration includes the following:"
   ],
   "attachments": {
    "preregistration_files/figure-ipynb/ana_bayes_match-fig-week4-output-1.png": {
     "image/png": "[encoded data removed]"
    }
   },
   "id": "a6237c78-4451-463a-987b-f7505e7363d4"
  },
  {
   "cell_type": "code",
   "execution_count": null,
   "metadata": {},
   "outputs": [
    {
     "output_type": "stream",
     "name": "stdout",
     "text": [
      "Rows: 1\n",
      "Columns: 5\n",
      "$ algorithm   <chr> \"glmnet\"\n",
      "$ feature_set <chr> \"item_ordinal\"\n",
      "$ alpha       <dbl> 0.1\n",
      "$ lambda      <dbl> 0.1326421\n",
      "$ resample    <chr> \"up_1\""
     ]
    }
   ],
   "source": [
    "#| echo: false\n",
    "glimpse(best_configuration_wk4)"
   ],
   "id": "f4cc3606-8165-4b2d-9e64-8fb8e7d85c1b"
  },
  {
   "cell_type": "markdown",
   "metadata": {},
   "source": [
    "-   Selected algorithm was glmnet (xgboost and random forest also considered)\n",
    "\n",
    "-   Selected feature set was “item_ordinal” indicating that individual items (rather than scale scores) were used, and ordinal scoring was used for ordered data (rather than dummy coding)\n",
    "\n",
    "-   Selected resampling approach was “up_1” corresponding to upsampling (vs. downsampling or SMOTE) with a ratio of 1:1 (majority:minority class)\n",
    "\n",
    "-   Values of the hyperparameters alpha and lambda were selected from sensible ranges for each value\n",
    "\n",
    "### In Progress: AIM 2 Clinical Benefit Analyses\n",
    "\n",
    "**AIM 2** analyses using this full model are underway. We have used the final model fit in the full dataset to generate three predictions (probabilities, `prob_*`) for each participant by substituting each treatment into the model inputs. Thus, there is one prediction per person per treatment."
   ],
   "id": "00c795e6-79cb-4043-9108-9b923887ee8c"
  },
  {
   "cell_type": "code",
   "execution_count": null,
   "metadata": {},
   "outputs": [
    {
     "output_type": "display_data",
     "metadata": {},
     "data": {
      "text/html": [
       "</div>\n"
      ],
      "text/markdown": [
       "    subid   prob_patch   prob_combo_nrt   prob_varenicline\n",
       "  ------- ------------ ---------------- ------------------\n",
       "    40244        0.430            0.531              0.570\n",
       "    51235        0.189            0.198              0.159\n",
       "    50478        0.436            0.319              0.403\n",
       "    40482        0.247            0.222              0.257\n",
       "    30048        0.583            0.542              0.561\n",
       "    30294        0.339            0.315              0.340\n",
       "    31221        0.192            0.153              0.217\n",
       "    50676        0.148            0.169              0.140\n"
      ]
     }
    }
   ],
   "source": [
    "set.seed(82294)\n",
    "d_wk4 |> \n",
    "  select(subid, prob_patch, prob_combo_nrt, prob_varenicline) |> \n",
    "  slice_sample(n = 8) |> \n",
    "  print_kbl(digits = 3)"
   ],
   "id": "777ffcb8-ae65-4c00-b50d-79e961b3a0d1"
  },
  {
   "cell_type": "markdown",
   "metadata": {},
   "source": [
    "The treatment that yields the highest model-predicted probability of abstinence is identified as that participant’s “best” treatment (`tx_best`)."
   ],
   "id": "a52a067a-92e1-4fc7-bd31-9e27e51c8263"
  },
  {
   "cell_type": "code",
   "execution_count": null,
   "metadata": {},
   "outputs": [
    {
     "output_type": "display_data",
     "metadata": {},
     "data": {
      "text/html": [
       "</div>\n"
      ],
      "text/markdown": [
       "    subid       tx_best   prob_patch   prob_combo_nrt   prob_varenicline\n",
       "  ------- ------------- ------------ ---------------- ------------------\n",
       "    50666   varenicline        0.159            0.185              0.189\n",
       "    50224   varenicline        0.193            0.165              0.207\n",
       "    50422     combo_nrt        0.344            0.352              0.246\n",
       "    30984     combo_nrt        0.195            0.227              0.197\n",
       "    50295         patch        0.455            0.431              0.437\n",
       "    20769   varenicline        0.450            0.516              0.569\n",
       "    51261         patch        0.357            0.340              0.305\n",
       "    30149     combo_nrt        0.443            0.465              0.341\n"
      ]
     }
    }
   ],
   "source": [
    "d_wk4 |> \n",
    "  select(subid, tx_best, prob_patch, prob_combo_nrt, prob_varenicline) |> \n",
    "  slice_sample(n = 8) |> \n",
    "  print_kbl(digits = 3)"
   ],
   "id": "71c674c1-bace-4833-9d9c-3ef380c91964"
  },
  {
   "cell_type": "markdown",
   "metadata": {},
   "source": [
    "The best treatments spanned all three medication options: varenicline, combination nicotine replacement therapy (“combo_nrt”), and nicotine patch (“patch”)."
   ],
   "id": "7fef4dec-171d-4aa0-a1de-25422ff83bf1"
  },
  {
   "cell_type": "code",
   "execution_count": null,
   "metadata": {},
   "outputs": [
    {
     "output_type": "stream",
     "name": "stdout",
     "text": [
      "# A tibble: 3 × 3\n",
      "  tx_best         n  prop\n",
      "  <chr>       <int> <dbl>\n",
      "1 combo_nrt     339 0.312\n",
      "2 patch         193 0.178\n",
      "3 varenicline   554 0.510"
     ]
    }
   ],
   "source": [
    "d_wk4 |> \n",
    "  tab(tx_best)"
   ],
   "id": "57c2ed18-6bc7-44b3-a27e-3868842767d8"
  },
  {
   "cell_type": "markdown",
   "metadata": {},
   "source": [
    "Some participants’ best treatment (`tx_best`) matched what they were randomly assigned in the original trial (`tx_rct`). Other participants may have received what the model identified as their second-best or worst treatment. Thus, participants’ RCT-assigned treatment can be categorized by whether it “matched” their model-assigned treatment (`tx_match`)."
   ],
   "id": "ae49ab35-8c6d-4f5e-bc72-e36ed619d920"
  },
  {
   "cell_type": "code",
   "execution_count": null,
   "metadata": {},
   "outputs": [
    {
     "output_type": "display_data",
     "metadata": {},
     "data": {
      "text/html": [
       "</div>\n"
      ],
      "text/markdown": [
       "    subid   tx_match        tx_rct       tx_best     tx_second      tx_worst\n",
       "  ------- ---------- ------------- ------------- ------------- -------------\n",
       "    40645       TRUE   varenicline   varenicline         patch     combo_nrt\n",
       "    20015      FALSE     combo_nrt   varenicline     combo_nrt         patch\n",
       "    40126       TRUE     combo_nrt     combo_nrt   varenicline         patch\n",
       "    51165       TRUE   varenicline   varenicline         patch     combo_nrt\n",
       "    30705      FALSE     combo_nrt         patch   varenicline     combo_nrt\n",
       "    30179       TRUE         patch         patch     combo_nrt   varenicline\n",
       "    51390       TRUE   varenicline   varenicline         patch     combo_nrt\n",
       "    51817      FALSE         patch   varenicline     combo_nrt         patch\n",
       "    50140      FALSE         patch     combo_nrt         patch   varenicline\n",
       "    20359      FALSE         patch     combo_nrt         patch   varenicline\n"
      ]
     }
    }
   ],
   "source": [
    "d_wk4 |> \n",
    "  select(subid, tx_match, tx_rct, tx_best, tx_second, tx_worst) |> \n",
    "  slice_sample(n = 10) |> \n",
    "  print_kbl()"
   ],
   "id": "415433c2-4c1f-4007-905b-6f17f3ade3ba"
  },
  {
   "cell_type": "markdown",
   "metadata": {},
   "source": [
    "Approximately 38% of participants received their model-assigned “best” treatment in the original trial."
   ],
   "id": "cafc7995-6080-4973-b867-d5c9170af24c"
  },
  {
   "cell_type": "code",
   "execution_count": null,
   "metadata": {},
   "outputs": [
    {
     "output_type": "stream",
     "name": "stdout",
     "text": [
      "# A tibble: 2 × 3\n",
      "  tx_match     n  prop\n",
      "  <lgl>    <int> <dbl>\n",
      "1 FALSE      677 0.623\n",
      "2 TRUE       409 0.377"
     ]
    }
   ],
   "source": [
    "d_wk4 |> \n",
    "  tab(tx_match)"
   ],
   "id": "d858f80e-17ce-46dc-a86d-f5ea9e23fff8"
  },
  {
   "cell_type": "markdown",
   "metadata": {},
   "source": [
    "At the time of this preregistration, **no analyses have been conducted using these probabilities or model-based treatment assignments.**\n",
    "\n",
    "## Purpose of Preregistration\n",
    "\n",
    "The purpose of this document is to **preregister the analyses for evaluating the clinical benefit of this treatment selection model**.\n",
    "\n",
    "### Outcomes\n",
    "\n",
    "Our primary analysis will compare the observed outcomes (i.e., abstinence vs. smoking, from the original trial) for people who did or did not receive their best treatment. We will examine these outcomes over the following time points:\n",
    "\n",
    "-   4 weeks: This served as the outcome for a prediction model. This selection was made so that, in real-world implementation, treatment could be adjusted earlier for individuals for whom treatment is not working.\n",
    "\n",
    "-   12 weeks: This is end-of-treatment and represents a mid-point between the early (4-week) and later (26-week) outcomes.\n",
    "\n",
    "-   26 weeks (6 months): This is the gold standard assessment period for smoking cessation treatments and was the primary outcome for the original trial ([Baker et al., 2016](https://www.ncbi.nlm.nih.gov/pmc/articles/PMC4824537/)). This duration is often used as a proxy for long-term success.\n",
    "\n",
    "### Modeling Specifications\n",
    "\n",
    "We plan to follow a mixed-effects modeling approach using the `blme` package. Specifically, we will fit a partially Bayesian generalized linear model using `bglmer()` with the components listed below. This approach uses regularizing priors to force the estimated random effects variance-covariance matrices away from singularity ([Chung et al., 2013](https://link.springer.com/article/10.1007/s11336-013-9328-2), `blme` package). We would use the default `\"nlminbwrap\"` optimizer.\n",
    "\n",
    "To ensure that all proposed analyses are feasible and to specify analyses as precisely as possible, **we conduct these proposed analyses using our data with shuffled outcome variables**. Following preregistration, our analyses will follow this script exactly using our real data.\n",
    "\n",
    "Our model will have the following components:\n",
    "\n",
    "1.  Dependent variable: abstinence (vs. smoking; `outcome_rct_num`). Binary outcome with abstinence coded as 1 and smoking coded as 0.\n",
    "\n",
    "2.  Independent variable: treatment match (`tx_match`). Between-subjects categorical variable with two levels (TRUE or FALSE). This variable will be coded with an orthogonal contrast such that we compare individuals who received their best treatment to individuals who did not.\n",
    "\n",
    "3.  Independent variable: time (`week`). This variable has repeated measures such that there are three time points for each subject. This variable will be treated as a numeric variable, and it will be log-transformed (natural log) to meet linearity assumptions. Log transformation is appropriate when the shape of the relationship between the raw variable and outcome is asymptotic."
   ],
   "id": "411e8b06-e28e-4278-89c3-b4ea1b0a9e94"
  },
  {
   "cell_type": "code",
   "execution_count": null,
   "metadata": {},
   "outputs": [
    {
     "output_type": "display_data",
     "metadata": {},
     "data": {
      "image/png": "[encoded data removed]"
     }
    },
    {
     "output_type": "display_data",
     "metadata": {},
     "data": {
      "image/png": "[encoded data removed]"
     }
    }
   ],
   "source": [
    "#| echo: false\n",
    "d_log_fig <- d_wk4 |> \n",
    "  select(subid, outcome_rct_wk4_num, outcome_rct_wk12_num, outcome_rct_wk26_num) |> \n",
    "  pivot_longer(\n",
    "    cols = c(outcome_rct_wk4_num, outcome_rct_wk12_num, outcome_rct_wk26_num),\n",
    "    names_to = \"week\",\n",
    "    names_pattern = \"(?<=outcome_rct_wk)(.+)(?=_num)\",\n",
    "    values_to = \"outcome_rct_num\"\n",
    "  ) |> \n",
    "  mutate(week = as.numeric(week)) |> \n",
    "  mutate(week_log = log(week)) # default base = e (natural log)\n",
    "\n",
    "d_log_fig |>\n",
    "  group_by(week) |> \n",
    "  summarize(mean_outcome = mean(outcome_rct_num)) |> \n",
    "  ggplot(aes(x = week, y = mean_outcome)) +\n",
    "  geom_line() +\n",
    "  ggtitle(\"Relationship Between Raw Week & Outcome\")"
   ],
   "id": "2eb49890-d93c-4ecf-8b27-4f1672be1375"
  },
  {
   "cell_type": "markdown",
   "metadata": {},
   "source": [
    "1.  Interaction between treatment match and time\n",
    "\n",
    "2.  Random slope for time (3 repeated observations of time for each subject)\n",
    "\n",
    "3.  Random intercept\n",
    "\n",
    "### Focal & Secondary Effects\n",
    "\n",
    "Our **focal effect** is the effect of treatment match. We predict that individuals who received their best treatment will have improved outcomes compared to individuals who did not.\n",
    "\n",
    "Our **secondary effects** include:\n",
    "\n",
    "-   The interaction between treatment match and time. We do not have a directional hypothesis about this interaction.\n",
    "\n",
    "    -   If this interaction is significant (*p* \\< 0.05), we will conduct **follow-up tests** of the simple effect of treatment match at all 3 time points (week 4, week 12, and week 26). These will be general linear models using the `glm` function within the `stats` package.\n",
    "\n",
    "We plan to report the estimates, test statistics, *p*-values, and confidence intervals for all effects from this model.\n",
    "\n",
    "## Shuffle Data\n",
    "\n",
    "To create our shuffled dataset, we randomly sample (without replacement) the treatment match (`tx_match`) variable. This:\n",
    "\n",
    "-   Breaks any relationship between `tx_match` and the outcome\n",
    "\n",
    "-   Breaks any interactive effect of `tx_match` and `week` on the outcome\n",
    "\n",
    "-   Maintains the random effect structure within the `week` variable"
   ],
   "id": "dba7bb53-f415-430b-b736-a23f02ac036b"
  },
  {
   "cell_type": "code",
   "execution_count": null,
   "metadata": {},
   "outputs": [
    {
     "output_type": "stream",
     "name": "stdout",
     "text": [
      "Rows: 3,258\n",
      "Columns: 5\n",
      "$ subid           <dbl> 20010, 20010, 20010, 20015, 20015, 20015, 20030, 20030…\n",
      "$ tx_match        <fct> TRUE, TRUE, TRUE, FALSE, FALSE, FALSE, FALSE, FALSE, F…\n",
      "$ week            <dbl> 4, 12, 26, 4, 12, 26, 4, 12, 26, 4, 12, 26, 4, 12, 26,…\n",
      "$ outcome_rct_num <dbl> 0, 0, 0, 0, 0, 0, 0, 0, 0, 0, 1, 1, 0, 0, 0, 0, 0, 0, …\n",
      "$ week_log        <dbl> 1.386294, 2.484907, 3.258097, 1.386294, 2.484907, 3.25…"
     ]
    }
   ],
   "source": [
    "set.seed(72905)\n",
    "d_shuf <- d_wk4 |> \n",
    "  # select only necessary variables\n",
    "  select(subid, tx_match, \n",
    "         outcome_rct_wk4_num, outcome_rct_wk12_num, outcome_rct_wk26_num) |> \n",
    "  # randomize tx_match variable\n",
    "  mutate(tx_match = sample(d_wk4$tx_match, nrow(d_wk4), replace = FALSE)) |>\n",
    "  # pivot to long data format where week is its own variable\n",
    "  pivot_longer(\n",
    "    cols = c(outcome_rct_wk4_num, outcome_rct_wk12_num, outcome_rct_wk26_num),\n",
    "    names_to = \"week\",\n",
    "    names_pattern = \"(?<=outcome_rct_wk)(.+)(?=_num)\",\n",
    "    values_to = \"outcome_rct_num\"\n",
    "  ) |> \n",
    "  # correctly class independent variables\n",
    "  mutate(tx_match = factor(tx_match, \n",
    "                           levels = c(FALSE, TRUE)),\n",
    "         week = as.numeric(week)) |> \n",
    "  # log transform week variable per above\n",
    "  mutate(week_log = log(week)) # default base is e (natural log)\n",
    "\n",
    "glimpse(d_shuf)"
   ],
   "id": "ec9fe2b1-cb4b-411c-a341-95fffec0502a"
  },
  {
   "cell_type": "markdown",
   "metadata": {},
   "source": [
    "Confirm that data look random"
   ],
   "id": "d9959b58-ad34-4509-83de-f66060361216"
  },
  {
   "cell_type": "code",
   "execution_count": null,
   "metadata": {},
   "outputs": [
    {
     "output_type": "stream",
     "name": "stderr",
     "text": [
      "`summarise()` has grouped output by 'week'. You can override using the\n",
      "`.groups` argument."
     ]
    },
    {
     "output_type": "stream",
     "name": "stdout",
     "text": [
      "# A tibble: 6 × 3\n",
      "# Groups:   week [3]\n",
      "   week tx_match mean_outcome\n",
      "  <dbl> <fct>           <dbl>\n",
      "1     4 FALSE           0.349\n",
      "2     4 TRUE            0.330\n",
      "3    12 FALSE           0.290\n",
      "4    12 TRUE            0.291\n",
      "5    26 FALSE           0.244\n",
      "6    26 TRUE            0.252"
     ]
    }
   ],
   "source": [
    "d_shuf |> \n",
    "  group_by(week, tx_match) |> \n",
    "  summarize(mean_outcome = mean(outcome_rct_num)) "
   ],
   "id": "c392aef1-3119-4e50-b314-c36141b4f22c"
  },
  {
   "cell_type": "markdown",
   "metadata": {},
   "source": [
    "## Analysis Steps\n",
    "\n",
    "Set contrasts for treatment match"
   ],
   "id": "826df8a9-e0f7-4576-9e24-0ddab6cf1b0e"
  },
  {
   "cell_type": "code",
   "execution_count": null,
   "metadata": {},
   "outputs": [
    {
     "output_type": "stream",
     "name": "stdout",
     "text": [
      "      best_v_other\n",
      "FALSE         -0.5\n",
      "TRUE           0.5"
     ]
    }
   ],
   "source": [
    "c_tx <- contr.helmert(c(FALSE, TRUE))\n",
    "c_tx[, 1] <- c_tx[, 1] / (max(c_tx[, 1]) - min(c_tx[, 1])) # scale\n",
    "colnames(c_tx) <- c(\"best_v_other\")\n",
    "contrasts(d_shuf$tx_match) <- c_tx\n",
    "contrasts(d_shuf$tx_match)"
   ],
   "id": "83db3cf9-5cc2-43f6-bb61-e0b122ec996b"
  },
  {
   "cell_type": "markdown",
   "metadata": {},
   "source": [
    "### Primary Model"
   ],
   "id": "a2059f76-e313-4350-ad97-94b158f53c16"
  },
  {
   "cell_type": "code",
   "execution_count": null,
   "metadata": {},
   "outputs": [
    {
     "output_type": "stream",
     "name": "stdout",
     "text": [
      "Cov prior  : subid ~ wishart(df = 4.5, scale = Inf, posterior.scale = cov, common.scale = TRUE)\n",
      "Prior dev  : -2.0001\n",
      "\n",
      "Generalized linear mixed model fit by maximum likelihood (Laplace\n",
      "  Approximation) [bglmerMod]\n",
      " Family: binomial  ( logit )\n",
      "Formula: outcome_rct_num ~ tx_match * week_log + (1 + week_log | subid)\n",
      "   Data: d_shuf\n",
      "Control: glmerControl(optCtrl = list(maxfun = 3e+06))\n",
      "\n",
      "     AIC      BIC   logLik deviance df.resid \n",
      "  3091.9   3134.5  -1539.0   3077.9     3251 \n",
      "\n",
      "Scaled residuals: \n",
      "     Min       1Q   Median       3Q      Max \n",
      "-1.22909 -0.41112 -0.06664  0.14531  1.40569 \n",
      "\n",
      "Random effects:\n",
      " Groups Name        Variance Std.Dev. Corr \n",
      " subid  (Intercept) 11.08    3.329         \n",
      "        week_log    13.23    3.638    -0.99\n",
      "Number of obs: 3258, groups:  subid, 1086\n",
      "\n",
      "Fixed effects:\n",
      "                              Estimate Std. Error z value Pr(>|z|)    \n",
      "(Intercept)                     1.9482     0.3557   5.478 4.31e-08 ***\n",
      "tx_matchbest_v_other           -0.3387     0.4028  -0.841    0.400    \n",
      "week_log                       -2.2343     0.2221 -10.060  < 2e-16 ***\n",
      "tx_matchbest_v_other:week_log   0.1244     0.2783   0.447    0.655    \n",
      "---\n",
      "Signif. codes:  0 '***' 0.001 '**' 0.01 '*' 0.05 '.' 0.1 ' ' 1\n",
      "\n",
      "Correlation of Fixed Effects:\n",
      "            (Intr) tx_m__ wek_lg\n",
      "tx_mtchbs__  0.142              \n",
      "week_log    -0.917 -0.118       \n",
      "tx_mtch__:_ -0.103 -0.861  0.129"
     ]
    }
   ],
   "source": [
    "model_1 <- blme::bglmer(outcome_rct_num ~ tx_match * week_log + \n",
    "                          (1 + week_log | subid),\n",
    "                        data = d_shuf,\n",
    "                        family = binomial(link = \"logit\"),\n",
    "                        control = glmerControl(optCtrl = list(maxfun = 3e6)))\n",
    "\n",
    "summary(model_1)"
   ],
   "id": "0958d774-1718-43ff-9728-3d5964240572"
  },
  {
   "cell_type": "markdown",
   "metadata": {},
   "source": [
    "### Follow-up analyses: Simple Effects\n",
    "\n",
    "If the interaction between `tx_match` and `week` is significant (*p* \\< 0.05), we will conduct follow-up analyses to test the simple effect of `tx_match` at each time point.\n",
    "\n",
    "Simple effect at 4 weeks"
   ],
   "id": "bab43543-ec01-45f2-9caa-6df479ae638a"
  },
  {
   "cell_type": "code",
   "execution_count": null,
   "metadata": {},
   "outputs": [
    {
     "output_type": "stream",
     "name": "stdout",
     "text": [
      "\n",
      "Call:\n",
      "glm(formula = outcome_rct_num ~ tx_match, family = binomial(link = \"logit\"), \n",
      "    data = d_4_shuf)\n",
      "\n",
      "Coefficients:\n",
      "                     Estimate Std. Error z value Pr(>|z|)    \n",
      "(Intercept)          -0.66653    0.06626 -10.059   <2e-16 ***\n",
      "tx_matchbest_v_other -0.08264    0.13252  -0.624    0.533    \n",
      "---\n",
      "Signif. codes:  0 '***' 0.001 '**' 0.01 '*' 0.05 '.' 0.1 ' ' 1\n",
      "\n",
      "(Dispersion parameter for binomial family taken to be 1)\n",
      "\n",
      "    Null deviance: 1394.7  on 1085  degrees of freedom\n",
      "Residual deviance: 1394.3  on 1084  degrees of freedom\n",
      "AIC: 1398.3\n",
      "\n",
      "Number of Fisher Scoring iterations: 4"
     ]
    }
   ],
   "source": [
    "d_4_shuf <- d_shuf |> \n",
    "  filter(week == 4)\n",
    "\n",
    "model_4wk <- glm(outcome_rct_num ~ tx_match, \n",
    "                 data = d_4_shuf,\n",
    "                 family = binomial(link = \"logit\"))\n",
    "\n",
    "summary(model_4wk)"
   ],
   "id": "d64dead1-c2cb-4593-a7bd-2dadbbf3666d"
  },
  {
   "cell_type": "markdown",
   "metadata": {},
   "source": [
    "Simple effect at 12 weeks"
   ],
   "id": "4948dba2-f0bb-4b61-a6f4-5dc992ee8289"
  },
  {
   "cell_type": "code",
   "execution_count": null,
   "metadata": {},
   "outputs": [
    {
     "output_type": "stream",
     "name": "stdout",
     "text": [
      "\n",
      "Call:\n",
      "glm(formula = outcome_rct_num ~ tx_match, family = binomial(link = \"logit\"), \n",
      "    data = d_12_shuf)\n",
      "\n",
      "Coefficients:\n",
      "                      Estimate Std. Error z value Pr(>|z|)    \n",
      "(Intercept)          -0.894255   0.068979 -12.964   <2e-16 ***\n",
      "tx_matchbest_v_other  0.006995   0.137959   0.051     0.96    \n",
      "---\n",
      "Signif. codes:  0 '***' 0.001 '**' 0.01 '*' 0.05 '.' 0.1 ' ' 1\n",
      "\n",
      "(Dispersion parameter for binomial family taken to be 1)\n",
      "\n",
      "    Null deviance: 1308  on 1085  degrees of freedom\n",
      "Residual deviance: 1308  on 1084  degrees of freedom\n",
      "AIC: 1312\n",
      "\n",
      "Number of Fisher Scoring iterations: 4"
     ]
    }
   ],
   "source": [
    "d_12_shuf <- d_shuf |> \n",
    "  filter(week == 12)\n",
    "\n",
    "model_12wk <- glm(outcome_rct_num ~ tx_match, \n",
    "                  data = d_12_shuf,\n",
    "                  family = binomial(link = \"logit\"))\n",
    "\n",
    "summary(model_12wk)"
   ],
   "id": "930cfcda-8fdb-46eb-80c0-bdf1db6cb056"
  },
  {
   "cell_type": "markdown",
   "metadata": {},
   "source": [
    "Simple effect at 26 weeks"
   ],
   "id": "7718fc66-4583-4e34-aded-c50afcf6e81e"
  },
  {
   "cell_type": "code",
   "execution_count": null,
   "metadata": {},
   "outputs": [
    {
     "output_type": "stream",
     "name": "stdout",
     "text": [
      "\n",
      "Call:\n",
      "glm(formula = outcome_rct_num ~ tx_match, family = binomial(link = \"logit\"), \n",
      "    data = d_26_shuf)\n",
      "\n",
      "Coefficients:\n",
      "                     Estimate Std. Error z value Pr(>|z|)    \n",
      "(Intercept)          -1.11062    0.07244  -15.33   <2e-16 ***\n",
      "tx_matchbest_v_other  0.04352    0.14488    0.30    0.764    \n",
      "---\n",
      "Signif. codes:  0 '***' 0.001 '**' 0.01 '*' 0.05 '.' 0.1 ' ' 1\n",
      "\n",
      "(Dispersion parameter for binomial family taken to be 1)\n",
      "\n",
      "    Null deviance: 1213.6  on 1085  degrees of freedom\n",
      "Residual deviance: 1213.6  on 1084  degrees of freedom\n",
      "AIC: 1217.6\n",
      "\n",
      "Number of Fisher Scoring iterations: 4"
     ]
    }
   ],
   "source": [
    "d_26_shuf <- d_shuf |> \n",
    "  filter(week == 26)\n",
    "\n",
    "model_26wk <- glm(outcome_rct_num ~ tx_match, \n",
    "                  data = d_26_shuf,\n",
    "                  family = binomial(link = \"logit\"))\n",
    "\n",
    "summary(model_26wk)"
   ],
   "id": "e750f477-0d79-43e7-a55a-ea84e94e81b9"
  }
 ],
 "nbformat": 4,
 "nbformat_minor": 5,
 "metadata": {}
}

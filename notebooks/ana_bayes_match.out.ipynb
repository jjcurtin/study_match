{
 "cells": [
  {
   "cell_type": "markdown",
   "metadata": {},
   "source": [
    "# Posterior probabilities across models for MATCH study (version v5)\n",
    "\n",
    "John Curtin  \n",
    "May 13, 2024\n",
    "\n",
    "### Code Status\n",
    "\n",
    "In use with iterative improvement.\n",
    "\n",
    "Updating for use with MATCH\n",
    "\n",
    "### Notes\n",
    "\n",
    "Can review online docs for\n",
    "\n",
    "-   [how to use rstanarm](https://cran.r-project.org/web/packages/rstanarm/vignettes/rstanarm.html)\n",
    "-   [priors](https://cran.r-project.org/web/packages/rstanarm/vignettes/priors.html)\n",
    "-   [warnings](https://mc-stan.org/misc/warnings.html)\n",
    "-   [tutorial on rstanarm and shinystan](https://www.tqmp.org/RegularArticles/vol14-2/p099/p099.pdf)\n",
    "-   [R Bloggers on perf_mod](https://www.r-bloggers.com/2019/12/tidyposteriors-bayesian-approach-to-model-comparison/)\n",
    "\n",
    "### Set Up Environment"
   ],
   "id": "a14f9ece-088c-4942-9ff2-bc8f3ab0c788"
  },
  {
   "cell_type": "code",
   "execution_count": null,
   "metadata": {},
   "outputs": [],
   "source": [
    "study <- params$study\n",
    "version <- params$version\n",
    "cv <- params$cv\n"
   ],
   "id": "83d66d3c-60d0-49fe-95a2-e28d1b08c7ef"
  },
  {
   "cell_type": "markdown",
   "metadata": {},
   "source": [
    "Packages for script"
   ],
   "id": "22c5a510-fae7-489f-be61-ea82ed8c14c5"
  },
  {
   "cell_type": "code",
   "execution_count": null,
   "metadata": {},
   "outputs": [
    {
     "output_type": "stream",
     "name": "stderr",
     "text": [
      "── Attaching core tidyverse packages ──────────────────────── tidyverse 2.0.0 ──\n",
      "✔ dplyr     1.1.4     ✔ readr     2.1.5\n",
      "✔ forcats   1.0.0     ✔ stringr   1.5.1\n",
      "✔ ggplot2   3.5.1     ✔ tibble    3.2.1\n",
      "✔ lubridate 1.9.3     ✔ tidyr     1.3.1\n",
      "✔ purrr     1.0.2     \n",
      "── Conflicts ────────────────────────────────────────── tidyverse_conflicts() ──\n",
      "✖ dplyr::filter() masks stats::filter()\n",
      "✖ dplyr::lag()    masks stats::lag()\n",
      "ℹ Use the conflicted package (<http://conflicted.r-lib.org/>) to force all conflicts to become errors"
     ]
    },
    {
     "output_type": "stream",
     "name": "stderr",
     "text": [
      "── Attaching packages ────────────────────────────────────── tidymodels 1.2.0 ──\n",
      "✔ broom        1.0.5      ✔ rsample      1.2.1 \n",
      "✔ dials        1.2.1      ✔ tune         1.2.1 \n",
      "✔ infer        1.0.7      ✔ workflows    1.1.4 \n",
      "✔ modeldata    1.3.0      ✔ workflowsets 1.1.0 \n",
      "✔ parsnip      1.2.1      ✔ yardstick    1.3.1 \n",
      "✔ recipes      1.0.10     \n",
      "── Conflicts ───────────────────────────────────────── tidymodels_conflicts() ──\n",
      "✖ scales::discard() masks purrr::discard()\n",
      "✖ dplyr::filter()   masks stats::filter()\n",
      "✖ recipes::fixed()  masks stringr::fixed()\n",
      "✖ dplyr::lag()      masks stats::lag()\n",
      "✖ yardstick::spec() masks readr::spec()\n",
      "✖ recipes::step()   masks stats::step()\n",
      "• Learn how to get started at https://www.tidymodels.org/start/"
     ]
    }
   ],
   "source": [
    "library(tidyposterior)\n",
    "library(tidyverse)\n"
   ],
   "id": "ab4cf9fd-62ba-41bc-9850-26dc8e724dd3"
  },
  {
   "cell_type": "markdown",
   "metadata": {},
   "source": [
    "Absolute paths"
   ],
   "id": "fc639899-1081-41ac-adc7-84d6b9f93a90"
  },
  {
   "cell_type": "code",
   "execution_count": null,
   "metadata": {},
   "outputs": [],
   "source": [
    "switch (Sys.info()[['sysname']],\n",
    "        # PC paths\n",
    "        Windows = {\n",
    "          path_models <- \"P:/studydata/match/models/\"},\n",
    "        \n",
    "        # IOS paths\n",
    "        Darwin = {\n",
    "          path_models <- \"/Volumes/private/studydata/match/models/\"},\n",
    "        \n",
    "        # Linux paths\n",
    "        Linux = {\n",
    "          path_models <- \"~/mnt/private/studydata/match/models/\"}\n",
    ")\n"
   ],
   "id": "31081042-8de0-4400-869f-7830eeaf547b"
  },
  {
   "cell_type": "markdown",
   "metadata": {},
   "source": [
    "Chunk Defaults"
   ],
   "id": "e7962347-3b7f-4261-a6f8-3e26d30ae5c7"
  },
  {
   "cell_type": "code",
   "execution_count": null,
   "metadata": {},
   "outputs": [],
   "source": [
    "knitr::opts_chunk$set(attr.output='style=\"max-height: 500px;\"')\n",
    "\n",
    "options(tibble.width = Inf)\n",
    "options(tibble.print_max = Inf)\n"
   ],
   "id": "e39baaf6-f23d-4fdb-89fb-50fda2c5c5e3"
  },
  {
   "cell_type": "markdown",
   "metadata": {},
   "source": [
    "Source training controls"
   ],
   "id": "a34fd272-e4c5-46b1-bbf3-a5e4b1f2ddb0"
  },
  {
   "cell_type": "code",
   "execution_count": null,
   "metadata": {},
   "outputs": [
    {
     "output_type": "stream",
     "name": "stderr",
     "text": [
      "ℹ SHA-1 hash of file is \"c045eee2655a18dc85e715b78182f176327358a7\""
     ]
    }
   ],
   "source": [
    "# EDA\n",
    "devtools::source_url(\"https://github.com/jjcurtin/lab_support/blob/main/fun_eda.R?raw=true\")\n"
   ],
   "id": "debafbb1-ba29-49a7-8ff9-c382cf702031"
  },
  {
   "cell_type": "markdown",
   "metadata": {},
   "source": [
    "### Read in preds and metrics for best model"
   ],
   "id": "df3ff85e-4716-49f6-85f2-61e97e037df9"
  },
  {
   "cell_type": "code",
   "execution_count": null,
   "metadata": {},
   "outputs": [
    {
     "output_type": "stream",
     "name": "stdout",
     "text": [
      "Rows: 30\n",
      "Columns: 3\n",
      "$ repeat_num <chr> \"repeat1\", \"repeat1\", \"repeat1\", \"repeat1\", \"repeat1\", \"rep…\n",
      "$ fold_num   <chr> \"fold1\", \"fold2\", \"fold3\", \"fold4\", \"fold5\", \"fold6\", \"fold…\n",
      "$ roc_auc    <dbl> 0.5890269, 0.7846271, 0.7469794, 0.6510043, 0.7406656, 0.68…"
     ]
    },
    {
     "output_type": "stream",
     "name": "stdout",
     "text": [
      "Rows: 30\n",
      "Columns: 3\n",
      "$ repeat_num <chr> \"repeat1\", \"repeat1\", \"repeat1\", \"repeat1\", \"repeat1\", \"rep…\n",
      "$ fold_num   <chr> \"fold1\", \"fold2\", \"fold3\", \"fold4\", \"fold5\", \"fold6\", \"fold…\n",
      "$ roc_auc    <dbl> 0.6405063, 0.6494382, 0.6266667, 0.5597776, 0.6827004, 0.63…"
     ]
    },
    {
     "output_type": "stream",
     "name": "stdout",
     "text": [
      "Rows: 30\n",
      "Columns: 4\n",
      "$ repeat_num <chr> \"repeat1\", \"repeat1\", \"repeat1\", \"repeat1\", \"repeat1\", \"rep…\n",
      "$ fold_num   <chr> \"fold1\", \"fold2\", \"fold3\", \"fold4\", \"fold5\", \"fold6\", \"fold…\n",
      "$ week_4     <dbl> 0.5890269, 0.7846271, 0.7469794, 0.6510043, 0.7406656, 0.68…\n",
      "$ week_26    <dbl> 0.6405063, 0.6494382, 0.6266667, 0.5597776, 0.6827004, 0.63…"
     ]
    }
   ],
   "source": [
    "auc_wk4 <- read_rds(file.path(path_models, \"pp_hybrid_wk4_outcome\",\n",
    "                              str_c(\"outer_metrics_\", \n",
    "                                    version, \"_\", cv, \".rds\"))) |> \n",
    "  arrange(outer_split_num) |> \n",
    "  mutate(repeat_num = rep(str_c(\"repeat\", 1:3), each = 10),\n",
    "         fold_num = rep(str_c(\"fold\", 1:10), 3)) |>   # assumes 3x10 fold\n",
    "  select(repeat_num, fold_num, roc_auc) |> \n",
    "  glimpse()\n"
   ],
   "id": "276c29a3-0bac-478f-92f8-3a851901ac10"
  },
  {
   "cell_type": "code",
   "execution_count": null,
   "metadata": {},
   "outputs": [
    {
     "output_type": "display_data",
     "metadata": {},
     "data": {
      "image/png": "[encoded data removed]"
     }
    },
    {
     "output_type": "display_data",
     "metadata": {},
     "data": {
      "image/png": "[encoded data removed]"
     }
    }
   ],
   "source": [
    "auc_wk4 %>% \n",
    "  ggplot() + \n",
    "  geom_histogram(aes(x = roc_auc), bins = 10)\n"
   ],
   "id": "9b6d76f1-ecbf-47e5-bd0e-618c3f8c92a8"
  },
  {
   "cell_type": "markdown",
   "metadata": {},
   "source": [
    "### All models"
   ],
   "id": "48f81ece-b9ef-40ba-9905-25deeea1908c"
  },
  {
   "cell_type": "code",
   "execution_count": null,
   "metadata": {},
   "outputs": [
    {
     "output_type": "stream",
     "name": "stdout",
     "text": [
      "\n",
      "SAMPLING FOR MODEL 'continuous' NOW (CHAIN 1).\n",
      "Chain 1: \n",
      "Chain 1: Gradient evaluation took 6.1e-05 seconds\n",
      "Chain 1: 1000 transitions using 10 leapfrog steps per transition would take 0.61 seconds.\n",
      "Chain 1: Adjust your expectations accordingly!\n",
      "Chain 1: \n",
      "Chain 1: \n",
      "Chain 1: Iteration:    1 / 2000 [  0%]  (Warmup)\n",
      "Chain 1: Iteration:  200 / 2000 [ 10%]  (Warmup)\n",
      "Chain 1: Iteration:  400 / 2000 [ 20%]  (Warmup)\n",
      "Chain 1: Iteration:  600 / 2000 [ 30%]  (Warmup)\n",
      "Chain 1: Iteration:  800 / 2000 [ 40%]  (Warmup)\n",
      "Chain 1: Iteration: 1000 / 2000 [ 50%]  (Warmup)\n",
      "Chain 1: Iteration: 1001 / 2000 [ 50%]  (Sampling)\n",
      "Chain 1: Iteration: 1200 / 2000 [ 60%]  (Sampling)\n",
      "Chain 1: Iteration: 1400 / 2000 [ 70%]  (Sampling)\n",
      "Chain 1: Iteration: 1600 / 2000 [ 80%]  (Sampling)\n",
      "Chain 1: Iteration: 1800 / 2000 [ 90%]  (Sampling)\n",
      "Chain 1: Iteration: 2000 / 2000 [100%]  (Sampling)\n",
      "Chain 1: \n",
      "Chain 1:  Elapsed Time: 1.442 seconds (Warm-up)\n",
      "Chain 1:                0.473 seconds (Sampling)\n",
      "Chain 1:                1.915 seconds (Total)\n",
      "Chain 1: \n",
      "\n",
      "SAMPLING FOR MODEL 'continuous' NOW (CHAIN 2).\n",
      "Chain 2: \n",
      "Chain 2: Gradient evaluation took 3.9e-05 seconds\n",
      "Chain 2: 1000 transitions using 10 leapfrog steps per transition would take 0.39 seconds.\n",
      "Chain 2: Adjust your expectations accordingly!\n",
      "Chain 2: \n",
      "Chain 2: \n",
      "Chain 2: Iteration:    1 / 2000 [  0%]  (Warmup)\n",
      "Chain 2: Iteration:  200 / 2000 [ 10%]  (Warmup)\n",
      "Chain 2: Iteration:  400 / 2000 [ 20%]  (Warmup)\n",
      "Chain 2: Iteration:  600 / 2000 [ 30%]  (Warmup)\n",
      "Chain 2: Iteration:  800 / 2000 [ 40%]  (Warmup)\n",
      "Chain 2: Iteration: 1000 / 2000 [ 50%]  (Warmup)\n",
      "Chain 2: Iteration: 1001 / 2000 [ 50%]  (Sampling)\n",
      "Chain 2: Iteration: 1200 / 2000 [ 60%]  (Sampling)\n",
      "Chain 2: Iteration: 1400 / 2000 [ 70%]  (Sampling)\n",
      "Chain 2: Iteration: 1600 / 2000 [ 80%]  (Sampling)\n",
      "Chain 2: Iteration: 1800 / 2000 [ 90%]  (Sampling)\n",
      "Chain 2: Iteration: 2000 / 2000 [100%]  (Sampling)\n",
      "Chain 2: \n",
      "Chain 2:  Elapsed Time: 0.915 seconds (Warm-up)\n",
      "Chain 2:                0.775 seconds (Sampling)\n",
      "Chain 2:                1.69 seconds (Total)\n",
      "Chain 2: \n",
      "\n",
      "SAMPLING FOR MODEL 'continuous' NOW (CHAIN 3).\n",
      "Chain 3: \n",
      "Chain 3: Gradient evaluation took 2.4e-05 seconds\n",
      "Chain 3: 1000 transitions using 10 leapfrog steps per transition would take 0.24 seconds.\n",
      "Chain 3: Adjust your expectations accordingly!\n",
      "Chain 3: \n",
      "Chain 3: \n",
      "Chain 3: Iteration:    1 / 2000 [  0%]  (Warmup)\n",
      "Chain 3: Iteration:  200 / 2000 [ 10%]  (Warmup)\n",
      "Chain 3: Iteration:  400 / 2000 [ 20%]  (Warmup)\n",
      "Chain 3: Iteration:  600 / 2000 [ 30%]  (Warmup)\n",
      "Chain 3: Iteration:  800 / 2000 [ 40%]  (Warmup)\n",
      "Chain 3: Iteration: 1000 / 2000 [ 50%]  (Warmup)\n",
      "Chain 3: Iteration: 1001 / 2000 [ 50%]  (Sampling)\n",
      "Chain 3: Iteration: 1200 / 2000 [ 60%]  (Sampling)\n",
      "Chain 3: Iteration: 1400 / 2000 [ 70%]  (Sampling)\n",
      "Chain 3: Iteration: 1600 / 2000 [ 80%]  (Sampling)\n",
      "Chain 3: Iteration: 1800 / 2000 [ 90%]  (Sampling)\n",
      "Chain 3: Iteration: 2000 / 2000 [100%]  (Sampling)\n",
      "Chain 3: \n",
      "Chain 3:  Elapsed Time: 1.22 seconds (Warm-up)\n",
      "Chain 3:                0.664 seconds (Sampling)\n",
      "Chain 3:                1.884 seconds (Total)\n",
      "Chain 3: \n",
      "\n",
      "SAMPLING FOR MODEL 'continuous' NOW (CHAIN 4).\n",
      "Chain 4: \n",
      "Chain 4: Gradient evaluation took 2.5e-05 seconds\n",
      "Chain 4: 1000 transitions using 10 leapfrog steps per transition would take 0.25 seconds.\n",
      "Chain 4: Adjust your expectations accordingly!\n",
      "Chain 4: \n",
      "Chain 4: \n",
      "Chain 4: Iteration:    1 / 2000 [  0%]  (Warmup)\n",
      "Chain 4: Iteration:  200 / 2000 [ 10%]  (Warmup)\n",
      "Chain 4: Iteration:  400 / 2000 [ 20%]  (Warmup)\n",
      "Chain 4: Iteration:  600 / 2000 [ 30%]  (Warmup)\n",
      "Chain 4: Iteration:  800 / 2000 [ 40%]  (Warmup)\n",
      "Chain 4: Iteration: 1000 / 2000 [ 50%]  (Warmup)\n",
      "Chain 4: Iteration: 1001 / 2000 [ 50%]  (Sampling)\n",
      "Chain 4: Iteration: 1200 / 2000 [ 60%]  (Sampling)\n",
      "Chain 4: Iteration: 1400 / 2000 [ 70%]  (Sampling)\n",
      "Chain 4: Iteration: 1600 / 2000 [ 80%]  (Sampling)\n",
      "Chain 4: Iteration: 1800 / 2000 [ 90%]  (Sampling)\n",
      "Chain 4: Iteration: 2000 / 2000 [100%]  (Sampling)\n",
      "Chain 4: \n",
      "Chain 4:  Elapsed Time: 0.851 seconds (Warm-up)\n",
      "Chain 4:                0.449 seconds (Sampling)\n",
      "Chain 4:                1.3 seconds (Total)\n",
      "Chain 4: "
     ]
    }
   ],
   "source": [
    "# from ?perf_mod()\n",
    "# Repeated CV (id = repeat, id2 = fold within repeat)\n",
    "\n",
    "set.seed(101)\n",
    "pp <- auc |> \n",
    "  rename(id = repeat_num,\n",
    "         id2 = fold_num) |> \n",
    "  perf_mod(formula = statistic ~ model + (1 | id2/id), \n",
    "           # prior_intercept = rstanarm::student_t(autoscale = TRUE),\n",
    "           # prior = rstanarm::student_t(autoscale = TRUE),\n",
    "           transform = tidyposterior::logit_trans,  # for skewed & bounded AUC\n",
    "           iter = 2000, chains = 4,  \n",
    "           adapt_delta = .99,\n",
    "           # cores = 4, seed = 12345,\n",
    "           family = gaussian, \n",
    "  )  \n"
   ],
   "id": "b45469b5-b9ce-456b-ac9d-a74782b07203"
  },
  {
   "cell_type": "code",
   "execution_count": null,
   "metadata": {},
   "outputs": [
    {
     "output_type": "stream",
     "name": "stdout",
     "text": [
      "Priors for model 'pp$stan' \n",
      "------\n",
      "Intercept (after predictors centered)\n",
      "  Specified prior:\n",
      "    ~ normal(location = 0.68, scale = 2.5)\n",
      "  Adjusted prior:\n",
      "    ~ normal(location = 0.68, scale = 0.66)\n",
      "\n",
      "Coefficients\n",
      "  Specified prior:\n",
      "    ~ normal(location = 0, scale = 2.5)\n",
      "  Adjusted prior:\n",
      "    ~ normal(location = 0, scale = 1.3)\n",
      "\n",
      "Auxiliary (sigma)\n",
      "  Specified prior:\n",
      "    ~ exponential(rate = 1)\n",
      "  Adjusted prior:\n",
      "    ~ exponential(rate = 3.8)\n",
      "\n",
      "Covariance\n",
      " ~ decov(reg. = 1, conc. = 1, shape = 1, scale = 1)\n",
      "------\n",
      "See help('prior_summary.stanreg') for more details"
     ]
    }
   ],
   "source": [
    "rstanarm::prior_summary(pp$stan)\n"
   ],
   "id": "5c70d48c-8d8c-4a65-8847-a6d2e7740e2f"
  },
  {
   "cell_type": "code",
   "execution_count": null,
   "metadata": {},
   "outputs": [
    {
     "output_type": "stream",
     "name": "stdout",
     "text": [
      "\n",
      "Model Info:\n",
      " function:     stan_glmer\n",
      " family:       gaussian [identity]\n",
      " formula:      statistic ~ model + (1 | id2/id)\n",
      " algorithm:    sampling\n",
      " sample:       4000 (posterior sample size)\n",
      " priors:       see help('prior_summary')\n",
      " observations: 60\n",
      " groups:       id:id2 (30), id2 (10)\n",
      "\n",
      "Estimates:\n",
      "                                        mean   sd   10%   50%   90%\n",
      "(Intercept)                            0.6    0.0  0.5   0.6   0.6 \n",
      "modelweek_4                            0.2    0.0  0.2   0.2   0.3 \n",
      "b[(Intercept) id:id2:repeat1:fold1]   -0.1    0.1 -0.3  -0.2   0.0 \n",
      "b[(Intercept) id:id2:repeat1:fold10]  -0.2    0.1 -0.3  -0.2   0.0 \n",
      "b[(Intercept) id:id2:repeat1:fold2]    0.2    0.1  0.1   0.2   0.3 \n",
      "b[(Intercept) id:id2:repeat1:fold3]    0.1    0.1 -0.1   0.1   0.2 \n",
      "b[(Intercept) id:id2:repeat1:fold4]   -0.2    0.1 -0.3  -0.2   0.0 \n",
      "b[(Intercept) id:id2:repeat1:fold5]    0.2    0.1  0.0   0.2   0.3 \n",
      "b[(Intercept) id:id2:repeat1:fold6]    0.0    0.1 -0.1   0.0   0.1 \n",
      "b[(Intercept) id:id2:repeat1:fold7]    0.1    0.1  0.0   0.1   0.3 \n",
      "b[(Intercept) id:id2:repeat1:fold8]    0.1    0.1  0.0   0.1   0.2 \n",
      "b[(Intercept) id:id2:repeat1:fold9]   -0.1    0.1 -0.2  -0.1   0.0 \n",
      "b[(Intercept) id:id2:repeat2:fold1]    0.1    0.1  0.0   0.1   0.2 \n",
      "b[(Intercept) id:id2:repeat2:fold10]   0.2    0.1  0.0   0.2   0.3 \n",
      "b[(Intercept) id:id2:repeat2:fold2]   -0.1    0.1 -0.2  -0.1   0.0 \n",
      "b[(Intercept) id:id2:repeat2:fold3]   -0.3    0.1 -0.5  -0.3  -0.2 \n",
      "b[(Intercept) id:id2:repeat2:fold4]    0.1    0.1 -0.1   0.0   0.2 \n",
      "b[(Intercept) id:id2:repeat2:fold5]    0.0    0.1 -0.2   0.0   0.1 \n",
      "b[(Intercept) id:id2:repeat2:fold6]    0.2    0.1  0.0   0.2   0.3 \n",
      "b[(Intercept) id:id2:repeat2:fold7]    0.0    0.1 -0.2   0.0   0.1 \n",
      "b[(Intercept) id:id2:repeat2:fold8]    0.0    0.1 -0.1   0.0   0.1 \n",
      "b[(Intercept) id:id2:repeat2:fold9]    0.0    0.1 -0.2   0.0   0.1 \n",
      "b[(Intercept) id:id2:repeat3:fold1]    0.0    0.1 -0.1   0.0   0.2 \n",
      "b[(Intercept) id:id2:repeat3:fold10]   0.0    0.1 -0.1   0.0   0.1 \n",
      "b[(Intercept) id:id2:repeat3:fold2]   -0.2    0.1 -0.3  -0.2   0.0 \n",
      "b[(Intercept) id:id2:repeat3:fold3]    0.4    0.1  0.3   0.4   0.6 \n",
      "b[(Intercept) id:id2:repeat3:fold4]    0.0    0.1 -0.1   0.0   0.1 \n",
      "b[(Intercept) id:id2:repeat3:fold5]   -0.1    0.1 -0.2  -0.1   0.1 \n",
      "b[(Intercept) id:id2:repeat3:fold6]    0.0    0.1 -0.1   0.0   0.2 \n",
      "b[(Intercept) id:id2:repeat3:fold7]   -0.1    0.1 -0.2  -0.1   0.0 \n",
      "b[(Intercept) id:id2:repeat3:fold8]   -0.3    0.1 -0.4  -0.3  -0.2 \n",
      "b[(Intercept) id:id2:repeat3:fold9]    0.2    0.1  0.0   0.2   0.3 \n",
      "b[(Intercept) id2:fold1]               0.0    0.0  0.0   0.0   0.0 \n",
      "b[(Intercept) id2:fold10]              0.0    0.0  0.0   0.0   0.0 \n",
      "b[(Intercept) id2:fold2]               0.0    0.0  0.0   0.0   0.0 \n",
      "b[(Intercept) id2:fold3]               0.0    0.0  0.0   0.0   0.1 \n",
      "b[(Intercept) id2:fold4]               0.0    0.0 -0.1   0.0   0.0 \n",
      "b[(Intercept) id2:fold5]               0.0    0.0  0.0   0.0   0.1 \n",
      "b[(Intercept) id2:fold6]               0.0    0.0  0.0   0.0   0.1 \n",
      "b[(Intercept) id2:fold7]               0.0    0.0  0.0   0.0   0.0 \n",
      "b[(Intercept) id2:fold8]               0.0    0.0 -0.1   0.0   0.0 \n",
      "b[(Intercept) id2:fold9]               0.0    0.0  0.0   0.0   0.0 \n",
      "sigma                                  0.2    0.0  0.1   0.2   0.2 \n",
      "Sigma[id:id2:(Intercept),(Intercept)]  0.0    0.0  0.0   0.0   0.1 \n",
      "Sigma[id2:(Intercept),(Intercept)]     0.0    0.0  0.0   0.0   0.0 \n",
      "\n",
      "Fit Diagnostics:\n",
      "           mean   sd   10%   50%   90%\n",
      "mean_PPD 0.7    0.0  0.6   0.7   0.7  \n",
      "\n",
      "The mean_ppd is the sample average posterior predictive distribution of the outcome variable (for details see help('summary.stanreg')).\n",
      "\n",
      "MCMC diagnostics\n",
      "                                      mcse Rhat n_eff\n",
      "(Intercept)                           0.0  1.0  1737 \n",
      "modelweek_4                           0.0  1.0  5576 \n",
      "b[(Intercept) id:id2:repeat1:fold1]   0.0  1.0  3670 \n",
      "b[(Intercept) id:id2:repeat1:fold10]  0.0  1.0  3327 \n",
      "b[(Intercept) id:id2:repeat1:fold2]   0.0  1.0  3301 \n",
      "b[(Intercept) id:id2:repeat1:fold3]   0.0  1.0  3430 \n",
      "b[(Intercept) id:id2:repeat1:fold4]   0.0  1.0  3255 \n",
      "b[(Intercept) id:id2:repeat1:fold5]   0.0  1.0  3369 \n",
      "b[(Intercept) id:id2:repeat1:fold6]   0.0  1.0  3569 \n",
      "b[(Intercept) id:id2:repeat1:fold7]   0.0  1.0  4026 \n",
      "b[(Intercept) id:id2:repeat1:fold8]   0.0  1.0  3263 \n",
      "b[(Intercept) id:id2:repeat1:fold9]   0.0  1.0  3755 \n",
      "b[(Intercept) id:id2:repeat2:fold1]   0.0  1.0  3529 \n",
      "b[(Intercept) id:id2:repeat2:fold10]  0.0  1.0  2776 \n",
      "b[(Intercept) id:id2:repeat2:fold2]   0.0  1.0  4086 \n",
      "b[(Intercept) id:id2:repeat2:fold3]   0.0  1.0  2658 \n",
      "b[(Intercept) id:id2:repeat2:fold4]   0.0  1.0  3614 \n",
      "b[(Intercept) id:id2:repeat2:fold5]   0.0  1.0  4061 \n",
      "b[(Intercept) id:id2:repeat2:fold6]   0.0  1.0  3211 \n",
      "b[(Intercept) id:id2:repeat2:fold7]   0.0  1.0  3737 \n",
      "b[(Intercept) id:id2:repeat2:fold8]   0.0  1.0  3452 \n",
      "b[(Intercept) id:id2:repeat2:fold9]   0.0  1.0  3795 \n",
      "b[(Intercept) id:id2:repeat3:fold1]   0.0  1.0  3882 \n",
      "b[(Intercept) id:id2:repeat3:fold10]  0.0  1.0  3644 \n",
      "b[(Intercept) id:id2:repeat3:fold2]   0.0  1.0  3129 \n",
      "b[(Intercept) id:id2:repeat3:fold3]   0.0  1.0  2515 \n",
      "b[(Intercept) id:id2:repeat3:fold4]   0.0  1.0  4015 \n",
      "b[(Intercept) id:id2:repeat3:fold5]   0.0  1.0  3361 \n",
      "b[(Intercept) id:id2:repeat3:fold6]   0.0  1.0  3931 \n",
      "b[(Intercept) id:id2:repeat3:fold7]   0.0  1.0  3863 \n",
      "b[(Intercept) id:id2:repeat3:fold8]   0.0  1.0  2233 \n",
      "b[(Intercept) id:id2:repeat3:fold9]   0.0  1.0  2988 \n",
      "b[(Intercept) id2:fold1]              0.0  1.0  3274 \n",
      "b[(Intercept) id2:fold10]             0.0  1.0  3286 \n",
      "b[(Intercept) id2:fold2]              0.0  1.0  3026 \n",
      "b[(Intercept) id2:fold3]              0.0  1.0  2850 \n",
      "b[(Intercept) id2:fold4]              0.0  1.0  3367 \n",
      "b[(Intercept) id2:fold5]              0.0  1.0  3093 \n",
      "b[(Intercept) id2:fold6]              0.0  1.0  2201 \n",
      "b[(Intercept) id2:fold7]              0.0  1.0  3708 \n",
      "b[(Intercept) id2:fold8]              0.0  1.0  2398 \n",
      "b[(Intercept) id2:fold9]              0.0  1.0  3616 \n",
      "sigma                                 0.0  1.0  1388 \n",
      "Sigma[id:id2:(Intercept),(Intercept)] 0.0  1.0  1352 \n",
      "Sigma[id2:(Intercept),(Intercept)]    0.0  1.0  1519 \n",
      "mean_PPD                              0.0  1.0  4162 \n",
      "log-posterior                         0.3  1.0   774 \n",
      "\n",
      "For each parameter, mcse is Monte Carlo standard error, n_eff is a crude measure of effective sample size, and Rhat is the potential scale reduction factor on split chains (at convergence Rhat=1)."
     ]
    }
   ],
   "source": [
    "summary(pp$stan)\n"
   ],
   "id": "b0e4fc75-f4dd-4bf5-938f-c5ecbc23a9ac"
  },
  {
   "cell_type": "code",
   "execution_count": null,
   "metadata": {},
   "outputs": [],
   "source": [
    "# shinystan::launch_shinystan(pp$stan)\n"
   ],
   "id": "1b1f2065-fc47-4b43-94a1-82f7def72cca"
  },
  {
   "cell_type": "code",
   "execution_count": null,
   "metadata": {},
   "outputs": [],
   "source": [
    "pp %>%  write_rds(file.path(path_models, \n",
    "                            str_c(\"posteriors_\", version, \"_nested.rds\")))\n"
   ],
   "id": "82277037-a672-4f9e-ad5e-c1306dfd5ecf"
  },
  {
   "cell_type": "markdown",
   "metadata": {},
   "source": [
    "### Model posterier CIs"
   ],
   "id": "51966ce0-6cd0-4fbc-a146-e2507325a31b"
  },
  {
   "cell_type": "code",
   "execution_count": null,
   "metadata": {},
   "outputs": [
    {
     "output_type": "stream",
     "name": "stdout",
     "text": [
      "# A tibble: 2 × 5\n",
      "  model   median lower upper     y\n",
      "  <fct>    <dbl> <dbl> <dbl> <dbl>\n",
      "1 Week 26  0.639 0.617 0.661  1000\n",
      "2 Week 4   0.687 0.666 0.707  1000"
     ]
    }
   ],
   "source": [
    "pp_tidy <- pp %>% \n",
    "  tidy(seed = 123)\n",
    "\n",
    "q = c(.025, .5, .975)\n",
    "pp_tidy |> \n",
    "  group_by(model) |> \n",
    "  summarize(median = quantile(posterior, probs = q[2]),\n",
    "            lower = quantile(posterior, probs = q[1]), \n",
    "            upper = quantile(posterior, probs = q[3])) |> \n",
    "  mutate(model = factor(model, levels = c(\"week_26\", \"week_4\"),\n",
    "                        labels = c(\"Week 26\", \"Week 4\")),\n",
    "         y = 1000) |> \n",
    "  arrange(model)\n"
   ],
   "id": "5f70456b-a4c1-4dfd-ab69-dd039fab60ac"
  },
  {
   "cell_type": "markdown",
   "metadata": {},
   "source": [
    "### Model contrasts"
   ],
   "id": "355861cf-c553-478e-8994-0a7af2df29cc"
  },
  {
   "cell_type": "code",
   "execution_count": null,
   "metadata": {},
   "outputs": [
    {
     "output_type": "stream",
     "name": "stdout",
     "text": [
      "# A tibble: 1 × 9\n",
      "  contrast          probability   mean  lower  upper  size pract_neg pract_equiv\n",
      "  <chr>                   <dbl>  <dbl>  <dbl>  <dbl> <dbl>     <dbl>       <dbl>\n",
      "1 week_4 vs week_26           1 0.0474 0.0298 0.0646  0.01         0           0\n",
      "  pract_pos\n",
      "      <dbl>\n",
      "1         1"
     ]
    },
    {
     "output_type": "display_data",
     "metadata": {},
     "data": {
      "image/png": "[encoded data removed]"
     }
    }
   ],
   "source": [
    "pp_contrasts <- contrast_models(pp, \n",
    "                                list(\"week_4\"), \n",
    "                                list(\"week_26\"))\n",
    "summary(pp_contrasts, size = .01, prob = 0.95)\n"
   ],
   "id": "7e51e97b-2092-4c07-ab3c-8fbcb199102d"
  },
  {
   "cell_type": "markdown",
   "metadata": {},
   "source": [
    "Here are contrasts against 0 rather than using ROPE"
   ],
   "id": "2e3899ff-2c83-40b1-af61-082880c1701d"
  },
  {
   "cell_type": "code",
   "execution_count": null,
   "metadata": {},
   "outputs": [
    {
     "output_type": "stream",
     "name": "stdout",
     "text": [
      "[1] 1"
     ]
    }
   ],
   "source": [
    "pp_contrasts |> \n",
    "  mutate(wk4_gt_wk26 = if_else(difference > 0, 1, 0)) |>\n",
    "  pull(wk4_gt_wk26) |> \n",
    "  mean()\n"
   ],
   "id": "25e5fb36-5179-407e-9f3c-4cb1483399c6"
  },
  {
   "cell_type": "markdown",
   "metadata": {},
   "source": [
    "### Plots\n",
    "\n",
    "Model posteriors"
   ],
   "id": "df40a80b-6c0f-4956-8b4b-9f270059873e"
  },
  {
   "cell_type": "code",
   "execution_count": null,
   "metadata": {},
   "outputs": [],
   "source": [
    "ci <- pp_tidy |> \n",
    "  summary() |> \n",
    "  mutate(model = factor(model, levels = c(\"week_4\", \"week_26\")),\n",
    "         y = 1000) \n",
    "\n",
    "ci_week4 <- ci |> \n",
    "  filter(model == \"week_4\")\n"
   ],
   "id": "a0473108-df84-4797-a545-5076f1a21976"
  },
  {
   "cell_type": "code",
   "execution_count": null,
   "metadata": {},
   "outputs": [
    {
     "output_type": "display_data",
     "metadata": {},
     "data": {
      "image/png": "[encoded data removed]"
     }
    }
   ],
   "source": [
    "fig_posteriors <- pp_tidy |> \n",
    "  mutate(model = factor(model, levels = c(\"week_4\", \"week_26\"))) |> \n",
    "  ggplot() + \n",
    "  geom_histogram(aes(x = posterior, fill = model), color = \"black\", alpha = .4, \n",
    "                 bins = 30) +\n",
    "  geom_segment(mapping = aes(y = y + 100, yend = y - 100, x = mean, xend = mean,\n",
    "                             color = model),\n",
    "               data = ci) +\n",
    "  geom_segment(mapping = aes(y = y, yend = y, \n",
    "                             x = lower, xend = upper, color = model),\n",
    "               data = ci) +\n",
    "  facet_wrap(~model, ncol = 1) +\n",
    "  scale_y_continuous(\"Posterior Probability\", breaks = c(0, 500, 1000)) +\n",
    "  # ylab(\"Posterior Probability Density\") +\n",
    "  xlab(\"Area Under ROC Curve\")\n",
    "\n",
    "fig_posteriors\n"
   ],
   "id": "cell-fig-posteriors"
  },
  {
   "cell_type": "code",
   "execution_count": null,
   "metadata": {},
   "outputs": [
    {
     "output_type": "display_data",
     "metadata": {},
     "data": {
      "image/png": "[encoded data removed]"
     }
    }
   ],
   "source": [
    "\n",
    "pp_tidy |> \n",
    "  mutate(model = factor(model, levels = c(\"week_4\", \"week_26\"))) |> \n",
    "  filter(model == \"week_4\") |> \n",
    "  ggplot() + \n",
    "  geom_histogram(aes(x = posterior, fill = model), color = \"black\", alpha = .4, \n",
    "                 bins = 30) +\n",
    "  geom_segment(mapping = aes(y = y + 100, yend = y - 100, x = mean, xend = mean,\n",
    "                             color = model),\n",
    "               data = ci_week4) +\n",
    "  geom_segment(mapping = aes(y = y, yend = y, \n",
    "                             x = lower, xend = upper, color = model),\n",
    "               data = ci_week4) +\n",
    "  scale_y_continuous(\"Posterior Probability\", breaks = c(0, 500, 1000)) +\n",
    "  # ylab(\"Posterior Probability Density\") +\n",
    "  xlab(\"Area Under ROC Curve\") +\n",
    "  theme(legend.position = \"none\")\n"
   ],
   "id": "cell-fig-week4"
  },
  {
   "cell_type": "markdown",
   "metadata": {},
   "source": [
    "model contrast posteriors"
   ],
   "id": "35a65e38-eead-446b-969e-ddc745861183"
  },
  {
   "cell_type": "code",
   "execution_count": null,
   "metadata": {},
   "outputs": [],
   "source": [
    "ci_con <- pp |>\n",
    "  contrast_models(list(\"week_4\"), \n",
    "                  list(\"week_26\")) |> \n",
    "  summary(size = .01) |> \n",
    "  mutate(contrast = factor(contrast, \n",
    "                           levels = c(\"week_4 vs week_26\"),\n",
    "                           labels = c(\"week 4 vs. week 26\")),\n",
    "         y = 700)\n"
   ],
   "id": "882c4c17-3405-44c8-ad98-22adc7e797ea"
  },
  {
   "cell_type": "code",
   "execution_count": null,
   "metadata": {},
   "outputs": [
    {
     "output_type": "display_data",
     "metadata": {},
     "data": {
      "image/png": "[encoded data removed]"
     }
    }
   ],
   "source": [
    "fig_contrasts <- pp |> \n",
    "  tidy(seed = 123) |>   \n",
    "  group_by(model) |> \n",
    "  mutate(sample = row_number()) |> \n",
    "  ungroup() |> \n",
    "  pivot_wider(names_from = model, values_from = posterior) |> \n",
    "  mutate(posterior = week_4 - week_26) |> \n",
    "  ggplot() +\n",
    "  geom_histogram(aes(x = posterior), \n",
    "                 color = \"black\", alpha = .4, bins = 30) +\n",
    "  geom_vline(xintercept = 0, color = \"yellow\", \n",
    "             linetype = \"dashed\", linewidth = 1) +\n",
    "  # geom_vline(xintercept = .01, color = \"yellow\", \n",
    "  #            linetype = \"dashed\", linewidth = 1) +\n",
    "  geom_segment(mapping = aes(y = y+50, yend = y-50, \n",
    "                             x = mean, xend = mean), \n",
    "               data = ci_con) +\n",
    "  geom_segment(mapping = aes(y = y, yend = y, \n",
    "                             x = lower, xend = upper), \n",
    "               data = ci_con) +\n",
    "  ylab(\"Posterior Probability\") +\n",
    "  xlab(\"Model Contrast for auROC (Week 4 vs. Week 26)\")\n",
    "\n",
    "fig_contrasts\n"
   ],
   "id": "cell-fig-contrasts"
  }
 ],
 "nbformat": 4,
 "nbformat_minor": 5,
 "metadata": {}
}

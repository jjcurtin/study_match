{
 "cells": [
  {
   "cell_type": "markdown",
   "metadata": {},
   "source": [
    "# Evaluation of Clinical Benefit: Week 4 Model\n",
    "\n",
    "Gaylen Fronk  \n",
    "May 27, 2024"
   ],
   "id": "d4d021b4-efcb-403a-b359-51252f460442"
  },
  {
   "cell_type": "code",
   "execution_count": null,
   "metadata": {},
   "outputs": [],
   "source": [
    "study <- params$study\n",
    "version <- params$version\n",
    "y_col_name <- params$y_col_name\n"
   ],
   "id": "20cd4275-cc61-4746-b619-a36682826c6b"
  },
  {
   "cell_type": "code",
   "execution_count": null,
   "metadata": {},
   "outputs": [
    {
     "output_type": "stream",
     "name": "stderr",
     "text": [
      "── Attaching core tidyverse packages ──────────────────────── tidyverse 2.0.0 ──\n",
      "✔ dplyr     1.1.4     ✔ readr     2.1.5\n",
      "✔ forcats   1.0.0     ✔ stringr   1.5.1\n",
      "✔ ggplot2   3.5.1     ✔ tibble    3.2.1\n",
      "✔ lubridate 1.9.3     ✔ tidyr     1.3.1\n",
      "✔ purrr     1.0.2     \n",
      "── Conflicts ────────────────────────────────────────── tidyverse_conflicts() ──\n",
      "✖ dplyr::filter() masks stats::filter()\n",
      "✖ dplyr::lag()    masks stats::lag()\n",
      "ℹ Use the conflicted package (<http://conflicted.r-lib.org/>) to force all conflicts to become errors"
     ]
    },
    {
     "output_type": "stream",
     "name": "stderr",
     "text": [
      "Loading required package: lme4\n",
      "Loading required package: Matrix\n",
      "\n",
      "Attaching package: 'Matrix'\n",
      "\n",
      "The following objects are masked from 'package:tidyr':\n",
      "\n",
      "    expand, pack, unpack"
     ]
    },
    {
     "output_type": "stream",
     "name": "stderr",
     "text": [
      "ℹ SHA-1 hash of file is \"c045eee2655a18dc85e715b78182f176327358a7\""
     ]
    },
    {
     "output_type": "stream",
     "name": "stderr",
     "text": [
      "ℹ SHA-1 hash of file is \"b58b9e0adc05e89609ee8bc6f20c39375b262fe6\""
     ]
    }
   ],
   "source": [
    "\n",
    "# packages for script\n",
    "library(tidyverse)\n"
   ],
   "id": "e889883b-9ef9-4e53-b6ae-54457b2e4da3"
  },
  {
   "cell_type": "code",
   "execution_count": null,
   "metadata": {},
   "outputs": [],
   "source": [
    "\n",
    "# handle conflicts\n",
    "options(conflicts.policy = \"depends.ok\")\n"
   ],
   "id": "69cd251f-baf7-43c7-bee9-cf7f65cb4450"
  },
  {
   "cell_type": "code",
   "execution_count": null,
   "metadata": {},
   "outputs": [],
   "source": [
    "# absolute paths\n",
    "switch (Sys.info()[['sysname']],\n",
    "        # PC paths\n",
    "        Windows = {\n",
    "          path_models <- str_c(\"P:/studydata/match/models/\", y_col_name)},\n",
    "        \n",
    "        # IOS paths\n",
    "        Darwin = {\n",
    "          path_models <- str_c(\"/Volumes/private/studydata/match/models/\", y_col_name)},\n",
    "        \n",
    "        # Linux paths\n",
    "        Linux = {\n",
    "          path_models <- str_c(\"~/mnt/private/studydata/match/models/\", y_col_name)}\n",
    ")\n"
   ],
   "id": "00fce306-7a52-459a-8eb9-939baf6345ae"
  },
  {
   "cell_type": "code",
   "execution_count": null,
   "metadata": {},
   "outputs": [],
   "source": [
    "# chunk defaults\n",
    "\n",
    "options(tibble.width = Inf)\n",
    "options(tibble.print_max = Inf)\n"
   ],
   "id": "c5f38028-f6e0-499f-a116-277e88bbe21a"
  },
  {
   "cell_type": "markdown",
   "metadata": {},
   "source": [
    "Read in aim 2 dataset"
   ],
   "id": "359525f6-e985-4297-90ae-eb1d64dd3307"
  },
  {
   "cell_type": "code",
   "execution_count": null,
   "metadata": {},
   "outputs": [
    {
     "output_type": "stream",
     "name": "stdout",
     "text": [
      "Rows: 3,258\n",
      "Columns: 16\n",
      "$ subid            <dbl> 20010, 20010, 20010, 20015, 20015, 20015, 20030, 2003…\n",
      "$ tx_rct           <chr> \"patch\", \"patch\", \"patch\", \"combo_nrt\", \"combo_nrt\", …\n",
      "$ tx_best          <chr> \"varenicline\", \"varenicline\", \"varenicline\", \"varenic…\n",
      "$ tx_match         <lgl> FALSE, FALSE, FALSE, FALSE, FALSE, FALSE, FALSE, FALS…\n",
      "$ tx_worst         <chr> \"combo_nrt\", \"combo_nrt\", \"combo_nrt\", \"patch\", \"patc…\n",
      "$ tx_second        <chr> \"patch\", \"patch\", \"patch\", \"combo_nrt\", \"combo_nrt\", …\n",
      "$ tx_rank          <chr> \"second\", \"second\", \"second\", \"second\", \"second\", \"se…\n",
      "$ prob_best        <dbl> 0.2344881, 0.2344881, 0.2344881, 0.5109733, 0.5109733…\n",
      "$ prob_patch       <dbl> 0.2093074, 0.2093074, 0.2093074, 0.4650573, 0.4650573…\n",
      "$ prob_combo_nrt   <dbl> 0.1969431, 0.1969431, 0.1969431, 0.4954341, 0.4954341…\n",
      "$ prob_varenicline <dbl> 0.2344881, 0.2344881, 0.2344881, 0.5109733, 0.5109733…\n",
      "$ week             <dbl> 4, 12, 26, 4, 12, 26, 4, 12, 26, 4, 12, 26, 4, 12, 26…\n",
      "$ outcome_rct_num  <dbl> 0, 0, 0, 0, 0, 0, 0, 0, 0, 0, 1, 1, 0, 0, 0, 0, 0, 0,…\n",
      "$ c_tx_match       <dbl> -0.5, -0.5, -0.5, -0.5, -0.5, -0.5, -0.5, -0.5, -0.5,…\n",
      "$ week_log_2       <dbl> 2.000000, 3.584963, 4.700440, 2.000000, 3.584963, 4.7…\n",
      "$ c4_week_log_2    <dbl> 0.000000, 1.584963, 2.700440, 0.000000, 1.584963, 2.7…"
     ]
    }
   ],
   "source": [
    "d <- read_csv(file.path(path_models, \n",
    "                        str_c(\"aim_2_\", version, \"_none_\", y_col_name, \".csv\")),\n",
    "              show_col_types = FALSE) |> \n",
    "  mutate(outcome_rct_wk4_num = if_else(outcome_rct_wk4 == \"abstinent\", 1, 0),\n",
    "         outcome_rct_wk12_num = if_else(outcome_rct_wk12 == \"abstinent\", 1, 0),\n",
    "         outcome_rct_wk26_num = if_else(outcome_rct_wk26 == \"abstinent\", 1, 0),\n",
    "         tx_worst = case_when(\n",
    "           prob_patch < prob_combo_nrt & prob_patch < prob_varenicline ~ \"patch\",\n",
    "           prob_combo_nrt < prob_patch & prob_combo_nrt < prob_varenicline ~ \"combo_nrt\",\n",
    "           prob_varenicline < prob_patch & prob_varenicline < prob_combo_nrt ~ \"varenicline\",\n",
    "           TRUE ~ NA_character_),\n",
    "         tx_second = case_when(\n",
    "           tx_worst == \"patch\" & tx_best == \"varenicline\" ~ \"combo_nrt\",\n",
    "           tx_worst == \"patch\" & tx_best == \"combo_nrt\" ~ \"varenicline\",\n",
    "           tx_worst == \"varenicline\" & tx_best == \"patch\" ~ \"combo_nrt\",\n",
    "           tx_worst == \"varenicline\" & tx_best == \"combo_nrt\" ~ \"patch\",\n",
    "           tx_worst == \"combo_nrt\" & tx_best == \"varenicline\" ~ \"patch\",\n",
    "           tx_worst == \"combo_nrt\" & tx_best == \"patch\" ~ \"varenicline\",\n",
    "           TRUE ~ NA_character_)) |> \n",
    "  mutate(tx_rank = case_when(\n",
    "    tx_rct == tx_best ~ \"first\",\n",
    "    tx_rct == tx_second ~ \"second\",\n",
    "    tx_rct == tx_worst ~ \"third\",\n",
    "    TRUE ~ NA_character_)) |> \n",
    "  select(subid, starts_with(\"tx_\"), starts_with(\"prob_\"),\n",
    "         outcome_rct_wk4_num, outcome_rct_wk12_num, outcome_rct_wk26_num) |> \n",
    "  pivot_longer(\n",
    "    cols = c(outcome_rct_wk4_num, outcome_rct_wk12_num, outcome_rct_wk26_num),\n",
    "    names_to = \"week\",\n",
    "    names_pattern = \"(?<=outcome_rct_wk)(.+)(?=_num)\",\n",
    "    values_to = \"outcome_rct_num\"\n",
    "  ) |> \n",
    "  mutate(c_tx_match = if_else(tx_match == TRUE, 0.5, -0.5), # center\n",
    "         week = as.numeric(week)) |> \n",
    "  # log transformation\n",
    "  mutate(week_log_2 = log(week, base = 2)) |> \n",
    "  # week 4-centered log transformation\n",
    "  mutate(c4_week_log_2 = week_log_2 - log(4, base = 2))\n",
    "\n",
    "glimpse(d)\n"
   ],
   "id": "c845446f-b5c3-44f1-8ac0-c6528ab33fcc"
  },
  {
   "cell_type": "markdown",
   "metadata": {},
   "source": [
    "## Analyses\n",
    "\n",
    "### Primary model\n",
    "\n",
    "*NOTE*: differs from preregistration (base 2 instead of base e)\n",
    "\n",
    "4-week-centered, log-transformed week (base 2)"
   ],
   "id": "d1240066-9ce7-4985-83b6-363b60a7f39a"
  },
  {
   "cell_type": "code",
   "execution_count": null,
   "metadata": {},
   "outputs": [
    {
     "output_type": "stream",
     "name": "stderr",
     "text": [
      "Model already exists for version v5. Reading in existing model"
     ]
    }
   ],
   "source": [
    "if(file.exists(file.path(path_models, \n",
    "                         str_c(\"model_clin_benefit_\", version, \".rds\")))){\n",
    "  message(str_c(\"Model already exists for version \", \n",
    "                version, \". Reading in existing model\"))\n",
    "  \n",
    "  model_bayes <- read_rds(file.path(path_models, \n",
    "                                    str_c(\"model_clin_benefit_\", version, \".rds\")))\n",
    "  \n",
    "} else {\n",
    "  message(\"Fitting new model & saving out\")\n",
    "  model_bayes <- blme::bglmer(outcome_rct_num ~ c_tx_match * c4_week_log_2 + \n",
    "                                (1 + c4_week_log_2 | subid),\n",
    "                              data = d,\n",
    "                              family = binomial(link = \"logit\"),\n",
    "                              control = glmerControl(optCtrl = list(maxfun = 3e6)))\n",
    "  \n",
    "  model_bayes |> \n",
    "    write_rds(file.path(path_models, \n",
    "                        str_c(\"model_clin_benefit_\", version, \".rds\")))\n",
    "}\n"
   ],
   "id": "5943f9d9-ad46-4559-bece-d33dae864a42"
  },
  {
   "cell_type": "markdown",
   "metadata": {},
   "source": [
    "Evaluate model"
   ],
   "id": "6337cb1d-3470-4752-810e-9d4317fa76d9"
  },
  {
   "cell_type": "code",
   "execution_count": null,
   "metadata": {},
   "outputs": [
    {
     "output_type": "stream",
     "name": "stdout",
     "text": [
      "Cov prior  : subid ~ wishart(df = 4.5, scale = Inf, posterior.scale = cov, common.scale = TRUE)\n",
      "Prior dev  : -1.5157\n",
      "\n",
      "Generalized linear mixed model fit by maximum likelihood (Laplace\n",
      "  Approximation) [bglmerMod]\n",
      " Family: binomial  ( logit )\n",
      "Formula: outcome_rct_num ~ c_tx_match * c4_week_log_2 + (1 + c4_week_log_2 |  \n",
      "    subid)\n",
      "   Data: d\n",
      "Control: glmerControl(optCtrl = list(maxfun = 3e+06))\n",
      "\n",
      "     AIC      BIC   logLik deviance df.resid \n",
      "  3045.9   3088.6  -1516.0   3031.9     3251 \n",
      "\n",
      "Scaled residuals: \n",
      "     Min       1Q   Median       3Q      Max \n",
      "-1.60825 -0.32784 -0.06676  0.17412  1.59916 \n",
      "\n",
      "Random effects:\n",
      " Groups Name          Variance Std.Dev. Corr\n",
      " subid  (Intercept)   3.977    1.994        \n",
      "        c4_week_log_2 5.848    2.418    0.94\n",
      "Number of obs: 3258, groups:  subid, 1086\n",
      "\n",
      "Fixed effects:\n",
      "                         Estimate Std. Error z value Pr(>|z|)    \n",
      "(Intercept)              -1.05563    0.16229  -6.505 7.79e-11 ***\n",
      "c_tx_match                1.46351    0.25949   5.640 1.70e-08 ***\n",
      "c4_week_log_2            -1.52052    0.15285  -9.948  < 2e-16 ***\n",
      "c_tx_match:c4_week_log_2 -0.04555    0.21204  -0.215     0.83    \n",
      "---\n",
      "Signif. codes:  0 '***' 0.001 '**' 0.01 '*' 0.05 '.' 0.1 ' ' 1\n",
      "\n",
      "Correlation of Fixed Effects:\n",
      "            (Intr) c_tx_m c4___2\n",
      "c_tx_match  -0.301              \n",
      "c4_wek_lg_2 -0.142  0.216       \n",
      "c_tx_:4___2  0.247  0.000 -0.009"
     ]
    }
   ],
   "source": [
    "summary(model_bayes)\n"
   ],
   "id": "197b2dae-3faf-4c1d-9240-07ccba88415f"
  },
  {
   "cell_type": "markdown",
   "metadata": {},
   "source": [
    "### Follow-up analyses: Simple Effects\n",
    "\n",
    "From preregistration: If the interaction between `tx_match` and `week` is significant (*p* \\< 0.05), we will conduct follow-up analyses to test the simple effect of `tx_match` at each time point.\n",
    "\n",
    "Interaction between `tx_match` and `week` was not significant (*p* = 0.83); however, we have opted to conduct simple effects analyses to more fully characterize our findings in probability terms and given known issues with conducting and interpreting interactions in logistic regression models.\n",
    "\n",
    "Simple effect at 4 weeks"
   ],
   "id": "195ad89f-86d4-471a-95c3-e7c36287d067"
  },
  {
   "cell_type": "code",
   "execution_count": null,
   "metadata": {},
   "outputs": [
    {
     "output_type": "stream",
     "name": "stdout",
     "text": [
      "\n",
      "Call:\n",
      "glm(formula = outcome_rct_num ~ c_tx_match, family = binomial(link = \"logit\"), \n",
      "    data = d_4)\n",
      "\n",
      "Coefficients:\n",
      "            Estimate Std. Error z value Pr(>|z|)    \n",
      "(Intercept) -0.63677    0.06464  -9.851   <2e-16 ***\n",
      "c_tx_match   0.26132    0.12928   2.021   0.0432 *  \n",
      "---\n",
      "Signif. codes:  0 '***' 0.001 '**' 0.01 '*' 0.05 '.' 0.1 ' ' 1\n",
      "\n",
      "(Dispersion parameter for binomial family taken to be 1)\n",
      "\n",
      "    Null deviance: 1394.7  on 1085  degrees of freedom\n",
      "Residual deviance: 1390.6  on 1084  degrees of freedom\n",
      "AIC: 1394.6\n",
      "\n",
      "Number of Fisher Scoring iterations: 4"
     ]
    }
   ],
   "source": [
    "d_4 <- d |> \n",
    "  filter(week == 4)\n",
    "\n",
    "model_4wk <- glm(outcome_rct_num ~ c_tx_match, \n",
    "                 data = d_4,\n",
    "                 family = binomial(link = \"logit\"))\n",
    "\n",
    "summary(model_4wk)\n"
   ],
   "id": "2a56adb2-7c54-4ac0-968b-0a14ed2af33c"
  },
  {
   "cell_type": "markdown",
   "metadata": {},
   "source": [
    "Simple effect at 12 weeks"
   ],
   "id": "cc293800-176e-4b8d-9c8b-ea6581c29797"
  },
  {
   "cell_type": "code",
   "execution_count": null,
   "metadata": {},
   "outputs": [
    {
     "output_type": "stream",
     "name": "stdout",
     "text": [
      "\n",
      "Call:\n",
      "glm(formula = outcome_rct_num ~ c_tx_match, family = binomial(link = \"logit\"), \n",
      "    data = d_12)\n",
      "\n",
      "Coefficients:\n",
      "            Estimate Std. Error z value Pr(>|z|)    \n",
      "(Intercept) -0.89080    0.06771 -13.156   <2e-16 ***\n",
      "c_tx_match   0.05318    0.13542   0.393    0.695    \n",
      "---\n",
      "Signif. codes:  0 '***' 0.001 '**' 0.01 '*' 0.05 '.' 0.1 ' ' 1\n",
      "\n",
      "(Dispersion parameter for binomial family taken to be 1)\n",
      "\n",
      "    Null deviance: 1308.0  on 1085  degrees of freedom\n",
      "Residual deviance: 1307.8  on 1084  degrees of freedom\n",
      "AIC: 1311.8\n",
      "\n",
      "Number of Fisher Scoring iterations: 4"
     ]
    }
   ],
   "source": [
    "d_12 <- d |> \n",
    "  filter(week == 12)\n",
    "\n",
    "model_12wk <- glm(outcome_rct_num ~ c_tx_match, \n",
    "                  data = d_12,\n",
    "                  family = binomial(link = \"logit\"))\n",
    "\n",
    "summary(model_12wk)\n"
   ],
   "id": "642518be-f96b-4f21-a7e7-e87323b7d045"
  },
  {
   "cell_type": "markdown",
   "metadata": {},
   "source": [
    "Simple effect at 26 weeks"
   ],
   "id": "3fda7b52-6367-412c-83d0-7a9729a3d306"
  },
  {
   "cell_type": "code",
   "execution_count": null,
   "metadata": {},
   "outputs": [
    {
     "output_type": "stream",
     "name": "stdout",
     "text": [
      "\n",
      "Call:\n",
      "glm(formula = outcome_rct_num ~ c_tx_match, family = binomial(link = \"logit\"), \n",
      "    data = d_26)\n",
      "\n",
      "Coefficients:\n",
      "             Estimate Std. Error z value Pr(>|z|)    \n",
      "(Intercept) -1.115101   0.071365 -15.625   <2e-16 ***\n",
      "c_tx_match   0.009308   0.142731   0.065    0.948    \n",
      "---\n",
      "Signif. codes:  0 '***' 0.001 '**' 0.01 '*' 0.05 '.' 0.1 ' ' 1\n",
      "\n",
      "(Dispersion parameter for binomial family taken to be 1)\n",
      "\n",
      "    Null deviance: 1213.6  on 1085  degrees of freedom\n",
      "Residual deviance: 1213.6  on 1084  degrees of freedom\n",
      "AIC: 1217.6\n",
      "\n",
      "Number of Fisher Scoring iterations: 4"
     ]
    }
   ],
   "source": [
    "d_26 <- d |> \n",
    "  filter(week == 26)\n",
    "\n",
    "model_26wk <- glm(outcome_rct_num ~ c_tx_match, \n",
    "                  data = d_26,\n",
    "                  family = binomial(link = \"logit\"))\n",
    "\n",
    "summary(model_26wk)\n"
   ],
   "id": "bd826975-0945-46d7-a6c2-c380b8ee8945"
  },
  {
   "cell_type": "markdown",
   "metadata": {},
   "source": [
    "## Figure\n",
    "\n",
    "Primary figure"
   ],
   "id": "82a7b134-fd97-4d9c-97c6-302286cc3494"
  },
  {
   "cell_type": "code",
   "execution_count": null,
   "metadata": {},
   "outputs": [
    {
     "output_type": "stream",
     "name": "stderr",
     "text": [
      "`summarise()` has grouped output by 'week_cat'. You can override using the\n",
      "`.groups` argument."
     ]
    },
    {
     "output_type": "display_data",
     "metadata": {},
     "data": {
      "image/png": "[encoded data removed]"
     }
    }
   ],
   "source": [
    "d |> \n",
    "  mutate(week_cat = factor(week,\n",
    "                           levels = c(4, 12, 26),\n",
    "                           labels = c(\"Week 4\", \"Week 12\", \"Week 26\")),\n",
    "         tx_match = factor(tx_match, \n",
    "                           levels = c(TRUE, FALSE),\n",
    "                           labels = c(\"Matched to Best\", \"Unmatched\"))) |> \n",
    "  group_by(week_cat, tx_match) |> \n",
    "  summarize(mean_outcome = mean(outcome_rct_num)) |> \n",
    "  ggplot(aes(x = week_cat, y = mean_outcome, fill = tx_match)) +\n",
    "  geom_col(position = \"dodge\") +\n",
    "  labs(\n",
    "    x = \"Week On-Study\",\n",
    "    y = \"Mean Abstinence Rate\",\n",
    "    fill = \"Treatment Matching\"\n",
    "  )\n"
   ],
   "id": "cell-fig-clin-ben-wk4"
  },
  {
   "cell_type": "markdown",
   "metadata": {},
   "source": [
    "Make predicted dataset"
   ],
   "id": "9c1b8204-b8eb-4c16-9c68-5435c07de3b7"
  },
  {
   "cell_type": "code",
   "execution_count": null,
   "metadata": {},
   "outputs": [
    {
     "output_type": "stream",
     "name": "stderr",
     "text": [
      "`summarise()` has grouped output by 'week_cat'. You can override using the\n",
      "`.groups` argument."
     ]
    }
   ],
   "source": [
    "d_fig_alt <- d |> \n",
    "  select(subid, c_tx_match, c4_week_log_2) |> \n",
    "  mutate(pred_logodds = predict(model_bayes, d)) |> \n",
    "  mutate(pred_probs = predict(model_bayes, d, type = \"response\")) |> \n",
    "  mutate(week_cat = factor(c4_week_log_2,\n",
    "                           levels = c(0, (log(12, base = 2) - 2), \n",
    "                                      (log(26, base = 2) - 2)),\n",
    "                           labels = c(\"Week 4\", \"Week 12\", \"Week 26\")),\n",
    "         tx_match = factor(c_tx_match, \n",
    "                           levels = c(0.5, -0.5),\n",
    "                           labels = c(\"Matched to Best\", \"Unmatched\"))) |> \n",
    "  group_by(week_cat, tx_match) |> \n",
    "  summarize(mean_pred_logodds = mean(pred_logodds),\n",
    "            mean_pred_probs = mean(pred_probs))\n"
   ],
   "id": "cddf7f30-1139-410e-aa5c-af4ac3ac45ce"
  },
  {
   "cell_type": "markdown",
   "metadata": {},
   "source": [
    "Log odds figure"
   ],
   "id": "b1ff7768-1117-498b-b2d8-9d2d71cc6e22"
  },
  {
   "cell_type": "code",
   "execution_count": null,
   "metadata": {},
   "outputs": [
    {
     "output_type": "display_data",
     "metadata": {},
     "data": {
      "image/png": "[encoded data removed]"
     }
    }
   ],
   "source": [
    "d_fig_alt |> \n",
    "  ggplot(aes(x = week_cat, y = mean_pred_logodds, fill = tx_match)) +\n",
    "  geom_col(position = \"dodge\") +\n",
    "  labs(\n",
    "    x = \"Week On-Study\",\n",
    "    y = \"Log Odds\",\n",
    "    fill = \"Treatment Matching\"\n",
    "  )\n"
   ],
   "id": "5320847c-4125-43c5-b5f3-533ec5742480"
  },
  {
   "cell_type": "markdown",
   "metadata": {},
   "source": [
    "Predicted probabilities figure"
   ],
   "id": "9c586bbe-4051-4a6e-a0f7-d3cc4da207d5"
  },
  {
   "cell_type": "code",
   "execution_count": null,
   "metadata": {},
   "outputs": [
    {
     "output_type": "display_data",
     "metadata": {},
     "data": {
      "image/png": "[encoded data removed]"
     }
    }
   ],
   "source": [
    "d_fig_alt |> \n",
    "  ggplot(aes(x = week_cat, y = mean_pred_probs, fill = tx_match)) +\n",
    "  geom_col(position = \"dodge\") +\n",
    "  labs(\n",
    "    x = \"Week On-Study\",\n",
    "    y = \"Predicted Probabilities\",\n",
    "    fill = \"Treatment Matching\"\n",
    "  )\n"
   ],
   "id": "44cb2505-f85f-4a67-953c-1918410e364d"
  }
 ],
 "nbformat": 4,
 "nbformat_minor": 5,
 "metadata": {}
}

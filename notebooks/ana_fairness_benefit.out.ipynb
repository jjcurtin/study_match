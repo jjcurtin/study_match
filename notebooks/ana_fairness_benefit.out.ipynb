{
 "cells": [
  {
   "cell_type": "markdown",
   "metadata": {},
   "source": [
    "# Clinical Benefit Fairness\n",
    "\n",
    "Gaylen Fronk  \n",
    "January 15, 2025\n",
    "\n",
    "## Set Up Environment"
   ],
   "id": "126b29dd-1f84-4a11-974c-ad020c8c8529"
  },
  {
   "cell_type": "code",
   "execution_count": null,
   "metadata": {},
   "outputs": [],
   "source": [
    "study <- \"match\"\n",
    "version <- \"v6\"\n",
    "cv <- \"nested\"\n",
    "y_col_name <- \"pp_hybrid_wk4_outcome\"\n"
   ],
   "id": "d6a92e1c-72ba-44ed-ad14-37e03f617f34"
  },
  {
   "cell_type": "markdown",
   "metadata": {},
   "source": [
    "Function conflicts"
   ],
   "id": "c0c15cc3-2bbf-4612-8b2b-2b3565b2f61c"
  },
  {
   "cell_type": "code",
   "execution_count": null,
   "metadata": {},
   "outputs": [
    {
     "output_type": "stream",
     "name": "stderr",
     "text": [
      "ℹ SHA-1 hash of file is \"77e91675366f10788c6bcb59fa1cfc9ee0c75281\""
     ]
    }
   ],
   "source": [
    "\n",
    "# handle conflicts\n",
    "options(conflicts.policy = \"depends.ok\")\n",
    "devtools::source_url(\"https://github.com/jjcurtin/lab_support/blob/main/fun_ml.R?raw=true\")\n"
   ],
   "id": "e42b3d2e-44c6-4a3a-a036-23ace8367dad"
  },
  {
   "cell_type": "markdown",
   "metadata": {},
   "source": [
    "Packages, functions, and paths"
   ],
   "id": "e829269d-8d2f-4cc8-9135-72749f700ab8"
  },
  {
   "cell_type": "code",
   "execution_count": null,
   "metadata": {},
   "outputs": [
    {
     "output_type": "stream",
     "name": "stderr",
     "text": [
      "── Attaching core tidyverse packages ──────────────────────── tidyverse 2.0.0 ──\n",
      "✔ dplyr     1.1.4     ✔ readr     2.1.5\n",
      "✔ forcats   1.0.0     ✔ stringr   1.5.1\n",
      "✔ ggplot2   3.5.1     ✔ tibble    3.2.1\n",
      "✔ lubridate 1.9.3     ✔ tidyr     1.3.1\n",
      "✔ purrr     1.0.2     \n",
      "── Conflicts ────────────────────────────────────────── tidyverse_conflicts() ──\n",
      "✖ dplyr::filter() masks stats::filter()\n",
      "✖ dplyr::lag()    masks stats::lag()\n",
      "ℹ Use the conflicted package (<http://conflicted.r-lib.org/>) to force all conflicts to become errors"
     ]
    },
    {
     "output_type": "stream",
     "name": "stderr",
     "text": [
      "── Attaching packages ────────────────────────────────────── tidymodels 1.2.0 ──\n",
      "✔ broom        1.0.7     ✔ rsample      1.2.1\n",
      "✔ dials        1.3.0     ✔ tune         1.2.1\n",
      "✔ infer        1.0.7     ✔ workflows    1.1.4\n",
      "✔ modeldata    1.4.0     ✔ workflowsets 1.1.0\n",
      "✔ parsnip      1.2.1     ✔ yardstick    1.3.1\n",
      "✔ recipes      1.1.0     \n",
      "── Conflicts ───────────────────────────────────────── tidymodels_conflicts() ──\n",
      "✖ scales::discard() masks purrr::discard()\n",
      "✖ dplyr::filter()   masks stats::filter()\n",
      "✖ recipes::fixed()  masks stringr::fixed()\n",
      "✖ dplyr::lag()      masks stats::lag()\n",
      "✖ yardstick::spec() masks readr::spec()\n",
      "✖ recipes::step()   masks stats::step()\n",
      "• Use suppressPackageStartupMessages() to eliminate package startup messages"
     ]
    },
    {
     "output_type": "stream",
     "name": "stderr",
     "text": [
      "ℹ SHA-1 hash of file is \"a58e57da996d1b70bb9a5b58241325d6fd78890f\""
     ]
    },
    {
     "output_type": "stream",
     "name": "stderr",
     "text": [
      "ℹ SHA-1 hash of file is \"6e9288d22f09da9ec15a1d5c046a0b6736ecce8b\""
     ]
    }
   ],
   "source": [
    "\n",
    "library(tidyverse)\n"
   ],
   "id": "f27d7a22-a711-4679-bc29-07450c2f3ada"
  },
  {
   "cell_type": "markdown",
   "metadata": {},
   "source": [
    "## Prepare data\n",
    "\n",
    "Read in demographics"
   ],
   "id": "678f330b-ab22-413f-b8e4-85d5eb78acd9"
  },
  {
   "cell_type": "code",
   "execution_count": null,
   "metadata": {},
   "outputs": [
    {
     "output_type": "stream",
     "name": "stdout",
     "text": [
      "Rows: 1,086\n",
      "Columns: 4\n",
      "$ subid          <dbl> 20010, 20015, 20030, 20049, 20051, 20072, 20077, 20086,…\n",
      "$ sex            <chr> \"Female\", \"Female\", \"Female\", \"Female\", \"Female\", \"Fema…\n",
      "$ race_ethnicity <chr> \"White/Non-Hispanic\", \"White/Non-Hispanic\", \"White/Non-…\n",
      "$ income         <chr> \"Below Poverty Line\", \"Above Poverty Line\", \"Above Pove…"
     ]
    }
   ],
   "source": [
    "d_dem <- read_csv(file.path(path_processed, \"match_cln.csv\"), \n",
    "              show_col_types = FALSE) |> \n",
    "  select(subid, gender_ehr, race_ehr, ethnicity_ehr, income_order) |> \n",
    "  mutate(sex = if_else(gender_ehr == \"female\", \"Female\", \"Male\"),\n",
    "         race_ethnicity = if_else(race_ehr == \"white\" & ethnicity_ehr == \"non_hispanic\",\n",
    "                                  \"White/Non-Hispanic\", \"Not White\"),\n",
    "         income = case_match(\n",
    "           income_order,\n",
    "           c(\"01_less_than_10000\", \"02_btwn_10000_19999\", \n",
    "             \"03_btwn_20000_24999\") ~ \"Below Poverty Line\",\n",
    "           c(\"04_btwn_25000_34999\", \"05_btwn_35000_49999\", \n",
    "             \"06_btwn_50000_74999\", \"07_more_than_75000\") ~ \"Above Poverty Line\",\n",
    "           NA_character_ ~ \"Missing\")) |> \n",
    "  select(-income_order, -ends_with(\"ehr\")) |> \n",
    "  glimpse()\n"
   ],
   "id": "bcd3a74c-3b40-44a8-8311-83ecbe45a7b1"
  },
  {
   "cell_type": "markdown",
   "metadata": {},
   "source": [
    "Read in aim 2 dataset"
   ],
   "id": "04b305ae-64b6-409a-be56-19fdd193b490"
  },
  {
   "cell_type": "code",
   "execution_count": null,
   "metadata": {},
   "outputs": [
    {
     "output_type": "stream",
     "name": "stdout",
     "text": [
      "Rows: 3,258\n",
      "Columns: 13\n",
      "$ subid            <dbl> 20010, 20010, 20010, 20015, 20015, 20015, 20030, 2003…\n",
      "$ tx_rct           <chr> \"patch\", \"patch\", \"patch\", \"combo_nrt\", \"combo_nrt\", …\n",
      "$ tx_best          <chr> \"varenicline\", \"varenicline\", \"varenicline\", \"varenic…\n",
      "$ tx_match         <lgl> FALSE, FALSE, FALSE, FALSE, FALSE, FALSE, FALSE, FALS…\n",
      "$ tx_worst         <chr> \"combo_nrt\", \"combo_nrt\", \"combo_nrt\", \"patch\", \"patc…\n",
      "$ tx_second        <chr> \"patch\", \"patch\", \"patch\", \"combo_nrt\", \"combo_nrt\", …\n",
      "$ prob_best        <dbl> 0.2799119, 0.2799119, 0.2799119, 0.5102584, 0.5102584…\n",
      "$ prob_patch       <dbl> 0.2080906, 0.2080906, 0.2080906, 0.4220443, 0.4220443…\n",
      "$ prob_combo_nrt   <dbl> 0.1754414, 0.1754414, 0.1754414, 0.4957828, 0.4957828…\n",
      "$ prob_varenicline <dbl> 0.2799119, 0.2799119, 0.2799119, 0.5102584, 0.5102584…\n",
      "$ week             <dbl> 4, 12, 26, 4, 12, 26, 4, 12, 26, 4, 12, 26, 4, 12, 26…\n",
      "$ outcome_rct_num  <dbl> 0, 0, 0, 0, 0, 0, 0, 0, 0, 0, 1, 1, 0, 0, 0, 0, 0, 0,…\n",
      "$ c_tx_match       <dbl> -0.5, -0.5, -0.5, -0.5, -0.5, -0.5, -0.5, -0.5, -0.5,…"
     ]
    }
   ],
   "source": [
    "d_ben <- read_csv(file.path(path_models, \n",
    "                        str_c(\"aim_2_\", version, \"_\", y_col_name, \".csv\")),\n",
    "              show_col_types = FALSE) |> \n",
    "  mutate(outcome_rct_wk4_num = if_else(outcome_rct_wk4 == \"abstinent\", 1, 0),\n",
    "         outcome_rct_wk12_num = if_else(outcome_rct_wk12 == \"abstinent\", 1, 0),\n",
    "         outcome_rct_wk26_num = if_else(outcome_rct_wk26 == \"abstinent\", 1, 0),\n",
    "         tx_worst = case_when(\n",
    "           prob_patch < prob_combo_nrt & prob_patch < prob_varenicline ~ \"patch\",\n",
    "           prob_combo_nrt < prob_patch & prob_combo_nrt < prob_varenicline ~ \"combo_nrt\",\n",
    "           prob_varenicline < prob_patch & prob_varenicline < prob_combo_nrt ~ \"varenicline\",\n",
    "           TRUE ~ NA_character_),\n",
    "         tx_second = case_when(\n",
    "           tx_worst == \"patch\" & tx_best == \"varenicline\" ~ \"combo_nrt\",\n",
    "           tx_worst == \"patch\" & tx_best == \"combo_nrt\" ~ \"varenicline\",\n",
    "           tx_worst == \"varenicline\" & tx_best == \"patch\" ~ \"combo_nrt\",\n",
    "           tx_worst == \"varenicline\" & tx_best == \"combo_nrt\" ~ \"patch\",\n",
    "           tx_worst == \"combo_nrt\" & tx_best == \"varenicline\" ~ \"patch\",\n",
    "           tx_worst == \"combo_nrt\" & tx_best == \"patch\" ~ \"varenicline\",\n",
    "           TRUE ~ NA_character_)) |> \n",
    "  select(subid, starts_with(\"tx_\"), starts_with(\"prob_\"),\n",
    "         outcome_rct_wk4_num, outcome_rct_wk12_num, outcome_rct_wk26_num) |> \n",
    "  pivot_longer(\n",
    "    cols = c(outcome_rct_wk4_num, outcome_rct_wk12_num, outcome_rct_wk26_num),\n",
    "    names_to = \"week\",\n",
    "    names_pattern = \"(?<=outcome_rct_wk)(.+)(?=_num)\",\n",
    "    values_to = \"outcome_rct_num\"\n",
    "  ) |> \n",
    "  mutate(c_tx_match = if_else(tx_match == TRUE, 0.5, -0.5), # center\n",
    "         week = as.numeric(week))\n",
    "\n",
    "glimpse(d_ben)\n"
   ],
   "id": "16214acd-d168-4dbc-8ea4-4192806e0cbe"
  },
  {
   "cell_type": "markdown",
   "metadata": {},
   "source": [
    "Join"
   ],
   "id": "721c3c12-cb84-451a-accb-a0bbb1116e11"
  },
  {
   "cell_type": "code",
   "execution_count": null,
   "metadata": {},
   "outputs": [
    {
     "output_type": "stream",
     "name": "stdout",
     "text": [
      "Rows: 3,258\n",
      "Columns: 16\n",
      "$ subid            <dbl> 20010, 20010, 20010, 20015, 20015, 20015, 20030, 2003…\n",
      "$ tx_rct           <chr> \"patch\", \"patch\", \"patch\", \"combo_nrt\", \"combo_nrt\", …\n",
      "$ tx_best          <chr> \"varenicline\", \"varenicline\", \"varenicline\", \"varenic…\n",
      "$ tx_match         <lgl> FALSE, FALSE, FALSE, FALSE, FALSE, FALSE, FALSE, FALS…\n",
      "$ tx_worst         <chr> \"combo_nrt\", \"combo_nrt\", \"combo_nrt\", \"patch\", \"patc…\n",
      "$ tx_second        <chr> \"patch\", \"patch\", \"patch\", \"combo_nrt\", \"combo_nrt\", …\n",
      "$ prob_best        <dbl> 0.2799119, 0.2799119, 0.2799119, 0.5102584, 0.5102584…\n",
      "$ prob_patch       <dbl> 0.2080906, 0.2080906, 0.2080906, 0.4220443, 0.4220443…\n",
      "$ prob_combo_nrt   <dbl> 0.1754414, 0.1754414, 0.1754414, 0.4957828, 0.4957828…\n",
      "$ prob_varenicline <dbl> 0.2799119, 0.2799119, 0.2799119, 0.5102584, 0.5102584…\n",
      "$ week             <dbl> 4, 12, 26, 4, 12, 26, 4, 12, 26, 4, 12, 26, 4, 12, 26…\n",
      "$ outcome_rct_num  <dbl> 0, 0, 0, 0, 0, 0, 0, 0, 0, 0, 1, 1, 0, 0, 0, 0, 0, 0,…\n",
      "$ c_tx_match       <dbl> -0.5, -0.5, -0.5, -0.5, -0.5, -0.5, -0.5, -0.5, -0.5,…\n",
      "$ sex              <chr> \"Female\", \"Female\", \"Female\", \"Female\", \"Female\", \"Fe…\n",
      "$ race_ethnicity   <chr> \"White/Non-Hispanic\", \"White/Non-Hispanic\", \"White/No…\n",
      "$ income           <chr> \"Below Poverty Line\", \"Below Poverty Line\", \"Below Po…"
     ]
    }
   ],
   "source": [
    "d <- d_ben |> \n",
    "  left_join(d_dem, by = \"subid\") |> \n",
    "  glimpse()\n"
   ],
   "id": "56d051d5-4741-4541-a8de-b771a564dc8c"
  },
  {
   "cell_type": "markdown",
   "metadata": {},
   "source": [
    "## Analyses\n",
    "\n",
    "Centered variables"
   ],
   "id": "635bbfd5-a156-4357-af67-f71b81f4cf35"
  },
  {
   "cell_type": "code",
   "execution_count": null,
   "metadata": {},
   "outputs": [
    {
     "output_type": "stream",
     "name": "stdout",
     "text": [
      "Rows: 3,258\n",
      "Columns: 22\n",
      "$ subid                     <dbl> 20010, 20010, 20010, 20015, 20015, 20015, 20…\n",
      "$ tx_rct                    <chr> \"patch\", \"patch\", \"patch\", \"combo_nrt\", \"com…\n",
      "$ tx_best                   <chr> \"varenicline\", \"varenicline\", \"varenicline\",…\n",
      "$ tx_match                  <lgl> FALSE, FALSE, FALSE, FALSE, FALSE, FALSE, FA…\n",
      "$ tx_worst                  <chr> \"combo_nrt\", \"combo_nrt\", \"combo_nrt\", \"patc…\n",
      "$ tx_second                 <chr> \"patch\", \"patch\", \"patch\", \"combo_nrt\", \"com…\n",
      "$ prob_best                 <dbl> 0.2799119, 0.2799119, 0.2799119, 0.5102584, …\n",
      "$ prob_patch                <dbl> 0.2080906, 0.2080906, 0.2080906, 0.4220443, …\n",
      "$ prob_combo_nrt            <dbl> 0.1754414, 0.1754414, 0.1754414, 0.4957828, …\n",
      "$ prob_varenicline          <dbl> 0.2799119, 0.2799119, 0.2799119, 0.5102584, …\n",
      "$ week                      <dbl> 4, 12, 26, 4, 12, 26, 4, 12, 26, 4, 12, 26, …\n",
      "$ outcome_rct_num           <dbl> 0, 0, 0, 0, 0, 0, 0, 0, 0, 0, 1, 1, 0, 0, 0,…\n",
      "$ c_tx_match                <dbl> -0.5, -0.5, -0.5, -0.5, -0.5, -0.5, -0.5, -0…\n",
      "$ sex                       <chr> \"Female\", \"Female\", \"Female\", \"Female\", \"Fem…\n",
      "$ race_ethnicity            <chr> \"White/Non-Hispanic\", \"White/Non-Hispanic\", …\n",
      "$ income                    <chr> \"Below Poverty Line\", \"Below Poverty Line\", …\n",
      "$ c_sex_male                <dbl> 1, 1, 1, 1, 1, 1, 1, 1, 1, 1, 1, 1, 1, 1, 1,…\n",
      "$ c_sex_female              <dbl> 0, 0, 0, 0, 0, 0, 0, 0, 0, 0, 0, 0, 0, 0, 0,…\n",
      "$ c_race_ethn_white_non_his <dbl> 0, 0, 0, 0, 0, 0, 0, 0, 0, 0, 0, 0, 0, 0, 0,…\n",
      "$ c_race_ethn_not_white     <dbl> 1, 1, 1, 1, 1, 1, 1, 1, 1, 1, 1, 1, 1, 1, 1,…\n",
      "$ c_income_above            <dbl> 1, 1, 1, 0, 0, 0, 0, 0, 0, 0, 0, 0, NA, NA, …\n",
      "$ c_income_below            <dbl> 0, 0, 0, 1, 1, 1, 1, 1, 1, 1, 1, 1, NA, NA, …"
     ]
    }
   ],
   "source": [
    "d <- d |> \n",
    "  mutate(\n",
    "    c_sex_male = if_else(sex == \"Male\", 0, 1),\n",
    "    c_sex_female = if_else(sex == \"Male\", 1, 0),\n",
    "    c_race_ethn_white_non_his = if_else(race_ethnicity == \"White/Non-Hispanic\", 0, 1),\n",
    "    c_race_ethn_not_white = if_else(race_ethnicity == \"White/Non-Hispanic\", 1, 0),\n",
    "    c_income_above = case_match(\n",
    "      income,\n",
    "      \"Below Poverty Line\" ~ 1,\n",
    "      \"Above Poverty Line\" ~ 0,\n",
    "      \"Missing\" ~ NA_real_\n",
    "    ),\n",
    "    c_income_below = case_match(\n",
    "      income,\n",
    "      \"Below Poverty Line\" ~ 0,\n",
    "      \"Above Poverty Line\" ~ 1,\n",
    "      \"Missing\" ~ NA_real_\n",
    "    )\n",
    "  ) |> \n",
    "  glimpse()\n"
   ],
   "id": "241e477f-20c7-48b9-ae24-28c2168f6fe2"
  },
  {
   "cell_type": "markdown",
   "metadata": {},
   "source": [
    "Filter to week 4"
   ],
   "id": "de9b7cbd-d4e3-421e-a734-854cef019958"
  },
  {
   "cell_type": "code",
   "execution_count": null,
   "metadata": {},
   "outputs": [],
   "source": [
    "d_wk4 <- d |> \n",
    "  filter(week == 4)\n"
   ],
   "id": "c4c2aa6f-36f7-4bef-9f61-88d837119f76"
  },
  {
   "cell_type": "markdown",
   "metadata": {},
   "source": [
    "### Race/ethnicity\n",
    "\n",
    "Simple effect of White/Non-Hispanic at week 4"
   ],
   "id": "2f74ac4d-6079-4cb1-9d18-25f21d937ba8"
  },
  {
   "cell_type": "code",
   "execution_count": null,
   "metadata": {},
   "outputs": [
    {
     "output_type": "stream",
     "name": "stdout",
     "text": [
      "\n",
      "Call:\n",
      "glm(formula = outcome_rct_num ~ c_tx_match * c_race_ethn_white_non_his, \n",
      "    family = binomial(link = \"logit\"), data = d_wk4)\n",
      "\n",
      "Coefficients:\n",
      "                                     Estimate Std. Error z value Pr(>|z|)    \n",
      "(Intercept)                          -0.30372    0.07858  -3.865 0.000111 ***\n",
      "c_tx_match                            0.18894    0.15716   1.202 0.229275    \n",
      "c_race_ethn_white_non_his            -1.06315    0.15525  -6.848  7.5e-12 ***\n",
      "c_tx_match:c_race_ethn_white_non_his  0.58315    0.31051   1.878 0.060372 .  \n",
      "---\n",
      "Signif. codes:  0 '***' 0.001 '**' 0.01 '*' 0.05 '.' 0.1 ' ' 1\n",
      "\n",
      "(Dispersion parameter for binomial family taken to be 1)\n",
      "\n",
      "    Null deviance: 1394.7  on 1085  degrees of freedom\n",
      "Residual deviance: 1326.5  on 1082  degrees of freedom\n",
      "AIC: 1334.5\n",
      "\n",
      "Number of Fisher Scoring iterations: 4"
     ]
    },
    {
     "output_type": "stream",
     "name": "stdout",
     "text": [
      "c_tx_match \n",
      "  1.207966 "
     ]
    }
   ],
   "source": [
    "white_4 <- glm(outcome_rct_num ~ c_tx_match * c_race_ethn_white_non_his,\n",
    "                data = d_wk4,\n",
    "                family = binomial(link = \"logit\"))\n",
    "\n",
    "summary(white_4)\n"
   ],
   "id": "a1125c6d-50bf-4bfa-a391-18f07244442c"
  },
  {
   "cell_type": "markdown",
   "metadata": {},
   "source": [
    "Simple effect of Non-White at week 4"
   ],
   "id": "6e4fdaa4-0896-4755-a9ec-56ba4da94c41"
  },
  {
   "cell_type": "code",
   "execution_count": null,
   "metadata": {},
   "outputs": [
    {
     "output_type": "stream",
     "name": "stdout",
     "text": [
      "\n",
      "Call:\n",
      "glm(formula = outcome_rct_num ~ c_tx_match * c_race_ethn_not_white, \n",
      "    family = binomial(link = \"logit\"), data = d_wk4)\n",
      "\n",
      "Coefficients:\n",
      "                                 Estimate Std. Error z value Pr(>|z|)    \n",
      "(Intercept)                       -1.3669     0.1339 -10.208  < 2e-16 ***\n",
      "c_tx_match                         0.7721     0.2678   2.883  0.00394 ** \n",
      "c_race_ethn_not_white              1.0632     0.1553   6.848  7.5e-12 ***\n",
      "c_tx_match:c_race_ethn_not_white  -0.5832     0.3105  -1.878  0.06037 .  \n",
      "---\n",
      "Signif. codes:  0 '***' 0.001 '**' 0.01 '*' 0.05 '.' 0.1 ' ' 1\n",
      "\n",
      "(Dispersion parameter for binomial family taken to be 1)\n",
      "\n",
      "    Null deviance: 1394.7  on 1085  degrees of freedom\n",
      "Residual deviance: 1326.5  on 1082  degrees of freedom\n",
      "AIC: 1334.5\n",
      "\n",
      "Number of Fisher Scoring iterations: 4"
     ]
    },
    {
     "output_type": "stream",
     "name": "stdout",
     "text": [
      "c_tx_match \n",
      "  2.164286 "
     ]
    }
   ],
   "source": [
    "nonwhite_4 <- glm(outcome_rct_num ~ c_tx_match * c_race_ethn_not_white,\n",
    "                data = d_wk4,\n",
    "                family = binomial(link = \"logit\"))\n",
    "\n",
    "summary(nonwhite_4)\n"
   ],
   "id": "43a38aa9-5d58-45e4-87b6-4e828fc9d1a5"
  },
  {
   "cell_type": "markdown",
   "metadata": {},
   "source": [
    "Overall effect OR: 1.38 White/non-Hispanic OR: 1.208 Non-White OR: 2.164"
   ],
   "id": "3f441231-e4cb-4f1c-bb7b-30085daee22f"
  },
  {
   "cell_type": "code",
   "execution_count": null,
   "metadata": {},
   "outputs": [
    {
     "output_type": "stream",
     "name": "stderr",
     "text": [
      "`summarise()` has grouped output by 'race_ethn_cat'. You can override using the\n",
      "`.groups` argument."
     ]
    },
    {
     "output_type": "display_data",
     "metadata": {},
     "data": {
      "image/png": "[encoded data removed]"
     }
    }
   ],
   "source": [
    "fig_clin_ben_race <- d_wk4 |> \n",
    "  mutate(race_ethn_cat = factor(c_race_ethn_not_white,\n",
    "                           levels = c(0, 1),\n",
    "                           labels = c(\"Not White\", \"White/Non-Hispanic\")),\n",
    "         tx_match = factor(tx_match, \n",
    "                           levels = c(TRUE, FALSE),\n",
    "                           labels = c(\"Best Treatment\", \"Other Treatment\"))) |> \n",
    "  group_by(race_ethn_cat, tx_match) |> \n",
    "  summarize(mean_outcome = mean(outcome_rct_num),\n",
    "            sd_outcome = sd(outcome_rct_num),\n",
    "            n_group = n()) |> \n",
    "  mutate(se_outcome = (sd_outcome / sqrt(n_group))) |> \n",
    "  ggplot(aes(x = race_ethn_cat, y = mean_outcome, fill = tx_match)) +\n",
    "  geom_col(position = \"dodge\") +\n",
    "  geom_errorbar(aes(ymin = mean_outcome - se_outcome, \n",
    "                    ymax = mean_outcome + se_outcome,\n",
    "                    x = race_ethn_cat),\n",
    "                position = position_dodge(width = 0.9),\n",
    "                width = 0.5) +\n",
    "  scale_y_continuous(limits = c(0, 0.55)) +\n",
    "  labs(\n",
    "    x = \"Race/Ethnicity\",\n",
    "    y = \"Mean Abstinence Rate\",\n",
    "    fill = \"Treatment Matching\"\n",
    "  )\n"
   ],
   "id": "dc28d26d-870a-4009-b491-3a7e82a2fe56"
  },
  {
   "cell_type": "markdown",
   "metadata": {},
   "source": [
    "### Sex\n",
    "\n",
    "Simple effect of Male at week 4"
   ],
   "id": "4ac51dbe-d675-4ad0-9247-011fc54f4535"
  },
  {
   "cell_type": "code",
   "execution_count": null,
   "metadata": {},
   "outputs": [
    {
     "output_type": "stream",
     "name": "stdout",
     "text": [
      "\n",
      "Call:\n",
      "glm(formula = outcome_rct_num ~ c_tx_match * c_sex_male, family = binomial(link = \"logit\"), \n",
      "    data = d_wk4)\n",
      "\n",
      "Coefficients:\n",
      "                       Estimate Std. Error z value Pr(>|z|)    \n",
      "(Intercept)           -0.610322   0.096868  -6.301 2.97e-10 ***\n",
      "c_tx_match             0.332781   0.193736   1.718   0.0859 .  \n",
      "c_sex_male            -0.007436   0.132507  -0.056   0.9552    \n",
      "c_tx_match:c_sex_male -0.016330   0.265013  -0.062   0.9509    \n",
      "---\n",
      "Signif. codes:  0 '***' 0.001 '**' 0.01 '*' 0.05 '.' 0.1 ' ' 1\n",
      "\n",
      "(Dispersion parameter for binomial family taken to be 1)\n",
      "\n",
      "    Null deviance: 1394.7  on 1085  degrees of freedom\n",
      "Residual deviance: 1388.7  on 1082  degrees of freedom\n",
      "AIC: 1396.7\n",
      "\n",
      "Number of Fisher Scoring iterations: 4"
     ]
    },
    {
     "output_type": "stream",
     "name": "stdout",
     "text": [
      "c_tx_match \n",
      "  1.394842 "
     ]
    }
   ],
   "source": [
    "male_4 <- glm(outcome_rct_num ~ c_tx_match * c_sex_male,\n",
    "                data = d_wk4,\n",
    "                family = binomial(link = \"logit\"))\n",
    "\n",
    "summary(male_4)\n"
   ],
   "id": "33705744-68ca-47d1-9332-2b95b7458a76"
  },
  {
   "cell_type": "markdown",
   "metadata": {},
   "source": [
    "Simple effect of Female at week 4"
   ],
   "id": "9ec99211-1b34-499d-b6a7-edbb25ed2124"
  },
  {
   "cell_type": "code",
   "execution_count": null,
   "metadata": {},
   "outputs": [
    {
     "output_type": "stream",
     "name": "stdout",
     "text": [
      "\n",
      "Call:\n",
      "glm(formula = outcome_rct_num ~ c_tx_match * c_sex_female, family = binomial(link = \"logit\"), \n",
      "    data = d_wk4)\n",
      "\n",
      "Coefficients:\n",
      "                         Estimate Std. Error z value Pr(>|z|)    \n",
      "(Intercept)             -0.617758   0.090414  -6.833 8.34e-12 ***\n",
      "c_tx_match               0.316451   0.180827   1.750   0.0801 .  \n",
      "c_sex_female             0.007436   0.132507   0.056   0.9552    \n",
      "c_tx_match:c_sex_female  0.016330   0.265013   0.062   0.9509    \n",
      "---\n",
      "Signif. codes:  0 '***' 0.001 '**' 0.01 '*' 0.05 '.' 0.1 ' ' 1\n",
      "\n",
      "(Dispersion parameter for binomial family taken to be 1)\n",
      "\n",
      "    Null deviance: 1394.7  on 1085  degrees of freedom\n",
      "Residual deviance: 1388.7  on 1082  degrees of freedom\n",
      "AIC: 1396.7\n",
      "\n",
      "Number of Fisher Scoring iterations: 4"
     ]
    },
    {
     "output_type": "stream",
     "name": "stdout",
     "text": [
      "c_tx_match \n",
      "  1.372249 "
     ]
    }
   ],
   "source": [
    "female_4 <- glm(outcome_rct_num ~ c_tx_match * c_sex_female,\n",
    "                data = d_wk4,\n",
    "                family = binomial(link = \"logit\"))\n",
    "\n",
    "summary(female_4)\n"
   ],
   "id": "25c9bd84-3c03-4c07-8a0a-0aa87b348cc5"
  },
  {
   "cell_type": "markdown",
   "metadata": {},
   "source": [
    "Overall effect OR: 1.38 Female OR: 1.372 Male OR: 1.395"
   ],
   "id": "75705ecf-646e-452d-a98d-6965e3022e39"
  },
  {
   "cell_type": "code",
   "execution_count": null,
   "metadata": {},
   "outputs": [
    {
     "output_type": "stream",
     "name": "stderr",
     "text": [
      "`summarise()` has grouped output by 'sex_cat'. You can override using the\n",
      "`.groups` argument."
     ]
    },
    {
     "output_type": "display_data",
     "metadata": {},
     "data": {
      "image/png": "[encoded data removed]"
     }
    }
   ],
   "source": [
    "fig_clin_ben_sex <- d_wk4 |> \n",
    "  mutate(sex_cat = factor(c_sex_female,\n",
    "                           levels = c(0, 1),\n",
    "                           labels = c(\"Female\", \"Male\")),\n",
    "         tx_match = factor(tx_match, \n",
    "                           levels = c(TRUE, FALSE),\n",
    "                           labels = c(\"Best Treatment\", \"Other Treatment\"))) |> \n",
    "  group_by(sex_cat, tx_match) |> \n",
    "  summarize(mean_outcome = mean(outcome_rct_num),\n",
    "            sd_outcome = sd(outcome_rct_num),\n",
    "            n_group = n()) |> \n",
    "  mutate(se_outcome = (sd_outcome / sqrt(n_group))) |> \n",
    "  ggplot(aes(x = sex_cat, y = mean_outcome, fill = tx_match)) +\n",
    "  geom_col(position = \"dodge\") +\n",
    "  geom_errorbar(aes(ymin = mean_outcome - se_outcome, \n",
    "                    ymax = mean_outcome + se_outcome,\n",
    "                    x = sex_cat),\n",
    "                position = position_dodge(width = 0.9),\n",
    "                width = 0.5) +\n",
    "  scale_y_continuous(limits = c(0, 0.55)) +\n",
    "  labs(\n",
    "    x = \"Sex\",\n",
    "    y = \"Mean Abstinence Rate\",\n",
    "    fill = \"Treatment Matching\"\n",
    "  )\n"
   ],
   "id": "66bc1224-dab0-4296-8695-61a4bb949deb"
  },
  {
   "cell_type": "markdown",
   "metadata": {},
   "source": [
    "### Income\n",
    "\n",
    "Need to remove subset of participants who did not provide income data."
   ],
   "id": "3115a5c6-2556-49be-8b73-d364b71e181e"
  },
  {
   "cell_type": "code",
   "execution_count": null,
   "metadata": {},
   "outputs": [],
   "source": [
    "d_wk4_income <- d_wk4 |> \n",
    "  filter(income != \"Missing\") |> \n",
    "  mutate(c_income = if_else(income == \"Above Poverty Line\", -0.5, 0.5))\n"
   ],
   "id": "6b3b0aea-e692-4b3e-ae23-b1b6cb3c348e"
  },
  {
   "cell_type": "markdown",
   "metadata": {},
   "source": [
    "Overall week 4 (centered)"
   ],
   "id": "b42154bf-45e5-4b91-9c4d-e59116ef9f68"
  },
  {
   "cell_type": "code",
   "execution_count": null,
   "metadata": {},
   "outputs": [
    {
     "output_type": "stream",
     "name": "stdout",
     "text": [
      "\n",
      "Call:\n",
      "glm(formula = outcome_rct_num ~ c_tx_match * c_income, family = binomial(link = \"logit\"), \n",
      "    data = d_wk4_income)\n",
      "\n",
      "Coefficients:\n",
      "                    Estimate Std. Error z value Pr(>|z|)    \n",
      "(Intercept)         -0.69655    0.07259  -9.596  < 2e-16 ***\n",
      "c_tx_match           0.39370    0.14517   2.712  0.00669 ** \n",
      "c_income            -0.83464    0.14517  -5.749 8.96e-09 ***\n",
      "c_tx_match:c_income  0.06189    0.29034   0.213  0.83119    \n",
      "---\n",
      "Signif. codes:  0 '***' 0.001 '**' 0.01 '*' 0.05 '.' 0.1 ' ' 1\n",
      "\n",
      "(Dispersion parameter for binomial family taken to be 1)\n",
      "\n",
      "    Null deviance: 1329.3  on 1032  degrees of freedom\n",
      "Residual deviance: 1283.0  on 1029  degrees of freedom\n",
      "AIC: 1291\n",
      "\n",
      "Number of Fisher Scoring iterations: 4"
     ]
    },
    {
     "output_type": "stream",
     "name": "stdout",
     "text": [
      "c_tx_match \n",
      "   1.48245 "
     ]
    }
   ],
   "source": [
    "centered_4 <- glm(outcome_rct_num ~ c_tx_match * c_income,\n",
    "                data = d_wk4_income,\n",
    "                family = binomial(link = \"logit\"))\n",
    "summary(centered_4)\n"
   ],
   "id": "362b8d81-1e3b-421c-88c9-46261218ca87"
  },
  {
   "cell_type": "markdown",
   "metadata": {},
   "source": [
    "Simple effect of higher income at week 4"
   ],
   "id": "2854af33-07b7-48b9-8893-e8a0ca41a60d"
  },
  {
   "cell_type": "code",
   "execution_count": null,
   "metadata": {},
   "outputs": [
    {
     "output_type": "stream",
     "name": "stdout",
     "text": [
      "\n",
      "Call:\n",
      "glm(formula = outcome_rct_num ~ c_tx_match * c_income_above, \n",
      "    family = binomial(link = \"logit\"), data = d_wk4_income)\n",
      "\n",
      "Coefficients:\n",
      "                          Estimate Std. Error z value Pr(>|z|)    \n",
      "(Intercept)               -0.27923    0.08502  -3.284  0.00102 ** \n",
      "c_tx_match                 0.36275    0.17004   2.133  0.03290 *  \n",
      "c_income_above            -0.83464    0.14517  -5.749 8.96e-09 ***\n",
      "c_tx_match:c_income_above  0.06189    0.29034   0.213  0.83119    \n",
      "---\n",
      "Signif. codes:  0 '***' 0.001 '**' 0.01 '*' 0.05 '.' 0.1 ' ' 1\n",
      "\n",
      "(Dispersion parameter for binomial family taken to be 1)\n",
      "\n",
      "    Null deviance: 1329.3  on 1032  degrees of freedom\n",
      "Residual deviance: 1283.0  on 1029  degrees of freedom\n",
      "AIC: 1291\n",
      "\n",
      "Number of Fisher Scoring iterations: 4"
     ]
    },
    {
     "output_type": "stream",
     "name": "stdout",
     "text": [
      "c_tx_match \n",
      "  1.437277 "
     ]
    }
   ],
   "source": [
    "above_4 <- glm(outcome_rct_num ~ c_tx_match * c_income_above,\n",
    "                data = d_wk4_income,\n",
    "                family = binomial(link = \"logit\"))\n",
    "\n",
    "summary(above_4)\n"
   ],
   "id": "fd1676ff-a223-4ca9-91d3-c425d9b9c9a8"
  },
  {
   "cell_type": "markdown",
   "metadata": {},
   "source": [
    "Simple effect of low income at week 4"
   ],
   "id": "27ad81cd-d9ce-4ffa-9bc0-fc79c59c85f6"
  },
  {
   "cell_type": "code",
   "execution_count": null,
   "metadata": {},
   "outputs": [
    {
     "output_type": "stream",
     "name": "stdout",
     "text": [
      "\n",
      "Call:\n",
      "glm(formula = outcome_rct_num ~ c_tx_match * c_income_below, \n",
      "    family = binomial(link = \"logit\"), data = d_wk4_income)\n",
      "\n",
      "Coefficients:\n",
      "                          Estimate Std. Error z value Pr(>|z|)    \n",
      "(Intercept)               -1.11387    0.11767  -9.466  < 2e-16 ***\n",
      "c_tx_match                 0.42464    0.23534   1.804   0.0712 .  \n",
      "c_income_below             0.83464    0.14517   5.749 8.96e-09 ***\n",
      "c_tx_match:c_income_below -0.06189    0.29034  -0.213   0.8312    \n",
      "---\n",
      "Signif. codes:  0 '***' 0.001 '**' 0.01 '*' 0.05 '.' 0.1 ' ' 1\n",
      "\n",
      "(Dispersion parameter for binomial family taken to be 1)\n",
      "\n",
      "    Null deviance: 1329.3  on 1032  degrees of freedom\n",
      "Residual deviance: 1283.0  on 1029  degrees of freedom\n",
      "AIC: 1291\n",
      "\n",
      "Number of Fisher Scoring iterations: 4"
     ]
    },
    {
     "output_type": "stream",
     "name": "stdout",
     "text": [
      "c_tx_match \n",
      "  1.529043 "
     ]
    }
   ],
   "source": [
    "below_4 <- glm(outcome_rct_num ~ c_tx_match * c_income_below,\n",
    "                data = d_wk4_income,\n",
    "                family = binomial(link = \"logit\"))\n",
    "\n",
    "summary(below_4)\n"
   ],
   "id": "74c7ea67-d475-43a8-b30b-4351c6370e38"
  },
  {
   "cell_type": "markdown",
   "metadata": {},
   "source": [
    "Overall effect OR: 1.482 High income OR: 1.437 Low income OR: 1.529"
   ],
   "id": "ffef3cdf-dd4b-4e92-bad6-cecfeda94906"
  },
  {
   "cell_type": "code",
   "execution_count": null,
   "metadata": {},
   "outputs": [
    {
     "output_type": "stream",
     "name": "stderr",
     "text": [
      "`summarise()` has grouped output by 'income_cat'. You can override using the\n",
      "`.groups` argument."
     ]
    },
    {
     "output_type": "display_data",
     "metadata": {},
     "data": {
      "image/png": "[encoded data removed]"
     }
    }
   ],
   "source": [
    "fig_clin_ben_income <- d_wk4_income |> \n",
    "  mutate(income_cat = factor(c_income_above,\n",
    "                           levels = c(1, 0),\n",
    "                           labels = c(\"Below Poverty Line\", \"Above Poverty Line\")),\n",
    "         tx_match = factor(tx_match, \n",
    "                           levels = c(TRUE, FALSE),\n",
    "                           labels = c(\"Best Treatment\", \"Other Treatment\"))) |> \n",
    "  group_by(income_cat, tx_match) |> \n",
    "  summarize(mean_outcome = mean(outcome_rct_num),\n",
    "            sd_outcome = sd(outcome_rct_num),\n",
    "            n_group = n()) |> \n",
    "  mutate(se_outcome = (sd_outcome / sqrt(n_group))) |> \n",
    "  ggplot(aes(x = income_cat, y = mean_outcome, fill = tx_match)) +\n",
    "  geom_col(position = \"dodge\") +\n",
    "  geom_errorbar(aes(ymin = mean_outcome - se_outcome, \n",
    "                    ymax = mean_outcome + se_outcome,\n",
    "                    x = income_cat),\n",
    "                position = position_dodge(width = 0.9),\n",
    "                width = 0.5) +\n",
    "  scale_y_continuous(limits = c(0, 0.55)) +\n",
    "  labs(\n",
    "    x = \"Income\",\n",
    "    y = \"Mean Abstinence Rate\",\n",
    "    fill = \"Treatment Matching\"\n",
    "  )\n"
   ],
   "id": "4a6460ee-a6b9-464a-a32e-d961ce873d7d"
  }
 ],
 "nbformat": 4,
 "nbformat_minor": 5,
 "metadata": {}
}

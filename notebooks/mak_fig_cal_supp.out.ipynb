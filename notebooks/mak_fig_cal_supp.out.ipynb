{
 "cells": [
  {
   "cell_type": "markdown",
   "metadata": {},
   "source": [
    "# Make Calibration Figures (Supplement)\n",
    "\n",
    "Gaylen Fronk  \n",
    "Invalid Date"
   ],
   "id": "3482c8bf-8f86-4a0d-b5ff-1e8be3a5a988"
  }
 ],
 "nbformat": 4,
 "nbformat_minor": 5,
 "metadata": {}
}

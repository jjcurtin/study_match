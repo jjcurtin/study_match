{
 "cells": [
  {
   "cell_type": "markdown",
   "metadata": {},
   "source": [
    "# Fits and characterizes final model for version v5 for outcome\n",
    "\n",
    "pp_hybrid_wk26_outcome\n",
    "\n",
    "Gaylen Fronk  \n",
    "May 13, 2024\n",
    "\n",
    "### Set Up Environment"
   ],
   "id": "9e9decc5-0e01-471e-9c86-ff2a9d0a56bd"
  },
  {
   "cell_type": "code",
   "execution_count": null,
   "metadata": {},
   "outputs": [],
   "source": [
    "study <- params$study\n",
    "version <- params$version\n",
    "cv <- params$cv\n",
    "y_col_name <- params$y_col_name\n"
   ],
   "id": "df9de162-267b-4acb-b358-241472077fd6"
  },
  {
   "cell_type": "markdown",
   "metadata": {},
   "source": [
    "Packages for script"
   ],
   "id": "52d2d06b-660a-4bce-b220-d9fa37ef7b2e"
  },
  {
   "cell_type": "code",
   "execution_count": null,
   "metadata": {},
   "outputs": [
    {
     "output_type": "stream",
     "name": "stderr",
     "text": [
      "── Attaching packages ────────────────────────────────────── tidymodels 1.2.0 ──"
     ]
    },
    {
     "output_type": "stream",
     "name": "stderr",
     "text": [
      "✔ broom        1.0.5      ✔ recipes      1.0.10\n",
      "✔ dials        1.2.1      ✔ rsample      1.2.1 \n",
      "✔ dplyr        1.1.4      ✔ tibble       3.2.1 \n",
      "✔ ggplot2      3.5.1      ✔ tidyr        1.3.1 \n",
      "✔ infer        1.0.7      ✔ tune         1.2.1 \n",
      "✔ modeldata    1.3.0      ✔ workflows    1.1.4 \n",
      "✔ parsnip      1.2.1      ✔ workflowsets 1.1.0 \n",
      "✔ purrr        1.0.2      ✔ yardstick    1.3.1 "
     ]
    },
    {
     "output_type": "stream",
     "name": "stderr",
     "text": [
      "── Conflicts ───────────────────────────────────────── tidymodels_conflicts() ──\n",
      "✖ purrr::discard() masks scales::discard()\n",
      "✖ dplyr::filter()  masks stats::filter()\n",
      "✖ dplyr::lag()     masks stats::lag()\n",
      "✖ recipes::step()  masks stats::step()\n",
      "• Search for functions across packages at https://www.tidymodels.org/find/"
     ]
    },
    {
     "output_type": "stream",
     "name": "stderr",
     "text": [
      "── Attaching core tidyverse packages ──────────────────────── tidyverse 2.0.0 ──\n",
      "✔ forcats   1.0.0     ✔ readr     2.1.5\n",
      "✔ lubridate 1.9.3     ✔ stringr   1.5.1"
     ]
    },
    {
     "output_type": "stream",
     "name": "stderr",
     "text": [
      "── Conflicts ────────────────────────────────────────── tidyverse_conflicts() ──\n",
      "✖ readr::col_factor() masks scales::col_factor()\n",
      "✖ purrr::discard()    masks scales::discard()\n",
      "✖ dplyr::filter()     masks stats::filter()\n",
      "✖ stringr::fixed()    masks recipes::fixed()\n",
      "✖ dplyr::lag()        masks stats::lag()\n",
      "✖ readr::spec()       masks yardstick::spec()\n",
      "ℹ Use the conflicted package (<http://conflicted.r-lib.org/>) to force all conflicts to become errors"
     ]
    },
    {
     "output_type": "stream",
     "name": "stderr",
     "text": [
      "\n",
      "Attaching package: 'Matrix'\n",
      "\n",
      "The following objects are masked from 'package:tidyr':\n",
      "\n",
      "    expand, pack, unpack"
     ]
    },
    {
     "output_type": "stream",
     "name": "stderr",
     "text": [
      "\n",
      "Attaching package: 'probably'\n",
      "\n",
      "The following objects are masked from 'package:base':\n",
      "\n",
      "    as.factor, as.ordered"
     ]
    },
    {
     "output_type": "stream",
     "name": "stderr",
     "text": [
      "here() starts at C:/Users/gfronk/Documents/GitHub/study_match"
     ]
    },
    {
     "output_type": "stream",
     "name": "stderr",
     "text": [
      "ℹ SHA-1 hash of file is \"c045eee2655a18dc85e715b78182f176327358a7\""
     ]
    },
    {
     "output_type": "stream",
     "name": "stderr",
     "text": [
      "ℹ SHA-1 hash of file is \"b58b9e0adc05e89609ee8bc6f20c39375b262fe6\""
     ]
    }
   ],
   "source": [
    "\n",
    "library(tidymodels)\n"
   ],
   "id": "9d42dc8f-0ee1-4625-9cae-8b91a9c12ca2"
  },
  {
   "cell_type": "markdown",
   "metadata": {},
   "source": [
    "Handle conflicts"
   ],
   "id": "5d9740a6-0af2-4332-8bff-4a2749cb67be"
  },
  {
   "cell_type": "code",
   "execution_count": null,
   "metadata": {},
   "outputs": [],
   "source": [
    "\n",
    "options(conflicts.policy = \"depends.ok\")\n"
   ],
   "id": "d805fd58-287c-49c2-bfc7-f039ff074829"
  },
  {
   "cell_type": "markdown",
   "metadata": {},
   "source": [
    "Absolute paths"
   ],
   "id": "aa75f5f2-58ce-499e-b528-dd424f0111d6"
  },
  {
   "cell_type": "code",
   "execution_count": null,
   "metadata": {},
   "outputs": [],
   "source": [
    "switch (Sys.info()[['sysname']],\n",
    "        # PC paths\n",
    "        Windows = {\n",
    "          path_input <- stringr::str_c(\"P:/studydata/match/chtc/\", \n",
    "                                       y_col_name)\n",
    "          path_models <- stringr::str_c(\"P:/studydata/match/models/\", \n",
    "                                        y_col_name)},\n",
    "        \n",
    "        # IOS paths\n",
    "        Darwin = {\n",
    "          path_input <- stringr::str_c(\"/Volumes/private/studydata/match/chtc/\", \n",
    "                                       y_col_name)\n",
    "          path_models <- stringr::str_c(\"/Volumes/private/studydata/match/models/\", \n",
    "                                        y_col_name)},\n",
    "        \n",
    "        # Linux paths\n",
    "        Linux = {\n",
    "          path_input <- stringr::str_c(\"~/mnt/private/studydata/match/chtc/\", \n",
    "                                       y_col_name)\n",
    "          path_models <- stringr::str_c(\"~/mnt/private/studydata/match/models/\", \n",
    "                                        y_col_name)}\n",
    ")\n"
   ],
   "id": "f22c50ae-6363-4202-b45d-21ceee06ac79"
  },
  {
   "cell_type": "markdown",
   "metadata": {},
   "source": [
    "Chunk Defaults"
   ],
   "id": "e55a77bb-8a2a-45b8-87d6-7b9e9f162130"
  },
  {
   "cell_type": "code",
   "execution_count": null,
   "metadata": {},
   "outputs": [],
   "source": [
    "\n",
    "knitr::opts_chunk$set(attr.output='style=\"max-height: 500px;\"')\n",
    "\n",
    "options(tibble.width = Inf)\n",
    "options(tibble.print_max = Inf)\n"
   ],
   "id": "7baf2b5e-d894-465e-8ed6-a0100d675313"
  },
  {
   "cell_type": "markdown",
   "metadata": {},
   "source": [
    "### Read in best configuration\n",
    "\n",
    "Selected in 1_metrics_inner (k-fold CV)"
   ],
   "id": "500c4cfb-19ec-47f6-84d1-6751974e75c5"
  },
  {
   "cell_type": "code",
   "execution_count": null,
   "metadata": {},
   "outputs": [
    {
     "output_type": "stream",
     "name": "stdout",
     "text": [
      "Rows: 1\n",
      "Columns: 14\n",
      "$ n_jobs       <dbl> 10\n",
      "$ algorithm    <chr> \"glmnet\"\n",
      "$ feature_set  <chr> \"scale_ordinal\"\n",
      "$ hp1          <dbl> 0.3\n",
      "$ hp2          <dbl> 0.05645159\n",
      "$ hp3          <lgl> NA\n",
      "$ resample     <chr> \"none\"\n",
      "$ accuracy     <dbl> 0.766055\n",
      "$ bal_accuracy <dbl> 0.5\n",
      "$ roc_auc      <dbl> 0.6727607\n",
      "$ sens         <dbl> 0\n",
      "$ spec         <dbl> 1\n",
      "$ ppv          <lgl> NA\n",
      "$ npv          <dbl> 0.7685185"
     ]
    }
   ],
   "source": [
    "best_config <- read_csv(file.path(path_models, \n",
    "                                  str_c(\"best_config_\", version, \".csv\")),\n",
    "                        show_col_types = FALSE)\n",
    "\n",
    "glimpse(best_config)\n"
   ],
   "id": "517beb98-8b76-4a5e-9616-4d91a4dbb29e"
  },
  {
   "cell_type": "markdown",
   "metadata": {},
   "source": [
    "### Fit best model in full dataset"
   ],
   "id": "e5a934a3-f80a-43da-8789-003d54ad8f1a"
  },
  {
   "cell_type": "code",
   "execution_count": null,
   "metadata": {},
   "outputs": [],
   "source": [
    "batch_names <- list.dirs(path_input, full.names = FALSE, recursive = FALSE) \n",
    "\n",
    "batch_name <- batch_names[str_detect(batch_names, \"train\") & \n",
    "                            str_detect(batch_names, cv) &\n",
    "                            str_detect(batch_names, version) &\n",
    "                            str_detect(batch_names, best_config$algorithm)] \n",
    "\n",
    "path_batch <- file.path(path_input, batch_name)\n",
    "source(file.path(path_batch, \"input\", \"training_controls.R\"))\n",
    "\n",
    "d <- read_csv(file.path(path_batch, \"input\", \"data_trn.csv\"), \n",
    "              show_col_types = FALSE) \n",
    "\n",
    "d_outcomes <- d |> \n",
    "  select(subid, ends_with(\"outcome\") & contains(\"hybrid\"))\n",
    "\n",
    "d <- format_data(d) \n",
    "\n",
    "rec <- build_recipe(d = d, config = best_config)\n",
    "\n",
    "rec_prepped <- rec |> \n",
    "  prep(training = d, strings_as_factors = FALSE)\n",
    "\n",
    "feat_all <- rec_prepped |> \n",
    "  bake(new_data = d)\n",
    "\n",
    "model_best <- fit_best_model(best_model = best_config, \n",
    "                             feat = feat_all, \n",
    "                             ml_mode = \"classification\")\n"
   ],
   "id": "93ede05b-4832-4f36-bb48-50d78006371b"
  },
  {
   "cell_type": "markdown",
   "metadata": {},
   "source": [
    "### Model coefficients\n",
    "\n",
    "**NOTE**: Coefficients are naturally inverted (i.e., positive class \\[abstinence\\] treated as first \\[vs. second\\] class). Here, we multiply coefficients by -1 to align the direction of coefficients with the rest of our analyses. Once flipped (i.e., as they appear below)…\n",
    "\n",
    "A *positive coefficient* indicates that increases in the feature *increase* the likelihood of abstinence. For example, increases in motivation to quit (“motive_quit_order”) *increase* the likelihood of abstinence.\n",
    "\n",
    "A *negative coefficient* indicates that increases in the feature *decrease* the likelihood of smoking. For example, increases in carbon monoxide (“co”) *decrease* the likelihood of abstinence."
   ],
   "id": "79b8c7c1-ce4b-4d22-b2f7-fe1894debeb5"
  },
  {
   "cell_type": "code",
   "execution_count": null,
   "metadata": {},
   "outputs": [
    {
     "output_type": "stream",
     "name": "stderr",
     "text": [
      "Loaded glmnet 4.1-8"
     ]
    }
   ],
   "source": [
    "model_tidy <- tidy(model_best)\n"
   ],
   "id": "a947bf0c-aa91-443a-b260-6c0ef20365a9"
  },
  {
   "cell_type": "code",
   "execution_count": null,
   "metadata": {},
   "outputs": [
    {
     "output_type": "display_data",
     "metadata": {},
     "data": {
      "text/html": [
       "</div>\n"
      ],
      "text/markdown": [
       "                                                                      term   estimate\n",
       "  ------------------------------------------------------------------------ ----------\n",
       "                                                               (Intercept)    -1.1708\n",
       "                                                                        co    -0.2263\n",
       "                                                     wisdm37_en_goad_scale    -0.1130\n",
       "                                                            race_ehr_white     0.1125\n",
       "                                                         motive_quit_order     0.0788\n",
       "                                                         smoke_menthol_yes    -0.0784\n",
       "                                                           shp_total_scale     0.0760\n",
       "                       treatment_varenicline_x_marital_status_ehr_divorced    -0.0741\n",
       "                                                        wsws_neg_aff_scale    -0.0662\n",
       "                                                        longest_quit_order     0.0624\n",
       "       treatment_combo_nrt_x_spouse_smoke_dont_live_with_spouse_or_partner     0.0592\n",
       "                                                          tot_quit_attempt     0.0576\n",
       "                                                          dsm5_score_scale    -0.0538\n",
       "                                                   wisdm37_tolerance_scale    -0.0499\n",
       "                                                               age_1st_cig    -0.0476\n",
       "    treatment_combo_nrt_x_live_with_smoker_live_alone_or_only_with_partner     0.0457\n",
       "                                                                   age_ehr     0.0408\n",
       "                                                          wsws_crave_scale    -0.0386\n",
       "                                                         wisdm37_cue_scale    -0.0272\n",
       "                                 treatment_varenicline_x_tried_nic_gum_yes     0.0267\n",
       "                                                                hdsm_tired    -0.0193\n",
       "                                           race_ehr_black_african_american    -0.0173\n",
       "                                treatment_combo_nrt_x_asi3_cognitive_scale     0.0172\n",
       "                                                        wisdm37_auto_scale    -0.0172\n",
       "                                                          tried_nic_gum_no    -0.0171\n",
       "                                                         tried_nic_gum_yes     0.0169\n",
       "                                                         asi3_social_scale     0.0114\n",
       "                                                          spouse_smoke_yes    -0.0111\n",
       "                                                 time_around_smokers_order    -0.0111\n",
       "                                        treatment_patch_x_spouse_smoke_yes    -0.0082\n",
       "                            treatment_varenicline_x_close_smoke_friend_yes    -0.0078\n",
       "                                         time_around_smokers_weekend_order    -0.0055\n",
       "                                               marital_status_ehr_divorced    -0.0045\n",
       "                             treatment_varenicline_x_close_smoke_friend_no     0.0041\n",
       "                                                   close_smoke_partner_yes    -0.0020\n",
       "                                                    close_smoke_partner_no     0.0015\n",
       "                                  treatment_varenicline_x_used_e_cig_tried    -0.0009\n",
       "                           treatment_varenicline_x_close_smoke_partner_yes    -0.0001\n"
      ]
     }
    }
   ],
   "source": [
    "retained_vars <- model_tidy |> \n",
    "  mutate(estimate = estimate * -1) |> \n",
    "  filter(abs(estimate) > 0) |> \n",
    "  select(-penalty) |> \n",
    "  arrange(desc(abs(estimate)))\n",
    "\n",
    "print_kbl(retained_vars, digits = 4)\n"
   ],
   "id": "a3851f9b-1e84-41ab-813c-eee4a424158a"
  },
  {
   "cell_type": "markdown",
   "metadata": {},
   "source": [
    "7.74% of features were retained by the glmnet solution (38 features of a total considered 491 features)."
   ],
   "id": "dd8f8e7b-ac91-455d-863b-938b3ab13ed1"
  },
  {
   "cell_type": "code",
   "execution_count": null,
   "metadata": {},
   "outputs": [
    {
     "output_type": "display_data",
     "metadata": {},
     "data": {
      "text/html": [
       "</div>\n"
      ],
      "text/markdown": [
       "                                                                      term   estimate\n",
       "  ------------------------------------------------------------------------ ----------\n",
       "                       treatment_varenicline_x_marital_status_ehr_divorced    -0.0741\n",
       "       treatment_combo_nrt_x_spouse_smoke_dont_live_with_spouse_or_partner     0.0592\n",
       "    treatment_combo_nrt_x_live_with_smoker_live_alone_or_only_with_partner     0.0457\n",
       "                                 treatment_varenicline_x_tried_nic_gum_yes     0.0267\n",
       "                                treatment_combo_nrt_x_asi3_cognitive_scale     0.0172\n",
       "                                        treatment_patch_x_spouse_smoke_yes    -0.0082\n",
       "                            treatment_varenicline_x_close_smoke_friend_yes    -0.0078\n",
       "                             treatment_varenicline_x_close_smoke_friend_no     0.0041\n",
       "                                  treatment_varenicline_x_used_e_cig_tried    -0.0009\n",
       "                           treatment_varenicline_x_close_smoke_partner_yes    -0.0001\n"
      ]
     }
    }
   ],
   "source": [
    "retained_vars_tx <- retained_vars |> \n",
    "  filter(str_detect(term, \"treatment_\")) |> \n",
    "  arrange(desc(abs(estimate))) \n",
    "\n",
    "print_kbl(retained_vars_tx, digits = 4)\n"
   ],
   "id": "ced97edc-50f9-4886-95c1-b4e5637565f8"
  },
  {
   "cell_type": "markdown",
   "metadata": {},
   "source": [
    "26.32% of the retained features were treatment interaction features (10 treatment features of 38 retained features). Of the 354 available treatment interaction features, 3% were retained.\n",
    "\n",
    "### Calculate and calibrate probabilities\n",
    "\n",
    "Make triplicate dataset"
   ],
   "id": "defd5c05-e2d3-4f54-887d-032801f2222a"
  },
  {
   "cell_type": "code",
   "execution_count": null,
   "metadata": {},
   "outputs": [],
   "source": [
    "d_patch <- d |> \n",
    "  mutate(treatment = \"patch\") \n",
    "\n",
    "d_combo <- d |> \n",
    "  mutate(treatment = \"combo_nrt\")\n",
    "\n",
    "d_varen <- d |> \n",
    "  mutate(treatment = \"varenicline\")\n",
    "\n",
    "d_trip <- bind_rows(d_patch, d_combo) |> \n",
    "  bind_rows(d_varen) |> \n",
    "  mutate(treatment = factor(treatment, \n",
    "                            levels = c(\n",
    "                              \"patch\",\n",
    "                              \"varenicline\",\n",
    "                              \"combo_nrt\")))\n"
   ],
   "id": "a08c3bd1-6c6a-4e48-9f7d-c9a21c9bbbf4"
  },
  {
   "cell_type": "markdown",
   "metadata": {},
   "source": [
    "Build triplicate feature set"
   ],
   "id": "d59e1120-2e2e-4229-980c-3eda396c6188"
  },
  {
   "cell_type": "code",
   "execution_count": null,
   "metadata": {},
   "outputs": [],
   "source": [
    "feat_trip <- rec_prepped |> \n",
    "  bake(new_data = d_trip) \n"
   ],
   "id": "93235382-c712-4aec-a705-884600e2fb7d"
  },
  {
   "cell_type": "markdown",
   "metadata": {},
   "source": [
    "Get raw and calibrated probabilities"
   ],
   "id": "495657fd-3cb3-470f-848e-2164ec916126"
  },
  {
   "cell_type": "code",
   "execution_count": null,
   "metadata": {},
   "outputs": [
    {
     "output_type": "stream",
     "name": "stdout",
     "text": [
      "Rows: 3,258\n",
      "Columns: 6\n",
      "$ subid     <dbl> 20010, 20015, 20030, 20049, 20051, 20072, 20077, 20086, 2010…\n",
      "$ tx        <fct> patch, patch, patch, patch, patch, patch, patch, patch, patc…\n",
      "$ prob_raw  <dbl> 0.1493997, 0.2469094, 0.1826521, 0.2374785, 0.2381063, 0.254…\n",
      "$ prob_beta <dbl> 0.1609685, 0.2581044, 0.1957673, 0.2493687, 0.2499546, 0.265…\n",
      "$ prob_iso  <dbl> 0.0000000, 0.2727273, 0.1714286, 0.2727273, 0.2727273, 0.272…\n",
      "$ prob_logi <dbl> 0.1641436, 0.2560164, 0.1935012, 0.2465153, 0.2471468, 0.263…"
     ]
    }
   ],
   "source": [
    "# raw (uncalibrated) predictions for triplicated dataset\n",
    "preds_prob <- predict(model_best, feat_trip,\n",
    "                      type = \"prob\")\n",
    "\n",
    "# fit calibration model\n",
    "set.seed(2468)\n",
    "cal_split <- d |> \n",
    "  initial_split(prop = 3/4, strata = y)\n",
    "d_cal_in <- training(cal_split) \n",
    "d_cal_out <- testing(cal_split)\n",
    "\n",
    "rec_cal_prepped <- rec |> \n",
    "  prep(training = d_cal_in, strings_as_factors = FALSE)\n",
    "\n",
    "feat_cal_in <- rec_cal_prepped |> \n",
    "  bake(new_data = NULL) \n",
    "\n",
    "feat_cal_out <- rec_cal_prepped |> \n",
    "  bake(new_data = d_cal_out) \n",
    "\n",
    "model_cal <- fit_best_model(best_config, feat = feat_cal_in, \"classification\")\n",
    "\n",
    "# beta calibration\n",
    "beta <- predict(model_cal, feat_cal_out,\n",
    "                type = \"prob\") |>\n",
    "  mutate(truth = feat_cal_out$y) |>\n",
    "  cal_estimate_beta(truth = truth,\n",
    "                    estimate = dplyr::starts_with(\".pred_\"),\n",
    "                    smooth = TRUE)\n",
    "preds_prob_beta <- preds_prob |>\n",
    "  cal_apply(beta)\n",
    "\n",
    "# iso calibration\n",
    "iso <- predict(model_cal, feat_cal_out,\n",
    "               type = \"prob\") |>\n",
    "  mutate(truth = feat_cal_out$y) |>\n",
    "  cal_estimate_isotonic(truth = truth,\n",
    "                        estimate = dplyr::starts_with(\".pred_\"))\n",
    "preds_prob_iso <- preds_prob |>\n",
    "  cal_apply(iso)\n",
    "\n",
    "# logistic calibration\n",
    "logi <- predict(model_cal, feat_cal_out,\n",
    "                type = \"prob\") |>\n",
    "  mutate(truth = feat_cal_out$y) |>\n",
    "  cal_estimate_logistic(truth = truth,\n",
    "                        estimate = dplyr::starts_with(\".pred_\"),\n",
    "                        smooth = TRUE)\n",
    "preds_prob_logi <- preds_prob |>\n",
    "  cal_apply(logi)\n",
    "\n",
    "# combine raw and calibrated probs\n",
    "probs <- tibble(subid = d_trip$subid,\n",
    "                tx = d_trip$treatment,\n",
    "                prob_raw = preds_prob[[str_c(\".pred_\", y_level_pos)]],\n",
    "                prob_beta = preds_prob_beta[[str_c(\".pred_\", y_level_pos)]],\n",
    "                prob_iso = preds_prob_iso[[str_c(\".pred_\", y_level_pos)]],\n",
    "                prob_logi = preds_prob_logi[[str_c(\".pred_\", y_level_pos)]]) \n",
    "\n",
    "glimpse(probs)\n"
   ],
   "id": "2ce75c0c-683d-4385-986f-ae428bc360c8"
  },
  {
   "cell_type": "markdown",
   "metadata": {},
   "source": [
    "### Make AIM 2 Dataset\n",
    "\n",
    "Pivot probabilities into wide format & select only raw probability (based on calibration validity check below)"
   ],
   "id": "cbfe0bf8-5c16-465e-acd7-9a15b289210e"
  },
  {
   "cell_type": "code",
   "execution_count": null,
   "metadata": {},
   "outputs": [
    {
     "output_type": "stream",
     "name": "stdout",
     "text": [
      "Rows: 1,086\n",
      "Columns: 4\n",
      "$ subid            <dbl> 20010, 20015, 20030, 20049, 20051, 20072, 20077, 2008…\n",
      "$ prob_patch       <dbl> 0.1493997, 0.2469094, 0.1826521, 0.2374785, 0.2381063…\n",
      "$ prob_combo_nrt   <dbl> 0.1889869, 0.2509378, 0.2115073, 0.2414024, 0.2381063…\n",
      "$ prob_varenicline <dbl> 0.1156685, 0.2433404, 0.1463593, 0.2528318, 0.2400227…"
     ]
    }
   ],
   "source": [
    "raw_probs_wide <- probs |> \n",
    "  select(subid, tx, prob_raw) |> \n",
    "  pivot_wider(names_prefix = \"prob_\",\n",
    "              names_from = tx,\n",
    "              values_from = prob_raw)\n",
    "\n",
    "glimpse(raw_probs_wide)\n"
   ],
   "id": "8f2880df-1009-44ba-9e1e-420333392670"
  },
  {
   "cell_type": "markdown",
   "metadata": {},
   "source": [
    "Join with d & create new variables"
   ],
   "id": "a2b8dedf-732c-41e0-a241-98544a2acb7b"
  },
  {
   "cell_type": "code",
   "execution_count": null,
   "metadata": {},
   "outputs": [
    {
     "output_type": "stream",
     "name": "stdout",
     "text": [
      "Rows: 1,086\n",
      "Columns: 12\n",
      "$ subid            <dbl> 20010, 20015, 20030, 20049, 20051, 20072, 20077, 2008…\n",
      "$ tx_rct           <fct> patch, combo_nrt, patch, varenicline, patch, combo_nr…\n",
      "$ tx_best          <fct> combo_nrt, combo_nrt, combo_nrt, varenicline, varenic…\n",
      "$ tx_match         <lgl> FALSE, TRUE, FALSE, TRUE, FALSE, FALSE, FALSE, FALSE,…\n",
      "$ prob_best        <dbl> 0.1889869, 0.2509378, 0.2115073, 0.2528318, 0.2400227…\n",
      "$ outcome_rct_wk26 <fct> smoking, smoking, smoking, abstinent, smoking, smokin…\n",
      "$ outcome_rct_wk4  <chr> \"smoking\", \"smoking\", \"smoking\", \"smoking\", \"smoking\"…\n",
      "$ outcome_rct_wk12 <chr> \"smoking\", \"smoking\", \"smoking\", \"abstinent\", \"smokin…\n",
      "$ outcome_rct_wk52 <chr> \"smoking\", \"abstinent\", \"smoking\", \"abstinent\", \"smok…\n",
      "$ prob_patch       <dbl> 0.1493997, 0.2469094, 0.1826521, 0.2374785, 0.2381063…\n",
      "$ prob_combo_nrt   <dbl> 0.1889869, 0.2509378, 0.2115073, 0.2414024, 0.2381063…\n",
      "$ prob_varenicline <dbl> 0.1156685, 0.2433404, 0.1463593, 0.2528318, 0.2400227…"
     ]
    }
   ],
   "source": [
    "set.seed(52592)\n",
    "d_aim_2 <- d |> \n",
    "  select(subid, tx_rct = treatment, outcome_rct_wk26 = y) |> \n",
    "  left_join(raw_probs_wide, by = \"subid\") |> \n",
    "  mutate(tx_best = case_when(\n",
    "    prob_patch > prob_combo_nrt & prob_patch > prob_varenicline ~ \"patch\",\n",
    "    prob_combo_nrt > prob_patch & prob_combo_nrt > prob_varenicline ~ \"combo_nrt\",\n",
    "    prob_varenicline > prob_patch & prob_varenicline > prob_combo_nrt ~ \"varenicline\",\n",
    "    TRUE ~ NA_character_\n",
    "  )) |> \n",
    "  mutate(tx_best = if_else(is.na(tx_best), case_when(\n",
    "    prob_patch == prob_combo_nrt ~ \"combo_nrt\",\n",
    "    prob_patch == prob_varenicline ~ \"varenicline\",\n",
    "    prob_combo_nrt == prob_varenicline ~ sample(c(\"combo_nrt\", \"varenicline\"), 1),\n",
    "    TRUE ~ NA_character_\n",
    "  ), tx_best)) |> \n",
    "  mutate(prob_best = case_when(\n",
    "    tx_best == \"patch\" ~ prob_patch,\n",
    "    tx_best == \"combo_nrt\" ~ prob_combo_nrt,\n",
    "    tx_best == \"varenicline\" ~ prob_varenicline,\n",
    "    TRUE ~ NA_real_\n",
    "  )) |> \n",
    "  mutate(tx_best = factor(tx_best, \n",
    "                          levels = c(\n",
    "                            \"patch\",\n",
    "                            \"varenicline\",\n",
    "                            \"combo_nrt\"))) |> \n",
    "  mutate(tx_match = if_else(tx_best == tx_rct, TRUE, FALSE)) |> \n",
    "  left_join(d_outcomes, by = \"subid\") |> \n",
    "  select(-pp_hybrid_wk26_outcome, -pp_hybrid_wk1_outcome, -pp_hybrid_yr3_outcome) |> # already in there from d\n",
    "  rename(outcome_rct_wk12 = pp_hybrid_wk12_outcome,\n",
    "         outcome_rct_wk4 = pp_hybrid_wk4_outcome,\n",
    "         outcome_rct_wk52 = pp_hybrid_wk52_outcome) |> \n",
    "  relocate(subid, tx_rct, tx_best, tx_match,\n",
    "           prob_best, starts_with(\"outcome\"), starts_with(\"prob\"))\n",
    "\n",
    "glimpse(d_aim_2)\n"
   ],
   "id": "37da9f3e-7e74-416d-acff-1aff3b4d69e4"
  },
  {
   "cell_type": "markdown",
   "metadata": {},
   "source": [
    "Quick EDA checks"
   ],
   "id": "40de2bc0-5366-4e38-b23e-c5d660f710cf"
  },
  {
   "cell_type": "code",
   "execution_count": null,
   "metadata": {},
   "outputs": [
    {
     "output_type": "stream",
     "name": "stdout",
     "text": [
      "# A tibble: 6 × 12\n",
      "  subid tx_rct      tx_best     tx_match prob_best outcome_rct_wk26\n",
      "  <dbl> <fct>       <fct>       <lgl>        <dbl> <fct>           \n",
      "1 20010 patch       combo_nrt   FALSE        0.189 smoking         \n",
      "2 20015 combo_nrt   combo_nrt   TRUE         0.251 smoking         \n",
      "3 20030 patch       combo_nrt   FALSE        0.212 smoking         \n",
      "4 20049 varenicline varenicline TRUE         0.253 abstinent       \n",
      "5 20051 patch       varenicline FALSE        0.240 smoking         \n",
      "6 20072 combo_nrt   varenicline FALSE        0.264 smoking         \n",
      "  outcome_rct_wk4 outcome_rct_wk12 outcome_rct_wk52 prob_patch prob_combo_nrt\n",
      "  <chr>           <chr>            <chr>                 <dbl>          <dbl>\n",
      "1 smoking         smoking          smoking               0.149          0.189\n",
      "2 smoking         smoking          abstinent             0.247          0.251\n",
      "3 smoking         smoking          smoking               0.183          0.212\n",
      "4 smoking         abstinent        abstinent             0.237          0.241\n",
      "5 smoking         smoking          smoking               0.238          0.238\n",
      "6 smoking         smoking          smoking               0.255          0.262\n",
      "  prob_varenicline\n",
      "             <dbl>\n",
      "1            0.116\n",
      "2            0.243\n",
      "3            0.146\n",
      "4            0.253\n",
      "5            0.240\n",
      "6            0.264"
     ]
    },
    {
     "output_type": "stream",
     "name": "stdout",
     "text": [
      " d_aim_2$tx_best   n   percent\n",
      "           patch   0 0.0000000\n",
      "     varenicline 305 0.2808471\n",
      "       combo_nrt 781 0.7191529"
     ]
    },
    {
     "output_type": "stream",
     "name": "stdout",
     "text": [
      " d_aim_2$tx_match   n   percent\n",
      "            FALSE 637 0.5865562\n",
      "             TRUE 449 0.4134438"
     ]
    },
    {
     "output_type": "stream",
     "name": "stdout",
     "text": [
      "# A tibble: 5 × 4\n",
      "# Groups:   tx_rct [3]\n",
      "  tx_rct      tx_match     n  prop\n",
      "  <fct>       <lgl>    <int> <dbl>\n",
      "1 patch       FALSE      241 1    \n",
      "2 varenicline FALSE      292 0.689\n",
      "3 varenicline TRUE       132 0.311\n",
      "4 combo_nrt   FALSE      104 0.247\n",
      "5 combo_nrt   TRUE       317 0.753"
     ]
    }
   ],
   "source": [
    "# confirm logic worked as expected\n",
    "head(d_aim_2)\n"
   ],
   "id": "ba1abee8-478c-4922-b6b4-a09b5ed0c96c"
  },
  {
   "cell_type": "markdown",
   "metadata": {},
   "source": [
    "Write out"
   ],
   "id": "60a39d62-dbbe-4de2-9224-6e72aa3a5231"
  },
  {
   "cell_type": "code",
   "execution_count": null,
   "metadata": {},
   "outputs": [],
   "source": [
    "d_aim_2 |> \n",
    "  write_csv(file.path(path_models, str_c(\"aim_2_\", version, \"_\", \n",
    "                                   y_col_name, \".csv\")))\n",
    "\n",
    "# d_aim_2 |> \n",
    "#   write_csv(here(\"/objects\", str_c(\"aim_2_\", version, \"_\", \n",
    "#                                    y_col_name, \".csv\")))\n"
   ],
   "id": "1c7cf0e2-3ce1-4754-b1a6-3eebb8300c3b"
  },
  {
   "cell_type": "markdown",
   "metadata": {},
   "source": [
    "### Validity check: Model Calibration\n",
    "\n",
    "Make wide format for all calibrated probabilities"
   ],
   "id": "c72103db-f6b6-49f3-9f1d-1f0aef3d0b6e"
  },
  {
   "cell_type": "code",
   "execution_count": null,
   "metadata": {},
   "outputs": [],
   "source": [
    "all_probs_wide <- probs |> \n",
    "  rename_with(~ str_replace(.x, \"prob_\", \"\"), .cols = starts_with(\"prob_\")) |> \n",
    "  pivot_wider(\n",
    "    names_from = tx,\n",
    "    values_from = c(raw, beta, iso, logi),\n",
    "    names_glue = \"{.value}_{tx}\"\n",
    "  )\n"
   ],
   "id": "5a014bf3-a519-44ce-bd01-6d874b52f654"
  },
  {
   "cell_type": "markdown",
   "metadata": {},
   "source": [
    "Set up validity check data"
   ],
   "id": "6e6becad-7872-433f-b303-a09c44be756e"
  },
  {
   "cell_type": "code",
   "execution_count": null,
   "metadata": {},
   "outputs": [],
   "source": [
    "d_valid <- d_aim_2 |> \n",
    "  select(subid, tx_rct, outcome_rct_wk26) |> \n",
    "  left_join(all_probs_wide, by = \"subid\") |> \n",
    "  mutate(beta = case_when(\n",
    "    tx_rct == \"patch\" ~ beta_patch,\n",
    "    tx_rct == \"combo_nrt\" ~ beta_combo_nrt,\n",
    "    tx_rct == \"varenicline\" ~ beta_varenicline,\n",
    "    TRUE ~ NA_real_\n",
    "  ),\n",
    "  raw = case_when(\n",
    "    tx_rct == \"patch\" ~ raw_patch,\n",
    "    tx_rct == \"combo_nrt\" ~ raw_combo_nrt,\n",
    "    tx_rct == \"varenicline\" ~ raw_varenicline,\n",
    "    TRUE ~ NA_real_\n",
    "  ),\n",
    "  isotonic = case_when(\n",
    "    tx_rct == \"patch\" ~ iso_patch,\n",
    "    tx_rct == \"combo_nrt\" ~ iso_combo_nrt,\n",
    "    tx_rct == \"varenicline\" ~ iso_varenicline,\n",
    "    TRUE ~ NA_real_\n",
    "  ),\n",
    "  logistic = case_when(\n",
    "    tx_rct == \"patch\" ~ logi_patch,\n",
    "    tx_rct == \"combo_nrt\" ~ logi_combo_nrt,\n",
    "    tx_rct == \"varenicline\" ~ logi_varenicline,\n",
    "    TRUE ~ NA_real_\n",
    "  )) |> \n",
    "  select(subid, outcome_rct_wk26, beta, raw, isotonic, logistic) \n"
   ],
   "id": "7e5ddc1c-bc26-489c-ab33-092a34d99d2a"
  },
  {
   "cell_type": "markdown",
   "metadata": {},
   "source": [
    "Compare mean abstinence from RCT to predicted probabilities for RCT tx across calibrations"
   ],
   "id": "b54908b0-66a2-4239-8af6-18c40d7c6b71"
  },
  {
   "cell_type": "code",
   "execution_count": null,
   "metadata": {},
   "outputs": [
    {
     "output_type": "stream",
     "name": "stdout",
     "text": [
      "# A tibble: 1 × 5\n",
      "  mean_rct mean_beta mean_iso mean_logi mean_raw\n",
      "     <dbl>     <dbl>    <dbl>     <dbl>    <dbl>\n",
      "1    0.247     0.252    0.221     0.252    0.247"
     ]
    }
   ],
   "source": [
    "d_valid |> \n",
    "  mutate(outcome_rct = if_else(outcome_rct_wk26 == \"abstinent\", 1, 0)) |> \n",
    "  summarize(mean_rct = mean(outcome_rct),\n",
    "            mean_beta = mean(beta),\n",
    "            mean_iso = mean(isotonic),\n",
    "            mean_logi = mean(logistic),\n",
    "            mean_raw = mean(raw))\n"
   ],
   "id": "a0b5c49e-6ed8-48e3-a782-f8280066625f"
  },
  {
   "cell_type": "markdown",
   "metadata": {},
   "source": [
    "Raw probabilities appear to match the outcome best.\n",
    "\n",
    "#### Plots\n",
    "\n",
    "Pivot data longer for required format"
   ],
   "id": "0c36489f-60a6-497d-977e-9d406b14dc33"
  },
  {
   "cell_type": "code",
   "execution_count": null,
   "metadata": {},
   "outputs": [],
   "source": [
    "d_plot <- d_valid |> \n",
    "  pivot_longer(\n",
    "    cols = c(beta, raw, isotonic, logistic),\n",
    "    names_to = \"method\",\n",
    "    values_to = \".pred_abstinent\"\n",
    "  )\n"
   ],
   "id": "8bf2fcdd-7e10-4eab-b921-f0a33ec5e7fc"
  },
  {
   "cell_type": "markdown",
   "metadata": {},
   "source": [
    "Make plots by calibration method"
   ],
   "id": "e6b5b6eb-d6d6-4c8f-8acb-a7427630ee26"
  },
  {
   "cell_type": "code",
   "execution_count": null,
   "metadata": {},
   "outputs": [
    {
     "output_type": "display_data",
     "metadata": {},
     "data": {
      "image/png": "[encoded data removed]"
     }
    },
    {
     "output_type": "display_data",
     "metadata": {},
     "data": {
      "image/png": "[encoded data removed]"
     }
    }
   ],
   "source": [
    "d_plot |> \n",
    "  cal_plot_breaks(truth = outcome_rct_wk26, \n",
    "                  estimate = .pred_abstinent,\n",
    "                  .by = method)\n"
   ],
   "id": "d5c49b3d-17b8-4f13-93e4-a44611a936d4"
  },
  {
   "cell_type": "markdown",
   "metadata": {},
   "source": [
    "Beta and logistic start off well but then quickly deviate and have a minimized range. Isotonic jumps fully from 0 to 1. Raw has some deviations in the upper quadrant of the graphs, but seems overall to follow the lines best for longest."
   ],
   "id": "395de0e5-e762-431b-81cd-10dfe68cc301"
  }
 ],
 "nbformat": 4,
 "nbformat_minor": 5,
 "metadata": {}
}

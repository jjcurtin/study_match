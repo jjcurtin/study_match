{
 "cells": [
  {
   "cell_type": "markdown",
   "metadata": {},
   "source": [
    "# Fits and characterizes final model for 4-week outcome\n",
    "\n",
    "Gaylen Fronk  \n",
    "June 5, 2024\n",
    "\n",
    "### Set Up Environment"
   ],
   "id": "8808e2f7-336d-473e-b028-5e1a94b9ba51"
  },
  {
   "cell_type": "code",
   "execution_count": null,
   "metadata": {},
   "outputs": [],
   "source": [
    "study <- \"match\"\n",
    "version <- \"v6\"\n",
    "cv <- \"kfold\"\n",
    "y_col_name <- \"pp_hybrid_wk4_outcome\"\n"
   ],
   "id": "ab73fbe2-cc7e-41ec-9074-92b6f8d5c237"
  },
  {
   "cell_type": "markdown",
   "metadata": {},
   "source": [
    "Packages for script"
   ],
   "id": "5fcb2cce-27d3-4dc3-a3ce-271ec10936dd"
  },
  {
   "cell_type": "code",
   "execution_count": null,
   "metadata": {},
   "outputs": [
    {
     "output_type": "stream",
     "name": "stderr",
     "text": [
      "── Attaching packages ────────────────────────────────────── tidymodels 1.2.0 ──"
     ]
    },
    {
     "output_type": "stream",
     "name": "stderr",
     "text": [
      "✔ broom        1.0.5      ✔ recipes      1.0.10\n",
      "✔ dials        1.2.1      ✔ rsample      1.2.1 \n",
      "✔ dplyr        1.1.4      ✔ tibble       3.2.1 \n",
      "✔ ggplot2      3.5.1      ✔ tidyr        1.3.1 \n",
      "✔ infer        1.0.7      ✔ tune         1.2.1 \n",
      "✔ modeldata    1.3.0      ✔ workflows    1.1.4 \n",
      "✔ parsnip      1.2.1      ✔ workflowsets 1.1.0 \n",
      "✔ purrr        1.0.2      ✔ yardstick    1.3.1 "
     ]
    },
    {
     "output_type": "stream",
     "name": "stderr",
     "text": [
      "── Conflicts ───────────────────────────────────────── tidymodels_conflicts() ──\n",
      "✖ purrr::discard() masks scales::discard()\n",
      "✖ dplyr::filter()  masks stats::filter()\n",
      "✖ dplyr::lag()     masks stats::lag()\n",
      "✖ recipes::step()  masks stats::step()\n",
      "• Search for functions across packages at https://www.tidymodels.org/find/"
     ]
    },
    {
     "output_type": "stream",
     "name": "stderr",
     "text": [
      "── Attaching core tidyverse packages ──────────────────────── tidyverse 2.0.0 ──\n",
      "✔ forcats   1.0.0     ✔ readr     2.1.5\n",
      "✔ lubridate 1.9.3     ✔ stringr   1.5.1"
     ]
    },
    {
     "output_type": "stream",
     "name": "stderr",
     "text": [
      "── Conflicts ────────────────────────────────────────── tidyverse_conflicts() ──\n",
      "✖ readr::col_factor() masks scales::col_factor()\n",
      "✖ purrr::discard()    masks scales::discard()\n",
      "✖ dplyr::filter()     masks stats::filter()\n",
      "✖ stringr::fixed()    masks recipes::fixed()\n",
      "✖ dplyr::lag()        masks stats::lag()\n",
      "✖ readr::spec()       masks yardstick::spec()\n",
      "ℹ Use the conflicted package (<http://conflicted.r-lib.org/>) to force all conflicts to become errors"
     ]
    },
    {
     "output_type": "stream",
     "name": "stderr",
     "text": [
      "\n",
      "Attaching package: 'Matrix'\n",
      "\n",
      "The following objects are masked from 'package:tidyr':\n",
      "\n",
      "    expand, pack, unpack"
     ]
    },
    {
     "output_type": "stream",
     "name": "stderr",
     "text": [
      "\n",
      "Attaching package: 'probably'\n",
      "\n",
      "The following objects are masked from 'package:base':\n",
      "\n",
      "    as.factor, as.ordered"
     ]
    },
    {
     "output_type": "stream",
     "name": "stderr",
     "text": [
      "here() starts at C:/Users/gfronk/Documents/GitHub/study_match"
     ]
    },
    {
     "output_type": "stream",
     "name": "stderr",
     "text": [
      "ℹ SHA-1 hash of file is \"c045eee2655a18dc85e715b78182f176327358a7\""
     ]
    },
    {
     "output_type": "stream",
     "name": "stderr",
     "text": [
      "ℹ SHA-1 hash of file is \"75cc6f7b855da59c240908bd936834b4da01285b\""
     ]
    }
   ],
   "source": [
    "\n",
    "library(tidymodels)\n"
   ],
   "id": "0f7040d4-3fc0-4139-a442-ba05b5e472f8"
  },
  {
   "cell_type": "markdown",
   "metadata": {},
   "source": [
    "Handle conflicts"
   ],
   "id": "80deadad-a576-43ff-a5bf-0bda93e54dbd"
  },
  {
   "cell_type": "code",
   "execution_count": null,
   "metadata": {},
   "outputs": [],
   "source": [
    "\n",
    "options(conflicts.policy = \"depends.ok\")\n"
   ],
   "id": "435c7455-739e-4e7c-977c-c9ec7dd62f69"
  },
  {
   "cell_type": "markdown",
   "metadata": {},
   "source": [
    "Absolute paths"
   ],
   "id": "45efbcff-222e-4436-a90b-d86220335664"
  },
  {
   "cell_type": "code",
   "execution_count": null,
   "metadata": {},
   "outputs": [],
   "source": [
    "switch (Sys.info()[['sysname']],\n",
    "        # PC paths\n",
    "        Windows = {\n",
    "          path_input <- stringr::str_c(\"P:/studydata/match/chtc/\", \n",
    "                                       y_col_name)\n",
    "          path_models <- stringr::str_c(\"P:/studydata/match/models/\", \n",
    "                                        y_col_name)},\n",
    "        \n",
    "        # IOS paths\n",
    "        Darwin = {\n",
    "          path_input <- stringr::str_c(\"/Volumes/private/studydata/match/chtc/\", \n",
    "                                       y_col_name)\n",
    "          path_models <- stringr::str_c(\"/Volumes/private/studydata/match/models/\", \n",
    "                                        y_col_name)},\n",
    "        \n",
    "        # Linux paths\n",
    "        Linux = {\n",
    "          path_input <- stringr::str_c(\"~/mnt/private/studydata/match/chtc/\", \n",
    "                                       y_col_name)\n",
    "          path_models <- stringr::str_c(\"~/mnt/private/studydata/match/models/\", \n",
    "                                        y_col_name)}\n",
    ")\n"
   ],
   "id": "9a326bff-971e-403c-b119-9cd6081658ad"
  },
  {
   "cell_type": "markdown",
   "metadata": {},
   "source": [
    "Chunk Defaults"
   ],
   "id": "c5167597-4eea-44e6-b89f-5eff46b11851"
  },
  {
   "cell_type": "code",
   "execution_count": null,
   "metadata": {},
   "outputs": [],
   "source": [
    "\n",
    "knitr::opts_chunk$set(attr.output='style=\"max-height: 500px;\"')\n",
    "\n",
    "options(tibble.width = Inf)\n",
    "options(tibble.print_max = Inf)\n"
   ],
   "id": "4cfdf02d-09a5-48b2-ab3b-e0b5ed922434"
  },
  {
   "cell_type": "markdown",
   "metadata": {},
   "source": [
    "### Read in best configuration\n",
    "\n",
    "Selected in 1_metrics_inner (k-fold CV)"
   ],
   "id": "b4c46650-95b1-4c35-b9cf-bb9e488fc994"
  },
  {
   "cell_type": "code",
   "execution_count": null,
   "metadata": {},
   "outputs": [
    {
     "output_type": "stream",
     "name": "stdout",
     "text": [
      "Rows: 1\n",
      "Columns: 15\n",
      "$ n_jobs       <dbl> 10\n",
      "$ algorithm    <chr> \"glmnet_manual\"\n",
      "$ feature_set  <chr> \"item_ordinal\"\n",
      "$ hp1          <dbl> 0.1\n",
      "$ hp2          <dbl> 0.1140801\n",
      "$ hp3          <lgl> NA\n",
      "$ resample     <chr> \"none\"\n",
      "$ roc_auc      <dbl> 0.718744\n",
      "$ n_tx         <dbl> 77.5\n",
      "$ accuracy     <dbl> 0.6958036\n",
      "$ bal_accuracy <dbl> 0.5899751\n",
      "$ sens         <dbl> 0.2747713\n",
      "$ spec         <dbl> 0.90625\n",
      "$ ppv          <dbl> 0.575188\n",
      "$ npv          <dbl> 0.7101675"
     ]
    }
   ],
   "source": [
    "best_config <- read_csv(file.path(path_models, \n",
    "                                  str_c(\"best_config_\", version, \".csv\")),\n",
    "                        show_col_types = FALSE)\n",
    "\n",
    "glimpse(best_config)\n"
   ],
   "id": "e0a6bea8-9831-4f10-acac-30715b00f1a9"
  },
  {
   "cell_type": "markdown",
   "metadata": {},
   "source": [
    "### Fit best model in full dataset\n",
    "\n",
    "**NOTE**: This model will only be used for 1) examining parameter estimates, and 2) ultimate dissemination."
   ],
   "id": "1681e7b8-ddde-4040-8e65-5170f12ba7c4"
  },
  {
   "cell_type": "code",
   "execution_count": null,
   "metadata": {},
   "outputs": [],
   "source": [
    "batch_names <- list.dirs(path_input, full.names = FALSE, recursive = FALSE) \n",
    "\n",
    "batch_name <- batch_names[str_detect(batch_names, \"train\") & \n",
    "                            str_detect(batch_names, cv) &\n",
    "                            str_detect(batch_names, version) &\n",
    "                            str_detect(batch_names, best_config$algorithm)] \n",
    "\n",
    "path_batch <- file.path(path_input, batch_name)\n",
    "source(file.path(path_batch, \"input\", \"training_controls.R\"))\n",
    "\n",
    "d <- read_csv(file.path(path_batch, \"input\", \"data_trn.csv\"), \n",
    "              show_col_types = FALSE) \n",
    "\n",
    "d_outcomes <- d |> \n",
    "  select(subid, ends_with(\"outcome\") & contains(\"hybrid\"))\n",
    "\n",
    "d <- format_data(d) \n",
    "\n",
    "rec <- build_recipe(d = d, config = best_config)\n",
    "\n",
    "rec_prepped_full <- rec |> \n",
    "  prep(training = d, strings_as_factors = FALSE)\n",
    "\n",
    "feat_all <- rec_prepped_full |> \n",
    "  bake(new_data = NULL)\n",
    "\n",
    "model_best_full <- fit_best_model(best_model = best_config, \n",
    "                                  feat = feat_all, \n",
    "                                  ml_mode = \"classification\")\n"
   ],
   "id": "1062b44f-53d7-4a9a-b578-403f41527b01"
  },
  {
   "cell_type": "markdown",
   "metadata": {},
   "source": [
    "### Model coefficients\n",
    "\n",
    "**NOTE**: Coefficients are naturally inverted (i.e., positive class \\[abstinence\\] treated as first \\[vs. second\\] class). Here, we multiply coefficients by -1 to align the direction of coefficients with the rest of our analyses. Once flipped (i.e., as they appear below)…\n",
    "\n",
    "A *positive coefficient* indicates that increases in the feature *increase* the likelihood of abstinence. For example, increases in motivation to quit (“motive_quit_order”) *increase* the likelihood of abstinence.\n",
    "\n",
    "A *negative coefficient* indicates that increases in the feature *decrease* the likelihood of smoking. For example, increases in carbon monoxide (“co”) *decrease* the likelihood of abstinence."
   ],
   "id": "1dee7614-d402-43e3-a55e-413f27523922"
  },
  {
   "cell_type": "code",
   "execution_count": null,
   "metadata": {},
   "outputs": [
    {
     "output_type": "stream",
     "name": "stderr",
     "text": [
      "Loaded glmnet 4.1-8"
     ]
    }
   ],
   "source": [
    "model_tidy <- tidy(model_best_full)\n"
   ],
   "id": "ddfd7dea-4c5b-4c1c-97c9-27c08d2b8aa5"
  },
  {
   "cell_type": "code",
   "execution_count": null,
   "metadata": {},
   "outputs": [
    {
     "output_type": "display_data",
     "metadata": {},
     "data": {
      "text/markdown": [
       "  -------------------------------------------------------------------------------------\n",
       "  term                                                                         estimate\n",
       "  -------------------------------------------------------------------------- ----------\n",
       "  (Intercept)                                                                   -0.7492\n",
       "\n",
       "  co                                                                            -0.1824\n",
       "\n",
       "  race_ehr_white                                                                 0.1280\n",
       "\n",
       "  treatment_combo_nrt_x_live_with_smoker_live_alone_or_only_with_partner         0.1076\n",
       "\n",
       "  wisdm37_2_item_order                                                           0.1062\n",
       "\n",
       "  motive_quit_order                                                              0.1041\n",
       "\n",
       "  asi3_15_item_order                                                             0.0896\n",
       "\n",
       "  wisdm37_30_item_order                                                         -0.0893\n",
       "\n",
       "  longest_quit_order                                                             0.0836\n",
       "\n",
       "  wsws_want_cig_24h_item_order                                                  -0.0769\n",
       "\n",
       "  treatment_varenicline_x_live_with_smoker_live_alone_or_only_with_partner      -0.0722\n",
       "\n",
       "  race_ehr_black_african_american                                               -0.0675\n",
       "\n",
       "  shp_2_item_order                                                               0.0673\n",
       "\n",
       "  dts_13_item_order                                                              0.0669\n",
       "\n",
       "  treatment_combo_nrt_x_race_ehr_black_african_american                         -0.0663\n",
       "\n",
       "  time_around_smokers_weekend_order                                             -0.0645\n",
       "\n",
       "  life_satisfaction_order                                                        0.0615\n",
       "\n",
       "  treatment_combo_nrt_x_wisdm37_22_item_order                                   -0.0607\n",
       "\n",
       "  income_order                                                                   0.0557\n",
       "\n",
       "  mfi_15_item_order                                                              0.0518\n",
       "\n",
       "  mfi_9_item_order                                                              -0.0478\n",
       "\n",
       "  treatment_combo_nrt_x_smoke_menthol_no                                         0.0468\n",
       "\n",
       "  tot_quit_attempt                                                               0.0466\n",
       "\n",
       "  wisdm37_5_item_order                                                          -0.0456\n",
       "\n",
       "  important_to_quit_order                                                        0.0431\n",
       "\n",
       "  treatment_patch_x_used_cigars_never_tried                                     -0.0428\n",
       "\n",
       "  treatment_patch_x_close_smoke_friend_no                                       -0.0419\n",
       "\n",
       "  treatment_combo_nrt_x_dts_5_item_order                                         0.0415\n",
       "\n",
       "  wisdm37_27_item_order                                                         -0.0414\n",
       "\n",
       "  smoke_menthol_yes                                                             -0.0403\n",
       "\n",
       "  wisdm37_13_item_order                                                         -0.0389\n",
       "\n",
       "  shp_9_item_order                                                               0.0384\n",
       "\n",
       "  treatment_varenicline_x_asi3_15_item_order                                     0.0381\n",
       "\n",
       "  wsws_unhappy_24h_item_order                                                   -0.0378\n",
       "\n",
       "  wsws_5_item_order                                                              0.0366\n",
       "\n",
       "  treatment_patch_x_used_cigars_tried                                            0.0354\n",
       "\n",
       "  sip2r_2_item_order                                                            -0.0343\n",
       "\n",
       "  treatment_patch_x_close_smoke_co_worker_yes                                    0.0336\n",
       "\n",
       "  treatment_varenicline_x_mfi_6_item_order                                       0.0320\n",
       "\n",
       "  treatment_varenicline_x_income_order                                           0.0317\n",
       "\n",
       "  treatment_varenicline_x_spouse_smoke_no                                        0.0316\n",
       "\n",
       "  wsws_18_item_order                                                            -0.0305\n",
       "\n",
       "  treatment_combo_nrt_x_wisdm37_30_item_order                                   -0.0301\n",
       "\n",
       "  marital_status_ehr_married                                                     0.0299\n",
       "\n",
       "  treatment_combo_nrt_x_marital_status_ehr_divorced                             -0.0293\n",
       "\n",
       "  treatment_combo_nrt_x_dsm5_6_item_no                                           0.0287\n",
       "\n",
       "  treatment_varenicline_x_close_smoke_relative_no                               -0.0287\n",
       "\n",
       "  sip2r_3_item_order                                                            -0.0277\n",
       "\n",
       "  treatment_varenicline_x_dsm5_3_item_yes                                        0.0275\n",
       "\n",
       "  treatment_varenicline_x_used_cigars_never_tried                                0.0259\n",
       "\n",
       "  hdsm_tense                                                                    -0.0258\n",
       "\n",
       "  treatment_combo_nrt_x_asi3_2_item_order                                       -0.0257\n",
       "\n",
       "  treatment_combo_nrt_x_race_ehr_white                                           0.0251\n",
       "\n",
       "  treatment_combo_nrt_x_marital_status_ehr_married                               0.0242\n",
       "\n",
       "  wisdm37_18_item_order                                                         -0.0239\n",
       "\n",
       "  treatment_combo_nrt_x_dsm5_10_item_yes                                        -0.0235\n",
       "\n",
       "  dsm5_12_item_no                                                                0.0233\n",
       "\n",
       "  dsm5_12_item_yes                                                              -0.0233\n",
       "\n",
       "  treatment_patch_x_work_ban_no_smoking_allowed                                 -0.0232\n",
       "\n",
       "  berlin_7_order                                                                -0.0232\n",
       "\n",
       "  treatment_patch_x_wsws_crave_24h_item_order                                   -0.0226\n",
       "\n",
       "  quit_success_30d_order                                                         0.0220\n",
       "\n",
       "  treatment_combo_nrt_x_smoke_menthol_yes                                       -0.0218\n",
       "\n",
       "  smoke_menthol_no                                                               0.0215\n",
       "\n",
       "  dsm5_8_item_no                                                                 0.0215\n",
       "\n",
       "  dsm5_8_item_yes                                                               -0.0215\n",
       "\n",
       "  treatment_varenicline_x_psych_depression_yes                                   0.0214\n",
       "\n",
       "  treatment_combo_nrt_x_wisdm37_19_item_order                                   -0.0213\n",
       "\n",
       "  wisdm37_14_item_order                                                         -0.0211\n",
       "\n",
       "  sip2r_12_item_order                                                           -0.0211\n",
       "\n",
       "  hdsm_pain                                                                     -0.0208\n",
       "\n",
       "  treatment_patch_x_wisdm37_26_item_order                                        0.0207\n",
       "\n",
       "  treatment_varenicline_x_live_with_smoker_no                                    0.0204\n",
       "\n",
       "  shp_14_item_order                                                              0.0202\n",
       "\n",
       "  treatment_patch_x_close_smoke_friend_yes                                       0.0198\n",
       "\n",
       "  wsws_20_item_order                                                            -0.0192\n",
       "\n",
       "  wsws_9_item_order                                                             -0.0192\n",
       "\n",
       "  time_around_smokers_order                                                     -0.0189\n",
       "\n",
       "  treatment_varenicline_x_wisdm37_32_item_order                                 -0.0188\n",
       "\n",
       "  shp_13_item_order                                                             -0.0182\n",
       "\n",
       "  wisdm37_32_item_order                                                         -0.0175\n",
       "\n",
       "  asi3_9_item_order                                                              0.0162\n",
       "\n",
       "  wsws_angry_24h_item_order                                                     -0.0160\n",
       "\n",
       "  used_cigars_use_regularly                                                     -0.0158\n",
       "\n",
       "  treatment_combo_nrt_x_mfi_13_item_order                                        0.0150\n",
       "\n",
       "  treatment_varenicline_x_berlin_7_order                                        -0.0146\n",
       "\n",
       "  treatment_varenicline_x_used_cigars_tried                                     -0.0144\n",
       "\n",
       "  treatment_varenicline_x_wisdm37_27_item_order                                 -0.0135\n",
       "\n",
       "  psych_depression_no                                                           -0.0134\n",
       "\n",
       "  psych_depression_yes                                                           0.0134\n",
       "\n",
       "  wsws_stressed_24h_item_order                                                  -0.0127\n",
       "\n",
       "  wsws_15_item_order                                                            -0.0126\n",
       "\n",
       "  treatment_varenicline_x_close_smoke_relative_yes                               0.0124\n",
       "\n",
       "  treatment_combo_nrt_x_ftnd_6_item_no                                           0.0123\n",
       "\n",
       "  phq9_6_item_order                                                             -0.0120\n",
       "\n",
       "  treatment_combo_nrt_x_live_with_smoker_yes                                    -0.0113\n",
       "\n",
       "  wsws_12_item_order                                                            -0.0113\n",
       "\n",
       "  used_chew_or_snuff_never_tried                                                 0.0110\n",
       "\n",
       "  treatment_patch_x_marital_status_ehr_never_married                             0.0104\n",
       "\n",
       "  treatment_patch_x_gender_ehr_female                                           -0.0103\n",
       "\n",
       "  treatment_varenicline_x_wsws_constipation_24h_item_order                       0.0099\n",
       "\n",
       "  treatment_combo_nrt_x_life_satisfaction_order                                  0.0099\n",
       "\n",
       "  mfi_5_item_order                                                               0.0093\n",
       "\n",
       "  marital_status_ehr_divorced                                                   -0.0088\n",
       "\n",
       "  treatment_varenicline_x_dsm5_7_item_no                                        -0.0082\n",
       "\n",
       "  shp_3_item_order                                                               0.0080\n",
       "\n",
       "  treatment_combo_nrt_x_wsws_constipation_24h_item_order                        -0.0080\n",
       "\n",
       "  used_e_cig_tried                                                               0.0078\n",
       "\n",
       "  wsws_coughing_24h_item_order                                                   0.0076\n",
       "\n",
       "  ftnd_1_item_order                                                              0.0074\n",
       "\n",
       "  dts_15_item_order                                                              0.0074\n",
       "\n",
       "  treatment_patch_x_ftnd_2_item_yes                                              0.0072\n",
       "\n",
       "  dsm5_7_item_yes                                                                0.0067\n",
       "\n",
       "  dsm5_7_item_no                                                                -0.0067\n",
       "\n",
       "  treatment_patch_x_wisdm37_16_item_order                                        0.0067\n",
       "\n",
       "  treatment_varenicline_x_tried_nic_gum_yes                                      0.0067\n",
       "\n",
       "  treatment_combo_nrt_x_used_pipe_tried                                         -0.0065\n",
       "\n",
       "  treatment_varenicline_x_spouse_smoke_yes                                      -0.0065\n",
       "\n",
       "  treatment_patch_x_race_ehr_white                                               0.0062\n",
       "\n",
       "  treatment_combo_nrt_x_last_rct_quit_order                                      0.0059\n",
       "\n",
       "  treatment_varenicline_x_tried_nic_gum_no                                      -0.0058\n",
       "\n",
       "  asi3_2_item_order                                                             -0.0055\n",
       "\n",
       "  treatment_varenicline_x_wsws_19_item_order                                    -0.0054\n",
       "\n",
       "  live_with_smoker_yes                                                          -0.0054\n",
       "\n",
       "  wsws_26_item_order                                                            -0.0053\n",
       "\n",
       "  treatment_patch_x_work_ban_do_not_work_outside_home                            0.0051\n",
       "\n",
       "  treatment_patch_x_wsws_coughing_24h_item_order                                 0.0048\n",
       "\n",
       "  treatment_varenicline_x_wisdm37_18_item_order                                 -0.0047\n",
       "\n",
       "  hrqol_4                                                                       -0.0045\n",
       "\n",
       "  cigs_per_day_heaviest                                                         -0.0041\n",
       "\n",
       "  treatment_patch_x_mfi_15_item_order                                            0.0041\n",
       "\n",
       "  treatment_varenicline_x_spouse_smoke_dont_live_with_spouse_or_partner         -0.0034\n",
       "\n",
       "  treatment_combo_nrt_x_dts_3_item_order                                         0.0030\n",
       "\n",
       "  treatment_patch_x_gender_ehr_male                                              0.0027\n",
       "\n",
       "  sip2r_4_item_order                                                            -0.0026\n",
       "\n",
       "  treatment_combo_nrt_x_ftnd_6_item_yes                                         -0.0026\n",
       "\n",
       "  treatment_combo_nrt_x_berlin_9_no                                              0.0024\n",
       "\n",
       "  treatment_varenicline_x_work_ban_smoking_allowed_some_places                  -0.0023\n",
       "\n",
       "  treatment_combo_nrt_x_wsws_5_item_order                                        0.0022\n",
       "\n",
       "  wsws_crave_24h_item_order                                                     -0.0021\n",
       "\n",
       "  treatment_combo_nrt_x_wsws_9_item_order                                       -0.0020\n",
       "\n",
       "  hdsm_tired                                                                    -0.0017\n",
       "\n",
       "  confident_quit_order                                                           0.0016\n",
       "\n",
       "  spouse_smoke_no                                                                0.0016\n",
       "\n",
       "  mfi_20_item_order                                                              0.0016\n",
       "\n",
       "  treatment_combo_nrt_x_hdsm_tense                                              -0.0015\n",
       "\n",
       "  asi3_13_item_order                                                             0.0013\n",
       "\n",
       "  wisdm37_17_item_order                                                          0.0010\n",
       "\n",
       "  treatment_patch_x_wsws_26_item_order                                          -0.0010\n",
       "\n",
       "  treatment_patch_x_tot_quit_attempt                                             0.0007\n",
       "\n",
       "  treatment_combo_nrt_x_wsws_want_cig_24h_item_order                            -0.0005\n",
       "\n",
       "  treatment_combo_nrt_x_dsm5_12_item_no                                          0.0004\n",
       "\n",
       "  wsws_tired_24h_item_order                                                     -0.0003\n",
       "\n",
       "  treatment_combo_nrt_x_dts_1_item_order                                         0.0002\n",
       "\n",
       "  treatment_combo_nrt_x_tried_zyban_yes                                         -0.0001\n",
       "  -------------------------------------------------------------------------------------\n"
      ]
     }
    }
   ],
   "source": [
    "\n",
    "retained_vars <- model_tidy |> \n",
    "  mutate(estimate = estimate * -1) |> \n",
    "  filter(abs(estimate) > 0) |> \n",
    "  select(-penalty) |> \n",
    "  arrange(desc(abs(estimate)))\n",
    "\n",
    "knitr::kable(retained_vars, digits = 4)\n"
   ],
   "id": "543c5c85-fe6c-4cd1-ad7a-ce1eaba5a426"
  },
  {
   "cell_type": "markdown",
   "metadata": {},
   "source": [
    "13.21% of features were retained by the glmnet solution (155 features of a total considered 1173 features)."
   ],
   "id": "0c646149-6254-4101-b00d-76a93899df84"
  },
  {
   "cell_type": "code",
   "execution_count": null,
   "metadata": {},
   "outputs": [
    {
     "output_type": "display_data",
     "metadata": {},
     "data": {
      "text/markdown": [
       "  -------------------------------------------------------------------------------------\n",
       "  term                                                                         estimate\n",
       "  -------------------------------------------------------------------------- ----------\n",
       "  treatment_combo_nrt_x_live_with_smoker_live_alone_or_only_with_partner         0.1076\n",
       "\n",
       "  treatment_varenicline_x_live_with_smoker_live_alone_or_only_with_partner      -0.0722\n",
       "\n",
       "  treatment_combo_nrt_x_race_ehr_black_african_american                         -0.0663\n",
       "\n",
       "  treatment_combo_nrt_x_wisdm37_22_item_order                                   -0.0607\n",
       "\n",
       "  treatment_combo_nrt_x_smoke_menthol_no                                         0.0468\n",
       "\n",
       "  treatment_patch_x_used_cigars_never_tried                                     -0.0428\n",
       "\n",
       "  treatment_patch_x_close_smoke_friend_no                                       -0.0419\n",
       "\n",
       "  treatment_combo_nrt_x_dts_5_item_order                                         0.0415\n",
       "\n",
       "  treatment_varenicline_x_asi3_15_item_order                                     0.0381\n",
       "\n",
       "  treatment_patch_x_used_cigars_tried                                            0.0354\n",
       "\n",
       "  treatment_patch_x_close_smoke_co_worker_yes                                    0.0336\n",
       "\n",
       "  treatment_varenicline_x_mfi_6_item_order                                       0.0320\n",
       "\n",
       "  treatment_varenicline_x_income_order                                           0.0317\n",
       "\n",
       "  treatment_varenicline_x_spouse_smoke_no                                        0.0316\n",
       "\n",
       "  treatment_combo_nrt_x_wisdm37_30_item_order                                   -0.0301\n",
       "\n",
       "  treatment_combo_nrt_x_marital_status_ehr_divorced                             -0.0293\n",
       "\n",
       "  treatment_combo_nrt_x_dsm5_6_item_no                                           0.0287\n",
       "\n",
       "  treatment_varenicline_x_close_smoke_relative_no                               -0.0287\n",
       "\n",
       "  treatment_varenicline_x_dsm5_3_item_yes                                        0.0275\n",
       "\n",
       "  treatment_varenicline_x_used_cigars_never_tried                                0.0259\n",
       "\n",
       "  treatment_combo_nrt_x_asi3_2_item_order                                       -0.0257\n",
       "\n",
       "  treatment_combo_nrt_x_race_ehr_white                                           0.0251\n",
       "\n",
       "  treatment_combo_nrt_x_marital_status_ehr_married                               0.0242\n",
       "\n",
       "  treatment_combo_nrt_x_dsm5_10_item_yes                                        -0.0235\n",
       "\n",
       "  treatment_patch_x_work_ban_no_smoking_allowed                                 -0.0232\n",
       "\n",
       "  treatment_patch_x_wsws_crave_24h_item_order                                   -0.0226\n",
       "\n",
       "  treatment_combo_nrt_x_smoke_menthol_yes                                       -0.0218\n",
       "\n",
       "  treatment_varenicline_x_psych_depression_yes                                   0.0214\n",
       "\n",
       "  treatment_combo_nrt_x_wisdm37_19_item_order                                   -0.0213\n",
       "\n",
       "  treatment_patch_x_wisdm37_26_item_order                                        0.0207\n",
       "\n",
       "  treatment_varenicline_x_live_with_smoker_no                                    0.0204\n",
       "\n",
       "  treatment_patch_x_close_smoke_friend_yes                                       0.0198\n",
       "\n",
       "  treatment_varenicline_x_wisdm37_32_item_order                                 -0.0188\n",
       "\n",
       "  treatment_combo_nrt_x_mfi_13_item_order                                        0.0150\n",
       "\n",
       "  treatment_varenicline_x_berlin_7_order                                        -0.0146\n",
       "\n",
       "  treatment_varenicline_x_used_cigars_tried                                     -0.0144\n",
       "\n",
       "  treatment_varenicline_x_wisdm37_27_item_order                                 -0.0135\n",
       "\n",
       "  treatment_varenicline_x_close_smoke_relative_yes                               0.0124\n",
       "\n",
       "  treatment_combo_nrt_x_ftnd_6_item_no                                           0.0123\n",
       "\n",
       "  treatment_combo_nrt_x_live_with_smoker_yes                                    -0.0113\n",
       "\n",
       "  treatment_patch_x_marital_status_ehr_never_married                             0.0104\n",
       "\n",
       "  treatment_patch_x_gender_ehr_female                                           -0.0103\n",
       "\n",
       "  treatment_varenicline_x_wsws_constipation_24h_item_order                       0.0099\n",
       "\n",
       "  treatment_combo_nrt_x_life_satisfaction_order                                  0.0099\n",
       "\n",
       "  treatment_varenicline_x_dsm5_7_item_no                                        -0.0082\n",
       "\n",
       "  treatment_combo_nrt_x_wsws_constipation_24h_item_order                        -0.0080\n",
       "\n",
       "  treatment_patch_x_ftnd_2_item_yes                                              0.0072\n",
       "\n",
       "  treatment_patch_x_wisdm37_16_item_order                                        0.0067\n",
       "\n",
       "  treatment_varenicline_x_tried_nic_gum_yes                                      0.0067\n",
       "\n",
       "  treatment_combo_nrt_x_used_pipe_tried                                         -0.0065\n",
       "\n",
       "  treatment_varenicline_x_spouse_smoke_yes                                      -0.0065\n",
       "\n",
       "  treatment_patch_x_race_ehr_white                                               0.0062\n",
       "\n",
       "  treatment_combo_nrt_x_last_rct_quit_order                                      0.0059\n",
       "\n",
       "  treatment_varenicline_x_tried_nic_gum_no                                      -0.0058\n",
       "\n",
       "  treatment_varenicline_x_wsws_19_item_order                                    -0.0054\n",
       "\n",
       "  treatment_patch_x_work_ban_do_not_work_outside_home                            0.0051\n",
       "\n",
       "  treatment_patch_x_wsws_coughing_24h_item_order                                 0.0048\n",
       "\n",
       "  treatment_varenicline_x_wisdm37_18_item_order                                 -0.0047\n",
       "\n",
       "  treatment_patch_x_mfi_15_item_order                                            0.0041\n",
       "\n",
       "  treatment_varenicline_x_spouse_smoke_dont_live_with_spouse_or_partner         -0.0034\n",
       "\n",
       "  treatment_combo_nrt_x_dts_3_item_order                                         0.0030\n",
       "\n",
       "  treatment_patch_x_gender_ehr_male                                              0.0027\n",
       "\n",
       "  treatment_combo_nrt_x_ftnd_6_item_yes                                         -0.0026\n",
       "\n",
       "  treatment_combo_nrt_x_berlin_9_no                                              0.0024\n",
       "\n",
       "  treatment_varenicline_x_work_ban_smoking_allowed_some_places                  -0.0023\n",
       "\n",
       "  treatment_combo_nrt_x_wsws_5_item_order                                        0.0022\n",
       "\n",
       "  treatment_combo_nrt_x_wsws_9_item_order                                       -0.0020\n",
       "\n",
       "  treatment_combo_nrt_x_hdsm_tense                                              -0.0015\n",
       "\n",
       "  treatment_patch_x_wsws_26_item_order                                          -0.0010\n",
       "\n",
       "  treatment_patch_x_tot_quit_attempt                                             0.0007\n",
       "\n",
       "  treatment_combo_nrt_x_wsws_want_cig_24h_item_order                            -0.0005\n",
       "\n",
       "  treatment_combo_nrt_x_dsm5_12_item_no                                          0.0004\n",
       "\n",
       "  treatment_combo_nrt_x_dts_1_item_order                                         0.0002\n",
       "\n",
       "  treatment_combo_nrt_x_tried_zyban_yes                                         -0.0001\n",
       "  -------------------------------------------------------------------------------------\n"
      ]
     }
    }
   ],
   "source": [
    "retained_vars_tx <- retained_vars |> \n",
    "  filter(str_detect(term, \"treatment_\")) |> \n",
    "  arrange(desc(abs(estimate))) \n",
    "\n",
    "knitr::kable(retained_vars_tx, digits = 4)\n"
   ],
   "id": "tbl-retained-tx-wk4"
  },
  {
   "cell_type": "markdown",
   "metadata": {},
   "source": [
    "47.74% of the retained features were treatment interaction features (74 treatment features of 155 retained features). Of the 877 available treatment interaction features, 8% were retained.\n",
    "\n",
    "### Calculate and calibrate probabilities\n",
    "\n",
    "Make triplicate dataset"
   ],
   "id": "4233cb20-5e6c-4c01-9f52-9aa8e4e2d666"
  },
  {
   "cell_type": "code",
   "execution_count": null,
   "metadata": {},
   "outputs": [],
   "source": [
    "d_patch <- d |> \n",
    "  mutate(treatment = \"patch\") \n",
    "\n",
    "d_combo <- d |> \n",
    "  mutate(treatment = \"combo_nrt\")\n",
    "\n",
    "d_varen <- d |> \n",
    "  mutate(treatment = \"varenicline\")\n",
    "\n",
    "d_trip <- bind_rows(d_patch, d_combo) |> \n",
    "  bind_rows(d_varen) |> \n",
    "  mutate(treatment = factor(treatment, \n",
    "                            levels = c(\n",
    "                              \"patch\",\n",
    "                              \"varenicline\",\n",
    "                              \"combo_nrt\")))\n"
   ],
   "id": "6b0d4b28-4405-4382-9d0d-d8c3f7b46c20"
  },
  {
   "cell_type": "markdown",
   "metadata": {},
   "source": [
    "Make function to: 1) hold out each sub once, 2) fit model with remaining 1085 subs, 3) get 3 raw predictions for held-out sub, 4) get calibrated predictions for held-out sub"
   ],
   "id": "d97c1cbd-c87f-4273-b21f-51f603b53da9"
  },
  {
   "cell_type": "code",
   "execution_count": null,
   "metadata": {},
   "outputs": [],
   "source": [
    "get_triple_probs <- function(i_sub, best_config, d, d_trip){\n",
    "  \n",
    "  # hold out single subject\n",
    "  d_out <- d_trip |> \n",
    "    filter(subid == i_sub)\n",
    "  \n",
    "  d_in <- d |> \n",
    "    filter(subid != i_sub)\n",
    "  \n",
    "  # prep recipe \n",
    "  rec <- build_recipe(d = d_in, config = best_config)\n",
    "  rec_prepped <- rec |> \n",
    "    prep(training = d_in, strings_as_factors = FALSE)\n",
    "  \n",
    "  # bake feat_in and feat_out\n",
    "  feat_in <- rec_prepped |> \n",
    "    bake(new_data = NULL)\n",
    "  \n",
    "  feat_out <- rec_prepped |> \n",
    "    bake(new_data = d_out)\n",
    "  \n",
    "  # fit model\n",
    "  model_best <- fit_best_model(best_config, feat = feat_in,\n",
    "                               \"classification\")\n",
    "  \n",
    "  # raw (uncalibrated) predictions\n",
    "  preds_prob <- predict(model_best, feat_out,\n",
    "                        type = \"prob\")\n",
    "  \n",
    "  # fit calibration model\n",
    "  set.seed(2468)\n",
    "  cal_split <- d_in |> \n",
    "    initial_split(prop = 3/4, strata = y)\n",
    "  d_cal_in <- training(cal_split) \n",
    "  d_cal_out <- testing(cal_split)\n",
    "  \n",
    "  rec_cal_prepped <- rec |> \n",
    "    prep(training = d_cal_in, strings_as_factors = FALSE)\n",
    "  \n",
    "  feat_cal_in <- rec_cal_prepped |> \n",
    "    bake(new_data = NULL) \n",
    "  \n",
    "  feat_cal_out <- rec_cal_prepped |> \n",
    "    bake(new_data = d_cal_out) \n",
    "  \n",
    "  model_cal <- fit_best_model(best_config, feat = feat_cal_in, \"classification\")\n",
    "  \n",
    "  # beta calibration\n",
    "  beta <- predict(model_cal, feat_cal_out,\n",
    "                  type = \"prob\") |>\n",
    "    mutate(truth = feat_cal_out$y) |>\n",
    "    cal_estimate_beta(truth = truth,\n",
    "                      estimate = dplyr::starts_with(\".pred_\"),\n",
    "                      smooth = TRUE)\n",
    "  preds_prob_beta <- preds_prob |>\n",
    "    cal_apply(beta)\n",
    "  \n",
    "  # iso calibration\n",
    "  iso <- predict(model_cal, feat_cal_out,\n",
    "                 type = \"prob\") |>\n",
    "    mutate(truth = feat_cal_out$y) |>\n",
    "    cal_estimate_isotonic(truth = truth,\n",
    "                          estimate = dplyr::starts_with(\".pred_\"))\n",
    "  preds_prob_iso <- preds_prob |>\n",
    "    cal_apply(iso)\n",
    "  \n",
    "  # logistic calibration\n",
    "  logi <- predict(model_cal, feat_cal_out,\n",
    "                  type = \"prob\") |>\n",
    "    mutate(truth = feat_cal_out$y) |>\n",
    "    cal_estimate_logistic(truth = truth,\n",
    "                          estimate = dplyr::starts_with(\".pred_\"),\n",
    "                          smooth = TRUE)\n",
    "  preds_prob_logi <- preds_prob |>\n",
    "    cal_apply(logi)\n",
    "  \n",
    "  # combine raw and calibrated probs\n",
    "  probs <- tibble(subid = d_out$subid,\n",
    "                  tx = d_out$treatment,\n",
    "                  prob_raw = preds_prob[[str_c(\".pred_\", y_level_pos)]],\n",
    "                  prob_beta = preds_prob_beta[[str_c(\".pred_\", y_level_pos)]],\n",
    "                  prob_iso = preds_prob_iso[[str_c(\".pred_\", y_level_pos)]],\n",
    "                  prob_logi = preds_prob_logi[[str_c(\".pred_\", y_level_pos)]]) \n",
    "}\n"
   ],
   "id": "8d731cd3-2564-4d9b-8391-98e1062c451e"
  },
  {
   "cell_type": "markdown",
   "metadata": {},
   "source": [
    "Map over participants so that each is held-out once"
   ],
   "id": "5a262358-4661-48e7-9afe-86a727322b6f"
  },
  {
   "cell_type": "code",
   "execution_count": null,
   "metadata": {},
   "outputs": [],
   "source": [
    "if(file.exists(file.path(path_models, \n",
    "                         str_c(\"trip_probs_\", version, \".csv\")))) {\n",
    "  all_probs <- read_csv(file.path(path_models, \n",
    "                                  str_c(\"trip_probs_\", version, \".csv\")),\n",
    "                        show_col_types = FALSE)\n",
    "} else {\n",
    "  all_probs <- d$subid |> \n",
    "    map(\\(i_sub) get_triple_probs(i_sub, best_config, d, d_trip)) |> \n",
    "    list_rbind()\n",
    "  \n",
    "  all_probs |> \n",
    "    write_csv(file.path(path_models, \n",
    "                        str_c(\"trip_probs_\", version, \".csv\")))\n",
    "}\n"
   ],
   "id": "59a462d8-432e-4090-9e45-dcd6ddf221bf"
  },
  {
   "cell_type": "markdown",
   "metadata": {},
   "source": [
    "### Make AIM 2 Dataset\n",
    "\n",
    "Pivot probabilities into wide format & select only raw probability (based on calibration validity check below)"
   ],
   "id": "aac498ee-f33e-4680-a727-2eb9b341933a"
  },
  {
   "cell_type": "code",
   "execution_count": null,
   "metadata": {},
   "outputs": [
    {
     "output_type": "stream",
     "name": "stdout",
     "text": [
      "Rows: 1,086\n",
      "Columns: 4\n",
      "$ subid            <dbl> 20010, 20015, 20030, 20049, 20051, 20072, 20077, 2008…\n",
      "$ prob_patch       <dbl> 0.2080906, 0.4220443, 0.2330746, 0.3961983, 0.3172879…\n",
      "$ prob_combo_nrt   <dbl> 0.1754414, 0.4957828, 0.3089657, 0.4056079, 0.4605510…\n",
      "$ prob_varenicline <dbl> 0.2799119, 0.5102584, 0.2883452, 0.4553562, 0.4409814…"
     ]
    }
   ],
   "source": [
    "raw_probs_wide <- all_probs |> \n",
    "  select(subid, tx, prob_raw) |> \n",
    "  pivot_wider(names_prefix = \"prob_\",\n",
    "              names_from = tx,\n",
    "              values_from = prob_raw)\n",
    "\n",
    "glimpse(raw_probs_wide)\n"
   ],
   "id": "64b4aa16-c004-424d-95c3-1e3e9e5e0d38"
  },
  {
   "cell_type": "markdown",
   "metadata": {},
   "source": [
    "Join with d & create new variables"
   ],
   "id": "c0ddeb31-1d49-42b2-8c9c-bf2504056fe0"
  },
  {
   "cell_type": "code",
   "execution_count": null,
   "metadata": {},
   "outputs": [
    {
     "output_type": "stream",
     "name": "stdout",
     "text": [
      "Rows: 1,086\n",
      "Columns: 11\n",
      "$ subid            <dbl> 20010, 20015, 20030, 20049, 20051, 20072, 20077, 2008…\n",
      "$ tx_rct           <fct> patch, combo_nrt, patch, varenicline, patch, combo_nr…\n",
      "$ tx_best          <fct> varenicline, varenicline, combo_nrt, varenicline, com…\n",
      "$ tx_match         <lgl> FALSE, FALSE, FALSE, TRUE, FALSE, TRUE, FALSE, FALSE,…\n",
      "$ prob_best        <dbl> 0.2799119, 0.5102584, 0.3089657, 0.4553562, 0.4605510…\n",
      "$ outcome_rct_wk4  <fct> smoking, smoking, smoking, smoking, smoking, smoking,…\n",
      "$ outcome_rct_wk12 <chr> \"smoking\", \"smoking\", \"smoking\", \"abstinent\", \"smokin…\n",
      "$ outcome_rct_wk26 <chr> \"smoking\", \"smoking\", \"smoking\", \"abstinent\", \"smokin…\n",
      "$ prob_patch       <dbl> 0.2080906, 0.4220443, 0.2330746, 0.3961983, 0.3172879…\n",
      "$ prob_combo_nrt   <dbl> 0.1754414, 0.4957828, 0.3089657, 0.4056079, 0.4605510…\n",
      "$ prob_varenicline <dbl> 0.2799119, 0.5102584, 0.2883452, 0.4553562, 0.4409814…"
     ]
    }
   ],
   "source": [
    "set.seed(52592)\n",
    "d_aim_2 <- d |> \n",
    "  select(subid, tx_rct = treatment, outcome_rct_wk4 = y) |> \n",
    "  left_join(raw_probs_wide, by = \"subid\") |> \n",
    "    mutate(tx_best = case_when(\n",
    "    prob_patch > prob_combo_nrt & prob_patch > prob_varenicline ~ \"patch\",\n",
    "    prob_combo_nrt > prob_patch & prob_combo_nrt > prob_varenicline ~ \"combo_nrt\",\n",
    "    prob_varenicline > prob_patch & prob_varenicline > prob_combo_nrt ~ \"varenicline\",\n",
    "    TRUE ~ NA_character_\n",
    "  )) |> \n",
    "  # handle ties (prefer CNRT and varenicline per clinical guidelines)\n",
    "  # sample among those if tied\n",
    "  mutate(tx_best = if_else(is.na(tx_best), case_when(\n",
    "    prob_patch == prob_combo_nrt ~ \"combo_nrt\",\n",
    "    prob_patch == prob_varenicline ~ \"varenicline\",\n",
    "    prob_combo_nrt == prob_varenicline ~ sample(c(\"combo_nrt\",\n",
    "                                                  \"varenicline\"), 1),\n",
    "    TRUE ~ NA_character_\n",
    "  ), tx_best)) |>  \n",
    "  mutate(prob_best = case_when(\n",
    "    tx_best == \"patch\" ~ prob_patch,\n",
    "    tx_best == \"combo_nrt\" ~ prob_combo_nrt,\n",
    "    tx_best == \"varenicline\" ~ prob_varenicline,\n",
    "    TRUE ~ NA_real_\n",
    "  )) |> \n",
    "  mutate(tx_best = factor(tx_best, \n",
    "                          levels = c(\n",
    "                            \"patch\",\n",
    "                            \"varenicline\",\n",
    "                            \"combo_nrt\"))) |> \n",
    "  mutate(tx_match = if_else(tx_best == tx_rct, TRUE, FALSE)) |> \n",
    "  left_join(d_outcomes, by = \"subid\") |> \n",
    "  select(-pp_hybrid_wk4_outcome, -pp_hybrid_wk1_outcome, \n",
    "         -pp_hybrid_yr3_outcome, -pp_hybrid_wk52_outcome) |> \n",
    "  rename(outcome_rct_wk12 = pp_hybrid_wk12_outcome,\n",
    "         outcome_rct_wk26 = pp_hybrid_wk26_outcome) |> \n",
    "  relocate(subid, tx_rct, tx_best, tx_match,\n",
    "           prob_best, starts_with(\"outcome\"), starts_with(\"prob\"))\n",
    "\n",
    "glimpse(d_aim_2)\n"
   ],
   "id": "c9b7fef8-f31d-4af4-96bd-aecc95c195ee"
  },
  {
   "cell_type": "markdown",
   "metadata": {},
   "source": [
    "Quick EDA checks"
   ],
   "id": "f2cbdb42-8e01-4d2b-b0ca-e7d8da0daa5c"
  },
  {
   "cell_type": "code",
   "execution_count": null,
   "metadata": {},
   "outputs": [
    {
     "output_type": "stream",
     "name": "stdout",
     "text": [
      "# A tibble: 6 × 11\n",
      "  subid tx_rct      tx_best     tx_match prob_best outcome_rct_wk4\n",
      "  <dbl> <fct>       <fct>       <lgl>        <dbl> <fct>          \n",
      "1 20010 patch       varenicline FALSE        0.280 smoking        \n",
      "2 20015 combo_nrt   varenicline FALSE        0.510 smoking        \n",
      "3 20030 patch       combo_nrt   FALSE        0.309 smoking        \n",
      "4 20049 varenicline varenicline TRUE         0.455 smoking        \n",
      "5 20051 patch       combo_nrt   FALSE        0.461 smoking        \n",
      "6 20072 combo_nrt   combo_nrt   TRUE         0.392 smoking        \n",
      "  outcome_rct_wk12 outcome_rct_wk26 prob_patch prob_combo_nrt prob_varenicline\n",
      "  <chr>            <chr>                 <dbl>          <dbl>            <dbl>\n",
      "1 smoking          smoking               0.208          0.175            0.280\n",
      "2 smoking          smoking               0.422          0.496            0.510\n",
      "3 smoking          smoking               0.233          0.309            0.288\n",
      "4 abstinent        abstinent             0.396          0.406            0.455\n",
      "5 smoking          smoking               0.317          0.461            0.441\n",
      "6 smoking          smoking               0.356          0.392            0.390"
     ]
    },
    {
     "output_type": "stream",
     "name": "stdout",
     "text": [
      "# A tibble: 3 × 3\n",
      "  tx_best         n  prop\n",
      "  <fct>       <int> <dbl>\n",
      "1 patch         243 0.224\n",
      "2 varenicline   510 0.470\n",
      "3 combo_nrt     333 0.307"
     ]
    },
    {
     "output_type": "stream",
     "name": "stdout",
     "text": [
      "# A tibble: 2 × 3\n",
      "  tx_match     n  prop\n",
      "  <lgl>    <int> <dbl>\n",
      "1 FALSE      695 0.640\n",
      "2 TRUE       391 0.360"
     ]
    },
    {
     "output_type": "stream",
     "name": "stdout",
     "text": [
      "# A tibble: 6 × 4\n",
      "# Groups:   tx_rct [3]\n",
      "  tx_rct      tx_match     n  prop\n",
      "  <fct>       <lgl>    <int> <dbl>\n",
      "1 patch       FALSE      188 0.780\n",
      "2 patch       TRUE        53 0.220\n",
      "3 varenicline FALSE      220 0.519\n",
      "4 varenicline TRUE       204 0.481\n",
      "5 combo_nrt   FALSE      287 0.682\n",
      "6 combo_nrt   TRUE       134 0.318"
     ]
    }
   ],
   "source": [
    "# confirm logic worked as expected\n",
    "head(d_aim_2)\n"
   ],
   "id": "85459018-91f5-4981-90c6-683adaf7b5ed"
  },
  {
   "cell_type": "markdown",
   "metadata": {},
   "source": [
    "Write out"
   ],
   "id": "6afdcca6-4a03-4b23-b8af-86e3afa967eb"
  },
  {
   "cell_type": "code",
   "execution_count": null,
   "metadata": {},
   "outputs": [],
   "source": [
    "d_aim_2 |> \n",
    "  write_csv(file.path(path_models, str_c(\"aim_2_\", version, \"_\", \n",
    "                                         y_col_name, \".csv\")))\n"
   ],
   "id": "1ab4477d-f607-4843-91a3-53700675516f"
  },
  {
   "cell_type": "markdown",
   "metadata": {},
   "source": [
    "### Validity check: Model Calibration\n",
    "\n",
    "Make wide format for all calibrated probabilities"
   ],
   "id": "f4ce3fe3-3276-46d6-b3d3-573f61de768e"
  },
  {
   "cell_type": "code",
   "execution_count": null,
   "metadata": {},
   "outputs": [],
   "source": [
    "all_probs_wide <- all_probs |> \n",
    "  rename_with(~ str_replace(.x, \"prob_\", \"\"), .cols = starts_with(\"prob_\")) |> \n",
    "  pivot_wider(\n",
    "    names_from = tx,\n",
    "    values_from = c(raw, beta, iso, logi),\n",
    "    names_glue = \"{.value}_{tx}\"\n",
    "  )\n"
   ],
   "id": "e3a0c32e-7433-4a4d-9056-8fa878a2a96f"
  },
  {
   "cell_type": "markdown",
   "metadata": {},
   "source": [
    "Set up validity check data"
   ],
   "id": "41f1d009-c296-4e40-8ccd-407a3de880b3"
  },
  {
   "cell_type": "code",
   "execution_count": null,
   "metadata": {},
   "outputs": [],
   "source": [
    "d_valid <- d_aim_2 |> \n",
    "  select(subid, tx_rct, outcome_rct_wk4) |> \n",
    "  left_join(all_probs_wide, by = \"subid\") |> \n",
    "  mutate(beta = case_when(\n",
    "    tx_rct == \"patch\" ~ beta_patch,\n",
    "    tx_rct == \"combo_nrt\" ~ beta_combo_nrt,\n",
    "    tx_rct == \"varenicline\" ~ beta_varenicline,\n",
    "    TRUE ~ NA_real_\n",
    "  ),\n",
    "  raw = case_when(\n",
    "    tx_rct == \"patch\" ~ raw_patch,\n",
    "    tx_rct == \"combo_nrt\" ~ raw_combo_nrt,\n",
    "    tx_rct == \"varenicline\" ~ raw_varenicline,\n",
    "    TRUE ~ NA_real_\n",
    "  ),\n",
    "  isotonic = case_when(\n",
    "    tx_rct == \"patch\" ~ iso_patch,\n",
    "    tx_rct == \"combo_nrt\" ~ iso_combo_nrt,\n",
    "    tx_rct == \"varenicline\" ~ iso_varenicline,\n",
    "    TRUE ~ NA_real_\n",
    "  ),\n",
    "  logistic = case_when(\n",
    "    tx_rct == \"patch\" ~ logi_patch,\n",
    "    tx_rct == \"combo_nrt\" ~ logi_combo_nrt,\n",
    "    tx_rct == \"varenicline\" ~ logi_varenicline,\n",
    "    TRUE ~ NA_real_\n",
    "  )) |> \n",
    "  select(subid, outcome_rct_wk4, beta, raw, isotonic, logistic) \n"
   ],
   "id": "cd2a6aca-ecd9-40aa-8c24-96e1ca0f84b2"
  },
  {
   "cell_type": "markdown",
   "metadata": {},
   "source": [
    "#### Comparison of means\n",
    "\n",
    "Compare mean abstinence from RCT to predicted probabilities for RCT tx across calibrations"
   ],
   "id": "62571151-4668-41c1-a7e0-15f8b53e6801"
  },
  {
   "cell_type": "code",
   "execution_count": null,
   "metadata": {},
   "outputs": [
    {
     "output_type": "stream",
     "name": "stdout",
     "text": [
      "# A tibble: 1 × 5\n",
      "  mean_rct mean_beta mean_iso mean_logi mean_raw\n",
      "     <dbl>     <dbl>    <dbl>     <dbl>    <dbl>\n",
      "1    0.342     0.352    0.264     0.352    0.341"
     ]
    }
   ],
   "source": [
    "d_valid |> \n",
    "  mutate(outcome_rct = if_else(outcome_rct_wk4 == \"abstinent\", 1, 0)) |> \n",
    "  summarize(mean_rct = mean(outcome_rct),\n",
    "            mean_beta = mean(beta),\n",
    "            mean_iso = mean(isotonic),\n",
    "            mean_logi = mean(logistic),\n",
    "            mean_raw = mean(raw))\n"
   ],
   "id": "c1d97ee6-4e1a-45c9-b649-4f25dd894f03"
  },
  {
   "cell_type": "markdown",
   "metadata": {},
   "source": [
    "Raw probabilities match best, though beta and logistic calibration are close.\n",
    "\n",
    "#### Plots\n",
    "\n",
    "Pivot data longer for required format"
   ],
   "id": "3709d3f4-cc63-491b-ac7e-936ab2c2cd27"
  },
  {
   "cell_type": "code",
   "execution_count": null,
   "metadata": {},
   "outputs": [],
   "source": [
    "d_plot <- d_valid |> \n",
    "  pivot_longer(\n",
    "    cols = c(beta, raw, isotonic, logistic),\n",
    "    names_to = \"method\",\n",
    "    values_to = \".pred_abstinent\"\n",
    "  )\n"
   ],
   "id": "c99599d7-9aba-4674-a7d8-fdb13efa36f4"
  },
  {
   "cell_type": "markdown",
   "metadata": {},
   "source": [
    "Make plots by calibration method"
   ],
   "id": "f387923e-3f0b-4136-a9a3-7091128a9e3c"
  },
  {
   "cell_type": "code",
   "execution_count": null,
   "metadata": {},
   "outputs": [
    {
     "output_type": "display_data",
     "metadata": {},
     "data": {
      "image/png": "[encoded data removed]"
     }
    },
    {
     "output_type": "display_data",
     "metadata": {},
     "data": {
      "image/png": "[encoded data removed]"
     }
    }
   ],
   "source": [
    "d_plot |> \n",
    "  cal_plot_breaks(truth = outcome_rct_wk4, \n",
    "                  estimate = .pred_abstinent,\n",
    "                  .by = method)\n"
   ],
   "id": "4456a367-256c-422f-a12c-cffbdc07621c"
  },
  {
   "cell_type": "markdown",
   "metadata": {},
   "source": [
    "Raw and beta look best. Raw follows the diagonal more closely for longer.\n",
    "\n",
    "#### Brier score\n",
    "\n",
    "Beta calibration"
   ],
   "id": "2de53226-848f-4e16-aa6a-116a7400269a"
  },
  {
   "cell_type": "code",
   "execution_count": null,
   "metadata": {},
   "outputs": [
    {
     "output_type": "stream",
     "name": "stdout",
     "text": [
      "[1] 0.2041283"
     ]
    }
   ],
   "source": [
    "brier_class_vec(truth = d_valid$outcome_rct_wk4,\n",
    "                estimate = d_valid$beta)\n"
   ],
   "id": "810f7495-a49d-4d43-b8df-95abe667c2fb"
  },
  {
   "cell_type": "markdown",
   "metadata": {},
   "source": [
    "Logistic calibration"
   ],
   "id": "9bbb7e19-28cc-4858-8471-eab9c5de27b4"
  },
  {
   "cell_type": "code",
   "execution_count": null,
   "metadata": {},
   "outputs": [
    {
     "output_type": "stream",
     "name": "stdout",
     "text": [
      "[1] 0.2061123"
     ]
    }
   ],
   "source": [
    "brier_class_vec(truth = d_valid$outcome_rct_wk4,\n",
    "                estimate = d_valid$logistic)\n"
   ],
   "id": "9662d0c4-6c1c-49e1-be33-6b0c5e9577fb"
  },
  {
   "cell_type": "markdown",
   "metadata": {},
   "source": [
    "Isotonic calibration"
   ],
   "id": "72677837-71dd-4bc4-a539-f879ef0f8c2f"
  },
  {
   "cell_type": "code",
   "execution_count": null,
   "metadata": {},
   "outputs": [
    {
     "output_type": "stream",
     "name": "stdout",
     "text": [
      "[1] 0.217551"
     ]
    }
   ],
   "source": [
    "brier_class_vec(truth = d_valid$outcome_rct_wk4,\n",
    "                estimate = d_valid$isotonic)\n"
   ],
   "id": "aae11de9-a3ea-4900-8cdf-75a9f68b0c10"
  },
  {
   "cell_type": "markdown",
   "metadata": {},
   "source": [
    "Raw calibration"
   ],
   "id": "6589b1c9-f1a9-40a5-b8e8-1bc416370b04"
  },
  {
   "cell_type": "code",
   "execution_count": null,
   "metadata": {},
   "outputs": [
    {
     "output_type": "stream",
     "name": "stdout",
     "text": [
      "[1] 0.1999635"
     ]
    }
   ],
   "source": [
    "brier_class_vec(truth = d_valid$outcome_rct_wk4,\n",
    "                estimate = d_valid$raw)\n"
   ],
   "id": "14a25c89-0e4e-4aa7-be63-f69d2fb3852f"
  },
  {
   "cell_type": "markdown",
   "metadata": {},
   "source": [
    "Raw calibration has the lowest Brier score (though all are relatively similar). In keeping with the other methods above, beta and logistic are next-best followed by isotonic last."
   ],
   "id": "90980762-58ea-4888-a9db-e65f87586bc0"
  }
 ],
 "nbformat": 4,
 "nbformat_minor": 5,
 "metadata": {}
}

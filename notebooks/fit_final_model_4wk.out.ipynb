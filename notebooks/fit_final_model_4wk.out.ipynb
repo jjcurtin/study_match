{
 "cells": [
  {
   "cell_type": "markdown",
   "metadata": {},
   "source": [
    "# Fits and characterizes final model for 4-week outcome\n",
    "\n",
    "Gaylen Fronk  \n",
    "May 20, 2024\n",
    "\n",
    "### Set Up Environment"
   ],
   "id": "a7f37367-ec9c-4ea1-8cd6-2166c51e4438"
  },
  {
   "cell_type": "code",
   "execution_count": null,
   "metadata": {},
   "outputs": [],
   "source": [
    "study <- params$study\n",
    "version <- params$version\n",
    "cv <- params$cv\n",
    "algorithms <- params$algorithms\n",
    "y_col_name <- params$y_col_name\n"
   ],
   "id": "38c98664-5977-4f74-a9c8-1a81eccabe46"
  },
  {
   "cell_type": "markdown",
   "metadata": {},
   "source": [
    "Packages for script"
   ],
   "id": "6da20ed8-b582-431d-a002-ea3b612e9987"
  },
  {
   "cell_type": "code",
   "execution_count": null,
   "metadata": {},
   "outputs": [
    {
     "output_type": "stream",
     "name": "stderr",
     "text": [
      "── Attaching packages ────────────────────────────────────── tidymodels 1.2.0 ──"
     ]
    },
    {
     "output_type": "stream",
     "name": "stderr",
     "text": [
      "✔ broom        1.0.5      ✔ recipes      1.0.10\n",
      "✔ dials        1.2.1      ✔ rsample      1.2.1 \n",
      "✔ dplyr        1.1.4      ✔ tibble       3.2.1 \n",
      "✔ ggplot2      3.5.1      ✔ tidyr        1.3.1 \n",
      "✔ infer        1.0.7      ✔ tune         1.2.1 \n",
      "✔ modeldata    1.3.0      ✔ workflows    1.1.4 \n",
      "✔ parsnip      1.2.1      ✔ workflowsets 1.1.0 \n",
      "✔ purrr        1.0.2      ✔ yardstick    1.3.1 "
     ]
    },
    {
     "output_type": "stream",
     "name": "stderr",
     "text": [
      "── Conflicts ───────────────────────────────────────── tidymodels_conflicts() ──\n",
      "✖ purrr::discard() masks scales::discard()\n",
      "✖ dplyr::filter()  masks stats::filter()\n",
      "✖ dplyr::lag()     masks stats::lag()\n",
      "✖ recipes::step()  masks stats::step()\n",
      "• Dig deeper into tidy modeling with R at https://www.tmwr.org"
     ]
    },
    {
     "output_type": "stream",
     "name": "stderr",
     "text": [
      "── Attaching core tidyverse packages ──────────────────────── tidyverse 2.0.0 ──\n",
      "✔ forcats   1.0.0     ✔ readr     2.1.5\n",
      "✔ lubridate 1.9.3     ✔ stringr   1.5.1"
     ]
    },
    {
     "output_type": "stream",
     "name": "stderr",
     "text": [
      "── Conflicts ────────────────────────────────────────── tidyverse_conflicts() ──\n",
      "✖ readr::col_factor() masks scales::col_factor()\n",
      "✖ purrr::discard()    masks scales::discard()\n",
      "✖ dplyr::filter()     masks stats::filter()\n",
      "✖ stringr::fixed()    masks recipes::fixed()\n",
      "✖ dplyr::lag()        masks stats::lag()\n",
      "✖ readr::spec()       masks yardstick::spec()\n",
      "ℹ Use the conflicted package (<http://conflicted.r-lib.org/>) to force all conflicts to become errors"
     ]
    },
    {
     "output_type": "stream",
     "name": "stderr",
     "text": [
      "\n",
      "Attaching package: 'Matrix'\n",
      "\n",
      "The following objects are masked from 'package:tidyr':\n",
      "\n",
      "    expand, pack, unpack"
     ]
    },
    {
     "output_type": "stream",
     "name": "stderr",
     "text": [
      "\n",
      "Attaching package: 'probably'\n",
      "\n",
      "The following objects are masked from 'package:base':\n",
      "\n",
      "    as.factor, as.ordered"
     ]
    },
    {
     "output_type": "stream",
     "name": "stderr",
     "text": [
      "here() starts at C:/Users/gfronk/Documents/GitHub/study_match"
     ]
    },
    {
     "output_type": "stream",
     "name": "stderr",
     "text": [
      "ℹ SHA-1 hash of file is \"c045eee2655a18dc85e715b78182f176327358a7\""
     ]
    },
    {
     "output_type": "stream",
     "name": "stderr",
     "text": [
      "ℹ SHA-1 hash of file is \"b58b9e0adc05e89609ee8bc6f20c39375b262fe6\""
     ]
    }
   ],
   "source": [
    "\n",
    "library(tidymodels)\n"
   ],
   "id": "74b5e708-f137-4f7f-9e11-b5c4ab1d2def"
  },
  {
   "cell_type": "markdown",
   "metadata": {},
   "source": [
    "Handle conflicts"
   ],
   "id": "87c71aea-026b-40b5-a236-b26c31589cee"
  },
  {
   "cell_type": "code",
   "execution_count": null,
   "metadata": {},
   "outputs": [],
   "source": [
    "\n",
    "options(conflicts.policy = \"depends.ok\")\n"
   ],
   "id": "b44dba23-8070-4ff6-8b81-a87c8e13c311"
  },
  {
   "cell_type": "markdown",
   "metadata": {},
   "source": [
    "Absolute paths"
   ],
   "id": "ea0387b0-6e14-4239-a083-ebee55ba8718"
  },
  {
   "cell_type": "code",
   "execution_count": null,
   "metadata": {},
   "outputs": [],
   "source": [
    "switch (Sys.info()[['sysname']],\n",
    "        # PC paths\n",
    "        Windows = {\n",
    "          path_input <- stringr::str_c(\"P:/studydata/match/chtc/\", \n",
    "                                       y_col_name)\n",
    "          path_models <- stringr::str_c(\"P:/studydata/match/models/\", \n",
    "                                        y_col_name)},\n",
    "        \n",
    "        # IOS paths\n",
    "        Darwin = {\n",
    "          path_input <- stringr::str_c(\"/Volumes/private/studydata/match/chtc/\", \n",
    "                                       y_col_name)\n",
    "          path_models <- stringr::str_c(\"/Volumes/private/studydata/match/models/\", \n",
    "                                        y_col_name)},\n",
    "        \n",
    "        # Linux paths\n",
    "        Linux = {\n",
    "          path_input <- stringr::str_c(\"~/mnt/private/studydata/match/chtc/\", \n",
    "                                       y_col_name)\n",
    "          path_models <- stringr::str_c(\"~/mnt/private/studydata/match/models/\", \n",
    "                                        y_col_name)}\n",
    ")\n"
   ],
   "id": "261d6182-a771-4843-89a0-ba10d150302b"
  },
  {
   "cell_type": "markdown",
   "metadata": {},
   "source": [
    "Chunk Defaults"
   ],
   "id": "71970c1d-7b79-4421-b2f7-88c4393df903"
  },
  {
   "cell_type": "code",
   "execution_count": null,
   "metadata": {},
   "outputs": [],
   "source": [
    "\n",
    "knitr::opts_chunk$set(attr.output='style=\"max-height: 500px;\"')\n",
    "\n",
    "options(tibble.width = Inf)\n",
    "options(tibble.print_max = Inf)\n"
   ],
   "id": "56c3534d-bb86-402d-9dec-ae7d24550e19"
  },
  {
   "cell_type": "markdown",
   "metadata": {},
   "source": [
    "### Read in best configuration\n",
    "\n",
    "Selected in 1_metrics_inner (k-fold CV)"
   ],
   "id": "18169330-f578-4109-98dd-0f0b74fa93ee"
  },
  {
   "cell_type": "code",
   "execution_count": null,
   "metadata": {},
   "outputs": [
    {
     "output_type": "stream",
     "name": "stdout",
     "text": [
      "Rows: 1\n",
      "Columns: 14\n",
      "$ n_jobs       <dbl> 10\n",
      "$ algorithm    <chr> \"glmnet\"\n",
      "$ feature_set  <chr> \"item_ordinal\"\n",
      "$ hp1          <dbl> 0.1\n",
      "$ hp2          <dbl> 0.1326421\n",
      "$ hp3          <lgl> NA\n",
      "$ resample     <chr> \"up_1\"\n",
      "$ accuracy     <dbl> 0.6651376\n",
      "$ bal_accuracy <dbl> 0.6535065\n",
      "$ roc_auc      <dbl> 0.7358708\n",
      "$ sens         <dbl> 0.6524493\n",
      "$ spec         <dbl> 0.6377969\n",
      "$ ppv          <dbl> 0.4682609\n",
      "$ npv          <dbl> 0.7860704"
     ]
    }
   ],
   "source": [
    "best_config <- read_csv(file.path(path_models, \n",
    "                                  str_c(\"best_config_\", version, \".csv\")),\n",
    "                        show_col_types = FALSE)\n",
    "\n",
    "glimpse(best_config)\n"
   ],
   "id": "25d799a0-f677-46a3-b6e8-0e36da1ccd94"
  },
  {
   "cell_type": "markdown",
   "metadata": {},
   "source": [
    "### Fit best model in full dataset\n",
    "\n",
    "**NOTE**: This model will only be used for 1) examining parameter estimates, and 2) ultimate dissemination."
   ],
   "id": "9498d08a-bd23-4655-bd94-ccf5fb3ee918"
  },
  {
   "cell_type": "code",
   "execution_count": null,
   "metadata": {},
   "outputs": [],
   "source": [
    "batch_names <- list.dirs(path_input, full.names = FALSE, recursive = FALSE) \n",
    "\n",
    "batch_name <- batch_names[str_detect(batch_names, \"train\") & \n",
    "                            str_detect(batch_names, cv) &\n",
    "                            str_detect(batch_names, version) &\n",
    "                            str_detect(batch_names, best_config$algorithm)] \n",
    "\n",
    "path_batch <- file.path(path_input, batch_name)\n",
    "source(file.path(path_batch, \"input\", \"training_controls.R\"))\n",
    "\n",
    "d <- read_csv(file.path(path_batch, \"input\", \"data_trn.csv\"), \n",
    "              show_col_types = FALSE) \n",
    "\n",
    "d_outcomes <- d |> \n",
    "  select(subid, ends_with(\"outcome\") & contains(\"hybrid\"))\n",
    "\n",
    "d <- format_data(d) \n",
    "\n",
    "rec <- build_recipe(d = d, config = best_config)\n",
    "\n",
    "rec_prepped <- rec |> \n",
    "  prep(training = d, strings_as_factors = FALSE)\n",
    "\n",
    "feat_all <- rec_prepped |> \n",
    "  bake(new_data = d)\n",
    "\n",
    "model_best <- fit_best_model(best_model = best_config, \n",
    "                             feat = feat_all, \n",
    "                             ml_mode = \"classification\")\n"
   ],
   "id": "65f1cfa4-1549-4455-b1f9-54a2ad5c88e0"
  },
  {
   "cell_type": "markdown",
   "metadata": {},
   "source": [
    "### Model coefficients\n",
    "\n",
    "**NOTE**: Coefficients are naturally inverted (i.e., positive class \\[abstinence\\] treated as first \\[vs. second\\] class). Here, we multiply coefficients by -1 to align the direction of coefficients with the rest of our analyses. Once flipped (i.e., as they appear below)…\n",
    "\n",
    "A *positive coefficient* indicates that increases in the feature *increase* the likelihood of abstinence. For example, increases in motivation to quit (“motive_quit_order”) *increase* the likelihood of abstinence.\n",
    "\n",
    "A *negative coefficient* indicates that increases in the feature *decrease* the likelihood of smoking. For example, increases in carbon monoxide (“co”) *decrease* the likelihood of abstinence."
   ],
   "id": "b04d8409-e3e9-404a-8d5b-cd964fbb17f5"
  },
  {
   "cell_type": "code",
   "execution_count": null,
   "metadata": {},
   "outputs": [
    {
     "output_type": "stream",
     "name": "stderr",
     "text": [
      "Loaded glmnet 4.1-8"
     ]
    }
   ],
   "source": [
    "model_tidy <- tidy(model_best)\n"
   ],
   "id": "607bdbde-961e-4f55-a88e-ea7c45c8f8bb"
  },
  {
   "cell_type": "code",
   "execution_count": null,
   "metadata": {},
   "outputs": [
    {
     "output_type": "display_data",
     "metadata": {},
     "data": {
      "text/html": [
       "</div>\n"
      ],
      "text/markdown": [
       "                                                                        term   estimate\n",
       "  -------------------------------------------------------------------------- ----------\n",
       "                                                                 (Intercept)    -0.7350\n",
       "                                                                          co    -0.1665\n",
       "                                                              race_ehr_white     0.1228\n",
       "      treatment_combo_nrt_x_live_with_smoker_live_alone_or_only_with_partner     0.0960\n",
       "                                                           motive_quit_order     0.0951\n",
       "                                                        wisdm37_2_item_order     0.0929\n",
       "                                                       wisdm37_30_item_order    -0.0832\n",
       "                                                          asi3_15_item_order     0.0770\n",
       "                                                          longest_quit_order     0.0756\n",
       "                                                wsws_want_cig_24h_item_order    -0.0694\n",
       "                                             race_ehr_black_african_american    -0.0667\n",
       "    treatment_varenicline_x_live_with_smoker_live_alone_or_only_with_partner    -0.0644\n",
       "                                           time_around_smokers_weekend_order    -0.0610\n",
       "                                                           dts_13_item_order     0.0607\n",
       "                       treatment_combo_nrt_x_race_ehr_black_african_american    -0.0601\n",
       "                                                            shp_2_item_order     0.0599\n",
       "                                                     life_satisfaction_order     0.0585\n",
       "                                                                income_order     0.0576\n",
       "                                 treatment_combo_nrt_x_wisdm37_22_item_order    -0.0516\n",
       "                                                            tot_quit_attempt     0.0429\n",
       "                                      treatment_combo_nrt_x_smoke_menthol_no     0.0428\n",
       "                                                       wisdm37_27_item_order    -0.0422\n",
       "                                                           mfi_15_item_order     0.0418\n",
       "                                                        wisdm37_5_item_order    -0.0405\n",
       "                                                           smoke_menthol_yes    -0.0403\n",
       "                                                     important_to_quit_order     0.0394\n",
       "                                                            mfi_9_item_order    -0.0369\n",
       "                                                 wsws_unhappy_24h_item_order    -0.0358\n",
       "                                   treatment_patch_x_used_cigars_never_tried    -0.0355\n",
       "                                     treatment_patch_x_close_smoke_friend_no    -0.0341\n",
       "                                                       wisdm37_13_item_order    -0.0319\n",
       "                                                            shp_9_item_order     0.0318\n",
       "                                                          sip2r_2_item_order    -0.0310\n",
       "                                      treatment_combo_nrt_x_dts_5_item_order     0.0310\n",
       "                                         treatment_patch_x_used_cigars_tried     0.0306\n",
       "                                                          sip2r_3_item_order    -0.0297\n",
       "                                                          wsws_18_item_order    -0.0287\n",
       "                                                  marital_status_ehr_married     0.0286\n",
       "                                  treatment_varenicline_x_asi3_15_item_order     0.0284\n",
       "                                                       wisdm37_18_item_order    -0.0276\n",
       "                                     treatment_varenicline_x_spouse_smoke_no     0.0273\n",
       "                                                           wsws_5_item_order     0.0269\n",
       "                                 treatment_patch_x_close_smoke_co_worker_yes     0.0247\n",
       "                             treatment_varenicline_x_used_cigars_never_tried     0.0241\n",
       "                                        treatment_combo_nrt_x_dsm5_6_item_no     0.0237\n",
       "                                                            smoke_menthol_no     0.0235\n",
       "                                        treatment_combo_nrt_x_race_ehr_white     0.0230\n",
       "                            treatment_combo_nrt_x_marital_status_ehr_married     0.0227\n",
       "                                 treatment_combo_nrt_x_wisdm37_30_item_order    -0.0220\n",
       "                                                                  hdsm_tense    -0.0216\n",
       "                                    treatment_varenicline_x_mfi_6_item_order     0.0209\n",
       "                             treatment_varenicline_x_close_smoke_relative_no    -0.0208\n",
       "                                                   time_around_smokers_order    -0.0202\n",
       "                                        treatment_varenicline_x_income_order     0.0200\n",
       "                                     treatment_varenicline_x_dsm5_3_item_yes     0.0199\n",
       "                           treatment_combo_nrt_x_marital_status_ehr_divorced    -0.0198\n",
       "                                                            dsm5_12_item_yes    -0.0195\n",
       "                                                             dsm5_12_item_no     0.0195\n",
       "                                     treatment_combo_nrt_x_smoke_menthol_yes    -0.0192\n",
       "                                                      quit_success_30d_order     0.0189\n",
       "                                                       wisdm37_14_item_order    -0.0186\n",
       "                                treatment_varenicline_x_psych_depression_yes     0.0184\n",
       "                                      treatment_combo_nrt_x_dsm5_10_item_yes    -0.0182\n",
       "                                                           wsws_9_item_order    -0.0181\n",
       "                                                              dsm5_8_item_no     0.0180\n",
       "                                                             dsm5_8_item_yes    -0.0180\n",
       "                                     treatment_combo_nrt_x_asi3_2_item_order    -0.0178\n",
       "                                                       wisdm37_32_item_order    -0.0161\n",
       "                                                          wsws_20_item_order    -0.0159\n",
       "                                 treatment_varenicline_x_live_with_smoker_no     0.0156\n",
       "                                                   wsws_angry_24h_item_order    -0.0151\n",
       "                               treatment_patch_x_work_ban_no_smoking_allowed    -0.0147\n",
       "                                    treatment_patch_x_close_smoke_friend_yes     0.0146\n",
       "                                                                   hdsm_pain    -0.0143\n",
       "                                                wsws_stressed_24h_item_order    -0.0139\n",
       "                                                          wsws_15_item_order    -0.0135\n",
       "                                                           shp_14_item_order     0.0125\n",
       "                                                              berlin_7_order    -0.0119\n",
       "                                 treatment_combo_nrt_x_wisdm37_19_item_order    -0.0105\n",
       "                                                          wsws_12_item_order    -0.0103\n",
       "                               treatment_varenicline_x_wisdm37_27_item_order    -0.0101\n",
       "                                                           phq9_6_item_order    -0.0097\n",
       "                                     treatment_patch_x_wisdm37_26_item_order     0.0088\n",
       "                                        treatment_combo_nrt_x_ftnd_6_item_no     0.0088\n",
       "                                                         psych_depression_no    -0.0083\n",
       "                                                        psych_depression_yes     0.0082\n",
       "                               treatment_varenicline_x_wisdm37_32_item_order    -0.0082\n",
       "                                   treatment_varenicline_x_used_cigars_tried    -0.0078\n",
       "                                                           asi3_9_item_order     0.0070\n",
       "                                  treatment_combo_nrt_x_live_with_smoker_yes    -0.0068\n",
       "                                              used_chew_or_snuff_never_tried     0.0068\n",
       "                                                           dts_15_item_order     0.0068\n",
       "                                      treatment_varenicline_x_dsm5_7_item_no    -0.0063\n",
       "                                     treatment_combo_nrt_x_mfi_13_item_order     0.0061\n",
       "                                                           ftnd_1_item_order     0.0060\n",
       "                                                            shp_3_item_order     0.0058\n",
       "                                                   wsws_crave_24h_item_order    -0.0057\n",
       "                                                 marital_status_ehr_divorced    -0.0056\n",
       "                                      treatment_varenicline_x_berlin_7_order    -0.0055\n",
       "                            treatment_varenicline_x_close_smoke_relative_yes     0.0049\n",
       "                                                          sip2r_4_item_order    -0.0049\n",
       "                                                           shp_13_item_order    -0.0041\n",
       "                                   treatment_varenicline_x_tried_nic_gum_yes     0.0037\n",
       "                                                        live_with_smoker_yes    -0.0037\n",
       "                               treatment_varenicline_x_wisdm37_18_item_order    -0.0033\n",
       "                    treatment_varenicline_x_wsws_constipation_24h_item_order     0.0032\n",
       "                                                          wsws_26_item_order    -0.0031\n",
       "                                                             dsm5_7_item_yes     0.0031\n",
       "                                                              dsm5_7_item_no    -0.0031\n",
       "                                    treatment_varenicline_x_spouse_smoke_yes    -0.0030\n",
       "                                    treatment_varenicline_x_tried_nic_gum_no    -0.0029\n",
       "                                                wsws_coughing_24h_item_order     0.0026\n",
       "                          treatment_patch_x_marital_status_ehr_never_married     0.0019\n",
       "                                                            used_e_cig_tried     0.0017\n",
       "                               treatment_combo_nrt_x_life_satisfaction_order     0.0013\n",
       "                                                           asi3_2_item_order    -0.0009\n",
       "                                       treatment_combo_nrt_x_used_pipe_tried    -0.0007\n",
       "                      treatment_combo_nrt_x_wsws_constipation_24h_item_order    -0.0006\n",
       "                                           treatment_patch_x_ftnd_2_item_yes     0.0006\n",
       "                                       treatment_combo_nrt_x_ftnd_6_item_yes    -0.0006\n",
       "                                         treatment_patch_x_gender_ehr_female    -0.0005\n",
       "                                            treatment_patch_x_race_ehr_white     0.0003\n",
       "                                                            mfi_5_item_order     0.0003\n",
       "       treatment_varenicline_x_spouse_smoke_dont_live_with_spouse_or_partner    -0.0002\n",
       "                                                             spouse_smoke_no     0.0002\n",
       "                                     treatment_patch_x_wisdm37_16_item_order     0.0002\n",
       "                                                                     hrqol_4    -0.0001\n",
       "                         treatment_patch_x_work_ban_do_not_work_outside_home     0.0001\n"
      ]
     }
    }
   ],
   "source": [
    "retained_vars <- model_tidy |> \n",
    "  mutate(estimate = estimate * -1) |> \n",
    "  filter(abs(estimate) > 0) |> \n",
    "  select(-penalty) |> \n",
    "  arrange(desc(abs(estimate)))\n",
    "\n",
    "print_kbl(retained_vars, digits = 4)\n"
   ],
   "id": "db686e0e-c8bf-4202-a69c-2c01a52d7d36"
  },
  {
   "cell_type": "markdown",
   "metadata": {},
   "source": [
    "10.91% of features were retained by the glmnet solution (128 features of a total considered 1173 features)."
   ],
   "id": "df8cdec9-1ba8-436c-90df-b44123803d2d"
  },
  {
   "cell_type": "code",
   "execution_count": null,
   "metadata": {},
   "outputs": [
    {
     "output_type": "display_data",
     "metadata": {},
     "data": {
      "text/html": [
       "</div>\n"
      ],
      "text/markdown": [
       "                                                                        term   estimate\n",
       "  -------------------------------------------------------------------------- ----------\n",
       "      treatment_combo_nrt_x_live_with_smoker_live_alone_or_only_with_partner     0.0960\n",
       "    treatment_varenicline_x_live_with_smoker_live_alone_or_only_with_partner    -0.0644\n",
       "                       treatment_combo_nrt_x_race_ehr_black_african_american    -0.0601\n",
       "                                 treatment_combo_nrt_x_wisdm37_22_item_order    -0.0516\n",
       "                                      treatment_combo_nrt_x_smoke_menthol_no     0.0428\n",
       "                                   treatment_patch_x_used_cigars_never_tried    -0.0355\n",
       "                                     treatment_patch_x_close_smoke_friend_no    -0.0341\n",
       "                                      treatment_combo_nrt_x_dts_5_item_order     0.0310\n",
       "                                         treatment_patch_x_used_cigars_tried     0.0306\n",
       "                                  treatment_varenicline_x_asi3_15_item_order     0.0284\n",
       "                                     treatment_varenicline_x_spouse_smoke_no     0.0273\n",
       "                                 treatment_patch_x_close_smoke_co_worker_yes     0.0247\n",
       "                             treatment_varenicline_x_used_cigars_never_tried     0.0241\n",
       "                                        treatment_combo_nrt_x_dsm5_6_item_no     0.0237\n",
       "                                        treatment_combo_nrt_x_race_ehr_white     0.0230\n",
       "                            treatment_combo_nrt_x_marital_status_ehr_married     0.0227\n",
       "                                 treatment_combo_nrt_x_wisdm37_30_item_order    -0.0220\n",
       "                                    treatment_varenicline_x_mfi_6_item_order     0.0209\n",
       "                             treatment_varenicline_x_close_smoke_relative_no    -0.0208\n",
       "                                        treatment_varenicline_x_income_order     0.0200\n",
       "                                     treatment_varenicline_x_dsm5_3_item_yes     0.0199\n",
       "                           treatment_combo_nrt_x_marital_status_ehr_divorced    -0.0198\n",
       "                                     treatment_combo_nrt_x_smoke_menthol_yes    -0.0192\n",
       "                                treatment_varenicline_x_psych_depression_yes     0.0184\n",
       "                                      treatment_combo_nrt_x_dsm5_10_item_yes    -0.0182\n",
       "                                     treatment_combo_nrt_x_asi3_2_item_order    -0.0178\n",
       "                                 treatment_varenicline_x_live_with_smoker_no     0.0156\n",
       "                               treatment_patch_x_work_ban_no_smoking_allowed    -0.0147\n",
       "                                    treatment_patch_x_close_smoke_friend_yes     0.0146\n",
       "                                 treatment_combo_nrt_x_wisdm37_19_item_order    -0.0105\n",
       "                               treatment_varenicline_x_wisdm37_27_item_order    -0.0101\n",
       "                                     treatment_patch_x_wisdm37_26_item_order     0.0088\n",
       "                                        treatment_combo_nrt_x_ftnd_6_item_no     0.0088\n",
       "                               treatment_varenicline_x_wisdm37_32_item_order    -0.0082\n",
       "                                   treatment_varenicline_x_used_cigars_tried    -0.0078\n",
       "                                  treatment_combo_nrt_x_live_with_smoker_yes    -0.0068\n",
       "                                      treatment_varenicline_x_dsm5_7_item_no    -0.0063\n",
       "                                     treatment_combo_nrt_x_mfi_13_item_order     0.0061\n",
       "                                      treatment_varenicline_x_berlin_7_order    -0.0055\n",
       "                            treatment_varenicline_x_close_smoke_relative_yes     0.0049\n",
       "                                   treatment_varenicline_x_tried_nic_gum_yes     0.0037\n",
       "                               treatment_varenicline_x_wisdm37_18_item_order    -0.0033\n",
       "                    treatment_varenicline_x_wsws_constipation_24h_item_order     0.0032\n",
       "                                    treatment_varenicline_x_spouse_smoke_yes    -0.0030\n",
       "                                    treatment_varenicline_x_tried_nic_gum_no    -0.0029\n",
       "                          treatment_patch_x_marital_status_ehr_never_married     0.0019\n",
       "                               treatment_combo_nrt_x_life_satisfaction_order     0.0013\n",
       "                                       treatment_combo_nrt_x_used_pipe_tried    -0.0007\n",
       "                      treatment_combo_nrt_x_wsws_constipation_24h_item_order    -0.0006\n",
       "                                           treatment_patch_x_ftnd_2_item_yes     0.0006\n",
       "                                       treatment_combo_nrt_x_ftnd_6_item_yes    -0.0006\n",
       "                                         treatment_patch_x_gender_ehr_female    -0.0005\n",
       "                                            treatment_patch_x_race_ehr_white     0.0003\n",
       "       treatment_varenicline_x_spouse_smoke_dont_live_with_spouse_or_partner    -0.0002\n",
       "                                     treatment_patch_x_wisdm37_16_item_order     0.0002\n",
       "                         treatment_patch_x_work_ban_do_not_work_outside_home     0.0001\n"
      ]
     }
    }
   ],
   "source": [
    "retained_vars_tx <- retained_vars |> \n",
    "  filter(str_detect(term, \"treatment_\")) |> \n",
    "  arrange(desc(abs(estimate))) \n",
    "\n",
    "print_kbl(retained_vars_tx, digits = 4)\n"
   ],
   "id": "ec9a6244-dffd-40bc-b284-c61772cc1df6"
  },
  {
   "cell_type": "markdown",
   "metadata": {},
   "source": [
    "43.75% of the retained features were treatment interaction features (56 treatment features of 128 retained features). Of the 879 available treatment interaction features, 6% were retained.\n",
    "\n",
    "### Calculate and calibrate probabilities\n",
    "\n",
    "Make triplicate dataset"
   ],
   "id": "ec01c1ef-e4df-4180-b720-ff49507059a9"
  },
  {
   "cell_type": "code",
   "execution_count": null,
   "metadata": {},
   "outputs": [],
   "source": [
    "d_patch <- d |> \n",
    "  mutate(treatment = \"patch\") \n",
    "\n",
    "d_combo <- d |> \n",
    "  mutate(treatment = \"combo_nrt\")\n",
    "\n",
    "d_varen <- d |> \n",
    "  mutate(treatment = \"varenicline\")\n",
    "\n",
    "d_trip <- bind_rows(d_patch, d_combo) |> \n",
    "  bind_rows(d_varen) |> \n",
    "  mutate(treatment = factor(treatment, \n",
    "                            levels = c(\n",
    "                              \"patch\",\n",
    "                              \"varenicline\",\n",
    "                              \"combo_nrt\")))\n"
   ],
   "id": "ff96ad57-f55f-4632-aca2-2a4ffcc15c54"
  },
  {
   "cell_type": "markdown",
   "metadata": {},
   "source": [
    "Make function to: 1) hold out each sub once, 2) fit model with remaining 1085 subs, 3) get 3 raw predictions for held-out sub, 4) get calibrated predictions for held-out sub"
   ],
   "id": "35445b3e-e2a1-4089-9339-37102dedd18d"
  },
  {
   "cell_type": "code",
   "execution_count": null,
   "metadata": {},
   "outputs": [],
   "source": [
    "get_triple_probs <- function(i_sub, best_config, d, d_trip){\n",
    "  \n",
    "  # hold out single subject\n",
    "  d_out <- d_trip |> \n",
    "    filter(subid == i_sub)\n",
    "  \n",
    "  d_in <- d |> \n",
    "    filter(subid != i_sub)\n",
    "  \n",
    "  # prep recipe \n",
    "  rec <- build_recipe(d = d_in, config = best_config)\n",
    "  rec_prepped <- rec |> \n",
    "    prep(training = d_in, strings_as_factors = FALSE)\n",
    "  \n",
    "  # bake feat_in and feat_out\n",
    "  feat_in <- rec_prepped |> \n",
    "    bake(new_data = NULL)\n",
    "  \n",
    "  feat_out <- rec_prepped |> \n",
    "    bake(new_data = d_out)\n",
    "  \n",
    "  # fit model\n",
    "  model_best <- fit_best_model(best_config, feat = feat_in,\n",
    "                               \"classification\")\n",
    "  \n",
    "  # raw (uncalibrated) predictions\n",
    "  preds_prob <- predict(model_best, feat_out,\n",
    "                        type = \"prob\")\n",
    "  \n",
    "  # fit calibration model\n",
    "  set.seed(1748)\n",
    "  cal_split <- d_in |> \n",
    "    initial_split(prop = 3/4, strata = y)\n",
    "  d_cal_in <- training(cal_split) \n",
    "  d_cal_out <- testing(cal_split)\n",
    "  \n",
    "  rec_cal_prepped <- rec |> \n",
    "    prep(training = d_cal_in, strings_as_factors = FALSE)\n",
    "  \n",
    "  feat_cal_in <- rec_cal_prepped |> \n",
    "    bake(new_data = NULL) \n",
    "  \n",
    "  feat_cal_out <- rec_cal_prepped |> \n",
    "    bake(new_data = d_cal_out) \n",
    "  \n",
    "  model_cal <- fit_best_model(best_config, feat = feat_cal_in, \"classification\")\n",
    "  \n",
    "  # beta calibration\n",
    "  beta <- predict(model_cal, feat_cal_out,\n",
    "                  type = \"prob\") |>\n",
    "    mutate(truth = feat_cal_out$y) |>\n",
    "    cal_estimate_beta(truth = truth,\n",
    "                      estimate = dplyr::starts_with(\".pred_\"),\n",
    "                      smooth = TRUE)\n",
    "  preds_prob_beta <- preds_prob |>\n",
    "    cal_apply(beta)\n",
    "  \n",
    "  # iso calibration\n",
    "  iso <- predict(model_cal, feat_cal_out,\n",
    "                 type = \"prob\") |>\n",
    "    mutate(truth = feat_cal_out$y) |>\n",
    "    cal_estimate_isotonic(truth = truth,\n",
    "                          estimate = dplyr::starts_with(\".pred_\"))\n",
    "  preds_prob_iso <- preds_prob |>\n",
    "    cal_apply(iso)\n",
    "  \n",
    "  # logistic calibration\n",
    "  logi <- predict(model_cal, feat_cal_out,\n",
    "                  type = \"prob\") |>\n",
    "    mutate(truth = feat_cal_out$y) |>\n",
    "    cal_estimate_logistic(truth = truth,\n",
    "                          estimate = dplyr::starts_with(\".pred_\"),\n",
    "                          smooth = TRUE)\n",
    "  preds_prob_logi <- preds_prob |>\n",
    "    cal_apply(logi)\n",
    "  \n",
    "  # combine raw and calibrated probs\n",
    "  probs <- tibble(subid = d_out$subid,\n",
    "                  tx = d_out$treatment,\n",
    "                  prob_raw = preds_prob[[str_c(\".pred_\", y_level_pos)]],\n",
    "                  prob_beta = preds_prob_beta[[str_c(\".pred_\", y_level_pos)]],\n",
    "                  prob_iso = preds_prob_iso[[str_c(\".pred_\", y_level_pos)]],\n",
    "                  prob_logi = preds_prob_logi[[str_c(\".pred_\", y_level_pos)]]) \n",
    "}\n"
   ],
   "id": "e4701665-f14f-4c78-9465-f024c9521eef"
  },
  {
   "cell_type": "markdown",
   "metadata": {},
   "source": [
    "Map over participants so that each is held-out once"
   ],
   "id": "2827c06b-30be-484f-be78-3b633ce7d7a2"
  },
  {
   "cell_type": "code",
   "execution_count": null,
   "metadata": {},
   "outputs": [],
   "source": [
    "if(file.exists(file.path(path_models, str_c(\"aim_2_\", version, \"_\", \n",
    "                                         y_col_name, \".csv\")))) {\n",
    "  d_aim_2 <- read_csv(file.path(path_models, str_c(\"aim_2_\", version, \"_\", \n",
    "                                         y_col_name, \".csv\")),\n",
    "                        show_col_types = FALSE)\n",
    "} else {\n",
    "  all_probs <- d$subid |> \n",
    "  map(\\(i_sub) get_triple_probs(i_sub, best_config, d, d_trip)) |> \n",
    "  list_rbind()\n",
    "}\n"
   ],
   "id": "e2c0d947-b42e-4b82-aec9-bf685a6f6670"
  },
  {
   "cell_type": "markdown",
   "metadata": {},
   "source": [
    "### Make AIM 2 Dataset\n",
    "\n",
    "Pivot probabilities into wide format & select only raw probability (based on calibration validity check below)"
   ],
   "id": "c9a9a9c2-dae5-4542-b407-2e86f785be1f"
  },
  {
   "cell_type": "code",
   "execution_count": null,
   "metadata": {},
   "outputs": [],
   "source": [
    "raw_probs_wide <- all_probs |> \n",
    "  select(subid, tx, prob_raw) |> \n",
    "  pivot_wider(names_prefix = \"prob_\",\n",
    "              names_from = tx,\n",
    "              values_from = prob_raw)\n",
    "\n",
    "glimpse(raw_probs_wide)\n"
   ],
   "id": "ebd6d2e1-bc44-43a5-a367-268788e0a7cc"
  },
  {
   "cell_type": "markdown",
   "metadata": {},
   "source": [
    "Join with d & create new variables"
   ],
   "id": "62447cde-d304-4e9c-a07b-e8e05c4ea257"
  },
  {
   "cell_type": "code",
   "execution_count": null,
   "metadata": {},
   "outputs": [],
   "source": [
    "d_aim_2 <- d |> \n",
    "  select(subid, tx_rct = treatment, outcome_rct_wk4 = y) |> \n",
    "  left_join(raw_probs_wide, by = \"subid\") |> \n",
    "  mutate(tx_best = case_when(\n",
    "    prob_patch > prob_combo_nrt & prob_patch > prob_varenicline ~ \"patch\",\n",
    "    prob_combo_nrt > prob_patch & prob_combo_nrt > prob_varenicline ~ \"combo_nrt\",\n",
    "    prob_varenicline > prob_patch & prob_varenicline > prob_combo_nrt ~ \"varenicline\",\n",
    "    TRUE ~ NA_character_\n",
    "  )) |> \n",
    "  mutate(prob_best = case_when(\n",
    "    tx_best == \"patch\" ~ prob_patch,\n",
    "    tx_best == \"combo_nrt\" ~ prob_combo_nrt,\n",
    "    tx_best == \"varenicline\" ~ prob_varenicline,\n",
    "    TRUE ~ NA_real_\n",
    "  )) |> \n",
    "  mutate(tx_best = factor(tx_best, \n",
    "                          levels = c(\n",
    "                            \"patch\",\n",
    "                            \"varenicline\",\n",
    "                            \"combo_nrt\"))) |> \n",
    "  mutate(tx_match = if_else(tx_best == tx_rct, TRUE, FALSE)) |> \n",
    "  left_join(d_outcomes, by = \"subid\") |> \n",
    "  select(-pp_hybrid_wk4_outcome, -pp_hybrid_wk1_outcome, -pp_hybrid_yr3_outcome) |> # already in there from d\n",
    "  rename(outcome_rct_wk12 = pp_hybrid_wk12_outcome,\n",
    "         outcome_rct_wk26 = pp_hybrid_wk26_outcome,\n",
    "         outcome_rct_wk52 = pp_hybrid_wk52_outcome) |> \n",
    "  relocate(subid, tx_rct, tx_best, tx_match,\n",
    "           prob_best, starts_with(\"outcome\"), starts_with(\"prob\"))\n",
    "\n",
    "glimpse(d_aim_2)\n"
   ],
   "id": "eb90442e-f4ae-4473-bf9b-8959bab14c9c"
  },
  {
   "cell_type": "markdown",
   "metadata": {},
   "source": [
    "Quick EDA checks"
   ],
   "id": "f9003669-8cdc-4953-a77b-0e726d17b42d"
  },
  {
   "cell_type": "code",
   "execution_count": null,
   "metadata": {},
   "outputs": [
    {
     "output_type": "stream",
     "name": "stdout",
     "text": [
      "# A tibble: 6 × 12\n",
      "  subid tx_rct      tx_best     tx_match prob_best outcome_rct_wk4\n",
      "  <dbl> <chr>       <chr>       <lgl>        <dbl> <chr>          \n",
      "1 20010 patch       varenicline FALSE        0.461 smoking        \n",
      "2 20015 combo_nrt   varenicline FALSE        0.643 smoking        \n",
      "3 20030 patch       varenicline FALSE        0.459 smoking        \n",
      "4 20049 varenicline patch       FALSE        0.538 smoking        \n",
      "5 20051 patch       varenicline FALSE        0.576 smoking        \n",
      "6 20072 combo_nrt   combo_nrt   TRUE         0.522 smoking        \n",
      "  outcome_rct_wk12 outcome_rct_wk26 outcome_rct_wk52 prob_patch prob_combo_nrt\n",
      "  <chr>            <chr>            <chr>                 <dbl>          <dbl>\n",
      "1 smoking          smoking          smoking               0.362          0.307\n",
      "2 smoking          smoking          abstinent             0.584          0.602\n",
      "3 smoking          smoking          smoking               0.377          0.440\n",
      "4 abstinent        abstinent        abstinent             0.538          0.504\n",
      "5 smoking          smoking          smoking               0.473          0.569\n",
      "6 smoking          smoking          smoking               0.506          0.522\n",
      "  prob_varenicline\n",
      "             <dbl>\n",
      "1            0.461\n",
      "2            0.643\n",
      "3            0.459\n",
      "4            0.527\n",
      "5            0.576\n",
      "6            0.470"
     ]
    },
    {
     "output_type": "stream",
     "name": "stdout",
     "text": [
      " d_aim_2$tx_best   n   percent\n",
      "       combo_nrt 245 0.2255985\n",
      "           patch 315 0.2900552\n",
      "     varenicline 526 0.4843462"
     ]
    },
    {
     "output_type": "stream",
     "name": "stdout",
     "text": [
      " d_aim_2$tx_match   n   percent\n",
      "            FALSE 693 0.6381215\n",
      "             TRUE 393 0.3618785"
     ]
    },
    {
     "output_type": "stream",
     "name": "stdout",
     "text": [
      "# A tibble: 6 × 4\n",
      "# Groups:   tx_rct [3]\n",
      "  tx_rct      tx_match     n  prop\n",
      "  <chr>       <lgl>    <int> <dbl>\n",
      "1 combo_nrt   FALSE      315 0.748\n",
      "2 combo_nrt   TRUE       106 0.252\n",
      "3 patch       FALSE      166 0.689\n",
      "4 patch       TRUE        75 0.311\n",
      "5 varenicline FALSE      212 0.5  \n",
      "6 varenicline TRUE       212 0.5  "
     ]
    }
   ],
   "source": [
    "# confirm logic worked as expected\n",
    "head(d_aim_2)\n"
   ],
   "id": "d498ae0a-7a9f-4378-ab28-4395cf8dc298"
  },
  {
   "cell_type": "markdown",
   "metadata": {},
   "source": [
    "Write out"
   ],
   "id": "acf956a4-3902-423c-bc02-b31058dc6d1f"
  },
  {
   "cell_type": "code",
   "execution_count": null,
   "metadata": {},
   "outputs": [],
   "source": [
    "d_aim_2 |> \n",
    "  write_csv(file.path(path_models, str_c(\"aim_2_\", version, \"_\", \n",
    "                                         y_col_name, \".csv\")))\n"
   ],
   "id": "8c6d4b61-b20f-4678-94ff-be2ed6bd00a5"
  },
  {
   "cell_type": "markdown",
   "metadata": {},
   "source": [
    "### Validity check: Model Calibration\n",
    "\n",
    "Make wide format for all calibrated probabilities"
   ],
   "id": "6679d502-639e-4844-a36b-9eb6e91bf358"
  },
  {
   "cell_type": "code",
   "execution_count": null,
   "metadata": {},
   "outputs": [],
   "source": [
    "all_probs_wide <- all_probs |> \n",
    "  rename_with(~ str_replace(.x, \"prob_\", \"\"), .cols = starts_with(\"prob_\")) |> \n",
    "  pivot_wider(\n",
    "    names_from = tx,\n",
    "    values_from = c(raw, beta, iso, logi),\n",
    "    names_glue = \"{.value}_{tx}\"\n",
    "  )\n"
   ],
   "id": "f5400ff5-d706-4d14-b9b0-f751a4c24ffe"
  },
  {
   "cell_type": "markdown",
   "metadata": {},
   "source": [
    "Set up validity check data"
   ],
   "id": "fe6e4362-d76d-4de9-9596-e1c261b05e5c"
  },
  {
   "cell_type": "code",
   "execution_count": null,
   "metadata": {},
   "outputs": [],
   "source": [
    "d_valid <- d_aim_2 |> \n",
    "  select(subid, tx_rct, outcome_rct_wk4) |> \n",
    "  left_join(all_probs_wide, by = \"subid\") |> \n",
    "  mutate(beta = case_when(\n",
    "    tx_rct == \"patch\" ~ beta_patch,\n",
    "    tx_rct == \"combo_nrt\" ~ beta_combo_nrt,\n",
    "    tx_rct == \"varenicline\" ~ beta_varenicline,\n",
    "    TRUE ~ NA_real_\n",
    "  ),\n",
    "  raw = case_when(\n",
    "    tx_rct == \"patch\" ~ raw_patch,\n",
    "    tx_rct == \"combo_nrt\" ~ raw_combo_nrt,\n",
    "    tx_rct == \"varenicline\" ~ raw_varenicline,\n",
    "    TRUE ~ NA_real_\n",
    "  ),\n",
    "  isotonic = case_when(\n",
    "    tx_rct == \"patch\" ~ iso_patch,\n",
    "    tx_rct == \"combo_nrt\" ~ iso_combo_nrt,\n",
    "    tx_rct == \"varenicline\" ~ iso_varenicline,\n",
    "    TRUE ~ NA_real_\n",
    "  ),\n",
    "  logistic = case_when(\n",
    "    tx_rct == \"patch\" ~ logi_patch,\n",
    "    tx_rct == \"combo_nrt\" ~ logi_combo_nrt,\n",
    "    tx_rct == \"varenicline\" ~ logi_varenicline,\n",
    "    TRUE ~ NA_real_\n",
    "  )) |> \n",
    "  select(subid, outcome_rct_wk4, beta, raw, isotonic, logistic) \n"
   ],
   "id": "39e22c79-4d33-4b3d-86b4-2b4e6907cd27"
  },
  {
   "cell_type": "markdown",
   "metadata": {},
   "source": [
    "Compare mean abstinence from RCT to predicted probabilities for RCT tx across calibrations"
   ],
   "id": "5fb1085d-f721-46b1-886e-26ba953c2806"
  },
  {
   "cell_type": "code",
   "execution_count": null,
   "metadata": {},
   "outputs": [],
   "source": [
    "d_valid |> \n",
    "  mutate(outcome_rct = if_else(outcome_rct_wk4 == \"abstinent\", 1, 0)) |> \n",
    "  summarize(mean_rct = mean(outcome_rct),\n",
    "            mean_beta = mean(beta),\n",
    "            mean_iso = mean(isotonic),\n",
    "            mean_logi = mean(logistic),\n",
    "            mean_raw = mean(raw))\n"
   ],
   "id": "92e5798c-f7c8-4e2b-80e3-79c51e66032d"
  },
  {
   "cell_type": "markdown",
   "metadata": {},
   "source": [
    "Beta and logistic calibrated probabilities appear to match the outcome best.\n",
    "\n",
    "#### Plots\n",
    "\n",
    "Pivot data longer for required format"
   ],
   "id": "02045975-76f2-4fe1-a792-b08742640187"
  },
  {
   "cell_type": "code",
   "execution_count": null,
   "metadata": {},
   "outputs": [],
   "source": [
    "d_plot <- d_valid |> \n",
    "  pivot_longer(\n",
    "    cols = c(beta, raw, isotonic, logistic),\n",
    "    names_to = \"method\",\n",
    "    values_to = \".pred_abstinent\"\n",
    "  )\n"
   ],
   "id": "f60da360-4ef4-4042-a5ec-1025f47e7636"
  },
  {
   "cell_type": "markdown",
   "metadata": {},
   "source": [
    "Make plots by calibration method"
   ],
   "id": "c4539c4f-9413-449f-aa2d-391a19625a4f"
  },
  {
   "cell_type": "code",
   "execution_count": null,
   "metadata": {},
   "outputs": [],
   "source": [
    "d_plot |> \n",
    "  cal_plot_breaks(truth = outcome_rct_wk4, \n",
    "                  estimate = .pred_abstinent,\n",
    "                  .by = method)\n",
    "\n",
    "d_plot |> \n",
    "  cal_plot_windowed(truth = outcome_rct_wk4, \n",
    "                    estimate = .pred_abstinent,\n",
    "                    .by = method)\n"
   ],
   "id": "255df582-3eb4-4080-88e1-0ca8f1f12b09"
  },
  {
   "cell_type": "markdown",
   "metadata": {},
   "source": [
    "Raw probabilities appear the most well-calibrated: best aligned with diagonal line, spans the fullest range of bins/windows. Will use raw probabilities for AIM 2 analyses (selected above)."
   ],
   "id": "3a93df9d-aa87-4c54-8d25-76b95628078c"
  }
 ],
 "nbformat": 4,
 "nbformat_minor": 5,
 "metadata": {}
}

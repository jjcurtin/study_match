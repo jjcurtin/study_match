{
 "cells": [
  {
   "cell_type": "markdown",
   "metadata": {},
   "source": [
    "# Posterior probabilities across models for MATCH study\n",
    "\n",
    "John Curtin  \n",
    "June 4, 2024\n",
    "\n",
    "### Code Status\n",
    "\n",
    "In use with iterative improvement.\n",
    "\n",
    "Updating for use with MATCH\n",
    "\n",
    "### Notes\n",
    "\n",
    "Can review online docs for\n",
    "\n",
    "-   [how to use rstanarm](https://cran.r-project.org/web/packages/rstanarm/vignettes/rstanarm.html)\n",
    "-   [priors](https://cran.r-project.org/web/packages/rstanarm/vignettes/priors.html)\n",
    "-   [warnings](https://mc-stan.org/misc/warnings.html)\n",
    "-   [tutorial on rstanarm and shinystan](https://www.tqmp.org/RegularArticles/vol14-2/p099/p099.pdf)\n",
    "-   [R Bloggers on perf_mod](https://www.r-bloggers.com/2019/12/tidyposteriors-bayesian-approach-to-model-comparison/)\n",
    "\n",
    "### Set Up Environment"
   ],
   "id": "89e890f4-7d5f-4404-8cda-6f37142d0dba"
  },
  {
   "cell_type": "code",
   "execution_count": null,
   "metadata": {},
   "outputs": [],
   "source": [
    "study <- \"match\"\n",
    "version <- \"v6\"\n",
    "cv <- \"nested\"\n"
   ],
   "id": "48745e8d-610f-4e15-ac00-e99d58f95fd1"
  },
  {
   "cell_type": "markdown",
   "metadata": {},
   "source": [
    "Packages for script"
   ],
   "id": "4b67a922-8083-4cc8-ac11-71a91382c7ac"
  },
  {
   "cell_type": "code",
   "execution_count": null,
   "metadata": {},
   "outputs": [
    {
     "output_type": "stream",
     "name": "stderr",
     "text": [
      "── Attaching core tidyverse packages ──────────────────────── tidyverse 2.0.0 ──\n",
      "✔ dplyr     1.1.4     ✔ readr     2.1.5\n",
      "✔ forcats   1.0.0     ✔ stringr   1.5.1\n",
      "✔ ggplot2   3.5.1     ✔ tibble    3.2.1\n",
      "✔ lubridate 1.9.3     ✔ tidyr     1.3.1\n",
      "✔ purrr     1.0.2     \n",
      "── Conflicts ────────────────────────────────────────── tidyverse_conflicts() ──\n",
      "✖ dplyr::filter() masks stats::filter()\n",
      "✖ dplyr::lag()    masks stats::lag()\n",
      "ℹ Use the conflicted package (<http://conflicted.r-lib.org/>) to force all conflicts to become errors"
     ]
    },
    {
     "output_type": "stream",
     "name": "stderr",
     "text": [
      "── Attaching packages ────────────────────────────────────── tidymodels 1.2.0 ──\n",
      "✔ broom        1.0.5      ✔ rsample      1.2.1 \n",
      "✔ dials        1.2.1      ✔ tune         1.2.1 \n",
      "✔ infer        1.0.7      ✔ workflows    1.1.4 \n",
      "✔ modeldata    1.3.0      ✔ workflowsets 1.1.0 \n",
      "✔ parsnip      1.2.1      ✔ yardstick    1.3.1 \n",
      "✔ recipes      1.0.10     \n",
      "── Conflicts ───────────────────────────────────────── tidymodels_conflicts() ──\n",
      "✖ scales::discard() masks purrr::discard()\n",
      "✖ dplyr::filter()   masks stats::filter()\n",
      "✖ recipes::fixed()  masks stringr::fixed()\n",
      "✖ dplyr::lag()      masks stats::lag()\n",
      "✖ yardstick::spec() masks readr::spec()\n",
      "✖ recipes::step()   masks stats::step()\n",
      "• Use suppressPackageStartupMessages() to eliminate package startup messages"
     ]
    }
   ],
   "source": [
    "library(tidyposterior)\n",
    "library(tidyverse)\n"
   ],
   "id": "14e09cff-c924-4c4c-bdce-cc7c057ce490"
  },
  {
   "cell_type": "markdown",
   "metadata": {},
   "source": [
    "Absolute paths"
   ],
   "id": "8045b20d-560e-4318-99d6-86697a1380b5"
  },
  {
   "cell_type": "code",
   "execution_count": null,
   "metadata": {},
   "outputs": [],
   "source": [
    "switch (Sys.info()[['sysname']],\n",
    "        # PC paths\n",
    "        Windows = {\n",
    "          path_models <- \"P:/studydata/match/models/\"},\n",
    "        \n",
    "        # IOS paths\n",
    "        Darwin = {\n",
    "          path_models <- \"/Volumes/private/studydata/match/models/\"},\n",
    "        \n",
    "        # Linux paths\n",
    "        Linux = {\n",
    "          path_models <- \"~/mnt/private/studydata/match/models/\"}\n",
    ")\n"
   ],
   "id": "50827bf3-7a43-41ed-92f3-aa79f77657ed"
  },
  {
   "cell_type": "markdown",
   "metadata": {},
   "source": [
    "Chunk Defaults"
   ],
   "id": "9c7c1cf7-e463-4df3-9605-499014314112"
  },
  {
   "cell_type": "code",
   "execution_count": null,
   "metadata": {},
   "outputs": [],
   "source": [
    "knitr::opts_chunk$set(attr.output='style=\"max-height: 500px;\"')\n",
    "\n",
    "options(tibble.width = Inf)\n",
    "options(tibble.print_max = Inf)\n"
   ],
   "id": "4f63d1eb-9b93-4180-8430-04bfe5aad98c"
  },
  {
   "cell_type": "markdown",
   "metadata": {},
   "source": [
    "Source training controls"
   ],
   "id": "bf4f8fb1-08bd-4c27-bafd-40d27d9ec87f"
  },
  {
   "cell_type": "code",
   "execution_count": null,
   "metadata": {},
   "outputs": [
    {
     "output_type": "stream",
     "name": "stderr",
     "text": [
      "ℹ SHA-1 hash of file is \"c045eee2655a18dc85e715b78182f176327358a7\""
     ]
    }
   ],
   "source": [
    "# EDA\n",
    "devtools::source_url(\"https://github.com/jjcurtin/lab_support/blob/main/fun_eda.R?raw=true\")\n"
   ],
   "id": "7764f850-ca4e-46cd-a121-fa6691319fab"
  },
  {
   "cell_type": "markdown",
   "metadata": {},
   "source": [
    "### Read in preds and metrics for best model"
   ],
   "id": "06f418f4-b1a1-40ba-a8de-eaef4730ef9a"
  },
  {
   "cell_type": "code",
   "execution_count": null,
   "metadata": {},
   "outputs": [
    {
     "output_type": "stream",
     "name": "stdout",
     "text": [
      "Rows: 30\n",
      "Columns: 3\n",
      "$ repeat_num <chr> \"repeat1\", \"repeat1\", \"repeat1\", \"repeat1\", \"repeat1\", \"rep…\n",
      "$ fold_num   <chr> \"fold1\", \"fold2\", \"fold3\", \"fold4\", \"fold5\", \"fold6\", \"fold…\n",
      "$ roc_auc    <dbl> 0.6228433, 0.7275495, 0.7171286, 0.6581779, 0.7284903, 0.70…"
     ]
    },
    {
     "output_type": "stream",
     "name": "stdout",
     "text": [
      "Rows: 30\n",
      "Columns: 3\n",
      "$ repeat_num <chr> \"repeat1\", \"repeat1\", \"repeat1\", \"repeat1\", \"repeat1\", \"rep…\n",
      "$ fold_num   <chr> \"fold1\", \"fold2\", \"fold3\", \"fold4\", \"fold5\", \"fold6\", \"fold…\n",
      "$ roc_auc    <dbl> 0.5856164, 0.7572374, 0.6553749, 0.5708861, 0.6875000, 0.76…"
     ]
    },
    {
     "output_type": "stream",
     "name": "stdout",
     "text": [
      "Rows: 30\n",
      "Columns: 3\n",
      "$ repeat_num <chr> \"repeat1\", \"repeat1\", \"repeat1\", \"repeat1\", \"repeat1\", \"rep…\n",
      "$ fold_num   <chr> \"fold1\", \"fold2\", \"fold3\", \"fold4\", \"fold5\", \"fold6\", \"fold…\n",
      "$ roc_auc    <dbl> 0.6000000, 0.6578652, 0.6319048, 0.5597776, 0.6696203, 0.65…"
     ]
    },
    {
     "output_type": "stream",
     "name": "stdout",
     "text": [
      "Rows: 30\n",
      "Columns: 5\n",
      "$ repeat_num <chr> \"repeat1\", \"repeat1\", \"repeat1\", \"repeat1\", \"repeat1\", \"rep…\n",
      "$ fold_num   <chr> \"fold1\", \"fold2\", \"fold3\", \"fold4\", \"fold5\", \"fold6\", \"fold…\n",
      "$ week_4     <dbl> 0.6228433, 0.7275495, 0.7171286, 0.6581779, 0.7284903, 0.70…\n",
      "$ week_12    <dbl> 0.5856164, 0.7572374, 0.6553749, 0.5708861, 0.6875000, 0.76…\n",
      "$ week_26    <dbl> 0.6000000, 0.6578652, 0.6319048, 0.5597776, 0.6696203, 0.65…"
     ]
    }
   ],
   "source": [
    "auc_wk4 <- read_rds(file.path(path_models, \"pp_hybrid_wk4_outcome\",\n",
    "                              str_c(\"outer_metrics_\", \n",
    "                                    version, \"_\", cv, \".rds\"))) |> \n",
    "  arrange(outer_split_num) |> \n",
    "  mutate(repeat_num = rep(str_c(\"repeat\", 1:3), each = 10),\n",
    "         fold_num = rep(str_c(\"fold\", 1:10), 3)) |>   # assumes 3x10 fold\n",
    "  select(repeat_num, fold_num, roc_auc) |> \n",
    "  glimpse()\n"
   ],
   "id": "845630de-df89-4d20-a7c6-be8c65b94936"
  },
  {
   "cell_type": "code",
   "execution_count": null,
   "metadata": {},
   "outputs": [
    {
     "output_type": "display_data",
     "metadata": {},
     "data": {
      "image/png": "[encoded data removed]"
     }
    },
    {
     "output_type": "display_data",
     "metadata": {},
     "data": {
      "image/png": "[encoded data removed]"
     }
    },
    {
     "output_type": "display_data",
     "metadata": {},
     "data": {
      "image/png": "[encoded data removed]"
     }
    }
   ],
   "source": [
    "auc_wk4 %>% \n",
    "  ggplot() + \n",
    "  geom_histogram(aes(x = roc_auc), bins = 10)\n"
   ],
   "id": "cd048232-ed8d-49e0-9267-dddfbd492d23"
  },
  {
   "cell_type": "markdown",
   "metadata": {},
   "source": [
    "### All models"
   ],
   "id": "4da417eb-6b42-4593-9366-8da987a7ce38"
  },
  {
   "cell_type": "code",
   "execution_count": null,
   "metadata": {},
   "outputs": [
    {
     "output_type": "stream",
     "name": "stdout",
     "text": [
      "\n",
      "SAMPLING FOR MODEL 'continuous' NOW (CHAIN 1).\n",
      "Chain 1: \n",
      "Chain 1: Gradient evaluation took 6.8e-05 seconds\n",
      "Chain 1: 1000 transitions using 10 leapfrog steps per transition would take 0.68 seconds.\n",
      "Chain 1: Adjust your expectations accordingly!\n",
      "Chain 1: \n",
      "Chain 1: \n",
      "Chain 1: Iteration:    1 / 2000 [  0%]  (Warmup)\n",
      "Chain 1: Iteration:  200 / 2000 [ 10%]  (Warmup)\n",
      "Chain 1: Iteration:  400 / 2000 [ 20%]  (Warmup)\n",
      "Chain 1: Iteration:  600 / 2000 [ 30%]  (Warmup)\n",
      "Chain 1: Iteration:  800 / 2000 [ 40%]  (Warmup)\n",
      "Chain 1: Iteration: 1000 / 2000 [ 50%]  (Warmup)\n",
      "Chain 1: Iteration: 1001 / 2000 [ 50%]  (Sampling)\n",
      "Chain 1: Iteration: 1200 / 2000 [ 60%]  (Sampling)\n",
      "Chain 1: Iteration: 1400 / 2000 [ 70%]  (Sampling)\n",
      "Chain 1: Iteration: 1600 / 2000 [ 80%]  (Sampling)\n",
      "Chain 1: Iteration: 1800 / 2000 [ 90%]  (Sampling)\n",
      "Chain 1: Iteration: 2000 / 2000 [100%]  (Sampling)\n",
      "Chain 1: \n",
      "Chain 1:  Elapsed Time: 2.338 seconds (Warm-up)\n",
      "Chain 1:                0.972 seconds (Sampling)\n",
      "Chain 1:                3.31 seconds (Total)\n",
      "Chain 1: \n",
      "\n",
      "SAMPLING FOR MODEL 'continuous' NOW (CHAIN 2).\n",
      "Chain 2: \n",
      "Chain 2: Gradient evaluation took 5.8e-05 seconds\n",
      "Chain 2: 1000 transitions using 10 leapfrog steps per transition would take 0.58 seconds.\n",
      "Chain 2: Adjust your expectations accordingly!\n",
      "Chain 2: \n",
      "Chain 2: \n",
      "Chain 2: Iteration:    1 / 2000 [  0%]  (Warmup)\n",
      "Chain 2: Iteration:  200 / 2000 [ 10%]  (Warmup)\n",
      "Chain 2: Iteration:  400 / 2000 [ 20%]  (Warmup)\n",
      "Chain 2: Iteration:  600 / 2000 [ 30%]  (Warmup)\n",
      "Chain 2: Iteration:  800 / 2000 [ 40%]  (Warmup)\n",
      "Chain 2: Iteration: 1000 / 2000 [ 50%]  (Warmup)\n",
      "Chain 2: Iteration: 1001 / 2000 [ 50%]  (Sampling)\n",
      "Chain 2: Iteration: 1200 / 2000 [ 60%]  (Sampling)\n",
      "Chain 2: Iteration: 1400 / 2000 [ 70%]  (Sampling)\n",
      "Chain 2: Iteration: 1600 / 2000 [ 80%]  (Sampling)\n",
      "Chain 2: Iteration: 1800 / 2000 [ 90%]  (Sampling)\n",
      "Chain 2: Iteration: 2000 / 2000 [100%]  (Sampling)\n",
      "Chain 2: \n",
      "Chain 2:  Elapsed Time: 1.68 seconds (Warm-up)\n",
      "Chain 2:                0.934 seconds (Sampling)\n",
      "Chain 2:                2.614 seconds (Total)\n",
      "Chain 2: \n",
      "\n",
      "SAMPLING FOR MODEL 'continuous' NOW (CHAIN 3).\n",
      "Chain 3: \n",
      "Chain 3: Gradient evaluation took 2.8e-05 seconds\n",
      "Chain 3: 1000 transitions using 10 leapfrog steps per transition would take 0.28 seconds.\n",
      "Chain 3: Adjust your expectations accordingly!\n",
      "Chain 3: \n",
      "Chain 3: \n",
      "Chain 3: Iteration:    1 / 2000 [  0%]  (Warmup)\n",
      "Chain 3: Iteration:  200 / 2000 [ 10%]  (Warmup)\n",
      "Chain 3: Iteration:  400 / 2000 [ 20%]  (Warmup)\n",
      "Chain 3: Iteration:  600 / 2000 [ 30%]  (Warmup)\n",
      "Chain 3: Iteration:  800 / 2000 [ 40%]  (Warmup)\n",
      "Chain 3: Iteration: 1000 / 2000 [ 50%]  (Warmup)\n",
      "Chain 3: Iteration: 1001 / 2000 [ 50%]  (Sampling)\n",
      "Chain 3: Iteration: 1200 / 2000 [ 60%]  (Sampling)\n",
      "Chain 3: Iteration: 1400 / 2000 [ 70%]  (Sampling)\n",
      "Chain 3: Iteration: 1600 / 2000 [ 80%]  (Sampling)\n",
      "Chain 3: Iteration: 1800 / 2000 [ 90%]  (Sampling)\n",
      "Chain 3: Iteration: 2000 / 2000 [100%]  (Sampling)\n",
      "Chain 3: \n",
      "Chain 3:  Elapsed Time: 1.625 seconds (Warm-up)\n",
      "Chain 3:                1.847 seconds (Sampling)\n",
      "Chain 3:                3.472 seconds (Total)\n",
      "Chain 3: \n",
      "\n",
      "SAMPLING FOR MODEL 'continuous' NOW (CHAIN 4).\n",
      "Chain 4: \n",
      "Chain 4: Gradient evaluation took 2.8e-05 seconds\n",
      "Chain 4: 1000 transitions using 10 leapfrog steps per transition would take 0.28 seconds.\n",
      "Chain 4: Adjust your expectations accordingly!\n",
      "Chain 4: \n",
      "Chain 4: \n",
      "Chain 4: Iteration:    1 / 2000 [  0%]  (Warmup)\n",
      "Chain 4: Iteration:  200 / 2000 [ 10%]  (Warmup)\n",
      "Chain 4: Iteration:  400 / 2000 [ 20%]  (Warmup)\n",
      "Chain 4: Iteration:  600 / 2000 [ 30%]  (Warmup)\n",
      "Chain 4: Iteration:  800 / 2000 [ 40%]  (Warmup)\n",
      "Chain 4: Iteration: 1000 / 2000 [ 50%]  (Warmup)\n",
      "Chain 4: Iteration: 1001 / 2000 [ 50%]  (Sampling)\n",
      "Chain 4: Iteration: 1200 / 2000 [ 60%]  (Sampling)\n",
      "Chain 4: Iteration: 1400 / 2000 [ 70%]  (Sampling)\n",
      "Chain 4: Iteration: 1600 / 2000 [ 80%]  (Sampling)\n",
      "Chain 4: Iteration: 1800 / 2000 [ 90%]  (Sampling)\n",
      "Chain 4: Iteration: 2000 / 2000 [100%]  (Sampling)\n",
      "Chain 4: \n",
      "Chain 4:  Elapsed Time: 2.219 seconds (Warm-up)\n",
      "Chain 4:                1.888 seconds (Sampling)\n",
      "Chain 4:                4.107 seconds (Total)\n",
      "Chain 4: "
     ]
    }
   ],
   "source": [
    "# from ?perf_mod()\n",
    "# Repeated CV (id = repeat, id2 = fold within repeat)\n",
    "\n",
    "set.seed(101)\n",
    "pp <- auc |> \n",
    "  rename(id = repeat_num,\n",
    "         id2 = fold_num) |> \n",
    "  perf_mod(formula = statistic ~ model + (1 | id2/id), \n",
    "           # prior_intercept = rstanarm::student_t(autoscale = TRUE),\n",
    "           # prior = rstanarm::student_t(autoscale = TRUE),\n",
    "           transform = tidyposterior::logit_trans,  # for skewed & bounded AUC\n",
    "           iter = 2000, chains = 4,  \n",
    "           adapt_delta = .999,\n",
    "           # cores = 4, seed = 12345,\n",
    "           family = gaussian, \n",
    "  )  \n"
   ],
   "id": "2ec0ddb8-3edc-4949-8cfc-cf0dad62555c"
  },
  {
   "cell_type": "code",
   "execution_count": null,
   "metadata": {},
   "outputs": [
    {
     "output_type": "stream",
     "name": "stdout",
     "text": [
      "Priors for model 'pp$stan' \n",
      "------\n",
      "Intercept (after predictors centered)\n",
      "  Specified prior:\n",
      "    ~ normal(location = 0.66, scale = 2.5)\n",
      "  Adjusted prior:\n",
      "    ~ normal(location = 0.66, scale = 0.71)\n",
      "\n",
      "Coefficients\n",
      "  Specified prior:\n",
      "    ~ normal(location = [0,0], scale = [2.5,2.5])\n",
      "  Adjusted prior:\n",
      "    ~ normal(location = [0,0], scale = [1.51,1.51])\n",
      "\n",
      "Auxiliary (sigma)\n",
      "  Specified prior:\n",
      "    ~ exponential(rate = 1)\n",
      "  Adjusted prior:\n",
      "    ~ exponential(rate = 3.5)\n",
      "\n",
      "Covariance\n",
      " ~ decov(reg. = 1, conc. = 1, shape = 1, scale = 1)\n",
      "------\n",
      "See help('prior_summary.stanreg') for more details"
     ]
    }
   ],
   "source": [
    "rstanarm::prior_summary(pp$stan)\n"
   ],
   "id": "cee2b1f5-7542-442c-8e99-770ccbe58604"
  },
  {
   "cell_type": "code",
   "execution_count": null,
   "metadata": {},
   "outputs": [
    {
     "output_type": "stream",
     "name": "stdout",
     "text": [
      "\n",
      "Model Info:\n",
      " function:     stan_glmer\n",
      " family:       gaussian [identity]\n",
      " formula:      statistic ~ model + (1 | id2/id)\n",
      " algorithm:    sampling\n",
      " sample:       4000 (posterior sample size)\n",
      " priors:       see help('prior_summary')\n",
      " observations: 90\n",
      " groups:       id:id2 (30), id2 (10)\n",
      "\n",
      "Estimates:\n",
      "                                        mean   sd   10%   50%   90%\n",
      "(Intercept)                            0.7    0.1  0.6   0.7   0.7 \n",
      "modelweek_26                          -0.2    0.0 -0.2  -0.2  -0.1 \n",
      "modelweek_4                            0.1    0.0  0.1   0.1   0.2 \n",
      "b[(Intercept) id:id2:repeat1:fold1]   -0.2    0.1 -0.3  -0.2   0.0 \n",
      "b[(Intercept) id:id2:repeat1:fold10]   0.0    0.1 -0.1   0.0   0.1 \n",
      "b[(Intercept) id:id2:repeat1:fold2]    0.2    0.1  0.1   0.2   0.3 \n",
      "b[(Intercept) id:id2:repeat1:fold3]    0.0    0.1 -0.1   0.0   0.2 \n",
      "b[(Intercept) id:id2:repeat1:fold4]   -0.2    0.1 -0.3  -0.2  -0.1 \n",
      "b[(Intercept) id:id2:repeat1:fold5]    0.1    0.1  0.0   0.1   0.2 \n",
      "b[(Intercept) id:id2:repeat1:fold6]    0.2    0.1  0.0   0.2   0.3 \n",
      "b[(Intercept) id:id2:repeat1:fold7]    0.0    0.1 -0.1   0.0   0.1 \n",
      "b[(Intercept) id:id2:repeat1:fold8]    0.1    0.1  0.0   0.1   0.3 \n",
      "b[(Intercept) id:id2:repeat1:fold9]   -0.1    0.1 -0.3  -0.1   0.0 \n",
      "b[(Intercept) id:id2:repeat2:fold1]    0.0    0.1 -0.1   0.0   0.1 \n",
      "b[(Intercept) id:id2:repeat2:fold10]   0.1    0.1  0.0   0.1   0.3 \n",
      "b[(Intercept) id:id2:repeat2:fold2]   -0.2    0.1 -0.3  -0.2  -0.1 \n",
      "b[(Intercept) id:id2:repeat2:fold3]   -0.4    0.1 -0.5  -0.4  -0.2 \n",
      "b[(Intercept) id:id2:repeat2:fold4]    0.0    0.1 -0.1   0.0   0.2 \n",
      "b[(Intercept) id:id2:repeat2:fold5]    0.1    0.1  0.0   0.1   0.2 \n",
      "b[(Intercept) id:id2:repeat2:fold6]    0.2    0.1  0.1   0.2   0.3 \n",
      "b[(Intercept) id:id2:repeat2:fold7]    0.0    0.1 -0.1   0.0   0.1 \n",
      "b[(Intercept) id:id2:repeat2:fold8]   -0.2    0.1 -0.3  -0.2   0.0 \n",
      "b[(Intercept) id:id2:repeat2:fold9]    0.0    0.1 -0.1   0.0   0.2 \n",
      "b[(Intercept) id:id2:repeat3:fold1]   -0.1    0.1 -0.2  -0.1   0.0 \n",
      "b[(Intercept) id:id2:repeat3:fold10]   0.1    0.1 -0.1   0.1   0.2 \n",
      "b[(Intercept) id:id2:repeat3:fold2]   -0.1    0.1 -0.2  -0.1   0.0 \n",
      "b[(Intercept) id:id2:repeat3:fold3]    0.4    0.1  0.3   0.4   0.6 \n",
      "b[(Intercept) id:id2:repeat3:fold4]   -0.1    0.1 -0.2  -0.1   0.1 \n",
      "b[(Intercept) id:id2:repeat3:fold5]    0.0    0.1 -0.1   0.0   0.1 \n",
      "b[(Intercept) id:id2:repeat3:fold6]    0.0    0.1 -0.1   0.0   0.2 \n",
      "b[(Intercept) id:id2:repeat3:fold7]    0.0    0.1 -0.1   0.0   0.1 \n",
      "b[(Intercept) id:id2:repeat3:fold8]   -0.2    0.1 -0.4  -0.2  -0.1 \n",
      "b[(Intercept) id:id2:repeat3:fold9]    0.0    0.1 -0.1   0.0   0.2 \n",
      "b[(Intercept) id2:fold1]               0.0    0.1 -0.1   0.0   0.0 \n",
      "b[(Intercept) id2:fold10]              0.0    0.1  0.0   0.0   0.1 \n",
      "b[(Intercept) id2:fold2]               0.0    0.1 -0.1   0.0   0.1 \n",
      "b[(Intercept) id2:fold3]               0.0    0.1 -0.1   0.0   0.1 \n",
      "b[(Intercept) id2:fold4]               0.0    0.1 -0.1   0.0   0.0 \n",
      "b[(Intercept) id2:fold5]               0.0    0.1  0.0   0.0   0.1 \n",
      "b[(Intercept) id2:fold6]               0.0    0.1  0.0   0.0   0.1 \n",
      "b[(Intercept) id2:fold7]               0.0    0.1 -0.1   0.0   0.1 \n",
      "b[(Intercept) id2:fold8]               0.0    0.1 -0.1   0.0   0.0 \n",
      "b[(Intercept) id2:fold9]               0.0    0.1 -0.1   0.0   0.0 \n",
      "sigma                                  0.2    0.0  0.2   0.2   0.2 \n",
      "Sigma[id:id2:(Intercept),(Intercept)]  0.0    0.0  0.0   0.0   0.1 \n",
      "Sigma[id2:(Intercept),(Intercept)]     0.0    0.0  0.0   0.0   0.0 \n",
      "\n",
      "Fit Diagnostics:\n",
      "           mean   sd   10%   50%   90%\n",
      "mean_PPD 0.7    0.0  0.6   0.7   0.7  \n",
      "\n",
      "The mean_ppd is the sample average posterior predictive distribution of the outcome variable (for details see help('summary.stanreg')).\n",
      "\n",
      "MCMC diagnostics\n",
      "                                      mcse Rhat n_eff\n",
      "(Intercept)                           0.0  1.0  1694 \n",
      "modelweek_26                          0.0  1.0  4346 \n",
      "modelweek_4                           0.0  1.0  4437 \n",
      "b[(Intercept) id:id2:repeat1:fold1]   0.0  1.0  3386 \n",
      "b[(Intercept) id:id2:repeat1:fold10]  0.0  1.0  3152 \n",
      "b[(Intercept) id:id2:repeat1:fold2]   0.0  1.0  3752 \n",
      "b[(Intercept) id:id2:repeat1:fold3]   0.0  1.0  4307 \n",
      "b[(Intercept) id:id2:repeat1:fold4]   0.0  1.0  3020 \n",
      "b[(Intercept) id:id2:repeat1:fold5]   0.0  1.0  3454 \n",
      "b[(Intercept) id:id2:repeat1:fold6]   0.0  1.0  2898 \n",
      "b[(Intercept) id:id2:repeat1:fold7]   0.0  1.0  4636 \n",
      "b[(Intercept) id:id2:repeat1:fold8]   0.0  1.0  3623 \n",
      "b[(Intercept) id:id2:repeat1:fold9]   0.0  1.0  3529 \n",
      "b[(Intercept) id:id2:repeat2:fold1]   0.0  1.0  2869 \n",
      "b[(Intercept) id:id2:repeat2:fold10]  0.0  1.0  3264 \n",
      "b[(Intercept) id:id2:repeat2:fold2]   0.0  1.0  4404 \n",
      "b[(Intercept) id:id2:repeat2:fold3]   0.0  1.0  3185 \n",
      "b[(Intercept) id:id2:repeat2:fold4]   0.0  1.0  3592 \n",
      "b[(Intercept) id:id2:repeat2:fold5]   0.0  1.0  3375 \n",
      "b[(Intercept) id:id2:repeat2:fold6]   0.0  1.0  2937 \n",
      "b[(Intercept) id:id2:repeat2:fold7]   0.0  1.0  4295 \n",
      "b[(Intercept) id:id2:repeat2:fold8]   0.0  1.0  2816 \n",
      "b[(Intercept) id:id2:repeat2:fold9]   0.0  1.0  4476 \n",
      "b[(Intercept) id:id2:repeat3:fold1]   0.0  1.0  3107 \n",
      "b[(Intercept) id:id2:repeat3:fold10]  0.0  1.0  3300 \n",
      "b[(Intercept) id:id2:repeat3:fold2]   0.0  1.0  4082 \n",
      "b[(Intercept) id:id2:repeat3:fold3]   0.0  1.0  2812 \n",
      "b[(Intercept) id:id2:repeat3:fold4]   0.0  1.0  2967 \n",
      "b[(Intercept) id:id2:repeat3:fold5]   0.0  1.0  3523 \n",
      "b[(Intercept) id:id2:repeat3:fold6]   0.0  1.0  3389 \n",
      "b[(Intercept) id:id2:repeat3:fold7]   0.0  1.0  3874 \n",
      "b[(Intercept) id:id2:repeat3:fold8]   0.0  1.0  2961 \n",
      "b[(Intercept) id:id2:repeat3:fold9]   0.0  1.0  4055 \n",
      "b[(Intercept) id2:fold1]              0.0  1.0  1867 \n",
      "b[(Intercept) id2:fold10]             0.0  1.0  2335 \n",
      "b[(Intercept) id2:fold2]              0.0  1.0  3185 \n",
      "b[(Intercept) id2:fold3]              0.0  1.0  2808 \n",
      "b[(Intercept) id2:fold4]              0.0  1.0  1473 \n",
      "b[(Intercept) id2:fold5]              0.0  1.0  1633 \n",
      "b[(Intercept) id2:fold6]              0.0  1.0  1518 \n",
      "b[(Intercept) id2:fold7]              0.0  1.0  3233 \n",
      "b[(Intercept) id2:fold8]              0.0  1.0  1719 \n",
      "b[(Intercept) id2:fold9]              0.0  1.0  2510 \n",
      "sigma                                 0.0  1.0  2339 \n",
      "Sigma[id:id2:(Intercept),(Intercept)] 0.0  1.0  1442 \n",
      "Sigma[id2:(Intercept),(Intercept)]    0.0  1.0   879 \n",
      "mean_PPD                              0.0  1.0  3952 \n",
      "log-posterior                         0.2  1.0   929 \n",
      "\n",
      "For each parameter, mcse is Monte Carlo standard error, n_eff is a crude measure of effective sample size, and Rhat is the potential scale reduction factor on split chains (at convergence Rhat=1)."
     ]
    }
   ],
   "source": [
    "summary(pp$stan)\n"
   ],
   "id": "bed3b1ca-e642-4858-a601-b82260e66b01"
  },
  {
   "cell_type": "code",
   "execution_count": null,
   "metadata": {},
   "outputs": [],
   "source": [
    "# shinystan::launch_shinystan(pp$stan)\n"
   ],
   "id": "1ad89130-0c59-459f-93a2-953a7f23548b"
  },
  {
   "cell_type": "code",
   "execution_count": null,
   "metadata": {},
   "outputs": [],
   "source": [
    "pp %>%  write_rds(file.path(path_models, \n",
    "                            str_c(\"posteriors_\", version, \"_nested.rds\")))\n"
   ],
   "id": "21e042fd-c5c6-4f05-a8fa-55c2be928e03"
  },
  {
   "cell_type": "markdown",
   "metadata": {},
   "source": [
    "### Model posterier CIs"
   ],
   "id": "741d6acb-6a55-4cb7-b6f4-d1f9a36bbf60"
  },
  {
   "cell_type": "code",
   "execution_count": null,
   "metadata": {},
   "outputs": [
    {
     "output_type": "stream",
     "name": "stdout",
     "text": [
      "# A tibble: 3 × 5\n",
      "  model   median lower upper     y\n",
      "  <fct>    <dbl> <dbl> <dbl> <dbl>\n",
      "1 Week 26  0.620 0.596 0.644  1000\n",
      "2 Week 12  0.663 0.640 0.685  1000\n",
      "3 Week 4   0.693 0.670 0.715  1000"
     ]
    }
   ],
   "source": [
    "pp_tidy <- pp %>% \n",
    "  tidy(seed = 123)\n",
    "\n",
    "q = c(.025, .5, .975)\n",
    "pp_tidy |> \n",
    "  group_by(model) |> \n",
    "  summarize(median = quantile(posterior, probs = q[2]),\n",
    "            lower = quantile(posterior, probs = q[1]), \n",
    "            upper = quantile(posterior, probs = q[3])) |> \n",
    "  mutate(model = factor(model, levels = c(\"week_26\", \"week_12\", \"week_4\"),\n",
    "                        labels = c(\"Week 26\", \"Week 12\", \"Week 4\")),\n",
    "         y = 1000) |> \n",
    "  arrange(model)\n"
   ],
   "id": "aeeca7f4-2567-441d-9c0a-6c15576a6ef3"
  },
  {
   "cell_type": "markdown",
   "metadata": {},
   "source": [
    "### Model contrasts"
   ],
   "id": "d7efeae7-2f63-4567-98af-17aa5e57682e"
  },
  {
   "cell_type": "code",
   "execution_count": null,
   "metadata": {},
   "outputs": [
    {
     "output_type": "stream",
     "name": "stdout",
     "text": [
      "# A tibble: 3 × 9\n",
      "  contrast           probability   mean  lower  upper  size pract_neg\n",
      "  <chr>                    <dbl>  <dbl>  <dbl>  <dbl> <dbl>     <dbl>\n",
      "1 week_12 vs week_26       1     0.0426 0.0215 0.0635  0.01         0\n",
      "2 week_4 vs week_12        0.998 0.0295 0.0102 0.0494  0.01         0\n",
      "3 week_4 vs week_26        1     0.0721 0.0522 0.0923  0.01         0\n",
      "  pract_equiv pract_pos\n",
      "        <dbl>     <dbl>\n",
      "1     0.00175     0.998\n",
      "2     0.0245      0.976\n",
      "3     0           1    "
     ]
    },
    {
     "output_type": "display_data",
     "metadata": {},
     "data": {
      "image/png": "[encoded data removed]"
     }
    }
   ],
   "source": [
    "pp_contrasts <- contrast_models(pp, \n",
    "                                list(\"week_4\", \"week_4\", \"week_12\"), \n",
    "                                list(\"week_12\", \"week_26\", \"week_26\"))\n",
    "summary(pp_contrasts, size = .01, prob = 0.95)\n"
   ],
   "id": "c5c36c69-bdea-48a5-89ce-a58a24591984"
  },
  {
   "cell_type": "markdown",
   "metadata": {},
   "source": [
    "Medians"
   ],
   "id": "a8efdff7-9755-4dee-92f3-893c8b1459fd"
  },
  {
   "cell_type": "code",
   "execution_count": null,
   "metadata": {},
   "outputs": [
    {
     "output_type": "stream",
     "name": "stdout",
     "text": [
      "[1] 0.02941021"
     ]
    },
    {
     "output_type": "stream",
     "name": "stdout",
     "text": [
      "[1] 0.07212799"
     ]
    },
    {
     "output_type": "stream",
     "name": "stdout",
     "text": [
      "[1] 0.04263427"
     ]
    }
   ],
   "source": [
    "pp_contrasts |> \n",
    "  filter(contrast == \"week_4 vs. week_12\") |> \n",
    "  pull(difference) |> \n",
    "  median()\n"
   ],
   "id": "2021a6d5-b461-49a3-9edc-710d2c6d0830"
  },
  {
   "cell_type": "markdown",
   "metadata": {},
   "source": [
    "Here are contrasts against 0 rather than using ROPE"
   ],
   "id": "a9859f57-2e00-4573-8c3c-863fc489c967"
  },
  {
   "cell_type": "code",
   "execution_count": null,
   "metadata": {},
   "outputs": [
    {
     "output_type": "stream",
     "name": "stdout",
     "text": [
      "[1] 0.9985"
     ]
    },
    {
     "output_type": "stream",
     "name": "stdout",
     "text": [
      "[1] 1"
     ]
    },
    {
     "output_type": "stream",
     "name": "stdout",
     "text": [
      "[1] 1"
     ]
    }
   ],
   "source": [
    "pp_contrasts |> \n",
    "  filter(contrast == \"week_4 vs. week_12\") |> \n",
    "  mutate(wk4_gt_wk12 = if_else(difference > 0, 1, 0)) |>\n",
    "  pull(wk4_gt_wk12) |> \n",
    "  mean()\n"
   ],
   "id": "b498c7a1-8c72-4216-b391-91e6160677e8"
  },
  {
   "cell_type": "markdown",
   "metadata": {},
   "source": [
    "### Plots\n",
    "\n",
    "Model posteriors"
   ],
   "id": "8457bfb1-525e-4e25-a838-d7fc268374ad"
  },
  {
   "cell_type": "code",
   "execution_count": null,
   "metadata": {},
   "outputs": [],
   "source": [
    "ci <- pp_tidy |> \n",
    "  summary() |> \n",
    "  mutate(model = factor(model, levels = c(\"week_4\", \"week_12\", \"week_26\"),\n",
    "                        labels = c(\"Week 4\", \"Week 12\", \"Week 26\")),\n",
    "         y = 1000) \n"
   ],
   "id": "14d16d20-943d-4556-ad71-bd5c2ebd2ed5"
  },
  {
   "cell_type": "code",
   "execution_count": null,
   "metadata": {},
   "outputs": [
    {
     "output_type": "display_data",
     "metadata": {},
     "data": {
      "image/png": "[encoded data removed]"
     }
    }
   ],
   "source": [
    "\n",
    "fig_posteriors <- pp_tidy |> \n",
    "  mutate(model = factor(model, levels = c(\"week_4\", \"week_12\", \"week_26\"),\n",
    "                        labels = c(\"Week 4\", \"Week 12\", \"Week 26\"))) |> \n",
    "  ggplot() + \n",
    "  geom_histogram(aes(x = posterior, fill = model), color = \"black\", alpha = .4, \n",
    "                 bins = 30) +\n",
    "  geom_segment(mapping = aes(y = y + 100, yend = y - 100, x = mean, xend = mean,\n",
    "                             color = model),\n",
    "               data = ci) +\n",
    "  geom_segment(mapping = aes(y = y, yend = y, \n",
    "                             x = lower, xend = upper, color = model),\n",
    "               data = ci) +\n",
    "  facet_wrap(~model, ncol = 1) +\n",
    "  scale_y_continuous(\"Posterior Probability\", breaks = c(0, 500, 1000)) +\n",
    "  labs(\n",
    "    x = \"Area Under ROC Curve (auROC)\",\n",
    "    fill = \"Model\",\n",
    "    color = \"Model\"\n",
    "  )\n",
    "\n",
    "fig_posteriors\n"
   ],
   "id": "cell-fig-posteriors"
  },
  {
   "cell_type": "code",
   "execution_count": null,
   "metadata": {},
   "outputs": [
    {
     "output_type": "display_data",
     "metadata": {},
     "data": {
      "image/png": "[encoded data removed]"
     }
    }
   ],
   "source": [
    "\n",
    "ci_week4 <- ci |> \n",
    "  filter(model == \"Week 4\")\n",
    "\n",
    "pp_tidy |> \n",
    "  mutate(model = factor(model, levels = c(\"week_4\", \"week_12\", \"week_26\"),\n",
    "                        labels = c(\"Week 4\", \"Week 12\", \"Week 26\"))) |> \n",
    "  filter(model == \"Week 4\") |> \n",
    "  ggplot() + \n",
    "  geom_histogram(aes(x = posterior, fill = model), color = \"black\", alpha = .4, \n",
    "                 bins = 30) +\n",
    "  geom_segment(mapping = aes(y = y, yend = y - 200, x = mean, xend = mean,\n",
    "                             color = model),\n",
    "               data = ci_week4) +\n",
    "  geom_segment(mapping = aes(y = y - 100, yend = y - 100, \n",
    "                             x = lower, xend = upper, color = model),\n",
    "               data = ci_week4) +\n",
    "  scale_y_continuous(\"Posterior Probability\") +\n",
    "  labs(\n",
    "    x = \"Area Under ROC Curve (auROC)\",\n",
    "  ) +\n",
    "  theme(legend.position = \"none\")\n"
   ],
   "id": "cell-fig-week4"
  },
  {
   "cell_type": "markdown",
   "metadata": {},
   "source": [
    "model contrast posteriors"
   ],
   "id": "ec739b99-7537-4659-8c75-b31e88e8f317"
  },
  {
   "cell_type": "code",
   "execution_count": null,
   "metadata": {},
   "outputs": [],
   "source": [
    "ci_con <- pp |>\n",
    "  contrast_models(list(\"week_4\", \"week_4\", \"week_12\"), \n",
    "                  list(\"week_12\", \"week_26\", \"week_26\")) |> \n",
    "  summary(size = .01) |> \n",
    "  mutate(contrast = factor(contrast, \n",
    "                           levels = c(\"week_4 vs week_12\",\n",
    "                                      \"week_4 vs week_26\",\n",
    "                                      \"week_12 vs week_26\"),\n",
    "                           labels = c(\"Week 4 vs. Week 12\",\n",
    "                                      \"Week 4 vs. Week 26\",\n",
    "                                      \"Week 12 vs. Week 26\")),\n",
    "         y = 800)\n"
   ],
   "id": "d0faa415-943e-4f52-b112-388e334361e9"
  },
  {
   "cell_type": "code",
   "execution_count": null,
   "metadata": {},
   "outputs": [
    {
     "output_type": "display_data",
     "metadata": {},
     "data": {
      "image/png": "[encoded data removed]"
     }
    }
   ],
   "source": [
    "\n",
    "fig_contrasts <- pp |> \n",
    "  tidy(seed = 123) |>   \n",
    "  group_by(model) |> \n",
    "  mutate(sample = row_number()) |> \n",
    "  ungroup() |> \n",
    "  pivot_wider(names_from = model, values_from = posterior) |> \n",
    "  mutate(wk4_vs_wk26 = week_4 - week_26,\n",
    "         wk4_vs_wk12 = week_4 - week_12,\n",
    "         wk12_vs_wk26 = week_12 - week_26) |> \n",
    "  pivot_longer(cols = c(wk4_vs_wk12, wk4_vs_wk26, wk12_vs_wk26),\n",
    "               names_to = \"contrast\",\n",
    "               values_to = \"posterior\") |> \n",
    "  mutate(contrast = factor(contrast,\n",
    "                           levels = c(\"wk4_vs_wk12\", \"wk4_vs_wk26\", \"wk12_vs_wk26\"),\n",
    "                           labels = c(\"Week 4 vs. Week 12\",\n",
    "                                      \"Week 4 vs. Week 26\",\n",
    "                                      \"Week 12 vs. Week 26\"))) |> \n",
    "  ggplot() +\n",
    "  geom_histogram(aes(x = posterior, fill = contrast), \n",
    "                 color = \"black\", alpha = .4, bins = 30) +\n",
    "  geom_vline(xintercept = 0, color = \"yellow\", \n",
    "             linetype = \"dashed\", linewidth = 1) +\n",
    "  geom_segment(mapping = aes(y = y+50, yend = y-50, \n",
    "                             x = mean, xend = mean, color = contrast), \n",
    "               data = ci_con) +\n",
    "  geom_segment(mapping = aes(y = y, yend = y, \n",
    "                             x = lower, xend = upper, color = contrast), \n",
    "               data = ci_con) +\n",
    "  facet_wrap(~contrast, ncol = 1) +\n",
    "  labs(\n",
    "    x = \"Model Contrast for auROC\",\n",
    "    y = \"Posterior Probability\",\n",
    "    fill = \"Contrast\",\n",
    "    color = \"Contrast\"\n",
    "  )\n",
    "\n",
    "fig_contrasts\n"
   ],
   "id": "cell-fig-contrasts"
  }
 ],
 "nbformat": 4,
 "nbformat_minor": 5,
 "metadata": {}
}

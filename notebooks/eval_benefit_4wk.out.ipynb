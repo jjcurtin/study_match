{
 "cells": [
  {
   "cell_type": "markdown",
   "metadata": {},
   "source": [
    "# Evaluation of Clinical Benefit: Week 4 Model\n",
    "\n",
    "Gaylen Fronk  \n",
    "June 5, 2024"
   ],
   "id": "c271fba3-f179-426e-8c0e-974e1f31bff6"
  },
  {
   "cell_type": "code",
   "execution_count": null,
   "metadata": {},
   "outputs": [],
   "source": [
    "study <- \"match\"\n",
    "version <- \"v6\"\n",
    "y_col_name <- \"pp_hybrid_wk4_outcome\"\n"
   ],
   "id": "7438d692-c9b8-4c48-8018-cc45e33f52e6"
  },
  {
   "cell_type": "code",
   "execution_count": null,
   "metadata": {},
   "outputs": [
    {
     "output_type": "stream",
     "name": "stderr",
     "text": [
      "── Attaching core tidyverse packages ──────────────────────── tidyverse 2.0.0 ──\n",
      "✔ dplyr     1.1.4     ✔ readr     2.1.5\n",
      "✔ forcats   1.0.0     ✔ stringr   1.5.1\n",
      "✔ ggplot2   3.5.1     ✔ tibble    3.2.1\n",
      "✔ lubridate 1.9.3     ✔ tidyr     1.3.1\n",
      "✔ purrr     1.0.2     \n",
      "── Conflicts ────────────────────────────────────────── tidyverse_conflicts() ──\n",
      "✖ dplyr::filter() masks stats::filter()\n",
      "✖ dplyr::lag()    masks stats::lag()\n",
      "ℹ Use the conflicted package (<http://conflicted.r-lib.org/>) to force all conflicts to become errors"
     ]
    },
    {
     "output_type": "stream",
     "name": "stderr",
     "text": [
      "Loading required package: lme4\n",
      "Loading required package: Matrix\n",
      "\n",
      "Attaching package: 'Matrix'\n",
      "\n",
      "The following objects are masked from 'package:tidyr':\n",
      "\n",
      "    expand, pack, unpack"
     ]
    },
    {
     "output_type": "stream",
     "name": "stderr",
     "text": [
      "ℹ SHA-1 hash of file is \"c045eee2655a18dc85e715b78182f176327358a7\""
     ]
    },
    {
     "output_type": "stream",
     "name": "stderr",
     "text": [
      "ℹ SHA-1 hash of file is \"75cc6f7b855da59c240908bd936834b4da01285b\""
     ]
    }
   ],
   "source": [
    "\n",
    "# packages for script\n",
    "library(tidyverse)\n"
   ],
   "id": "007200fe-d917-4bd7-bad6-bc7b0148bbad"
  },
  {
   "cell_type": "code",
   "execution_count": null,
   "metadata": {},
   "outputs": [],
   "source": [
    "\n",
    "# handle conflicts\n",
    "options(conflicts.policy = \"depends.ok\")\n"
   ],
   "id": "6e485e32-d804-40ea-a914-0eab438f3d52"
  },
  {
   "cell_type": "code",
   "execution_count": null,
   "metadata": {},
   "outputs": [],
   "source": [
    "# absolute paths\n",
    "switch (Sys.info()[['sysname']],\n",
    "        # PC paths\n",
    "        Windows = {\n",
    "          path_models <- str_c(\"P:/studydata/match/models/\", y_col_name)},\n",
    "        \n",
    "        # IOS paths\n",
    "        Darwin = {\n",
    "          path_models <- str_c(\"/Volumes/private/studydata/match/models/\", y_col_name)},\n",
    "        \n",
    "        # Linux paths\n",
    "        Linux = {\n",
    "          path_models <- str_c(\"~/mnt/private/studydata/match/models/\", y_col_name)}\n",
    ")\n"
   ],
   "id": "a9e783b9-4994-469e-b31c-0ada6713aa37"
  },
  {
   "cell_type": "code",
   "execution_count": null,
   "metadata": {},
   "outputs": [],
   "source": [
    "# chunk defaults\n",
    "\n",
    "options(tibble.width = Inf)\n",
    "options(tibble.print_max = Inf)\n"
   ],
   "id": "937249ec-63ce-4954-a1f1-d4a3abba3c6e"
  },
  {
   "cell_type": "markdown",
   "metadata": {},
   "source": [
    "Read in aim 2 dataset"
   ],
   "id": "fd4ed575-3026-429b-9a8b-a40964da3968"
  },
  {
   "cell_type": "code",
   "execution_count": null,
   "metadata": {},
   "outputs": [
    {
     "output_type": "stream",
     "name": "stdout",
     "text": [
      "Rows: 3,258\n",
      "Columns: 16\n",
      "$ subid            <dbl> 20010, 20010, 20010, 20015, 20015, 20015, 20030, 2003…\n",
      "$ tx_rct           <chr> \"patch\", \"patch\", \"patch\", \"combo_nrt\", \"combo_nrt\", …\n",
      "$ tx_best          <chr> \"varenicline\", \"varenicline\", \"varenicline\", \"varenic…\n",
      "$ tx_match         <lgl> FALSE, FALSE, FALSE, FALSE, FALSE, FALSE, FALSE, FALS…\n",
      "$ tx_worst         <chr> \"combo_nrt\", \"combo_nrt\", \"combo_nrt\", \"patch\", \"patc…\n",
      "$ tx_second        <chr> \"patch\", \"patch\", \"patch\", \"combo_nrt\", \"combo_nrt\", …\n",
      "$ tx_rank          <chr> \"second\", \"second\", \"second\", \"second\", \"second\", \"se…\n",
      "$ prob_best        <dbl> 0.2799119, 0.2799119, 0.2799119, 0.5102584, 0.5102584…\n",
      "$ prob_patch       <dbl> 0.2080906, 0.2080906, 0.2080906, 0.4220443, 0.4220443…\n",
      "$ prob_combo_nrt   <dbl> 0.1754414, 0.1754414, 0.1754414, 0.4957828, 0.4957828…\n",
      "$ prob_varenicline <dbl> 0.2799119, 0.2799119, 0.2799119, 0.5102584, 0.5102584…\n",
      "$ week             <dbl> 4, 12, 26, 4, 12, 26, 4, 12, 26, 4, 12, 26, 4, 12, 26…\n",
      "$ outcome_rct_num  <dbl> 0, 0, 0, 0, 0, 0, 0, 0, 0, 0, 1, 1, 0, 0, 0, 0, 0, 0,…\n",
      "$ c_tx_match       <dbl> -0.5, -0.5, -0.5, -0.5, -0.5, -0.5, -0.5, -0.5, -0.5,…\n",
      "$ week_log_2       <dbl> 2.000000, 3.584963, 4.700440, 2.000000, 3.584963, 4.7…\n",
      "$ c4_week_log_2    <dbl> 0.000000, 1.584963, 2.700440, 0.000000, 1.584963, 2.7…"
     ]
    }
   ],
   "source": [
    "d <- read_csv(file.path(path_models, \n",
    "                        str_c(\"aim_2_\", version, \"_\", y_col_name, \".csv\")),\n",
    "              show_col_types = FALSE) |> \n",
    "  mutate(outcome_rct_wk4_num = if_else(outcome_rct_wk4 == \"abstinent\", 1, 0),\n",
    "         outcome_rct_wk12_num = if_else(outcome_rct_wk12 == \"abstinent\", 1, 0),\n",
    "         outcome_rct_wk26_num = if_else(outcome_rct_wk26 == \"abstinent\", 1, 0),\n",
    "         tx_worst = case_when(\n",
    "           prob_patch < prob_combo_nrt & prob_patch < prob_varenicline ~ \"patch\",\n",
    "           prob_combo_nrt < prob_patch & prob_combo_nrt < prob_varenicline ~ \"combo_nrt\",\n",
    "           prob_varenicline < prob_patch & prob_varenicline < prob_combo_nrt ~ \"varenicline\",\n",
    "           TRUE ~ NA_character_),\n",
    "         tx_second = case_when(\n",
    "           tx_worst == \"patch\" & tx_best == \"varenicline\" ~ \"combo_nrt\",\n",
    "           tx_worst == \"patch\" & tx_best == \"combo_nrt\" ~ \"varenicline\",\n",
    "           tx_worst == \"varenicline\" & tx_best == \"patch\" ~ \"combo_nrt\",\n",
    "           tx_worst == \"varenicline\" & tx_best == \"combo_nrt\" ~ \"patch\",\n",
    "           tx_worst == \"combo_nrt\" & tx_best == \"varenicline\" ~ \"patch\",\n",
    "           tx_worst == \"combo_nrt\" & tx_best == \"patch\" ~ \"varenicline\",\n",
    "           TRUE ~ NA_character_)) |> \n",
    "  mutate(tx_rank = case_when(\n",
    "    tx_rct == tx_best ~ \"first\",\n",
    "    tx_rct == tx_second ~ \"second\",\n",
    "    tx_rct == tx_worst ~ \"third\",\n",
    "    TRUE ~ NA_character_)) |> \n",
    "  select(subid, starts_with(\"tx_\"), starts_with(\"prob_\"),\n",
    "         outcome_rct_wk4_num, outcome_rct_wk12_num, outcome_rct_wk26_num) |> \n",
    "  pivot_longer(\n",
    "    cols = c(outcome_rct_wk4_num, outcome_rct_wk12_num, outcome_rct_wk26_num),\n",
    "    names_to = \"week\",\n",
    "    names_pattern = \"(?<=outcome_rct_wk)(.+)(?=_num)\",\n",
    "    values_to = \"outcome_rct_num\"\n",
    "  ) |> \n",
    "  mutate(c_tx_match = if_else(tx_match == TRUE, 0.5, -0.5), # center\n",
    "         week = as.numeric(week)) |> \n",
    "  # log transformation\n",
    "  mutate(week_log_2 = log(week, base = 2)) |> \n",
    "  # week 4-centered log transformation\n",
    "  mutate(c4_week_log_2 = week_log_2 - log(4, base = 2))\n",
    "\n",
    "glimpse(d)\n"
   ],
   "id": "76a0e38b-6976-4cc8-8861-04a0902195b5"
  },
  {
   "cell_type": "markdown",
   "metadata": {},
   "source": [
    "## Analyses\n",
    "\n",
    "### Primary model\n",
    "\n",
    "*NOTE*: differs from preregistration (base 2 instead of base e)\n",
    "\n",
    "4-week-centered, log-transformed week (base 2)"
   ],
   "id": "70ee9110-1aa9-4c2f-8895-fbf4cdade195"
  },
  {
   "cell_type": "code",
   "execution_count": null,
   "metadata": {},
   "outputs": [
    {
     "output_type": "stream",
     "name": "stderr",
     "text": [
      "Model already exists for version v6. Reading in existing model"
     ]
    }
   ],
   "source": [
    "if(file.exists(file.path(path_models, \n",
    "                         str_c(\"model_clin_benefit_\", version, \".rds\")))){\n",
    "  message(str_c(\"Model already exists for version \", \n",
    "                version, \". Reading in existing model\"))\n",
    "  \n",
    "  model_bayes <- read_rds(file.path(path_models, \n",
    "                                    str_c(\"model_clin_benefit_\", version, \".rds\")))\n",
    "  \n",
    "} else {\n",
    "  message(\"Fitting new model & saving out\")\n",
    "  model_bayes <- blme::bglmer(outcome_rct_num ~ c_tx_match * c4_week_log_2 + \n",
    "                                (1 + c4_week_log_2 | subid),\n",
    "                              data = d,\n",
    "                              family = binomial(link = \"logit\"),\n",
    "                              control = glmerControl(optCtrl = list(maxfun = 3e6)))\n",
    "  \n",
    "  model_bayes |> \n",
    "    write_rds(file.path(path_models, \n",
    "                        str_c(\"model_clin_benefit_\", version, \".rds\")))\n",
    "}\n"
   ],
   "id": "f590aae9-d3b8-4bf5-85a2-f46d04dad66e"
  },
  {
   "cell_type": "markdown",
   "metadata": {},
   "source": [
    "Evaluate model"
   ],
   "id": "e584575a-b66b-47be-9179-ea21375d8348"
  },
  {
   "cell_type": "code",
   "execution_count": null,
   "metadata": {},
   "outputs": [
    {
     "output_type": "stream",
     "name": "stdout",
     "text": [
      "Cov prior  : subid ~ wishart(df = 4.5, scale = Inf, posterior.scale = cov, common.scale = TRUE)\n",
      "Prior dev  : -0.9819\n",
      "\n",
      "Generalized linear mixed model fit by maximum likelihood (Laplace\n",
      "  Approximation) [bglmerMod]\n",
      " Family: binomial  ( logit )\n",
      "Formula: outcome_rct_num ~ c_tx_match * c4_week_log_2 + (1 + c4_week_log_2 |  \n",
      "    subid)\n",
      "   Data: d\n",
      "Control: glmerControl(optCtrl = list(maxfun = 3e+06))\n",
      "\n",
      "     AIC      BIC   logLik deviance df.resid \n",
      "  3083.4   3126.1  -1534.7   3069.4     3251 \n",
      "\n",
      "Scaled residuals: \n",
      "     Min       1Q   Median       3Q      Max \n",
      "-1.38557 -0.38964 -0.06647  0.15936  1.45352 \n",
      "\n",
      "Random effects:\n",
      " Groups Name          Variance Std.Dev. Corr\n",
      " subid  (Intercept)   3.480    1.866        \n",
      "        c4_week_log_2 6.174    2.485    0.95\n",
      "Number of obs: 3258, groups:  subid, 1086\n",
      "\n",
      "Fixed effects:\n",
      "                         Estimate Std. Error z value Pr(>|z|)    \n",
      "(Intercept)              -1.06177    0.14208  -7.473 7.83e-14 ***\n",
      "c_tx_match                0.61576    0.21512   2.862   0.0042 ** \n",
      "c4_week_log_2            -1.55860    0.15504 -10.053  < 2e-16 ***\n",
      "c_tx_match:c4_week_log_2 -0.07848    0.20178  -0.389   0.6973    \n",
      "---\n",
      "Signif. codes:  0 '***' 0.001 '**' 0.01 '*' 0.05 '.' 0.1 ' ' 1\n",
      "\n",
      "Correlation of Fixed Effects:\n",
      "            (Intr) c_tx_m c4___2\n",
      "c_tx_match   0.034              \n",
      "c4_wek_lg_2 -0.109  0.112       \n",
      "c_tx_:4___2  0.111  0.167  0.138"
     ]
    }
   ],
   "source": [
    "summary(model_bayes)\n"
   ],
   "id": "6d85e818-d86b-4ca1-ae61-810a3af7bd29"
  },
  {
   "cell_type": "markdown",
   "metadata": {},
   "source": [
    "### Follow-up analyses: Simple Effects\n",
    "\n",
    "From preregistration: If the interaction between `tx_match` and `week` is significant (*p* \\< 0.05), we will conduct follow-up analyses to test the simple effect of `tx_match` at each time point.\n",
    "\n",
    "Interaction between `tx_match` and `week` was not significant (*p* = 0.83); however, we have opted to conduct simple effects analyses to more fully characterize our findings in probability terms and given known issues with conducting and interpreting interactions in logistic regression models.\n",
    "\n",
    "Simple effect at 4 weeks"
   ],
   "id": "d6d0d061-ce5b-441c-b1b5-82b2469601a1"
  },
  {
   "cell_type": "code",
   "execution_count": null,
   "metadata": {},
   "outputs": [
    {
     "output_type": "stream",
     "name": "stdout",
     "text": [
      "\n",
      "Call:\n",
      "glm(formula = outcome_rct_num ~ c_tx_match, family = binomial(link = \"logit\"), \n",
      "    data = d_4)\n",
      "\n",
      "Coefficients:\n",
      "            Estimate Std. Error z value Pr(>|z|)    \n",
      "(Intercept) -0.61446    0.06601  -9.308   <2e-16 ***\n",
      "c_tx_match   0.32376    0.13202   2.452   0.0142 *  \n",
      "---\n",
      "Signif. codes:  0 '***' 0.001 '**' 0.01 '*' 0.05 '.' 0.1 ' ' 1\n",
      "\n",
      "(Dispersion parameter for binomial family taken to be 1)\n",
      "\n",
      "    Null deviance: 1394.7  on 1085  degrees of freedom\n",
      "Residual deviance: 1388.7  on 1084  degrees of freedom\n",
      "AIC: 1392.7\n",
      "\n",
      "Number of Fisher Scoring iterations: 4"
     ]
    }
   ],
   "source": [
    "d_4 <- d |> \n",
    "  filter(week == 4)\n",
    "\n",
    "model_4wk <- glm(outcome_rct_num ~ c_tx_match, \n",
    "                 data = d_4,\n",
    "                 family = binomial(link = \"logit\"))\n",
    "\n",
    "summary(model_4wk)\n"
   ],
   "id": "0d06f0f8-aff3-4a24-abc9-5d3879e77866"
  },
  {
   "cell_type": "markdown",
   "metadata": {},
   "source": [
    "Simple effect at 12 weeks"
   ],
   "id": "69ef7e4f-187c-4c7b-95cb-b1e171016ac4"
  },
  {
   "cell_type": "code",
   "execution_count": null,
   "metadata": {},
   "outputs": [
    {
     "output_type": "stream",
     "name": "stdout",
     "text": [
      "\n",
      "Call:\n",
      "glm(formula = outcome_rct_num ~ c_tx_match, family = binomial(link = \"logit\"), \n",
      "    data = d_12)\n",
      "\n",
      "Coefficients:\n",
      "            Estimate Std. Error z value Pr(>|z|)    \n",
      "(Intercept) -0.87330    0.06908 -12.642   <2e-16 ***\n",
      "c_tx_match   0.16522    0.13816   1.196    0.232    \n",
      "---\n",
      "Signif. codes:  0 '***' 0.001 '**' 0.01 '*' 0.05 '.' 0.1 ' ' 1\n",
      "\n",
      "(Dispersion parameter for binomial family taken to be 1)\n",
      "\n",
      "    Null deviance: 1308.0  on 1085  degrees of freedom\n",
      "Residual deviance: 1306.6  on 1084  degrees of freedom\n",
      "AIC: 1310.6\n",
      "\n",
      "Number of Fisher Scoring iterations: 4"
     ]
    }
   ],
   "source": [
    "d_12 <- d |> \n",
    "  filter(week == 12)\n",
    "\n",
    "model_12wk <- glm(outcome_rct_num ~ c_tx_match, \n",
    "                  data = d_12,\n",
    "                  family = binomial(link = \"logit\"))\n",
    "\n",
    "summary(model_12wk)\n"
   ],
   "id": "ba5917f4-78eb-482d-bb30-da42fba37307"
  },
  {
   "cell_type": "markdown",
   "metadata": {},
   "source": [
    "Simple effect at 26 weeks"
   ],
   "id": "265aa6ba-e598-47e8-8576-bf777fd125f0"
  },
  {
   "cell_type": "code",
   "execution_count": null,
   "metadata": {},
   "outputs": [
    {
     "output_type": "stream",
     "name": "stdout",
     "text": [
      "\n",
      "Call:\n",
      "glm(formula = outcome_rct_num ~ c_tx_match, family = binomial(link = \"logit\"), \n",
      "    data = d_26)\n",
      "\n",
      "Coefficients:\n",
      "            Estimate Std. Error z value Pr(>|z|)    \n",
      "(Intercept) -1.11736    0.07337 -15.229   <2e-16 ***\n",
      "c_tx_match  -0.01054    0.14674  -0.072    0.943    \n",
      "---\n",
      "Signif. codes:  0 '***' 0.001 '**' 0.01 '*' 0.05 '.' 0.1 ' ' 1\n",
      "\n",
      "(Dispersion parameter for binomial family taken to be 1)\n",
      "\n",
      "    Null deviance: 1213.6  on 1085  degrees of freedom\n",
      "Residual deviance: 1213.6  on 1084  degrees of freedom\n",
      "AIC: 1217.6\n",
      "\n",
      "Number of Fisher Scoring iterations: 4"
     ]
    }
   ],
   "source": [
    "d_26 <- d |> \n",
    "  filter(week == 26)\n",
    "\n",
    "model_26wk <- glm(outcome_rct_num ~ c_tx_match, \n",
    "                  data = d_26,\n",
    "                  family = binomial(link = \"logit\"))\n",
    "\n",
    "summary(model_26wk)\n"
   ],
   "id": "bc2ec754-8b31-45dc-91ad-d99e1042de70"
  },
  {
   "cell_type": "markdown",
   "metadata": {},
   "source": [
    "## Figure\n",
    "\n",
    "Make predicted dataset"
   ],
   "id": "71b58b8b-2787-482b-8f43-1d6f5566c058"
  },
  {
   "cell_type": "code",
   "execution_count": null,
   "metadata": {},
   "outputs": [],
   "source": [
    "week_dense <- seq(from = min(d$c4_week_log_2), to = max(d$c4_week_log_2),\n",
    "                  length.out = 60)\n",
    "\n",
    "x_pred <- tibble(\n",
    "  subid = rep(d$subid, each = 20),\n",
    "  c_tx_match = rep(d$tx_match, each = 20),\n",
    "  c4_week_log_2 = rep(week_dense, length.out = (1086 * 60))\n",
    ")\n",
    "\n",
    "y_pred <- predict(model_bayes, x_pred, type = \"response\")\n",
    "\n",
    "d_pred <- x_pred |> \n",
    "  mutate(pred_value = y_pred) \n"
   ],
   "id": "64987237-07f0-4005-9b25-0d52816a8308"
  },
  {
   "cell_type": "markdown",
   "metadata": {},
   "source": [
    "Primary figure"
   ],
   "id": "7d126224-44f6-4d9d-9549-1fb2d7441d11"
  },
  {
   "cell_type": "code",
   "execution_count": null,
   "metadata": {},
   "outputs": [
    {
     "output_type": "stream",
     "name": "stderr",
     "text": [
      "`summarise()` has grouped output by 'week_cat'. You can override using the\n",
      "`.groups` argument."
     ]
    },
    {
     "output_type": "display_data",
     "metadata": {},
     "data": {
      "image/png": "[encoded data removed]"
     }
    }
   ],
   "source": [
    "\n",
    "fig_clin_ben_wk4 <- d |> \n",
    "  mutate(week_cat = factor(week,\n",
    "                           levels = c(4, 12, 26),\n",
    "                           labels = c(\"Week 4\", \"Week 12\", \"Week 26\")),\n",
    "         tx_match = factor(tx_match, \n",
    "                           levels = c(TRUE, FALSE),\n",
    "                           labels = c(\"Best Treatment\", \"Other Treatment\"))) |> \n",
    "  group_by(week_cat, tx_match) |> \n",
    "  summarize(mean_outcome = mean(outcome_rct_num),\n",
    "            sd_outcome = sd(outcome_rct_num),\n",
    "            n_group = n()) |> \n",
    "  mutate(se_outcome = (sd_outcome / sqrt(n_group))) |> \n",
    "  ggplot(aes(x = week_cat, y = mean_outcome, fill = tx_match)) +\n",
    "  geom_col(position = \"dodge\") +\n",
    "  geom_errorbar(aes(ymin = mean_outcome - se_outcome, \n",
    "                    ymax = mean_outcome + se_outcome,\n",
    "                    x = week_cat),\n",
    "                position = position_dodge(width = 0.9),\n",
    "                width = 0.5) +\n",
    "  scale_y_continuous(limits = c(0, 0.425)) +\n",
    "  labs(\n",
    "    x = \"Week On-Study\",\n",
    "    y = \"Mean Abstinence Rate\",\n",
    "    fill = \"Treatment Matching\"\n",
    "  )\n"
   ],
   "id": "cell-fig-clin-ben-wk4"
  },
  {
   "cell_type": "markdown",
   "metadata": {},
   "source": [
    "Primary figure"
   ],
   "id": "946c4824-5e0a-4806-b4fd-3733a9933b44"
  },
  {
   "cell_type": "code",
   "execution_count": null,
   "metadata": {},
   "outputs": [
    {
     "output_type": "stream",
     "name": "stderr",
     "text": [
      "`summarise()` has grouped output by 'week_cat'. You can override using the\n",
      "`.groups` argument."
     ]
    },
    {
     "output_type": "display_data",
     "metadata": {},
     "data": {
      "image/png": "[encoded data removed]"
     }
    }
   ],
   "source": [
    "\n",
    "fig_clin_ben_wk4_supp <- d |> \n",
    "  mutate(week_cat = factor(week,\n",
    "                           levels = c(4, 12, 26),\n",
    "                           labels = c(\"Week 4\", \"Week 12\", \"Week 26\")),\n",
    "         tx_match = factor(tx_match, \n",
    "                           levels = c(TRUE, FALSE),\n",
    "                           labels = c(\"Best Treatment\", \"Other Treatment\"))) |> \n",
    "  group_by(week_cat, tx_match) |> \n",
    "  summarize(mean_outcome = mean(outcome_rct_num),\n",
    "            sd_outcome = sd(outcome_rct_num),\n",
    "            n_group = n()) |> \n",
    "  mutate(se_outcome = (sd_outcome / sqrt(n_group))) |> \n",
    "  ggplot(aes(x = week_cat, y = mean_outcome, fill = tx_match)) +\n",
    "  geom_col(position = \"dodge\") +\n",
    "  geom_errorbar(aes(ymin = mean_outcome - se_outcome, \n",
    "                    ymax = mean_outcome + se_outcome,\n",
    "                    x = week_cat),\n",
    "                position = position_dodge(width = 0.9),\n",
    "                width = 0.5) +\n",
    "  scale_y_continuous(limits = c(0, 0.425)) +\n",
    "  labs(\n",
    "    x = \"Week On-Study\",\n",
    "    y = \"Mean Abstinence Rate\",\n",
    "    fill = \"Treatment Matching\"\n",
    "  )\n"
   ],
   "id": "cell-fig-clin-ben-wk4-supp"
  },
  {
   "cell_type": "markdown",
   "metadata": {},
   "source": [
    "Make predicted dataset"
   ],
   "id": "b2e5aaa9-2278-4c96-bbb0-0d44f107c55a"
  },
  {
   "cell_type": "code",
   "execution_count": null,
   "metadata": {},
   "outputs": [
    {
     "output_type": "stream",
     "name": "stderr",
     "text": [
      "`summarise()` has grouped output by 'week_cat'. You can override using the\n",
      "`.groups` argument."
     ]
    }
   ],
   "source": [
    "d_fig_alt <- d |> \n",
    "  select(subid, c_tx_match, c4_week_log_2) |> \n",
    "  mutate(pred_logodds = predict(model_bayes, d)) |> \n",
    "  mutate(pred_probs = predict(model_bayes, d, type = \"response\")) |> \n",
    "  mutate(week_cat = factor(c4_week_log_2,\n",
    "                           levels = c(0, (log(12, base = 2) - 2), \n",
    "                                      (log(26, base = 2) - 2)),\n",
    "                           labels = c(\"Week 4\", \"Week 12\", \"Week 26\")),\n",
    "         tx_match = factor(c_tx_match, \n",
    "                           levels = c(0.5, -0.5),\n",
    "                           labels = c(\"Matched to Best\", \"Unmatched\"))) |> \n",
    "  group_by(week_cat, tx_match) |> \n",
    "  summarize(mean_pred_logodds = mean(pred_logodds),\n",
    "            mean_pred_probs = mean(pred_probs))\n"
   ],
   "id": "4728c6e2-4e3f-4544-bddd-162a28baa5b2"
  },
  {
   "cell_type": "markdown",
   "metadata": {},
   "source": [
    "Log odds figure"
   ],
   "id": "38503c85-14bf-4f8e-a48f-349a0983037c"
  },
  {
   "cell_type": "code",
   "execution_count": null,
   "metadata": {},
   "outputs": [
    {
     "output_type": "display_data",
     "metadata": {},
     "data": {
      "image/png": "[encoded data removed]"
     }
    }
   ],
   "source": [
    "d_fig_alt |> \n",
    "  ggplot(aes(x = week_cat, y = mean_pred_logodds, fill = tx_match)) +\n",
    "  geom_col(position = \"dodge\") +\n",
    "  labs(\n",
    "    x = \"Week On-Study\",\n",
    "    y = \"Log Odds\",\n",
    "    fill = \"Treatment Matching\"\n",
    "  )\n"
   ],
   "id": "9f430aaa-6cba-4d0c-a998-30728f56cf89"
  },
  {
   "cell_type": "markdown",
   "metadata": {},
   "source": [
    "Predicted probabilities figure"
   ],
   "id": "f550e731-f557-4afc-b64e-eec0ef21c945"
  },
  {
   "cell_type": "code",
   "execution_count": null,
   "metadata": {},
   "outputs": [
    {
     "output_type": "display_data",
     "metadata": {},
     "data": {
      "image/png": "[encoded data removed]"
     }
    }
   ],
   "source": [
    "d_fig_alt |> \n",
    "  ggplot(aes(x = week_cat, y = mean_pred_probs, fill = tx_match)) +\n",
    "  geom_col(position = \"dodge\") +\n",
    "  labs(\n",
    "    x = \"Week On-Study\",\n",
    "    y = \"Predicted Probabilities\",\n",
    "    fill = \"Treatment Matching\"\n",
    "  )\n"
   ],
   "id": "0a3111ca-4ebf-4be4-9cea-b805a057c29c"
  }
 ],
 "nbformat": 4,
 "nbformat_minor": 5,
 "metadata": {}
}

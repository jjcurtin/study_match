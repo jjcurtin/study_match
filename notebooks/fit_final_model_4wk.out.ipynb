{
 "cells": [
  {
   "cell_type": "markdown",
   "metadata": {},
   "source": [
    "# Fits and characterizes final model for version v5 for outcome\n",
    "\n",
    "pp_hybrid_wk4_outcome\n",
    "\n",
    "Gaylen Fronk  \n",
    "April 23, 2024\n",
    "\n",
    "### Set Up Environment"
   ],
   "id": "37905409-929d-40e4-96bf-59e1e6a4de88"
  },
  {
   "cell_type": "code",
   "execution_count": null,
   "metadata": {},
   "outputs": [],
   "source": [
    "study <- params$study\n",
    "version <- params$version\n",
    "cv <- params$cv\n",
    "algorithms <- params$algorithms\n",
    "y_col_name <- params$y_col_name\n"
   ],
   "id": "228dba8c-e1f8-49e1-87fa-b11d1d82e43d"
  },
  {
   "cell_type": "markdown",
   "metadata": {},
   "source": [
    "Packages for script"
   ],
   "id": "484e56f3-e367-43f8-acf8-4a85d66a8e06"
  },
  {
   "cell_type": "code",
   "execution_count": null,
   "metadata": {},
   "outputs": [
    {
     "output_type": "stream",
     "name": "stderr",
     "text": [
      "── Attaching packages ────────────────────────────────────── tidymodels 1.1.1 ──"
     ]
    },
    {
     "output_type": "stream",
     "name": "stderr",
     "text": [
      "✔ broom        1.0.5     ✔ recipes      1.0.9\n",
      "✔ dials        1.2.0     ✔ rsample      1.2.0\n",
      "✔ dplyr        1.1.4     ✔ tibble       3.2.1\n",
      "✔ ggplot2      3.4.4     ✔ tidyr        1.3.1\n",
      "✔ infer        1.0.6     ✔ tune         1.1.2\n",
      "✔ modeldata    1.3.0     ✔ workflows    1.1.3\n",
      "✔ parsnip      1.1.1     ✔ workflowsets 1.0.1\n",
      "✔ purrr        1.0.2     ✔ yardstick    1.3.0"
     ]
    },
    {
     "output_type": "stream",
     "name": "stderr",
     "text": [
      "── Conflicts ───────────────────────────────────────── tidymodels_conflicts() ──\n",
      "✖ purrr::discard() masks scales::discard()\n",
      "✖ dplyr::filter()  masks stats::filter()\n",
      "✖ dplyr::lag()     masks stats::lag()\n",
      "✖ recipes::step()  masks stats::step()\n",
      "• Use suppressPackageStartupMessages() to eliminate package startup messages"
     ]
    },
    {
     "output_type": "stream",
     "name": "stderr",
     "text": [
      "── Attaching core tidyverse packages ──────────────────────── tidyverse 2.0.0 ──\n",
      "✔ forcats   1.0.0     ✔ readr     2.1.5\n",
      "✔ lubridate 1.9.3     ✔ stringr   1.5.1"
     ]
    },
    {
     "output_type": "stream",
     "name": "stderr",
     "text": [
      "── Conflicts ────────────────────────────────────────── tidyverse_conflicts() ──\n",
      "✖ readr::col_factor() masks scales::col_factor()\n",
      "✖ purrr::discard()    masks scales::discard()\n",
      "✖ dplyr::filter()     masks stats::filter()\n",
      "✖ stringr::fixed()    masks recipes::fixed()\n",
      "✖ dplyr::lag()        masks stats::lag()\n",
      "✖ readr::spec()       masks yardstick::spec()\n",
      "ℹ Use the conflicted package (<http://conflicted.r-lib.org/>) to force all conflicts to become errors"
     ]
    },
    {
     "output_type": "stream",
     "name": "stderr",
     "text": [
      "\n",
      "Attaching package: 'Matrix'\n",
      "\n",
      "The following objects are masked from 'package:tidyr':\n",
      "\n",
      "    expand, pack, unpack"
     ]
    },
    {
     "output_type": "stream",
     "name": "stderr",
     "text": [
      "\n",
      "Attaching package: 'probably'\n",
      "\n",
      "The following objects are masked from 'package:base':\n",
      "\n",
      "    as.factor, as.ordered"
     ]
    },
    {
     "output_type": "stream",
     "name": "stderr",
     "text": [
      "Warning: package 'here' was built under R version 4.3.3"
     ]
    },
    {
     "output_type": "stream",
     "name": "stderr",
     "text": [
      "here() starts at C:/Users/gfronk/Documents/GitHub/study_match"
     ]
    },
    {
     "output_type": "stream",
     "name": "stderr",
     "text": [
      "ℹ SHA-1 hash of file is \"c045eee2655a18dc85e715b78182f176327358a7\""
     ]
    },
    {
     "output_type": "stream",
     "name": "stderr",
     "text": [
      "ℹ SHA-1 hash of file is \"bb7bddab14e337e74cb65ad3b94d58a2492d34cd\""
     ]
    }
   ],
   "source": [
    "\n",
    "library(tidymodels)\n"
   ],
   "id": "d37ba768-465e-4367-a375-bfb90ea594e2"
  },
  {
   "cell_type": "markdown",
   "metadata": {},
   "source": [
    "Handle conflicts"
   ],
   "id": "2ec450b0-d2c8-4d12-bdcb-cb54d2c644df"
  },
  {
   "cell_type": "code",
   "execution_count": null,
   "metadata": {},
   "outputs": [],
   "source": [
    "\n",
    "options(conflicts.policy = \"depends.ok\")\n"
   ],
   "id": "e9340d25-15ee-4f3e-a810-1b93a2f10fa6"
  },
  {
   "cell_type": "markdown",
   "metadata": {},
   "source": [
    "Absolute paths"
   ],
   "id": "d34cd532-5416-46f9-b2e2-2d1aff9908dc"
  },
  {
   "cell_type": "code",
   "execution_count": null,
   "metadata": {},
   "outputs": [],
   "source": [
    "switch (Sys.info()[['sysname']],\n",
    "        # PC paths\n",
    "        Windows = {\n",
    "          path_input <- stringr::str_c(\"P:/studydata/match/chtc/\", \n",
    "                                       y_col_name)\n",
    "          path_models <- stringr::str_c(\"P:/studydata/match/models/\", \n",
    "                                        y_col_name)},\n",
    "        \n",
    "        # IOS paths\n",
    "        Darwin = {\n",
    "          path_input <- stringr::str_c(\"/Volumes/private/studydata/match/chtc/\", \n",
    "                                       y_col_name)\n",
    "          path_models <- stringr::str_c(\"/Volumes/private/studydata/match/models/\", \n",
    "                                        y_col_name)},\n",
    "        \n",
    "        # Linux paths\n",
    "        Linux = {\n",
    "          path_input <- stringr::str_c(\"~/mnt/private/studydata/match/chtc/\", \n",
    "                                       y_col_name)\n",
    "          path_models <- stringr::str_c(\"~/mnt/private/studydata/match/models/\", \n",
    "                                        y_col_name)}\n",
    ")\n"
   ],
   "id": "7db93799-d230-4764-8ee3-e41169816d96"
  },
  {
   "cell_type": "markdown",
   "metadata": {},
   "source": [
    "Chunk Defaults"
   ],
   "id": "492dafdf-3953-4048-ab37-3068eb71f8d6"
  },
  {
   "cell_type": "code",
   "execution_count": null,
   "metadata": {},
   "outputs": [],
   "source": [
    "\n",
    "knitr::opts_chunk$set(attr.output='style=\"max-height: 500px;\"')\n",
    "\n",
    "options(tibble.width = Inf)\n",
    "options(tibble.print_max = Inf)\n"
   ],
   "id": "50525df7-af6d-4e88-9f19-69d6a5425f4b"
  },
  {
   "cell_type": "markdown",
   "metadata": {},
   "source": [
    "### Read in best configuration\n",
    "\n",
    "Selected in 1_metrics_inner (k-fold CV)"
   ],
   "id": "14e58be1-3c48-43c3-a7bb-ac3d51a7fd7f"
  },
  {
   "cell_type": "code",
   "execution_count": null,
   "metadata": {},
   "outputs": [
    {
     "output_type": "stream",
     "name": "stdout",
     "text": [
      "Rows: 1\n",
      "Columns: 14\n",
      "$ n_jobs       <dbl> 10\n",
      "$ algorithm    <chr> \"glmnet\"\n",
      "$ feature_set  <chr> \"item_ordinal\"\n",
      "$ hp1          <dbl> 0.1\n",
      "$ hp2          <dbl> 0.1326421\n",
      "$ hp3          <lgl> NA\n",
      "$ resample     <chr> \"up_1\"\n",
      "$ accuracy     <dbl> 0.6651376\n",
      "$ bal_accuracy <dbl> 0.6535065\n",
      "$ roc_auc      <dbl> 0.7358708\n",
      "$ sens         <dbl> 0.6524493\n",
      "$ spec         <dbl> 0.6377969\n",
      "$ ppv          <dbl> 0.4682609\n",
      "$ npv          <dbl> 0.7860704"
     ]
    }
   ],
   "source": [
    "best_config <- read_csv(file.path(path_models, \n",
    "                                  str_c(\"best_config_\", version, \".csv\")),\n",
    "                        show_col_types = FALSE)\n",
    "\n",
    "glimpse(best_config)\n"
   ],
   "id": "03f0a756-6c83-4d7f-b8c0-480afa1cd8eb"
  },
  {
   "cell_type": "markdown",
   "metadata": {},
   "source": [
    "### Fit best model in full dataset"
   ],
   "id": "4397d73c-9d0c-4ac0-8c07-146af29383f4"
  },
  {
   "cell_type": "code",
   "execution_count": null,
   "metadata": {},
   "outputs": [],
   "source": [
    "batch_names <- list.dirs(path_input, full.names = FALSE, recursive = FALSE) \n",
    "\n",
    "batch_name <- batch_names[str_detect(batch_names, \"train\") & \n",
    "                            str_detect(batch_names, cv) &\n",
    "                            str_detect(batch_names, version) &\n",
    "                            str_detect(batch_names, best_config$algorithm)] \n",
    "\n",
    "path_batch <- file.path(path_input, batch_name)\n",
    "source(file.path(path_batch, \"input\", \"training_controls.R\"))\n",
    "\n",
    "d <- read_csv(file.path(path_batch, \"input\", \"data_trn.csv\"), \n",
    "              show_col_types = FALSE) \n",
    "\n",
    "d_outcomes <- d |> \n",
    "  select(subid, ends_with(\"outcome\") & contains(\"hybrid\"))\n",
    "\n",
    "d <- format_data(d) \n",
    "\n",
    "rec <- build_recipe(d = d, config = best_config)\n",
    "\n",
    "rec_prepped <- rec |> \n",
    "  prep(training = d, strings_as_factors = FALSE)\n",
    "\n",
    "feat_all <- rec_prepped |> \n",
    "  bake(new_data = d)\n",
    "\n",
    "model_best <- fit_best_model(best_model = best_config, \n",
    "                             feat = feat_all, \n",
    "                             ml_mode = \"classification\")\n"
   ],
   "id": "fcc47c73-5f5e-4bc3-88ae-8f8eba01afd8"
  },
  {
   "cell_type": "markdown",
   "metadata": {},
   "source": [
    "### Model coefficients\n",
    "\n",
    "**NOTE**: Coefficients are naturally inverted (i.e., positive class \\[abstinence\\] treated as first \\[vs. second\\] class). Here, we multiply coefficients by -1 to align the direction of coefficients with the rest of our analyses. Once flipped (i.e., as they appear below)…\n",
    "\n",
    "A *positive coefficient* indicates that increases in the feature *increase* the likelihood of abstinence. For example, increases in motivation to quit (“motive_quit_order”) *increase* the likelihood of abstinence.\n",
    "\n",
    "A *negative coefficient* indicates that increases in the feature *decrease* the likelihood of smoking. For example, increases in carbon monoxide (“co”) *decrease* the likelihood of abstinence."
   ],
   "id": "533425b3-9abb-481b-baab-92cee704e776"
  },
  {
   "cell_type": "code",
   "execution_count": null,
   "metadata": {},
   "outputs": [
    {
     "output_type": "stream",
     "name": "stderr",
     "text": [
      "Loaded glmnet 4.1-8"
     ]
    }
   ],
   "source": [
    "model_tidy <- tidy(model_best)\n"
   ],
   "id": "5aeaf3a1-804c-4c03-b149-5989958379d5"
  },
  {
   "cell_type": "code",
   "execution_count": null,
   "metadata": {},
   "outputs": [
    {
     "output_type": "display_data",
     "metadata": {},
     "data": {
      "text/html": [
       "</div>\n"
      ],
      "text/markdown": [
       "                                                                        term   estimate\n",
       "  -------------------------------------------------------------------------- ----------\n",
       "                                                                 (Intercept)    -0.7350\n",
       "                                                                          co    -0.1665\n",
       "                                                              race_ehr_white     0.1228\n",
       "      treatment_combo_nrt_x_live_with_smoker_live_alone_or_only_with_partner     0.0960\n",
       "                                                           motive_quit_order     0.0951\n",
       "                                                        wisdm37_2_item_order     0.0929\n",
       "                                                       wisdm37_30_item_order    -0.0832\n",
       "                                                          asi3_15_item_order     0.0770\n",
       "                                                          longest_quit_order     0.0756\n",
       "                                                wsws_want_cig_24h_item_order    -0.0694\n",
       "                                             race_ehr_black_african_american    -0.0667\n",
       "    treatment_varenicline_x_live_with_smoker_live_alone_or_only_with_partner    -0.0644\n",
       "                                           time_around_smokers_weekend_order    -0.0610\n",
       "                                                           dts_13_item_order     0.0607\n",
       "                       treatment_combo_nrt_x_race_ehr_black_african_american    -0.0601\n",
       "                                                            shp_2_item_order     0.0599\n",
       "                                                     life_satisfaction_order     0.0585\n",
       "                                                                income_order     0.0576\n",
       "                                 treatment_combo_nrt_x_wisdm37_22_item_order    -0.0516\n",
       "                                                            tot_quit_attempt     0.0429\n",
       "                                      treatment_combo_nrt_x_smoke_menthol_no     0.0428\n",
       "                                                       wisdm37_27_item_order    -0.0422\n",
       "                                                           mfi_15_item_order     0.0418\n",
       "                                                        wisdm37_5_item_order    -0.0405\n",
       "                                                           smoke_menthol_yes    -0.0403\n",
       "                                                     important_to_quit_order     0.0394\n",
       "                                                            mfi_9_item_order    -0.0369\n",
       "                                                 wsws_unhappy_24h_item_order    -0.0358\n",
       "                                   treatment_patch_x_used_cigars_never_tried    -0.0355\n",
       "                                     treatment_patch_x_close_smoke_friend_no    -0.0341\n",
       "                                                       wisdm37_13_item_order    -0.0319\n",
       "                                                            shp_9_item_order     0.0318\n",
       "                                                          sip2r_2_item_order    -0.0310\n",
       "                                      treatment_combo_nrt_x_dts_5_item_order     0.0310\n",
       "                                         treatment_patch_x_used_cigars_tried     0.0306\n",
       "                                                          sip2r_3_item_order    -0.0297\n",
       "                                                          wsws_18_item_order    -0.0287\n",
       "                                                  marital_status_ehr_married     0.0286\n",
       "                                  treatment_varenicline_x_asi3_15_item_order     0.0284\n",
       "                                                       wisdm37_18_item_order    -0.0276\n",
       "                                     treatment_varenicline_x_spouse_smoke_no     0.0273\n",
       "                                                           wsws_5_item_order     0.0269\n",
       "                                 treatment_patch_x_close_smoke_co_worker_yes     0.0247\n",
       "                             treatment_varenicline_x_used_cigars_never_tried     0.0241\n",
       "                                        treatment_combo_nrt_x_dsm5_6_item_no     0.0237\n",
       "                                                            smoke_menthol_no     0.0235\n",
       "                                        treatment_combo_nrt_x_race_ehr_white     0.0230\n",
       "                            treatment_combo_nrt_x_marital_status_ehr_married     0.0227\n",
       "                                 treatment_combo_nrt_x_wisdm37_30_item_order    -0.0220\n",
       "                                                                  hdsm_tense    -0.0216\n",
       "                                    treatment_varenicline_x_mfi_6_item_order     0.0209\n",
       "                             treatment_varenicline_x_close_smoke_relative_no    -0.0208\n",
       "                                                   time_around_smokers_order    -0.0202\n",
       "                                        treatment_varenicline_x_income_order     0.0200\n",
       "                                     treatment_varenicline_x_dsm5_3_item_yes     0.0199\n",
       "                           treatment_combo_nrt_x_marital_status_ehr_divorced    -0.0198\n",
       "                                                            dsm5_12_item_yes    -0.0195\n",
       "                                                             dsm5_12_item_no     0.0195\n",
       "                                     treatment_combo_nrt_x_smoke_menthol_yes    -0.0192\n",
       "                                                      quit_success_30d_order     0.0189\n",
       "                                                       wisdm37_14_item_order    -0.0186\n",
       "                                treatment_varenicline_x_psych_depression_yes     0.0184\n",
       "                                      treatment_combo_nrt_x_dsm5_10_item_yes    -0.0182\n",
       "                                                           wsws_9_item_order    -0.0181\n",
       "                                                              dsm5_8_item_no     0.0180\n",
       "                                                             dsm5_8_item_yes    -0.0180\n",
       "                                     treatment_combo_nrt_x_asi3_2_item_order    -0.0178\n",
       "                                                       wisdm37_32_item_order    -0.0161\n",
       "                                                          wsws_20_item_order    -0.0159\n",
       "                                 treatment_varenicline_x_live_with_smoker_no     0.0156\n",
       "                                                   wsws_angry_24h_item_order    -0.0151\n",
       "                               treatment_patch_x_work_ban_no_smoking_allowed    -0.0147\n",
       "                                    treatment_patch_x_close_smoke_friend_yes     0.0146\n",
       "                                                                   hdsm_pain    -0.0143\n",
       "                                                wsws_stressed_24h_item_order    -0.0139\n",
       "                                                          wsws_15_item_order    -0.0135\n",
       "                                                           shp_14_item_order     0.0125\n",
       "                                                              berlin_7_order    -0.0119\n",
       "                                 treatment_combo_nrt_x_wisdm37_19_item_order    -0.0105\n",
       "                                                          wsws_12_item_order    -0.0103\n",
       "                               treatment_varenicline_x_wisdm37_27_item_order    -0.0101\n",
       "                                                           phq9_6_item_order    -0.0097\n",
       "                                     treatment_patch_x_wisdm37_26_item_order     0.0088\n",
       "                                        treatment_combo_nrt_x_ftnd_6_item_no     0.0088\n",
       "                                                         psych_depression_no    -0.0083\n",
       "                                                        psych_depression_yes     0.0082\n",
       "                               treatment_varenicline_x_wisdm37_32_item_order    -0.0082\n",
       "                                   treatment_varenicline_x_used_cigars_tried    -0.0078\n",
       "                                                           asi3_9_item_order     0.0070\n",
       "                                  treatment_combo_nrt_x_live_with_smoker_yes    -0.0068\n",
       "                                              used_chew_or_snuff_never_tried     0.0068\n",
       "                                                           dts_15_item_order     0.0068\n",
       "                                      treatment_varenicline_x_dsm5_7_item_no    -0.0063\n",
       "                                     treatment_combo_nrt_x_mfi_13_item_order     0.0061\n",
       "                                                           ftnd_1_item_order     0.0060\n",
       "                                                            shp_3_item_order     0.0058\n",
       "                                                   wsws_crave_24h_item_order    -0.0057\n",
       "                                                 marital_status_ehr_divorced    -0.0056\n",
       "                                      treatment_varenicline_x_berlin_7_order    -0.0055\n",
       "                            treatment_varenicline_x_close_smoke_relative_yes     0.0049\n",
       "                                                          sip2r_4_item_order    -0.0049\n",
       "                                                           shp_13_item_order    -0.0041\n",
       "                                   treatment_varenicline_x_tried_nic_gum_yes     0.0037\n",
       "                                                        live_with_smoker_yes    -0.0037\n",
       "                               treatment_varenicline_x_wisdm37_18_item_order    -0.0033\n",
       "                    treatment_varenicline_x_wsws_constipation_24h_item_order     0.0032\n",
       "                                                          wsws_26_item_order    -0.0031\n",
       "                                                             dsm5_7_item_yes     0.0031\n",
       "                                                              dsm5_7_item_no    -0.0031\n",
       "                                    treatment_varenicline_x_spouse_smoke_yes    -0.0030\n",
       "                                    treatment_varenicline_x_tried_nic_gum_no    -0.0029\n",
       "                                                wsws_coughing_24h_item_order     0.0026\n",
       "                          treatment_patch_x_marital_status_ehr_never_married     0.0019\n",
       "                                                            used_e_cig_tried     0.0017\n",
       "                               treatment_combo_nrt_x_life_satisfaction_order     0.0013\n",
       "                                                           asi3_2_item_order    -0.0009\n",
       "                                       treatment_combo_nrt_x_used_pipe_tried    -0.0007\n",
       "                      treatment_combo_nrt_x_wsws_constipation_24h_item_order    -0.0006\n",
       "                                           treatment_patch_x_ftnd_2_item_yes     0.0006\n",
       "                                       treatment_combo_nrt_x_ftnd_6_item_yes    -0.0006\n",
       "                                         treatment_patch_x_gender_ehr_female    -0.0005\n",
       "                                            treatment_patch_x_race_ehr_white     0.0003\n",
       "                                                            mfi_5_item_order     0.0003\n",
       "       treatment_varenicline_x_spouse_smoke_dont_live_with_spouse_or_partner    -0.0002\n",
       "                                                             spouse_smoke_no     0.0002\n",
       "                                     treatment_patch_x_wisdm37_16_item_order     0.0002\n",
       "                                                                     hrqol_4    -0.0001\n",
       "                         treatment_patch_x_work_ban_do_not_work_outside_home     0.0001\n"
      ]
     }
    }
   ],
   "source": [
    "retained_vars <- model_tidy |> \n",
    "  mutate(estimate = estimate * -1) |> \n",
    "  filter(abs(estimate) > 0) |> \n",
    "  select(-penalty) |> \n",
    "  arrange(desc(abs(estimate)))\n",
    "\n",
    "print_kbl(retained_vars, digits = 4)\n"
   ],
   "id": "02fb6771-db5d-433c-a2e3-9626e5e81620"
  },
  {
   "cell_type": "markdown",
   "metadata": {},
   "source": [
    "10.91% of features were retained by the glmnet solution (128 features of a total considered 1173 features)."
   ],
   "id": "33422a11-c803-49c1-aec0-e0748a19933c"
  },
  {
   "cell_type": "code",
   "execution_count": null,
   "metadata": {},
   "outputs": [
    {
     "output_type": "display_data",
     "metadata": {},
     "data": {
      "text/html": [
       "</div>\n"
      ],
      "text/markdown": [
       "                                                                        term   estimate\n",
       "  -------------------------------------------------------------------------- ----------\n",
       "      treatment_combo_nrt_x_live_with_smoker_live_alone_or_only_with_partner     0.0960\n",
       "    treatment_varenicline_x_live_with_smoker_live_alone_or_only_with_partner    -0.0644\n",
       "                       treatment_combo_nrt_x_race_ehr_black_african_american    -0.0601\n",
       "                                 treatment_combo_nrt_x_wisdm37_22_item_order    -0.0516\n",
       "                                      treatment_combo_nrt_x_smoke_menthol_no     0.0428\n",
       "                                   treatment_patch_x_used_cigars_never_tried    -0.0355\n",
       "                                     treatment_patch_x_close_smoke_friend_no    -0.0341\n",
       "                                      treatment_combo_nrt_x_dts_5_item_order     0.0310\n",
       "                                         treatment_patch_x_used_cigars_tried     0.0306\n",
       "                                  treatment_varenicline_x_asi3_15_item_order     0.0284\n",
       "                                     treatment_varenicline_x_spouse_smoke_no     0.0273\n",
       "                                 treatment_patch_x_close_smoke_co_worker_yes     0.0247\n",
       "                             treatment_varenicline_x_used_cigars_never_tried     0.0241\n",
       "                                        treatment_combo_nrt_x_dsm5_6_item_no     0.0237\n",
       "                                        treatment_combo_nrt_x_race_ehr_white     0.0230\n",
       "                            treatment_combo_nrt_x_marital_status_ehr_married     0.0227\n",
       "                                 treatment_combo_nrt_x_wisdm37_30_item_order    -0.0220\n",
       "                                    treatment_varenicline_x_mfi_6_item_order     0.0209\n",
       "                             treatment_varenicline_x_close_smoke_relative_no    -0.0208\n",
       "                                        treatment_varenicline_x_income_order     0.0200\n",
       "                                     treatment_varenicline_x_dsm5_3_item_yes     0.0199\n",
       "                           treatment_combo_nrt_x_marital_status_ehr_divorced    -0.0198\n",
       "                                     treatment_combo_nrt_x_smoke_menthol_yes    -0.0192\n",
       "                                treatment_varenicline_x_psych_depression_yes     0.0184\n",
       "                                      treatment_combo_nrt_x_dsm5_10_item_yes    -0.0182\n",
       "                                     treatment_combo_nrt_x_asi3_2_item_order    -0.0178\n",
       "                                 treatment_varenicline_x_live_with_smoker_no     0.0156\n",
       "                               treatment_patch_x_work_ban_no_smoking_allowed    -0.0147\n",
       "                                    treatment_patch_x_close_smoke_friend_yes     0.0146\n",
       "                                 treatment_combo_nrt_x_wisdm37_19_item_order    -0.0105\n",
       "                               treatment_varenicline_x_wisdm37_27_item_order    -0.0101\n",
       "                                     treatment_patch_x_wisdm37_26_item_order     0.0088\n",
       "                                        treatment_combo_nrt_x_ftnd_6_item_no     0.0088\n",
       "                               treatment_varenicline_x_wisdm37_32_item_order    -0.0082\n",
       "                                   treatment_varenicline_x_used_cigars_tried    -0.0078\n",
       "                                  treatment_combo_nrt_x_live_with_smoker_yes    -0.0068\n",
       "                                      treatment_varenicline_x_dsm5_7_item_no    -0.0063\n",
       "                                     treatment_combo_nrt_x_mfi_13_item_order     0.0061\n",
       "                                      treatment_varenicline_x_berlin_7_order    -0.0055\n",
       "                            treatment_varenicline_x_close_smoke_relative_yes     0.0049\n",
       "                                   treatment_varenicline_x_tried_nic_gum_yes     0.0037\n",
       "                               treatment_varenicline_x_wisdm37_18_item_order    -0.0033\n",
       "                    treatment_varenicline_x_wsws_constipation_24h_item_order     0.0032\n",
       "                                    treatment_varenicline_x_spouse_smoke_yes    -0.0030\n",
       "                                    treatment_varenicline_x_tried_nic_gum_no    -0.0029\n",
       "                          treatment_patch_x_marital_status_ehr_never_married     0.0019\n",
       "                               treatment_combo_nrt_x_life_satisfaction_order     0.0013\n",
       "                                       treatment_combo_nrt_x_used_pipe_tried    -0.0007\n",
       "                      treatment_combo_nrt_x_wsws_constipation_24h_item_order    -0.0006\n",
       "                                           treatment_patch_x_ftnd_2_item_yes     0.0006\n",
       "                                       treatment_combo_nrt_x_ftnd_6_item_yes    -0.0006\n",
       "                                         treatment_patch_x_gender_ehr_female    -0.0005\n",
       "                                            treatment_patch_x_race_ehr_white     0.0003\n",
       "       treatment_varenicline_x_spouse_smoke_dont_live_with_spouse_or_partner    -0.0002\n",
       "                                     treatment_patch_x_wisdm37_16_item_order     0.0002\n",
       "                         treatment_patch_x_work_ban_do_not_work_outside_home     0.0001\n"
      ]
     }
    }
   ],
   "source": [
    "retained_vars_tx <- retained_vars |> \n",
    "  filter(str_detect(term, \"treatment_\")) |> \n",
    "  arrange(desc(abs(estimate))) \n",
    "\n",
    "print_kbl(retained_vars_tx, digits = 4)\n"
   ],
   "id": "00680e84-f662-47d0-aa1b-20b52a6e3057"
  },
  {
   "cell_type": "markdown",
   "metadata": {},
   "source": [
    "43.75% of the retained features were treatment interaction features (56 treatment features of 128 retained features). Of the 879 available treatment interaction features, 6% were retained.\n",
    "\n",
    "### Calculate and calibrate probabilities\n",
    "\n",
    "Make triplicate dataset"
   ],
   "id": "4ae8f07e-61ac-4c82-822c-1d2b3906fa3c"
  },
  {
   "cell_type": "code",
   "execution_count": null,
   "metadata": {},
   "outputs": [],
   "source": [
    "d_patch <- d |> \n",
    "  mutate(treatment = \"patch\") \n",
    "\n",
    "d_combo <- d |> \n",
    "  mutate(treatment = \"combo_nrt\")\n",
    "\n",
    "d_varen <- d |> \n",
    "  mutate(treatment = \"varenicline\")\n",
    "\n",
    "d_trip <- bind_rows(d_patch, d_combo) |> \n",
    "  bind_rows(d_varen) |> \n",
    "  mutate(treatment = factor(treatment, \n",
    "                            levels = c(\n",
    "                              \"patch\",\n",
    "                              \"varenicline\",\n",
    "                              \"combo_nrt\")))\n"
   ],
   "id": "119ba77a-053c-4528-98ad-cfc907db7238"
  },
  {
   "cell_type": "markdown",
   "metadata": {},
   "source": [
    "Build triplicate feature set"
   ],
   "id": "60e93fe7-d6d5-407d-bd6b-dbe887732d26"
  },
  {
   "cell_type": "code",
   "execution_count": null,
   "metadata": {},
   "outputs": [],
   "source": [
    "feat_trip <- rec_prepped |> \n",
    "  bake(new_data = d_trip) \n"
   ],
   "id": "68b0889e-3bc1-4446-986b-cfa3e8828c2f"
  },
  {
   "cell_type": "markdown",
   "metadata": {},
   "source": [
    "Get raw and calibrated probabilities"
   ],
   "id": "9f231623-8acd-4bb2-a482-7e64a9f34283"
  },
  {
   "cell_type": "code",
   "execution_count": null,
   "metadata": {},
   "outputs": [
    {
     "output_type": "stream",
     "name": "stdout",
     "text": [
      "Rows: 3,258\n",
      "Columns: 6\n",
      "$ subid     <dbl> 20010, 20015, 20030, 20049, 20051, 20072, 20077, 20086, 2010…\n",
      "$ tx        <fct> patch, patch, patch, patch, patch, patch, patch, patch, patc…\n",
      "$ prob_raw  <dbl> 0.2007715, 0.4175508, 0.2309921, 0.3847692, 0.3137408, 0.360…\n",
      "$ prob_beta <dbl> 0.1513093, 0.3453291, 0.1799548, 0.3184819, 0.2567222, 0.297…\n",
      "$ prob_iso  <dbl> 0.0000000, 0.2222222, 0.0000000, 0.2222222, 0.2222222, 0.222…\n",
      "$ prob_logi <dbl> 0.1235681, 0.3712996, 0.1779860, 0.3691958, 0.3225351, 0.361…"
     ]
    }
   ],
   "source": [
    "# raw (uncalibrated) predictions for triplicated dataset\n",
    "preds_prob <- predict(model_best, feat_trip,\n",
    "                      type = \"prob\")\n",
    "\n",
    "# fit calibration model\n",
    "set.seed(2468)\n",
    "cal_split <- d |> \n",
    "  initial_split(prop = 3/4, strata = y)\n",
    "d_cal_in <- training(cal_split) \n",
    "d_cal_out <- testing(cal_split)\n",
    "\n",
    "rec_cal_prepped <- rec |> \n",
    "  prep(training = d_cal_in, strings_as_factors = FALSE)\n",
    "\n",
    "feat_cal_in <- rec_cal_prepped |> \n",
    "  bake(new_data = NULL) \n",
    "\n",
    "feat_cal_out <- rec_cal_prepped |> \n",
    "  bake(new_data = d_cal_out) \n",
    "\n",
    "model_cal <- fit_best_model(best_config, feat = feat_cal_in, \"classification\")\n",
    "\n",
    "# beta calibration\n",
    "beta <- predict(model_cal, feat_cal_out,\n",
    "                type = \"prob\") |>\n",
    "  mutate(truth = feat_cal_out$y) |>\n",
    "  cal_estimate_beta(truth = truth,\n",
    "                    estimate = dplyr::starts_with(\".pred_\"),\n",
    "                    smooth = TRUE)\n",
    "preds_prob_beta <- preds_prob |>\n",
    "  cal_apply(beta)\n",
    "\n",
    "# iso calibration\n",
    "iso <- predict(model_cal, feat_cal_out,\n",
    "               type = \"prob\") |>\n",
    "  mutate(truth = feat_cal_out$y) |>\n",
    "  cal_estimate_isotonic(truth = truth,\n",
    "                        estimate = dplyr::starts_with(\".pred_\"))\n",
    "preds_prob_iso <- preds_prob |>\n",
    "  cal_apply(iso)\n",
    "\n",
    "# logistic calibration\n",
    "logi <- predict(model_cal, feat_cal_out,\n",
    "                type = \"prob\") |>\n",
    "  mutate(truth = feat_cal_out$y) |>\n",
    "  cal_estimate_logistic(truth = truth,\n",
    "                        estimate = dplyr::starts_with(\".pred_\"),\n",
    "                        smooth = TRUE)\n",
    "preds_prob_logi <- preds_prob |>\n",
    "  cal_apply(logi)\n",
    "\n",
    "# combine raw and calibrated probs\n",
    "probs <- tibble(subid = d_trip$subid,\n",
    "                tx = d_trip$treatment,\n",
    "                prob_raw = preds_prob[[str_c(\".pred_\", y_level_pos)]],\n",
    "                prob_beta = preds_prob_beta[[str_c(\".pred_\", y_level_pos)]],\n",
    "                prob_iso = preds_prob_iso[[str_c(\".pred_\", y_level_pos)]],\n",
    "                prob_logi = preds_prob_logi[[str_c(\".pred_\", y_level_pos)]]) \n",
    "\n",
    "glimpse(probs)\n"
   ],
   "id": "ec10d6d3-7f33-41ee-aa5c-6991344a8c76"
  },
  {
   "cell_type": "markdown",
   "metadata": {},
   "source": [
    "### Make AIM 2 Dataset\n",
    "\n",
    "Pivot probabilities into wide format & select only raw probability (based on calibration validity check below)"
   ],
   "id": "0da6731e-2c07-411f-9643-cbd2134ee368"
  },
  {
   "cell_type": "code",
   "execution_count": null,
   "metadata": {},
   "outputs": [
    {
     "output_type": "stream",
     "name": "stdout",
     "text": [
      "Rows: 1,086\n",
      "Columns: 4\n",
      "$ subid            <dbl> 20010, 20015, 20030, 20049, 20051, 20072, 20077, 2008…\n",
      "$ prob_patch       <dbl> 0.2007715, 0.4175508, 0.2309921, 0.3847692, 0.3137408…\n",
      "$ prob_combo_nrt   <dbl> 0.1845281, 0.4643572, 0.3136065, 0.3954174, 0.4326885…\n",
      "$ prob_varenicline <dbl> 0.2646638, 0.4846121, 0.2747510, 0.4322435, 0.4224485…"
     ]
    }
   ],
   "source": [
    "raw_probs_wide <- probs |> \n",
    "  select(subid, tx, prob_raw) |> \n",
    "  pivot_wider(names_prefix = \"prob_\",\n",
    "              names_from = tx,\n",
    "              values_from = prob_raw)\n",
    "\n",
    "glimpse(raw_probs_wide)\n"
   ],
   "id": "39ff8f55-8cc2-4b32-a808-0948a2e08223"
  },
  {
   "cell_type": "markdown",
   "metadata": {},
   "source": [
    "Join with d & create new variables"
   ],
   "id": "d5f069ef-b089-44c8-b4ab-b398e183e273"
  },
  {
   "cell_type": "code",
   "execution_count": null,
   "metadata": {},
   "outputs": [
    {
     "output_type": "stream",
     "name": "stdout",
     "text": [
      "Rows: 1,086\n",
      "Columns: 12\n",
      "$ subid            <dbl> 20010, 20015, 20030, 20049, 20051, 20072, 20077, 2008…\n",
      "$ tx_rct           <fct> patch, combo_nrt, patch, varenicline, patch, combo_nr…\n",
      "$ tx_best          <fct> varenicline, varenicline, combo_nrt, varenicline, com…\n",
      "$ tx_match         <lgl> FALSE, FALSE, FALSE, TRUE, FALSE, FALSE, FALSE, FALSE…\n",
      "$ prob_best        <dbl> 0.2646638, 0.4846121, 0.3136065, 0.4322435, 0.4326885…\n",
      "$ outcome_rct_wk4  <fct> smoking, smoking, smoking, smoking, smoking, smoking,…\n",
      "$ outcome_rct_wk12 <chr> \"smoking\", \"smoking\", \"smoking\", \"abstinent\", \"smokin…\n",
      "$ outcome_rct_wk26 <chr> \"smoking\", \"smoking\", \"smoking\", \"abstinent\", \"smokin…\n",
      "$ outcome_rct_wk52 <chr> \"smoking\", \"abstinent\", \"smoking\", \"abstinent\", \"smok…\n",
      "$ prob_patch       <dbl> 0.2007715, 0.4175508, 0.2309921, 0.3847692, 0.3137408…\n",
      "$ prob_combo_nrt   <dbl> 0.1845281, 0.4643572, 0.3136065, 0.3954174, 0.4326885…\n",
      "$ prob_varenicline <dbl> 0.2646638, 0.4846121, 0.2747510, 0.4322435, 0.4224485…"
     ]
    }
   ],
   "source": [
    "d_aim_2 <- d |> \n",
    "  select(subid, tx_rct = treatment, outcome_rct_wk4 = y) |> \n",
    "  left_join(raw_probs_wide, by = \"subid\") |> \n",
    "  mutate(tx_best = case_when(\n",
    "    prob_patch > prob_combo_nrt & prob_patch > prob_varenicline ~ \"patch\",\n",
    "    prob_combo_nrt > prob_patch & prob_combo_nrt > prob_varenicline ~ \"combo_nrt\",\n",
    "    prob_varenicline > prob_patch & prob_varenicline > prob_combo_nrt ~ \"varenicline\",\n",
    "    TRUE ~ NA_character_\n",
    "  )) |> \n",
    "  mutate(prob_best = case_when(\n",
    "    tx_best == \"patch\" ~ prob_patch,\n",
    "    tx_best == \"combo_nrt\" ~ prob_combo_nrt,\n",
    "    tx_best == \"varenicline\" ~ prob_varenicline,\n",
    "    TRUE ~ NA_real_\n",
    "  )) |> \n",
    "  mutate(tx_best = factor(tx_best, \n",
    "                          levels = c(\n",
    "                            \"patch\",\n",
    "                            \"varenicline\",\n",
    "                            \"combo_nrt\"))) |> \n",
    "  mutate(tx_match = if_else(tx_best == tx_rct, TRUE, FALSE)) |> \n",
    "  left_join(d_outcomes, by = \"subid\") |> \n",
    "  select(-pp_hybrid_wk4_outcome, -pp_hybrid_wk1_outcome, -pp_hybrid_yr3_outcome) |> # already in there from d\n",
    "  rename(outcome_rct_wk12 = pp_hybrid_wk12_outcome,\n",
    "         outcome_rct_wk26 = pp_hybrid_wk26_outcome,\n",
    "         outcome_rct_wk52 = pp_hybrid_wk52_outcome) |> \n",
    "  relocate(subid, tx_rct, tx_best, tx_match,\n",
    "           prob_best, starts_with(\"outcome\"), starts_with(\"prob\"))\n",
    "\n",
    "glimpse(d_aim_2)\n"
   ],
   "id": "4f4e8358-88cd-417f-aafa-2def16b98dc5"
  },
  {
   "cell_type": "markdown",
   "metadata": {},
   "source": [
    "Quick EDA checks"
   ],
   "id": "7ef08ae7-1960-4f3c-aeb0-4bfefcaedb00"
  },
  {
   "cell_type": "code",
   "execution_count": null,
   "metadata": {},
   "outputs": [
    {
     "output_type": "stream",
     "name": "stdout",
     "text": [
      "# A tibble: 6 × 12\n",
      "  subid tx_rct      tx_best     tx_match prob_best outcome_rct_wk4\n",
      "  <dbl> <fct>       <fct>       <lgl>        <dbl> <fct>          \n",
      "1 20010 patch       varenicline FALSE        0.265 smoking        \n",
      "2 20015 combo_nrt   varenicline FALSE        0.485 smoking        \n",
      "3 20030 patch       combo_nrt   FALSE        0.314 smoking        \n",
      "4 20049 varenicline varenicline TRUE         0.432 smoking        \n",
      "5 20051 patch       combo_nrt   FALSE        0.433 smoking        \n",
      "6 20072 combo_nrt   varenicline FALSE        0.381 smoking        \n",
      "  outcome_rct_wk12 outcome_rct_wk26 outcome_rct_wk52 prob_patch prob_combo_nrt\n",
      "  <chr>            <chr>            <chr>                 <dbl>          <dbl>\n",
      "1 smoking          smoking          smoking               0.201          0.185\n",
      "2 smoking          smoking          abstinent             0.418          0.464\n",
      "3 smoking          smoking          smoking               0.231          0.314\n",
      "4 abstinent        abstinent        abstinent             0.385          0.395\n",
      "5 smoking          smoking          smoking               0.314          0.433\n",
      "6 smoking          smoking          smoking               0.360          0.378\n",
      "  prob_varenicline\n",
      "             <dbl>\n",
      "1            0.265\n",
      "2            0.485\n",
      "3            0.275\n",
      "4            0.432\n",
      "5            0.422\n",
      "6            0.381"
     ]
    },
    {
     "output_type": "stream",
     "name": "stdout",
     "text": [
      " d_aim_2$tx_best   n   percent\n",
      "           patch 193 0.1777164\n",
      "     varenicline 554 0.5101289\n",
      "       combo_nrt 339 0.3121547"
     ]
    },
    {
     "output_type": "stream",
     "name": "stdout",
     "text": [
      " d_aim_2$tx_match   n   percent\n",
      "            FALSE 677 0.6233886\n",
      "             TRUE 409 0.3766114"
     ]
    },
    {
     "output_type": "stream",
     "name": "stdout",
     "text": [
      "# A tibble: 6 × 4\n",
      "# Groups:   tx_rct [3]\n",
      "  tx_rct      tx_match     n  prop\n",
      "  <fct>       <lgl>    <int> <dbl>\n",
      "1 patch       FALSE      194 0.805\n",
      "2 patch       TRUE        47 0.195\n",
      "3 varenicline FALSE      200 0.472\n",
      "4 varenicline TRUE       224 0.528\n",
      "5 combo_nrt   FALSE      283 0.672\n",
      "6 combo_nrt   TRUE       138 0.328"
     ]
    }
   ],
   "source": [
    "# confirm logic worked as expected\n",
    "head(d_aim_2)\n"
   ],
   "id": "2dbf5125-6c25-4fa2-9288-8cd57fa4b826"
  },
  {
   "cell_type": "markdown",
   "metadata": {},
   "source": [
    "Write out"
   ],
   "id": "9625138f-731d-4ae7-9b3c-308d4aeef5d8"
  },
  {
   "cell_type": "code",
   "execution_count": null,
   "metadata": {},
   "outputs": [],
   "source": [
    "d_aim_2 |> \n",
    "  write_csv(file.path(path_models, str_c(\"aim_2_\", version, \"_\", \n",
    "                                   y_col_name, \".csv\")))\n",
    "\n",
    "# d_aim_2 |> \n",
    "#   write_csv(here(\"/objects\", str_c(\"aim_2_\", version, \"_\", \n",
    "#                                    y_col_name, \".csv\")))\n"
   ],
   "id": "92761ae3-3da9-465c-8090-fd37f0e5c4f0"
  },
  {
   "cell_type": "markdown",
   "metadata": {},
   "source": [
    "### Validity check: Model Calibration\n",
    "\n",
    "Make wide format for all calibrated probabilities"
   ],
   "id": "88c11c06-4b79-46b5-b243-8317d31cfb16"
  },
  {
   "cell_type": "code",
   "execution_count": null,
   "metadata": {},
   "outputs": [],
   "source": [
    "all_probs_wide <- probs |> \n",
    "  rename_with(~ str_replace(.x, \"prob_\", \"\"), .cols = starts_with(\"prob_\")) |> \n",
    "  pivot_wider(\n",
    "    names_from = tx,\n",
    "    values_from = c(raw, beta, iso, logi),\n",
    "    names_glue = \"{.value}_{tx}\"\n",
    "  )\n"
   ],
   "id": "4a2b3d93-ab11-479b-9118-2531c478f498"
  },
  {
   "cell_type": "markdown",
   "metadata": {},
   "source": [
    "Set up validity check data"
   ],
   "id": "701f55a6-1549-49ee-8b91-00cb6c2204ee"
  },
  {
   "cell_type": "code",
   "execution_count": null,
   "metadata": {},
   "outputs": [],
   "source": [
    "d_valid <- d_aim_2 |> \n",
    "  select(subid, tx_rct, outcome_rct_wk4) |> \n",
    "  left_join(all_probs_wide, by = \"subid\") |> \n",
    "  mutate(beta = case_when(\n",
    "    tx_rct == \"patch\" ~ beta_patch,\n",
    "    tx_rct == \"combo_nrt\" ~ beta_combo_nrt,\n",
    "    tx_rct == \"varenicline\" ~ beta_varenicline,\n",
    "    TRUE ~ NA_real_\n",
    "  ),\n",
    "  raw = case_when(\n",
    "    tx_rct == \"patch\" ~ raw_patch,\n",
    "    tx_rct == \"combo_nrt\" ~ raw_combo_nrt,\n",
    "    tx_rct == \"varenicline\" ~ raw_varenicline,\n",
    "    TRUE ~ NA_real_\n",
    "  ),\n",
    "  isotonic = case_when(\n",
    "    tx_rct == \"patch\" ~ iso_patch,\n",
    "    tx_rct == \"combo_nrt\" ~ iso_combo_nrt,\n",
    "    tx_rct == \"varenicline\" ~ iso_varenicline,\n",
    "    TRUE ~ NA_real_\n",
    "  ),\n",
    "  logistic = case_when(\n",
    "    tx_rct == \"patch\" ~ logi_patch,\n",
    "    tx_rct == \"combo_nrt\" ~ logi_combo_nrt,\n",
    "    tx_rct == \"varenicline\" ~ logi_varenicline,\n",
    "    TRUE ~ NA_real_\n",
    "  )) |> \n",
    "  select(subid, outcome_rct_wk4, beta, raw, isotonic, logistic) \n"
   ],
   "id": "49732c83-9a33-469e-91b8-fac8f2546aed"
  },
  {
   "cell_type": "markdown",
   "metadata": {},
   "source": [
    "Compare mean abstinence from RCT to predicted probabilities for RCT tx across calibrations"
   ],
   "id": "dfecf91e-3814-474b-b125-5013cd7dcbdc"
  },
  {
   "cell_type": "code",
   "execution_count": null,
   "metadata": {},
   "outputs": [
    {
     "output_type": "stream",
     "name": "stderr",
     "text": [
      "Warning: There was 1 warning in `summarize()`.\n",
      "ℹ In argument: `mean_rct = mean(outcome_rct_wk4)`.\n",
      "Caused by warning in `mean.default()`:\n",
      "! argument is not numeric or logical: returning NA"
     ]
    },
    {
     "output_type": "stream",
     "name": "stdout",
     "text": [
      "# A tibble: 1 × 5\n",
      "  mean_rct mean_beta mean_iso mean_logi mean_raw\n",
      "     <dbl>     <dbl>    <dbl>     <dbl>    <dbl>\n",
      "1       NA     0.274    0.155     0.280    0.342"
     ]
    }
   ],
   "source": [
    "d_valid |> \n",
    "  mutate(outcome_rct = if_else(outcome_rct_wk4 == \"abstinent\", 1, 0)) |> \n",
    "  summarize(mean_rct = mean(outcome_rct_wk4),\n",
    "            mean_beta = mean(beta),\n",
    "            mean_iso = mean(isotonic),\n",
    "            mean_logi = mean(logistic),\n",
    "            mean_raw = mean(raw))\n"
   ],
   "id": "d425da6d-298c-45dd-afd9-e1f12ed38488"
  },
  {
   "cell_type": "markdown",
   "metadata": {},
   "source": [
    "Raw probabilities appear to match the outcome best.\n",
    "\n",
    "#### Plots\n",
    "\n",
    "Pivot data longer for required format"
   ],
   "id": "72ee89f0-f4b6-4cf5-9aca-f221f55c6df0"
  },
  {
   "cell_type": "code",
   "execution_count": null,
   "metadata": {},
   "outputs": [],
   "source": [
    "d_plot <- d_valid |> \n",
    "  pivot_longer(\n",
    "    cols = c(beta, raw, isotonic, logistic),\n",
    "    names_to = \"method\",\n",
    "    values_to = \".pred_abstinent\"\n",
    "  )\n"
   ],
   "id": "a88c5770-5ac1-4fd9-a49d-bba58e820217"
  },
  {
   "cell_type": "markdown",
   "metadata": {},
   "source": [
    "Make plots by calibration method"
   ],
   "id": "a3ed5640-501e-43c8-aafc-d1fd29108ad0"
  },
  {
   "cell_type": "code",
   "execution_count": null,
   "metadata": {},
   "outputs": [
    {
     "output_type": "display_data",
     "metadata": {},
     "data": {
      "image/png": "[encoded data removed]"
     }
    },
    {
     "output_type": "display_data",
     "metadata": {},
     "data": {
      "image/png": "[encoded data removed]"
     }
    }
   ],
   "source": [
    "d_plot |> \n",
    "  cal_plot_breaks(truth = outcome_rct_wk4, \n",
    "                  estimate = .pred_abstinent,\n",
    "                  .by = method)\n"
   ],
   "id": "8ced1dce-43cf-4da4-8403-4bf4e930fa9d"
  },
  {
   "cell_type": "markdown",
   "metadata": {},
   "source": [
    "Raw probabilities appear the most well-calibrated: best aligned with diagonal line, spans the fullest range of bins/windows. Will use raw probabilities for AIM 2 analyses (selected above)."
   ],
   "id": "9defeb5f-92e0-4e98-81a8-c1672b99ccf5"
  }
 ],
 "nbformat": 4,
 "nbformat_minor": 5,
 "metadata": {}
}

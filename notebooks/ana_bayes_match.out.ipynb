{
 "cells": [
  {
   "cell_type": "markdown",
   "metadata": {},
   "source": [
    "# Posterior probabilities across models for MATCH study (version v5)\n",
    "\n",
    "John Curtin  \n",
    "April 23, 2024\n",
    "\n",
    "### Code Status\n",
    "\n",
    "In use with iterative improvement.\n",
    "\n",
    "Updating for use with MATCH\n",
    "\n",
    "### Notes\n",
    "\n",
    "Can review online docs for\n",
    "\n",
    "-   [how to use rstanarm](https://cran.r-project.org/web/packages/rstanarm/vignettes/rstanarm.html)\n",
    "-   [priors](https://cran.r-project.org/web/packages/rstanarm/vignettes/priors.html)\n",
    "-   [warnings](https://mc-stan.org/misc/warnings.html)\n",
    "-   [tutorial on rstanarm and shinystan](https://www.tqmp.org/RegularArticles/vol14-2/p099/p099.pdf)\n",
    "-   [R Bloggers on perf_mod](https://www.r-bloggers.com/2019/12/tidyposteriors-bayesian-approach-to-model-comparison/)\n",
    "\n",
    "### Set Up Environment"
   ],
   "id": "3beacae6-4772-4a70-8d69-f4a9c9fe60ea"
  },
  {
   "cell_type": "code",
   "execution_count": null,
   "metadata": {},
   "outputs": [],
   "source": [
    "study <- params$study\n",
    "version <- params$version\n",
    "cv <- params$cv\n"
   ],
   "id": "a9afc7d6-f578-4a89-9104-8f45e761534c"
  },
  {
   "cell_type": "markdown",
   "metadata": {},
   "source": [
    "Packages for script"
   ],
   "id": "fb08f5ff-72a8-44a8-bfa3-e5e9314f09b8"
  },
  {
   "cell_type": "code",
   "execution_count": null,
   "metadata": {},
   "outputs": [
    {
     "output_type": "stream",
     "name": "stderr",
     "text": [
      "── Attaching core tidyverse packages ──────────────────────── tidyverse 2.0.0 ──\n",
      "✔ dplyr     1.1.4     ✔ readr     2.1.5\n",
      "✔ forcats   1.0.0     ✔ stringr   1.5.1\n",
      "✔ ggplot2   3.4.4     ✔ tibble    3.2.1\n",
      "✔ lubridate 1.9.3     ✔ tidyr     1.3.1\n",
      "✔ purrr     1.0.2     \n",
      "── Conflicts ────────────────────────────────────────── tidyverse_conflicts() ──\n",
      "✖ dplyr::filter() masks stats::filter()\n",
      "✖ dplyr::lag()    masks stats::lag()\n",
      "ℹ Use the conflicted package (<http://conflicted.r-lib.org/>) to force all conflicts to become errors"
     ]
    },
    {
     "output_type": "stream",
     "name": "stderr",
     "text": [
      "── Attaching packages ────────────────────────────────────── tidymodels 1.1.1 ──\n",
      "✔ broom        1.0.5     ✔ rsample      1.2.0\n",
      "✔ dials        1.2.0     ✔ tune         1.1.2\n",
      "✔ infer        1.0.6     ✔ workflows    1.1.3\n",
      "✔ modeldata    1.3.0     ✔ workflowsets 1.0.1\n",
      "✔ parsnip      1.1.1     ✔ yardstick    1.3.0\n",
      "✔ recipes      1.0.9     \n",
      "── Conflicts ───────────────────────────────────────── tidymodels_conflicts() ──\n",
      "✖ scales::discard() masks purrr::discard()\n",
      "✖ dplyr::filter()   masks stats::filter()\n",
      "✖ recipes::fixed()  masks stringr::fixed()\n",
      "✖ dplyr::lag()      masks stats::lag()\n",
      "✖ yardstick::spec() masks readr::spec()\n",
      "✖ recipes::step()   masks stats::step()\n",
      "• Search for functions across packages at https://www.tidymodels.org/find/"
     ]
    }
   ],
   "source": [
    "library(tidyposterior)\n",
    "library(tidyverse)\n"
   ],
   "id": "e349e342-735d-486a-8d81-55618fe4b6f5"
  },
  {
   "cell_type": "markdown",
   "metadata": {},
   "source": [
    "Absolute paths"
   ],
   "id": "e870c8c2-68d7-4ab1-a362-4abbe7a62e2b"
  },
  {
   "cell_type": "code",
   "execution_count": null,
   "metadata": {},
   "outputs": [],
   "source": [
    "switch (Sys.info()[['sysname']],\n",
    "        # PC paths\n",
    "        Windows = {\n",
    "          path_models <- \"P:/studydata/match/models/\"},\n",
    "        \n",
    "        # IOS paths\n",
    "        Darwin = {\n",
    "          path_models <- \"/Volumes/private/studydata/match/models/\"},\n",
    "        \n",
    "        # Linux paths\n",
    "        Linux = {\n",
    "          path_models <- \"~/mnt/private/studydata/match/models/\"}\n",
    ")\n"
   ],
   "id": "56408e6c-6ee2-447e-b3f7-844d4af3a3b3"
  },
  {
   "cell_type": "markdown",
   "metadata": {},
   "source": [
    "Chunk Defaults"
   ],
   "id": "06d6de42-7b2c-41ce-8c42-49378b715df7"
  },
  {
   "cell_type": "code",
   "execution_count": null,
   "metadata": {},
   "outputs": [],
   "source": [
    "knitr::opts_chunk$set(attr.output='style=\"max-height: 500px;\"')\n",
    "\n",
    "options(tibble.width = Inf)\n",
    "options(tibble.print_max = Inf)\n"
   ],
   "id": "da75b2e0-d3ec-4739-ab2f-51609a60285a"
  },
  {
   "cell_type": "markdown",
   "metadata": {},
   "source": [
    "Source training controls"
   ],
   "id": "6780b770-0522-4e68-9ab1-0847ff8b354a"
  },
  {
   "cell_type": "code",
   "execution_count": null,
   "metadata": {},
   "outputs": [
    {
     "output_type": "stream",
     "name": "stderr",
     "text": [
      "ℹ SHA-1 hash of file is \"c045eee2655a18dc85e715b78182f176327358a7\""
     ]
    }
   ],
   "source": [
    "# EDA\n",
    "devtools::source_url(\"https://github.com/jjcurtin/lab_support/blob/main/fun_eda.R?raw=true\")\n"
   ],
   "id": "48aa63fd-1bab-404c-9322-533c45386777"
  },
  {
   "cell_type": "markdown",
   "metadata": {},
   "source": [
    "### Read in preds and metrics for best model"
   ],
   "id": "ec460ba4-e3d8-4d2d-bd36-ab8be50fd33e"
  },
  {
   "cell_type": "code",
   "execution_count": null,
   "metadata": {},
   "outputs": [
    {
     "output_type": "stream",
     "name": "stdout",
     "text": [
      "Rows: 30\n",
      "Columns: 3\n",
      "$ repeat_num <chr> \"repeat1\", \"repeat1\", \"repeat1\", \"repeat1\", \"repeat1\", \"rep…\n",
      "$ fold_num   <chr> \"fold1\", \"fold2\", \"fold3\", \"fold4\", \"fold5\", \"fold6\", \"fold…\n",
      "$ roc_auc    <dbl> 0.5890269, 0.6716134, 0.6794598, 0.6187231, 0.7406656, 0.68…"
     ]
    },
    {
     "output_type": "stream",
     "name": "stdout",
     "text": [
      "Rows: 30\n",
      "Columns: 3\n",
      "$ repeat_num <chr> \"repeat1\", \"repeat1\", \"repeat1\", \"repeat1\", \"repeat1\", \"rep…\n",
      "$ fold_num   <chr> \"fold1\", \"fold2\", \"fold3\", \"fold4\", \"fold5\", \"fold6\", \"fold…\n",
      "$ roc_auc    <dbl> 0.5594937, 0.6443820, 0.6266667, 0.5333642, 0.6827004, 0.61…"
     ]
    },
    {
     "output_type": "stream",
     "name": "stdout",
     "text": [
      "Rows: 30\n",
      "Columns: 4\n",
      "$ repeat_num <chr> \"repeat1\", \"repeat1\", \"repeat1\", \"repeat1\", \"repeat1\", \"rep…\n",
      "$ fold_num   <chr> \"fold1\", \"fold2\", \"fold3\", \"fold4\", \"fold5\", \"fold6\", \"fold…\n",
      "$ week_4     <dbl> 0.5890269, 0.6716134, 0.6794598, 0.6187231, 0.7406656, 0.68…\n",
      "$ week_26    <dbl> 0.5594937, 0.6443820, 0.6266667, 0.5333642, 0.6827004, 0.61…"
     ]
    }
   ],
   "source": [
    "auc_wk4 <- read_rds(file.path(path_models, \"pp_hybrid_wk4_outcome\",\n",
    "                              str_c(\"outer_metrics_\", \n",
    "                                    version, \"_\", cv, \".rds\"))) |> \n",
    "  arrange(outer_split_num) |> \n",
    "  mutate(repeat_num = rep(str_c(\"repeat\", 1:3), each = 10),\n",
    "         fold_num = rep(str_c(\"fold\", 1:10), 3)) |>   # assumes 3x10 fold\n",
    "  select(repeat_num, fold_num, roc_auc) |> \n",
    "  glimpse()\n"
   ],
   "id": "99e97f43-19ca-49da-8fde-249b4e18c734"
  },
  {
   "cell_type": "code",
   "execution_count": null,
   "metadata": {},
   "outputs": [
    {
     "output_type": "display_data",
     "metadata": {},
     "data": {
      "image/png": "[encoded data removed]"
     }
    },
    {
     "output_type": "display_data",
     "metadata": {},
     "data": {
      "image/png": "[encoded data removed]"
     }
    }
   ],
   "source": [
    "auc_wk4 %>% \n",
    "  ggplot() + \n",
    "  geom_histogram(aes(x = roc_auc), bins = 10)\n"
   ],
   "id": "ee70e942-d1b2-4da3-90f2-f224d670a89b"
  },
  {
   "cell_type": "markdown",
   "metadata": {},
   "source": [
    "### All models"
   ],
   "id": "f915ec08-2946-4bdf-8cbd-1a0d79e5c9b8"
  },
  {
   "cell_type": "code",
   "execution_count": null,
   "metadata": {},
   "outputs": [
    {
     "output_type": "stream",
     "name": "stdout",
     "text": [
      "\n",
      "SAMPLING FOR MODEL 'continuous' NOW (CHAIN 1).\n",
      "Chain 1: \n",
      "Chain 1: Gradient evaluation took 6.3e-05 seconds\n",
      "Chain 1: 1000 transitions using 10 leapfrog steps per transition would take 0.63 seconds.\n",
      "Chain 1: Adjust your expectations accordingly!\n",
      "Chain 1: \n",
      "Chain 1: \n",
      "Chain 1: Iteration:    1 / 2000 [  0%]  (Warmup)\n",
      "Chain 1: Iteration:  200 / 2000 [ 10%]  (Warmup)\n",
      "Chain 1: Iteration:  400 / 2000 [ 20%]  (Warmup)\n",
      "Chain 1: Iteration:  600 / 2000 [ 30%]  (Warmup)\n",
      "Chain 1: Iteration:  800 / 2000 [ 40%]  (Warmup)\n",
      "Chain 1: Iteration: 1000 / 2000 [ 50%]  (Warmup)\n",
      "Chain 1: Iteration: 1001 / 2000 [ 50%]  (Sampling)\n",
      "Chain 1: Iteration: 1200 / 2000 [ 60%]  (Sampling)\n",
      "Chain 1: Iteration: 1400 / 2000 [ 70%]  (Sampling)\n",
      "Chain 1: Iteration: 1600 / 2000 [ 80%]  (Sampling)\n",
      "Chain 1: Iteration: 1800 / 2000 [ 90%]  (Sampling)\n",
      "Chain 1: Iteration: 2000 / 2000 [100%]  (Sampling)\n",
      "Chain 1: \n",
      "Chain 1:  Elapsed Time: 1.376 seconds (Warm-up)\n",
      "Chain 1:                0.717 seconds (Sampling)\n",
      "Chain 1:                2.093 seconds (Total)\n",
      "Chain 1: \n",
      "\n",
      "SAMPLING FOR MODEL 'continuous' NOW (CHAIN 2).\n",
      "Chain 2: \n",
      "Chain 2: Gradient evaluation took 2.3e-05 seconds\n",
      "Chain 2: 1000 transitions using 10 leapfrog steps per transition would take 0.23 seconds.\n",
      "Chain 2: Adjust your expectations accordingly!\n",
      "Chain 2: \n",
      "Chain 2: \n",
      "Chain 2: Iteration:    1 / 2000 [  0%]  (Warmup)\n",
      "Chain 2: Iteration:  200 / 2000 [ 10%]  (Warmup)\n",
      "Chain 2: Iteration:  400 / 2000 [ 20%]  (Warmup)\n",
      "Chain 2: Iteration:  600 / 2000 [ 30%]  (Warmup)\n",
      "Chain 2: Iteration:  800 / 2000 [ 40%]  (Warmup)\n",
      "Chain 2: Iteration: 1000 / 2000 [ 50%]  (Warmup)\n",
      "Chain 2: Iteration: 1001 / 2000 [ 50%]  (Sampling)\n",
      "Chain 2: Iteration: 1200 / 2000 [ 60%]  (Sampling)\n",
      "Chain 2: Iteration: 1400 / 2000 [ 70%]  (Sampling)\n",
      "Chain 2: Iteration: 1600 / 2000 [ 80%]  (Sampling)\n",
      "Chain 2: Iteration: 1800 / 2000 [ 90%]  (Sampling)\n",
      "Chain 2: Iteration: 2000 / 2000 [100%]  (Sampling)\n",
      "Chain 2: \n",
      "Chain 2:  Elapsed Time: 1.021 seconds (Warm-up)\n",
      "Chain 2:                0.813 seconds (Sampling)\n",
      "Chain 2:                1.834 seconds (Total)\n",
      "Chain 2: \n",
      "\n",
      "SAMPLING FOR MODEL 'continuous' NOW (CHAIN 3).\n",
      "Chain 3: \n",
      "Chain 3: Gradient evaluation took 2.1e-05 seconds\n",
      "Chain 3: 1000 transitions using 10 leapfrog steps per transition would take 0.21 seconds.\n",
      "Chain 3: Adjust your expectations accordingly!\n",
      "Chain 3: \n",
      "Chain 3: \n",
      "Chain 3: Iteration:    1 / 2000 [  0%]  (Warmup)\n",
      "Chain 3: Iteration:  200 / 2000 [ 10%]  (Warmup)\n",
      "Chain 3: Iteration:  400 / 2000 [ 20%]  (Warmup)\n",
      "Chain 3: Iteration:  600 / 2000 [ 30%]  (Warmup)\n",
      "Chain 3: Iteration:  800 / 2000 [ 40%]  (Warmup)\n",
      "Chain 3: Iteration: 1000 / 2000 [ 50%]  (Warmup)\n",
      "Chain 3: Iteration: 1001 / 2000 [ 50%]  (Sampling)\n",
      "Chain 3: Iteration: 1200 / 2000 [ 60%]  (Sampling)\n",
      "Chain 3: Iteration: 1400 / 2000 [ 70%]  (Sampling)\n",
      "Chain 3: Iteration: 1600 / 2000 [ 80%]  (Sampling)\n",
      "Chain 3: Iteration: 1800 / 2000 [ 90%]  (Sampling)\n",
      "Chain 3: Iteration: 2000 / 2000 [100%]  (Sampling)\n",
      "Chain 3: \n",
      "Chain 3:  Elapsed Time: 1.267 seconds (Warm-up)\n",
      "Chain 3:                0.392 seconds (Sampling)\n",
      "Chain 3:                1.659 seconds (Total)\n",
      "Chain 3: \n",
      "\n",
      "SAMPLING FOR MODEL 'continuous' NOW (CHAIN 4).\n",
      "Chain 4: \n",
      "Chain 4: Gradient evaluation took 2.4e-05 seconds\n",
      "Chain 4: 1000 transitions using 10 leapfrog steps per transition would take 0.24 seconds.\n",
      "Chain 4: Adjust your expectations accordingly!\n",
      "Chain 4: \n",
      "Chain 4: \n",
      "Chain 4: Iteration:    1 / 2000 [  0%]  (Warmup)\n",
      "Chain 4: Iteration:  200 / 2000 [ 10%]  (Warmup)\n",
      "Chain 4: Iteration:  400 / 2000 [ 20%]  (Warmup)\n",
      "Chain 4: Iteration:  600 / 2000 [ 30%]  (Warmup)\n",
      "Chain 4: Iteration:  800 / 2000 [ 40%]  (Warmup)\n",
      "Chain 4: Iteration: 1000 / 2000 [ 50%]  (Warmup)\n",
      "Chain 4: Iteration: 1001 / 2000 [ 50%]  (Sampling)\n",
      "Chain 4: Iteration: 1200 / 2000 [ 60%]  (Sampling)\n",
      "Chain 4: Iteration: 1400 / 2000 [ 70%]  (Sampling)\n",
      "Chain 4: Iteration: 1600 / 2000 [ 80%]  (Sampling)\n",
      "Chain 4: Iteration: 1800 / 2000 [ 90%]  (Sampling)\n",
      "Chain 4: Iteration: 2000 / 2000 [100%]  (Sampling)\n",
      "Chain 4: \n",
      "Chain 4:  Elapsed Time: 0.962 seconds (Warm-up)\n",
      "Chain 4:                0.395 seconds (Sampling)\n",
      "Chain 4:                1.357 seconds (Total)\n",
      "Chain 4: "
     ]
    }
   ],
   "source": [
    "# from ?perf_mod()\n",
    "# Repeated CV (id = repeat, id2 = fold within repeat)\n",
    "\n",
    "set.seed(101)\n",
    "pp <- auc |> \n",
    "  rename(id = repeat_num,\n",
    "         id2 = fold_num) |> \n",
    "  perf_mod(formula = statistic ~ model + (1 | id2/id), \n",
    "           # prior_intercept = rstanarm::student_t(autoscale = TRUE),\n",
    "           # prior = rstanarm::student_t(autoscale = TRUE),\n",
    "           transform = tidyposterior::logit_trans,  # for skewed & bounded AUC\n",
    "           iter = 2000, chains = 4,  \n",
    "           adapt_delta = .99,\n",
    "           # cores = 4, seed = 12345,\n",
    "           family = gaussian, \n",
    "  )  \n"
   ],
   "id": "f8fc0327-fb90-4043-9aae-d0ed1c16f9db"
  },
  {
   "cell_type": "code",
   "execution_count": null,
   "metadata": {},
   "outputs": [
    {
     "output_type": "stream",
     "name": "stdout",
     "text": [
      "Priors for model 'pp$stan' \n",
      "------\n",
      "Intercept (after predictors centered)\n",
      "  Specified prior:\n",
      "    ~ normal(location = 0.64, scale = 2.5)\n",
      "  Adjusted prior:\n",
      "    ~ normal(location = 0.64, scale = 0.66)\n",
      "\n",
      "Coefficients\n",
      "  Specified prior:\n",
      "    ~ normal(location = 0, scale = 2.5)\n",
      "  Adjusted prior:\n",
      "    ~ normal(location = 0, scale = 1.3)\n",
      "\n",
      "Auxiliary (sigma)\n",
      "  Specified prior:\n",
      "    ~ exponential(rate = 1)\n",
      "  Adjusted prior:\n",
      "    ~ exponential(rate = 3.8)\n",
      "\n",
      "Covariance\n",
      " ~ decov(reg. = 1, conc. = 1, shape = 1, scale = 1)\n",
      "------\n",
      "See help('prior_summary.stanreg') for more details"
     ]
    }
   ],
   "source": [
    "rstanarm::prior_summary(pp$stan)\n"
   ],
   "id": "9c78de85-58ad-452f-a9db-3d8a548901fe"
  },
  {
   "cell_type": "code",
   "execution_count": null,
   "metadata": {},
   "outputs": [
    {
     "output_type": "stream",
     "name": "stdout",
     "text": [
      "\n",
      "Model Info:\n",
      " function:     stan_glmer\n",
      " family:       gaussian [identity]\n",
      " formula:      statistic ~ model + (1 | id2/id)\n",
      " algorithm:    sampling\n",
      " sample:       4000 (posterior sample size)\n",
      " priors:       see help('prior_summary')\n",
      " observations: 60\n",
      " groups:       id:id2 (30), id2 (10)\n",
      "\n",
      "Estimates:\n",
      "                                        mean   sd   10%   50%   90%\n",
      "(Intercept)                            0.6    0.0  0.5   0.6   0.6 \n",
      "modelweek_4                            0.2    0.0  0.1   0.2   0.2 \n",
      "b[(Intercept) id:id2:repeat1:fold1]   -0.2    0.1 -0.4  -0.2  -0.1 \n",
      "b[(Intercept) id:id2:repeat1:fold10]  -0.2    0.1 -0.3  -0.2  -0.1 \n",
      "b[(Intercept) id:id2:repeat1:fold2]    0.0    0.1 -0.1   0.0   0.2 \n",
      "b[(Intercept) id:id2:repeat1:fold3]    0.0    0.1 -0.1   0.0   0.1 \n",
      "b[(Intercept) id:id2:repeat1:fold4]   -0.2    0.1 -0.4  -0.2  -0.1 \n",
      "b[(Intercept) id:id2:repeat1:fold5]    0.2    0.1  0.1   0.2   0.3 \n",
      "b[(Intercept) id:id2:repeat1:fold6]    0.0    0.1 -0.2   0.0   0.1 \n",
      "b[(Intercept) id:id2:repeat1:fold7]    0.2    0.1  0.0   0.2   0.3 \n",
      "b[(Intercept) id:id2:repeat1:fold8]    0.3    0.1  0.1   0.3   0.4 \n",
      "b[(Intercept) id:id2:repeat1:fold9]   -0.1    0.1 -0.2  -0.1   0.1 \n",
      "b[(Intercept) id:id2:repeat2:fold1]    0.0    0.1 -0.1   0.0   0.1 \n",
      "b[(Intercept) id:id2:repeat2:fold10]   0.2    0.1  0.1   0.2   0.4 \n",
      "b[(Intercept) id:id2:repeat2:fold2]   -0.1    0.1 -0.2  -0.1   0.1 \n",
      "b[(Intercept) id:id2:repeat2:fold3]   -0.3    0.1 -0.4  -0.3  -0.2 \n",
      "b[(Intercept) id:id2:repeat2:fold4]    0.1    0.1 -0.1   0.1   0.2 \n",
      "b[(Intercept) id:id2:repeat2:fold5]    0.0    0.1 -0.1   0.0   0.1 \n",
      "b[(Intercept) id:id2:repeat2:fold6]    0.3    0.1  0.2   0.3   0.5 \n",
      "b[(Intercept) id:id2:repeat2:fold7]   -0.1    0.1 -0.2  -0.1   0.0 \n",
      "b[(Intercept) id:id2:repeat2:fold8]    0.0    0.1 -0.2   0.0   0.1 \n",
      "b[(Intercept) id:id2:repeat2:fold9]    0.0    0.1 -0.2   0.0   0.1 \n",
      "b[(Intercept) id:id2:repeat3:fold1]   -0.1    0.1 -0.2  -0.1   0.0 \n",
      "b[(Intercept) id:id2:repeat3:fold10]   0.0    0.1 -0.2   0.0   0.1 \n",
      "b[(Intercept) id:id2:repeat3:fold2]   -0.1    0.1 -0.2  -0.1   0.1 \n",
      "b[(Intercept) id:id2:repeat3:fold3]    0.3    0.1  0.2   0.3   0.5 \n",
      "b[(Intercept) id:id2:repeat3:fold4]    0.1    0.1 -0.1   0.0   0.2 \n",
      "b[(Intercept) id:id2:repeat3:fold5]    0.0    0.1 -0.1   0.0   0.1 \n",
      "b[(Intercept) id:id2:repeat3:fold6]    0.0    0.1 -0.2   0.0   0.1 \n",
      "b[(Intercept) id:id2:repeat3:fold7]    0.0    0.1 -0.1   0.0   0.1 \n",
      "b[(Intercept) id:id2:repeat3:fold8]   -0.3    0.1 -0.4  -0.3  -0.1 \n",
      "b[(Intercept) id:id2:repeat3:fold9]    0.2    0.1  0.1   0.2   0.3 \n",
      "b[(Intercept) id2:fold1]               0.0    0.1 -0.1   0.0   0.0 \n",
      "b[(Intercept) id2:fold10]              0.0    0.0 -0.1   0.0   0.1 \n",
      "b[(Intercept) id2:fold2]               0.0    0.0 -0.1   0.0   0.0 \n",
      "b[(Intercept) id2:fold3]               0.0    0.0 -0.1   0.0   0.0 \n",
      "b[(Intercept) id2:fold4]               0.0    0.0 -0.1   0.0   0.0 \n",
      "b[(Intercept) id2:fold5]               0.0    0.0  0.0   0.0   0.1 \n",
      "b[(Intercept) id2:fold6]               0.0    0.1  0.0   0.0   0.1 \n",
      "b[(Intercept) id2:fold7]               0.0    0.0  0.0   0.0   0.1 \n",
      "b[(Intercept) id2:fold8]               0.0    0.0 -0.1   0.0   0.0 \n",
      "b[(Intercept) id2:fold9]               0.0    0.0  0.0   0.0   0.1 \n",
      "sigma                                  0.2    0.0  0.1   0.2   0.2 \n",
      "Sigma[id:id2:(Intercept),(Intercept)]  0.0    0.0  0.0   0.0   0.1 \n",
      "Sigma[id2:(Intercept),(Intercept)]     0.0    0.0  0.0   0.0   0.0 \n",
      "\n",
      "Fit Diagnostics:\n",
      "           mean   sd   10%   50%   90%\n",
      "mean_PPD 0.6    0.0  0.6   0.6   0.7  \n",
      "\n",
      "The mean_ppd is the sample average posterior predictive distribution of the outcome variable (for details see help('summary.stanreg')).\n",
      "\n",
      "MCMC diagnostics\n",
      "                                      mcse Rhat n_eff\n",
      "(Intercept)                           0.0  1.0  1944 \n",
      "modelweek_4                           0.0  1.0  5882 \n",
      "b[(Intercept) id:id2:repeat1:fold1]   0.0  1.0  2850 \n",
      "b[(Intercept) id:id2:repeat1:fold10]  0.0  1.0  3470 \n",
      "b[(Intercept) id:id2:repeat1:fold2]   0.0  1.0  4409 \n",
      "b[(Intercept) id:id2:repeat1:fold3]   0.0  1.0  4392 \n",
      "b[(Intercept) id:id2:repeat1:fold4]   0.0  1.0  3012 \n",
      "b[(Intercept) id:id2:repeat1:fold5]   0.0  1.0  3220 \n",
      "b[(Intercept) id:id2:repeat1:fold6]   0.0  1.0  4015 \n",
      "b[(Intercept) id:id2:repeat1:fold7]   0.0  1.0  3494 \n",
      "b[(Intercept) id:id2:repeat1:fold8]   0.0  1.0  2817 \n",
      "b[(Intercept) id:id2:repeat1:fold9]   0.0  1.0  4362 \n",
      "b[(Intercept) id:id2:repeat2:fold1]   0.0  1.0  3466 \n",
      "b[(Intercept) id:id2:repeat2:fold10]  0.0  1.0  3237 \n",
      "b[(Intercept) id:id2:repeat2:fold2]   0.0  1.0  4321 \n",
      "b[(Intercept) id:id2:repeat2:fold3]   0.0  1.0  3205 \n",
      "b[(Intercept) id:id2:repeat2:fold4]   0.0  1.0  3884 \n",
      "b[(Intercept) id:id2:repeat2:fold5]   0.0  1.0  4161 \n",
      "b[(Intercept) id:id2:repeat2:fold6]   0.0  1.0  2288 \n",
      "b[(Intercept) id:id2:repeat2:fold7]   0.0  1.0  5294 \n",
      "b[(Intercept) id:id2:repeat2:fold8]   0.0  1.0  4906 \n",
      "b[(Intercept) id:id2:repeat2:fold9]   0.0  1.0  4715 \n",
      "b[(Intercept) id:id2:repeat3:fold1]   0.0  1.0  2980 \n",
      "b[(Intercept) id:id2:repeat3:fold10]  0.0  1.0  4201 \n",
      "b[(Intercept) id:id2:repeat3:fold2]   0.0  1.0  3860 \n",
      "b[(Intercept) id:id2:repeat3:fold3]   0.0  1.0  2228 \n",
      "b[(Intercept) id:id2:repeat3:fold4]   0.0  1.0  4766 \n",
      "b[(Intercept) id:id2:repeat3:fold5]   0.0  1.0  3789 \n",
      "b[(Intercept) id:id2:repeat3:fold6]   0.0  1.0  3895 \n",
      "b[(Intercept) id:id2:repeat3:fold7]   0.0  1.0  4243 \n",
      "b[(Intercept) id:id2:repeat3:fold8]   0.0  1.0  2890 \n",
      "b[(Intercept) id:id2:repeat3:fold9]   0.0  1.0  2829 \n",
      "b[(Intercept) id2:fold1]              0.0  1.0  2179 \n",
      "b[(Intercept) id2:fold10]             0.0  1.0  3731 \n",
      "b[(Intercept) id2:fold2]              0.0  1.0  3343 \n",
      "b[(Intercept) id2:fold3]              0.0  1.0  3279 \n",
      "b[(Intercept) id2:fold4]              0.0  1.0  2953 \n",
      "b[(Intercept) id2:fold5]              0.0  1.0  3083 \n",
      "b[(Intercept) id2:fold6]              0.0  1.0  2411 \n",
      "b[(Intercept) id2:fold7]              0.0  1.0  4584 \n",
      "b[(Intercept) id2:fold8]              0.0  1.0  3902 \n",
      "b[(Intercept) id2:fold9]              0.0  1.0  3744 \n",
      "sigma                                 0.0  1.0  1342 \n",
      "Sigma[id:id2:(Intercept),(Intercept)] 0.0  1.0  1226 \n",
      "Sigma[id2:(Intercept),(Intercept)]    0.0  1.0  1560 \n",
      "mean_PPD                              0.0  1.0  4078 \n",
      "log-posterior                         0.3  1.0   700 \n",
      "\n",
      "For each parameter, mcse is Monte Carlo standard error, n_eff is a crude measure of effective sample size, and Rhat is the potential scale reduction factor on split chains (at convergence Rhat=1)."
     ]
    }
   ],
   "source": [
    "summary(pp$stan)\n"
   ],
   "id": "0d03695e-be14-4231-afbb-cadb739b4edb"
  },
  {
   "cell_type": "code",
   "execution_count": null,
   "metadata": {},
   "outputs": [],
   "source": [
    "# shinystan::launch_shinystan(pp$stan)\n"
   ],
   "id": "98114e37-e256-48a4-8f84-0e7209788951"
  },
  {
   "cell_type": "code",
   "execution_count": null,
   "metadata": {},
   "outputs": [],
   "source": [
    "pp %>%  write_rds(file.path(path_models, \n",
    "                            str_c(\"posteriors_\", version, \"_nested.rds\")))\n"
   ],
   "id": "d589bbc7-561e-4be5-8ef6-c75153ad42ff"
  },
  {
   "cell_type": "markdown",
   "metadata": {},
   "source": [
    "### Model posterier CIs"
   ],
   "id": "8ee4a55f-992a-4348-ad85-e821f73c27f6"
  },
  {
   "cell_type": "code",
   "execution_count": null,
   "metadata": {},
   "outputs": [
    {
     "output_type": "stream",
     "name": "stdout",
     "text": [
      "# A tibble: 2 × 5\n",
      "  model   median lower upper     y\n",
      "  <fct>    <dbl> <dbl> <dbl> <dbl>\n",
      "1 Week 26  0.634 0.612 0.657  1000\n",
      "2 Week 4   0.676 0.654 0.697  1000"
     ]
    }
   ],
   "source": [
    "pp_tidy <- pp %>% \n",
    "  tidy(seed = 123)\n",
    "\n",
    "q = c(.025, .5, .975)\n",
    "pp_tidy |> \n",
    "  group_by(model) |> \n",
    "  summarize(median = quantile(posterior, probs = q[2]),\n",
    "            lower = quantile(posterior, probs = q[1]), \n",
    "            upper = quantile(posterior, probs = q[3])) |> \n",
    "  mutate(model = factor(model, levels = c(\"week_26\", \"week_4\"),\n",
    "                        labels = c(\"Week 26\", \"Week 4\")),\n",
    "         y = 1000) |> \n",
    "  arrange(model)\n"
   ],
   "id": "03c8c2ff-a885-4ebe-894c-418ac1d7a33c"
  },
  {
   "cell_type": "markdown",
   "metadata": {},
   "source": [
    "### Model contrasts"
   ],
   "id": "7d3cb061-f7f0-4d84-803b-32ac0861de62"
  },
  {
   "cell_type": "code",
   "execution_count": null,
   "metadata": {},
   "outputs": [
    {
     "output_type": "stream",
     "name": "stdout",
     "text": [
      "# A tibble: 1 × 9\n",
      "  contrast          probability   mean  lower  upper  size pract_neg pract_equiv\n",
      "  <chr>                   <dbl>  <dbl>  <dbl>  <dbl> <dbl>     <dbl>       <dbl>\n",
      "1 week_4 vs week_26           1 0.0412 0.0237 0.0591  0.01         0     0.00075\n",
      "  pract_pos\n",
      "      <dbl>\n",
      "1     0.999"
     ]
    },
    {
     "output_type": "display_data",
     "metadata": {},
     "data": {
      "image/png": "[encoded data removed]"
     }
    }
   ],
   "source": [
    "pp_contrasts <- contrast_models(pp, \n",
    "                                list(\"week_4\"), \n",
    "                                list(\"week_26\"))\n",
    "summary(pp_contrasts, size = .01, prob = 0.95)\n"
   ],
   "id": "8c527bc6-c7ab-48ef-a04e-3228cec08fad"
  },
  {
   "cell_type": "markdown",
   "metadata": {},
   "source": [
    "Here are contrasts against 0 rather than using ROPE"
   ],
   "id": "392326ea-254a-43d0-8871-7341960a0ea8"
  },
  {
   "cell_type": "code",
   "execution_count": null,
   "metadata": {},
   "outputs": [
    {
     "output_type": "stream",
     "name": "stdout",
     "text": [
      "[1] 1"
     ]
    }
   ],
   "source": [
    "pp_contrasts |> \n",
    "  mutate(wk4_gt_wk26 = if_else(difference > 0, 1, 0)) |>\n",
    "  pull(wk4_gt_wk26) |> \n",
    "  mean()\n"
   ],
   "id": "d8ffd92a-aab8-4d53-8174-cbe50665382e"
  },
  {
   "cell_type": "markdown",
   "metadata": {},
   "source": [
    "### Plots\n",
    "\n",
    "Model posteriors"
   ],
   "id": "e8ff4de9-44f0-4df9-b395-93e98215e801"
  },
  {
   "cell_type": "code",
   "execution_count": null,
   "metadata": {},
   "outputs": [],
   "source": [
    "ci <- pp_tidy |> \n",
    "  summary() |> \n",
    "  mutate(model = factor(model, levels = c(\"week_4\", \"week_26\")),\n",
    "         y = 1000) \n",
    "\n",
    "ci_week4 <- ci |> \n",
    "  filter(model == \"week_4\")\n"
   ],
   "id": "68550d06-cc26-425f-bcc2-9d33298d38e8"
  },
  {
   "cell_type": "code",
   "execution_count": null,
   "metadata": {},
   "outputs": [
    {
     "output_type": "display_data",
     "metadata": {},
     "data": {
      "image/png": "[encoded data removed]"
     }
    }
   ],
   "source": [
    "fig_posteriors <- pp_tidy |> \n",
    "  mutate(model = factor(model, levels = c(\"week_4\", \"week_26\"))) |> \n",
    "  ggplot() + \n",
    "  geom_histogram(aes(x = posterior, fill = model), color = \"black\", alpha = .4, \n",
    "                 bins = 30) +\n",
    "  geom_segment(mapping = aes(y = y + 100, yend = y - 100, x = mean, xend = mean,\n",
    "                             color = model),\n",
    "               data = ci) +\n",
    "  geom_segment(mapping = aes(y = y, yend = y, x = lower, xend = upper, color = model),\n",
    "               data = ci) +\n",
    "  facet_wrap(~model, ncol = 1) +\n",
    "  scale_y_continuous(\"Posterior Probability\", breaks = c(0, 500, 1000)) +\n",
    "  # ylab(\"Posterior Probability Density\") +\n",
    "  xlab(\"Area Under ROC Curve\")\n",
    "\n",
    "fig_posteriors\n"
   ],
   "id": "cell-fig-posteriors"
  },
  {
   "cell_type": "code",
   "execution_count": null,
   "metadata": {},
   "outputs": [
    {
     "output_type": "display_data",
     "metadata": {},
     "data": {
      "image/png": "[encoded data removed]"
     }
    }
   ],
   "source": [
    "\n",
    "pp_tidy |> \n",
    "  mutate(model = factor(model, levels = c(\"week_4\", \"week_26\"))) |> \n",
    "  filter(model == \"week_4\") |> \n",
    "  ggplot() + \n",
    "  geom_histogram(aes(x = posterior, fill = model), color = \"black\", alpha = .4, \n",
    "                 bins = 30) +\n",
    "  geom_segment(mapping = aes(y = y + 100, yend = y - 100, x = mean, xend = mean,\n",
    "                             color = model),\n",
    "               data = ci_week4) +\n",
    "  geom_segment(mapping = aes(y = y, yend = y, x = lower, xend = upper, color = model),\n",
    "               data = ci_week4) +\n",
    "  scale_y_continuous(\"Posterior Probability\", breaks = c(0, 500, 1000)) +\n",
    "  # ylab(\"Posterior Probability Density\") +\n",
    "  xlab(\"Area Under ROC Curve\") +\n",
    "  theme(legend.position = \"none\")\n"
   ],
   "id": "cell-fig-week4"
  },
  {
   "cell_type": "markdown",
   "metadata": {},
   "source": [
    "model contrast posteriors"
   ],
   "id": "f9dc6e25-e1ae-47a7-9a6f-691e81b52a6e"
  },
  {
   "cell_type": "code",
   "execution_count": null,
   "metadata": {},
   "outputs": [],
   "source": [
    "ci_con <- pp |>\n",
    "  contrast_models(list(\"week_4\"), \n",
    "                  list(\"week_26\")) |> \n",
    "  summary(size = .01) |> \n",
    "  mutate(contrast = factor(contrast, \n",
    "                           levels = c(\"week_4 vs week_26\"),\n",
    "                           labels = c(\"week 4 vs. week 26\")),\n",
    "         y = 700)\n"
   ],
   "id": "068b70b2-c52a-4589-b187-1ef30fc0082a"
  },
  {
   "cell_type": "code",
   "execution_count": null,
   "metadata": {},
   "outputs": [
    {
     "output_type": "display_data",
     "metadata": {},
     "data": {
      "image/png": "[encoded data removed]"
     }
    }
   ],
   "source": [
    "fig_contrasts <- pp |> \n",
    "  tidy(seed = 123) |>   \n",
    "  group_by(model) |> \n",
    "  mutate(sample = row_number()) |> \n",
    "  ungroup() |> \n",
    "  pivot_wider(names_from = model, values_from = posterior) |> \n",
    "  mutate(posterior = week_4 - week_26) |> \n",
    "  ggplot() +\n",
    "  geom_histogram(aes(x = posterior), \n",
    "                 color = \"black\", alpha = .4, bins = 30) +\n",
    "  geom_vline(xintercept = -.01, color = \"yellow\", linetype = \"dashed\", linewidth = 1) +\n",
    "  geom_vline(xintercept = .01, color = \"yellow\", linetype = \"dashed\", linewidth = 1) +\n",
    "  geom_segment(mapping = aes(y = y+50, yend = y-50, x = mean, xend = mean), \n",
    "               data = ci_con) +\n",
    "  geom_segment(mapping = aes(y = y, yend = y, x = lower, xend = upper), \n",
    "               data = ci_con) +\n",
    "  ylab(\"Posterior Probability\") +\n",
    "  xlab(\"Model Contrast for auROC (Week 4 vs. Week 26)\")\n",
    "\n",
    "fig_contrasts\n"
   ],
   "id": "cell-fig-contrasts"
  }
 ],
 "nbformat": 4,
 "nbformat_minor": 5,
 "metadata": {}
}

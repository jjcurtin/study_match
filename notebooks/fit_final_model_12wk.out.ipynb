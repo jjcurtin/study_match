{
 "cells": [
  {
   "cell_type": "markdown",
   "metadata": {},
   "source": [
    "# Fits and characterizes final model for 12-week outcome\n",
    "\n",
    "Gaylen Fronk  \n",
    "June 5, 2024\n",
    "\n",
    "### Set Up Environment"
   ],
   "id": "44bbbf64-8229-4fb3-acd4-1e28b76e7a90"
  },
  {
   "cell_type": "code",
   "execution_count": null,
   "metadata": {},
   "outputs": [],
   "source": [
    "study <- \"match\"\n",
    "version <- \"v6\"\n",
    "cv <- \"kfold\"\n",
    "y_col_name <- \"pp_hybrid_wk12_outcome\"\n"
   ],
   "id": "3d25393c-ae2d-4515-9256-4406dcf4fa16"
  },
  {
   "cell_type": "markdown",
   "metadata": {},
   "source": [
    "Packages for script"
   ],
   "id": "3fbf1c62-ad01-413e-9cd6-06d30d3c375d"
  },
  {
   "cell_type": "code",
   "execution_count": null,
   "metadata": {},
   "outputs": [
    {
     "output_type": "stream",
     "name": "stderr",
     "text": [
      "── Attaching packages ────────────────────────────────────── tidymodels 1.2.0 ──"
     ]
    },
    {
     "output_type": "stream",
     "name": "stderr",
     "text": [
      "✔ broom        1.0.5      ✔ recipes      1.0.10\n",
      "✔ dials        1.2.1      ✔ rsample      1.2.1 \n",
      "✔ dplyr        1.1.4      ✔ tibble       3.2.1 \n",
      "✔ ggplot2      3.5.1      ✔ tidyr        1.3.1 \n",
      "✔ infer        1.0.7      ✔ tune         1.2.1 \n",
      "✔ modeldata    1.3.0      ✔ workflows    1.1.4 \n",
      "✔ parsnip      1.2.1      ✔ workflowsets 1.1.0 \n",
      "✔ purrr        1.0.2      ✔ yardstick    1.3.1 "
     ]
    },
    {
     "output_type": "stream",
     "name": "stderr",
     "text": [
      "── Conflicts ───────────────────────────────────────── tidymodels_conflicts() ──\n",
      "✖ purrr::discard() masks scales::discard()\n",
      "✖ dplyr::filter()  masks stats::filter()\n",
      "✖ dplyr::lag()     masks stats::lag()\n",
      "✖ recipes::step()  masks stats::step()\n",
      "• Use suppressPackageStartupMessages() to eliminate package startup messages"
     ]
    },
    {
     "output_type": "stream",
     "name": "stderr",
     "text": [
      "── Attaching core tidyverse packages ──────────────────────── tidyverse 2.0.0 ──\n",
      "✔ forcats   1.0.0     ✔ readr     2.1.5\n",
      "✔ lubridate 1.9.3     ✔ stringr   1.5.1"
     ]
    },
    {
     "output_type": "stream",
     "name": "stderr",
     "text": [
      "── Conflicts ────────────────────────────────────────── tidyverse_conflicts() ──\n",
      "✖ readr::col_factor() masks scales::col_factor()\n",
      "✖ purrr::discard()    masks scales::discard()\n",
      "✖ dplyr::filter()     masks stats::filter()\n",
      "✖ stringr::fixed()    masks recipes::fixed()\n",
      "✖ dplyr::lag()        masks stats::lag()\n",
      "✖ readr::spec()       masks yardstick::spec()\n",
      "ℹ Use the conflicted package (<http://conflicted.r-lib.org/>) to force all conflicts to become errors"
     ]
    },
    {
     "output_type": "stream",
     "name": "stderr",
     "text": [
      "\n",
      "Attaching package: 'Matrix'\n",
      "\n",
      "The following objects are masked from 'package:tidyr':\n",
      "\n",
      "    expand, pack, unpack"
     ]
    },
    {
     "output_type": "stream",
     "name": "stderr",
     "text": [
      "\n",
      "Attaching package: 'probably'\n",
      "\n",
      "The following objects are masked from 'package:base':\n",
      "\n",
      "    as.factor, as.ordered"
     ]
    },
    {
     "output_type": "stream",
     "name": "stderr",
     "text": [
      "here() starts at C:/Users/gfronk/Documents/GitHub/study_match"
     ]
    },
    {
     "output_type": "stream",
     "name": "stderr",
     "text": [
      "ℹ SHA-1 hash of file is \"c045eee2655a18dc85e715b78182f176327358a7\""
     ]
    },
    {
     "output_type": "stream",
     "name": "stderr",
     "text": [
      "ℹ SHA-1 hash of file is \"75cc6f7b855da59c240908bd936834b4da01285b\""
     ]
    }
   ],
   "source": [
    "\n",
    "library(tidymodels)\n"
   ],
   "id": "6f8fe541-b12f-4004-bd90-e532c592a392"
  },
  {
   "cell_type": "markdown",
   "metadata": {},
   "source": [
    "Handle conflicts"
   ],
   "id": "3ccf99fa-c9a2-409e-b79b-727c4ca80f73"
  },
  {
   "cell_type": "code",
   "execution_count": null,
   "metadata": {},
   "outputs": [],
   "source": [
    "\n",
    "options(conflicts.policy = \"depends.ok\")\n"
   ],
   "id": "ff39e084-30ea-42f1-9bcb-dc3d005dbabb"
  },
  {
   "cell_type": "markdown",
   "metadata": {},
   "source": [
    "Absolute paths"
   ],
   "id": "ede7165a-ae2f-433b-a3de-3bd75f06f156"
  },
  {
   "cell_type": "code",
   "execution_count": null,
   "metadata": {},
   "outputs": [],
   "source": [
    "switch (Sys.info()[['sysname']],\n",
    "        # PC paths\n",
    "        Windows = {\n",
    "          path_input <- stringr::str_c(\"P:/studydata/match/chtc/\", \n",
    "                                       y_col_name)\n",
    "          path_models <- stringr::str_c(\"P:/studydata/match/models/\", \n",
    "                                        y_col_name)},\n",
    "        \n",
    "        # IOS paths\n",
    "        Darwin = {\n",
    "          path_input <- stringr::str_c(\"/Volumes/private/studydata/match/chtc/\", \n",
    "                                       y_col_name)\n",
    "          path_models <- stringr::str_c(\"/Volumes/private/studydata/match/models/\", \n",
    "                                        y_col_name)},\n",
    "        \n",
    "        # Linux paths\n",
    "        Linux = {\n",
    "          path_input <- stringr::str_c(\"~/mnt/private/studydata/match/chtc/\", \n",
    "                                       y_col_name)\n",
    "          path_models <- stringr::str_c(\"~/mnt/private/studydata/match/models/\", \n",
    "                                        y_col_name)}\n",
    ")\n"
   ],
   "id": "7393e814-82c6-4bf7-8d29-06f36c30f79e"
  },
  {
   "cell_type": "markdown",
   "metadata": {},
   "source": [
    "Chunk Defaults"
   ],
   "id": "16e76385-dd18-4f39-8740-beba72c498c9"
  },
  {
   "cell_type": "code",
   "execution_count": null,
   "metadata": {},
   "outputs": [],
   "source": [
    "\n",
    "knitr::opts_chunk$set(attr.output='style=\"max-height: 500px;\"')\n",
    "\n",
    "options(tibble.width = Inf)\n",
    "options(tibble.print_max = Inf)\n"
   ],
   "id": "e078d535-5682-4452-b793-7532959fa5b9"
  },
  {
   "cell_type": "markdown",
   "metadata": {},
   "source": [
    "### Read in best configuration\n",
    "\n",
    "Selected in 1_metrics_inner (k-fold CV)"
   ],
   "id": "b67ae35e-7064-4bd2-89e5-db39b59572a2"
  },
  {
   "cell_type": "code",
   "execution_count": null,
   "metadata": {},
   "outputs": [
    {
     "output_type": "stream",
     "name": "stdout",
     "text": [
      "Rows: 1\n",
      "Columns: 9\n",
      "$ n_jobs      <dbl> 10\n",
      "$ algorithm   <chr> \"glmnet_manual\"\n",
      "$ feature_set <chr> \"scale_dummy\"\n",
      "$ hp1         <dbl> 0.1\n",
      "$ hp2         <dbl> 0.1542244\n",
      "$ hp3         <lgl> NA\n",
      "$ resample    <chr> \"none\"\n",
      "$ roc_auc     <dbl> 0.6830971\n",
      "$ n_tx        <dbl> 50"
     ]
    }
   ],
   "source": [
    "best_config <- read_csv(file.path(path_models, \n",
    "                                  str_c(\"best_config_\", version, \".csv\")),\n",
    "                        show_col_types = FALSE)\n",
    "\n",
    "glimpse(best_config)\n"
   ],
   "id": "5a6089c2-a587-4c0a-987e-98427824d808"
  },
  {
   "cell_type": "markdown",
   "metadata": {},
   "source": [
    "### Fit best model in full dataset\n",
    "\n",
    "**NOTE**: This model will only be used for 1) examining parameter estimates, and 2) ultimate dissemination."
   ],
   "id": "5b3da3a5-4c09-4745-a138-b23e3b192299"
  },
  {
   "cell_type": "code",
   "execution_count": null,
   "metadata": {},
   "outputs": [],
   "source": [
    "batch_names <- list.dirs(path_input, full.names = FALSE, recursive = FALSE) \n",
    "\n",
    "batch_name <- batch_names[str_detect(batch_names, \"train\") & \n",
    "                            str_detect(batch_names, cv) &\n",
    "                            str_detect(batch_names, version) &\n",
    "                            str_detect(batch_names, best_config$algorithm)] \n",
    "\n",
    "path_batch <- file.path(path_input, batch_name)\n",
    "source(file.path(path_batch, \"input\", \"training_controls.R\"))\n",
    "\n",
    "d <- read_csv(file.path(path_batch, \"input\", \"data_trn.csv\"), \n",
    "              show_col_types = FALSE) \n",
    "\n",
    "d_outcomes <- d |> \n",
    "  select(subid, ends_with(\"outcome\") & contains(\"hybrid\"))\n",
    "\n",
    "d <- format_data(d) \n",
    "\n",
    "rec <- build_recipe(d = d, config = best_config)\n",
    "\n",
    "rec_prepped_full <- rec |> \n",
    "  prep(training = d, strings_as_factors = FALSE)\n",
    "\n",
    "feat_all <- rec_prepped_full |> \n",
    "  bake(new_data = NULL)\n",
    "\n",
    "model_best_full <- fit_best_model(best_model = best_config, \n",
    "                                  feat = feat_all, \n",
    "                                  ml_mode = \"classification\")\n"
   ],
   "id": "4479e89d-6998-48f6-8d3e-80988455b30b"
  },
  {
   "cell_type": "markdown",
   "metadata": {},
   "source": [
    "### Model coefficients\n",
    "\n",
    "**NOTE**: Coefficients are naturally inverted (i.e., positive class \\[abstinence\\] treated as first \\[vs. second\\] class). Here, we multiply coefficients by -1 to align the direction of coefficients with the rest of our analyses. Once flipped (i.e., as they appear below)…\n",
    "\n",
    "A *positive coefficient* indicates that increases in the feature *increase* the likelihood of abstinence. For example, increases in motivation to quit (“motive_quit_order”) *increase* the likelihood of abstinence.\n",
    "\n",
    "A *negative coefficient* indicates that increases in the feature *decrease* the likelihood of smoking. For example, increases in carbon monoxide (“co”) *decrease* the likelihood of abstinence."
   ],
   "id": "76832387-6061-4026-8f02-8b3d9e0d7f17"
  },
  {
   "cell_type": "code",
   "execution_count": null,
   "metadata": {},
   "outputs": [
    {
     "output_type": "stream",
     "name": "stderr",
     "text": [
      "Loaded glmnet 4.1-8"
     ]
    }
   ],
   "source": [
    "model_tidy <- tidy(model_best_full)\n"
   ],
   "id": "e34d10e2-3997-47f6-8f3c-9e0528048b0b"
  },
  {
   "cell_type": "code",
   "execution_count": null,
   "metadata": {},
   "outputs": [
    {
     "output_type": "display_data",
     "metadata": {},
     "data": {
      "text/markdown": [
       "  -----------------------------------------------------------------------------------\n",
       "  term                                                                       estimate\n",
       "  ------------------------------------------------------------------------ ----------\n",
       "  (Intercept)                                                                 -0.9527\n",
       "\n",
       "  co                                                                          -0.1268\n",
       "\n",
       "  race_ehr_white                                                               0.1130\n",
       "\n",
       "  wisdm37_en_goad_scale                                                       -0.0791\n",
       "\n",
       "  treatment_varenicline_x_confident_quit_order_09                              0.0730\n",
       "\n",
       "  age_ehr                                                                      0.0696\n",
       "\n",
       "  wsws_crave_scale                                                            -0.0677\n",
       "\n",
       "  alc_qty_order_09                                                             0.0571\n",
       "\n",
       "  race_ehr_black_african_american                                             -0.0569\n",
       "\n",
       "  alc_freq_order_02                                                            0.0524\n",
       "\n",
       "  treatment_varenicline_x_income_order_1                                      -0.0522\n",
       "\n",
       "  longest_quit_order_2                                                        -0.0496\n",
       "\n",
       "  life_satisfaction_order_2                                                   -0.0473\n",
       "\n",
       "  confident_quit_order_09                                                      0.0470\n",
       "\n",
       "  time_around_smokers_order_1                                                  0.0465\n",
       "\n",
       "  income_order_1                                                              -0.0464\n",
       "\n",
       "  motive_quit_order_10                                                         0.0461\n",
       "\n",
       "  treatment_patch_x_time_around_smokers_order_3                               -0.0431\n",
       "\n",
       "  last_rct_quit_order_7                                                       -0.0421\n",
       "\n",
       "  treatment_varenicline_x_marital_status_ehr_divorced                         -0.0419\n",
       "\n",
       "  treatment_combo_nrt_x_alc_freq_order_10                                      0.0409\n",
       "\n",
       "  wisdm37_tolerance_scale                                                     -0.0408\n",
       "\n",
       "  smoke_menthol_no                                                             0.0374\n",
       "\n",
       "  sip2r_total_scale                                                           -0.0360\n",
       "\n",
       "  shp_total_scale                                                              0.0358\n",
       "\n",
       "  treatment_varenicline_x_berlin_7_order_2                                     0.0332\n",
       "\n",
       "  employment_unemployed                                                       -0.0327\n",
       "\n",
       "  treatment_combo_nrt_x_smoke_menthol_yes                                     -0.0327\n",
       "\n",
       "  time_around_smokers_order_3                                                 -0.0323\n",
       "\n",
       "  treatment_combo_nrt_x_berlin_7_order_5                                       0.0315\n",
       "\n",
       "  alc_freq_order_05                                                           -0.0314\n",
       "\n",
       "  treatment_patch_x_tried_chantix_yes                                         -0.0309\n",
       "\n",
       "  smoke_menthol_yes                                                           -0.0303\n",
       "\n",
       "  alc_binge_order_06                                                          -0.0299\n",
       "\n",
       "  treatment_varenicline_x_used_pipe_tried                                      0.0296\n",
       "\n",
       "  hdsm_pain                                                                   -0.0290\n",
       "\n",
       "  treatment_combo_nrt_x_last_rct_quit_order_5                                  0.0286\n",
       "\n",
       "  treatment_combo_nrt_x_time_around_smokers_weekend_order_4                   -0.0281\n",
       "\n",
       "  years_smoke                                                                  0.0277\n",
       "\n",
       "  cigs_per_day_heaviest                                                       -0.0275\n",
       "\n",
       "  live_with_smoker_yes                                                        -0.0272\n",
       "\n",
       "  hdsm_tired                                                                  -0.0259\n",
       "\n",
       "  life_satisfaction_order_5                                                    0.0254\n",
       "\n",
       "  tot_quit_attempt                                                             0.0235\n",
       "\n",
       "  treatment_combo_nrt_x_time_around_smokers_weekend_order_2                    0.0227\n",
       "\n",
       "  treatment_varenicline_x_alc_qty_order_09                                     0.0225\n",
       "\n",
       "  alc_binge_order_08                                                           0.0215\n",
       "\n",
       "  wsws_hunger_scale                                                            0.0213\n",
       "\n",
       "  life_enjoyment_order_3                                                      -0.0205\n",
       "\n",
       "  alc_freq_order_10                                                            0.0188\n",
       "\n",
       "  treatment_combo_nrt_x_motive_quit_order_09                                  -0.0170\n",
       "\n",
       "  treatment_varenicline_x_life_satisfaction_order_5                            0.0160\n",
       "\n",
       "  treatment_varenicline_x_race_ehr_white                                       0.0159\n",
       "\n",
       "  motive_quit_order_09                                                        -0.0159\n",
       "\n",
       "  treatment_combo_nrt_x_longest_quit_order_2                                  -0.0158\n",
       "\n",
       "  longest_quit_order_8                                                         0.0148\n",
       "\n",
       "  time_around_smokers_order_5                                                 -0.0140\n",
       "\n",
       "  treatment_combo_nrt_x_smoke_menthol_no                                       0.0131\n",
       "\n",
       "  last_rct_quit_order_6                                                        0.0126\n",
       "\n",
       "  longest_quit_order_4                                                        -0.0125\n",
       "\n",
       "  cigs_per_day                                                                -0.0123\n",
       "\n",
       "  treatment_patch_x_tried_zyban_yes                                           -0.0114\n",
       "\n",
       "  alc_freq_order_08                                                            0.0109\n",
       "\n",
       "  marital_status_ehr_married                                                   0.0104\n",
       "\n",
       "  treatment_varenicline_x_used_e_cig_never_tried                               0.0097\n",
       "\n",
       "  phq9_severity_scale_order_2                                                 -0.0092\n",
       "\n",
       "  treatment_varenicline_x_life_enjoyment_order_4                               0.0090\n",
       "\n",
       "  dts_absorption_scale                                                        -0.0080\n",
       "\n",
       "  wisdm37_auto_scale                                                          -0.0077\n",
       "\n",
       "  used_pipe_never_tried                                                       -0.0074\n",
       "\n",
       "  treatment_combo_nrt_x_live_with_smoker_live_alone_or_only_with_partner       0.0074\n",
       "\n",
       "  treatment_patch_x_psych_depression_yes                                      -0.0068\n",
       "\n",
       "  treatment_varenicline_x_time_around_smokers_order_4                          0.0067\n",
       "\n",
       "  treatment_varenicline_x_motive_quit_order_10                                 0.0067\n",
       "\n",
       "  treatment_varenicline_x_quit_success_30d_order_7                             0.0067\n",
       "\n",
       "  treatment_combo_nrt_x_life_enjoyment_order_7                                 0.0065\n",
       "\n",
       "  treatment_varenicline_x_income_order_6                                       0.0062\n",
       "\n",
       "  life_enjoyment_order_5                                                      -0.0062\n",
       "\n",
       "  dts_tolerance_scale                                                         -0.0059\n",
       "\n",
       "  treatment_combo_nrt_x_confident_quit_order_10                               -0.0047\n",
       "\n",
       "  time_around_smokers_weekend_order_2                                          0.0047\n",
       "\n",
       "  treatment_combo_nrt_x_life_satisfaction_order_5                              0.0045\n",
       "\n",
       "  treatment_varenicline_x_work_ban_no_smoking_allowed                          0.0041\n",
       "\n",
       "  treatment_combo_nrt_x_psych_depression_yes                                  -0.0036\n",
       "\n",
       "  treatment_patch_x_close_smoke_co_worker_yes                                  0.0034\n",
       "\n",
       "  income_order_7                                                               0.0031\n",
       "\n",
       "  treatment_combo_nrt_x_time_around_smokers_weekend_order_1                    0.0031\n",
       "\n",
       "  dts_regulation_scale                                                        -0.0031\n",
       "\n",
       "  treatment_varenicline_x_employment_employed_full_time                        0.0029\n",
       "\n",
       "  treatment_varenicline_x_life_enjoyment_order_5                              -0.0028\n",
       "\n",
       "  treatment_combo_nrt_x_motive_quit_order_10                                   0.0027\n",
       "\n",
       "  close_smoke_friend_yes                                                       0.0023\n",
       "\n",
       "  close_smoke_friend_no                                                       -0.0023\n",
       "\n",
       "  hrqol_1_order_4                                                              0.0022\n",
       "\n",
       "  used_pipe_tried                                                              0.0020\n",
       "\n",
       "  treatment_patch_x_spouse_smoke_yes                                          -0.0018\n",
       "\n",
       "  confident_quit_order_07                                                      0.0017\n",
       "\n",
       "  berlin_7_order_4                                                            -0.0014\n",
       "\n",
       "  treatment_varenicline_x_alc_binge_order_09                                   0.0013\n",
       "\n",
       "  treatment_patch_x_close_smoke_friend_no                                     -0.0012\n",
       "\n",
       "  treatment_varenicline_x_employment_unemployed                               -0.0011\n",
       "\n",
       "  phq9_severity_scale_order_3                                                  0.0011\n",
       "\n",
       "  hrqol_2                                                                     -0.0010\n",
       "\n",
       "  treatment_patch_x_time_around_smokers_weekend_order_3                       -0.0009\n",
       "\n",
       "  treatment_combo_nrt_x_berlin_6_order_3                                       0.0009\n",
       "\n",
       "  treatment_varenicline_x_marital_status_ehr_married                           0.0006\n",
       "\n",
       "  longest_quit_order_5                                                         0.0004\n",
       "\n",
       "  alc_freq_order_03                                                           -0.0003\n",
       "\n",
       "  treatment_combo_nrt_x_marital_status_ehr_never_married                      -0.0002\n",
       "\n",
       "  wisdm37_cue_scale                                                           -0.0002\n",
       "\n",
       "  treatment_varenicline_x_spouse_smoke_no                                      0.0001\n",
       "  -----------------------------------------------------------------------------------\n"
      ]
     }
    }
   ],
   "source": [
    "\n",
    "retained_vars <- model_tidy |> \n",
    "  mutate(estimate = estimate * -1) |> \n",
    "  filter(abs(estimate) > 0) |> \n",
    "  select(-penalty) |> \n",
    "  arrange(desc(abs(estimate)))\n",
    "\n",
    "knitr::kable(retained_vars, digits = 4)\n"
   ],
   "id": "3c64d13a-9109-48f7-8cd1-cba7651e3dca"
  },
  {
   "cell_type": "markdown",
   "metadata": {},
   "source": [
    "17.18% of features were retained by the glmnet solution (111 features of a total considered 646 features)."
   ],
   "id": "09abd56d-49c3-4911-9bba-eae00bccb9c1"
  },
  {
   "cell_type": "code",
   "execution_count": null,
   "metadata": {},
   "outputs": [
    {
     "output_type": "display_data",
     "metadata": {},
     "data": {
      "text/markdown": [
       "  -----------------------------------------------------------------------------------\n",
       "  term                                                                       estimate\n",
       "  ------------------------------------------------------------------------ ----------\n",
       "  treatment_varenicline_x_confident_quit_order_09                              0.0730\n",
       "\n",
       "  treatment_varenicline_x_income_order_1                                      -0.0522\n",
       "\n",
       "  treatment_patch_x_time_around_smokers_order_3                               -0.0431\n",
       "\n",
       "  treatment_varenicline_x_marital_status_ehr_divorced                         -0.0419\n",
       "\n",
       "  treatment_combo_nrt_x_alc_freq_order_10                                      0.0409\n",
       "\n",
       "  treatment_varenicline_x_berlin_7_order_2                                     0.0332\n",
       "\n",
       "  treatment_combo_nrt_x_smoke_menthol_yes                                     -0.0327\n",
       "\n",
       "  treatment_combo_nrt_x_berlin_7_order_5                                       0.0315\n",
       "\n",
       "  treatment_patch_x_tried_chantix_yes                                         -0.0309\n",
       "\n",
       "  treatment_varenicline_x_used_pipe_tried                                      0.0296\n",
       "\n",
       "  treatment_combo_nrt_x_last_rct_quit_order_5                                  0.0286\n",
       "\n",
       "  treatment_combo_nrt_x_time_around_smokers_weekend_order_4                   -0.0281\n",
       "\n",
       "  treatment_combo_nrt_x_time_around_smokers_weekend_order_2                    0.0227\n",
       "\n",
       "  treatment_varenicline_x_alc_qty_order_09                                     0.0225\n",
       "\n",
       "  treatment_combo_nrt_x_motive_quit_order_09                                  -0.0170\n",
       "\n",
       "  treatment_varenicline_x_life_satisfaction_order_5                            0.0160\n",
       "\n",
       "  treatment_varenicline_x_race_ehr_white                                       0.0159\n",
       "\n",
       "  treatment_combo_nrt_x_longest_quit_order_2                                  -0.0158\n",
       "\n",
       "  treatment_combo_nrt_x_smoke_menthol_no                                       0.0131\n",
       "\n",
       "  treatment_patch_x_tried_zyban_yes                                           -0.0114\n",
       "\n",
       "  treatment_varenicline_x_used_e_cig_never_tried                               0.0097\n",
       "\n",
       "  treatment_varenicline_x_life_enjoyment_order_4                               0.0090\n",
       "\n",
       "  treatment_combo_nrt_x_live_with_smoker_live_alone_or_only_with_partner       0.0074\n",
       "\n",
       "  treatment_patch_x_psych_depression_yes                                      -0.0068\n",
       "\n",
       "  treatment_varenicline_x_time_around_smokers_order_4                          0.0067\n",
       "\n",
       "  treatment_varenicline_x_motive_quit_order_10                                 0.0067\n",
       "\n",
       "  treatment_varenicline_x_quit_success_30d_order_7                             0.0067\n",
       "\n",
       "  treatment_combo_nrt_x_life_enjoyment_order_7                                 0.0065\n",
       "\n",
       "  treatment_varenicline_x_income_order_6                                       0.0062\n",
       "\n",
       "  treatment_combo_nrt_x_confident_quit_order_10                               -0.0047\n",
       "\n",
       "  treatment_combo_nrt_x_life_satisfaction_order_5                              0.0045\n",
       "\n",
       "  treatment_varenicline_x_work_ban_no_smoking_allowed                          0.0041\n",
       "\n",
       "  treatment_combo_nrt_x_psych_depression_yes                                  -0.0036\n",
       "\n",
       "  treatment_patch_x_close_smoke_co_worker_yes                                  0.0034\n",
       "\n",
       "  treatment_combo_nrt_x_time_around_smokers_weekend_order_1                    0.0031\n",
       "\n",
       "  treatment_varenicline_x_employment_employed_full_time                        0.0029\n",
       "\n",
       "  treatment_varenicline_x_life_enjoyment_order_5                              -0.0028\n",
       "\n",
       "  treatment_combo_nrt_x_motive_quit_order_10                                   0.0027\n",
       "\n",
       "  treatment_patch_x_spouse_smoke_yes                                          -0.0018\n",
       "\n",
       "  treatment_varenicline_x_alc_binge_order_09                                   0.0013\n",
       "\n",
       "  treatment_patch_x_close_smoke_friend_no                                     -0.0012\n",
       "\n",
       "  treatment_varenicline_x_employment_unemployed                               -0.0011\n",
       "\n",
       "  treatment_patch_x_time_around_smokers_weekend_order_3                       -0.0009\n",
       "\n",
       "  treatment_combo_nrt_x_berlin_6_order_3                                       0.0009\n",
       "\n",
       "  treatment_varenicline_x_marital_status_ehr_married                           0.0006\n",
       "\n",
       "  treatment_combo_nrt_x_marital_status_ehr_never_married                      -0.0002\n",
       "\n",
       "  treatment_varenicline_x_spouse_smoke_no                                      0.0001\n",
       "  -----------------------------------------------------------------------------------\n"
      ]
     }
    }
   ],
   "source": [
    "retained_vars_tx <- retained_vars |> \n",
    "  filter(str_detect(term, \"treatment_\")) |> \n",
    "  arrange(desc(abs(estimate))) \n",
    "\n",
    "knitr::kable(retained_vars_tx, digits = 4)\n"
   ],
   "id": "tbl-retained-tx-wk12"
  },
  {
   "cell_type": "markdown",
   "metadata": {},
   "source": [
    "42.34% of the retained features were treatment interaction features (47 treatment features of 111 retained features). Of the 435 available treatment interaction features, 11% were retained.\n",
    "\n",
    "### Calculate and calibrate probabilities\n",
    "\n",
    "Make triplicate dataset"
   ],
   "id": "8da7d180-440d-4001-acc0-9e0bf69dc4b7"
  },
  {
   "cell_type": "code",
   "execution_count": null,
   "metadata": {},
   "outputs": [],
   "source": [
    "d_patch <- d |> \n",
    "  mutate(treatment = \"patch\") \n",
    "\n",
    "d_combo <- d |> \n",
    "  mutate(treatment = \"combo_nrt\")\n",
    "\n",
    "d_varen <- d |> \n",
    "  mutate(treatment = \"varenicline\")\n",
    "\n",
    "d_trip <- bind_rows(d_patch, d_combo) |> \n",
    "  bind_rows(d_varen) |> \n",
    "  mutate(treatment = factor(treatment, \n",
    "                            levels = c(\n",
    "                              \"patch\",\n",
    "                              \"varenicline\",\n",
    "                              \"combo_nrt\")))\n"
   ],
   "id": "149743b9-35f9-4aca-b2f7-4a8db1bd3fc3"
  },
  {
   "cell_type": "markdown",
   "metadata": {},
   "source": [
    "Make function to: 1) hold out each sub once, 2) fit model with remaining 1085 subs, 3) get 3 raw predictions for held-out sub, 4) get calibrated predictions for held-out sub"
   ],
   "id": "2d21f52c-51cc-487b-9590-a43398ea7c42"
  },
  {
   "cell_type": "code",
   "execution_count": null,
   "metadata": {},
   "outputs": [],
   "source": [
    "get_triple_probs <- function(i_sub, best_config, d, d_trip){\n",
    "  \n",
    "  # hold out single subject\n",
    "  d_out <- d_trip |> \n",
    "    filter(subid == i_sub)\n",
    "  \n",
    "  d_in <- d |> \n",
    "    filter(subid != i_sub)\n",
    "  \n",
    "  # prep recipe \n",
    "  rec <- build_recipe(d = d_in, config = best_config)\n",
    "  rec_prepped <- rec |> \n",
    "    prep(training = d_in, strings_as_factors = FALSE)\n",
    "  \n",
    "  # bake feat_in and feat_out\n",
    "  feat_in <- rec_prepped |> \n",
    "    bake(new_data = NULL)\n",
    "  \n",
    "  feat_out <- rec_prepped |> \n",
    "    bake(new_data = d_out)\n",
    "  \n",
    "  # fit model\n",
    "  model_best <- fit_best_model(best_config, feat = feat_in,\n",
    "                               \"classification\")\n",
    "  \n",
    "  # raw (uncalibrated) predictions\n",
    "  preds_prob <- predict(model_best, feat_out,\n",
    "                        type = \"prob\")\n",
    "  \n",
    "  # fit calibration model\n",
    "  set.seed(2468)\n",
    "  cal_split <- d_in |> \n",
    "    initial_split(prop = 3/4, strata = y)\n",
    "  d_cal_in <- training(cal_split) \n",
    "  d_cal_out <- testing(cal_split)\n",
    "  \n",
    "  rec_cal_prepped <- rec |> \n",
    "    prep(training = d_cal_in, strings_as_factors = FALSE)\n",
    "  \n",
    "  feat_cal_in <- rec_cal_prepped |> \n",
    "    bake(new_data = NULL) \n",
    "  \n",
    "  feat_cal_out <- rec_cal_prepped |> \n",
    "    bake(new_data = d_cal_out) \n",
    "  \n",
    "  model_cal <- fit_best_model(best_config, feat = feat_cal_in, \"classification\")\n",
    "  \n",
    "  # beta calibration\n",
    "  beta <- predict(model_cal, feat_cal_out,\n",
    "                  type = \"prob\") |>\n",
    "    mutate(truth = feat_cal_out$y) |>\n",
    "    cal_estimate_beta(truth = truth,\n",
    "                      estimate = dplyr::starts_with(\".pred_\"),\n",
    "                      smooth = TRUE)\n",
    "  preds_prob_beta <- preds_prob |>\n",
    "    cal_apply(beta)\n",
    "  \n",
    "  # iso calibration\n",
    "  iso <- predict(model_cal, feat_cal_out,\n",
    "                 type = \"prob\") |>\n",
    "    mutate(truth = feat_cal_out$y) |>\n",
    "    cal_estimate_isotonic(truth = truth,\n",
    "                          estimate = dplyr::starts_with(\".pred_\"))\n",
    "  preds_prob_iso <- preds_prob |>\n",
    "    cal_apply(iso)\n",
    "  \n",
    "  # logistic calibration\n",
    "  logi <- predict(model_cal, feat_cal_out,\n",
    "                  type = \"prob\") |>\n",
    "    mutate(truth = feat_cal_out$y) |>\n",
    "    cal_estimate_logistic(truth = truth,\n",
    "                          estimate = dplyr::starts_with(\".pred_\"),\n",
    "                          smooth = TRUE)\n",
    "  preds_prob_logi <- preds_prob |>\n",
    "    cal_apply(logi)\n",
    "  \n",
    "  # combine raw and calibrated probs\n",
    "  probs <- tibble(subid = d_out$subid,\n",
    "                  tx = d_out$treatment,\n",
    "                  prob_raw = preds_prob[[str_c(\".pred_\", y_level_pos)]],\n",
    "                  prob_beta = preds_prob_beta[[str_c(\".pred_\", y_level_pos)]],\n",
    "                  prob_iso = preds_prob_iso[[str_c(\".pred_\", y_level_pos)]],\n",
    "                  prob_logi = preds_prob_logi[[str_c(\".pred_\", y_level_pos)]]) \n",
    "}\n"
   ],
   "id": "6d086df8-c566-4437-b3c4-11211ea788f5"
  },
  {
   "cell_type": "markdown",
   "metadata": {},
   "source": [
    "Map over participants so that each is held-out once"
   ],
   "id": "7edbb02a-08a2-4c40-9c11-519bc6a4245d"
  },
  {
   "cell_type": "code",
   "execution_count": null,
   "metadata": {},
   "outputs": [],
   "source": [
    "if(file.exists(file.path(path_models, \n",
    "                         str_c(\"trip_probs_\", version, \".csv\")))) {\n",
    "  all_probs <- read_csv(file.path(path_models, \n",
    "                                  str_c(\"trip_probs_\", version, \".csv\")),\n",
    "                        show_col_types = FALSE)\n",
    "} else {\n",
    "  all_probs <- d$subid |> \n",
    "    map(\\(i_sub) get_triple_probs(i_sub, best_config, d, d_trip)) |> \n",
    "    list_rbind()\n",
    "  \n",
    "  all_probs |> \n",
    "    write_csv(file.path(path_models, \n",
    "                        str_c(\"trip_probs_\", version, \".csv\")))\n",
    "}\n"
   ],
   "id": "6cfb8811-c640-4aaf-b587-18c0d08bc590"
  },
  {
   "cell_type": "markdown",
   "metadata": {},
   "source": [
    "### Make AIM 2 Dataset\n",
    "\n",
    "Pivot probabilities into wide format & select only raw probability (based on calibration validity check below)"
   ],
   "id": "12bf69bf-40a0-434c-8af8-c496557d251a"
  },
  {
   "cell_type": "code",
   "execution_count": null,
   "metadata": {},
   "outputs": [
    {
     "output_type": "stream",
     "name": "stdout",
     "text": [
      "Rows: 1,086\n",
      "Columns: 4\n",
      "$ subid            <dbl> 20010, 20015, 20030, 20049, 20051, 20072, 20077, 2008…\n",
      "$ prob_patch       <dbl> 0.1610573, 0.3272543, 0.2825550, 0.3491451, 0.4286955…\n",
      "$ prob_combo_nrt   <dbl> 0.1860530, 0.3877443, 0.3185973, 0.4018380, 0.4309108…\n",
      "$ prob_varenicline <dbl> 0.1601103, 0.5184533, 0.2743758, 0.4938523, 0.4883779…"
     ]
    }
   ],
   "source": [
    "raw_probs_wide <- all_probs |> \n",
    "  select(subid, tx, prob_raw) |> \n",
    "  pivot_wider(names_prefix = \"prob_\",\n",
    "              names_from = tx,\n",
    "              values_from = prob_raw)\n",
    "\n",
    "glimpse(raw_probs_wide)\n"
   ],
   "id": "51809b7d-3299-48cf-9972-2a0c0706f985"
  },
  {
   "cell_type": "markdown",
   "metadata": {},
   "source": [
    "Join with d & create new variables"
   ],
   "id": "74616f5d-575a-4b0c-a576-ef56231d6ebd"
  },
  {
   "cell_type": "code",
   "execution_count": null,
   "metadata": {},
   "outputs": [
    {
     "output_type": "stream",
     "name": "stdout",
     "text": [
      "Rows: 1,086\n",
      "Columns: 11\n",
      "$ subid            <dbl> 20010, 20015, 20030, 20049, 20051, 20072, 20077, 2008…\n",
      "$ tx_rct           <fct> patch, combo_nrt, patch, varenicline, patch, combo_nr…\n",
      "$ tx_best          <fct> combo_nrt, varenicline, combo_nrt, varenicline, varen…\n",
      "$ tx_match         <lgl> FALSE, FALSE, FALSE, TRUE, FALSE, FALSE, FALSE, FALSE…\n",
      "$ prob_best        <dbl> 0.1860530, 0.5184533, 0.3185973, 0.4938523, 0.4883779…\n",
      "$ outcome_rct_wk12 <fct> smoking, smoking, smoking, abstinent, smoking, smokin…\n",
      "$ outcome_rct_wk4  <chr> \"smoking\", \"smoking\", \"smoking\", \"smoking\", \"smoking\"…\n",
      "$ outcome_rct_wk26 <chr> \"smoking\", \"smoking\", \"smoking\", \"abstinent\", \"smokin…\n",
      "$ prob_patch       <dbl> 0.1610573, 0.3272543, 0.2825550, 0.3491451, 0.4286955…\n",
      "$ prob_combo_nrt   <dbl> 0.1860530, 0.3877443, 0.3185973, 0.4018380, 0.4309108…\n",
      "$ prob_varenicline <dbl> 0.1601103, 0.5184533, 0.2743758, 0.4938523, 0.4883779…"
     ]
    }
   ],
   "source": [
    "set.seed(52592)\n",
    "d_aim_2 <- d |> \n",
    "  select(subid, tx_rct = treatment, outcome_rct_wk12 = y) |> \n",
    "  left_join(raw_probs_wide, by = \"subid\") |> \n",
    "    mutate(tx_best = case_when(\n",
    "    prob_patch > prob_combo_nrt & prob_patch > prob_varenicline ~ \"patch\",\n",
    "    prob_combo_nrt > prob_patch & prob_combo_nrt > prob_varenicline ~ \"combo_nrt\",\n",
    "    prob_varenicline > prob_patch & prob_varenicline > prob_combo_nrt ~ \"varenicline\",\n",
    "    TRUE ~ NA_character_\n",
    "  )) |> \n",
    "  # handle ties (prefer CNRT and varenicline per clinical guidelines)\n",
    "  # sample among those if tied\n",
    "  mutate(tx_best = if_else(is.na(tx_best), case_when(\n",
    "    prob_patch == prob_combo_nrt ~ \"combo_nrt\",\n",
    "    prob_patch == prob_varenicline ~ \"varenicline\",\n",
    "    prob_combo_nrt == prob_varenicline ~ sample(c(\"combo_nrt\",\n",
    "                                                  \"varenicline\"), 1),\n",
    "    TRUE ~ NA_character_\n",
    "  ), tx_best)) |>  \n",
    "  mutate(prob_best = case_when(\n",
    "    tx_best == \"patch\" ~ prob_patch,\n",
    "    tx_best == \"combo_nrt\" ~ prob_combo_nrt,\n",
    "    tx_best == \"varenicline\" ~ prob_varenicline,\n",
    "    TRUE ~ NA_real_\n",
    "  )) |> \n",
    "  mutate(tx_best = factor(tx_best, \n",
    "                          levels = c(\n",
    "                            \"patch\",\n",
    "                            \"varenicline\",\n",
    "                            \"combo_nrt\"))) |> \n",
    "  mutate(tx_match = if_else(tx_best == tx_rct, TRUE, FALSE)) |> \n",
    "  left_join(d_outcomes, by = \"subid\") |> \n",
    "  select(-pp_hybrid_wk12_outcome, -pp_hybrid_wk1_outcome, \n",
    "         -pp_hybrid_yr3_outcome, -pp_hybrid_wk52_outcome) |> \n",
    "  rename(outcome_rct_wk4 = pp_hybrid_wk4_outcome,\n",
    "         outcome_rct_wk26 = pp_hybrid_wk26_outcome) |> \n",
    "  relocate(subid, tx_rct, tx_best, tx_match,\n",
    "           prob_best, starts_with(\"outcome\"), starts_with(\"prob\"))\n",
    "\n",
    "glimpse(d_aim_2)\n"
   ],
   "id": "15e8b7f4-54ef-4e87-9f1f-6c12a2ad6fa3"
  },
  {
   "cell_type": "markdown",
   "metadata": {},
   "source": [
    "Quick EDA checks"
   ],
   "id": "838c6186-1598-4d6b-95b8-c0400e35be0a"
  },
  {
   "cell_type": "code",
   "execution_count": null,
   "metadata": {},
   "outputs": [
    {
     "output_type": "stream",
     "name": "stdout",
     "text": [
      "# A tibble: 6 × 11\n",
      "  subid tx_rct      tx_best     tx_match prob_best outcome_rct_wk12\n",
      "  <dbl> <fct>       <fct>       <lgl>        <dbl> <fct>           \n",
      "1 20010 patch       combo_nrt   FALSE        0.186 smoking         \n",
      "2 20015 combo_nrt   varenicline FALSE        0.518 smoking         \n",
      "3 20030 patch       combo_nrt   FALSE        0.319 smoking         \n",
      "4 20049 varenicline varenicline TRUE         0.494 abstinent       \n",
      "5 20051 patch       varenicline FALSE        0.488 smoking         \n",
      "6 20072 combo_nrt   varenicline FALSE        0.467 smoking         \n",
      "  outcome_rct_wk4 outcome_rct_wk26 prob_patch prob_combo_nrt prob_varenicline\n",
      "  <chr>           <chr>                 <dbl>          <dbl>            <dbl>\n",
      "1 smoking         smoking               0.161          0.186            0.160\n",
      "2 smoking         smoking               0.327          0.388            0.518\n",
      "3 smoking         smoking               0.283          0.319            0.274\n",
      "4 smoking         abstinent             0.349          0.402            0.494\n",
      "5 smoking         smoking               0.429          0.431            0.488\n",
      "6 smoking         smoking               0.293          0.360            0.467"
     ]
    },
    {
     "output_type": "stream",
     "name": "stdout",
     "text": [
      "# A tibble: 3 × 3\n",
      "  tx_best         n   prop\n",
      "  <fct>       <int>  <dbl>\n",
      "1 patch          68 0.0626\n",
      "2 varenicline   689 0.634 \n",
      "3 combo_nrt     329 0.303 "
     ]
    },
    {
     "output_type": "stream",
     "name": "stdout",
     "text": [
      "# A tibble: 2 × 3\n",
      "  tx_match     n  prop\n",
      "  <lgl>    <int> <dbl>\n",
      "1 FALSE      679 0.625\n",
      "2 TRUE       407 0.375"
     ]
    },
    {
     "output_type": "stream",
     "name": "stdout",
     "text": [
      "# A tibble: 6 × 4\n",
      "# Groups:   tx_rct [3]\n",
      "  tx_rct      tx_match     n   prop\n",
      "  <fct>       <lgl>    <int>  <dbl>\n",
      "1 patch       FALSE      227 0.942 \n",
      "2 patch       TRUE        14 0.0581\n",
      "3 varenicline FALSE      154 0.363 \n",
      "4 varenicline TRUE       270 0.637 \n",
      "5 combo_nrt   FALSE      298 0.708 \n",
      "6 combo_nrt   TRUE       123 0.292 "
     ]
    }
   ],
   "source": [
    "# confirm logic worked as expected\n",
    "head(d_aim_2)\n"
   ],
   "id": "7ec0257a-1e62-44b7-8bca-e50dcfeda717"
  },
  {
   "cell_type": "markdown",
   "metadata": {},
   "source": [
    "Write out"
   ],
   "id": "a381763d-374c-40aa-8d5b-d9ba3bb572f9"
  },
  {
   "cell_type": "code",
   "execution_count": null,
   "metadata": {},
   "outputs": [],
   "source": [
    "d_aim_2 |> \n",
    "  write_csv(file.path(path_models, str_c(\"aim_2_\", version, \"_\", \n",
    "                                         y_col_name, \".csv\")))\n"
   ],
   "id": "ca0f74ce-c1cb-45bd-8985-6835175950e9"
  },
  {
   "cell_type": "markdown",
   "metadata": {},
   "source": [
    "### Validity check: Model Calibration\n",
    "\n",
    "Make wide format for all calibrated probabilities"
   ],
   "id": "36c5d945-8089-48e6-a6e6-665feba1e190"
  },
  {
   "cell_type": "code",
   "execution_count": null,
   "metadata": {},
   "outputs": [],
   "source": [
    "all_probs_wide <- all_probs |> \n",
    "  rename_with(~ str_replace(.x, \"prob_\", \"\"), .cols = starts_with(\"prob_\")) |> \n",
    "  pivot_wider(\n",
    "    names_from = tx,\n",
    "    values_from = c(raw, beta, iso, logi),\n",
    "    names_glue = \"{.value}_{tx}\"\n",
    "  )\n"
   ],
   "id": "91b1348a-f767-4b57-b07c-4f8d1454d0ba"
  },
  {
   "cell_type": "markdown",
   "metadata": {},
   "source": [
    "Set up validity check data"
   ],
   "id": "9a63eba0-e9ef-4123-847d-5b2e56fa04b3"
  },
  {
   "cell_type": "code",
   "execution_count": null,
   "metadata": {},
   "outputs": [],
   "source": [
    "d_valid <- d_aim_2 |> \n",
    "  select(subid, tx_rct, outcome_rct_wk12) |> \n",
    "  left_join(all_probs_wide, by = \"subid\") |> \n",
    "  mutate(beta = case_when(\n",
    "    tx_rct == \"patch\" ~ beta_patch,\n",
    "    tx_rct == \"combo_nrt\" ~ beta_combo_nrt,\n",
    "    tx_rct == \"varenicline\" ~ beta_varenicline,\n",
    "    TRUE ~ NA_real_\n",
    "  ),\n",
    "  raw = case_when(\n",
    "    tx_rct == \"patch\" ~ raw_patch,\n",
    "    tx_rct == \"combo_nrt\" ~ raw_combo_nrt,\n",
    "    tx_rct == \"varenicline\" ~ raw_varenicline,\n",
    "    TRUE ~ NA_real_\n",
    "  ),\n",
    "  isotonic = case_when(\n",
    "    tx_rct == \"patch\" ~ iso_patch,\n",
    "    tx_rct == \"combo_nrt\" ~ iso_combo_nrt,\n",
    "    tx_rct == \"varenicline\" ~ iso_varenicline,\n",
    "    TRUE ~ NA_real_\n",
    "  ),\n",
    "  logistic = case_when(\n",
    "    tx_rct == \"patch\" ~ logi_patch,\n",
    "    tx_rct == \"combo_nrt\" ~ logi_combo_nrt,\n",
    "    tx_rct == \"varenicline\" ~ logi_varenicline,\n",
    "    TRUE ~ NA_real_\n",
    "  )) |> \n",
    "  select(subid, outcome_rct_wk12, beta, raw, isotonic, logistic) \n"
   ],
   "id": "de027d3f-0d7c-4c00-87bc-952e4cd4f930"
  },
  {
   "cell_type": "markdown",
   "metadata": {},
   "source": [
    "#### Comparison of means\n",
    "\n",
    "Compare mean abstinence from RCT to predicted probabilities for RCT tx across calibrations"
   ],
   "id": "992d157e-9573-4503-ac8c-7b588c3aff8c"
  },
  {
   "cell_type": "code",
   "execution_count": null,
   "metadata": {},
   "outputs": [
    {
     "output_type": "stream",
     "name": "stdout",
     "text": [
      "# A tibble: 1 × 5\n",
      "  mean_rct mean_beta mean_iso mean_logi mean_raw\n",
      "     <dbl>     <dbl>    <dbl>     <dbl>    <dbl>\n",
      "1    0.290     0.284    0.205     0.288    0.290"
     ]
    }
   ],
   "source": [
    "d_valid |> \n",
    "  mutate(outcome_rct = if_else(outcome_rct_wk12 == \"abstinent\", 1, 0)) |> \n",
    "  summarize(mean_rct = mean(outcome_rct),\n",
    "            mean_beta = mean(beta),\n",
    "            mean_iso = mean(isotonic),\n",
    "            mean_logi = mean(logistic),\n",
    "            mean_raw = mean(raw))\n"
   ],
   "id": "36f1ab81-0a45-4d4c-a17f-9fdf70e767f3"
  },
  {
   "cell_type": "markdown",
   "metadata": {},
   "source": [
    "Raw probabilities match best, though beta and logistic calibration are close.\n",
    "\n",
    "#### Plots\n",
    "\n",
    "Pivot data longer for required format"
   ],
   "id": "473da568-465c-4feb-9283-dc6c5c2ad8e4"
  },
  {
   "cell_type": "code",
   "execution_count": null,
   "metadata": {},
   "outputs": [],
   "source": [
    "d_plot <- d_valid |> \n",
    "  pivot_longer(\n",
    "    cols = c(beta, raw, isotonic, logistic),\n",
    "    names_to = \"method\",\n",
    "    values_to = \".pred_abstinent\"\n",
    "  )\n"
   ],
   "id": "a83ce2b3-26ac-4ed2-b6cb-0d189880f759"
  },
  {
   "cell_type": "markdown",
   "metadata": {},
   "source": [
    "Make plots by calibration method"
   ],
   "id": "764c72b7-980d-4481-aeeb-342ebb00ff5f"
  },
  {
   "cell_type": "code",
   "execution_count": null,
   "metadata": {},
   "outputs": [
    {
     "output_type": "display_data",
     "metadata": {},
     "data": {
      "image/png": "[encoded data removed]"
     }
    },
    {
     "output_type": "display_data",
     "metadata": {},
     "data": {
      "image/png": "[encoded data removed]"
     }
    }
   ],
   "source": [
    "d_plot |> \n",
    "  cal_plot_breaks(truth = outcome_rct_wk12, \n",
    "                  estimate = .pred_abstinent,\n",
    "                  .by = method)\n"
   ],
   "id": "8bcf98ae-b6c6-4935-96e2-2a0dbfae0b29"
  },
  {
   "cell_type": "markdown",
   "metadata": {},
   "source": [
    "Raw and logistic look best. Raw follows the diagonal more closely in the first half, but logistic spans the full range. Upper half of logistic range has a very wide confidence interval/spread.\n",
    "\n",
    "#### Brier score\n",
    "\n",
    "Beta calibration"
   ],
   "id": "51a591fa-6f52-4757-b3ee-5eeca1dea79d"
  },
  {
   "cell_type": "code",
   "execution_count": null,
   "metadata": {},
   "outputs": [
    {
     "output_type": "stream",
     "name": "stdout",
     "text": [
      "[1] 0.1978052"
     ]
    }
   ],
   "source": [
    "brier_class_vec(truth = d_valid$outcome_rct_wk12,\n",
    "                estimate = d_valid$beta)\n"
   ],
   "id": "2a3f386c-715f-4ee8-83ef-2fd5d57e932f"
  },
  {
   "cell_type": "markdown",
   "metadata": {},
   "source": [
    "Logistic calibration"
   ],
   "id": "f7eeaea7-5dac-4fc8-bac2-166ae0bcddbf"
  },
  {
   "cell_type": "code",
   "execution_count": null,
   "metadata": {},
   "outputs": [
    {
     "output_type": "stream",
     "name": "stdout",
     "text": [
      "[1] 0.1993562"
     ]
    }
   ],
   "source": [
    "brier_class_vec(truth = d_valid$outcome_rct_wk12,\n",
    "                estimate = d_valid$logistic)\n"
   ],
   "id": "4e146e3d-3198-4512-b0f9-a12a2c2b7b20"
  },
  {
   "cell_type": "markdown",
   "metadata": {},
   "source": [
    "Isotonic calibration"
   ],
   "id": "b14a7911-f528-4e4d-af35-96b3efcc4457"
  },
  {
   "cell_type": "code",
   "execution_count": null,
   "metadata": {},
   "outputs": [
    {
     "output_type": "stream",
     "name": "stdout",
     "text": [
      "[1] 0.21211"
     ]
    }
   ],
   "source": [
    "brier_class_vec(truth = d_valid$outcome_rct_wk12,\n",
    "                estimate = d_valid$isotonic)\n"
   ],
   "id": "c9c3e274-6f90-4ee2-93ed-5afca820c12c"
  },
  {
   "cell_type": "markdown",
   "metadata": {},
   "source": [
    "Raw calibration"
   ],
   "id": "5c8aab26-83ac-48bf-8272-6b20d3bfbc2f"
  },
  {
   "cell_type": "code",
   "execution_count": null,
   "metadata": {},
   "outputs": [
    {
     "output_type": "stream",
     "name": "stdout",
     "text": [
      "[1] 0.1916881"
     ]
    }
   ],
   "source": [
    "brier_class_vec(truth = d_valid$outcome_rct_wk12,\n",
    "                estimate = d_valid$raw)\n"
   ],
   "id": "5504ba44-be0c-4510-a865-4d3f437e774f"
  },
  {
   "cell_type": "markdown",
   "metadata": {},
   "source": [
    "Raw calibration has the lowest Brier score (though all are relatively similar). In keeping with the other methods above, beta and logistic are next-best followed by isotonic last."
   ],
   "id": "449d9d6d-6cef-4b02-ab6d-28e7fc5511b6"
  }
 ],
 "nbformat": 4,
 "nbformat_minor": 5,
 "metadata": {}
}

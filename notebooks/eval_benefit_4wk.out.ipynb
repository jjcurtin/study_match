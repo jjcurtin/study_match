{
 "cells": [
  {
   "cell_type": "markdown",
   "metadata": {},
   "source": [
    "# Evaluation of Clinical Benefit: Week 4 Model\n",
    "\n",
    "Gaylen Fronk  \n",
    "May 20, 2024"
   ],
   "id": "8d7a538e-8954-4d64-9fd1-238c6a701cb6"
  },
  {
   "cell_type": "code",
   "execution_count": null,
   "metadata": {},
   "outputs": [],
   "source": [
    "study <- params$study\n",
    "version <- params$version\n",
    "y_col_name <- params$y_col_name\n"
   ],
   "id": "497be0d6-5359-408a-8eab-2a2b674c6455"
  },
  {
   "cell_type": "code",
   "execution_count": null,
   "metadata": {},
   "outputs": [
    {
     "output_type": "stream",
     "name": "stderr",
     "text": [
      "── Attaching core tidyverse packages ──────────────────────── tidyverse 2.0.0 ──\n",
      "✔ dplyr     1.1.4     ✔ readr     2.1.5\n",
      "✔ forcats   1.0.0     ✔ stringr   1.5.1\n",
      "✔ ggplot2   3.5.1     ✔ tibble    3.2.1\n",
      "✔ lubridate 1.9.3     ✔ tidyr     1.3.1\n",
      "✔ purrr     1.0.2     \n",
      "── Conflicts ────────────────────────────────────────── tidyverse_conflicts() ──\n",
      "✖ dplyr::filter() masks stats::filter()\n",
      "✖ dplyr::lag()    masks stats::lag()\n",
      "ℹ Use the conflicted package (<http://conflicted.r-lib.org/>) to force all conflicts to become errors"
     ]
    },
    {
     "output_type": "stream",
     "name": "stderr",
     "text": [
      "Loading required package: lme4\n",
      "Loading required package: Matrix\n",
      "\n",
      "Attaching package: 'Matrix'\n",
      "\n",
      "The following objects are masked from 'package:tidyr':\n",
      "\n",
      "    expand, pack, unpack"
     ]
    },
    {
     "output_type": "stream",
     "name": "stderr",
     "text": [
      "ℹ SHA-1 hash of file is \"c045eee2655a18dc85e715b78182f176327358a7\""
     ]
    },
    {
     "output_type": "stream",
     "name": "stderr",
     "text": [
      "ℹ SHA-1 hash of file is \"b58b9e0adc05e89609ee8bc6f20c39375b262fe6\""
     ]
    }
   ],
   "source": [
    "\n",
    "# packages for script\n",
    "library(tidyverse)\n"
   ],
   "id": "62636ba0-8b2c-40e6-afd8-1d6060d61b30"
  },
  {
   "cell_type": "code",
   "execution_count": null,
   "metadata": {},
   "outputs": [],
   "source": [
    "\n",
    "# handle conflicts\n",
    "options(conflicts.policy = \"depends.ok\")\n"
   ],
   "id": "f1637c8e-dae6-4f79-a64d-fed12acaf23e"
  },
  {
   "cell_type": "code",
   "execution_count": null,
   "metadata": {},
   "outputs": [],
   "source": [
    "# absolute paths\n",
    "switch (Sys.info()[['sysname']],\n",
    "        # PC paths\n",
    "        Windows = {\n",
    "          path_models <- str_c(\"P:/studydata/match/models/\", y_col_name)},\n",
    "        \n",
    "        # IOS paths\n",
    "        Darwin = {\n",
    "          path_models <- str_c(\"/Volumes/private/studydata/match/models/\", y_col_name)},\n",
    "        \n",
    "        # Linux paths\n",
    "        Linux = {\n",
    "          path_models <- str_c(\"~/mnt/private/studydata/match/models/\", y_col_name)}\n",
    ")\n"
   ],
   "id": "47f016aa-6274-45f1-99de-1870157af50d"
  },
  {
   "cell_type": "code",
   "execution_count": null,
   "metadata": {},
   "outputs": [],
   "source": [
    "# chunk defaults\n",
    "\n",
    "options(tibble.width = Inf)\n",
    "options(tibble.print_max = Inf)\n"
   ],
   "id": "4a43fadd-af82-4016-8f92-c2523ad7d41c"
  },
  {
   "cell_type": "markdown",
   "metadata": {},
   "source": [
    "Read in aim 2 dataset"
   ],
   "id": "33878951-d5d8-4131-a294-d86c1a36fb93"
  },
  {
   "cell_type": "code",
   "execution_count": null,
   "metadata": {},
   "outputs": [
    {
     "output_type": "stream",
     "name": "stdout",
     "text": [
      "Rows: 3,258\n",
      "Columns: 16\n",
      "$ subid            <dbl> 20010, 20010, 20010, 20015, 20015, 20015, 20030, 2003…\n",
      "$ tx_rct           <chr> \"patch\", \"patch\", \"patch\", \"combo_nrt\", \"combo_nrt\", …\n",
      "$ tx_best          <chr> \"varenicline\", \"varenicline\", \"varenicline\", \"varenic…\n",
      "$ tx_match         <lgl> FALSE, FALSE, FALSE, FALSE, FALSE, FALSE, FALSE, FALS…\n",
      "$ tx_worst         <chr> \"combo_nrt\", \"combo_nrt\", \"combo_nrt\", \"patch\", \"patc…\n",
      "$ tx_second        <chr> \"patch\", \"patch\", \"patch\", \"combo_nrt\", \"combo_nrt\", …\n",
      "$ tx_rank          <chr> \"second\", \"second\", \"second\", \"second\", \"second\", \"se…\n",
      "$ prob_best        <dbl> 0.4606941, 0.4606941, 0.4606941, 0.6425940, 0.6425940…\n",
      "$ prob_patch       <dbl> 0.3623282, 0.3623282, 0.3623282, 0.5838388, 0.5838388…\n",
      "$ prob_combo_nrt   <dbl> 0.3074446, 0.3074446, 0.3074446, 0.6021400, 0.6021400…\n",
      "$ prob_varenicline <dbl> 0.4606941, 0.4606941, 0.4606941, 0.6425940, 0.6425940…\n",
      "$ week             <dbl> 4, 12, 26, 4, 12, 26, 4, 12, 26, 4, 12, 26, 4, 12, 26…\n",
      "$ outcome_rct_num  <dbl> 0, 0, 0, 0, 0, 0, 0, 0, 0, 0, 1, 1, 0, 0, 0, 0, 0, 0,…\n",
      "$ c_tx_match       <dbl> -0.5, -0.5, -0.5, -0.5, -0.5, -0.5, -0.5, -0.5, -0.5,…\n",
      "$ week_log_2       <dbl> 2.000000, 3.584963, 4.700440, 2.000000, 3.584963, 4.7…\n",
      "$ c4_week_log_2    <dbl> 0.000000, 1.584963, 2.700440, 0.000000, 1.584963, 2.7…"
     ]
    }
   ],
   "source": [
    "d <- read_csv(file.path(path_models, \n",
    "                        str_c(\"aim_2_\", version, \"_\", y_col_name, \".csv\")),\n",
    "              show_col_types = FALSE) |> \n",
    "  mutate(outcome_rct_wk4_num = if_else(outcome_rct_wk4 == \"abstinent\", 1, 0),\n",
    "         outcome_rct_wk12_num = if_else(outcome_rct_wk12 == \"abstinent\", 1, 0),\n",
    "         outcome_rct_wk26_num = if_else(outcome_rct_wk26 == \"abstinent\", 1, 0),\n",
    "         tx_worst = case_when(\n",
    "           prob_patch < prob_combo_nrt & prob_patch < prob_varenicline ~ \"patch\",\n",
    "           prob_combo_nrt < prob_patch & prob_combo_nrt < prob_varenicline ~ \"combo_nrt\",\n",
    "           prob_varenicline < prob_patch & prob_varenicline < prob_combo_nrt ~ \"varenicline\",\n",
    "           TRUE ~ NA_character_),\n",
    "         tx_second = case_when(\n",
    "           tx_worst == \"patch\" & tx_best == \"varenicline\" ~ \"combo_nrt\",\n",
    "           tx_worst == \"patch\" & tx_best == \"combo_nrt\" ~ \"varenicline\",\n",
    "           tx_worst == \"varenicline\" & tx_best == \"patch\" ~ \"combo_nrt\",\n",
    "           tx_worst == \"varenicline\" & tx_best == \"combo_nrt\" ~ \"patch\",\n",
    "           tx_worst == \"combo_nrt\" & tx_best == \"varenicline\" ~ \"patch\",\n",
    "           tx_worst == \"combo_nrt\" & tx_best == \"patch\" ~ \"varenicline\",\n",
    "           TRUE ~ NA_character_)) |> \n",
    "  mutate(tx_rank = case_when(\n",
    "    tx_rct == tx_best ~ \"first\",\n",
    "    tx_rct == tx_second ~ \"second\",\n",
    "    tx_rct == tx_worst ~ \"third\",\n",
    "    TRUE ~ NA_character_)) |> \n",
    "  select(subid, starts_with(\"tx_\"), starts_with(\"prob_\"),\n",
    "         outcome_rct_wk4_num, outcome_rct_wk12_num, outcome_rct_wk26_num) |> \n",
    "  pivot_longer(\n",
    "    cols = c(outcome_rct_wk4_num, outcome_rct_wk12_num, outcome_rct_wk26_num),\n",
    "    names_to = \"week\",\n",
    "    names_pattern = \"(?<=outcome_rct_wk)(.+)(?=_num)\",\n",
    "    values_to = \"outcome_rct_num\"\n",
    "  ) |> \n",
    "  mutate(c_tx_match = if_else(tx_match == TRUE, 0.5, -0.5), # center\n",
    "         week = as.numeric(week)) |> \n",
    "  # log transformation\n",
    "  mutate(week_log_2 = log(week, base = 2)) |> \n",
    "  # week 4-centered log transformation\n",
    "  mutate(c4_week_log_2 = week_log_2 - log(4, base = 2))\n",
    "\n",
    "glimpse(d)\n"
   ],
   "id": "f7b1e3b5-9079-4da0-821f-eba1d64697b7"
  },
  {
   "cell_type": "markdown",
   "metadata": {},
   "source": [
    "## Analyses\n",
    "\n",
    "### Primary model\n",
    "\n",
    "*NOTE*: differs from preregistration (base 2 instead of base e)\n",
    "\n",
    "4-week-centered, log-transformed week (base 2)"
   ],
   "id": "1931f078-e7aa-4ad0-836b-c1448d0dfba5"
  },
  {
   "cell_type": "code",
   "execution_count": null,
   "metadata": {},
   "outputs": [
    {
     "output_type": "stream",
     "name": "stderr",
     "text": [
      "Model already exists for version v5. Reading in existing model"
     ]
    }
   ],
   "source": [
    "if(file.exists(file.path(path_models, \n",
    "                         str_c(\"model_clin_benefit_\", version, \".rds\")))){\n",
    "  message(str_c(\"Model already exists for version \", \n",
    "                version, \". Reading in existing model\"))\n",
    "  \n",
    "  model_bayes <- read_rds(file.path(path_models, \n",
    "                                    str_c(\"model_clin_benefit_\", version, \".rds\")))\n",
    "  \n",
    "} else {\n",
    "  message(\"Fitting new model & saving out\")\n",
    "  model_bayes <- blme::bglmer(outcome_rct_num ~ c_tx_match * c4_week_log_2 + \n",
    "                                (1 + c4_week_log_2 | subid),\n",
    "                              data = d,\n",
    "                              family = binomial(link = \"logit\"),\n",
    "                              control = glmerControl(optCtrl = list(maxfun = 3e6)))\n",
    "  \n",
    "  model_bayes |> \n",
    "    write_rds(file.path(path_models, \n",
    "                        str_c(\"model_clin_benefit_\", version, \".rds\")))\n",
    "}\n"
   ],
   "id": "3411679e-5953-433a-b5e2-efe57d588093"
  },
  {
   "cell_type": "markdown",
   "metadata": {},
   "source": [
    "Evaluate model"
   ],
   "id": "81b8b8d2-9986-4d57-8adc-cf9e7db992b6"
  },
  {
   "cell_type": "code",
   "execution_count": null,
   "metadata": {},
   "outputs": [
    {
     "output_type": "stream",
     "name": "stdout",
     "text": [
      "Cov prior  : subid ~ wishart(df = 4.5, scale = Inf, posterior.scale = cov, common.scale = TRUE)\n",
      "Prior dev  : -1.5157\n",
      "\n",
      "Generalized linear mixed model fit by maximum likelihood (Laplace\n",
      "  Approximation) [bglmerMod]\n",
      " Family: binomial  ( logit )\n",
      "Formula: outcome_rct_num ~ c_tx_match * c4_week_log_2 + (1 + c4_week_log_2 |  \n",
      "    subid)\n",
      "   Data: d\n",
      "Control: glmerControl(optCtrl = list(maxfun = 3e+06))\n",
      "\n",
      "     AIC      BIC   logLik deviance df.resid \n",
      "  3045.9   3088.6  -1516.0   3031.9     3251 \n",
      "\n",
      "Scaled residuals: \n",
      "     Min       1Q   Median       3Q      Max \n",
      "-1.60825 -0.32784 -0.06676  0.17412  1.59916 \n",
      "\n",
      "Random effects:\n",
      " Groups Name          Variance Std.Dev. Corr\n",
      " subid  (Intercept)   3.977    1.994        \n",
      "        c4_week_log_2 5.848    2.418    0.94\n",
      "Number of obs: 3258, groups:  subid, 1086\n",
      "\n",
      "Fixed effects:\n",
      "                         Estimate Std. Error z value Pr(>|z|)    \n",
      "(Intercept)              -1.05563    0.16229  -6.505 7.79e-11 ***\n",
      "c_tx_match                1.46351    0.25949   5.640 1.70e-08 ***\n",
      "c4_week_log_2            -1.52052    0.15285  -9.948  < 2e-16 ***\n",
      "c_tx_match:c4_week_log_2 -0.04555    0.21204  -0.215     0.83    \n",
      "---\n",
      "Signif. codes:  0 '***' 0.001 '**' 0.01 '*' 0.05 '.' 0.1 ' ' 1\n",
      "\n",
      "Correlation of Fixed Effects:\n",
      "            (Intr) c_tx_m c4___2\n",
      "c_tx_match  -0.301              \n",
      "c4_wek_lg_2 -0.142  0.216       \n",
      "c_tx_:4___2  0.247  0.000 -0.009"
     ]
    }
   ],
   "source": [
    "summary(model_bayes)\n"
   ],
   "id": "2c870d11-446b-4beb-b960-69bcc0a6b714"
  },
  {
   "cell_type": "markdown",
   "metadata": {},
   "source": [
    "### Follow-up analyses: Simple Effects\n",
    "\n",
    "From preregistration: If the interaction between `tx_match` and `week` is significant (*p* \\< 0.05), we will conduct follow-up analyses to test the simple effect of `tx_match` at each time point.\n",
    "\n",
    "Interaction between `tx_match` and `week` was not significant (*p* = 0.83); however, we have opted to conduct simple effects analyses to more fully characterize our findings in probability terms and given known issues with conducting and interpreting interactions in logistic regression models.\n",
    "\n",
    "Simple effect at 4 weeks"
   ],
   "id": "726b9ab0-05a1-433a-af0f-804103d7e383"
  },
  {
   "cell_type": "code",
   "execution_count": null,
   "metadata": {},
   "outputs": [
    {
     "output_type": "stream",
     "name": "stdout",
     "text": [
      "\n",
      "Call:\n",
      "glm(formula = outcome_rct_num ~ c_tx_match, family = binomial(link = \"logit\"), \n",
      "    data = d_4)\n",
      "\n",
      "Coefficients:\n",
      "            Estimate Std. Error z value Pr(>|z|)    \n",
      "(Intercept) -0.64710    0.06640  -9.746   <2e-16 ***\n",
      "c_tx_match   0.06618    0.13279   0.498    0.618    \n",
      "---\n",
      "Signif. codes:  0 '***' 0.001 '**' 0.01 '*' 0.05 '.' 0.1 ' ' 1\n",
      "\n",
      "(Dispersion parameter for binomial family taken to be 1)\n",
      "\n",
      "    Null deviance: 1394.7  on 1085  degrees of freedom\n",
      "Residual deviance: 1394.4  on 1084  degrees of freedom\n",
      "AIC: 1398.4\n",
      "\n",
      "Number of Fisher Scoring iterations: 4"
     ]
    }
   ],
   "source": [
    "d_4 <- d |> \n",
    "  filter(week == 4)\n",
    "\n",
    "model_4wk <- glm(outcome_rct_num ~ c_tx_match, \n",
    "                 data = d_4,\n",
    "                 family = binomial(link = \"logit\"))\n",
    "\n",
    "summary(model_4wk)\n"
   ],
   "id": "f05e47f6-6dfd-4d67-8dc3-2b6b50e58a21"
  },
  {
   "cell_type": "markdown",
   "metadata": {},
   "source": [
    "Simple effect at 12 weeks"
   ],
   "id": "1c71c8de-915f-401c-b70e-b3c6ba26f8a0"
  },
  {
   "cell_type": "code",
   "execution_count": null,
   "metadata": {},
   "outputs": [
    {
     "output_type": "stream",
     "name": "stdout",
     "text": [
      "\n",
      "Call:\n",
      "glm(formula = outcome_rct_num ~ c_tx_match, family = binomial(link = \"logit\"), \n",
      "    data = d_12)\n",
      "\n",
      "Coefficients:\n",
      "            Estimate Std. Error z value Pr(>|z|)    \n",
      "(Intercept) -0.92722    0.07063 -13.128   <2e-16 ***\n",
      "c_tx_match  -0.21587    0.14125  -1.528    0.126    \n",
      "---\n",
      "Signif. codes:  0 '***' 0.001 '**' 0.01 '*' 0.05 '.' 0.1 ' ' 1\n",
      "\n",
      "(Dispersion parameter for binomial family taken to be 1)\n",
      "\n",
      "    Null deviance: 1308.0  on 1085  degrees of freedom\n",
      "Residual deviance: 1305.6  on 1084  degrees of freedom\n",
      "AIC: 1309.6\n",
      "\n",
      "Number of Fisher Scoring iterations: 4"
     ]
    }
   ],
   "source": [
    "d_12 <- d |> \n",
    "  filter(week == 12)\n",
    "\n",
    "model_12wk <- glm(outcome_rct_num ~ c_tx_match, \n",
    "                  data = d_12,\n",
    "                  family = binomial(link = \"logit\"))\n",
    "\n",
    "summary(model_12wk)\n"
   ],
   "id": "ab16d791-b553-4d78-9dda-fd340f135e72"
  },
  {
   "cell_type": "markdown",
   "metadata": {},
   "source": [
    "Simple effect at 26 weeks"
   ],
   "id": "4997bacf-19ce-48be-8695-53d96adc443b"
  },
  {
   "cell_type": "code",
   "execution_count": null,
   "metadata": {},
   "outputs": [
    {
     "output_type": "stream",
     "name": "stdout",
     "text": [
      "\n",
      "Call:\n",
      "glm(formula = outcome_rct_num ~ c_tx_match, family = binomial(link = \"logit\"), \n",
      "    data = d_26)\n",
      "\n",
      "Coefficients:\n",
      "            Estimate Std. Error z value Pr(>|z|)    \n",
      "(Intercept) -1.13815    0.07411 -15.357   <2e-16 ***\n",
      "c_tx_match  -0.15154    0.14823  -1.022    0.307    \n",
      "---\n",
      "Signif. codes:  0 '***' 0.001 '**' 0.01 '*' 0.05 '.' 0.1 ' ' 1\n",
      "\n",
      "(Dispersion parameter for binomial family taken to be 1)\n",
      "\n",
      "    Null deviance: 1213.6  on 1085  degrees of freedom\n",
      "Residual deviance: 1212.6  on 1084  degrees of freedom\n",
      "AIC: 1216.6\n",
      "\n",
      "Number of Fisher Scoring iterations: 4"
     ]
    }
   ],
   "source": [
    "d_26 <- d |> \n",
    "  filter(week == 26)\n",
    "\n",
    "model_26wk <- glm(outcome_rct_num ~ c_tx_match, \n",
    "                  data = d_26,\n",
    "                  family = binomial(link = \"logit\"))\n",
    "\n",
    "summary(model_26wk)\n"
   ],
   "id": "e2be99c4-5269-4645-97b5-649948cc9bbb"
  },
  {
   "cell_type": "markdown",
   "metadata": {},
   "source": [
    "## Figure\n",
    "\n",
    "Primary figure"
   ],
   "id": "3c6ea001-3b95-4301-8cc4-48b6a5a1bd28"
  },
  {
   "cell_type": "code",
   "execution_count": null,
   "metadata": {},
   "outputs": [
    {
     "output_type": "stream",
     "name": "stderr",
     "text": [
      "`summarise()` has grouped output by 'week_cat'. You can override using the\n",
      "`.groups` argument."
     ]
    },
    {
     "output_type": "display_data",
     "metadata": {},
     "data": {
      "image/png": "[encoded data removed]"
     }
    }
   ],
   "source": [
    "d |> \n",
    "  mutate(week_cat = factor(week,\n",
    "                           levels = c(4, 12, 26),\n",
    "                           labels = c(\"Week 4\", \"Week 12\", \"Week 26\")),\n",
    "         tx_match = factor(tx_match, \n",
    "                           levels = c(TRUE, FALSE),\n",
    "                           labels = c(\"Matched to Best\", \"Unmatched\"))) |> \n",
    "  group_by(week_cat, tx_match) |> \n",
    "  summarize(mean_outcome = mean(outcome_rct_num)) |> \n",
    "  ggplot(aes(x = week_cat, y = mean_outcome, fill = tx_match)) +\n",
    "  geom_col(position = \"dodge\") +\n",
    "  labs(\n",
    "    x = \"Week On-Study\",\n",
    "    y = \"Mean Abstinence Rate\",\n",
    "    fill = \"Treatment Matching\"\n",
    "  )\n"
   ],
   "id": "cell-fig-clin-ben-wk4"
  },
  {
   "cell_type": "markdown",
   "metadata": {},
   "source": [
    "Make predicted dataset"
   ],
   "id": "ae1e5665-7d93-4dc9-8b0a-b639a9e636aa"
  },
  {
   "cell_type": "code",
   "execution_count": null,
   "metadata": {},
   "outputs": [
    {
     "output_type": "stream",
     "name": "stderr",
     "text": [
      "`summarise()` has grouped output by 'week_cat'. You can override using the\n",
      "`.groups` argument."
     ]
    }
   ],
   "source": [
    "d_fig_alt <- d |> \n",
    "  select(subid, c_tx_match, c4_week_log_2) |> \n",
    "  mutate(pred_logodds = predict(model_bayes, d)) |> \n",
    "  mutate(pred_probs = predict(model_bayes, d, type = \"response\")) |> \n",
    "  mutate(week_cat = factor(c4_week_log_2,\n",
    "                           levels = c(0, (log(12, base = 2) - 2), \n",
    "                                      (log(26, base = 2) - 2)),\n",
    "                           labels = c(\"Week 4\", \"Week 12\", \"Week 26\")),\n",
    "         tx_match = factor(c_tx_match, \n",
    "                           levels = c(0.5, -0.5),\n",
    "                           labels = c(\"Matched to Best\", \"Unmatched\"))) |> \n",
    "  group_by(week_cat, tx_match) |> \n",
    "  summarize(mean_pred_logodds = mean(pred_logodds),\n",
    "            mean_pred_probs = mean(pred_probs))\n"
   ],
   "id": "0b9bc0a0-85c5-4443-a94c-23b0df43617f"
  },
  {
   "cell_type": "markdown",
   "metadata": {},
   "source": [
    "Log odds figure"
   ],
   "id": "ad441979-6be5-4cff-b354-902c44933c74"
  },
  {
   "cell_type": "code",
   "execution_count": null,
   "metadata": {},
   "outputs": [
    {
     "output_type": "display_data",
     "metadata": {},
     "data": {
      "image/png": "[encoded data removed]"
     }
    }
   ],
   "source": [
    "d_fig_alt |> \n",
    "  ggplot(aes(x = week_cat, y = mean_pred_logodds, fill = tx_match)) +\n",
    "  geom_col(position = \"dodge\") +\n",
    "  labs(\n",
    "    x = \"Week On-Study\",\n",
    "    y = \"Log Odds\",\n",
    "    fill = \"Treatment Matching\"\n",
    "  )\n"
   ],
   "id": "94122446-9665-4441-b8ae-fc3151b7af75"
  },
  {
   "cell_type": "markdown",
   "metadata": {},
   "source": [
    "Predicted probabilities figure"
   ],
   "id": "02880fa7-befe-46ca-8d8e-40cb964c79e6"
  },
  {
   "cell_type": "code",
   "execution_count": null,
   "metadata": {},
   "outputs": [
    {
     "output_type": "display_data",
     "metadata": {},
     "data": {
      "image/png": "[encoded data removed]"
     }
    }
   ],
   "source": [
    "d_fig_alt |> \n",
    "  ggplot(aes(x = week_cat, y = mean_pred_probs, fill = tx_match)) +\n",
    "  geom_col(position = \"dodge\") +\n",
    "  labs(\n",
    "    x = \"Week On-Study\",\n",
    "    y = \"Predicted Probabilities\",\n",
    "    fill = \"Treatment Matching\"\n",
    "  )\n"
   ],
   "id": "9b325c08-21e8-46be-a78d-8d222240fe53"
  }
 ],
 "nbformat": 4,
 "nbformat_minor": 5,
 "metadata": {}
}

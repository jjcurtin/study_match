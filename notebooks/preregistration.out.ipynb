{
 "cells": [
  {
   "cell_type": "markdown",
   "metadata": {},
   "source": [
    "# Preregistration: Evaluation of Clinical Benefit\n",
    "\n",
    "Gaylen Fronk  \n",
    "April 23, 2024"
   ],
   "id": "41f0529a-60ea-457d-80d6-243f46362c6f"
  },
  {
   "cell_type": "code",
   "execution_count": null,
   "metadata": {},
   "outputs": [],
   "source": [
    "study <- params$study\n",
    "version <- params$version\n",
    "algorithms <- params$algorithms\n"
   ],
   "id": "fa83053e-ed76-473b-a24c-c769e06a78cb"
  },
  {
   "cell_type": "code",
   "execution_count": null,
   "metadata": {},
   "outputs": [
    {
     "output_type": "stream",
     "name": "stderr",
     "text": [
      "Loading required package: Matrix"
     ]
    },
    {
     "output_type": "stream",
     "name": "stderr",
     "text": [
      "── Attaching packages ────────────────────────────────────── tidymodels 1.1.1 ──"
     ]
    },
    {
     "output_type": "stream",
     "name": "stderr",
     "text": [
      "✔ broom        1.0.5     ✔ recipes      1.0.9\n",
      "✔ dials        1.2.0     ✔ rsample      1.2.0\n",
      "✔ dplyr        1.1.4     ✔ tibble       3.2.1\n",
      "✔ ggplot2      3.4.4     ✔ tidyr        1.3.1\n",
      "✔ infer        1.0.6     ✔ tune         1.1.2\n",
      "✔ modeldata    1.3.0     ✔ workflows    1.1.3\n",
      "✔ parsnip      1.1.1     ✔ workflowsets 1.0.1\n",
      "✔ purrr        1.0.2     ✔ yardstick    1.3.0"
     ]
    },
    {
     "output_type": "stream",
     "name": "stderr",
     "text": [
      "── Conflicts ───────────────────────────────────────── tidymodels_conflicts() ──\n",
      "✖ purrr::discard()  masks scales::discard()\n",
      "✖ tidyr::expand()   masks Matrix::expand()\n",
      "✖ dplyr::filter()   masks stats::filter()\n",
      "✖ dplyr::lag()      masks stats::lag()\n",
      "✖ tidyr::pack()     masks Matrix::pack()\n",
      "✖ recipes::step()   masks stats::step()\n",
      "✖ tidyr::unpack()   masks Matrix::unpack()\n",
      "✖ recipes::update() masks Matrix::update(), stats::update()\n",
      "• Learn how to get started at https://www.tidymodels.org/start/"
     ]
    },
    {
     "output_type": "stream",
     "name": "stderr",
     "text": [
      "── Attaching core tidyverse packages ──────────────────────── tidyverse 2.0.0 ──\n",
      "✔ forcats   1.0.0     ✔ readr     2.1.5\n",
      "✔ lubridate 1.9.3     ✔ stringr   1.5.1"
     ]
    },
    {
     "output_type": "stream",
     "name": "stderr",
     "text": [
      "── Conflicts ────────────────────────────────────────── tidyverse_conflicts() ──\n",
      "✖ readr::col_factor() masks scales::col_factor()\n",
      "✖ purrr::discard()    masks scales::discard()\n",
      "✖ tidyr::expand()     masks Matrix::expand()\n",
      "✖ dplyr::filter()     masks stats::filter()\n",
      "✖ stringr::fixed()    masks recipes::fixed()\n",
      "✖ dplyr::lag()        masks stats::lag()\n",
      "✖ tidyr::pack()       masks Matrix::pack()\n",
      "✖ readr::spec()       masks yardstick::spec()\n",
      "✖ tidyr::unpack()     masks Matrix::unpack()\n",
      "ℹ Use the conflicted package (<http://conflicted.r-lib.org/>) to force all conflicts to become errors"
     ]
    },
    {
     "output_type": "stream",
     "name": "stderr",
     "text": [
      "Warning: package 'blme' was built under R version 4.3.3"
     ]
    },
    {
     "output_type": "stream",
     "name": "stderr",
     "text": [
      "ℹ SHA-1 hash of file is \"c045eee2655a18dc85e715b78182f176327358a7\""
     ]
    },
    {
     "output_type": "stream",
     "name": "stderr",
     "text": [
      "ℹ SHA-1 hash of file is \"bb7bddab14e337e74cb65ad3b94d58a2492d34cd\""
     ]
    }
   ],
   "source": [
    "\n",
    "# packages for script\n",
    "library(lme4)\n"
   ],
   "id": "e05ddac4-da64-4d53-9181-989bfb6c84ce"
  },
  {
   "cell_type": "code",
   "execution_count": null,
   "metadata": {},
   "outputs": [],
   "source": [
    "\n",
    "# handle conflicts\n",
    "options(conflicts.policy = \"depends.ok\")\n"
   ],
   "id": "309adbc9-3e0b-4e2f-b974-72725e171572"
  },
  {
   "cell_type": "code",
   "execution_count": null,
   "metadata": {},
   "outputs": [],
   "source": [
    "\n",
    "# absolute paths\n",
    "switch (Sys.info()[['sysname']],\n",
    "        # PC paths\n",
    "        Windows = {\n",
    "          path_models <- \"P:/studydata/match/models\"},\n",
    "        \n",
    "        # IOS paths\n",
    "        Darwin = {\n",
    "          path_models <- \"/Volumes/private/studydata/match/models\"},\n",
    "        \n",
    "        # Linux paths\n",
    "        Linux = {\n",
    "          path_models <- \"~/mnt/private/studydata/match/models\"}\n",
    ")\n"
   ],
   "id": "838b6b3a-c3d9-4462-903e-9ff5419f34c0"
  },
  {
   "cell_type": "code",
   "execution_count": null,
   "metadata": {},
   "outputs": [],
   "source": [
    "\n",
    "# chunk defaults\n",
    "knitr::opts_chunk$set(attr.output='style=\"max-height: 500px;\"')\n",
    "\n",
    "options(tibble.width = Inf)\n",
    "options(tibble.print_max = Inf)\n"
   ],
   "id": "993f1dbd-b13b-4239-869d-fcb07888d966"
  },
  {
   "cell_type": "code",
   "execution_count": null,
   "metadata": {},
   "outputs": [],
   "source": [
    "\n",
    "# read in d for week 4 model\n",
    "d_wk4 <- read_csv(file.path(path_models, \"pp_hybrid_wk4_outcome\", \n",
    "                        str_c(\"aim_2_\", version, \"_pp_hybrid_wk4_outcome.csv\")),\n",
    "              show_col_types = FALSE) |> \n",
    "  mutate(outcome_rct_wk4_num = if_else(outcome_rct_wk4 == \"abstinent\", 1, 0),\n",
    "         outcome_rct_wk12_num = if_else(outcome_rct_wk12 == \"abstinent\", 1, 0),\n",
    "         outcome_rct_wk26_num = if_else(outcome_rct_wk26 == \"abstinent\", 1, 0),\n",
    "         tx_worst = case_when(\n",
    "           prob_patch < prob_combo_nrt & prob_patch < prob_varenicline ~ \"patch\",\n",
    "           prob_combo_nrt < prob_patch & prob_combo_nrt < prob_varenicline ~ \"combo_nrt\",\n",
    "           prob_varenicline < prob_patch & prob_varenicline < prob_combo_nrt ~ \"varenicline\",\n",
    "           TRUE ~ NA_character_),\n",
    "         tx_second = case_when(\n",
    "           tx_worst == \"patch\" & tx_best == \"varenicline\" ~ \"combo_nrt\",\n",
    "           tx_worst == \"patch\" & tx_best == \"combo_nrt\" ~ \"varenicline\",\n",
    "           tx_worst == \"varenicline\" & tx_best == \"patch\" ~ \"combo_nrt\",\n",
    "           tx_worst == \"varenicline\" & tx_best == \"combo_nrt\" ~ \"patch\",\n",
    "           tx_worst == \"combo_nrt\" & tx_best == \"varenicline\" ~ \"patch\",\n",
    "           tx_worst == \"combo_nrt\" & tx_best == \"patch\" ~ \"varenicline\",\n",
    "           TRUE ~ NA_character_)) |> \n",
    "  mutate(tx_rank = case_when(\n",
    "    tx_rct == tx_best ~ \"first\",\n",
    "    tx_rct == tx_second ~ \"second\",\n",
    "    tx_rct == tx_worst ~ \"third\",\n",
    "    TRUE ~ NA_character_)) |> \n",
    "  select(subid, starts_with(\"tx_\"), starts_with(\"prob_\"),\n",
    "         outcome_rct_wk4_num, outcome_rct_wk12_num, outcome_rct_wk26_num) \n",
    "\n",
    "# read in best_config for week 4 model\n",
    "best_configuration_wk4 <- read_csv(file.path(path_models, \"pp_hybrid_wk4_outcome\",\n",
    "                                         str_c(\"best_config_\", version, \".csv\")),\n",
    "                               show_col_types = FALSE) |> \n",
    "  select(algorithm, feature_set, alpha = hp1, lambda = hp2, resample)\n",
    "\n",
    "# read in d for week 26 model\n",
    "# d_wk26 <- read_csv(file.path(path_models, \"pp_hybrid_wk26_outcome\", \n",
    "#                         str_c(\"aim_2_\", version, \"_pp_hybrid_wk26_outcome.csv\")),\n",
    "#               show_col_types = FALSE) |> \n",
    "#   mutate(outcome_rct_wk4_num = if_else(outcome_rct_wk4 == \"abstinent\", 1, 0),\n",
    "#          outcome_rct_wk12_num = if_else(outcome_rct_wk12 == \"abstinent\", 1, 0),\n",
    "#          outcome_rct_wk26_num = if_else(outcome_rct_wk26 == \"abstinent\", 1, 0),\n",
    "#          tx_worst = case_when(\n",
    "#            prob_patch < prob_combo_nrt & prob_patch < prob_varenicline ~ \"patch\",\n",
    "#            prob_combo_nrt < prob_patch & prob_combo_nrt < prob_varenicline ~ \"combo_nrt\",\n",
    "#            prob_varenicline < prob_patch & prob_varenicline < prob_combo_nrt ~ \"varenicline\",\n",
    "#            TRUE ~ NA_character_),\n",
    "#          tx_second = case_when(\n",
    "#            tx_worst == \"patch\" & tx_best == \"varenicline\" ~ \"combo_nrt\",\n",
    "#            tx_worst == \"patch\" & tx_best == \"combo_nrt\" ~ \"varenicline\",\n",
    "#            tx_worst == \"varenicline\" & tx_best == \"patch\" ~ \"combo_nrt\",\n",
    "#            tx_worst == \"varenicline\" & tx_best == \"combo_nrt\" ~ \"patch\",\n",
    "#            tx_worst == \"combo_nrt\" & tx_best == \"varenicline\" ~ \"patch\",\n",
    "#            tx_worst == \"combo_nrt\" & tx_best == \"patch\" ~ \"varenicline\",\n",
    "#            TRUE ~ NA_character_)) |> \n",
    "#   mutate(tx_rank = case_when(\n",
    "#     tx_rct == tx_best ~ \"first\",\n",
    "#     tx_rct == tx_second ~ \"second\",\n",
    "#     tx_rct == tx_worst ~ \"third\",\n",
    "#     TRUE ~ NA_character_)) |> \n",
    "#   select(subid, starts_with(\"tx_\"), starts_with(\"prob_\"),\n",
    "#          outcome_rct_wk4_num, outcome_rct_wk12_num, outcome_rct_wk26_num) \n",
    "\n",
    "# read in best_config for week 26 model\n",
    "best_configuration_wk26 <- read_csv(file.path(path_models, \"pp_hybrid_wk26_outcome\",\n",
    "                                         str_c(\"best_config_\", version, \".csv\")),\n",
    "                               show_col_types = FALSE) |> \n",
    "  select(algorithm, feature_set, learning_rate = hp1, tree_depth = hp2, \n",
    "         mtry = hp3, resample)\n"
   ],
   "id": "a9b21020-156e-4582-a889-c68fb03647ca"
  },
  {
   "cell_type": "code",
   "execution_count": null,
   "metadata": {},
   "outputs": [],
   "source": [
    "\n",
    "# make figure for john's presentation\n",
    "d_fig <- d_wk4 |> \n",
    "  select(subid, tx_rank, \n",
    "         outcome_rct_wk4_num, outcome_rct_wk12_num, outcome_rct_wk26_num) |> \n",
    "  pivot_longer(\n",
    "    cols = c(outcome_rct_wk4_num, outcome_rct_wk12_num, outcome_rct_wk26_num),\n",
    "    names_to = \"week\",\n",
    "    names_pattern = \"(?<=outcome_rct_)(.+)(?=_num)\",\n",
    "    values_to = \"outcome_rct_num\"\n",
    "  ) |> \n",
    "  mutate(tx_rank = factor(tx_rank, \n",
    "                          levels = c(\"first\", \"second\", \"third\")),\n",
    "         week = factor(week,\n",
    "                       levels = c(\"wk4\", \"wk12\", \"wk26\")),\n",
    "         subid = factor(subid)) |> \n",
    "  summarize(outcome_mean = mean(outcome_rct_num), .by = c(tx_rank, week)) \n",
    "\n",
    "# bar chart\n",
    "d_fig |> \n",
    "  ggplot(aes(x = week, y = outcome_mean, fill = tx_rank)) +\n",
    "  geom_col(position = \"dodge\") \n"
   ],
   "id": "499217bb-d414-471c-b92d-3d05ef4589b5"
  },
  {
   "cell_type": "markdown",
   "metadata": {},
   "source": [
    "## Study Overview\n",
    "\n",
    "### Specific Aims\n",
    "\n",
    "This project represents a tangible application of the precision mental health paradigm using modern machine learning approaches. This project aims to produce a decision-making tool to select among cigarette smoking cessation treatments for individuals looking to quit smoking.\n",
    "\n",
    "Cigarette smoking remains a critical and costly public health crisis. Existing treatments are only modestly effective at best. Additionally, treatments are similarly effective at the population level, meaning that even population-level effectiveness cannot guide treatment selection for individuals quitting smoking. Thus, deciding among first-line (i.e., FDA-approved) smoking cessation medications is a specific, objective decision that many individuals who smoke (or their providers) must make. Successful application of the precision mental health paradigm to cigarette smoking cessation would have immediate clinical benefit.\n",
    "\n",
    "Specifically, this project pursues the following aims:\n",
    "\n",
    "**AIM 1: Build a machine learning model to guide treatment selection for cigarette smoking cessation.** We will build a machine learning model to predict treatment success (i.e., point-prevalence abstinence from smoking) for people who smoke who received one of three cigarette smoking cessation treatments. This model will use clinical features (predictors) from a richly characterized sample of people who smoke from a previously completed randomized controlled trial. The model will produce probabilities of treatment success for each treatment such that it can guide selection of the best treatment for any specific individual.\n",
    "\n",
    "**AIM 2: Evaluate the clinical benefit of using a treatment selection machine learning model.** Using the best model identified in **AIM 1**, we will identify the treatment for each person that gives them the highest likelihood of abstinence by comparing predicted probabilities of abstinence for each participant for each treatment. We will then evaluate the clinical benefit of this model-based treatment selection approach.\n",
    "\n",
    "### Data\n",
    "\n",
    "This project relies on existing data from a completed comparative effectiveness trial by [Baker et al., 2016](https://www.ncbi.nlm.nih.gov/pmc/articles/PMC4824537/). Briefly, 1086 individuals who smoke cigarettes were randomized to receive varenicline, combination nicotine replacement therapy (NRT), or nicotine patch to assist with a quit attempt. Individuals were richly characterized at baseline (pre-treatment) with respect to demographic characteristics, mental health, social/environmental variables, physical health, and smoking history. Participants were assessed periodically for biologically confirmed, 7-day point-prevalence abstinence. When abstinence was biologically confirmed (i.e., via exhaled carbon monoxide), individuals were labeled as abstinent; otherwise, individuals were labeled as smoking.\n",
    "\n",
    "## Analysis Progress at Time of Preregistration\n",
    "\n",
    "### Completed: Model Building, Selection, & Evaluation\n",
    "\n",
    "**AIM 1** analyses have been completed: Models using all available data have been fit and selected with nested cross-validation (1 repeat of 10-fold cross-validation in the inner loops, 3 repeats of 10-fold cross-validation in the outer loop). These 30-held out folds (“test sets”) were used to evaluate model performance.\n",
    "\n",
    "Models have been fit using two outcomes:\n",
    "\n",
    "-   Week 4 7-day point-prevalance abstinence\n",
    "\n",
    "-   Week 26 (60 month) 7-day point-prevalence abstinence\n",
    "\n",
    "A single, best model for each outcome was selected with 1 repeat of 10-fold cross-validation in the full dataset.\n",
    "\n",
    "The best model configuration for the **Week 4 outcome** includes the following:"
   ],
   "id": "fd57e8c9-5643-4189-9a6d-c7068763b6a0"
  },
  {
   "cell_type": "code",
   "execution_count": null,
   "metadata": {},
   "outputs": [
    {
     "output_type": "stream",
     "name": "stdout",
     "text": [
      "Rows: 1\n",
      "Columns: 5\n",
      "$ algorithm   <chr> \"glmnet\"\n",
      "$ feature_set <chr> \"item_ordinal\"\n",
      "$ alpha       <dbl> 0.1\n",
      "$ lambda      <dbl> 0.1326421\n",
      "$ resample    <chr> \"up_1\""
     ]
    }
   ],
   "source": [
    "glimpse(best_configuration_wk4)\n"
   ],
   "id": "aa614df1-9314-455e-8d7b-29f6675aee8a"
  },
  {
   "cell_type": "markdown",
   "metadata": {},
   "source": [
    "-   Selected algorithm was glmnet (xgboost and random forest also considered)\n",
    "\n",
    "-   Selected feature set was “item_ordinal” indicating that individual items (rather than scale scores) were used, and ordinal scoring was used for ordered data (rather than dummy coding)\n",
    "\n",
    "-   Selected resampling approach was “up_1” corresponding to upsampling (vs. downsampling or SMOTE) with a ratio of 1:1 (majority:minority class)\n",
    "\n",
    "-   Values of the hyperparameters alpha and lambda were selected from sensible ranges for each value\n",
    "\n",
    "The best model configuration for the **Week 26 outcome** includes the following:"
   ],
   "id": "9b78adcd-cfb7-49f9-bce3-70c85f7a0196"
  },
  {
   "cell_type": "code",
   "execution_count": null,
   "metadata": {},
   "outputs": [
    {
     "output_type": "stream",
     "name": "stdout",
     "text": [
      "Rows: 1\n",
      "Columns: 6\n",
      "$ algorithm     <chr> \"xgboost\"\n",
      "$ feature_set   <chr> \"item_knn_5\"\n",
      "$ learning_rate <dbl> 0.01\n",
      "$ tree_depth    <dbl> 3\n",
      "$ mtry          <dbl> 50\n",
      "$ resample      <chr> \"up_1\""
     ]
    }
   ],
   "source": [
    "glimpse(best_configuration_wk26)\n"
   ],
   "id": "c1a237f7-6d48-46d6-82ea-b426baa29e1f"
  },
  {
   "cell_type": "markdown",
   "metadata": {},
   "source": [
    "-   Selected algorithm was UPDATE (xgboost and random forest also considered)\n",
    "\n",
    "-   Selected feature set was “UPDATE” indicating that individual items (rather than scale scores) were used, and ordinal scoring was used for ordered data (rather than dummy coding)\n",
    "\n",
    "-   Selected resampling approach was “UPDATE” corresponding to upsampling (vs. downsampling or SMOTE) with a ratio of 1:1 (majority:minority class)\n",
    "\n",
    "-   Values of the hyperparameters UPDATE were selected from sensible ranges for each value\n",
    "\n",
    "### Completed: Model Performance\n",
    "\n",
    "Models were evaluated using our primary performance metric, area under the ROC curve (auROC), an index of how well our models discriminate between positive (abstinent) and negative (smoking) cases.\n",
    "\n",
    "We evaluated model performance in-depth by conducting *Bayesian hierarchical generalized linear models* to estimate the posterior probability distributions and 95% Bayesian credible intervals (CIs) for auROC for our best models from the 30 held-out test sets from nested cross-validation. Below, you can see the posterior probabilities for auROC for our week 4 (top panel) and week 26 (bottom panel) models.\n",
    "\n",
    "``` python\n",
    "fig_posteriors <- pp_tidy |> \n",
    "  mutate(model = factor(model, levels = c(\"week_4\", \"week_26\"))) |> \n",
    "  ggplot() + \n",
    "  geom_histogram(aes(x = posterior, fill = model), color = \"black\", alpha = .4, \n",
    "                 bins = 30) +\n",
    "  geom_segment(mapping = aes(y = y + 100, yend = y - 100, x = mean, xend = mean,\n",
    "                             color = model),\n",
    "               data = ci) +\n",
    "  geom_segment(mapping = aes(y = y, yend = y, x = lower, xend = upper, color = model),\n",
    "               data = ci) +\n",
    "  facet_wrap(~model, ncol = 1) +\n",
    "  scale_y_continuous(\"Posterior Probability\", breaks = c(0, 500, 1000)) +\n",
    "  # ylab(\"Posterior Probability Density\") +\n",
    "  xlab(\"Area Under ROC Curve\")\n",
    "\n",
    "fig_posteriors\n",
    "```\n",
    "\n",
    "![](attachment:preregistration_files/figure-ipynb/ana_bayes_match-fig-posteriors-output-1.png)\n",
    "\n",
    "The horizontal line indicates the 95% CIs. The vertical line represents the median posterior probability for auROC. This represents our best estimate for the magnitude of the auROC parameter for each model. These CIs do not contain 0.5 (i.e., chance performance), suggesting both models are capturing signal in the data.\n",
    "\n",
    "*Because both models have predictive value as evidenced by these Bayesian analyses, we will conduct AIM 2 analyses with both models.*\n",
    "\n",
    "### In Progress: AIM 2 Clinical Benefit Analyses\n",
    "\n",
    "**AIM 2** analyses using this full model are underway. Here, we walk through our process using the data for only the week 4 model; however, the data structure and process are identical for the week 26 model.\n",
    "\n",
    "We have used the final models (for each outcome) fit in the full dataset to generate three predictions (probabilities, `prob_*`) for each participant by substituting each treatment into the model inputs. Thus, there is one prediction per person per treatment."
   ],
   "attachments": {
    "preregistration_files/figure-ipynb/ana_bayes_match-fig-posteriors-output-1.png": {
     "image/png": "[encoded data removed]"
    }
   },
   "id": "6754f5e5-0a5d-40a3-b556-dc09b7e71fd8"
  },
  {
   "cell_type": "code",
   "execution_count": null,
   "metadata": {},
   "outputs": [
    {
     "output_type": "display_data",
     "metadata": {},
     "data": {
      "text/html": [
       "</div>\n"
      ],
      "text/markdown": [
       "    subid   prob_patch   prob_combo_nrt   prob_varenicline\n",
       "  ------- ------------ ---------------- ------------------\n",
       "    40244        0.430            0.531              0.570\n",
       "    51235        0.189            0.198              0.159\n",
       "    50478        0.436            0.319              0.403\n",
       "    40482        0.247            0.222              0.257\n",
       "    30048        0.583            0.542              0.561\n",
       "    30294        0.339            0.315              0.340\n",
       "    31221        0.192            0.153              0.217\n",
       "    50676        0.148            0.169              0.140\n"
      ]
     }
    }
   ],
   "source": [
    "set.seed(82294)\n",
    "d_wk4 |> \n",
    "  select(subid, prob_patch, prob_combo_nrt, prob_varenicline) |> \n",
    "  slice_sample(n = 8) |> \n",
    "  print_kbl(digits = 3)\n"
   ],
   "id": "795fa7ff-60b6-4006-9aa0-38c26d837890"
  },
  {
   "cell_type": "markdown",
   "metadata": {},
   "source": [
    "The treatment that yields the highest model-predicted probability of abstinence is identified as that participant’s “best” treatment (`tx_best`)."
   ],
   "id": "1096b461-75ee-4952-9b4f-656d329835aa"
  },
  {
   "cell_type": "code",
   "execution_count": null,
   "metadata": {},
   "outputs": [
    {
     "output_type": "display_data",
     "metadata": {},
     "data": {
      "text/html": [
       "</div>\n"
      ],
      "text/markdown": [
       "    subid       tx_best   prob_patch   prob_combo_nrt   prob_varenicline\n",
       "  ------- ------------- ------------ ---------------- ------------------\n",
       "    50666   varenicline        0.159            0.185              0.189\n",
       "    50224   varenicline        0.193            0.165              0.207\n",
       "    50422     combo_nrt        0.344            0.352              0.246\n",
       "    30984     combo_nrt        0.195            0.227              0.197\n",
       "    50295         patch        0.455            0.431              0.437\n",
       "    20769   varenicline        0.450            0.516              0.569\n",
       "    51261         patch        0.357            0.340              0.305\n",
       "    30149     combo_nrt        0.443            0.465              0.341\n"
      ]
     }
    }
   ],
   "source": [
    "d_wk4 |> \n",
    "  select(subid, tx_best, prob_patch, prob_combo_nrt, prob_varenicline) |> \n",
    "  slice_sample(n = 8) |> \n",
    "  print_kbl(digits = 3)\n"
   ],
   "id": "25cc3b4d-f784-431e-a5d3-655340d6f8a3"
  },
  {
   "cell_type": "markdown",
   "metadata": {},
   "source": [
    "The best treatments spanned all three medication options: varenicline, combination nicotine replacement therapy (“combo_nrt”), and nicotine patch (“patch”)."
   ],
   "id": "88a07113-a0b9-4675-8131-bbeb44f4d9f8"
  },
  {
   "cell_type": "code",
   "execution_count": null,
   "metadata": {},
   "outputs": [
    {
     "output_type": "stream",
     "name": "stdout",
     "text": [
      "# A tibble: 3 × 3\n",
      "  tx_best         n  prop\n",
      "  <chr>       <int> <dbl>\n",
      "1 combo_nrt     339 0.312\n",
      "2 patch         193 0.178\n",
      "3 varenicline   554 0.510"
     ]
    }
   ],
   "source": [
    "d_wk4 |> \n",
    "  tab(tx_best)\n"
   ],
   "id": "6d2a0278-a238-4729-92c8-fbe5faf78ba5"
  },
  {
   "cell_type": "markdown",
   "metadata": {},
   "source": [
    "Some participants’ best treatment (`tx_best`) matched what they were randomly assigned in the original trial (`tx_rct`). Other participants may have received what the model identified as their second-best or worst treatment. Thus, participants’ RCT-assigned treatment can be categorized by whether it “matched” their model-assigned treatment (`tx_match`)."
   ],
   "id": "f46330e2-bd2b-4158-aa21-ac80c577aaa6"
  },
  {
   "cell_type": "code",
   "execution_count": null,
   "metadata": {},
   "outputs": [
    {
     "output_type": "display_data",
     "metadata": {},
     "data": {
      "text/html": [
       "</div>\n"
      ],
      "text/markdown": [
       "    subid   tx_match        tx_rct       tx_best     tx_second      tx_worst\n",
       "  ------- ---------- ------------- ------------- ------------- -------------\n",
       "    40645       TRUE   varenicline   varenicline         patch     combo_nrt\n",
       "    20015      FALSE     combo_nrt   varenicline     combo_nrt         patch\n",
       "    40126       TRUE     combo_nrt     combo_nrt   varenicline         patch\n",
       "    51165       TRUE   varenicline   varenicline         patch     combo_nrt\n",
       "    30705      FALSE     combo_nrt         patch   varenicline     combo_nrt\n",
       "    30179       TRUE         patch         patch     combo_nrt   varenicline\n",
       "    51390       TRUE   varenicline   varenicline         patch     combo_nrt\n",
       "    51817      FALSE         patch   varenicline     combo_nrt         patch\n",
       "    50140      FALSE         patch     combo_nrt         patch   varenicline\n",
       "    20359      FALSE         patch     combo_nrt         patch   varenicline\n"
      ]
     }
    }
   ],
   "source": [
    "d_wk4 |> \n",
    "  select(subid, tx_match, tx_rct, tx_best, tx_second, tx_worst) |> \n",
    "  slice_sample(n = 10) |> \n",
    "  print_kbl()\n"
   ],
   "id": "b9434db5-6edc-4c4f-a8c1-357ee76a55ac"
  },
  {
   "cell_type": "markdown",
   "metadata": {},
   "source": [
    "Just over one third of participants received their model-assigned “best” treatment in the original trial."
   ],
   "id": "cd565b4a-d49b-4419-88b6-c94dd10181ff"
  },
  {
   "cell_type": "code",
   "execution_count": null,
   "metadata": {},
   "outputs": [
    {
     "output_type": "stream",
     "name": "stdout",
     "text": [
      "# A tibble: 2 × 3\n",
      "  tx_match     n  prop\n",
      "  <lgl>    <int> <dbl>\n",
      "1 FALSE      677 0.623\n",
      "2 TRUE       409 0.377"
     ]
    }
   ],
   "source": [
    "d_wk4 |> \n",
    "  tab(tx_match)\n"
   ],
   "id": "cbda041f-9491-4fb3-8427-5520f24a2829"
  },
  {
   "cell_type": "markdown",
   "metadata": {},
   "source": [
    "## Purpose of Preregistration\n",
    "\n",
    "The purpose of this document is to **preregister the analyses for evaluating the clinical benefit of this treatment selection model**.\n",
    "\n",
    "Our primary analysis will compare the observed outcomes (i.e., abstinence vs. smoking, from the original trial) for people who did or did not receive their best treatment. We will examine these outcomes over the following time points:\n",
    "\n",
    "-   4 weeks: This time point served as an outcome for a prediction model. This selection was made so that, in real-world implementation, treatment could be adjusted earlier for individuals for whom treatment is not working.\n",
    "\n",
    "-   12 weeks: This is end-of-treatment and represents a mid-point between the early (4-week) and later (26-week) outcomes.\n",
    "\n",
    "-   26 weeks (6 months): This time point served as an outcome for a prediction model. This is the gold standard assessment period for smoking cessation treatments and was the primary outcome for the original trial ([Baker et al., 2016](https://www.ncbi.nlm.nih.gov/pmc/articles/PMC4824537/)). This duration is often used as a proxy for long-term success.\n",
    "\n",
    "Thus, our model will have the following components:\n",
    "\n",
    "1.  Dependent variable: abstinence (vs. smoking; `outcome_rct_num`). Binary outcome with abstinence coded as 1 and smoking coded as 0.\n",
    "\n",
    "2.  Independent variable: treatment match (`tx_match`). Between-subjects categorical variable with two levels (TRUE or FALSE). This variable will be coded with an orthogonal contrast such that we compare individuals who received their best treatment to individuals who did not.\n",
    "\n",
    "3.  Independent variable: time (`week`). Within-subjects categorical variable with three levels (week 4, week 12, week 26). This variable will be coded with orthogonal Helmert contrasts to avoid making an assumption about the linearity of this effect. We will compare the earliest 4-week outcome to the two later outcomes, and the 12-week outcome to the 26-week (6 month) outcome.\n",
    "\n",
    "4.  Interaction between treatment match and time\n",
    "\n",
    "5.  Random slope for time (3 repeated observations of time for each subject)\n",
    "\n",
    "6.  Random intercept\n",
    "\n",
    "We plan to follow a mixed-effects modeling approach using the `lme4` package. Specifically, we will fit a generalized linear model using `glmer()` with the components listed above.\n",
    "\n",
    "Our **focal effect** is the effect of treatment match. We predict that individuals who received their best treatment will have improved outcomes compared to individuals who did not.\n",
    "\n",
    "Our **secondary effects** include:\n",
    "\n",
    "-   The interactions between treatmennt match and both time contrasts (week 4 vs. later, week 12 vs. week 26). We do not have directional hypotheses about these interactions.\n",
    "\n",
    "    -   If either of these interactions are significant (*p* \\< 0.05), we will conduct **follow-up tests** of the simple effect of the best vs. other treatment contrast at all 3 time points (week 4, week 12, and week 26).\n",
    "\n",
    "Although the above estimates comprise our focal effects, we plan to report the estimates, test statistics, *p*-values, and confidence intervals for all fixed effects from this model.\n",
    "\n",
    "## Shuffle Data\n",
    "\n",
    "To ensure that all proposed analyses are feasible and to specify analyses as precisely as possible, the remainder of this document conducts analyses using our data with shuffled outcome variables. Following preregistration, our analyses will follow this script exactly using our real data.\n",
    "\n",
    "*Again, we will walk through this process using shuffled data from our week 4 model, but the process will be identical for our week 26 model.*\n",
    "\n",
    "To create this shuffled dataset, we:\n",
    "\n",
    "-   break the relationship between treatment match and outcome by sampling (without replacement) the treatment match variable (`tx_match`)\n",
    "\n",
    "-   pivot into long format with week as a within-subjects factor\n",
    "\n",
    "-   remove unnecessary variables"
   ],
   "id": "8027f1bd-ca2c-4028-91ac-b7a61f7c5ef3"
  },
  {
   "cell_type": "code",
   "execution_count": null,
   "metadata": {},
   "outputs": [
    {
     "output_type": "stream",
     "name": "stdout",
     "text": [
      "Rows: 3,258\n",
      "Columns: 6\n",
      "$ subid           <dbl> 20010, 20010, 20010, 20015, 20015, 20015, 20030, 20030…\n",
      "$ tx_match        <fct> TRUE, TRUE, TRUE, FALSE, FALSE, FALSE, FALSE, FALSE, F…\n",
      "$ week            <dbl> 4, 12, 26, 4, 12, 26, 4, 12, 26, 4, 12, 26, 4, 12, 26,…\n",
      "$ outcome_rct_num <dbl> 0, 0, 0, 0, 0, 0, 0, 0, 0, 0, 1, 1, 0, 0, 0, 0, 0, 0, …\n",
      "$ week_log        <dbl> 1.386294, 2.484907, 3.258097, 1.386294, 2.484907, 3.25…\n",
      "$ week_log_scale  <dbl> -1.2890446, 0.1412207, 1.1478239, -1.2890446, 0.141220…"
     ]
    }
   ],
   "source": [
    "set.seed(72905)\n",
    "d_shuf <- d_wk4 |> \n",
    "  select(subid, tx_match, \n",
    "         outcome_rct_wk4_num, outcome_rct_wk12_num, outcome_rct_wk26_num) |> \n",
    "  mutate(tx_match = sample(d_wk4$tx_match, nrow(d_wk4), replace = FALSE)) |>\n",
    "  pivot_longer(\n",
    "    cols = c(outcome_rct_wk4_num, outcome_rct_wk12_num, outcome_rct_wk26_num),\n",
    "    names_to = \"week\",\n",
    "    names_pattern = \"(?<=outcome_rct_wk)(.+)(?=_num)\",\n",
    "    values_to = \"outcome_rct_num\"\n",
    "  ) |> \n",
    "  mutate(tx_match = factor(tx_match, \n",
    "                          levels = c(FALSE, TRUE)),\n",
    "         week = as.numeric(week)) |> \n",
    "  mutate(week_log = log(week)) |> \n",
    "  mutate(week_log_scale = scale(week_log)[,1])\n",
    "\n",
    "glimpse(d_shuf)\n"
   ],
   "id": "ea6f6d7e-1d80-4757-8d2a-78d7024c4fd9"
  },
  {
   "cell_type": "markdown",
   "metadata": {},
   "source": [
    "Confirm that data look random"
   ],
   "id": "726f1361-49ef-48e3-8a05-d55153996474"
  },
  {
   "cell_type": "code",
   "execution_count": null,
   "metadata": {},
   "outputs": [
    {
     "output_type": "stream",
     "name": "stderr",
     "text": [
      "`summarise()` has grouped output by 'week'. You can override using the\n",
      "`.groups` argument."
     ]
    },
    {
     "output_type": "stream",
     "name": "stdout",
     "text": [
      "# A tibble: 6 × 3\n",
      "# Groups:   week [3]\n",
      "   week tx_match mean_outcome\n",
      "  <dbl> <fct>           <dbl>\n",
      "1     4 FALSE           0.349\n",
      "2     4 TRUE            0.330\n",
      "3    12 FALSE           0.290\n",
      "4    12 TRUE            0.291\n",
      "5    26 FALSE           0.244\n",
      "6    26 TRUE            0.252"
     ]
    }
   ],
   "source": [
    "d_shuf |> \n",
    "  group_by(week, tx_match) |> \n",
    "  summarize(mean_outcome = mean(outcome_rct_num)) \n"
   ],
   "id": "a927f917-49af-4f0e-835b-c78b53a23862"
  },
  {
   "cell_type": "markdown",
   "metadata": {},
   "source": [
    "Set contrasts for week and treatment match"
   ],
   "id": "ef84a911-b697-4242-a743-2622e05b8198"
  },
  {
   "cell_type": "code",
   "execution_count": null,
   "metadata": {},
   "outputs": [
    {
     "output_type": "stream",
     "name": "stdout",
     "text": [
      "      best_v_other\n",
      "FALSE         -0.5\n",
      "TRUE           0.5"
     ]
    }
   ],
   "source": [
    "# contrast coding on week\n",
    "# c_week <- contr.helmert(c(\"wk26\", \"wk12\", \"wk4\"))\n",
    "# c_week[, 1] <- c_week[, 1] / (max(c_week[, 1]) - min(c_week[, 1]))\n",
    "# c_week[, 2] <- c_week[, 2] / (max(c_week[, 2]) - min(c_week[, 2]))\n",
    "# colnames(c_week) <- c(\"wk12_v_wk26\", \"wk4_v_later\")\n",
    "# contrasts(d_shuf$week) <- c_week\n",
    "# contrasts(d_shuf$week)\n",
    "\n",
    "# contrast coding on treatment match\n",
    "c_tx <- contr.helmert(c(FALSE, TRUE))\n",
    "c_tx[, 1] <- c_tx[, 1] / (max(c_tx[, 1]) - min(c_tx[, 1]))\n",
    "colnames(c_tx) <- c(\"best_v_other\")\n",
    "contrasts(d_shuf$tx_match) <- c_tx\n",
    "contrasts(d_shuf$tx_match)\n"
   ],
   "id": "30a4b7fd-94c8-40d8-a27c-a7d9301c3e4f"
  },
  {
   "cell_type": "markdown",
   "metadata": {},
   "source": [
    "## Analysis Steps\n",
    "\n",
    "### Primary Model"
   ],
   "id": "c3dfb3aa-b0c7-4eb3-aeee-d39088993827"
  },
  {
   "cell_type": "code",
   "execution_count": null,
   "metadata": {},
   "outputs": [
    {
     "output_type": "stream",
     "name": "stderr",
     "text": [
      "Warning in checkConv(attr(opt, \"derivs\"), opt$par, ctrl = control$checkConv, :\n",
      "Model failed to converge with max|grad| = 0.0166072 (tol = 0.002, component 1)"
     ]
    },
    {
     "output_type": "stream",
     "name": "stdout",
     "text": [
      "Generalized linear mixed model fit by maximum likelihood (Laplace\n",
      "  Approximation) [glmerMod]\n",
      " Family: binomial  ( logit )\n",
      "Formula: outcome_rct_num ~ tx_match * week_log + (1 + week_log | subid)\n",
      "   Data: d_shuf\n",
      "Control: glmerControl(optCtrl = list(maxfun = 3e+06))\n",
      "\n",
      "     AIC      BIC   logLik deviance df.resid \n",
      "  3090.4   3133.1  -1538.2   3076.4     3251 \n",
      "\n",
      "Scaled residuals: \n",
      "     Min       1Q   Median       3Q      Max \n",
      "-1.28497 -0.42787 -0.06827  0.14552  1.45809 \n",
      "\n",
      "Random effects:\n",
      " Groups Name        Variance Std.Dev. Corr \n",
      " subid  (Intercept) 10.58    3.253         \n",
      "        week_log    12.93    3.595    -1.00\n",
      "Number of obs: 3258, groups:  subid, 1086\n",
      "\n",
      "Fixed effects:\n",
      "                              Estimate Std. Error z value Pr(>|z|)    \n",
      "(Intercept)                     1.9798     0.3412   5.803 6.53e-09 ***\n",
      "tx_matchbest_v_other           -0.3267     0.3963  -0.824     0.41    \n",
      "week_log                       -2.2200     0.2197 -10.103  < 2e-16 ***\n",
      "tx_matchbest_v_other:week_log   0.1215     0.2765   0.439     0.66    \n",
      "---\n",
      "Signif. codes:  0 '***' 0.001 '**' 0.01 '*' 0.05 '.' 0.1 ' ' 1\n",
      "\n",
      "Correlation of Fixed Effects:\n",
      "            (Intr) tx_m__ wek_lg\n",
      "tx_mtchbs__  0.138              \n",
      "week_log    -0.932 -0.118       \n",
      "tx_mtch__:_ -0.104 -0.868  0.130\n",
      "optimizer (Nelder_Mead) convergence code: 0 (OK)\n",
      "Model failed to converge with max|grad| = 0.0166072 (tol = 0.002, component 1)"
     ]
    }
   ],
   "source": [
    "model_1 <- glmer(outcome_rct_num ~ tx_match * week_log + (1 + week_log | subid),\n",
    "                       data = d_shuf,\n",
    "                       family = binomial(link = \"logit\"),\n",
    "                 control = glmerControl(optCtrl = list(maxfun = 3e6)))\n"
   ],
   "id": "a43de3b7-db98-4742-ae59-1704a2105cc1"
  },
  {
   "cell_type": "markdown",
   "metadata": {},
   "source": [
    "### Alternative Models for Robustness Checks\n",
    "\n",
    "The model fit above has a singular fit. There are a number of recommended approaches to address singular fits (see `?isSingular`) if the model fit with our real data also has a singular fit.\n",
    "\n",
    "For consistency, the following proposed alternative approaches mirror the steps we followed in a previously published project from our laboratory that also required complex mixed-effects modeling ([Schultz et al., 2022](https://psycnet.apa.org/record/2022-10249-001)). These steps are available in our open-access, annotated analysis scripts (e.g., [this script](https://osf.io/k8gfc)).\n",
    "\n",
    "1.  Use a partially Bayesian method that uses regularizing priors to force the estimated random effects variance-covariance matrices away from singularity ([Chung et al., 2013](https://link.springer.com/article/10.1007/s11336-013-9328-2), `blme` package). We would use the `\"nlminbwrap\"` optimizer because `\"bobyqa\"` produced a singular fit."
   ],
   "id": "15b9d4f7-0b07-4450-b80a-6faa8a18246a"
  },
  {
   "cell_type": "code",
   "execution_count": null,
   "metadata": {},
   "outputs": [],
   "source": [
    "model_2 <- blme::bglmer(outcome_rct_num ~ tx_match * week_log + (1 + week_log | subid),\n",
    "                        data = d_shuf,\n",
    "                        family = binomial(link = \"logit\"),\n",
    "                        control = glmerControl(optCtrl = list(maxfun = 3e6)))\n"
   ],
   "id": "24af1e55-801f-4f34-8e5f-7370933842b0"
  },
  {
   "cell_type": "markdown",
   "metadata": {},
   "source": [
    "1.  Use a simpler random effects structure to address problems with singular fits. Following this strategy, we would fit a model with only the random intercept."
   ],
   "id": "68e8ad47-98bd-47cb-8ef8-8ef3627b4d7b"
  },
  {
   "cell_type": "code",
   "execution_count": null,
   "metadata": {},
   "outputs": [],
   "source": [
    "model_3 <- lme4::glmer(outcome_rct_num ~ tx_match * week + (1 | subid),\n",
    "                       data = d_shuf,\n",
    "                       family = binomial(link = \"logit\"),\n",
    "                       control = glmerControl(optimizer = \"bobyqa\",\n",
    "                                              optCtrl = list(maxfun = 3e6)))\n"
   ],
   "id": "dabd7eeb-b3ac-4465-8a82-ceff719fce49"
  },
  {
   "cell_type": "markdown",
   "metadata": {},
   "source": [
    "1.  Re-fit the glmer model with the full random effects structure across all available optimizers and review for consistency of log-likelihood ratios, fixed effects, and test statistics of focal effect across optimizers."
   ],
   "id": "8ead9204-ba8b-45c5-9223-675033b42cff"
  },
  {
   "cell_type": "code",
   "execution_count": null,
   "metadata": {},
   "outputs": [],
   "source": [
    "opts <- tibble(optimizer = c(\"bobyqa\", \"Nelder_Mead\", \"nlminbwrap\", \n",
    "                             \"nmkbw\", \"optimx\", \"nloptwrap\", \"nloptwrap\"),\n",
    "               method = c(\"\", \"\", \"\", \"\", \"L-BFGS-B\", \n",
    "                          \"NLOPT_LN_NELDERMEAD\", \"NLOPT_LN_BOBYQA\")) %>% \n",
    "  as.data.frame()\n",
    "\n",
    "model_all <- allFit(model_1, verbose = FALSE, meth.tab = opts)\n"
   ],
   "id": "85f6ec03-57aa-4c4f-8d32-d995f29999bd"
  },
  {
   "cell_type": "code",
   "execution_count": null,
   "metadata": {},
   "outputs": [],
   "source": [
    "\n",
    "# Review warning/error messages across remaining optimizers\n",
    "effects <- tidy_opts(model_all, terms = \"tx_rankbest_v_other\")\n",
    "opt_names <- names(effects$msg)\n",
    "effects$msg |> \n",
    "  map2_dfr(opt_names, extract_opts_msgs)\n",
    "\n",
    "# confirm that log-likelihood ratios are equivalent across optimizers\n",
    "effects |> \n",
    "  filter(term == \"model\") |> \n",
    "  select(optimizer, llik)\n",
    "\n",
    "# Confirm fixed effects & test stats are equivalent across optimizers for our focal effect (best treatment vs. other)\n",
    "effects |> \n",
    "  filter(term == \"tx_rankbest_v_other\") |> \n",
    "  select(-msg, -llik)\n"
   ],
   "id": "b0163e83-c317-4ded-be27-eea58bad99ac"
  },
  {
   "cell_type": "markdown",
   "metadata": {},
   "source": [
    "### Follow-up analyses: Simple Effects\n",
    "\n",
    "If either interaction for our secondary outcomes (best vs. other treatment rank contrast X both time contrasts) is significant (*p* \\< 0.05), we will conduct follow-up analyses to test the simple effect of the best vs. other treatment rank contrast at each time point.\n",
    "\n",
    "Simple effect at 4 weeks"
   ],
   "id": "6ee4e4cf-2e87-43c7-b78b-f97d3936bd6a"
  },
  {
   "cell_type": "code",
   "execution_count": null,
   "metadata": {},
   "outputs": [],
   "source": [
    "d_4_shuf <- d_shuf |> \n",
    "  filter(week == \"wk4\")\n",
    "\n",
    "model_4wk <- glm(outcome_rct_num ~ tx_match, \n",
    "                 data = d_4_shuf,\n",
    "                 family = binomial(link = \"logit\"))\n",
    "\n",
    "summary(model_4wk)\n"
   ],
   "id": "30c0db90-65c9-48a1-abc4-84b6f258b49e"
  },
  {
   "cell_type": "markdown",
   "metadata": {},
   "source": [
    "Simple effect at 12 weeks"
   ],
   "id": "31db4ddd-636a-4a58-a1b0-041c56d34318"
  },
  {
   "cell_type": "code",
   "execution_count": null,
   "metadata": {},
   "outputs": [],
   "source": [
    "d_12_shuf <- d_shuf |> \n",
    "  filter(week == \"wk12\")\n",
    "\n",
    "model_12wk <- glm(outcome_rct_num ~ tx_match, \n",
    "                  data = d_12_shuf,\n",
    "                  family = binomial(link = \"logit\"))\n",
    "\n",
    "summary(model_12wk)\n"
   ],
   "id": "8c213be7-02c1-410d-8c0a-e8d9eb649ae3"
  },
  {
   "cell_type": "markdown",
   "metadata": {},
   "source": [
    "Simple effect at 26 weeks"
   ],
   "id": "e99d15e4-2dc3-46b5-aec9-ecf3b2d3b62a"
  },
  {
   "cell_type": "code",
   "execution_count": null,
   "metadata": {},
   "outputs": [],
   "source": [
    "d_26_shuf <- d_shuf |> \n",
    "  filter(week == \"wk26\")\n",
    "\n",
    "model_26wk <- glm(outcome_rct_num ~ tx_match, \n",
    "                  data = d_26_shuf,\n",
    "                  family = binomial(link = \"logit\"))\n",
    "\n",
    "summary(model_26wk)\n"
   ],
   "id": "278a0655-da4d-4bd9-bd04-60b52d494b26"
  }
 ],
 "nbformat": 4,
 "nbformat_minor": 5,
 "metadata": {}
}
